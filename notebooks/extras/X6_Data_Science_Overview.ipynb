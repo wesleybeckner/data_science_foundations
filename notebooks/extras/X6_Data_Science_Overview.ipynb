{
 "cells": [
  {
   "cell_type": "markdown",
   "metadata": {
    "id": "sl4y2JiLTzYT"
   },
   "source": [
    "# Technology Innovation 510\n",
    "## Introduction to Data Science Methods: Data Science and Visualization\n",
    "\n",
    "**Instructor**: Wesley Beckner\n",
    "\n",
    "**Contact**: wesleybeckner@gmail.com\n",
    "\n",
    "<br>\n",
    "\n",
    "---\n",
    "\n",
    "<br>\n",
    "\n",
    "Today, we'll be continuing our discussion of AI/DS/ML with our part II: Data Science (and a focus in Visualization)🎉\n",
    "\n",
    "<br>\n",
    "\n",
    "---"
   ]
  },
  {
   "cell_type": "markdown",
   "metadata": {
    "id": "rnWtOjUQiqih"
   },
   "source": [
    "# Preparing Notebook for Demos"
   ]
  },
  {
   "cell_type": "markdown",
   "metadata": {
    "id": "5OepOcSli8at"
   },
   "source": [
    "## Importing Packages\n",
    "\n",
    "Once we have our packages installed, we need to import them. We can also import packages that are pre-installed in the Colab environment."
   ]
  },
  {
   "cell_type": "code",
   "execution_count": null,
   "metadata": {
    "id": "Hm_Z7duTp_d8"
   },
   "outputs": [],
   "source": [
    "import numpy as np\n",
    "import random\n",
    "import pandas as pd\n",
    "import matplotlib.pyplot as plt\n",
    "from sklearn.linear_model import LinearRegression\n",
    "import seaborn as sns\n",
    "pd.options.display.max_rows = 999\n",
    "pd.set_option('display.max_colwidth', None)\n",
    "sns.set()"
   ]
  },
  {
   "cell_type": "markdown",
   "metadata": {
    "id": "1obzmHRDjY4j"
   },
   "source": [
    "## Importing Data\n",
    "\n",
    "We also have the ability to import data, and use it elsewhere in the notebook 📝!"
   ]
  },
  {
   "cell_type": "code",
   "execution_count": null,
   "metadata": {
    "colab": {
     "base_uri": "https://localhost:8080/"
    },
    "id": "cKAUwmT6-vJr",
    "outputId": "cd878bfc-d973-4802-b41d-573aae4bb427"
   },
   "outputs": [
    {
     "name": "stderr",
     "output_type": "stream",
     "text": [
      "/usr/local/lib/python3.7/dist-packages/IPython/core/interactiveshell.py:2718: DtypeWarning: Columns (3) have mixed types.Specify dtype option on import or set low_memory=False.\n",
      "  interactivity=interactivity, compiler=compiler, result=result)\n"
     ]
    }
   ],
   "source": [
    "df = pd.read_csv(\"https://raw.githubusercontent.com/wesleybeckner/\"\\\n",
    "  \"technology_explorers/main/assets/imdb_movies.csv\")\n",
    "\n",
    "# converting years to numbers for easy conditionals\n",
    "df['year'] = pd.to_numeric(df['year'], errors='coerce')"
   ]
  },
  {
   "cell_type": "markdown",
   "metadata": {
    "id": "Xk0ji8ayXRQd"
   },
   "source": [
    "## 📊 What is Data Science?"
   ]
  },
  {
   "cell_type": "markdown",
   "metadata": {
    "id": "lHZCU3BXo77Q"
   },
   "source": [
    "### The Emergence of Data Science\n",
    "\n",
    "Data Science is a broad field, and depending on who you talk to, it can mean different things. In summary, many independent scientific fields began accumulating large amounts of data. At the UW in particular, these were dominated by the astronomy and oceanography departments. Folks began to realize that they needed a particular set of tools to handle large amounts of data. This culminated in the [eScience studio](https://escience.washington.edu/), which began to service the data needs of many departments on campus.\n",
    "\n",
    "Today, data science not only has to do with large amounts of data, but refers generally to tools that allow us to work with a variety of data types. Because of this, machine learning is a tool within data science. But there are other tools apart from machine learning that make up the data science ecosystem. Some of them are:\n",
    "\n",
    "* data visualization\n",
    "* databases \n",
    "* statistics\n",
    "\n",
    "You could argue for others as well (algorithms, web servers, programming, etc.), but these are the formally accepted areas. We can borrow from Drew Conway's Data Science Venn Diagram, first published on his blog in September 2010, to make further sense of this:\n",
    "\n",
    "<p align=\"center\">\n",
    "<img src=\"https://jakevdp.github.io/PythonDataScienceHandbook/figures/Data_Science_VD.png\"></img>"
   ]
  },
  {
   "cell_type": "markdown",
   "metadata": {
    "id": "OCkrbfnuYHiE"
   },
   "source": [
    "#### 💭 1\n",
    "\n",
    "Let's see if we can converge on a definition of Data Science. Talk to your neighbor, convene together, then let's share. Do this at 2 different levels:\n",
    "\n",
    "How would you explain Data Science to:\n",
    "1. your grandmother\n",
    "2. a young professional\n",
    "\n",
    "You may find these articles useful:\n",
    "\n",
    "* from Oracle\n",
    "    * [A business pov on DS](https://www.oracle.com/data-science/what-is-data-science/)\n",
    "\n",
    "    * [An implementation pov on DS](https://www.oracle.com/a/ocom/docs/data-science-lifecycle-ebook.pdf)\n",
    "\n",
    "* a more technical *cough* better *cough* discussion on DS from Software Carpentry:\n",
    "    * [A research pov on DS](https://software-carpentry.org/blog/2017/12/assessing-data-science.html)\n",
    "    * [The minues from that meeting](https://github.com/carpentries/assessment/blob/main/assessment-network/minutes/2017-11-15.md)"
   ]
  },
  {
   "cell_type": "markdown",
   "metadata": {
    "id": "-pCx4S8fowgd"
   },
   "source": [
    "#### 💬 1\n",
    "\n",
    "I'll write these down, let's see if we can all agree on a precise definition"
   ]
  },
  {
   "cell_type": "markdown",
   "metadata": {
    "id": "xXiohvhyPwBa"
   },
   "source": [
    "### Saying Stuff About Data (Statistics)\n",
    "\n",
    "When we're talking about statistics, we're really talking about data story telling. Statistics is at the C O R E of data science, really. Without a basic knowledge of statistics it'll be hard for you to construct your data narratives and have them hold water. \n",
    "\n",
    "Let's start with some simple examples of data story telling, and use these to generate our own thoughts on the matter."
   ]
  },
  {
   "cell_type": "markdown",
   "metadata": {
    "id": "cdtDxSaPQHzO"
   },
   "source": [
    "#### Anscombe's Quartet\n",
    "\n",
    "There's a very famous anomaly in DS caled Anscombe's quartet. Observe the following data\n",
    "\n",
    "<p align=center>\n",
    "<img src=\"https://raw.githubusercontent.com/wesleybeckner/technology_explorers/main/assets/data_science/ds1.png\"></img>\n",
    "\n",
    "We can construct this in python and confirm the summary statistics ourselves"
   ]
  },
  {
   "cell_type": "code",
   "execution_count": null,
   "metadata": {
    "colab": {
     "base_uri": "https://localhost:8080/",
     "height": 423
    },
    "id": "0VPpRKIoQu-e",
    "outputId": "8558a1c8-d6e2-41d3-8876-83c83b217d99"
   },
   "outputs": [
    {
     "data": {
      "text/html": [
       "<div>\n",
       "<style scoped>\n",
       "    .dataframe tbody tr th:only-of-type {\n",
       "        vertical-align: middle;\n",
       "    }\n",
       "\n",
       "    .dataframe tbody tr th {\n",
       "        vertical-align: top;\n",
       "    }\n",
       "\n",
       "    .dataframe thead tr th {\n",
       "        text-align: left;\n",
       "    }\n",
       "</style>\n",
       "<table border=\"1\" class=\"dataframe\">\n",
       "  <thead>\n",
       "    <tr>\n",
       "      <th></th>\n",
       "      <th colspan=\"2\" halign=\"left\">I</th>\n",
       "      <th colspan=\"2\" halign=\"left\">II</th>\n",
       "      <th colspan=\"2\" halign=\"left\">III</th>\n",
       "      <th colspan=\"2\" halign=\"left\">IV</th>\n",
       "    </tr>\n",
       "    <tr>\n",
       "      <th></th>\n",
       "      <th>X</th>\n",
       "      <th>Y</th>\n",
       "      <th>X</th>\n",
       "      <th>Y</th>\n",
       "      <th>X</th>\n",
       "      <th>Y</th>\n",
       "      <th>X</th>\n",
       "      <th>Y</th>\n",
       "    </tr>\n",
       "  </thead>\n",
       "  <tbody>\n",
       "    <tr>\n",
       "      <th>0</th>\n",
       "      <td>10</td>\n",
       "      <td>8.04</td>\n",
       "      <td>10</td>\n",
       "      <td>9.14</td>\n",
       "      <td>10</td>\n",
       "      <td>7.46</td>\n",
       "      <td>8</td>\n",
       "      <td>6.58</td>\n",
       "    </tr>\n",
       "    <tr>\n",
       "      <th>1</th>\n",
       "      <td>8</td>\n",
       "      <td>6.95</td>\n",
       "      <td>8</td>\n",
       "      <td>8.14</td>\n",
       "      <td>8</td>\n",
       "      <td>6.77</td>\n",
       "      <td>8</td>\n",
       "      <td>5.76</td>\n",
       "    </tr>\n",
       "    <tr>\n",
       "      <th>2</th>\n",
       "      <td>13</td>\n",
       "      <td>7.58</td>\n",
       "      <td>13</td>\n",
       "      <td>8.74</td>\n",
       "      <td>13</td>\n",
       "      <td>12.74</td>\n",
       "      <td>8</td>\n",
       "      <td>7.71</td>\n",
       "    </tr>\n",
       "    <tr>\n",
       "      <th>3</th>\n",
       "      <td>9</td>\n",
       "      <td>8.81</td>\n",
       "      <td>9</td>\n",
       "      <td>8.77</td>\n",
       "      <td>9</td>\n",
       "      <td>7.11</td>\n",
       "      <td>8</td>\n",
       "      <td>8.84</td>\n",
       "    </tr>\n",
       "    <tr>\n",
       "      <th>4</th>\n",
       "      <td>11</td>\n",
       "      <td>8.33</td>\n",
       "      <td>11</td>\n",
       "      <td>9.26</td>\n",
       "      <td>11</td>\n",
       "      <td>7.81</td>\n",
       "      <td>8</td>\n",
       "      <td>8.47</td>\n",
       "    </tr>\n",
       "    <tr>\n",
       "      <th>5</th>\n",
       "      <td>14</td>\n",
       "      <td>9.96</td>\n",
       "      <td>14</td>\n",
       "      <td>8.10</td>\n",
       "      <td>14</td>\n",
       "      <td>8.84</td>\n",
       "      <td>8</td>\n",
       "      <td>7.04</td>\n",
       "    </tr>\n",
       "    <tr>\n",
       "      <th>6</th>\n",
       "      <td>6</td>\n",
       "      <td>7.24</td>\n",
       "      <td>6</td>\n",
       "      <td>6.13</td>\n",
       "      <td>6</td>\n",
       "      <td>6.08</td>\n",
       "      <td>8</td>\n",
       "      <td>5.25</td>\n",
       "    </tr>\n",
       "    <tr>\n",
       "      <th>7</th>\n",
       "      <td>4</td>\n",
       "      <td>4.26</td>\n",
       "      <td>4</td>\n",
       "      <td>3.10</td>\n",
       "      <td>4</td>\n",
       "      <td>5.39</td>\n",
       "      <td>19</td>\n",
       "      <td>12.50</td>\n",
       "    </tr>\n",
       "    <tr>\n",
       "      <th>8</th>\n",
       "      <td>12</td>\n",
       "      <td>10.84</td>\n",
       "      <td>12</td>\n",
       "      <td>9.13</td>\n",
       "      <td>12</td>\n",
       "      <td>8.15</td>\n",
       "      <td>8</td>\n",
       "      <td>5.56</td>\n",
       "    </tr>\n",
       "    <tr>\n",
       "      <th>9</th>\n",
       "      <td>7</td>\n",
       "      <td>4.82</td>\n",
       "      <td>7</td>\n",
       "      <td>7.26</td>\n",
       "      <td>7</td>\n",
       "      <td>6.42</td>\n",
       "      <td>8</td>\n",
       "      <td>7.91</td>\n",
       "    </tr>\n",
       "    <tr>\n",
       "      <th>10</th>\n",
       "      <td>5</td>\n",
       "      <td>5.68</td>\n",
       "      <td>5</td>\n",
       "      <td>4.74</td>\n",
       "      <td>5</td>\n",
       "      <td>5.73</td>\n",
       "      <td>8</td>\n",
       "      <td>6.89</td>\n",
       "    </tr>\n",
       "  </tbody>\n",
       "</table>\n",
       "</div>"
      ],
      "text/plain": [
       "     I         II       III         IV       \n",
       "     X      Y   X     Y   X      Y   X      Y\n",
       "0   10   8.04  10  9.14  10   7.46   8   6.58\n",
       "1    8   6.95   8  8.14   8   6.77   8   5.76\n",
       "2   13   7.58  13  8.74  13  12.74   8   7.71\n",
       "3    9   8.81   9  8.77   9   7.11   8   8.84\n",
       "4   11   8.33  11  9.26  11   7.81   8   8.47\n",
       "5   14   9.96  14  8.10  14   8.84   8   7.04\n",
       "6    6   7.24   6  6.13   6   6.08   8   5.25\n",
       "7    4   4.26   4  3.10   4   5.39  19  12.50\n",
       "8   12  10.84  12  9.13  12   8.15   8   5.56\n",
       "9    7   4.82   7  7.26   7   6.42   8   7.91\n",
       "10   5   5.68   5  4.74   5   5.73   8   6.89"
      ]
     },
     "execution_count": 3,
     "metadata": {},
     "output_type": "execute_result"
    }
   ],
   "source": [
    "df = pd.read_excel(\"https://github.com/wesleybeckner/technology_explorers/blob\"\\\n",
    "                   \"/main/assets/data_science/anscombes.xlsx?raw=true\",\n",
    "              header=[0,1])\n",
    "df"
   ]
  },
  {
   "cell_type": "markdown",
   "metadata": {
    "id": "OZkzcLcUSziz"
   },
   "source": [
    "We can calculate the mean/variance of X and Y for samples I, II, III, and IV"
   ]
  },
  {
   "cell_type": "code",
   "execution_count": null,
   "metadata": {
    "colab": {
     "base_uri": "https://localhost:8080/"
    },
    "id": "2zU2fCOVSr2W",
    "outputId": "2d407e5c-2ceb-488a-83d0-bd927ed4bd45"
   },
   "outputs": [
    {
     "data": {
      "text/plain": [
       "I    X    9.000000\n",
       "     Y    7.500909\n",
       "II   X    9.000000\n",
       "     Y    7.500909\n",
       "III  X    9.000000\n",
       "     Y    7.500000\n",
       "IV   X    9.000000\n",
       "     Y    7.500909\n",
       "dtype: float64"
      ]
     },
     "execution_count": 4,
     "metadata": {},
     "output_type": "execute_result"
    }
   ],
   "source": [
    "df.mean()"
   ]
  },
  {
   "cell_type": "code",
   "execution_count": null,
   "metadata": {
    "colab": {
     "base_uri": "https://localhost:8080/"
    },
    "id": "mcB8XuNhS8ID",
    "outputId": "8a7651e5-fe9c-4a42-fbe8-8dab4fac36f8"
   },
   "outputs": [
    {
     "data": {
      "text/plain": [
       "I    X    11.000000\n",
       "     Y     4.127269\n",
       "II   X    11.000000\n",
       "     Y     4.127629\n",
       "III  X    11.000000\n",
       "     Y     4.122620\n",
       "IV   X    11.000000\n",
       "     Y     4.123249\n",
       "dtype: float64"
      ]
     },
     "execution_count": 5,
     "metadata": {},
     "output_type": "execute_result"
    }
   ],
   "source": [
    "# do we remember the relationship between standard deviation and variance?\n",
    "df.std()**2"
   ]
  },
  {
   "cell_type": "markdown",
   "metadata": {
    "id": "Aj-AiqCBW5zi"
   },
   "source": [
    "For the line of best fit, recall the equation for a linear relationship between x and y:\n",
    "\n",
    "$$y(x)= m\\cdot x + b$$ "
   ]
  },
  {
   "cell_type": "code",
   "execution_count": null,
   "metadata": {
    "colab": {
     "base_uri": "https://localhost:8080/"
    },
    "id": "bNkEyZcrT4Gc",
    "outputId": "f80dc71c-9f40-413b-f337-22e10ee12a83"
   },
   "outputs": [
    {
     "name": "stdout",
     "output_type": "stream",
     "text": [
      "Linear Regression Line: Y = 0.50X + 3.00\n",
      "Linear Regression Line: Y = 0.50X + 3.00\n",
      "Linear Regression Line: Y = 0.50X + 3.00\n",
      "Linear Regression Line: Y = 0.50X + 3.00\n"
     ]
    }
   ],
   "source": [
    "model = LinearRegression()\n",
    "sets = ['I', 'II', 'III', 'IV']\n",
    "for data in sets:\n",
    "  model.fit(df[data]['X'].values.reshape(11,1),\n",
    "            df[data]['Y'])\n",
    "  print(\"Linear Regression Line: Y = {:.2f}X + {:.2f}\".format(model.coef_[0], model.intercept_))"
   ]
  },
  {
   "cell_type": "markdown",
   "metadata": {
    "id": "L741u6hwX7KL"
   },
   "source": [
    "$R^2$ measures the goodness of fit. $R^2$ is generally defined as the ratio of the total sum of squares $SS_{\\sf tot} $ to the residual sum of squares $SS_{\\sf res} $:\n",
    "\n",
    "The Residual Sum of Squares is defined as:\n",
    "\n",
    "$$SS_{\\sf res}=\\sum_{i=1}^{N} \\left(y^{\\sf exact}_i - y^{\\sf calc}_i\\right)^2$$\n",
    "\n",
    "We now define the total sum of squares, a measure of the total variance in the data:\n",
    "\n",
    "$$SS_{\\sf tot}=\\sum_{i=1}^{N} \\left(y^{\\sf exact}_i-\\bar{y}\\right)^2$$\n",
    "\n",
    "The $R^2$ tells us how much of the variance of the data, is captured by the model we created:\n",
    "\n",
    "$$R^2 = 1 - {SS_{\\sf res}\\over SS_{\\sf tot}}$$\n",
    "\n",
    "In the first equation, $\\bar{y}=\\sum_i y^{\\sf exact}_i/N$ is the average value of y for $N$ points. The best value of $R^2$ is 1 but it can also take a negative value if the error is large."
   ]
  },
  {
   "cell_type": "code",
   "execution_count": null,
   "metadata": {
    "colab": {
     "base_uri": "https://localhost:8080/"
    },
    "id": "sVQboxuSaFT1",
    "outputId": "c9f77ef0-c471-4472-f733-60143be473a3"
   },
   "outputs": [
    {
     "name": "stdout",
     "output_type": "stream",
     "text": [
      "R2 = 0.67\n",
      "R2 = 0.67\n",
      "R2 = 0.67\n",
      "R2 = 0.67\n"
     ]
    }
   ],
   "source": [
    "for data in sets:\n",
    "  # calc the ssr\n",
    "  ssr = np.sum((df[data]['Y'] - \n",
    "                model.predict(df[data]['X'].values.reshape(-1,1)))**2)\n",
    "\n",
    "  # calc the sst\n",
    "  sst = np.sum((df[data]['Y'] - \n",
    "                df[data]['Y'].mean())**2)\n",
    "\n",
    "  # calc the r2\n",
    "  r2 = 1 - (ssr/sst)\n",
    "  print(\"R2 = {:.2f}\".format(r2))"
   ]
  },
  {
   "cell_type": "markdown",
   "metadata": {
    "id": "KafBcwpNdSEw"
   },
   "source": [
    "As we can see, everything checks out. The summary statistics are all the same!\n",
    "\n",
    "Can we answer the following:\n",
    "\n",
    "> What dataset is best described by the line of best fit?\n",
    "\n",
    "We will revisit this question when we talk about data visualization"
   ]
  },
  {
   "cell_type": "markdown",
   "metadata": {
    "id": "JmVKaUHeQNTJ"
   },
   "source": [
    "#### Taxonomy of Data Types\n",
    "\n",
    "Another important topic in data science, is simply what kind of data we are working with. This will help us decide what kind of models to build, as well as how to visualize our data, and perhaps store it as well.\n",
    "\n",
    "<p align=center>\n",
    "<img src=\"https://raw.githubusercontent.com/wesleybeckner/technology_explorers/main/assets/data_science/ds2.png\"></img>"
   ]
  },
  {
   "cell_type": "markdown",
   "metadata": {
    "id": "sJ8lgxbVfHRv"
   },
   "source": [
    "#### 💬 2\n",
    "\n",
    "What are some examples of the different datatypes we can think of?"
   ]
  },
  {
   "cell_type": "markdown",
   "metadata": {
    "id": "SQhxLuHuq2Sm"
   },
   "source": [
    "### Data Visualization\n",
    "\n",
    "Data visualization, like it sounds, has to do with how we display and communicate information. At the end of the day, your findings and algorithms aren't worth very much if we can't share them with others. One of the leading thinkers in the visual display of information is Edward Tufte\n",
    "* [Tufte's Principles](https://thedoublethink.com/tuftes-principles-for-visualizing-quantitative-information/)\n",
    "* [Data-ink](https://infovis-wiki.net/wiki/Data-Ink_Ratio)\n",
    "* [Wiki](https://en.wikipedia.org/wiki/Edward_Tufte)"
   ]
  },
  {
   "cell_type": "markdown",
   "metadata": {
    "id": "p9VXfFAJRECE"
   },
   "source": [
    "#### Guiding Principles of Data Visualization\n",
    "\n",
    "<p align=center>\n",
    "<img src=\"https://raw.githubusercontent.com/wesleybeckner/technology_explorers/main/assets/data_science/ds3.png\"></img>\n",
    "\n",
    "<p align=center>\n",
    "<img src=\"https://raw.githubusercontent.com/wesleybeckner/technology_explorers/main/assets/data_science/ds9.gif\"></img>"
   ]
  },
  {
   "cell_type": "markdown",
   "metadata": {
    "id": "saUzXulrZcSJ"
   },
   "source": [
    "Another topic Tufte discusses is Data Density. Apart from ink, we should also consider the entire area dedicated to the graphic. That area should be as condensed as possible without removing ledgibility/readability."
   ]
  },
  {
   "cell_type": "markdown",
   "metadata": {
    "id": "7SNbgmyL9mS9"
   },
   "source": [
    "\n",
    "<p align=center>\n",
    "<img src=\"https://raw.githubusercontent.com/wesleybeckner/technology_explorers/main/assets/data_science/ds7.png\"></img>"
   ]
  },
  {
   "cell_type": "markdown",
   "metadata": {
    "id": "Ohf7faMgoPGV"
   },
   "source": [
    "wattenberg and Viegas visualization"
   ]
  },
  {
   "cell_type": "code",
   "execution_count": null,
   "metadata": {
    "colab": {
     "base_uri": "https://localhost:8080/",
     "height": 601
    },
    "id": "k_cE3KyG8xL9",
    "outputId": "3760b5ea-1e81-4d52-bc9f-a48dfa1326a2"
   },
   "outputs": [
    {
     "data": {
      "text/html": [
       "<video width=\"640\" height=\"580\" controls>\n",
       "  <source src=\"https://github.com/wesleybeckner/technology_explorers/blob/main/assets/data_science/ds4.mp4?raw=true\" type=\"video/mp4\">\n",
       "</video>"
      ],
      "text/plain": [
       "<IPython.core.display.HTML object>"
      ]
     },
     "metadata": {},
     "output_type": "display_data"
    }
   ],
   "source": [
    "%%HTML\n",
    "<video width=\"640\" height=\"580\" controls>\n",
    "  <source src=\"https://github.com/wesleybeckner/technology_explorers/blob/main/assets/data_science/ds4.mp4?raw=true\" type=\"video/mp4\">\n",
    "</video>"
   ]
  },
  {
   "cell_type": "markdown",
   "metadata": {
    "id": "2YGmBTH09SEm"
   },
   "source": [
    "<p align=center>\n",
    "<img src=\"https://raw.githubusercontent.com/wesleybeckner/technology_explorers/main/assets/data_science/ds6.png\"></img>\n",
    "\n",
    "<p align=center>\n",
    "<img src=\"https://raw.githubusercontent.com/wesleybeckner/technology_explorers/main/assets/data_science/ds4.png\"></img>\n",
    "\n",
    "<p align=center>\n",
    "<img src=\"https://raw.githubusercontent.com/wesleybeckner/technology_explorers/main/assets/data_science/ds5.png\"></img>\n"
   ]
  },
  {
   "cell_type": "markdown",
   "metadata": {
    "id": "j2wDY6e2b3r9"
   },
   "source": [
    "[Color blindness](https://www.colourblindawareness.org/colour-blindness/) is prevalent, and something we should consider when choosing colors in our visual displays"
   ]
  },
  {
   "cell_type": "markdown",
   "metadata": {
    "id": "s19JCPvs7_Zi"
   },
   "source": [
    "<p align=center>\n",
    "<img src=\"https://raw.githubusercontent.com/wesleybeckner/technology_explorers/main/assets/data_science/ds8.png\"></img>\n"
   ]
  },
  {
   "cell_type": "markdown",
   "metadata": {
    "id": "tdF_-Hv28DtJ"
   },
   "source": [
    "<p align=center>\n",
    "<img src=\"https://raw.githubusercontent.com/wesleybeckner/technology_explorers/main/assets/data_science/ds9.png\"></img>\n",
    "\n",
    "<p align=center>\n",
    "<img src=\"https://raw.githubusercontent.com/wesleybeckner/technology_explorers/main/assets/data_science/ds10.png\"></img>\n",
    "\n",
    "\n",
    "<p align=center>\n",
    "<img src=\"https://raw.githubusercontent.com/wesleybeckner/technology_explorers/main/assets/data_science/ds11.png\"></img>\n",
    "\n",
    "<p align=center>\n",
    "<img src=\"https://raw.githubusercontent.com/wesleybeckner/technology_explorers/main/assets/data_science/ds12.png\"></img>\n",
    "\n",
    "<p align=center>\n",
    "<img src=\"https://raw.githubusercontent.com/wesleybeckner/technology_explorers/main/assets/data_science/ds13.png\"></img>\n",
    "\n",
    "<p align=center>\n",
    "<img src=\"https://raw.githubusercontent.com/wesleybeckner/technology_explorers/main/assets/data_science/ds14.jpg\"></img>"
   ]
  },
  {
   "cell_type": "markdown",
   "metadata": {
    "id": "D_06zMGURIr7"
   },
   "source": [
    "#### Visualization Un-Examples"
   ]
  },
  {
   "cell_type": "markdown",
   "metadata": {
    "id": "5NVGz4Eq9e6l"
   },
   "source": [
    "**Unexample 1**\n",
    "\n",
    "<p align=center>\n",
    "<img src=\"https://raw.githubusercontent.com/wesleybeckner/technology_explorers/main/assets/data_science/ds15.jpg\"></img>\n",
    "\n",
    "**Unexample 2**\n",
    "\n",
    "<p align=center>\n",
    "<img src=\"https://raw.githubusercontent.com/wesleybeckner/technology_explorers/main/assets/data_science/ds19.png\"></img>\n",
    "\n",
    "**Unexample 3**\n",
    "\n",
    "<p align=center>\n",
    "<img src=\"https://raw.githubusercontent.com/wesleybeckner/technology_explorers/main/assets/data_science/ds17.png\"></img>\n",
    "\n",
    "**Unexample 4**\n",
    "\n",
    "<p align=center>\n",
    "<img src=\"https://raw.githubusercontent.com/wesleybeckner/technology_explorers/main/assets/data_science/ds18.png\"></img>"
   ]
  },
  {
   "cell_type": "markdown",
   "metadata": {
    "id": "V5qKejgaiA2a"
   },
   "source": [
    "#### 💭 3\n",
    "\n",
    "Find an example of an interactive data visualization online. Here's one I [found](https://www.migrationpolicy.org/programs/data-hub/charts/us-immigrant-population-state-and-county) that I though was quite interesting!"
   ]
  },
  {
   "cell_type": "markdown",
   "metadata": {
    "id": "APz-Xw47quIL"
   },
   "source": [
    "#### 💬 3\n",
    "\n",
    "Swap visualization links with your neighbor. What do you think could be improved about each one?"
   ]
  },
  {
   "cell_type": "markdown",
   "metadata": {
    "id": "5AAGojcF-qSK"
   },
   "source": [
    "#### Back to Anscombe's Quartet\n",
    "\n",
    "<p align=center>\n",
    "<img src=\"https://raw.githubusercontent.com/wesleybeckner/technology_explorers/main/assets/data_science/ds20.png\"></img>"
   ]
  },
  {
   "cell_type": "markdown",
   "metadata": {
    "id": "E9eca3viqsug"
   },
   "source": [
    "### Revisiting our A.I. movie data\n",
    "\n",
    "Let's revisit our imdb dataset from last week."
   ]
  },
  {
   "cell_type": "code",
   "execution_count": null,
   "metadata": {
    "colab": {
     "base_uri": "https://localhost:8080/",
     "height": 481
    },
    "id": "PSQhDPZYqxFR",
    "outputId": "53ca635b-2106-427b-afb1-e8da04527b5a"
   },
   "outputs": [
    {
     "data": {
      "text/html": [
       "<div>\n",
       "<style scoped>\n",
       "    .dataframe tbody tr th:only-of-type {\n",
       "        vertical-align: middle;\n",
       "    }\n",
       "\n",
       "    .dataframe tbody tr th {\n",
       "        vertical-align: top;\n",
       "    }\n",
       "\n",
       "    .dataframe thead th {\n",
       "        text-align: right;\n",
       "    }\n",
       "</style>\n",
       "<table border=\"1\" class=\"dataframe\">\n",
       "  <thead>\n",
       "    <tr style=\"text-align: right;\">\n",
       "      <th></th>\n",
       "      <th>original_title</th>\n",
       "      <th>year</th>\n",
       "      <th>description</th>\n",
       "    </tr>\n",
       "  </thead>\n",
       "  <tbody>\n",
       "    <tr>\n",
       "      <th>1683</th>\n",
       "      <td>Son of a Sailor</td>\n",
       "      <td>1933.0</td>\n",
       "      <td>A smooth-talking sailor looking for a quick date meets the granddaughter of an admiral and finds himself in a house full of top Navy officers, along with a couple of spies interested in plans for a new robot-controlled flight system.</td>\n",
       "    </tr>\n",
       "    <tr>\n",
       "      <th>3339</th>\n",
       "      <td>The Middleton Family at the New York World's Fair</td>\n",
       "      <td>1939.0</td>\n",
       "      <td>The Middleton family visits the 1939 New York World's Fair and witnesses the advent of the future, encountering robots and dishwashers for the first time.</td>\n",
       "    </tr>\n",
       "    <tr>\n",
       "      <th>3846</th>\n",
       "      <td>Emergency Landing</td>\n",
       "      <td>1941.0</td>\n",
       "      <td>A test pilot and his weather observer develop a \"robot\" control so airplanes can be flown without pilots, but enemy agents get wind of it and try to steal it or destroy it.</td>\n",
       "    </tr>\n",
       "    <tr>\n",
       "      <th>4122</th>\n",
       "      <td>Cairo</td>\n",
       "      <td>1942.0</td>\n",
       "      <td>Reporter Homer Smith accidentally draws Marcia Warren into his mission to stop Nazis from bombing Allied Convoys with robot-planes.</td>\n",
       "    </tr>\n",
       "    <tr>\n",
       "      <th>6274</th>\n",
       "      <td>The Perfect Woman</td>\n",
       "      <td>1949.0</td>\n",
       "      <td>In need of cash, Roger Cavendish and his valet take a job escorting the perfect woman for a night on the town. She is in fact the robotic creation of Professor Belman, but it turns out ...</td>\n",
       "    </tr>\n",
       "    <tr>\n",
       "      <th>7936</th>\n",
       "      <td>Devil Girl from Mars</td>\n",
       "      <td>1954.0</td>\n",
       "      <td>An uptight, leather-clad female alien, armed with a ray gun and accompanied by a menacing robot, comes to Earth to collect Earth's men as breeding stock.</td>\n",
       "    </tr>\n",
       "    <tr>\n",
       "      <th>7977</th>\n",
       "      <td>Gog</td>\n",
       "      <td>1954.0</td>\n",
       "      <td>A security agent investigates sabotage and murder at a secret underground laboratory, home of two experimental robots.</td>\n",
       "    </tr>\n",
       "    <tr>\n",
       "      <th>8155</th>\n",
       "      <td>Target Earth</td>\n",
       "      <td>1954.0</td>\n",
       "      <td>Giant robots from Venus invade Chicago. Stranded in the deserted city are strangers Frank and Nora.</td>\n",
       "    </tr>\n",
       "    <tr>\n",
       "      <th>8173</th>\n",
       "      <td>Tobor the Great</td>\n",
       "      <td>1954.0</td>\n",
       "      <td>A young boy-genius befriends his grandfather's robot, designed as a test pilot for space travel and coveted by foreign spies.</td>\n",
       "    </tr>\n",
       "    <tr>\n",
       "      <th>9047</th>\n",
       "      <td>Chikyû Bôeigun</td>\n",
       "      <td>1957.0</td>\n",
       "      <td>Shortly after a giant robot destroys a village, aliens from outer space arrive offering friendship. Will the people of Earth tie these two events together?</td>\n",
       "    </tr>\n",
       "  </tbody>\n",
       "</table>\n",
       "</div>"
      ],
      "text/plain": [
       "                                         original_title  ...                                                                                                                                                                                                                                description\n",
       "1683                                    Son of a Sailor  ...  A smooth-talking sailor looking for a quick date meets the granddaughter of an admiral and finds himself in a house full of top Navy officers, along with a couple of spies interested in plans for a new robot-controlled flight system.\n",
       "3339  The Middleton Family at the New York World's Fair  ...                                                                                 The Middleton family visits the 1939 New York World's Fair and witnesses the advent of the future, encountering robots and dishwashers for the first time.\n",
       "3846                                  Emergency Landing  ...                                                               A test pilot and his weather observer develop a \"robot\" control so airplanes can be flown without pilots, but enemy agents get wind of it and try to steal it or destroy it.\n",
       "4122                                              Cairo  ...                                                                                                        Reporter Homer Smith accidentally draws Marcia Warren into his mission to stop Nazis from bombing Allied Convoys with robot-planes.\n",
       "6274                                  The Perfect Woman  ...                                               In need of cash, Roger Cavendish and his valet take a job escorting the perfect woman for a night on the town. She is in fact the robotic creation of Professor Belman, but it turns out ...\n",
       "7936                               Devil Girl from Mars  ...                                                                                  An uptight, leather-clad female alien, armed with a ray gun and accompanied by a menacing robot, comes to Earth to collect Earth's men as breeding stock.\n",
       "7977                                                Gog  ...                                                                                                                     A security agent investigates sabotage and murder at a secret underground laboratory, home of two experimental robots.\n",
       "8155                                       Target Earth  ...                                                                                                                                        Giant robots from Venus invade Chicago. Stranded in the deserted city are strangers Frank and Nora.\n",
       "8173                                    Tobor the Great  ...                                                                                                              A young boy-genius befriends his grandfather's robot, designed as a test pilot for space travel and coveted by foreign spies.\n",
       "9047                                     Chikyû Bôeigun  ...                                                                                Shortly after a giant robot destroys a village, aliens from outer space arrive offering friendship. Will the people of Earth tie these two events together?\n",
       "\n",
       "[10 rows x 3 columns]"
      ]
     },
     "execution_count": 11,
     "metadata": {},
     "output_type": "execute_result"
    }
   ],
   "source": [
    "df.loc[(df['description'].str.contains('artificial intelligence|a\\.i\\.|robot', \n",
    "                                       na=False))][['original_title', 'year', 'description']][:10]"
   ]
  },
  {
   "cell_type": "markdown",
   "metadata": {
    "id": "zf1GIFq4rPNE"
   },
   "source": [
    "Let's create a visualization that helps answer the question: \n",
    "\n",
    "> What is the popularity of AI movies by year?\""
   ]
  },
  {
   "cell_type": "markdown",
   "metadata": {
    "id": "qGUSb4hdf9t9"
   },
   "source": [
    "#### 💬 4\n",
    "\n",
    "What are some potential issues with the following plot?"
   ]
  },
  {
   "cell_type": "code",
   "execution_count": null,
   "metadata": {
    "id": "L4AUMHrKrOp4"
   },
   "outputs": [],
   "source": [
    "ai_movies = df.loc[(df['description'].str.contains('artificial intelligence|a\\.i\\.|robot', \n",
    "                                       na=False))]"
   ]
  },
  {
   "cell_type": "code",
   "execution_count": null,
   "metadata": {
    "colab": {
     "base_uri": "https://localhost:8080/",
     "height": 303
    },
    "id": "aVSSHkuk_yG-",
    "outputId": "249c293f-467c-4e96-f76c-57d77f9d099c"
   },
   "outputs": [
    {
     "data": {
      "text/plain": [
       "Text(0, 0.5, 'number of movies')"
      ]
     },
     "execution_count": 27,
     "metadata": {},
     "output_type": "execute_result"
    },
    {
     "data": {
      "image/png": "[encoded data removed]",
      "text/plain": [
       "<Figure size 432x288 with 1 Axes>"
      ]
     },
     "metadata": {},
     "output_type": "display_data"
    }
   ],
   "source": [
    "fig, ax = plt.subplots()\n",
    "ai_movies.groupby('year').count()['title'].plot(ls='--', marker='.', ax=ax)\n",
    "ax.set_ylabel('number of movies')"
   ]
  },
  {
   "cell_type": "code",
   "execution_count": null,
   "metadata": {
    "colab": {
     "base_uri": "https://localhost:8080/",
     "height": 357
    },
    "id": "tjLDTiRBrXyJ",
    "outputId": "69cfbe60-3305-469f-ce50-689d032ecf41"
   },
   "outputs": [
    {
     "data": {
      "text/plain": [
       "Text(0, 0.5, 'number of movies')"
      ]
     },
     "execution_count": 12,
     "metadata": {},
     "output_type": "execute_result"
    },
    {
     "data": {
      "image/png": "[encoded data removed]",
      "text/plain": [
       "<Figure size 720x360 with 1 Axes>"
      ]
     },
     "metadata": {},
     "output_type": "display_data"
    }
   ],
   "source": [
    "fig, ax = plt.subplots(figsize=(10,5))\n",
    "ai_movies.groupby('year').count()['imdb_title_id'].plot(marker='.', ax=ax)\n",
    "ax.set_ylabel(\"number of movies\")"
   ]
  },
  {
   "cell_type": "markdown",
   "metadata": {
    "id": "IEfQ7wXOlh_C"
   },
   "source": [
    "It looks like the popularity is increasing, doesn't it? But is that fair to say if we do not consider the total number of movies in the database each year?"
   ]
  },
  {
   "cell_type": "markdown",
   "metadata": {
    "id": "DgbBxgOiuFcl"
   },
   "source": [
    "Let's say we're curious about the year 1986 and what countries contributed to the spike in movies. How would we *filter* for year 1986, then *select* country and perform a count *operation*? Remember the sequence **filter ➡️ Select ➡️ operate**"
   ]
  },
  {
   "cell_type": "code",
   "execution_count": null,
   "metadata": {
    "colab": {
     "base_uri": "https://localhost:8080/"
    },
    "id": "cSeH0ULKBaL-",
    "outputId": "1bac3964-8fb5-425c-c228-d02e402ed254"
   },
   "outputs": [
    {
     "data": {
      "text/plain": [
       "country    6\n",
       "dtype: int64"
      ]
     },
     "execution_count": 47,
     "metadata": {},
     "output_type": "execute_result"
    }
   ],
   "source": [
    "ai_movies.loc[ai_movies['year'] == 1986][['country']].nunique()"
   ]
  },
  {
   "cell_type": "code",
   "execution_count": null,
   "metadata": {
    "colab": {
     "base_uri": "https://localhost:8080/"
    },
    "id": "VQAeF4SEthzs",
    "outputId": "c1200e4f-5133-46e9-ab5a-6fc8c2efd594"
   },
   "outputs": [
    {
     "data": {
      "text/plain": [
       "country             \n",
       "USA                     3\n",
       "Japan                   2\n",
       "USA, Spain              1\n",
       "USA, Japan              1\n",
       "Poland, Soviet Union    1\n",
       "Canada                  1\n",
       "dtype: int64"
      ]
     },
     "execution_count": 19,
     "metadata": {},
     "output_type": "execute_result"
    }
   ],
   "source": [
    "ai_movies.loc[ai_movies['year'] == 1986][['country']].value_counts()"
   ]
  },
  {
   "cell_type": "markdown",
   "metadata": {
    "id": "wC6rIa1AuJS_"
   },
   "source": [
    "Looks like a good year for US-Japan movie making. How can we look into the role of different countries in AI movie making?\n",
    "\n",
    "> in the following, pandas doesn't have the ability to color according to a categorical column, out of the box. So I switch over to seaborn. For more exercises with seaborn visit [JVDP's chapter on the subject](https://jakevdp.github.io/PythonDataScienceHandbook/04.14-visualization-with-seaborn.html)"
   ]
  },
  {
   "cell_type": "code",
   "execution_count": null,
   "metadata": {
    "id": "jzJld7tSDzcq"
   },
   "outputs": [],
   "source": [
    "by_country = ai_movies.groupby(['country']).filter(lambda x: (x.count() >= 5).any()).\\\n",
    "          groupby(['country', 'year']).apply(lambda x: x.count())[['title']].reset_index()"
   ]
  },
  {
   "cell_type": "code",
   "execution_count": null,
   "metadata": {
    "id": "Lx9K1Z0_Eg4n"
   },
   "outputs": [],
   "source": [
    "# ai_movies.groupby(['country']).filter(lambda x: (x.count() >= 5).any())"
   ]
  },
  {
   "cell_type": "code",
   "execution_count": null,
   "metadata": {
    "colab": {
     "base_uri": "https://localhost:8080/",
     "height": 205
    },
    "id": "8O5nAsKWD0OL",
    "outputId": "b9b382de-29fb-4412-9f29-8cff72cc1709"
   },
   "outputs": [
    {
     "data": {
      "text/html": [
       "<div>\n",
       "<style scoped>\n",
       "    .dataframe tbody tr th:only-of-type {\n",
       "        vertical-align: middle;\n",
       "    }\n",
       "\n",
       "    .dataframe tbody tr th {\n",
       "        vertical-align: top;\n",
       "    }\n",
       "\n",
       "    .dataframe thead th {\n",
       "        text-align: right;\n",
       "    }\n",
       "</style>\n",
       "<table border=\"1\" class=\"dataframe\">\n",
       "  <thead>\n",
       "    <tr style=\"text-align: right;\">\n",
       "      <th></th>\n",
       "      <th>country</th>\n",
       "      <th>year</th>\n",
       "      <th>title</th>\n",
       "    </tr>\n",
       "  </thead>\n",
       "  <tbody>\n",
       "    <tr>\n",
       "      <th>0</th>\n",
       "      <td>Canada</td>\n",
       "      <td>1979.0</td>\n",
       "      <td>1</td>\n",
       "    </tr>\n",
       "    <tr>\n",
       "      <th>1</th>\n",
       "      <td>Canada</td>\n",
       "      <td>1986.0</td>\n",
       "      <td>1</td>\n",
       "    </tr>\n",
       "    <tr>\n",
       "      <th>2</th>\n",
       "      <td>Canada</td>\n",
       "      <td>1994.0</td>\n",
       "      <td>1</td>\n",
       "    </tr>\n",
       "    <tr>\n",
       "      <th>3</th>\n",
       "      <td>Canada</td>\n",
       "      <td>2010.0</td>\n",
       "      <td>1</td>\n",
       "    </tr>\n",
       "    <tr>\n",
       "      <th>4</th>\n",
       "      <td>Canada</td>\n",
       "      <td>2014.0</td>\n",
       "      <td>1</td>\n",
       "    </tr>\n",
       "  </tbody>\n",
       "</table>\n",
       "</div>"
      ],
      "text/plain": [
       "  country    year  title\n",
       "0  Canada  1979.0      1\n",
       "1  Canada  1986.0      1\n",
       "2  Canada  1994.0      1\n",
       "3  Canada  2010.0      1\n",
       "4  Canada  2014.0      1"
      ]
     },
     "execution_count": 67,
     "metadata": {},
     "output_type": "execute_result"
    }
   ],
   "source": [
    "ai_movies.groupby(['country']).filter(lambda x: (x.count() >= 5).any()).\\\n",
    "          groupby(['country', 'year']).apply(lambda x:  x.count())[['title']].reset_index().head(5)"
   ]
  },
  {
   "cell_type": "code",
   "execution_count": null,
   "metadata": {
    "id": "QGBBFkvjGC5H"
   },
   "outputs": [],
   "source": [
    "by_country = ai_movies.groupby(['country']).filter(lambda x: (x.count() >= 5).any()).\\\n",
    "          groupby(['country', 'year']).apply(lambda x: x.count())[['title']].reset_index()"
   ]
  },
  {
   "cell_type": "code",
   "execution_count": null,
   "metadata": {
    "colab": {
     "base_uri": "https://localhost:8080/",
     "height": 357
    },
    "id": "6bbvCzD5uSHk",
    "outputId": "0e653dd3-2058-421a-ff1b-edb4a8a255df"
   },
   "outputs": [
    {
     "data": {
      "text/plain": [
       "Text(0, 0.5, 'Number of Films')"
      ]
     },
     "execution_count": 71,
     "metadata": {},
     "output_type": "execute_result"
    },
    {
     "data": {
      "image/png": "[encoded data removed]",
      "text/plain": [
       "<Figure size 864x360 with 1 Axes>"
      ]
     },
     "metadata": {},
     "output_type": "display_data"
    }
   ],
   "source": [
    "fig, ax = plt.subplots(figsize=(12,5))\n",
    "with sns.axes_style('white'):\n",
    "    g = sns.barplot(data=by_country, x=\"year\", hue='country', y='title', ax=ax, order=range(1999, 2019))\n",
    "ax.set_ylabel('Number of Films')"
   ]
  },
  {
   "cell_type": "markdown",
   "metadata": {
    "id": "q90CNJ0o3ABJ"
   },
   "source": [
    "For the last 20 years we can see that U.S./Japan have dominated the A.I. movie market"
   ]
  },
  {
   "cell_type": "markdown",
   "metadata": {
    "id": "kdjR9fvRqkU6"
   },
   "source": [
    "# In-Class Exercises\n",
    "\n",
    "Create visualizations that help a user answer the following questions:"
   ]
  },
  {
   "cell_type": "markdown",
   "metadata": {
    "id": "SNKi_YWBqp3N"
   },
   "source": [
    "## 🐍 Exercise 1: Visualizing Fractions\n",
    "\n",
    "1. Of all the movie data, which top 10 countries have the highest fraction of AI movies?\n",
    "2. Are there more movies about AI before or after 1986?"
   ]
  },
  {
   "cell_type": "code",
   "execution_count": null,
   "metadata": {
    "colab": {
     "base_uri": "https://localhost:8080/"
    },
    "id": "LiONnrDMHPXI",
    "outputId": "c040bf01-341b-45e3-ecc2-9732b0fc765d"
   },
   "outputs": [
    {
     "data": {
      "text/plain": [
       "country\n",
       "South Africa, USA                                                                          0.050000\n",
       "USA, Argentina                                                                             0.058824\n",
       "USA, Germany, UK                                                                           0.090909\n",
       "Switzerland, USA                                                                           0.142857\n",
       "Germany, Belgium                                                                           0.142857\n",
       "Singapore, USA                                                                             0.250000\n",
       "Poland, Soviet Union                                                                       0.285714\n",
       "UK, USA, Ireland                                                                           0.333333\n",
       "UK, China, USA                                                                             0.333333\n",
       "USA, UK, Italy                                                                             0.333333\n",
       "India, Australia                                                                           0.333333\n",
       "China, Canada, USA                                                                         0.333333\n",
       "Canada, South Korea                                                                        0.500000\n",
       "Hong Kong, Canada, USA                                                                     1.000000\n",
       "Italy, West Germany, Spain, Monaco                                                         1.000000\n",
       "Canada, France, Spain, Germany                                                             1.000000\n",
       "Croatia, Luxembourg, Norway, Czech Republic, Slovakia, Slovenia, Bosnia and Herzegovina    1.000000\n",
       "USA, Singapore                                                                             1.000000\n",
       "Canada, USA, UK, Japan                                                                     1.000000\n",
       "Canada, France, Morocco                                                                    1.000000\n",
       "Name: description, dtype: float64"
      ]
     },
     "execution_count": 3,
     "metadata": {},
     "output_type": "execute_result"
    }
   ],
   "source": [
    "df.groupby('country')['description'].apply(lambda x: x.loc[x.str.contains('artificial intelligence|a\\.i\\.|robot', \n",
    "                                       na=False)].count()/x.shape[0]).sort_values()[-20:]"
   ]
  },
  {
   "cell_type": "code",
   "execution_count": null,
   "metadata": {
    "colab": {
     "base_uri": "https://localhost:8080/"
    },
    "id": "ztqCIBBdPUof",
    "outputId": "cf09f17f-938d-4f3e-f8a0-3c0426e2ab4e"
   },
   "outputs": [
    {
     "data": {
      "text/plain": [
       "country\n",
       "Russia          0.001247\n",
       "Australia       0.001274\n",
       "UK              0.001459\n",
       "Turkey          0.001480\n",
       "Mexico          0.001527\n",
       "Denmark         0.001776\n",
       "South Korea     0.001813\n",
       "China           0.001908\n",
       "Finland         0.002232\n",
       "West Germany    0.002375\n",
       "Hong Kong       0.002421\n",
       "Brazil          0.002717\n",
       "USA             0.002876\n",
       "Thailand        0.003817\n",
       "Canada          0.003885\n",
       "Soviet Union    0.003916\n",
       "Israel          0.006250\n",
       "Chile           0.009174\n",
       "Belgium         0.009804\n",
       "Japan           0.010075\n",
       "Name: description, dtype: float64"
      ]
     },
     "execution_count": 19,
     "metadata": {},
     "output_type": "execute_result"
    }
   ],
   "source": [
    "df.loc[~df['country'].str.contains(',', na=True)].groupby('country')['description'].apply(lambda x: x.loc[x.str.contains('artificial intelligence|a\\.i\\.|robot', \n",
    "                                       na=False)].count()/x.shape[0]).sort_values()[-20:]"
   ]
  },
  {
   "cell_type": "code",
   "execution_count": null,
   "metadata": {
    "colab": {
     "base_uri": "https://localhost:8080/"
    },
    "id": "sPpHlKmMIQb7",
    "outputId": "94257aba-e76a-4135-a4cc-ddf3f278573f"
   },
   "outputs": [
    {
     "data": {
      "text/plain": [
       "0                USA\n",
       "1          Australia\n",
       "3                USA\n",
       "4              Italy\n",
       "5                USA\n",
       "            ...     \n",
       "85849          India\n",
       "85851    Netherlands\n",
       "85852          India\n",
       "85853         Turkey\n",
       "85854          Spain\n",
       "Name: country, Length: 70300, dtype: object"
      ]
     },
     "execution_count": 8,
     "metadata": {},
     "output_type": "execute_result"
    }
   ],
   "source": [
    "df.loc[~(df['country'].str.contains(',', na=True))]['country']"
   ]
  },
  {
   "cell_type": "code",
   "execution_count": null,
   "metadata": {
    "colab": {
     "base_uri": "https://localhost:8080/"
    },
    "id": "kgEdv5YSIJn6",
    "outputId": "577d0eba-36cf-490f-83ea-1fd40d338606"
   },
   "outputs": [
    {
     "data": {
      "text/plain": [
       "country\n",
       "Japan           0.010075\n",
       "Belgium         0.009804\n",
       "Chile           0.009174\n",
       "Israel          0.006250\n",
       "Soviet Union    0.003916\n",
       "Canada          0.003885\n",
       "Thailand        0.003817\n",
       "USA             0.002876\n",
       "Brazil          0.002717\n",
       "Hong Kong       0.002421\n",
       "Name: description, dtype: float64"
      ]
     },
     "execution_count": 10,
     "metadata": {},
     "output_type": "execute_result"
    }
   ],
   "source": [
    "df.loc[~(df['country'].str.contains(',', na=True))].groupby('country')['description'].apply(lambda x: x.loc[x.str.contains('artificial intelligence|a\\.i\\.|robot', \n",
    "                                       na=False)].count()/x.shape[0]).sort_values(ascending=False)[:10]"
   ]
  },
  {
   "cell_type": "code",
   "execution_count": null,
   "metadata": {
    "colab": {
     "base_uri": "https://localhost:8080/",
     "height": 285
    },
    "id": "Ue7N2mKaqoGg",
    "outputId": "41b701ba-e0fe-4b37-be74-8c3c8d2cd277"
   },
   "outputs": [
    {
     "data": {
      "text/plain": [
       "<matplotlib.axes._subplots.AxesSubplot at 0x7fa8814b0090>"
      ]
     },
     "execution_count": 22,
     "metadata": {},
     "output_type": "execute_result"
    },
    {
     "data": {
      "image/png": "[encoded data removed]",
      "text/plain": [
       "<Figure size 432x288 with 1 Axes>"
      ]
     },
     "metadata": {
      "needs_background": "light"
     },
     "output_type": "display_data"
    }
   ],
   "source": [
    "# Cell for 1.1\n",
    "fig, ax = plt.subplots()\n",
    "df.loc[~(df['country'].str.contains(',', na=True))].groupby('country')['description'].apply(lambda x: x.loc[x.str.contains('artificial intelligence|a\\.i\\.|robot', \n",
    "                                       na=False)].count()/x.shape[0]).sort_values(ascending=True)[-10:].plot(kind='barh')"
   ]
  },
  {
   "cell_type": "code",
   "execution_count": null,
   "metadata": {
    "id": "0qtfRbHyWDst"
   },
   "outputs": [],
   "source": [
    "df['after 1986'] = df['year'] > 1986\n",
    "df['ai movie'] = df['description'].str.contains('artificial intelligence|a\\.i\\.|robot', na=False)"
   ]
  },
  {
   "cell_type": "code",
   "execution_count": null,
   "metadata": {
    "colab": {
     "base_uri": "https://localhost:8080/"
    },
    "id": "y5m-fHDRWRKS",
    "outputId": "9376bc0f-f556-4dbd-aed1-a765a3c6b30f"
   },
   "outputs": [
    {
     "data": {
      "text/plain": [
       "2"
      ]
     },
     "execution_count": 51,
     "metadata": {},
     "output_type": "execute_result"
    }
   ],
   "source": [
    "np.sum([True, True, False])"
   ]
  },
  {
   "cell_type": "code",
   "execution_count": null,
   "metadata": {
    "colab": {
     "base_uri": "https://localhost:8080/"
    },
    "id": "vdEIQFctWkbH",
    "outputId": "6d7b7fcc-95fb-4ede-b14b-4101218c8f9d"
   },
   "outputs": [
    {
     "data": {
      "text/plain": [
       "after 1986  ai movie\n",
       "False       False       26438\n",
       "            True           54\n",
       "True        False       59214\n",
       "            True          149\n",
       "Name: title, dtype: int64"
      ]
     },
     "execution_count": 53,
     "metadata": {},
     "output_type": "execute_result"
    }
   ],
   "source": [
    "df.groupby(['after 1986', 'ai movie'])['title'].count()"
   ]
  },
  {
   "cell_type": "code",
   "execution_count": null,
   "metadata": {
    "colab": {
     "base_uri": "https://localhost:8080/",
     "height": 303
    },
    "id": "ovslHOYNQbaq",
    "outputId": "67fa0976-6ba6-46ff-db86-aa485c1aaf85"
   },
   "outputs": [
    {
     "data": {
      "text/plain": [
       "Text(0.5, 0, 'Fraction of Movies with AI Theme')"
      ]
     },
     "execution_count": 58,
     "metadata": {},
     "output_type": "execute_result"
    },
    {
     "data": {
      "image/png": "[encoded data removed]",
      "text/plain": [
       "<Figure size 432x288 with 1 Axes>"
      ]
     },
     "metadata": {
      "needs_background": "light"
     },
     "output_type": "display_data"
    }
   ],
   "source": [
    "fig, ax = plt.subplots()\n",
    "df.groupby(['after 1986'])['ai movie'].apply(lambda x: x.sum()/x.shape[0]).plot(kind='barh')\n",
    "ax.set_yticklabels(['Before/During 1986', 'After 1986'])\n",
    "ax.set_ylabel('')\n",
    "ax.set_xlabel('Fraction of Movies with AI Theme')"
   ]
  },
  {
   "cell_type": "code",
   "execution_count": null,
   "metadata": {
    "colab": {
     "base_uri": "https://localhost:8080/",
     "height": 303
    },
    "id": "WVybcY4ARSWM",
    "outputId": "ea189a3a-9fed-4c2b-e68d-a96da957e317"
   },
   "outputs": [
    {
     "data": {
      "text/plain": [
       "Text(0.5, 0, 'Fraction of Movies with AI Theme')"
      ]
     },
     "execution_count": 38,
     "metadata": {},
     "output_type": "execute_result"
    },
    {
     "data": {
      "image/png": "[encoded data removed]",
      "text/plain": [
       "<Figure size 432x288 with 1 Axes>"
      ]
     },
     "metadata": {
      "needs_background": "light"
     },
     "output_type": "display_data"
    }
   ],
   "source": [
    "fig, ax = plt.subplots()\n",
    "df.groupby(['after 1986'])['ai movie'].apply(lambda x: x.sum()/x.shape[0]).plot(kind='barh')\n",
    "ax.set_yticklabels(['Before/During 1986', 'After 1986'])\n",
    "ax.set_xlabel('Fraction of Movies with AI Theme')"
   ]
  },
  {
   "cell_type": "code",
   "execution_count": null,
   "metadata": {
    "colab": {
     "base_uri": "https://localhost:8080/",
     "height": 1000
    },
    "id": "4XcYPoY5TCiS",
    "outputId": "04e21a32-6748-4ad9-9c21-137ba5f312f6"
   },
   "outputs": [
    {
     "data": {
      "text/html": [
       "<div>\n",
       "<style scoped>\n",
       "    .dataframe tbody tr th:only-of-type {\n",
       "        vertical-align: middle;\n",
       "    }\n",
       "\n",
       "    .dataframe tbody tr th {\n",
       "        vertical-align: top;\n",
       "    }\n",
       "\n",
       "    .dataframe thead th {\n",
       "        text-align: right;\n",
       "    }\n",
       "</style>\n",
       "<table border=\"1\" class=\"dataframe\">\n",
       "  <thead>\n",
       "    <tr style=\"text-align: right;\">\n",
       "      <th></th>\n",
       "      <th>imdb_title_id</th>\n",
       "      <th>title</th>\n",
       "      <th>original_title</th>\n",
       "      <th>year</th>\n",
       "      <th>date_published</th>\n",
       "      <th>genre</th>\n",
       "      <th>duration</th>\n",
       "      <th>country</th>\n",
       "      <th>language</th>\n",
       "      <th>director</th>\n",
       "      <th>writer</th>\n",
       "      <th>production_company</th>\n",
       "      <th>actors</th>\n",
       "      <th>description</th>\n",
       "      <th>avg_vote</th>\n",
       "      <th>votes</th>\n",
       "      <th>budget</th>\n",
       "      <th>usa_gross_income</th>\n",
       "      <th>worlwide_gross_income</th>\n",
       "      <th>metascore</th>\n",
       "      <th>reviews_from_users</th>\n",
       "      <th>reviews_from_critics</th>\n",
       "      <th>after 1986</th>\n",
       "      <th>ai movie</th>\n",
       "    </tr>\n",
       "  </thead>\n",
       "  <tbody>\n",
       "    <tr>\n",
       "      <th>0</th>\n",
       "      <td>tt0000009</td>\n",
       "      <td>Miss Jerry</td>\n",
       "      <td>Miss Jerry</td>\n",
       "      <td>1894.0</td>\n",
       "      <td>1894-10-09</td>\n",
       "      <td>Romance</td>\n",
       "      <td>45</td>\n",
       "      <td>USA</td>\n",
       "      <td>None</td>\n",
       "      <td>Alexander Black</td>\n",
       "      <td>Alexander Black</td>\n",
       "      <td>Alexander Black Photoplays</td>\n",
       "      <td>Blanche Bayliss, William Courtenay, Chauncey Depew</td>\n",
       "      <td>The adventures of a female reporter in the 1890s.</td>\n",
       "      <td>5.9</td>\n",
       "      <td>154</td>\n",
       "      <td>NaN</td>\n",
       "      <td>NaN</td>\n",
       "      <td>NaN</td>\n",
       "      <td>NaN</td>\n",
       "      <td>1.0</td>\n",
       "      <td>2.0</td>\n",
       "      <td>False</td>\n",
       "      <td>False</td>\n",
       "    </tr>\n",
       "    <tr>\n",
       "      <th>1</th>\n",
       "      <td>tt0000574</td>\n",
       "      <td>The Story of the Kelly Gang</td>\n",
       "      <td>The Story of the Kelly Gang</td>\n",
       "      <td>1906.0</td>\n",
       "      <td>1906-12-26</td>\n",
       "      <td>Biography, Crime, Drama</td>\n",
       "      <td>70</td>\n",
       "      <td>Australia</td>\n",
       "      <td>None</td>\n",
       "      <td>Charles Tait</td>\n",
       "      <td>Charles Tait</td>\n",
       "      <td>J. and N. Tait</td>\n",
       "      <td>Elizabeth Tait, John Tait, Norman Campbell, Bella Cola, Will Coyne, Sam Crewes, Jack Ennis, John Forde, Vera Linden, Mr. Marshall, Mr. McKenzie, Frank Mills, Ollie Wilson</td>\n",
       "      <td>True story of notorious Australian outlaw Ned Kelly (1855-80).</td>\n",
       "      <td>6.1</td>\n",
       "      <td>589</td>\n",
       "      <td>$ 2250</td>\n",
       "      <td>NaN</td>\n",
       "      <td>NaN</td>\n",
       "      <td>NaN</td>\n",
       "      <td>7.0</td>\n",
       "      <td>7.0</td>\n",
       "      <td>False</td>\n",
       "      <td>False</td>\n",
       "    </tr>\n",
       "    <tr>\n",
       "      <th>2</th>\n",
       "      <td>tt0001892</td>\n",
       "      <td>Den sorte drøm</td>\n",
       "      <td>Den sorte drøm</td>\n",
       "      <td>1911.0</td>\n",
       "      <td>1911-08-19</td>\n",
       "      <td>Drama</td>\n",
       "      <td>53</td>\n",
       "      <td>Germany, Denmark</td>\n",
       "      <td>NaN</td>\n",
       "      <td>Urban Gad</td>\n",
       "      <td>Urban Gad, Gebhard Schätzler-Perasini</td>\n",
       "      <td>Fotorama</td>\n",
       "      <td>Asta Nielsen, Valdemar Psilander, Gunnar Helsengreen, Emil Albes, Hugo Flink, Mary Hagen</td>\n",
       "      <td>Two men of high rank are both wooing the beautiful and famous equestrian acrobat Stella. While Stella ignores the jeweler Hirsch, she accepts Count von Waldberg's offer to follow her home, ...</td>\n",
       "      <td>5.8</td>\n",
       "      <td>188</td>\n",
       "      <td>NaN</td>\n",
       "      <td>NaN</td>\n",
       "      <td>NaN</td>\n",
       "      <td>NaN</td>\n",
       "      <td>5.0</td>\n",
       "      <td>2.0</td>\n",
       "      <td>False</td>\n",
       "      <td>False</td>\n",
       "    </tr>\n",
       "    <tr>\n",
       "      <th>3</th>\n",
       "      <td>tt0002101</td>\n",
       "      <td>Cleopatra</td>\n",
       "      <td>Cleopatra</td>\n",
       "      <td>1912.0</td>\n",
       "      <td>1912-11-13</td>\n",
       "      <td>Drama, History</td>\n",
       "      <td>100</td>\n",
       "      <td>USA</td>\n",
       "      <td>English</td>\n",
       "      <td>Charles L. Gaskill</td>\n",
       "      <td>Victorien Sardou</td>\n",
       "      <td>Helen Gardner Picture Players</td>\n",
       "      <td>Helen Gardner, Pearl Sindelar, Miss Fielding, Miss Robson, Helene Costello, Charles Sindelar, Mr. Howard, James R. Waite, Mr. Osborne, Harry Knowles, Mr. Paul, Mr. Brady, Mr. Corker</td>\n",
       "      <td>The fabled queen of Egypt's affair with Roman general Marc Antony is ultimately disastrous for both of them.</td>\n",
       "      <td>5.2</td>\n",
       "      <td>446</td>\n",
       "      <td>$ 45000</td>\n",
       "      <td>NaN</td>\n",
       "      <td>NaN</td>\n",
       "      <td>NaN</td>\n",
       "      <td>25.0</td>\n",
       "      <td>3.0</td>\n",
       "      <td>False</td>\n",
       "      <td>False</td>\n",
       "    </tr>\n",
       "    <tr>\n",
       "      <th>4</th>\n",
       "      <td>tt0002130</td>\n",
       "      <td>L'Inferno</td>\n",
       "      <td>L'Inferno</td>\n",
       "      <td>1911.0</td>\n",
       "      <td>1911-03-06</td>\n",
       "      <td>Adventure, Drama, Fantasy</td>\n",
       "      <td>68</td>\n",
       "      <td>Italy</td>\n",
       "      <td>Italian</td>\n",
       "      <td>Francesco Bertolini, Adolfo Padovan</td>\n",
       "      <td>Dante Alighieri</td>\n",
       "      <td>Milano Film</td>\n",
       "      <td>Salvatore Papa, Arturo Pirovano, Giuseppe de Liguoro, Pier Delle Vigne, Augusto Milla, Attilio Motta, Emilise Beretta</td>\n",
       "      <td>Loosely adapted from Dante's Divine Comedy and inspired by the illustrations of Gustav Doré the original silent film has been restored and has a new score by Tangerine Dream.</td>\n",
       "      <td>7.0</td>\n",
       "      <td>2237</td>\n",
       "      <td>NaN</td>\n",
       "      <td>NaN</td>\n",
       "      <td>NaN</td>\n",
       "      <td>NaN</td>\n",
       "      <td>31.0</td>\n",
       "      <td>14.0</td>\n",
       "      <td>False</td>\n",
       "      <td>False</td>\n",
       "    </tr>\n",
       "    <tr>\n",
       "      <th>...</th>\n",
       "      <td>...</td>\n",
       "      <td>...</td>\n",
       "      <td>...</td>\n",
       "      <td>...</td>\n",
       "      <td>...</td>\n",
       "      <td>...</td>\n",
       "      <td>...</td>\n",
       "      <td>...</td>\n",
       "      <td>...</td>\n",
       "      <td>...</td>\n",
       "      <td>...</td>\n",
       "      <td>...</td>\n",
       "      <td>...</td>\n",
       "      <td>...</td>\n",
       "      <td>...</td>\n",
       "      <td>...</td>\n",
       "      <td>...</td>\n",
       "      <td>...</td>\n",
       "      <td>...</td>\n",
       "      <td>...</td>\n",
       "      <td>...</td>\n",
       "      <td>...</td>\n",
       "      <td>...</td>\n",
       "      <td>...</td>\n",
       "    </tr>\n",
       "    <tr>\n",
       "      <th>85850</th>\n",
       "      <td>tt9908390</td>\n",
       "      <td>Le lion</td>\n",
       "      <td>Le lion</td>\n",
       "      <td>2020.0</td>\n",
       "      <td>2020-01-29</td>\n",
       "      <td>Comedy</td>\n",
       "      <td>95</td>\n",
       "      <td>France, Belgium</td>\n",
       "      <td>French</td>\n",
       "      <td>Ludovic Colbeau-Justin</td>\n",
       "      <td>Alexandre Coquelle, Matthieu Le Naour</td>\n",
       "      <td>Monkey Pack Films</td>\n",
       "      <td>Dany Boon, Philippe Katerine, Anne Serra, Samuel Jouy, Sophie Verbeeck, Carole Brana, Benoît Pétré, Aksel Ustun, Mathieu Lardot, Olivier Sa, Julien Prevost, Antoine Mathieu, David Ban, Stan, Guillaume Clémencin</td>\n",
       "      <td>A psychiatric hospital patient pretends to be crazy. In charge of caring for this patient, a caregiver will begin to doubt the mental state of his \"protégé\".</td>\n",
       "      <td>5.3</td>\n",
       "      <td>398</td>\n",
       "      <td>NaN</td>\n",
       "      <td>NaN</td>\n",
       "      <td>$ 3507171</td>\n",
       "      <td>NaN</td>\n",
       "      <td>NaN</td>\n",
       "      <td>4.0</td>\n",
       "      <td>True</td>\n",
       "      <td>False</td>\n",
       "    </tr>\n",
       "    <tr>\n",
       "      <th>85851</th>\n",
       "      <td>tt9911196</td>\n",
       "      <td>De Beentjes van Sint-Hildegard</td>\n",
       "      <td>De Beentjes van Sint-Hildegard</td>\n",
       "      <td>2020.0</td>\n",
       "      <td>2020-02-13</td>\n",
       "      <td>Comedy, Drama</td>\n",
       "      <td>103</td>\n",
       "      <td>Netherlands</td>\n",
       "      <td>German, Dutch</td>\n",
       "      <td>Johan Nijenhuis</td>\n",
       "      <td>Radek Bajgar, Herman Finkers</td>\n",
       "      <td>Johan Nijenhuis &amp; Co</td>\n",
       "      <td>Herman Finkers, Johanna ter Steege, Leonie ter Braak, Stef Assen, Annie Beumers, Jos Brummelhuis, Reinier Bulder, Daphne Bunskoek, Karlijn Koel, Karlijn Lansink, Marieke Lustenhouwer, Jan Roerink, Ferdi Stofmeel, Aniek Stokkers, Belinda van der Stoep</td>\n",
       "      <td>A middle-aged veterinary surgeon believes his wife pampers him too much. In order to get away from her, he fakes the onset of dementia.</td>\n",
       "      <td>7.7</td>\n",
       "      <td>724</td>\n",
       "      <td>NaN</td>\n",
       "      <td>NaN</td>\n",
       "      <td>$ 7299062</td>\n",
       "      <td>NaN</td>\n",
       "      <td>6.0</td>\n",
       "      <td>4.0</td>\n",
       "      <td>True</td>\n",
       "      <td>False</td>\n",
       "    </tr>\n",
       "    <tr>\n",
       "      <th>85852</th>\n",
       "      <td>tt9911774</td>\n",
       "      <td>Padmavyuhathile Abhimanyu</td>\n",
       "      <td>Padmavyuhathile Abhimanyu</td>\n",
       "      <td>2019.0</td>\n",
       "      <td>2019-03-08</td>\n",
       "      <td>Drama</td>\n",
       "      <td>130</td>\n",
       "      <td>India</td>\n",
       "      <td>Malayalam</td>\n",
       "      <td>Vineesh Aaradya</td>\n",
       "      <td>Vineesh Aaradya, Vineesh Aaradya</td>\n",
       "      <td>RMCC Productions</td>\n",
       "      <td>Anoop Chandran, Indrans, Sona Nair, Simon Britto Rodrigues</td>\n",
       "      <td>NaN</td>\n",
       "      <td>7.9</td>\n",
       "      <td>265</td>\n",
       "      <td>NaN</td>\n",
       "      <td>NaN</td>\n",
       "      <td>NaN</td>\n",
       "      <td>NaN</td>\n",
       "      <td>NaN</td>\n",
       "      <td>NaN</td>\n",
       "      <td>True</td>\n",
       "      <td>False</td>\n",
       "    </tr>\n",
       "    <tr>\n",
       "      <th>85853</th>\n",
       "      <td>tt9914286</td>\n",
       "      <td>Sokagin Çocuklari</td>\n",
       "      <td>Sokagin Çocuklari</td>\n",
       "      <td>2019.0</td>\n",
       "      <td>2019-03-15</td>\n",
       "      <td>Drama, Family</td>\n",
       "      <td>98</td>\n",
       "      <td>Turkey</td>\n",
       "      <td>Turkish</td>\n",
       "      <td>Ahmet Faik Akinci</td>\n",
       "      <td>Ahmet Faik Akinci, Kasim Uçkan</td>\n",
       "      <td>Gizem Ajans</td>\n",
       "      <td>Ahmet Faik Akinci, Belma Mamati, Metin Keçeci, Burhan Sirmabiyik, Orhan Aydin, Tevfik Yapici, Yusuf Eksi, Toygun Ates, Aziz Özuysal, Dilek Ölekli, Arcan Bunial, Seval Hislisoy, Ergül Çolakoglu, Gülçin Ugur, Ibrahim Balaban</td>\n",
       "      <td>NaN</td>\n",
       "      <td>6.4</td>\n",
       "      <td>194</td>\n",
       "      <td>NaN</td>\n",
       "      <td>NaN</td>\n",
       "      <td>$ 2833</td>\n",
       "      <td>NaN</td>\n",
       "      <td>NaN</td>\n",
       "      <td>NaN</td>\n",
       "      <td>True</td>\n",
       "      <td>False</td>\n",
       "    </tr>\n",
       "    <tr>\n",
       "      <th>85854</th>\n",
       "      <td>tt9914942</td>\n",
       "      <td>La vida sense la Sara Amat</td>\n",
       "      <td>La vida sense la Sara Amat</td>\n",
       "      <td>2019.0</td>\n",
       "      <td>2020-02-05</td>\n",
       "      <td>Drama</td>\n",
       "      <td>74</td>\n",
       "      <td>Spain</td>\n",
       "      <td>Catalan</td>\n",
       "      <td>Laura Jou</td>\n",
       "      <td>Coral Cruz, Pep Puig</td>\n",
       "      <td>La Xarxa de Comunicació Local</td>\n",
       "      <td>Maria Morera Colomer, Biel Rossell Pelfort, Isaac Alcayde, Lluís Altés, Joan Amargós, Pepo Blasco, Cesc Casanovas, Oriol Cervera, Pau Escobar, Jordi Figueras, Arés Fuster, Judit Martín, Martí Múrcia, Mariona Pagès, Francesca Piñón</td>\n",
       "      <td>Pep, a 13-year-old boy, is in love with a girl from his grandparents village, Sara Amat. One summer night Sara disappears without a trace. After a few hours, Pep finds her hiding in his room.</td>\n",
       "      <td>6.7</td>\n",
       "      <td>102</td>\n",
       "      <td>NaN</td>\n",
       "      <td>NaN</td>\n",
       "      <td>$ 59794</td>\n",
       "      <td>NaN</td>\n",
       "      <td>NaN</td>\n",
       "      <td>2.0</td>\n",
       "      <td>True</td>\n",
       "      <td>False</td>\n",
       "    </tr>\n",
       "  </tbody>\n",
       "</table>\n",
       "<p>85854 rows × 24 columns</p>\n",
       "</div>"
      ],
      "text/plain": [
       "      imdb_title_id                           title  ... after 1986  ai movie\n",
       "0         tt0000009                      Miss Jerry  ...      False     False\n",
       "1         tt0000574     The Story of the Kelly Gang  ...      False     False\n",
       "2         tt0001892                  Den sorte drøm  ...      False     False\n",
       "3         tt0002101                       Cleopatra  ...      False     False\n",
       "4         tt0002130                       L'Inferno  ...      False     False\n",
       "...             ...                             ...  ...        ...       ...\n",
       "85850     tt9908390                         Le lion  ...       True     False\n",
       "85851     tt9911196  De Beentjes van Sint-Hildegard  ...       True     False\n",
       "85852     tt9911774       Padmavyuhathile Abhimanyu  ...       True     False\n",
       "85853     tt9914286               Sokagin Çocuklari  ...       True     False\n",
       "85854     tt9914942      La vida sense la Sara Amat  ...       True     False\n",
       "\n",
       "[85854 rows x 24 columns]"
      ]
     },
     "execution_count": 44,
     "metadata": {},
     "output_type": "execute_result"
    }
   ],
   "source": [
    "df.loc[df['year'] > 1986 & df['description'].str.contains('artificial intelligence|a\\.i\\.|robot', na=False)]\n"
   ]
  },
  {
   "cell_type": "code",
   "execution_count": null,
   "metadata": {
    "colab": {
     "base_uri": "https://localhost:8080/",
     "height": 303
    },
    "id": "ZI9Hmx2JsmZj",
    "outputId": "e04f926e-9707-4569-fc1c-1d1236ea73e2"
   },
   "outputs": [
    {
     "data": {
      "text/plain": [
       "Text(0.5, 0, 'Fraction of Movies with AI Theme')"
      ]
     },
     "execution_count": 89,
     "metadata": {},
     "output_type": "execute_result"
    },
    {
     "data": {
      "image/png": "[encoded data removed]",
      "text/plain": [
       "<Figure size 432x288 with 1 Axes>"
      ]
     },
     "metadata": {},
     "output_type": "display_data"
    }
   ],
   "source": [
    "# Cell for 1.2"
   ]
  },
  {
   "cell_type": "markdown",
   "metadata": {
    "id": "R3k4yZhcsnfP"
   },
   "source": [
    "## 🐍 Exercise 2: Operating on NumPy Arrays\n",
    "\n",
    "the following arrays, x, y, and z, contain the respective locations of an object in 3-dimensional space with respect to time. \n",
    "\n",
    "1. Return the euclidian distance between the points in x, y, and z and the origin\n",
    "2. Plot the euclidian distance as blue squares if the distance is greater than 1 and as red stars otherwise in a scatterplot of distance vs time\n",
    "\n",
    "```\n",
    "np.random.seed(42)\n",
    "x = np.random.randn(10)\n",
    "y = np.random.randn(10)\n",
    "z = np.random.randn(10)\n",
    "```"
   ]
  },
  {
   "cell_type": "code",
   "execution_count": null,
   "metadata": {
    "id": "5Rj3CbnNz4Je"
   },
   "outputs": [],
   "source": [
    "np.random.seed(42)\n",
    "x = np.random.randn(10)\n",
    "y = np.random.randn(10)\n",
    "z = np.random.randn(10)"
   ]
  },
  {
   "cell_type": "code",
   "execution_count": null,
   "metadata": {
    "colab": {
     "base_uri": "https://localhost:8080/"
    },
    "id": "cN6mfHk6tPv5",
    "outputId": "4788ab5e-757e-4dd6-9b55-9ba938db4e1f"
   },
   "outputs": [
    {
     "data": {
      "text/plain": [
       "array([1.61542788, 0.53572022, 0.69469867, 2.83022413, 1.82387551,\n",
       "       0.61910516, 2.20102844, 0.91041554, 1.18561408, 1.54079797])"
      ]
     },
     "execution_count": 68,
     "metadata": {},
     "output_type": "execute_result"
    }
   ],
   "source": [
    "# Cell for 2.1\n",
    "distance = np.sqrt(x**2 + y**2 + z**2) # this is the distance of each point form the \n",
    "distance"
   ]
  },
  {
   "cell_type": "code",
   "execution_count": null,
   "metadata": {
    "id": "Sp7KZulxaIuU"
   },
   "outputs": [],
   "source": [
    "bluey = distance[distance > 1]\n",
    "bluex = np.argwhere(distance > 1)"
   ]
  },
  {
   "cell_type": "code",
   "execution_count": null,
   "metadata": {
    "id": "iqn9wGCLYdKC"
   },
   "outputs": [],
   "source": [
    "redy = distance[distance < 1]\n",
    "redx = np.argwhere(distance < 1)"
   ]
  },
  {
   "cell_type": "code",
   "execution_count": null,
   "metadata": {
    "colab": {
     "base_uri": "https://localhost:8080/",
     "height": 285
    },
    "id": "Gf1Xweo3YZBq",
    "outputId": "0b111b19-1639-4975-a011-7cbe0640cc19"
   },
   "outputs": [
    {
     "data": {
      "text/plain": [
       "[<matplotlib.lines.Line2D at 0x7fa87f75f6d0>]"
      ]
     },
     "execution_count": 76,
     "metadata": {},
     "output_type": "execute_result"
    },
    {
     "data": {
      "image/png": "[encoded data removed]",
      "text/plain": [
       "<Figure size 432x288 with 1 Axes>"
      ]
     },
     "metadata": {
      "needs_background": "light"
     },
     "output_type": "display_data"
    }
   ],
   "source": [
    "plt.plot(bluex, bluey, ls='', marker='s')\n",
    "plt.plot(redx, redy, ls='', marker='*', color='tab:red')"
   ]
  },
  {
   "cell_type": "code",
   "execution_count": null,
   "metadata": {
    "colab": {
     "base_uri": "https://localhost:8080/",
     "height": 285
    },
    "id": "8nBQSFjetZ1O",
    "outputId": "a8de8564-1472-417a-8523-0bd2197902de"
   },
   "outputs": [
    {
     "data": {
      "text/plain": [
       "[<matplotlib.lines.Line2D at 0x7f75f93e9b50>]"
      ]
     },
     "execution_count": 92,
     "metadata": {},
     "output_type": "execute_result"
    },
    {
     "data": {
      "image/png": "[encoded data removed]",
      "text/plain": [
       "<Figure size 432x288 with 1 Axes>"
      ]
     },
     "metadata": {},
     "output_type": "display_data"
    }
   ],
   "source": [
    "# Cell for 2.2\n"
   ]
  }
 ],
 "metadata": {
  "colab": {
   "collapsed_sections": [],
   "name": "SOLUTION Technin510_S2_What_is_Data_Science.ipynb",
   "provenance": [],
   "toc_visible": true
  },
  "kernelspec": {
   "display_name": "Python 3 (ipykernel)",
   "language": "python",
   "name": "python3"
  },
  "language_info": {
   "codemirror_mode": {
    "name": "ipython",
    "version": 3
   },
   "file_extension": ".py",
   "mimetype": "text/x-python",
   "name": "python",
   "nbconvert_exporter": "python",
   "pygments_lexer": "ipython3",
   "version": "3.9.7"
  }
 },
 "nbformat": 4,
 "nbformat_minor": 4
}
