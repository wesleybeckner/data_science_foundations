{
 "cells": [
  {
   "cell_type": "markdown",
   "metadata": {
    "id": "4NCNbUxuRbnp"
   },
   "source": [
    "Welcome to the Data Science take-home challenge! The goal of the challenge is to give us an idea of how you work through data science analyses, and gauge your familiarity with common data science tools. We hope the challenge will also provide a flavor of the types of problems the team works on!\n",
    "\n",
    "Please fill in your responses in the cells below. We ask that you submit this notebook as an email attachment within two hours of the time you receive our email. \n",
    "\n",
    "At Datavant we use `numpy`, `pandas` and `matplotlib` for the majority of our exploratory work, and this test is designed around those libraries. If you are not yet comfortable with the Python data science ecosystem, feel free to solve this challenge using the Python libraries of your choice.\n",
    "\n",
    "In cases where there may be multiple ways to answer a question, use your judgment as to what makes the most sense.\n",
    "\n",
    "The test will be graded as follows:\n",
    "- Questions 1–4: 34%\n",
    "- Questions 5–6: 33%\n",
    "- Statistics and Probability Theory Questions: 33%"
   ]
  },
  {
   "cell_type": "markdown",
   "metadata": {},
   "source": [
    "## Data Processing"
   ]
  },
  {
   "cell_type": "code",
   "execution_count": 1,
   "metadata": {
    "id": "wH_uEKeoRU_T"
   },
   "outputs": [],
   "source": [
    "import numpy as np\n",
    "import matplotlib.pyplot as plt\n",
    "import pandas as pd"
   ]
  },
  {
   "cell_type": "markdown",
   "metadata": {
    "id": "H_FfxY35UyGh"
   },
   "source": [
    "The data you will be working with is in the same ZIP file as this IPython notebook. Your first task is to load this data into a `pandas.DataFrame`  and inspect it. To check that you've done this right, the data frame should contain the following information about a list of patients:\n",
    "```\n",
    "{\n",
    "  'first_name': First name of the patient,\n",
    "  'last_name': Last name of the patient,\n",
    "  'gender': Gender of the patient (M or F),\n",
    "  'yob': Year of birth of the patient,\n",
    "  'zip3': 3 digit zip of the patient's address,\n",
    "  'state': Two letter abbreviation for the state,\n",
    "  'patient_id': Hash representing a unique patient ID\n",
    "}\n",
    "```"
   ]
  },
  {
   "cell_type": "code",
   "execution_count": 5,
   "metadata": {
    "id": "joXdKRsIUfey"
   },
   "outputs": [],
   "source": [
    "def read_data(filename):\n",
    "  # TODO: Fill in this function with your solution\n",
    "  return pd.read_csv(filename)\n",
    "\n",
    "FILENAME = \"data_science_take_home_data (1).csv\"\n",
    "df = read_data(FILENAME)"
   ]
  },
  {
   "cell_type": "code",
   "execution_count": 12,
   "metadata": {},
   "outputs": [
    {
     "data": {
      "text/plain": [
       "(50000, 7)"
      ]
     },
     "execution_count": 12,
     "metadata": {},
     "output_type": "execute_result"
    }
   ],
   "source": [
    "df.shape"
   ]
  },
  {
   "cell_type": "code",
   "execution_count": 6,
   "metadata": {},
   "outputs": [
    {
     "data": {
      "text/html": [
       "<div>\n",
       "<style scoped>\n",
       "    .dataframe tbody tr th:only-of-type {\n",
       "        vertical-align: middle;\n",
       "    }\n",
       "\n",
       "    .dataframe tbody tr th {\n",
       "        vertical-align: top;\n",
       "    }\n",
       "\n",
       "    .dataframe thead th {\n",
       "        text-align: right;\n",
       "    }\n",
       "</style>\n",
       "<table border=\"1\" class=\"dataframe\">\n",
       "  <thead>\n",
       "    <tr style=\"text-align: right;\">\n",
       "      <th></th>\n",
       "      <th>first_name</th>\n",
       "      <th>last_name</th>\n",
       "      <th>gender</th>\n",
       "      <th>yob</th>\n",
       "      <th>zip3</th>\n",
       "      <th>state</th>\n",
       "      <th>patient_id</th>\n",
       "    </tr>\n",
       "  </thead>\n",
       "  <tbody>\n",
       "    <tr>\n",
       "      <th>0</th>\n",
       "      <td>Larry</td>\n",
       "      <td>Feinstein</td>\n",
       "      <td>male</td>\n",
       "      <td>1989.0</td>\n",
       "      <td>334.0</td>\n",
       "      <td>Florida</td>\n",
       "      <td>C0A6o_gk7xGBU23JxCq1AQ</td>\n",
       "    </tr>\n",
       "    <tr>\n",
       "      <th>1</th>\n",
       "      <td>John</td>\n",
       "      <td>Thomas</td>\n",
       "      <td>male</td>\n",
       "      <td>1978.0</td>\n",
       "      <td>354.0</td>\n",
       "      <td>Alabama</td>\n",
       "      <td>RPigmAzbWCqwPLFK2iQFgg</td>\n",
       "    </tr>\n",
       "    <tr>\n",
       "      <th>2</th>\n",
       "      <td>Rebecca</td>\n",
       "      <td>Shinault</td>\n",
       "      <td>female</td>\n",
       "      <td>1971.0</td>\n",
       "      <td>NaN</td>\n",
       "      <td>Arizona</td>\n",
       "      <td>jyClh4QrdtWzlBAEkGgzVw</td>\n",
       "    </tr>\n",
       "    <tr>\n",
       "      <th>3</th>\n",
       "      <td>James</td>\n",
       "      <td>Dotolo</td>\n",
       "      <td>male</td>\n",
       "      <td>2003.0</td>\n",
       "      <td>NaN</td>\n",
       "      <td>Georgia</td>\n",
       "      <td>rNGpYoLJGcSfDUCTESAGLQ</td>\n",
       "    </tr>\n",
       "    <tr>\n",
       "      <th>4</th>\n",
       "      <td>Martha</td>\n",
       "      <td>Higdon</td>\n",
       "      <td>female</td>\n",
       "      <td>NaN</td>\n",
       "      <td>32.0</td>\n",
       "      <td>New Hampshire</td>\n",
       "      <td>ETiPDfl1Qmg_9YeFm0B3mA</td>\n",
       "    </tr>\n",
       "  </tbody>\n",
       "</table>\n",
       "</div>"
      ],
      "text/plain": [
       "  first_name  last_name  gender     yob   zip3          state  \\\n",
       "0      Larry  Feinstein    male  1989.0  334.0        Florida   \n",
       "1       John     Thomas    male  1978.0  354.0        Alabama   \n",
       "2    Rebecca   Shinault  female  1971.0    NaN        Arizona   \n",
       "3      James     Dotolo    male  2003.0    NaN        Georgia   \n",
       "4     Martha     Higdon  female     NaN   32.0  New Hampshire   \n",
       "\n",
       "               patient_id  \n",
       "0  C0A6o_gk7xGBU23JxCq1AQ  \n",
       "1  RPigmAzbWCqwPLFK2iQFgg  \n",
       "2  jyClh4QrdtWzlBAEkGgzVw  \n",
       "3  rNGpYoLJGcSfDUCTESAGLQ  \n",
       "4  ETiPDfl1Qmg_9YeFm0B3mA  "
      ]
     },
     "execution_count": 6,
     "metadata": {},
     "output_type": "execute_result"
    }
   ],
   "source": [
    "df.head()"
   ]
  },
  {
   "cell_type": "markdown",
   "metadata": {
    "id": "2DXGAqUgWDV2"
   },
   "source": [
    "The first few questions are about exploring and cleaning up the data. We leave it up to you how you go about solving these.\n",
    "\n",
    "1.   How many distinct first names are in the dataset? How about last names?\n",
    "2.   Are there any duplicates in the dataset? Two examples are considered identical if they have identical values across all fields. \n",
    "3.   Are there any patients with the same `patient_id`, but different data values?\n",
    "4.   Are there any data errors in the year-of-birth field? Explain what these errors are and replace those fields with `NaN`.\n"
   ]
  },
  {
   "cell_type": "code",
   "execution_count": 179,
   "metadata": {
    "id": "VCY8A6pInf7H"
   },
   "outputs": [
    {
     "name": "stdout",
     "output_type": "stream",
     "text": [
      "number of unique first names: 3284\n",
      "number of unique last names: 15064\n",
      "number of duplicate rows: 371\n",
      "number of patient_ids with conflicts in other data fields: 2002\n",
      "\n",
      "count    40087.000000\n",
      "mean      1920.703345\n",
      "std        416.199166\n",
      "min      -2003.000000\n",
      "25%       1958.000000\n",
      "50%       1974.000000\n",
      "75%       1989.000000\n",
      "max       2070.000000\n",
      "Name: yob, dtype: float64\n",
      "\n",
      "number of negative yob: 433\n",
      "number of future yob: 762\n",
      "number of ridiculously old yob: 735\n"
     ]
    }
   ],
   "source": [
    "# TODO: Write out answers to the questions above.\n",
    "df = read_data(FILENAME)\n",
    "# 1\n",
    "print(f\"number of unique first names: {df['first_name'].nunique()}\")\n",
    "print(f\"number of unique last names: {df['last_name'].nunique()}\")\n",
    "\n",
    "# 2\n",
    "duplicates = df.shape[0] - df.drop_duplicates(subset=df.columns.values).shape[0]\n",
    "print(f\"number of duplicate rows: {duplicates}\")\n",
    "\n",
    "# 3\n",
    "# first filter for more than 1 instance of patient_id\n",
    "# then drop anything that is a duplicate across all columns\n",
    "dup_df = df.groupby(\"patient_id\").filter(lambda x: len(x) > 1).drop_duplicates(subset=df.columns, keep='first')\n",
    "# dup_df will contain rows where there is now only 1 instance\n",
    "# of the paitent_id; those cases did NOT have other fields that\n",
    "# were different, so we need to drop them\n",
    "patients_with_conflict_vals = dup_df.groupby('patient_id').filter(lambda x: len(x) > 1)['patient_id'].nunique()\n",
    "print(f\"number of patient_ids with conflicts in other data fields: {patients_with_conflict_vals}\")\n",
    "\n",
    "# 4\n",
    "# some of the errors: negative years, years greater than the current year\n",
    "print()\n",
    "print(df['yob'].describe())\n",
    "print()\n",
    "print(f\"number of negative yob: {df.loc[df['yob'] < 0].shape[0]}\")\n",
    "print(f\"number of future yob: {df.loc[df['yob'] > 2022].shape[0]}\")\n",
    "df.loc[df['yob'] < 0] = np.nan\n",
    "df.loc[df['yob'] > 2022] = np.nan\n",
    "\n",
    "# since these are american patients, we might also assume that anyone\n",
    "# born before 1776 or thereabouts is a false yob!!! (could in actuality\n",
    "# be more restrictive here but let's assume we might have some data\n",
    "# that is ancient history)\n",
    "print(f\"number of ridiculously old yob: {df.loc[df['yob'] < 1776].shape[0]}\")\n",
    "df.loc[df['yob'] < 1776] = np.nan"
   ]
  },
  {
   "cell_type": "markdown",
   "metadata": {
    "id": "dt6E15MZoOWg"
   },
   "source": [
    "We often run into datasets that are biased in certain ways. The next few questions explore whether there is any bias in the dataset we're working with.\n",
    "\n",
    "5.  How many patients come from each state?\n",
    "6.  Using the 2022 population data at https://worldpopulationreview.com/states, determine if the data in our sample follows the same distribution."
   ]
  },
  {
   "cell_type": "code",
   "execution_count": 182,
   "metadata": {
    "id": "mx4awIGfnp6-"
   },
   "outputs": [
    {
     "name": "stdout",
     "output_type": "stream",
     "text": [
      "California              5775\n",
      "Texas                   3686\n",
      "Florida                 2926\n",
      "New York                2783\n",
      "Illinois                2135\n",
      "Pennsylvania            1965\n",
      "Ohio                    1780\n",
      "New Jersey              1613\n",
      "Michigan                1612\n",
      "Georgia                 1509\n",
      "North Carolina          1503\n",
      "Virginia                1192\n",
      "Arizona                 1074\n",
      "Massachusetts           1039\n",
      "Indiana                  995\n",
      "Washington               957\n",
      "Tennessee                940\n",
      "Wisconsin                908\n",
      "Maryland                 894\n",
      "Missouri                 874\n",
      "Alabama                  835\n",
      "Colorado                 812\n",
      "Minnesota                737\n",
      "South Carolina           736\n",
      "Kentucky                 695\n",
      "Louisiana                663\n",
      "Oklahoma                 640\n",
      "Oregon                   612\n",
      "Iowa                     589\n",
      "Arkansas                 577\n",
      "Connecticut              530\n",
      "Kansas                   470\n",
      "Mississippi              434\n",
      "New Mexico               423\n",
      "Utah                     415\n",
      "Nebraska                 294\n",
      "West Virginia            280\n",
      "Idaho                    271\n",
      "Nevada                   262\n",
      "New Hampshire            244\n",
      "Hawaii                   221\n",
      "Maine                    190\n",
      "Delaware                 168\n",
      "Rhode Island             157\n",
      "Montana                  136\n",
      "Alaska                   112\n",
      "South Dakota             111\n",
      "District Of Columbia      91\n",
      "North Dakota              82\n",
      "Vermont                   72\n",
      "Wyoming                   51\n",
      "Name: state, dtype: int64\n"
     ]
    },
    {
     "data": {
      "text/html": [
       "<div>\n",
       "<style scoped>\n",
       "    .dataframe tbody tr th:only-of-type {\n",
       "        vertical-align: middle;\n",
       "    }\n",
       "\n",
       "    .dataframe tbody tr th {\n",
       "        vertical-align: top;\n",
       "    }\n",
       "\n",
       "    .dataframe thead th {\n",
       "        text-align: right;\n",
       "    }\n",
       "</style>\n",
       "<table border=\"1\" class=\"dataframe\">\n",
       "  <thead>\n",
       "    <tr style=\"text-align: right;\">\n",
       "      <th></th>\n",
       "      <th>Patient Data</th>\n",
       "      <th>Pop</th>\n",
       "    </tr>\n",
       "    <tr>\n",
       "      <th>State</th>\n",
       "      <th></th>\n",
       "      <th></th>\n",
       "    </tr>\n",
       "  </thead>\n",
       "  <tbody>\n",
       "    <tr>\n",
       "      <th>California</th>\n",
       "      <td>0.120365</td>\n",
       "      <td>0.118016</td>\n",
       "    </tr>\n",
       "    <tr>\n",
       "      <th>Texas</th>\n",
       "      <td>0.076825</td>\n",
       "      <td>0.089552</td>\n",
       "    </tr>\n",
       "    <tr>\n",
       "      <th>Florida</th>\n",
       "      <td>0.060985</td>\n",
       "      <td>0.065988</td>\n",
       "    </tr>\n",
       "    <tr>\n",
       "      <th>New York</th>\n",
       "      <td>0.058005</td>\n",
       "      <td>0.057197</td>\n",
       "    </tr>\n",
       "    <tr>\n",
       "      <th>Pennsylvania</th>\n",
       "      <td>0.040955</td>\n",
       "      <td>0.038100</td>\n",
       "    </tr>\n",
       "  </tbody>\n",
       "</table>\n",
       "</div>"
      ],
      "text/plain": [
       "              Patient Data       Pop\n",
       "State                               \n",
       "California        0.120365  0.118016\n",
       "Texas             0.076825  0.089552\n",
       "Florida           0.060985  0.065988\n",
       "New York          0.058005  0.057197\n",
       "Pennsylvania      0.040955  0.038100"
      ]
     },
     "metadata": {},
     "output_type": "display_data"
    },
    {
     "data": {
      "text/plain": [
       "<AxesSubplot:xlabel='State'>"
      ]
     },
     "execution_count": 182,
     "metadata": {},
     "output_type": "execute_result"
    },
    {
     "data": {
      "image/png": "[encoded data removed]",
      "text/plain": [
       "<Figure size 1008x504 with 1 Axes>"
      ]
     },
     "metadata": {
      "needs_background": "light"
     },
     "output_type": "display_data"
    }
   ],
   "source": [
    "# TODO: Write out answers to the questions above\n",
    "# 5\n",
    "print(df['state'].value_counts())\n",
    "\n",
    "# 6\n",
    "# I'd say the distributions are roughly the same, with the exception of\n",
    "# utah, nevada, puerto rico and DC; where there seem to be a bit of \n",
    "# patient data missing\n",
    "df2 = pd.read_csv(\"csvData.csv\", index_col='State')\n",
    "df2['Patient Data'] = df['state'].value_counts()\n",
    "df2 = df2[['Patient Data', 'Pop']]\n",
    "df2['Patient Data'] = df2['Patient Data'] / df2['Patient Data'].sum()\n",
    "df2['Pop'] = df2['Pop'] / df2['Pop'].sum()\n",
    "display(df2.head())\n",
    "\n",
    "fig, ax = plt.subplots(figsize=(14,7))\n",
    "df2.plot(kind='bar', ax=ax)"
   ]
  },
  {
   "cell_type": "markdown",
   "metadata": {},
   "source": [
    "## Statistics and Probability Theory"
   ]
  },
  {
   "cell_type": "markdown",
   "metadata": {},
   "source": [
    "1.  You are given a random number generator that samples uniformly in the range [0, 1]. Estimate the area of the unit circle. Explain, as best you can, what the approximation error of your solution is."
   ]
  },
  {
   "cell_type": "code",
   "execution_count": 245,
   "metadata": {
    "id": "oZ5lxKehaSOu"
   },
   "outputs": [
    {
     "name": "stdout",
     "output_type": "stream",
     "text": [
      "[False  True] [7852994 2147006]\n"
     ]
    },
    {
     "data": {
      "text/plain": [
       "3.1411976"
      ]
     },
     "execution_count": 245,
     "metadata": {},
     "output_type": "execute_result"
    }
   ],
   "source": [
    "# TODO: Write out answer to the question above\n",
    "x, y = np.random.random(size=(2,10000000))\n",
    "\n",
    "# True is outside the circle (so square)\n",
    "labels, counts = np.unique(np.sqrt((x**2+y**2)) > 1, return_counts=True)\n",
    "\n",
    "# first number count of circle, second count of square ONLY\n",
    "print(labels, counts)\n",
    "\n",
    "# circle = pi r ** 2 = pi (r = 1)\n",
    "# square = d ** 2 = 2 **2 = 4\n",
    "# so circle / square = pi / 4\n",
    "# circle / square * 4 = pi\n",
    "\n",
    "# ratio of circle samples / square samples (all) * 4\n",
    "counts[0]/(counts.sum())*4"
   ]
  },
  {
   "cell_type": "markdown",
   "metadata": {},
   "source": [
    "The error quickly falls off the larger values of n we use:"
   ]
  },
  {
   "cell_type": "code",
   "execution_count": 248,
   "metadata": {},
   "outputs": [],
   "source": [
    "def est_pi(n=10):\n",
    "    # TODO: Write out answer to the question above\n",
    "    x, y = np.random.random(size=(2,n))\n",
    "\n",
    "    # True is outside the circle (so square)\n",
    "    labels, counts = np.unique(np.sqrt((x**2+y**2)) > 1, return_counts=True)\n",
    "\n",
    "    # first number count of circle, second count of square ONLY\n",
    "    # print(labels, counts)\n",
    "\n",
    "    # circle = pi r ** 2 = pi (r = 1)\n",
    "    # square = d ** 2 = 2 **2 = 4\n",
    "    # so circle / square = pi / 4\n",
    "    # circle / square * 4 = pi\n",
    "\n",
    "    # ratio of circle samples / square samples (all) * 4\n",
    "    return counts[0]/(counts.sum())*4"
   ]
  },
  {
   "cell_type": "code",
   "execution_count": 255,
   "metadata": {},
   "outputs": [],
   "source": [
    "pis = []\n",
    "ns = [10, 1e2, 1e3, 1e4, 1e5, 1e6, 1e7, 1e8]\n",
    "for n in ns:\n",
    "    pis.append([n, est_pi(int(n))])"
   ]
  },
  {
   "cell_type": "code",
   "execution_count": 257,
   "metadata": {},
   "outputs": [],
   "source": [
    "pi_sim = pd.DataFrame(pis, columns=['n', 'pi est'])\n",
    "pi_sim['error'] = abs(pi_sim['pi est'] - np.pi)"
   ]
  },
  {
   "cell_type": "code",
   "execution_count": 260,
   "metadata": {},
   "outputs": [
    {
     "data": {
      "image/png": "[encoded data removed]",
      "text/plain": [
       "<Figure size 432x288 with 1 Axes>"
      ]
     },
     "metadata": {
      "needs_background": "light"
     },
     "output_type": "display_data"
    }
   ],
   "source": [
    "pi_sim.plot('n', 'error')\n",
    "plt.xscale('log')"
   ]
  },
  {
   "cell_type": "markdown",
   "metadata": {
    "id": "23tbDLw0pczv"
   },
   "source": [
    "2.  To pass the time, you decide to play a game with your friends Alice and Bob. You take turns rolling a six-sided die.  Alice wins if she rolls a 6, Bob wins if he rolls a 1, and you win if you roll a 3. The game continues until someone wins. What is the probability that you win if you go first?"
   ]
  },
  {
   "cell_type": "code",
   "execution_count": 176,
   "metadata": {
    "id": "oZ5lxKehaSOu"
   },
   "outputs": [
    {
     "name": "stdout",
     "output_type": "stream",
     "text": [
      "0.3950462644685085\n"
     ]
    }
   ],
   "source": [
    "# TODO: Write out answer to the question above\n",
    "# alice: 6\n",
    "# bob: 1\n",
    "# me: 3\n",
    "# simple combinatorics question. \n",
    "# first roll i have 1/6 chance of winning\n",
    "# the chance of me making it to my next chance is 5/6 (my roll) * 5/6 (bobs roll) * 5/6 (alice roll)\n",
    "# (out of 6*6*6 (216) possible outcomes in 125 of them the game continues)\n",
    "# ALICE ROLLS = 1 2 3 4 5 (6)\n",
    "# BOB ROLLS = (1) 2 3 4 5 6\n",
    "# then I have a 1/6 of rolling a winning roll again\n",
    "1/6 + 5/6*5/6*5/6*1/6 + (5/6*5/6*5/6)*(5/6*5/6*5/6*1/6) + (5/6*5/6*5/6)*(5/6*5/6*5/6)*(5/6*5/6*5/6*1/6)\n",
    "\n",
    "# or more succintly:\n",
    "a = (5/6*5/6*5/6)\n",
    "b = 1/6\n",
    "print(1/6 + a**1*b + a**2*b + a**3*b + a**4*b + a**5*b + a**6*b + \n",
    "      a**7*b + a**8*b + a**9*b + a**10*b +a**11*b)"
   ]
  },
  {
   "cell_type": "markdown",
   "metadata": {},
   "source": [
    "3.  Implement a simulation of the game described above to verify your solution."
   ]
  },
  {
   "cell_type": "code",
   "execution_count": 173,
   "metadata": {
    "id": "oZ5lxKehaSOu"
   },
   "outputs": [
    {
     "name": "stdout",
     "output_type": "stream",
     "text": [
      "I win about 39.82% of the time when I go first\n"
     ]
    }
   ],
   "source": [
    "# TODO: Write out answer to the question above\n",
    "from itertools import cycle\n",
    "status = []\n",
    "for i in range(10000):\n",
    "    \n",
    "    # this will ensure that every game starts with me going first\n",
    "    players = cycle(['Me', 'Alice', 'Bob'])\n",
    "    win_rolls = cycle([3, 6, 1])\n",
    "    no_winner = True\n",
    "    \n",
    "    # we play every game until there is a winner\n",
    "    while no_winner:\n",
    "        \n",
    "        # update who is playing and their roll\n",
    "        player = next(players)\n",
    "        win_roll = next(win_rolls)\n",
    "        roll = np.random.randint(1, 7, 1)[0]\n",
    "        \n",
    "        # if its a win, but not for me, i lose\n",
    "        if roll == win_roll and player != 'Me':\n",
    "            status.append('loss')\n",
    "            no_winner = False\n",
    "            \n",
    "        # elif its a win and is for me, i win!!\n",
    "        elif roll == win_roll and player == 'Me':\n",
    "            status.append('win')\n",
    "            no_winner = False\n",
    "            \n",
    "        # otherwise we keep going\n",
    "        else:\n",
    "            continue\n",
    "simulation = pd.DataFrame(status)\n",
    "print(f\"I win about {(simulation.value_counts()/simulation.shape[0])['win']*100:.2f}% of the time when I go first\")"
   ]
  }
 ],
 "metadata": {
  "colab": {
   "name": "Data Science Take-home",
   "provenance": []
  },
  "kernelspec": {
   "display_name": "Python 3 (ipykernel)",
   "language": "python",
   "name": "python3"
  },
  "language_info": {
   "codemirror_mode": {
    "name": "ipython",
    "version": 3
   },
   "file_extension": ".py",
   "mimetype": "text/x-python",
   "name": "python",
   "nbconvert_exporter": "python",
   "pygments_lexer": "ipython3",
   "version": "3.9.7"
  },
  "latex_envs": {
   "LaTeX_envs_menu_present": true,
   "autoclose": false,
   "autocomplete": true,
   "bibliofile": "biblio.bib",
   "cite_by": "apalike",
   "current_citInitial": 1,
   "eqLabelWithNumbers": true,
   "eqNumInitial": 1,
   "hotkeys": {
    "equation": "Ctrl-E",
    "itemize": "Ctrl-I"
   },
   "labels_anchors": false,
   "latex_user_defs": false,
   "report_style_numbering": false,
   "user_envs_cfg": false
  },
  "toc": {
   "base_numbering": 1,
   "nav_menu": {},
   "number_sections": true,
   "sideBar": true,
   "skip_h1_title": false,
   "title_cell": "Table of Contents",
   "title_sidebar": "Contents",
   "toc_cell": false,
   "toc_position": {},
   "toc_section_display": true,
   "toc_window_display": true
  }
 },
 "nbformat": 4,
 "nbformat_minor": 4
}
