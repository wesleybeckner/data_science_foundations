{
 "cells": [
  {
   "cell_type": "markdown",
   "id": "3313b3b5-1798-4d39-ac9c-f26a02e9e840",
   "metadata": {},
   "source": [
    "# What makes a playlist successful?\n",
    "\n",
    "* Analysis\n",
    "    * Design metric:\n",
    "        * 30s listens/tot listens (listen conversions)\n",
    "        * users both months/users prev month (user conversions)\n",
    "        * best small time performers (less than X total monthly listens + high conversion)\n",
    "        * best new user playlist (owner has only 1 popular playlist)\n",
    "    * Define \"top\": binary top 10%, binary top 1%\n",
    "* Slide deck\n",
    "* Web App \n",
    "    * simulates playlist metadata; generates performance estimate"
   ]
  },
  {
   "cell_type": "markdown",
   "id": "abe62b34-c100-4593-a168-13d6eb3628e5",
   "metadata": {},
   "source": [
    "## Imports"
   ]
  },
  {
   "cell_type": "code",
   "execution_count": 75,
   "id": "a2b3d65d-25f8-418c-a4eb-5e08edbb0866",
   "metadata": {},
   "outputs": [],
   "source": [
    "# basic packages\n",
    "import pandas as pd\n",
    "pd.set_option('display.max_columns', 500)\n",
    "import numpy as np\n",
    "import random\n",
    "import copy\n",
    "\n",
    "# visualization packages\n",
    "import matplotlib.pyplot as plt\n",
    "import plotly.express as px\n",
    "import seaborn as sns; sns.set()\n",
    "import graphviz \n",
    "\n",
    "# stats packages\n",
    "import scipy.stats as stats\n",
    "from scipy.spatial.distance import cdist\n",
    "import statsmodels.api as sm\n",
    "from statsmodels.formula.api import ols\n",
    "from statsmodels.stats.outliers_influence import variance_inflation_factor\n",
    "\n",
    "# sklearn preprocessing\n",
    "from sklearn.preprocessing import OneHotEncoder, StandardScaler, PolynomialFeatures\n",
    "from sklearn.decomposition import PCA\n",
    "from sklearn.impute import SimpleImputer\n",
    "from sklearn.model_selection import train_test_split\n",
    "from sklearn.pipeline import make_pipeline\n",
    "\n",
    "# sklearn modeling\n",
    "from sklearn.neighbors import KNeighborsRegressor\n",
    "from sklearn.ensemble import RandomForestClassifier, RandomForestRegressor, AdaBoostClassifier, GradientBoostingClassifier\n",
    "from sklearn.linear_model import LinearRegression, LogisticRegression\n",
    "from sklearn.mixture import GaussianMixture\n",
    "\n",
    "# sklearn evaluation\n",
    "from sklearn.metrics import mean_squared_error, r2_score, accuracy_score, classification_report, confusion_matrix\n",
    "from sklearn.model_selection import GridSearchCV, cross_val_score\n"
   ]
  },
  {
   "cell_type": "code",
   "execution_count": 2,
   "id": "59f68722-4e6b-4740-8a79-c2ff7a03c64d",
   "metadata": {},
   "outputs": [],
   "source": [
    "df = pd.read_csv(\"playlist_summary_external-4.txt\", delimiter='\\t')"
   ]
  },
  {
   "cell_type": "code",
   "execution_count": 76,
   "id": "963981d3-8b5d-4e2d-ac73-fff0f16b3f22",
   "metadata": {},
   "outputs": [
    {
     "data": {
      "text/html": [
       "<div>\n",
       "<style scoped>\n",
       "    .dataframe tbody tr th:only-of-type {\n",
       "        vertical-align: middle;\n",
       "    }\n",
       "\n",
       "    .dataframe tbody tr th {\n",
       "        vertical-align: top;\n",
       "    }\n",
       "\n",
       "    .dataframe thead th {\n",
       "        text-align: right;\n",
       "    }\n",
       "</style>\n",
       "<table border=\"1\" class=\"dataframe\">\n",
       "  <thead>\n",
       "    <tr style=\"text-align: right;\">\n",
       "      <th></th>\n",
       "      <th>playlist_uri</th>\n",
       "      <th>owner</th>\n",
       "      <th>streams</th>\n",
       "      <th>stream30s</th>\n",
       "      <th>dau</th>\n",
       "      <th>wau</th>\n",
       "      <th>mau</th>\n",
       "      <th>mau_previous_month</th>\n",
       "      <th>mau_both_months</th>\n",
       "      <th>users</th>\n",
       "      <th>skippers</th>\n",
       "      <th>owner_country</th>\n",
       "      <th>n_tracks</th>\n",
       "      <th>n_local_tracks</th>\n",
       "      <th>n_artists</th>\n",
       "      <th>n_albums</th>\n",
       "      <th>monthly_stream30s</th>\n",
       "      <th>monthly_owner_stream30s</th>\n",
       "      <th>tokens</th>\n",
       "      <th>genre_1</th>\n",
       "      <th>genre_2</th>\n",
       "      <th>genre_3</th>\n",
       "      <th>mood_1</th>\n",
       "      <th>mood_2</th>\n",
       "      <th>mood_3</th>\n",
       "    </tr>\n",
       "  </thead>\n",
       "  <tbody>\n",
       "    <tr>\n",
       "      <th>0</th>\n",
       "      <td>spotify:user:36069af6af076ccd9e597184a67b68c9:...</td>\n",
       "      <td>36069af6af076ccd9e597184a67b68c9</td>\n",
       "      <td>27</td>\n",
       "      <td>27</td>\n",
       "      <td>1</td>\n",
       "      <td>1</td>\n",
       "      <td>3</td>\n",
       "      <td>3</td>\n",
       "      <td>0</td>\n",
       "      <td>8</td>\n",
       "      <td>0</td>\n",
       "      <td>US</td>\n",
       "      <td>52</td>\n",
       "      <td>0</td>\n",
       "      <td>4</td>\n",
       "      <td>7</td>\n",
       "      <td>30</td>\n",
       "      <td>27</td>\n",
       "      <td>[\"ambient\", \"music\", \"therapy\", \"binaural\", \"b...</td>\n",
       "      <td>Dance &amp; House</td>\n",
       "      <td>New Age</td>\n",
       "      <td>Country &amp; Folk</td>\n",
       "      <td>Peaceful</td>\n",
       "      <td>Romantic</td>\n",
       "      <td>Somber</td>\n",
       "    </tr>\n",
       "    <tr>\n",
       "      <th>1</th>\n",
       "      <td>spotify:user:d1144a65b1c31c5f9f56b94f831124d5:...</td>\n",
       "      <td>d1144a65b1c31c5f9f56b94f831124d5</td>\n",
       "      <td>0</td>\n",
       "      <td>0</td>\n",
       "      <td>0</td>\n",
       "      <td>1</td>\n",
       "      <td>2</td>\n",
       "      <td>1</td>\n",
       "      <td>1</td>\n",
       "      <td>3</td>\n",
       "      <td>0</td>\n",
       "      <td>US</td>\n",
       "      <td>131</td>\n",
       "      <td>0</td>\n",
       "      <td>112</td>\n",
       "      <td>113</td>\n",
       "      <td>112</td>\n",
       "      <td>94</td>\n",
       "      <td>[\"good\", \"living\"]</td>\n",
       "      <td>Pop</td>\n",
       "      <td>Indie Rock</td>\n",
       "      <td>Alternative</td>\n",
       "      <td>Excited</td>\n",
       "      <td>Yearning</td>\n",
       "      <td>Defiant</td>\n",
       "    </tr>\n",
       "    <tr>\n",
       "      <th>2</th>\n",
       "      <td>spotify:user:6b7fbed9edd6418ddd3b555bba441536:...</td>\n",
       "      <td>6b7fbed9edd6418ddd3b555bba441536</td>\n",
       "      <td>4</td>\n",
       "      <td>2</td>\n",
       "      <td>1</td>\n",
       "      <td>1</td>\n",
       "      <td>7</td>\n",
       "      <td>5</td>\n",
       "      <td>0</td>\n",
       "      <td>15</td>\n",
       "      <td>0</td>\n",
       "      <td>US</td>\n",
       "      <td>43</td>\n",
       "      <td>0</td>\n",
       "      <td>35</td>\n",
       "      <td>36</td>\n",
       "      <td>63</td>\n",
       "      <td>0</td>\n",
       "      <td>[\"norte\\u00f1a\"]</td>\n",
       "      <td>Latin</td>\n",
       "      <td>-</td>\n",
       "      <td>-</td>\n",
       "      <td>Lively</td>\n",
       "      <td>Upbeat</td>\n",
       "      <td>Romantic</td>\n",
       "    </tr>\n",
       "    <tr>\n",
       "      <th>3</th>\n",
       "      <td>spotify:user:580b98725077a94c3c8d01d07390426b:...</td>\n",
       "      <td>580b98725077a94c3c8d01d07390426b</td>\n",
       "      <td>12</td>\n",
       "      <td>12</td>\n",
       "      <td>1</td>\n",
       "      <td>1</td>\n",
       "      <td>4</td>\n",
       "      <td>6</td>\n",
       "      <td>1</td>\n",
       "      <td>10</td>\n",
       "      <td>0</td>\n",
       "      <td>US</td>\n",
       "      <td>27</td>\n",
       "      <td>1</td>\n",
       "      <td>27</td>\n",
       "      <td>26</td>\n",
       "      <td>154</td>\n",
       "      <td>108</td>\n",
       "      <td>[]</td>\n",
       "      <td>Dance &amp; House</td>\n",
       "      <td>Electronica</td>\n",
       "      <td>Pop</td>\n",
       "      <td>Excited</td>\n",
       "      <td>Aggressive</td>\n",
       "      <td>Defiant</td>\n",
       "    </tr>\n",
       "    <tr>\n",
       "      <th>4</th>\n",
       "      <td>spotify:user:1305d39070c95d161cc502e15014897d:...</td>\n",
       "      <td>1305d39070c95d161cc502e15014897d</td>\n",
       "      <td>20</td>\n",
       "      <td>4</td>\n",
       "      <td>1</td>\n",
       "      <td>1</td>\n",
       "      <td>2</td>\n",
       "      <td>1</td>\n",
       "      <td>1</td>\n",
       "      <td>2</td>\n",
       "      <td>1</td>\n",
       "      <td>US</td>\n",
       "      <td>52</td>\n",
       "      <td>0</td>\n",
       "      <td>47</td>\n",
       "      <td>51</td>\n",
       "      <td>230</td>\n",
       "      <td>0</td>\n",
       "      <td>[\"cheesy\", \"pants\"]</td>\n",
       "      <td>Indie Rock</td>\n",
       "      <td>Alternative</td>\n",
       "      <td>Electronica</td>\n",
       "      <td>Excited</td>\n",
       "      <td>Defiant</td>\n",
       "      <td>Yearning</td>\n",
       "    </tr>\n",
       "  </tbody>\n",
       "</table>\n",
       "</div>"
      ],
      "text/plain": [
       "                                        playlist_uri  \\\n",
       "0  spotify:user:36069af6af076ccd9e597184a67b68c9:...   \n",
       "1  spotify:user:d1144a65b1c31c5f9f56b94f831124d5:...   \n",
       "2  spotify:user:6b7fbed9edd6418ddd3b555bba441536:...   \n",
       "3  spotify:user:580b98725077a94c3c8d01d07390426b:...   \n",
       "4  spotify:user:1305d39070c95d161cc502e15014897d:...   \n",
       "\n",
       "                              owner  streams  stream30s  dau  wau  mau  \\\n",
       "0  36069af6af076ccd9e597184a67b68c9       27         27    1    1    3   \n",
       "1  d1144a65b1c31c5f9f56b94f831124d5        0          0    0    1    2   \n",
       "2  6b7fbed9edd6418ddd3b555bba441536        4          2    1    1    7   \n",
       "3  580b98725077a94c3c8d01d07390426b       12         12    1    1    4   \n",
       "4  1305d39070c95d161cc502e15014897d       20          4    1    1    2   \n",
       "\n",
       "   mau_previous_month  mau_both_months  users  skippers owner_country  \\\n",
       "0                   3                0      8         0            US   \n",
       "1                   1                1      3         0            US   \n",
       "2                   5                0     15         0            US   \n",
       "3                   6                1     10         0            US   \n",
       "4                   1                1      2         1            US   \n",
       "\n",
       "   n_tracks  n_local_tracks  n_artists  n_albums  monthly_stream30s  \\\n",
       "0        52               0          4         7                 30   \n",
       "1       131               0        112       113                112   \n",
       "2        43               0         35        36                 63   \n",
       "3        27               1         27        26                154   \n",
       "4        52               0         47        51                230   \n",
       "\n",
       "   monthly_owner_stream30s                                             tokens  \\\n",
       "0                       27  [\"ambient\", \"music\", \"therapy\", \"binaural\", \"b...   \n",
       "1                       94                                 [\"good\", \"living\"]   \n",
       "2                        0                                   [\"norte\\u00f1a\"]   \n",
       "3                      108                                                 []   \n",
       "4                        0                                [\"cheesy\", \"pants\"]   \n",
       "\n",
       "         genre_1      genre_2         genre_3    mood_1      mood_2    mood_3  \n",
       "0  Dance & House      New Age  Country & Folk  Peaceful    Romantic    Somber  \n",
       "1            Pop   Indie Rock     Alternative   Excited    Yearning   Defiant  \n",
       "2          Latin            -               -    Lively      Upbeat  Romantic  \n",
       "3  Dance & House  Electronica             Pop   Excited  Aggressive   Defiant  \n",
       "4     Indie Rock  Alternative     Electronica   Excited     Defiant  Yearning  "
      ]
     },
     "execution_count": 76,
     "metadata": {},
     "output_type": "execute_result"
    }
   ],
   "source": [
    "df.head()"
   ]
  },
  {
   "cell_type": "code",
   "execution_count": 77,
   "id": "f6155ced-cff4-43a5-b21d-f4755c69c644",
   "metadata": {},
   "outputs": [
    {
     "data": {
      "text/html": [
       "<div>\n",
       "<style scoped>\n",
       "    .dataframe tbody tr th:only-of-type {\n",
       "        vertical-align: middle;\n",
       "    }\n",
       "\n",
       "    .dataframe tbody tr th {\n",
       "        vertical-align: top;\n",
       "    }\n",
       "\n",
       "    .dataframe thead th {\n",
       "        text-align: right;\n",
       "    }\n",
       "</style>\n",
       "<table border=\"1\" class=\"dataframe\">\n",
       "  <thead>\n",
       "    <tr style=\"text-align: right;\">\n",
       "      <th></th>\n",
       "      <th>playlist_uri</th>\n",
       "      <th>owner</th>\n",
       "      <th>streams</th>\n",
       "      <th>stream30s</th>\n",
       "      <th>dau</th>\n",
       "      <th>wau</th>\n",
       "      <th>mau</th>\n",
       "      <th>mau_previous_month</th>\n",
       "      <th>mau_both_months</th>\n",
       "      <th>users</th>\n",
       "      <th>skippers</th>\n",
       "      <th>owner_country</th>\n",
       "      <th>n_tracks</th>\n",
       "      <th>n_local_tracks</th>\n",
       "      <th>n_artists</th>\n",
       "      <th>n_albums</th>\n",
       "      <th>monthly_stream30s</th>\n",
       "      <th>monthly_owner_stream30s</th>\n",
       "      <th>tokens</th>\n",
       "      <th>genre_1</th>\n",
       "      <th>genre_2</th>\n",
       "      <th>genre_3</th>\n",
       "      <th>mood_1</th>\n",
       "      <th>mood_2</th>\n",
       "      <th>mood_3</th>\n",
       "    </tr>\n",
       "  </thead>\n",
       "  <tbody>\n",
       "    <tr>\n",
       "      <th>403361</th>\n",
       "      <td>spotify:user:4672952d42bdd93b9215ce9a40394ea6:...</td>\n",
       "      <td>4672952d42bdd93b9215ce9a40394ea6</td>\n",
       "      <td>18</td>\n",
       "      <td>6</td>\n",
       "      <td>2</td>\n",
       "      <td>6</td>\n",
       "      <td>13</td>\n",
       "      <td>12</td>\n",
       "      <td>8</td>\n",
       "      <td>20</td>\n",
       "      <td>1</td>\n",
       "      <td>US</td>\n",
       "      <td>48</td>\n",
       "      <td>0</td>\n",
       "      <td>44</td>\n",
       "      <td>48</td>\n",
       "      <td>464</td>\n",
       "      <td>43</td>\n",
       "      <td>[\"discover\", \"mix\"]</td>\n",
       "      <td>Indie Rock</td>\n",
       "      <td>Alternative</td>\n",
       "      <td>Dance &amp; House</td>\n",
       "      <td>Excited</td>\n",
       "      <td>Yearning</td>\n",
       "      <td>Energizing</td>\n",
       "    </tr>\n",
       "    <tr>\n",
       "      <th>403362</th>\n",
       "      <td>spotify:user:28c4378e099b4843f5dd42bb848c78ea:...</td>\n",
       "      <td>28c4378e099b4843f5dd42bb848c78ea</td>\n",
       "      <td>0</td>\n",
       "      <td>0</td>\n",
       "      <td>0</td>\n",
       "      <td>0</td>\n",
       "      <td>2</td>\n",
       "      <td>1</td>\n",
       "      <td>1</td>\n",
       "      <td>3</td>\n",
       "      <td>0</td>\n",
       "      <td>US</td>\n",
       "      <td>182</td>\n",
       "      <td>27</td>\n",
       "      <td>114</td>\n",
       "      <td>129</td>\n",
       "      <td>44</td>\n",
       "      <td>14</td>\n",
       "      <td>[\"ambient\", \"study\", \"music\"]</td>\n",
       "      <td>Electronica</td>\n",
       "      <td>Dance &amp; House</td>\n",
       "      <td>Rap</td>\n",
       "      <td>Sensual</td>\n",
       "      <td>Excited</td>\n",
       "      <td>Brooding</td>\n",
       "    </tr>\n",
       "    <tr>\n",
       "      <th>403363</th>\n",
       "      <td>spotify:user:1c54302dc7e610a10c51eed81e26a168:...</td>\n",
       "      <td>1c54302dc7e610a10c51eed81e26a168</td>\n",
       "      <td>0</td>\n",
       "      <td>0</td>\n",
       "      <td>0</td>\n",
       "      <td>2</td>\n",
       "      <td>2</td>\n",
       "      <td>0</td>\n",
       "      <td>0</td>\n",
       "      <td>2</td>\n",
       "      <td>0</td>\n",
       "      <td>US</td>\n",
       "      <td>36</td>\n",
       "      <td>0</td>\n",
       "      <td>16</td>\n",
       "      <td>15</td>\n",
       "      <td>82</td>\n",
       "      <td>80</td>\n",
       "      <td>[\"october\"]</td>\n",
       "      <td>Rap</td>\n",
       "      <td>Indie Rock</td>\n",
       "      <td>Alternative</td>\n",
       "      <td>Brooding</td>\n",
       "      <td>Defiant</td>\n",
       "      <td>Sophisticated</td>\n",
       "    </tr>\n",
       "    <tr>\n",
       "      <th>403364</th>\n",
       "      <td>spotify:user:adc973443cdf1abecdfb4244e530d451:...</td>\n",
       "      <td>adc973443cdf1abecdfb4244e530d451</td>\n",
       "      <td>0</td>\n",
       "      <td>0</td>\n",
       "      <td>0</td>\n",
       "      <td>0</td>\n",
       "      <td>2</td>\n",
       "      <td>0</td>\n",
       "      <td>0</td>\n",
       "      <td>2</td>\n",
       "      <td>0</td>\n",
       "      <td>US</td>\n",
       "      <td>50</td>\n",
       "      <td>0</td>\n",
       "      <td>25</td>\n",
       "      <td>25</td>\n",
       "      <td>2</td>\n",
       "      <td>0</td>\n",
       "      <td>[]</td>\n",
       "      <td>Rap</td>\n",
       "      <td>R&amp;B</td>\n",
       "      <td>Latin</td>\n",
       "      <td>Defiant</td>\n",
       "      <td>Energizing</td>\n",
       "      <td>Aggressive</td>\n",
       "    </tr>\n",
       "    <tr>\n",
       "      <th>403365</th>\n",
       "      <td>spotify:user:b3752c94e387192b7950b687453bcf45:...</td>\n",
       "      <td>b3752c94e387192b7950b687453bcf45</td>\n",
       "      <td>74</td>\n",
       "      <td>16</td>\n",
       "      <td>1</td>\n",
       "      <td>1</td>\n",
       "      <td>2</td>\n",
       "      <td>1</td>\n",
       "      <td>1</td>\n",
       "      <td>3</td>\n",
       "      <td>1</td>\n",
       "      <td>US</td>\n",
       "      <td>348</td>\n",
       "      <td>10</td>\n",
       "      <td>281</td>\n",
       "      <td>290</td>\n",
       "      <td>216</td>\n",
       "      <td>178</td>\n",
       "      <td>[\"eclecticism\"]</td>\n",
       "      <td>Rap</td>\n",
       "      <td>Rock</td>\n",
       "      <td>Alternative</td>\n",
       "      <td>Defiant</td>\n",
       "      <td>Energizing</td>\n",
       "      <td>Cool</td>\n",
       "    </tr>\n",
       "  </tbody>\n",
       "</table>\n",
       "</div>"
      ],
      "text/plain": [
       "                                             playlist_uri  \\\n",
       "403361  spotify:user:4672952d42bdd93b9215ce9a40394ea6:...   \n",
       "403362  spotify:user:28c4378e099b4843f5dd42bb848c78ea:...   \n",
       "403363  spotify:user:1c54302dc7e610a10c51eed81e26a168:...   \n",
       "403364  spotify:user:adc973443cdf1abecdfb4244e530d451:...   \n",
       "403365  spotify:user:b3752c94e387192b7950b687453bcf45:...   \n",
       "\n",
       "                                   owner  streams  stream30s  dau  wau  mau  \\\n",
       "403361  4672952d42bdd93b9215ce9a40394ea6       18          6    2    6   13   \n",
       "403362  28c4378e099b4843f5dd42bb848c78ea        0          0    0    0    2   \n",
       "403363  1c54302dc7e610a10c51eed81e26a168        0          0    0    2    2   \n",
       "403364  adc973443cdf1abecdfb4244e530d451        0          0    0    0    2   \n",
       "403365  b3752c94e387192b7950b687453bcf45       74         16    1    1    2   \n",
       "\n",
       "        mau_previous_month  mau_both_months  users  skippers owner_country  \\\n",
       "403361                  12                8     20         1            US   \n",
       "403362                   1                1      3         0            US   \n",
       "403363                   0                0      2         0            US   \n",
       "403364                   0                0      2         0            US   \n",
       "403365                   1                1      3         1            US   \n",
       "\n",
       "        n_tracks  n_local_tracks  n_artists  n_albums  monthly_stream30s  \\\n",
       "403361        48               0         44        48                464   \n",
       "403362       182              27        114       129                 44   \n",
       "403363        36               0         16        15                 82   \n",
       "403364        50               0         25        25                  2   \n",
       "403365       348              10        281       290                216   \n",
       "\n",
       "        monthly_owner_stream30s                         tokens      genre_1  \\\n",
       "403361                       43            [\"discover\", \"mix\"]   Indie Rock   \n",
       "403362                       14  [\"ambient\", \"study\", \"music\"]  Electronica   \n",
       "403363                       80                    [\"october\"]          Rap   \n",
       "403364                        0                             []          Rap   \n",
       "403365                      178                [\"eclecticism\"]          Rap   \n",
       "\n",
       "              genre_2        genre_3    mood_1      mood_2         mood_3  \n",
       "403361    Alternative  Dance & House   Excited    Yearning     Energizing  \n",
       "403362  Dance & House            Rap   Sensual     Excited       Brooding  \n",
       "403363     Indie Rock    Alternative  Brooding     Defiant  Sophisticated  \n",
       "403364            R&B          Latin   Defiant  Energizing     Aggressive  \n",
       "403365           Rock    Alternative   Defiant  Energizing           Cool  "
      ]
     },
     "execution_count": 77,
     "metadata": {},
     "output_type": "execute_result"
    }
   ],
   "source": [
    "df.tail()"
   ]
  },
  {
   "cell_type": "code",
   "execution_count": 81,
   "id": "6ba6148e-cee1-4f9e-a6c1-9b65089f8236",
   "metadata": {},
   "outputs": [
    {
     "data": {
      "text/html": [
       "<div>\n",
       "<style scoped>\n",
       "    .dataframe tbody tr th:only-of-type {\n",
       "        vertical-align: middle;\n",
       "    }\n",
       "\n",
       "    .dataframe tbody tr th {\n",
       "        vertical-align: top;\n",
       "    }\n",
       "\n",
       "    .dataframe thead th {\n",
       "        text-align: right;\n",
       "    }\n",
       "</style>\n",
       "<table border=\"1\" class=\"dataframe\">\n",
       "  <thead>\n",
       "    <tr style=\"text-align: right;\">\n",
       "      <th></th>\n",
       "      <th>playlist_uri</th>\n",
       "      <th>owner</th>\n",
       "      <th>streams</th>\n",
       "      <th>stream30s</th>\n",
       "      <th>dau</th>\n",
       "      <th>wau</th>\n",
       "      <th>mau</th>\n",
       "      <th>mau_previous_month</th>\n",
       "      <th>mau_both_months</th>\n",
       "      <th>users</th>\n",
       "      <th>skippers</th>\n",
       "      <th>owner_country</th>\n",
       "      <th>n_tracks</th>\n",
       "      <th>n_local_tracks</th>\n",
       "      <th>n_artists</th>\n",
       "      <th>n_albums</th>\n",
       "      <th>monthly_stream30s</th>\n",
       "      <th>monthly_owner_stream30s</th>\n",
       "      <th>tokens</th>\n",
       "      <th>genre_1</th>\n",
       "      <th>genre_2</th>\n",
       "      <th>genre_3</th>\n",
       "      <th>mood_1</th>\n",
       "      <th>mood_2</th>\n",
       "      <th>mood_3</th>\n",
       "    </tr>\n",
       "  </thead>\n",
       "  <tbody>\n",
       "    <tr>\n",
       "      <th>152032</th>\n",
       "      <td>spotify:user:spotify:playlist:5FJXhjdILmRA2z5b...</td>\n",
       "      <td>spotify</td>\n",
       "      <td>2527075</td>\n",
       "      <td>1461324</td>\n",
       "      <td>152929</td>\n",
       "      <td>669966</td>\n",
       "      <td>1944150</td>\n",
       "      <td>1478684</td>\n",
       "      <td>578391</td>\n",
       "      <td>3455406</td>\n",
       "      <td>86162</td>\n",
       "      <td>US</td>\n",
       "      <td>51</td>\n",
       "      <td>0</td>\n",
       "      <td>51</td>\n",
       "      <td>51</td>\n",
       "      <td>42497334</td>\n",
       "      <td>22</td>\n",
       "      <td>[\"top\", \"hits\"]</td>\n",
       "      <td>Pop</td>\n",
       "      <td>R&amp;B</td>\n",
       "      <td>Dance &amp; House</td>\n",
       "      <td>Excited</td>\n",
       "      <td>Cool</td>\n",
       "      <td>Brooding</td>\n",
       "    </tr>\n",
       "    <tr>\n",
       "      <th>163726</th>\n",
       "      <td>spotify:user:spotify:playlist:4hOKQuZbraPDIfaG...</td>\n",
       "      <td>spotify</td>\n",
       "      <td>2629715</td>\n",
       "      <td>1513237</td>\n",
       "      <td>122005</td>\n",
       "      <td>514627</td>\n",
       "      <td>1453097</td>\n",
       "      <td>970905</td>\n",
       "      <td>364140</td>\n",
       "      <td>2448881</td>\n",
       "      <td>56707</td>\n",
       "      <td>US</td>\n",
       "      <td>100</td>\n",
       "      <td>0</td>\n",
       "      <td>93</td>\n",
       "      <td>86</td>\n",
       "      <td>40722305</td>\n",
       "      <td>0</td>\n",
       "      <td>[\"top\", \"tracks\", \"currently\", \"spotify\"]</td>\n",
       "      <td>Pop</td>\n",
       "      <td>Dance &amp; House</td>\n",
       "      <td>Indie Rock</td>\n",
       "      <td>Excited</td>\n",
       "      <td>Defiant</td>\n",
       "      <td>Energizing</td>\n",
       "    </tr>\n",
       "    <tr>\n",
       "      <th>216752</th>\n",
       "      <td>spotify:user:spotify:playlist:3ZgmfR6lsnCwdffZ...</td>\n",
       "      <td>spotify</td>\n",
       "      <td>735281</td>\n",
       "      <td>348391</td>\n",
       "      <td>43498</td>\n",
       "      <td>219817</td>\n",
       "      <td>688999</td>\n",
       "      <td>365968</td>\n",
       "      <td>109688</td>\n",
       "      <td>1233952</td>\n",
       "      <td>34145</td>\n",
       "      <td>US</td>\n",
       "      <td>100</td>\n",
       "      <td>0</td>\n",
       "      <td>100</td>\n",
       "      <td>99</td>\n",
       "      <td>9879201</td>\n",
       "      <td>0</td>\n",
       "      <td>[\"top\", \"pop\", \"tracks\", \"spotify\"]</td>\n",
       "      <td>Pop</td>\n",
       "      <td>R&amp;B</td>\n",
       "      <td>Rap</td>\n",
       "      <td>Excited</td>\n",
       "      <td>Defiant</td>\n",
       "      <td>Empowering</td>\n",
       "    </tr>\n",
       "    <tr>\n",
       "      <th>401060</th>\n",
       "      <td>spotify:user:spotify:playlist:3MlpudZs4HT3i0yG...</td>\n",
       "      <td>spotify</td>\n",
       "      <td>505876</td>\n",
       "      <td>245377</td>\n",
       "      <td>33152</td>\n",
       "      <td>121173</td>\n",
       "      <td>430129</td>\n",
       "      <td>339921</td>\n",
       "      <td>79443</td>\n",
       "      <td>973788</td>\n",
       "      <td>23846</td>\n",
       "      <td>US</td>\n",
       "      <td>43</td>\n",
       "      <td>0</td>\n",
       "      <td>41</td>\n",
       "      <td>42</td>\n",
       "      <td>5567649</td>\n",
       "      <td>44</td>\n",
       "      <td>[\"teen\", \"party\"]</td>\n",
       "      <td>Pop</td>\n",
       "      <td>R&amp;B</td>\n",
       "      <td>Rap</td>\n",
       "      <td>Excited</td>\n",
       "      <td>Yearning</td>\n",
       "      <td>Urgent</td>\n",
       "    </tr>\n",
       "    <tr>\n",
       "      <th>307283</th>\n",
       "      <td>spotify:user:spotify:playlist:04MJzJlzOoy5bTyt...</td>\n",
       "      <td>spotify</td>\n",
       "      <td>252309</td>\n",
       "      <td>124903</td>\n",
       "      <td>16480</td>\n",
       "      <td>68518</td>\n",
       "      <td>278966</td>\n",
       "      <td>448102</td>\n",
       "      <td>75371</td>\n",
       "      <td>917174</td>\n",
       "      <td>11888</td>\n",
       "      <td>US</td>\n",
       "      <td>296</td>\n",
       "      <td>0</td>\n",
       "      <td>1</td>\n",
       "      <td>1</td>\n",
       "      <td>4178965</td>\n",
       "      <td>8</td>\n",
       "      <td>[\"dance\", \"mega\", \"mix\"]</td>\n",
       "      <td>Dance &amp; House</td>\n",
       "      <td>Electronica</td>\n",
       "      <td>Pop</td>\n",
       "      <td>Excited</td>\n",
       "      <td>Aggressive</td>\n",
       "      <td>Energizing</td>\n",
       "    </tr>\n",
       "  </tbody>\n",
       "</table>\n",
       "</div>"
      ],
      "text/plain": [
       "                                             playlist_uri    owner  streams  \\\n",
       "152032  spotify:user:spotify:playlist:5FJXhjdILmRA2z5b...  spotify  2527075   \n",
       "163726  spotify:user:spotify:playlist:4hOKQuZbraPDIfaG...  spotify  2629715   \n",
       "216752  spotify:user:spotify:playlist:3ZgmfR6lsnCwdffZ...  spotify   735281   \n",
       "401060  spotify:user:spotify:playlist:3MlpudZs4HT3i0yG...  spotify   505876   \n",
       "307283  spotify:user:spotify:playlist:04MJzJlzOoy5bTyt...  spotify   252309   \n",
       "\n",
       "        stream30s     dau     wau      mau  mau_previous_month  \\\n",
       "152032    1461324  152929  669966  1944150             1478684   \n",
       "163726    1513237  122005  514627  1453097              970905   \n",
       "216752     348391   43498  219817   688999              365968   \n",
       "401060     245377   33152  121173   430129              339921   \n",
       "307283     124903   16480   68518   278966              448102   \n",
       "\n",
       "        mau_both_months    users  skippers owner_country  n_tracks  \\\n",
       "152032           578391  3455406     86162            US        51   \n",
       "163726           364140  2448881     56707            US       100   \n",
       "216752           109688  1233952     34145            US       100   \n",
       "401060            79443   973788     23846            US        43   \n",
       "307283            75371   917174     11888            US       296   \n",
       "\n",
       "        n_local_tracks  n_artists  n_albums  monthly_stream30s  \\\n",
       "152032               0         51        51           42497334   \n",
       "163726               0         93        86           40722305   \n",
       "216752               0        100        99            9879201   \n",
       "401060               0         41        42            5567649   \n",
       "307283               0          1         1            4178965   \n",
       "\n",
       "        monthly_owner_stream30s                                     tokens  \\\n",
       "152032                       22                            [\"top\", \"hits\"]   \n",
       "163726                        0  [\"top\", \"tracks\", \"currently\", \"spotify\"]   \n",
       "216752                        0        [\"top\", \"pop\", \"tracks\", \"spotify\"]   \n",
       "401060                       44                          [\"teen\", \"party\"]   \n",
       "307283                        8                   [\"dance\", \"mega\", \"mix\"]   \n",
       "\n",
       "              genre_1        genre_2        genre_3   mood_1      mood_2  \\\n",
       "152032            Pop            R&B  Dance & House  Excited        Cool   \n",
       "163726            Pop  Dance & House     Indie Rock  Excited     Defiant   \n",
       "216752            Pop            R&B            Rap  Excited     Defiant   \n",
       "401060            Pop            R&B            Rap  Excited    Yearning   \n",
       "307283  Dance & House    Electronica            Pop  Excited  Aggressive   \n",
       "\n",
       "            mood_3  \n",
       "152032    Brooding  \n",
       "163726  Energizing  \n",
       "216752  Empowering  \n",
       "401060      Urgent  \n",
       "307283  Energizing  "
      ]
     },
     "execution_count": 81,
     "metadata": {},
     "output_type": "execute_result"
    }
   ],
   "source": [
    "df.sort_values('users', ascending=False).head()"
   ]
  },
  {
   "cell_type": "code",
   "execution_count": 79,
   "id": "bbe27043-73be-4946-8012-06c4d6e93463",
   "metadata": {},
   "outputs": [
    {
     "data": {
      "text/plain": [
       "'spotify:user:4672952d42bdd93b9215ce9a40394ea6:playlist:6W45lqDBZ1TKma71Uu2F5x'"
      ]
     },
     "execution_count": 79,
     "metadata": {},
     "output_type": "execute_result"
    }
   ],
   "source": [
    "df.iloc[403361,0]"
   ]
  },
  {
   "cell_type": "code",
   "execution_count": 4,
   "id": "0bbbc224-143f-4ffd-8c66-8fd704dab178",
   "metadata": {},
   "outputs": [
    {
     "data": {
      "text/plain": [
       "Index(['playlist_uri', 'owner', 'streams', 'stream30s', 'dau', 'wau', 'mau',\n",
       "       'mau_previous_month', 'mau_both_months', 'users', 'skippers',\n",
       "       'owner_country', 'n_tracks', 'n_local_tracks', 'n_artists', 'n_albums',\n",
       "       'monthly_stream30s', 'monthly_owner_stream30s', 'tokens', 'genre_1',\n",
       "       'genre_2', 'genre_3', 'mood_1', 'mood_2', 'mood_3'],\n",
       "      dtype='object')"
      ]
     },
     "execution_count": 4,
     "metadata": {},
     "output_type": "execute_result"
    }
   ],
   "source": [
    "df.columns"
   ]
  },
  {
   "cell_type": "code",
   "execution_count": 74,
   "id": "5f89127f-039d-4a47-9dc7-2b287537ce86",
   "metadata": {},
   "outputs": [
    {
     "name": "stdout",
     "output_type": "stream",
     "text": [
      "id columns: ['playlist_uri', 'owner']\n",
      "target columns: ['streams', 'stream30s', 'dau', 'wau', 'mau', 'mau_previous_month', 'mau_both_months', 'users', 'skippers', 'monthly_stream30s', 'monthly_owner_stream30s']\n",
      "feature columns: ['n_tracks', 'mood_2', 'tokens', 'genre_3', 'owner_country', 'genre_2', 'genre_1', 'mood_3', 'n_artists', 'n_albums', 'n_local_tracks', 'mood_1']\n"
     ]
    }
   ],
   "source": [
    "id = [df.columns[0], df.columns[1]]\n",
    "targets = list(df.columns[2:11]) + [\"monthly_stream30s\", \"monthly_owner_stream30s\"]\n",
    "features = set(df.columns) - set(targets) - set(id)\n",
    "features = list(features)\n",
    "\n",
    "print(f\"id columns: {id}\")\n",
    "print(f\"target columns: {targets}\")\n",
    "print(f\"feature columns: {features}\")"
   ]
  },
  {
   "cell_type": "markdown",
   "id": "d7c3d0de-7a61-41ef-a092-2e2fbc4d6fc0",
   "metadata": {},
   "source": [
    "`stream30s`, `dau`, `wau`, `mau`, `monthly_stream30s`, `monthly_owner_stream30s`, `mau_previous_months` and `mau_both_months` are all specifically for users who have streamed the playlist for over 30 seconds\n",
    "\n",
    "Let's make the north star metric\n",
    "\n",
    "* `mau_previous_month` - tells us how many users have streamed over 30 seconds from the playlist this past month\n",
    "    * **downside**: since we don't know when the playlist was created, we may falsely label some playlists as having low rate of success\n",
    "\n",
    "Let's make a guardrail metric\n",
    "\n",
    "* `mau_both_months` - tells us if the playlist has replay value\n",
    "    * **downside**: since we don't know when the playlist was created, we don't know at what stage the playlist is in its lifetime, i.e. do users fall off from months 1-2 or months 10-11\n",
    "    \n",
    "* `stream30s` - number of streams over 30 seconds today; tells us demand of playlist unormalized by number of users accessing the stream (i.e. some users will stream multiple times)\n",
    "    * **downside** - a few users can dominate the overall number of listens\n",
    "    \n",
    "* `monthly_stream30s` - number of streams over 30 seconds for the month; will give us a longer term comparison between streams\n",
    "    * **downside** - playlists created at some point in the month will be compared unequally\n",
    "    \n",
    "Secondary metric\n",
    "\n",
    "* `monthly_owner_stream30s` - tells us if the owner or the playlist is significant in making a successful playlist; semi-feature column"
   ]
  },
  {
   "cell_type": "code",
   "execution_count": 6,
   "id": "51d31475-b8aa-41e9-b136-b67541c01c4c",
   "metadata": {},
   "outputs": [],
   "source": [
    "sub_targets = ['mau_previous_month', 'mau_both_months', 'monthly_stream30s', 'stream30s']"
   ]
  },
  {
   "cell_type": "markdown",
   "id": "89a1f155-4023-4813-9753-335326dfa2f4",
   "metadata": {},
   "source": [
    "## Depenent Variable"
   ]
  },
  {
   "cell_type": "markdown",
   "id": "fc6e3978-eef4-48c8-bd13-a67a9d60f2fc",
   "metadata": {},
   "source": [
    "it looks like `mau` may be from an incomplete month (comparing the frequency to `mau_previous_months`)"
   ]
  },
  {
   "cell_type": "code",
   "execution_count": 7,
   "id": "9ce40c42-40a8-4721-b795-c310c3d3bd94",
   "metadata": {},
   "outputs": [
    {
     "data": {
      "image/png": "[encoded data removed]",
      "text/plain": [
       "<Figure size 432x288 with 1 Axes>"
      ]
     },
     "metadata": {},
     "output_type": "display_data"
    },
    {
     "data": {
      "image/png": "[encoded data removed]",
      "text/plain": [
       "<Figure size 432x288 with 1 Axes>"
      ]
     },
     "metadata": {},
     "output_type": "display_data"
    },
    {
     "data": {
      "image/png": "[encoded data removed]",
      "text/plain": [
       "<Figure size 432x288 with 1 Axes>"
      ]
     },
     "metadata": {},
     "output_type": "display_data"
    },
    {
     "data": {
      "image/png": "[encoded data removed]",
      "text/plain": [
       "<Figure size 432x288 with 1 Axes>"
      ]
     },
     "metadata": {},
     "output_type": "display_data"
    },
    {
     "data": {
      "image/png": "[encoded data removed]",
      "text/plain": [
       "<Figure size 432x288 with 1 Axes>"
      ]
     },
     "metadata": {},
     "output_type": "display_data"
    },
    {
     "data": {
      "image/png": "[encoded data removed]",
      "text/plain": [
       "<Figure size 432x288 with 1 Axes>"
      ]
     },
     "metadata": {},
     "output_type": "display_data"
    },
    {
     "data": {
      "image/png": "[encoded data removed]",
      "text/plain": [
       "<Figure size 432x288 with 1 Axes>"
      ]
     },
     "metadata": {},
     "output_type": "display_data"
    },
    {
     "data": {
      "image/png": "[encoded data removed]",
      "text/plain": [
       "<Figure size 432x288 with 1 Axes>"
      ]
     },
     "metadata": {},
     "output_type": "display_data"
    },
    {
     "data": {
      "image/png": "[encoded data removed]",
      "text/plain": [
       "<Figure size 432x288 with 1 Axes>"
      ]
     },
     "metadata": {},
     "output_type": "display_data"
    },
    {
     "data": {
      "image/png": "[encoded data removed]",
      "text/plain": [
       "<Figure size 432x288 with 1 Axes>"
      ]
     },
     "metadata": {},
     "output_type": "display_data"
    },
    {
     "data": {
      "image/png": "[encoded data removed]",
      "text/plain": [
       "<Figure size 432x288 with 1 Axes>"
      ]
     },
     "metadata": {},
     "output_type": "display_data"
    }
   ],
   "source": [
    "quant = 0.99\n",
    "for target in targets:\n",
    "    cutoff = np.quantile(df[target], quant)\n",
    "    y = df.loc[df[target] < cutoff]\n",
    "    y.plot(kind='hist', y=target, bins=100)"
   ]
  },
  {
   "cell_type": "code",
   "execution_count": 8,
   "id": "a6b9a4fa-d991-4d6d-917a-5285cffbb3e5",
   "metadata": {},
   "outputs": [
    {
     "name": "stdout",
     "output_type": "stream",
     "text": [
      "removed items: 1212\n"
     ]
    },
    {
     "data": {
      "image/png": "[encoded data removed]",
      "text/plain": [
       "<Figure size 432x288 with 1 Axes>"
      ]
     },
     "metadata": {},
     "output_type": "display_data"
    },
    {
     "name": "stdout",
     "output_type": "stream",
     "text": [
      "removed items: 1216\n"
     ]
    },
    {
     "data": {
      "image/png": "[encoded data removed]",
      "text/plain": [
       "<Figure size 432x288 with 1 Axes>"
      ]
     },
     "metadata": {},
     "output_type": "display_data"
    },
    {
     "name": "stdout",
     "output_type": "stream",
     "text": [
      "removed items: 1211\n"
     ]
    },
    {
     "data": {
      "image/png": "[encoded data removed]",
      "text/plain": [
       "<Figure size 432x288 with 1 Axes>"
      ]
     },
     "metadata": {},
     "output_type": "display_data"
    },
    {
     "name": "stdout",
     "output_type": "stream",
     "text": [
      "removed items: 1211\n"
     ]
    },
    {
     "data": {
      "image/png": "[encoded data removed]",
      "text/plain": [
       "<Figure size 432x288 with 1 Axes>"
      ]
     },
     "metadata": {},
     "output_type": "display_data"
    }
   ],
   "source": [
    "quant = 0.997\n",
    "for target in sub_targets:\n",
    "    cutoff = np.quantile(df[target], quant)\n",
    "    y = df.loc[df[target] < cutoff]\n",
    "    removed = df.loc[~(df[target] < cutoff)]\n",
    "    print(f\"removed items: {removed.shape[0]}\")\n",
    "    y.plot(kind='hist', y=target, bins=100)\n",
    "    plt.show()"
   ]
  },
  {
   "cell_type": "code",
   "execution_count": 9,
   "id": "c02e4c2f-4093-4f16-82f5-6f756d9e7eef",
   "metadata": {},
   "outputs": [
    {
     "data": {
      "text/html": [
       "<div>\n",
       "<style scoped>\n",
       "    .dataframe tbody tr th:only-of-type {\n",
       "        vertical-align: middle;\n",
       "    }\n",
       "\n",
       "    .dataframe tbody tr th {\n",
       "        vertical-align: top;\n",
       "    }\n",
       "\n",
       "    .dataframe thead th {\n",
       "        text-align: right;\n",
       "    }\n",
       "</style>\n",
       "<table border=\"1\" class=\"dataframe\">\n",
       "  <thead>\n",
       "    <tr style=\"text-align: right;\">\n",
       "      <th></th>\n",
       "      <th>mau_previous_month</th>\n",
       "      <th>mau_both_months</th>\n",
       "      <th>monthly_stream30s</th>\n",
       "      <th>stream30s</th>\n",
       "    </tr>\n",
       "  </thead>\n",
       "  <tbody>\n",
       "    <tr>\n",
       "      <th>count</th>\n",
       "      <td>4.033660e+05</td>\n",
       "      <td>403366.000000</td>\n",
       "      <td>4.033660e+05</td>\n",
       "      <td>4.033660e+05</td>\n",
       "    </tr>\n",
       "    <tr>\n",
       "      <th>mean</th>\n",
       "      <td>5.819009e+01</td>\n",
       "      <td>12.937065</td>\n",
       "      <td>1.260489e+03</td>\n",
       "      <td>4.283333e+01</td>\n",
       "    </tr>\n",
       "    <tr>\n",
       "      <th>std</th>\n",
       "      <td>3.827248e+03</td>\n",
       "      <td>1240.912979</td>\n",
       "      <td>1.062463e+05</td>\n",
       "      <td>3.772412e+03</td>\n",
       "    </tr>\n",
       "    <tr>\n",
       "      <th>min</th>\n",
       "      <td>0.000000e+00</td>\n",
       "      <td>0.000000</td>\n",
       "      <td>2.000000e+00</td>\n",
       "      <td>0.000000e+00</td>\n",
       "    </tr>\n",
       "    <tr>\n",
       "      <th>25%</th>\n",
       "      <td>1.000000e+00</td>\n",
       "      <td>1.000000</td>\n",
       "      <td>3.100000e+01</td>\n",
       "      <td>0.000000e+00</td>\n",
       "    </tr>\n",
       "    <tr>\n",
       "      <th>50%</th>\n",
       "      <td>2.000000e+00</td>\n",
       "      <td>1.000000</td>\n",
       "      <td>7.900000e+01</td>\n",
       "      <td>0.000000e+00</td>\n",
       "    </tr>\n",
       "    <tr>\n",
       "      <th>75%</th>\n",
       "      <td>3.000000e+00</td>\n",
       "      <td>2.000000</td>\n",
       "      <td>1.930000e+02</td>\n",
       "      <td>5.000000e+00</td>\n",
       "    </tr>\n",
       "    <tr>\n",
       "      <th>max</th>\n",
       "      <td>1.478684e+06</td>\n",
       "      <td>578391.000000</td>\n",
       "      <td>4.249733e+07</td>\n",
       "      <td>1.513237e+06</td>\n",
       "    </tr>\n",
       "  </tbody>\n",
       "</table>\n",
       "</div>"
      ],
      "text/plain": [
       "       mau_previous_month  mau_both_months  monthly_stream30s     stream30s\n",
       "count        4.033660e+05    403366.000000       4.033660e+05  4.033660e+05\n",
       "mean         5.819009e+01        12.937065       1.260489e+03  4.283333e+01\n",
       "std          3.827248e+03      1240.912979       1.062463e+05  3.772412e+03\n",
       "min          0.000000e+00         0.000000       2.000000e+00  0.000000e+00\n",
       "25%          1.000000e+00         1.000000       3.100000e+01  0.000000e+00\n",
       "50%          2.000000e+00         1.000000       7.900000e+01  0.000000e+00\n",
       "75%          3.000000e+00         2.000000       1.930000e+02  5.000000e+00\n",
       "max          1.478684e+06    578391.000000       4.249733e+07  1.513237e+06"
      ]
     },
     "execution_count": 9,
     "metadata": {},
     "output_type": "execute_result"
    }
   ],
   "source": [
    "df[sub_targets].describe()"
   ]
  },
  {
   "cell_type": "markdown",
   "id": "c54ae157-e48c-4f3f-8cc8-313f63a28c4d",
   "metadata": {},
   "source": [
    "## Independent Variable"
   ]
  },
  {
   "cell_type": "code",
   "execution_count": 10,
   "id": "c8857e9d-2c5c-4420-9037-de457b1b9f26",
   "metadata": {},
   "outputs": [
    {
     "data": {
      "text/plain": [
       "['n_tracks',\n",
       " 'mood_2',\n",
       " 'tokens',\n",
       " 'genre_3',\n",
       " 'owner_country',\n",
       " 'genre_2',\n",
       " 'genre_1',\n",
       " 'mood_3',\n",
       " 'n_artists',\n",
       " 'n_albums',\n",
       " 'n_local_tracks',\n",
       " 'owner',\n",
       " 'mood_1']"
      ]
     },
     "execution_count": 10,
     "metadata": {},
     "output_type": "execute_result"
    }
   ],
   "source": [
    "features"
   ]
  },
  {
   "cell_type": "code",
   "execution_count": 11,
   "id": "a7808af7-174c-4d88-83e9-86a68ed70689",
   "metadata": {},
   "outputs": [
    {
     "data": {
      "text/html": [
       "<div>\n",
       "<style scoped>\n",
       "    .dataframe tbody tr th:only-of-type {\n",
       "        vertical-align: middle;\n",
       "    }\n",
       "\n",
       "    .dataframe tbody tr th {\n",
       "        vertical-align: top;\n",
       "    }\n",
       "\n",
       "    .dataframe thead th {\n",
       "        text-align: right;\n",
       "    }\n",
       "</style>\n",
       "<table border=\"1\" class=\"dataframe\">\n",
       "  <thead>\n",
       "    <tr style=\"text-align: right;\">\n",
       "      <th></th>\n",
       "      <th>n_tracks</th>\n",
       "      <th>mood_2</th>\n",
       "      <th>tokens</th>\n",
       "      <th>genre_3</th>\n",
       "      <th>owner_country</th>\n",
       "      <th>genre_2</th>\n",
       "      <th>genre_1</th>\n",
       "      <th>mood_3</th>\n",
       "      <th>n_artists</th>\n",
       "      <th>n_albums</th>\n",
       "      <th>n_local_tracks</th>\n",
       "      <th>owner</th>\n",
       "      <th>mood_1</th>\n",
       "    </tr>\n",
       "  </thead>\n",
       "  <tbody>\n",
       "    <tr>\n",
       "      <th>0</th>\n",
       "      <td>52</td>\n",
       "      <td>Romantic</td>\n",
       "      <td>[\"ambient\", \"music\", \"therapy\", \"binaural\", \"b...</td>\n",
       "      <td>Country &amp; Folk</td>\n",
       "      <td>US</td>\n",
       "      <td>New Age</td>\n",
       "      <td>Dance &amp; House</td>\n",
       "      <td>Somber</td>\n",
       "      <td>4</td>\n",
       "      <td>7</td>\n",
       "      <td>0</td>\n",
       "      <td>36069af6af076ccd9e597184a67b68c9</td>\n",
       "      <td>Peaceful</td>\n",
       "    </tr>\n",
       "    <tr>\n",
       "      <th>1</th>\n",
       "      <td>131</td>\n",
       "      <td>Yearning</td>\n",
       "      <td>[\"good\", \"living\"]</td>\n",
       "      <td>Alternative</td>\n",
       "      <td>US</td>\n",
       "      <td>Indie Rock</td>\n",
       "      <td>Pop</td>\n",
       "      <td>Defiant</td>\n",
       "      <td>112</td>\n",
       "      <td>113</td>\n",
       "      <td>0</td>\n",
       "      <td>d1144a65b1c31c5f9f56b94f831124d5</td>\n",
       "      <td>Excited</td>\n",
       "    </tr>\n",
       "    <tr>\n",
       "      <th>2</th>\n",
       "      <td>43</td>\n",
       "      <td>Upbeat</td>\n",
       "      <td>[\"norte\\u00f1a\"]</td>\n",
       "      <td>-</td>\n",
       "      <td>US</td>\n",
       "      <td>-</td>\n",
       "      <td>Latin</td>\n",
       "      <td>Romantic</td>\n",
       "      <td>35</td>\n",
       "      <td>36</td>\n",
       "      <td>0</td>\n",
       "      <td>6b7fbed9edd6418ddd3b555bba441536</td>\n",
       "      <td>Lively</td>\n",
       "    </tr>\n",
       "    <tr>\n",
       "      <th>3</th>\n",
       "      <td>27</td>\n",
       "      <td>Aggressive</td>\n",
       "      <td>[]</td>\n",
       "      <td>Pop</td>\n",
       "      <td>US</td>\n",
       "      <td>Electronica</td>\n",
       "      <td>Dance &amp; House</td>\n",
       "      <td>Defiant</td>\n",
       "      <td>27</td>\n",
       "      <td>26</td>\n",
       "      <td>1</td>\n",
       "      <td>580b98725077a94c3c8d01d07390426b</td>\n",
       "      <td>Excited</td>\n",
       "    </tr>\n",
       "    <tr>\n",
       "      <th>4</th>\n",
       "      <td>52</td>\n",
       "      <td>Defiant</td>\n",
       "      <td>[\"cheesy\", \"pants\"]</td>\n",
       "      <td>Electronica</td>\n",
       "      <td>US</td>\n",
       "      <td>Alternative</td>\n",
       "      <td>Indie Rock</td>\n",
       "      <td>Yearning</td>\n",
       "      <td>47</td>\n",
       "      <td>51</td>\n",
       "      <td>0</td>\n",
       "      <td>1305d39070c95d161cc502e15014897d</td>\n",
       "      <td>Excited</td>\n",
       "    </tr>\n",
       "  </tbody>\n",
       "</table>\n",
       "</div>"
      ],
      "text/plain": [
       "   n_tracks      mood_2                                             tokens  \\\n",
       "0        52    Romantic  [\"ambient\", \"music\", \"therapy\", \"binaural\", \"b...   \n",
       "1       131    Yearning                                 [\"good\", \"living\"]   \n",
       "2        43      Upbeat                                   [\"norte\\u00f1a\"]   \n",
       "3        27  Aggressive                                                 []   \n",
       "4        52     Defiant                                [\"cheesy\", \"pants\"]   \n",
       "\n",
       "          genre_3 owner_country      genre_2        genre_1    mood_3  \\\n",
       "0  Country & Folk            US      New Age  Dance & House    Somber   \n",
       "1     Alternative            US   Indie Rock            Pop   Defiant   \n",
       "2               -            US            -          Latin  Romantic   \n",
       "3             Pop            US  Electronica  Dance & House   Defiant   \n",
       "4     Electronica            US  Alternative     Indie Rock  Yearning   \n",
       "\n",
       "   n_artists  n_albums  n_local_tracks                             owner  \\\n",
       "0          4         7               0  36069af6af076ccd9e597184a67b68c9   \n",
       "1        112       113               0  d1144a65b1c31c5f9f56b94f831124d5   \n",
       "2         35        36               0  6b7fbed9edd6418ddd3b555bba441536   \n",
       "3         27        26               1  580b98725077a94c3c8d01d07390426b   \n",
       "4         47        51               0  1305d39070c95d161cc502e15014897d   \n",
       "\n",
       "     mood_1  \n",
       "0  Peaceful  \n",
       "1   Excited  \n",
       "2    Lively  \n",
       "3   Excited  \n",
       "4   Excited  "
      ]
     },
     "execution_count": 11,
     "metadata": {},
     "output_type": "execute_result"
    }
   ],
   "source": [
    "df[features].head()"
   ]
  },
  {
   "cell_type": "code",
   "execution_count": null,
   "id": "d210e3a1-35d6-4766-9f7c-47a1873a4e48",
   "metadata": {},
   "outputs": [],
   "source": []
  },
  {
   "cell_type": "code",
   "execution_count": 12,
   "id": "06d9146f-89cd-4189-8126-533a3391c947",
   "metadata": {},
   "outputs": [
    {
     "name": "stdout",
     "output_type": "stream",
     "text": [
      "['n_tracks', 'n_artists', 'n_albums', 'n_local_tracks']\n",
      "['mood_2', 'tokens', 'genre_3', 'owner_country', 'genre_2', 'genre_1', 'mood_3', 'owner', 'mood_1']\n"
     ]
    }
   ],
   "source": [
    "con_features = list(df[features].select_dtypes('number').columns)\n",
    "print(con_features)\n",
    "des_features = list(df[features].select_dtypes('object').columns)\n",
    "print(des_features)"
   ]
  },
  {
   "cell_type": "code",
   "execution_count": 13,
   "id": "39e219e6-45c7-4331-8056-9cad0cf8bfbc",
   "metadata": {},
   "outputs": [
    {
     "data": {
      "text/html": [
       "<div>\n",
       "<style scoped>\n",
       "    .dataframe tbody tr th:only-of-type {\n",
       "        vertical-align: middle;\n",
       "    }\n",
       "\n",
       "    .dataframe tbody tr th {\n",
       "        vertical-align: top;\n",
       "    }\n",
       "\n",
       "    .dataframe thead th {\n",
       "        text-align: right;\n",
       "    }\n",
       "</style>\n",
       "<table border=\"1\" class=\"dataframe\">\n",
       "  <thead>\n",
       "    <tr style=\"text-align: right;\">\n",
       "      <th></th>\n",
       "      <th>mood_2</th>\n",
       "      <th>tokens</th>\n",
       "      <th>genre_3</th>\n",
       "      <th>owner_country</th>\n",
       "      <th>genre_2</th>\n",
       "      <th>genre_1</th>\n",
       "      <th>mood_3</th>\n",
       "      <th>owner</th>\n",
       "      <th>mood_1</th>\n",
       "    </tr>\n",
       "  </thead>\n",
       "  <tbody>\n",
       "    <tr>\n",
       "      <th>count</th>\n",
       "      <td>403366</td>\n",
       "      <td>403366</td>\n",
       "      <td>403366</td>\n",
       "      <td>403366</td>\n",
       "      <td>403366</td>\n",
       "      <td>403366</td>\n",
       "      <td>403366</td>\n",
       "      <td>403366</td>\n",
       "      <td>403366</td>\n",
       "    </tr>\n",
       "    <tr>\n",
       "      <th>unique</th>\n",
       "      <td>27</td>\n",
       "      <td>192107</td>\n",
       "      <td>26</td>\n",
       "      <td>1</td>\n",
       "      <td>26</td>\n",
       "      <td>26</td>\n",
       "      <td>27</td>\n",
       "      <td>314899</td>\n",
       "      <td>27</td>\n",
       "    </tr>\n",
       "    <tr>\n",
       "      <th>top</th>\n",
       "      <td>Energizing</td>\n",
       "      <td>[]</td>\n",
       "      <td>Pop</td>\n",
       "      <td>US</td>\n",
       "      <td>Alternative</td>\n",
       "      <td>Indie Rock</td>\n",
       "      <td>Energizing</td>\n",
       "      <td>spotify</td>\n",
       "      <td>Defiant</td>\n",
       "    </tr>\n",
       "    <tr>\n",
       "      <th>freq</th>\n",
       "      <td>51643</td>\n",
       "      <td>32568</td>\n",
       "      <td>78758</td>\n",
       "      <td>403366</td>\n",
       "      <td>66252</td>\n",
       "      <td>70571</td>\n",
       "      <td>56450</td>\n",
       "      <td>399</td>\n",
       "      <td>81079</td>\n",
       "    </tr>\n",
       "  </tbody>\n",
       "</table>\n",
       "</div>"
      ],
      "text/plain": [
       "            mood_2  tokens genre_3 owner_country      genre_2     genre_1  \\\n",
       "count       403366  403366  403366        403366       403366      403366   \n",
       "unique          27  192107      26             1           26          26   \n",
       "top     Energizing      []     Pop            US  Alternative  Indie Rock   \n",
       "freq         51643   32568   78758        403366        66252       70571   \n",
       "\n",
       "            mood_3    owner   mood_1  \n",
       "count       403366   403366   403366  \n",
       "unique          27   314899       27  \n",
       "top     Energizing  spotify  Defiant  \n",
       "freq         56450      399    81079  "
      ]
     },
     "execution_count": 13,
     "metadata": {},
     "output_type": "execute_result"
    }
   ],
   "source": [
    "df[des_features].describe()"
   ]
  },
  {
   "cell_type": "markdown",
   "id": "12d80e94-1ce7-4576-8875-4c38c4c93e6d",
   "metadata": {},
   "source": [
    "we will go ahead and remove `owner_country` (1 unique), `owner`, and `tokens` (cardinal) from our feature analysis"
   ]
  },
  {
   "cell_type": "code",
   "execution_count": 14,
   "id": "5c2f16d5-2e6f-4935-bf7c-42421583d36c",
   "metadata": {},
   "outputs": [
    {
     "name": "stdout",
     "output_type": "stream",
     "text": [
      "id columns: ['playlist_uri']\n",
      "target columns: ['streams', 'stream30s', 'dau', 'wau', 'mau', 'mau_previous_month', 'mau_both_months', 'users', 'skippers', 'monthly_stream30s', 'monthly_owner_stream30s']\n",
      "feature columns: ['n_tracks', 'mood_2', 'genre_3', 'genre_2', 'genre_1', 'mood_3', 'n_artists', 'n_albums', 'n_local_tracks', 'mood_1']\n",
      "['n_tracks', 'n_artists', 'n_albums', 'n_local_tracks']\n",
      "['mood_1', 'mood_2', 'mood_3', 'genre_1', 'genre_2', 'genre_3']\n"
     ]
    }
   ],
   "source": [
    "id = [df.columns[0]]\n",
    "targets = list(df.columns[2:11]) + [\"monthly_stream30s\", \"monthly_owner_stream30s\"]\n",
    "features = set(df.columns) - set(targets) - set(id) - set([\"owner_country\", \"owner\", \"tokens\"])\n",
    "features = list(features)\n",
    "\n",
    "print(f\"id columns: {id}\")\n",
    "print(f\"target columns: {targets}\")\n",
    "print(f\"feature columns: {features}\")\n",
    "\n",
    "con_features = list(df[features].select_dtypes('number').columns)\n",
    "print(con_features)\n",
    "des_features = ['mood_1', 'mood_2', 'mood_3', 'genre_1', 'genre_2', 'genre_3']\n",
    "print(des_features)"
   ]
  },
  {
   "cell_type": "markdown",
   "id": "63828fa9-f018-47ac-973f-b2b123cc0f1c",
   "metadata": {},
   "source": [
    "### Discrete Features"
   ]
  },
  {
   "cell_type": "code",
   "execution_count": 15,
   "id": "4b97ddb6-6c98-4416-8e7a-605a9f495e8c",
   "metadata": {},
   "outputs": [
    {
     "data": {
      "text/html": [
       "<div>\n",
       "<style scoped>\n",
       "    .dataframe tbody tr th:only-of-type {\n",
       "        vertical-align: middle;\n",
       "    }\n",
       "\n",
       "    .dataframe tbody tr th {\n",
       "        vertical-align: top;\n",
       "    }\n",
       "\n",
       "    .dataframe thead th {\n",
       "        text-align: right;\n",
       "    }\n",
       "</style>\n",
       "<table border=\"1\" class=\"dataframe\">\n",
       "  <thead>\n",
       "    <tr style=\"text-align: right;\">\n",
       "      <th></th>\n",
       "      <th>mood_1</th>\n",
       "      <th>mood_2</th>\n",
       "      <th>mood_3</th>\n",
       "      <th>genre_1</th>\n",
       "      <th>genre_2</th>\n",
       "      <th>genre_3</th>\n",
       "    </tr>\n",
       "  </thead>\n",
       "  <tbody>\n",
       "    <tr>\n",
       "      <th>count</th>\n",
       "      <td>403366</td>\n",
       "      <td>403366</td>\n",
       "      <td>403366</td>\n",
       "      <td>403366</td>\n",
       "      <td>403366</td>\n",
       "      <td>403366</td>\n",
       "    </tr>\n",
       "    <tr>\n",
       "      <th>unique</th>\n",
       "      <td>27</td>\n",
       "      <td>27</td>\n",
       "      <td>27</td>\n",
       "      <td>26</td>\n",
       "      <td>26</td>\n",
       "      <td>26</td>\n",
       "    </tr>\n",
       "    <tr>\n",
       "      <th>top</th>\n",
       "      <td>Defiant</td>\n",
       "      <td>Energizing</td>\n",
       "      <td>Energizing</td>\n",
       "      <td>Indie Rock</td>\n",
       "      <td>Alternative</td>\n",
       "      <td>Pop</td>\n",
       "    </tr>\n",
       "    <tr>\n",
       "      <th>freq</th>\n",
       "      <td>81079</td>\n",
       "      <td>51643</td>\n",
       "      <td>56450</td>\n",
       "      <td>70571</td>\n",
       "      <td>66252</td>\n",
       "      <td>78758</td>\n",
       "    </tr>\n",
       "  </tbody>\n",
       "</table>\n",
       "</div>"
      ],
      "text/plain": [
       "         mood_1      mood_2      mood_3     genre_1      genre_2 genre_3\n",
       "count    403366      403366      403366      403366       403366  403366\n",
       "unique       27          27          27          26           26      26\n",
       "top     Defiant  Energizing  Energizing  Indie Rock  Alternative     Pop\n",
       "freq      81079       51643       56450       70571        66252   78758"
      ]
     },
     "execution_count": 15,
     "metadata": {},
     "output_type": "execute_result"
    }
   ],
   "source": [
    "df[des_features].describe()"
   ]
  },
  {
   "cell_type": "code",
   "execution_count": 16,
   "id": "27a6421f-e483-42f3-b235-8d5e87bfe648",
   "metadata": {},
   "outputs": [
    {
     "data": {
      "text/plain": [
       "mood_1    mood_2      mood_3      genre_1        genre_2        genre_3\n",
       "Excited   Aggressive  Energizing  Dance & House  Electronica    Pop        4824\n",
       "Defiant   Cool        Energizing  Rap            R&B            Pop        4458\n",
       "          Energizing  Cool        Rap            R&B            Pop        4003\n",
       "                                                 Pop            R&B        1803\n",
       "                      Excited     Rap            Pop            R&B        1225\n",
       "                                                                           ... \n",
       "Excited   Aggressive  Urgent      Alternative    Electronica    Metal         1\n",
       "                                                 Dance & House  Pop           1\n",
       "                      Upbeat      Pop            Soundtrack     -             1\n",
       "                                  Indie Rock     Alternative    -             1\n",
       "Yearning  Urgent      Upbeat      Soundtrack     Pop            Rap           1\n",
       "Length: 138379, dtype: int64"
      ]
     },
     "execution_count": 16,
     "metadata": {},
     "output_type": "execute_result"
    }
   ],
   "source": [
    "df.value_counts(des_features)"
   ]
  },
  {
   "cell_type": "code",
   "execution_count": 17,
   "id": "ea73d56b-e62f-450c-b267-96fbb6f5271b",
   "metadata": {},
   "outputs": [
    {
     "data": {
      "text/plain": [
       "mood_1    mood_2      mood_3    \n",
       "Defiant   Cool        Energizing    15125\n",
       "          Energizing  Cool          12278\n",
       "Excited   Aggressive  Energizing     7564\n",
       "Defiant   Energizing  Excited        6672\n",
       "          Excited     Energizing     6179\n",
       "                                    ...  \n",
       "Peaceful  Urgent      Yearning          1\n",
       "          Yearning    Cool              1\n",
       "                      Excited           1\n",
       "                      Fiery             1\n",
       "Other     Urgent      Aggressive        1\n",
       "Length: 9326, dtype: int64"
      ]
     },
     "execution_count": 17,
     "metadata": {},
     "output_type": "execute_result"
    }
   ],
   "source": [
    "df[des_features[:3]].value_counts()"
   ]
  },
  {
   "cell_type": "code",
   "execution_count": 18,
   "id": "4a641b21-4f70-43ad-a0dd-c31a54c9dc82",
   "metadata": {},
   "outputs": [
    {
     "data": {
      "text/plain": [
       "genre_1        genre_2         genre_3    \n",
       "Rap            R&B             Pop            15477\n",
       "Indie Rock     Alternative     Rock           13102\n",
       "Dance & House  Electronica     Pop            10800\n",
       "Indie Rock     Alternative     Pop             9981\n",
       "                               Electronica     7233\n",
       "                                              ...  \n",
       "New Age        Country & Folk  Rock               1\n",
       "               Dance & House   R&B                1\n",
       "                               Rock               1\n",
       "                               Soundtrack         1\n",
       "Traditional    Spoken & Audio  Religious          1\n",
       "Length: 6664, dtype: int64"
      ]
     },
     "execution_count": 18,
     "metadata": {},
     "output_type": "execute_result"
    }
   ],
   "source": [
    "df[des_features[3:]].value_counts()"
   ]
  },
  {
   "cell_type": "code",
   "execution_count": 19,
   "id": "23843f87-dca1-4d3e-8fdc-951f13baad71",
   "metadata": {},
   "outputs": [
    {
     "data": {
      "image/png": "[encoded data removed]",
      "text/plain": [
       "<Figure size 720x864 with 2 Axes>"
      ]
     },
     "metadata": {},
     "output_type": "display_data"
    }
   ],
   "source": [
    "fig, ax = plt.subplots(1, 2, figsize=(10,12))\n",
    "\n",
    "dff = pd.DataFrame(df[des_features[0]].value_counts()).join(\n",
    "    pd.DataFrame(df[des_features[1]].value_counts())).join(\n",
    "    pd.DataFrame(df[des_features[2]].value_counts()))\n",
    "dff = dff.reset_index().melt(id_vars='index')\n",
    "dff.columns = ['mood', 'order', 'count']\n",
    "sns.barplot(data=dff, hue='order', y='mood', x='count', orient='h', ax=ax[0])\n",
    "\n",
    "dff = pd.DataFrame(df[des_features[3]].value_counts()).join(\n",
    "    pd.DataFrame(df[des_features[4]].value_counts())).join(\n",
    "    pd.DataFrame(df[des_features[5]].value_counts()))\n",
    "dff = dff.reset_index().melt(id_vars='index')\n",
    "dff.columns = ['genre', 'order', 'count']\n",
    "sns.barplot(data=dff, hue='order', y='genre', x='count', orient='h', ax=ax[1])\n",
    "\n",
    "plt.tight_layout()"
   ]
  },
  {
   "cell_type": "markdown",
   "id": "ef7d8409-000d-4af0-a176-e745f4c6e5b1",
   "metadata": {},
   "source": [
    "### Continuous Features"
   ]
  },
  {
   "cell_type": "code",
   "execution_count": 20,
   "id": "a1be42b3-9ec3-4f92-86a5-11d2dee7ea67",
   "metadata": {},
   "outputs": [
    {
     "data": {
      "text/html": [
       "<div>\n",
       "<style scoped>\n",
       "    .dataframe tbody tr th:only-of-type {\n",
       "        vertical-align: middle;\n",
       "    }\n",
       "\n",
       "    .dataframe tbody tr th {\n",
       "        vertical-align: top;\n",
       "    }\n",
       "\n",
       "    .dataframe thead th {\n",
       "        text-align: right;\n",
       "    }\n",
       "</style>\n",
       "<table border=\"1\" class=\"dataframe\">\n",
       "  <thead>\n",
       "    <tr style=\"text-align: right;\">\n",
       "      <th></th>\n",
       "      <th>n_tracks</th>\n",
       "      <th>n_artists</th>\n",
       "      <th>n_albums</th>\n",
       "      <th>n_local_tracks</th>\n",
       "    </tr>\n",
       "  </thead>\n",
       "  <tbody>\n",
       "    <tr>\n",
       "      <th>count</th>\n",
       "      <td>403366.000000</td>\n",
       "      <td>403366.000000</td>\n",
       "      <td>403366.000000</td>\n",
       "      <td>403366.000000</td>\n",
       "    </tr>\n",
       "    <tr>\n",
       "      <th>mean</th>\n",
       "      <td>201.483432</td>\n",
       "      <td>83.852050</td>\n",
       "      <td>88.224250</td>\n",
       "      <td>3.084035</td>\n",
       "    </tr>\n",
       "    <tr>\n",
       "      <th>std</th>\n",
       "      <td>584.077765</td>\n",
       "      <td>128.152488</td>\n",
       "      <td>133.193118</td>\n",
       "      <td>40.330266</td>\n",
       "    </tr>\n",
       "    <tr>\n",
       "      <th>min</th>\n",
       "      <td>1.000000</td>\n",
       "      <td>1.000000</td>\n",
       "      <td>1.000000</td>\n",
       "      <td>0.000000</td>\n",
       "    </tr>\n",
       "    <tr>\n",
       "      <th>25%</th>\n",
       "      <td>38.000000</td>\n",
       "      <td>18.000000</td>\n",
       "      <td>19.000000</td>\n",
       "      <td>0.000000</td>\n",
       "    </tr>\n",
       "    <tr>\n",
       "      <th>50%</th>\n",
       "      <td>84.000000</td>\n",
       "      <td>46.000000</td>\n",
       "      <td>48.000000</td>\n",
       "      <td>0.000000</td>\n",
       "    </tr>\n",
       "    <tr>\n",
       "      <th>75%</th>\n",
       "      <td>192.000000</td>\n",
       "      <td>100.000000</td>\n",
       "      <td>106.000000</td>\n",
       "      <td>0.000000</td>\n",
       "    </tr>\n",
       "    <tr>\n",
       "      <th>max</th>\n",
       "      <td>79984.000000</td>\n",
       "      <td>5226.000000</td>\n",
       "      <td>6397.000000</td>\n",
       "      <td>9117.000000</td>\n",
       "    </tr>\n",
       "  </tbody>\n",
       "</table>\n",
       "</div>"
      ],
      "text/plain": [
       "            n_tracks      n_artists       n_albums  n_local_tracks\n",
       "count  403366.000000  403366.000000  403366.000000   403366.000000\n",
       "mean      201.483432      83.852050      88.224250        3.084035\n",
       "std       584.077765     128.152488     133.193118       40.330266\n",
       "min         1.000000       1.000000       1.000000        0.000000\n",
       "25%        38.000000      18.000000      19.000000        0.000000\n",
       "50%        84.000000      46.000000      48.000000        0.000000\n",
       "75%       192.000000     100.000000     106.000000        0.000000\n",
       "max     79984.000000    5226.000000    6397.000000     9117.000000"
      ]
     },
     "execution_count": 20,
     "metadata": {},
     "output_type": "execute_result"
    }
   ],
   "source": [
    "df[con_features].describe()"
   ]
  },
  {
   "cell_type": "code",
   "execution_count": 21,
   "id": "94cf67fe-c837-4c72-9295-db09848ba623",
   "metadata": {},
   "outputs": [
    {
     "name": "stdout",
     "output_type": "stream",
     "text": [
      "removed items: 404\n"
     ]
    },
    {
     "data": {
      "image/png": "[encoded data removed]",
      "text/plain": [
       "<Figure size 432x288 with 1 Axes>"
      ]
     },
     "metadata": {},
     "output_type": "display_data"
    },
    {
     "name": "stdout",
     "output_type": "stream",
     "text": [
      "removed items: 405\n"
     ]
    },
    {
     "data": {
      "image/png": "[encoded data removed]",
      "text/plain": [
       "<Figure size 432x288 with 1 Axes>"
      ]
     },
     "metadata": {},
     "output_type": "display_data"
    },
    {
     "name": "stdout",
     "output_type": "stream",
     "text": [
      "removed items: 404\n"
     ]
    },
    {
     "data": {
      "image/png": "[encoded data removed]",
      "text/plain": [
       "<Figure size 432x288 with 1 Axes>"
      ]
     },
     "metadata": {},
     "output_type": "display_data"
    },
    {
     "name": "stdout",
     "output_type": "stream",
     "text": [
      "removed items: 406\n"
     ]
    },
    {
     "data": {
      "image/png": "[encoded data removed]",
      "text/plain": [
       "<Figure size 432x288 with 1 Axes>"
      ]
     },
     "metadata": {},
     "output_type": "display_data"
    }
   ],
   "source": [
    "quant = 0.999\n",
    "for target in con_features:\n",
    "    cutoff = np.quantile(df[target], quant)\n",
    "    y = df.loc[df[target] < cutoff]\n",
    "    removed = df.loc[~(df[target] < cutoff)]\n",
    "    print(f\"removed items: {removed.shape[0]}\")\n",
    "    y.plot(kind='hist', y=target, bins=100, density=True)\n",
    "    plt.show()"
   ]
  },
  {
   "cell_type": "markdown",
   "id": "fcbee4bd-0944-421c-910f-1ff401964846",
   "metadata": {},
   "source": [
    "#### Bootstrapping\n",
    "\n",
    "An example of how we will bootstrap to perform hypothesis tests later on"
   ]
  },
  {
   "cell_type": "code",
   "execution_count": 23,
   "id": "67db30d8-2964-4879-862f-53c1ed63eae1",
   "metadata": {},
   "outputs": [],
   "source": [
    "means = []\n",
    "ind = con_features[0]\n",
    "for i in range(100):\n",
    "    boot = random.sample(\n",
    "                list(\n",
    "                    df.loc[\n",
    "                        (df[ind] > 9) \n",
    "                        & (df[ind] < 999)\n",
    "                    ][ind].values),\n",
    "                k=1000)\n",
    "    means.append(np.mean(boot))"
   ]
  },
  {
   "cell_type": "code",
   "execution_count": 24,
   "id": "43f13e42-bd3c-4de2-8cf8-1ce74ba18331",
   "metadata": {},
   "outputs": [
    {
     "data": {
      "image/png": "[encoded data removed]",
      "text/plain": [
       "<Figure size 432x288 with 1 Axes>"
      ]
     },
     "metadata": {},
     "output_type": "display_data"
    }
   ],
   "source": [
    "stuff = plt.hist(means, bins=100, density=True)"
   ]
  },
  {
   "cell_type": "markdown",
   "id": "6b6b40fd-dc05-4bba-b2d0-dc0305eebaba",
   "metadata": {},
   "source": [
    "## Dependency"
   ]
  },
  {
   "cell_type": "markdown",
   "id": "600c15c2-3c89-4036-9c24-be0a5e88ee19",
   "metadata": {},
   "source": [
    "### Categorical Target"
   ]
  },
  {
   "cell_type": "code",
   "execution_count": 25,
   "id": "41c04b15-e405-4d4f-88a2-58dba3ea9f57",
   "metadata": {},
   "outputs": [
    {
     "data": {
      "text/plain": [
       "['mau_previous_month', 'mau_both_months', 'monthly_stream30s', 'stream30s']"
      ]
     },
     "execution_count": 25,
     "metadata": {},
     "output_type": "execute_result"
    }
   ],
   "source": [
    "sub_targets"
   ]
  },
  {
   "cell_type": "code",
   "execution_count": 26,
   "id": "4cf2373e-4d4c-46ff-af39-52b13108a9a8",
   "metadata": {},
   "outputs": [
    {
     "data": {
      "text/plain": [
       "['mood_1', 'mood_2', 'mood_3', 'genre_1', 'genre_2', 'genre_3']"
      ]
     },
     "execution_count": 26,
     "metadata": {},
     "output_type": "execute_result"
    }
   ],
   "source": [
    "des_features"
   ]
  },
  {
   "cell_type": "markdown",
   "id": "8ee9a091-03f2-4fac-abec-82ec92d65a07",
   "metadata": {},
   "source": [
    "#### Categorical Feature"
   ]
  },
  {
   "cell_type": "markdown",
   "id": "a06906d9-73be-48f4-bb6c-bd23b22d02b4",
   "metadata": {},
   "source": [
    "##### Moods"
   ]
  },
  {
   "cell_type": "code",
   "execution_count": 27,
   "id": "a3ae8442-9bcf-41d6-aea3-bdb8f0bee097",
   "metadata": {},
   "outputs": [
    {
     "name": "stdout",
     "output_type": "stream",
     "text": [
      "79.0\n"
     ]
    }
   ],
   "source": [
    "chidf = pd.DataFrame()\n",
    "target = sub_targets[2]\n",
    "chidf[target] = df[target]\n",
    "print(chidf[target].median())\n",
    "moods = pd.DataFrame()\n",
    "cutoff = 0.001\n",
    "pop = chidf[target].values\n",
    "\n",
    "for ind in des_features:\n",
    "    # ind = des_features[0]\n",
    "    chidf[ind] = df[ind]\n",
    "    \n",
    "    for grp_label in df[ind].unique():\n",
    "        # grp_label = df[ind].unique()[0]\n",
    "        grp = chidf.loc[chidf[ind] == grp_label][target].values\n",
    "        chi2, p, m, cTable = stats.median_test(grp, pop, correction=True)\n",
    "        ratio = cTable[0]/cTable[1]\n",
    "        pos = ratio[0]/ratio[1] > 1\n",
    "        moods = pd.concat([moods, pd.DataFrame([[ind, grp_label, chi2, p, cTable, pos, p<cutoff]])])\n",
    "\n",
    "moods.columns = ['feature', 'group', 'chi', 'p-value', 'cTable', '+', 'reject null']\n",
    "moods = moods.sort_values('p-value').reset_index(drop=True)"
   ]
  },
  {
   "cell_type": "code",
   "execution_count": 28,
   "id": "a7a97b03-7c66-4533-b389-cff7d555d45a",
   "metadata": {},
   "outputs": [
    {
     "data": {
      "text/html": [
       "<div>\n",
       "<style scoped>\n",
       "    .dataframe tbody tr th:only-of-type {\n",
       "        vertical-align: middle;\n",
       "    }\n",
       "\n",
       "    .dataframe tbody tr th {\n",
       "        vertical-align: top;\n",
       "    }\n",
       "\n",
       "    .dataframe thead th {\n",
       "        text-align: right;\n",
       "    }\n",
       "</style>\n",
       "<table border=\"1\" class=\"dataframe\">\n",
       "  <thead>\n",
       "    <tr style=\"text-align: right;\">\n",
       "      <th></th>\n",
       "      <th>feature</th>\n",
       "      <th>group</th>\n",
       "      <th>chi</th>\n",
       "      <th>p-value</th>\n",
       "      <th>cTable</th>\n",
       "      <th>+</th>\n",
       "      <th>reject null</th>\n",
       "    </tr>\n",
       "  </thead>\n",
       "  <tbody>\n",
       "    <tr>\n",
       "      <th>0</th>\n",
       "      <td>genre_3</td>\n",
       "      <td>-</td>\n",
       "      <td>1725.882036</td>\n",
       "      <td>0.000000e+00</td>\n",
       "      <td>[[16033, 205049], [24090, 198317]]</td>\n",
       "      <td>False</td>\n",
       "      <td>True</td>\n",
       "    </tr>\n",
       "    <tr>\n",
       "      <th>1</th>\n",
       "      <td>genre_2</td>\n",
       "      <td>-</td>\n",
       "      <td>1104.759466</td>\n",
       "      <td>3.051013e-242</td>\n",
       "      <td>[[8216, 203517], [12990, 199849]]</td>\n",
       "      <td>False</td>\n",
       "      <td>True</td>\n",
       "    </tr>\n",
       "    <tr>\n",
       "      <th>2</th>\n",
       "      <td>genre_1</td>\n",
       "      <td>Latin</td>\n",
       "      <td>651.374931</td>\n",
       "      <td>1.122254e-143</td>\n",
       "      <td>[[9000, 199027], [6012, 204339]]</td>\n",
       "      <td>True</td>\n",
       "      <td>True</td>\n",
       "    </tr>\n",
       "    <tr>\n",
       "      <th>3</th>\n",
       "      <td>mood_1</td>\n",
       "      <td>Energizing</td>\n",
       "      <td>611.189037</td>\n",
       "      <td>6.167816e-135</td>\n",
       "      <td>[[10316, 203517], [14071, 199849]]</td>\n",
       "      <td>False</td>\n",
       "      <td>True</td>\n",
       "    </tr>\n",
       "    <tr>\n",
       "      <th>4</th>\n",
       "      <td>genre_1</td>\n",
       "      <td>Rock</td>\n",
       "      <td>315.827189</td>\n",
       "      <td>1.174487e-70</td>\n",
       "      <td>[[12514, 201911], [15563, 201455]]</td>\n",
       "      <td>False</td>\n",
       "      <td>True</td>\n",
       "    </tr>\n",
       "    <tr>\n",
       "      <th>...</th>\n",
       "      <td>...</td>\n",
       "      <td>...</td>\n",
       "      <td>...</td>\n",
       "      <td>...</td>\n",
       "      <td>...</td>\n",
       "      <td>...</td>\n",
       "      <td>...</td>\n",
       "    </tr>\n",
       "    <tr>\n",
       "      <th>93</th>\n",
       "      <td>mood_1</td>\n",
       "      <td>Stirring</td>\n",
       "      <td>12.333846</td>\n",
       "      <td>4.448190e-04</td>\n",
       "      <td>[[877, 200454], [1044, 202912]]</td>\n",
       "      <td>False</td>\n",
       "      <td>True</td>\n",
       "    </tr>\n",
       "    <tr>\n",
       "      <th>94</th>\n",
       "      <td>mood_1</td>\n",
       "      <td>Serious</td>\n",
       "      <td>12.316512</td>\n",
       "      <td>4.489689e-04</td>\n",
       "      <td>[[778, 200454], [935, 202912]]</td>\n",
       "      <td>False</td>\n",
       "      <td>True</td>\n",
       "    </tr>\n",
       "    <tr>\n",
       "      <th>95</th>\n",
       "      <td>mood_2</td>\n",
       "      <td>Lively</td>\n",
       "      <td>12.161071</td>\n",
       "      <td>4.879735e-04</td>\n",
       "      <td>[[2588, 200454], [2882, 202912]]</td>\n",
       "      <td>False</td>\n",
       "      <td>True</td>\n",
       "    </tr>\n",
       "    <tr>\n",
       "      <th>96</th>\n",
       "      <td>mood_2</td>\n",
       "      <td>Somber</td>\n",
       "      <td>11.618507</td>\n",
       "      <td>6.529880e-04</td>\n",
       "      <td>[[792, 200454], [946, 202912]]</td>\n",
       "      <td>False</td>\n",
       "      <td>True</td>\n",
       "    </tr>\n",
       "    <tr>\n",
       "      <th>97</th>\n",
       "      <td>genre_2</td>\n",
       "      <td>Dance &amp; House</td>\n",
       "      <td>10.834697</td>\n",
       "      <td>9.961560e-04</td>\n",
       "      <td>[[12678, 201911], [13196, 201455]]</td>\n",
       "      <td>False</td>\n",
       "      <td>True</td>\n",
       "    </tr>\n",
       "  </tbody>\n",
       "</table>\n",
       "<p>98 rows × 7 columns</p>\n",
       "</div>"
      ],
      "text/plain": [
       "    feature          group          chi        p-value  \\\n",
       "0   genre_3              -  1725.882036   0.000000e+00   \n",
       "1   genre_2              -  1104.759466  3.051013e-242   \n",
       "2   genre_1          Latin   651.374931  1.122254e-143   \n",
       "3    mood_1     Energizing   611.189037  6.167816e-135   \n",
       "4   genre_1           Rock   315.827189   1.174487e-70   \n",
       "..      ...            ...          ...            ...   \n",
       "93   mood_1       Stirring    12.333846   4.448190e-04   \n",
       "94   mood_1        Serious    12.316512   4.489689e-04   \n",
       "95   mood_2         Lively    12.161071   4.879735e-04   \n",
       "96   mood_2         Somber    11.618507   6.529880e-04   \n",
       "97  genre_2  Dance & House    10.834697   9.961560e-04   \n",
       "\n",
       "                                cTable      +  reject null  \n",
       "0   [[16033, 205049], [24090, 198317]]  False         True  \n",
       "1    [[8216, 203517], [12990, 199849]]  False         True  \n",
       "2     [[9000, 199027], [6012, 204339]]   True         True  \n",
       "3   [[10316, 203517], [14071, 199849]]  False         True  \n",
       "4   [[12514, 201911], [15563, 201455]]  False         True  \n",
       "..                                 ...    ...          ...  \n",
       "93     [[877, 200454], [1044, 202912]]  False         True  \n",
       "94      [[778, 200454], [935, 202912]]  False         True  \n",
       "95    [[2588, 200454], [2882, 202912]]  False         True  \n",
       "96      [[792, 200454], [946, 202912]]  False         True  \n",
       "97  [[12678, 201911], [13196, 201455]]  False         True  \n",
       "\n",
       "[98 rows x 7 columns]"
      ]
     },
     "execution_count": 28,
     "metadata": {},
     "output_type": "execute_result"
    }
   ],
   "source": [
    "moods.loc[moods['reject null'] == True]"
   ]
  },
  {
   "cell_type": "markdown",
   "id": "e85db46c-acf8-431c-9232-c15565d3082b",
   "metadata": {},
   "source": [
    "##### Chi-Square"
   ]
  },
  {
   "cell_type": "code",
   "execution_count": 29,
   "id": "069f7f06-fd3c-40e6-9c0f-0ce2f6db5e83",
   "metadata": {},
   "outputs": [],
   "source": [
    "chidf = pd.DataFrame()\n",
    "target = sub_targets[2]\n",
    "chidf[target] = df[target]\n",
    "quant_value = 0.90\n",
    "tar_value = np.quantile(chidf[target], quant_value)\n",
    "chidf[target] = chidf[target] > tar_value\n",
    "chisum = pd.DataFrame()\n",
    "cutoff = 0.0001\n",
    "pop = chidf[target].values\n",
    "\n",
    "for ind in des_features:\n",
    "    # ind = des_features[0]\n",
    "    chidf[ind] = df[ind]\n",
    "\n",
    "    for grp_label in df[ind].unique():\n",
    "    # grp_label = df[ind].unique()[0]\n",
    "        try:\n",
    "            cTable = chidf.groupby(chidf[ind] == grp_label)[target].value_counts().values.reshape(2,2).T\n",
    "            chi2, p, dof, ex = stats.chi2_contingency(cTable, correction=True, lambda_=None)\n",
    "            ratio = cTable[1]/cTable[0]\n",
    "            pos = ratio[1]/ratio[0]\n",
    "            chisum = pd.concat([chisum, pd.DataFrame([[ind, grp_label, chi2, p, cTable, pos, p<cutoff]])])\n",
    "        except:\n",
    "            pass\n",
    "\n",
    "chisum.columns = ['feature', 'group', 'chi', 'p-value', 'cTable', 'multiplier', 'reject null']\n",
    "chisum = chisum.sort_values('p-value').reset_index(drop=True)"
   ]
  },
  {
   "cell_type": "markdown",
   "id": "e6350bac-d231-488c-b942-eb8e1e993024",
   "metadata": {},
   "source": [
    "##### Categorical-Categorical Conclusions\n",
    "\n",
    "increasing `quant_value` will render additional features; as the population performance worsens, new feature/group pairs have an opportunity to increase the multiplier"
   ]
  },
  {
   "cell_type": "markdown",
   "id": "d95fee9f-890d-4e31-ae13-ab651d6836f4",
   "metadata": {},
   "source": [
    "Best Groups"
   ]
  },
  {
   "cell_type": "code",
   "execution_count": 30,
   "id": "dbb98139-d893-4169-9827-65b36527816a",
   "metadata": {},
   "outputs": [
    {
     "data": {
      "text/html": [
       "<div>\n",
       "<style scoped>\n",
       "    .dataframe tbody tr th:only-of-type {\n",
       "        vertical-align: middle;\n",
       "    }\n",
       "\n",
       "    .dataframe tbody tr th {\n",
       "        vertical-align: top;\n",
       "    }\n",
       "\n",
       "    .dataframe thead th {\n",
       "        text-align: right;\n",
       "    }\n",
       "</style>\n",
       "<table border=\"1\" class=\"dataframe\">\n",
       "  <thead>\n",
       "    <tr style=\"text-align: right;\">\n",
       "      <th></th>\n",
       "      <th>feature</th>\n",
       "      <th>group</th>\n",
       "      <th>chi</th>\n",
       "      <th>p-value</th>\n",
       "      <th>cTable</th>\n",
       "      <th>multiplier</th>\n",
       "      <th>reject null</th>\n",
       "    </tr>\n",
       "  </thead>\n",
       "  <tbody>\n",
       "    <tr>\n",
       "      <th>6</th>\n",
       "      <td>genre_1</td>\n",
       "      <td>Children's</td>\n",
       "      <td>262.624693</td>\n",
       "      <td>4.596280e-59</td>\n",
       "      <td>[[361785, 1286], [39933, 362]]</td>\n",
       "      <td>2.550270</td>\n",
       "      <td>True</td>\n",
       "    </tr>\n",
       "    <tr>\n",
       "      <th>11</th>\n",
       "      <td>mood_1</td>\n",
       "      <td>Other</td>\n",
       "      <td>197.598843</td>\n",
       "      <td>6.979647e-45</td>\n",
       "      <td>[[361719, 1352], [39952, 343]]</td>\n",
       "      <td>2.296943</td>\n",
       "      <td>True</td>\n",
       "    </tr>\n",
       "    <tr>\n",
       "      <th>19</th>\n",
       "      <td>genre_1</td>\n",
       "      <td>Spoken &amp; Audio</td>\n",
       "      <td>120.508309</td>\n",
       "      <td>4.896128e-28</td>\n",
       "      <td>[[362147, 924], [40068, 227]]</td>\n",
       "      <td>2.220451</td>\n",
       "      <td>True</td>\n",
       "    </tr>\n",
       "    <tr>\n",
       "      <th>0</th>\n",
       "      <td>genre_1</td>\n",
       "      <td>Latin</td>\n",
       "      <td>1150.625294</td>\n",
       "      <td>3.280867e-252</td>\n",
       "      <td>[[350782, 12289], [37572, 2723]]</td>\n",
       "      <td>2.068731</td>\n",
       "      <td>True</td>\n",
       "    </tr>\n",
       "    <tr>\n",
       "      <th>12</th>\n",
       "      <td>genre_1</td>\n",
       "      <td>New Age</td>\n",
       "      <td>166.484617</td>\n",
       "      <td>4.335181e-38</td>\n",
       "      <td>[[361286, 1785], [39896, 399]]</td>\n",
       "      <td>2.024214</td>\n",
       "      <td>True</td>\n",
       "    </tr>\n",
       "  </tbody>\n",
       "</table>\n",
       "</div>"
      ],
      "text/plain": [
       "    feature           group          chi        p-value  \\\n",
       "6   genre_1      Children's   262.624693   4.596280e-59   \n",
       "11   mood_1           Other   197.598843   6.979647e-45   \n",
       "19  genre_1  Spoken & Audio   120.508309   4.896128e-28   \n",
       "0   genre_1           Latin  1150.625294  3.280867e-252   \n",
       "12  genre_1         New Age   166.484617   4.335181e-38   \n",
       "\n",
       "                              cTable  multiplier  reject null  \n",
       "6     [[361785, 1286], [39933, 362]]    2.550270         True  \n",
       "11    [[361719, 1352], [39952, 343]]    2.296943         True  \n",
       "19     [[362147, 924], [40068, 227]]    2.220451         True  \n",
       "0   [[350782, 12289], [37572, 2723]]    2.068731         True  \n",
       "12    [[361286, 1785], [39896, 399]]    2.024214         True  "
      ]
     },
     "execution_count": 30,
     "metadata": {},
     "output_type": "execute_result"
    }
   ],
   "source": [
    "chisum.loc[(chisum['reject null'] == True) & (chisum['multiplier'] > 2)].sort_values('multiplier', ascending=False)"
   ]
  },
  {
   "cell_type": "markdown",
   "id": "d621e507-2b08-40fb-a26b-2290c10b1c81",
   "metadata": {},
   "source": [
    "Worst Groups"
   ]
  },
  {
   "cell_type": "code",
   "execution_count": 31,
   "id": "d39eb654-ffb3-4b88-9379-ad07349a929f",
   "metadata": {},
   "outputs": [
    {
     "data": {
      "text/html": [
       "<div>\n",
       "<style scoped>\n",
       "    .dataframe tbody tr th:only-of-type {\n",
       "        vertical-align: middle;\n",
       "    }\n",
       "\n",
       "    .dataframe tbody tr th {\n",
       "        vertical-align: top;\n",
       "    }\n",
       "\n",
       "    .dataframe thead th {\n",
       "        text-align: right;\n",
       "    }\n",
       "</style>\n",
       "<table border=\"1\" class=\"dataframe\">\n",
       "  <thead>\n",
       "    <tr style=\"text-align: right;\">\n",
       "      <th></th>\n",
       "      <th>feature</th>\n",
       "      <th>group</th>\n",
       "      <th>chi</th>\n",
       "      <th>p-value</th>\n",
       "      <th>cTable</th>\n",
       "      <th>multiplier</th>\n",
       "      <th>reject null</th>\n",
       "    </tr>\n",
       "  </thead>\n",
       "  <tbody>\n",
       "    <tr>\n",
       "      <th>28</th>\n",
       "      <td>mood_2</td>\n",
       "      <td>Sensual</td>\n",
       "      <td>85.309680</td>\n",
       "      <td>2.551113e-20</td>\n",
       "      <td>[[343873, 19198], [38598, 1697]]</td>\n",
       "      <td>0.787516</td>\n",
       "      <td>True</td>\n",
       "    </tr>\n",
       "    <tr>\n",
       "      <th>40</th>\n",
       "      <td>genre_1</td>\n",
       "      <td>Electronica</td>\n",
       "      <td>65.249731</td>\n",
       "      <td>6.598320e-16</td>\n",
       "      <td>[[350162, 12909], [39176, 1119]]</td>\n",
       "      <td>0.774794</td>\n",
       "      <td>True</td>\n",
       "    </tr>\n",
       "    <tr>\n",
       "      <th>2</th>\n",
       "      <td>genre_1</td>\n",
       "      <td>Indie Rock</td>\n",
       "      <td>366.567076</td>\n",
       "      <td>1.046303e-81</td>\n",
       "      <td>[[298164, 64907], [34631, 5664]]</td>\n",
       "      <td>0.751315</td>\n",
       "      <td>True</td>\n",
       "    </tr>\n",
       "    <tr>\n",
       "      <th>13</th>\n",
       "      <td>genre_3</td>\n",
       "      <td>Electronica</td>\n",
       "      <td>163.908151</td>\n",
       "      <td>1.584260e-37</td>\n",
       "      <td>[[337501, 25570], [38143, 2152]]</td>\n",
       "      <td>0.744684</td>\n",
       "      <td>True</td>\n",
       "    </tr>\n",
       "    <tr>\n",
       "      <th>21</th>\n",
       "      <td>mood_1</td>\n",
       "      <td>Brooding</td>\n",
       "      <td>109.456909</td>\n",
       "      <td>1.288759e-25</td>\n",
       "      <td>[[346296, 16775], [38893, 1402]]</td>\n",
       "      <td>0.744152</td>\n",
       "      <td>True</td>\n",
       "    </tr>\n",
       "    <tr>\n",
       "      <th>48</th>\n",
       "      <td>mood_1</td>\n",
       "      <td>Gritty</td>\n",
       "      <td>49.741710</td>\n",
       "      <td>1.753777e-12</td>\n",
       "      <td>[[355800, 7271], [39695, 600]]</td>\n",
       "      <td>0.739652</td>\n",
       "      <td>True</td>\n",
       "    </tr>\n",
       "    <tr>\n",
       "      <th>14</th>\n",
       "      <td>mood_1</td>\n",
       "      <td>Energizing</td>\n",
       "      <td>162.542129</td>\n",
       "      <td>3.149562e-37</td>\n",
       "      <td>[[340541, 22530], [38438, 1857]]</td>\n",
       "      <td>0.730229</td>\n",
       "      <td>True</td>\n",
       "    </tr>\n",
       "    <tr>\n",
       "      <th>68</th>\n",
       "      <td>mood_3</td>\n",
       "      <td>Other</td>\n",
       "      <td>27.407286</td>\n",
       "      <td>1.648091e-07</td>\n",
       "      <td>[[361541, 1530], [40196, 99]]</td>\n",
       "      <td>0.581994</td>\n",
       "      <td>True</td>\n",
       "    </tr>\n",
       "  </tbody>\n",
       "</table>\n",
       "</div>"
      ],
      "text/plain": [
       "    feature        group         chi       p-value  \\\n",
       "28   mood_2      Sensual   85.309680  2.551113e-20   \n",
       "40  genre_1  Electronica   65.249731  6.598320e-16   \n",
       "2   genre_1   Indie Rock  366.567076  1.046303e-81   \n",
       "13  genre_3  Electronica  163.908151  1.584260e-37   \n",
       "21   mood_1     Brooding  109.456909  1.288759e-25   \n",
       "48   mood_1       Gritty   49.741710  1.753777e-12   \n",
       "14   mood_1   Energizing  162.542129  3.149562e-37   \n",
       "68   mood_3        Other   27.407286  1.648091e-07   \n",
       "\n",
       "                              cTable  multiplier  reject null  \n",
       "28  [[343873, 19198], [38598, 1697]]    0.787516         True  \n",
       "40  [[350162, 12909], [39176, 1119]]    0.774794         True  \n",
       "2   [[298164, 64907], [34631, 5664]]    0.751315         True  \n",
       "13  [[337501, 25570], [38143, 2152]]    0.744684         True  \n",
       "21  [[346296, 16775], [38893, 1402]]    0.744152         True  \n",
       "48    [[355800, 7271], [39695, 600]]    0.739652         True  \n",
       "14  [[340541, 22530], [38438, 1857]]    0.730229         True  \n",
       "68     [[361541, 1530], [40196, 99]]    0.581994         True  "
      ]
     },
     "execution_count": 31,
     "metadata": {},
     "output_type": "execute_result"
    }
   ],
   "source": [
    "chisum.loc[(chisum['reject null'] == True) & (chisum['multiplier'] < 0.8)].sort_values('multiplier', ascending=False)"
   ]
  },
  {
   "cell_type": "markdown",
   "id": "1805db50-ce4e-4afe-ad2b-de1306ba8fb4",
   "metadata": {},
   "source": [
    "We would recommend would-be superstar playlist maker construct a playlist with the following attributes:\n",
    "\n",
    "* **Genre 1: Children's** \n",
    "    * 2.6x more likely to be in the 90th percentile\n",
    "    * 4.8x more likely to be in the 99th percentile\n",
    "* **Mood 1: Other** \n",
    "    * 2.3x more likely to be in the 90th percentile\n",
    "    * 2.4x more likely to be in the 99th percentile"
   ]
  },
  {
   "cell_type": "markdown",
   "id": "f055b1de-1bd0-4f23-8dde-4eac4ca1970f",
   "metadata": {},
   "source": [
    "#### Continuous Feature"
   ]
  },
  {
   "cell_type": "code",
   "execution_count": 32,
   "id": "8db8704c-fe8f-4d86-9c96-c7f22de37fbc",
   "metadata": {},
   "outputs": [
    {
     "data": {
      "text/plain": [
       "['n_tracks', 'n_artists', 'n_albums', 'n_local_tracks']"
      ]
     },
     "execution_count": 32,
     "metadata": {},
     "output_type": "execute_result"
    }
   ],
   "source": [
    "con_features"
   ]
  },
  {
   "cell_type": "markdown",
   "id": "a697360f-e49e-47a7-94df-95af59925701",
   "metadata": {},
   "source": [
    "##### t-Test\n",
    "\n",
    "For t tests we need to deal with the long tails in the distributions along the independent variable"
   ]
  },
  {
   "cell_type": "code",
   "execution_count": 39,
   "id": "15be78f2-559a-4a5e-a1d7-259ad2e61fdf",
   "metadata": {},
   "outputs": [
    {
     "data": {
      "image/png": "[encoded data removed]",
      "text/plain": [
       "<Figure size 432x288 with 1 Axes>"
      ]
     },
     "metadata": {},
     "output_type": "display_data"
    },
    {
     "data": {
      "image/png": "[encoded data removed]",
      "text/plain": [
       "<Figure size 432x288 with 1 Axes>"
      ]
     },
     "metadata": {},
     "output_type": "display_data"
    },
    {
     "data": {
      "image/png": "[encoded data removed]",
      "text/plain": [
       "<Figure size 432x288 with 1 Axes>"
      ]
     },
     "metadata": {},
     "output_type": "display_data"
    },
    {
     "data": {
      "image/png": "[encoded data removed]",
      "text/plain": [
       "<Figure size 432x288 with 1 Axes>"
      ]
     },
     "metadata": {},
     "output_type": "display_data"
    }
   ],
   "source": [
    "chidf = pd.DataFrame()\n",
    "target = sub_targets[2]\n",
    "chidf[target] = df[target]\n",
    "quant_value = 0.90\n",
    "tar_value = np.quantile(chidf[target], quant_value)\n",
    "chidf[target] = chidf[target] > tar_value\n",
    "welchsum = pd.DataFrame()\n",
    "cutoff = 0.0001\n",
    "pop = chidf[target].values\n",
    "\n",
    "for ind in con_features:\n",
    "    # ind = con_features[0]\n",
    "    chidf[ind] = df[ind]\n",
    "\n",
    "    # for grp_label in df[ind].unique():\n",
    "    # try:\n",
    "    a = []\n",
    "    b = []\n",
    "    for i in range(100):\n",
    "        boot1 = random.sample(\n",
    "                    list(\n",
    "                        chidf.loc[\n",
    "                            (chidf[target] == True)\n",
    "                        ][ind].values),\n",
    "                    k=1000)\n",
    "        boot2 = random.sample(\n",
    "                    list(\n",
    "                        chidf.loc[\n",
    "                            (chidf[target] == False)\n",
    "                        ][ind].values),\n",
    "                    k=1000)\n",
    "        a.append(np.mean(boot1))\n",
    "        b.append(np.mean(boot2))\n",
    "    testt, p = stats.ttest_ind(a, b, equal_var=False)\n",
    "    a_avg = np.mean(a)\n",
    "    b_avg = np.mean(b)\n",
    "    welchsum = pd.concat([welchsum, pd.DataFrame([[ind, testt, p, a_avg, b_avg, p<cutoff]])])\n",
    "    sns.histplot(a, color='tab:orange', label=f\"{target} > {tar_value:.0f}\")\n",
    "    sns.histplot(b, label=f\"{target} <= {tar_value:.0f}\")\n",
    "    plt.title(ind)\n",
    "    plt.legend()\n",
    "    plt.show()\n",
    "    # except:\n",
    "    #     pass\n",
    "\n",
    "welchsum.columns = ['feature', 'test stat', 'p-value', 'upper q avg', 'lower q avg', 'reject null']\n",
    "welchsum = welchsum.sort_values('p-value').reset_index(drop=True)"
   ]
  },
  {
   "cell_type": "code",
   "execution_count": 41,
   "id": "1032712c-4114-44de-ae45-9c6722f773fb",
   "metadata": {},
   "outputs": [
    {
     "data": {
      "text/html": [
       "<div>\n",
       "<style scoped>\n",
       "    .dataframe tbody tr th:only-of-type {\n",
       "        vertical-align: middle;\n",
       "    }\n",
       "\n",
       "    .dataframe tbody tr th {\n",
       "        vertical-align: top;\n",
       "    }\n",
       "\n",
       "    .dataframe thead th {\n",
       "        text-align: right;\n",
       "    }\n",
       "</style>\n",
       "<table border=\"1\" class=\"dataframe\">\n",
       "  <thead>\n",
       "    <tr style=\"text-align: right;\">\n",
       "      <th></th>\n",
       "      <th>feature</th>\n",
       "      <th>test stat</th>\n",
       "      <th>p-value</th>\n",
       "      <th>upper q avg</th>\n",
       "      <th>lower q avg</th>\n",
       "      <th>reject null</th>\n",
       "    </tr>\n",
       "  </thead>\n",
       "  <tbody>\n",
       "    <tr>\n",
       "      <th>0</th>\n",
       "      <td>n_albums</td>\n",
       "      <td>102.048804</td>\n",
       "      <td>9.074982e-151</td>\n",
       "      <td>150.03201</td>\n",
       "      <td>81.86361</td>\n",
       "      <td>True</td>\n",
       "    </tr>\n",
       "    <tr>\n",
       "      <th>1</th>\n",
       "      <td>n_artists</td>\n",
       "      <td>93.165040</td>\n",
       "      <td>7.173538e-143</td>\n",
       "      <td>142.27000</td>\n",
       "      <td>77.84331</td>\n",
       "      <td>True</td>\n",
       "    </tr>\n",
       "    <tr>\n",
       "      <th>2</th>\n",
       "      <td>n_tracks</td>\n",
       "      <td>60.485334</td>\n",
       "      <td>2.651696e-108</td>\n",
       "      <td>415.45784</td>\n",
       "      <td>177.93975</td>\n",
       "      <td>True</td>\n",
       "    </tr>\n",
       "    <tr>\n",
       "      <th>3</th>\n",
       "      <td>n_local_tracks</td>\n",
       "      <td>15.204209</td>\n",
       "      <td>1.507712e-33</td>\n",
       "      <td>6.30652</td>\n",
       "      <td>2.75143</td>\n",
       "      <td>True</td>\n",
       "    </tr>\n",
       "  </tbody>\n",
       "</table>\n",
       "</div>"
      ],
      "text/plain": [
       "          feature   test stat        p-value  upper q avg  lower q avg  \\\n",
       "0        n_albums  102.048804  9.074982e-151    150.03201     81.86361   \n",
       "1       n_artists   93.165040  7.173538e-143    142.27000     77.84331   \n",
       "2        n_tracks   60.485334  2.651696e-108    415.45784    177.93975   \n",
       "3  n_local_tracks   15.204209   1.507712e-33      6.30652      2.75143   \n",
       "\n",
       "   reject null  \n",
       "0         True  \n",
       "1         True  \n",
       "2         True  \n",
       "3         True  "
      ]
     },
     "execution_count": 41,
     "metadata": {},
     "output_type": "execute_result"
    }
   ],
   "source": [
    "welchsum"
   ]
  },
  {
   "cell_type": "markdown",
   "id": "77175c73-371c-45c0-b0d3-2bee5723152c",
   "metadata": {},
   "source": [
    "Let's perform the same test again this time let's say we're only interested in playlists with at least 10 tracks and fewer than 1000 tracks"
   ]
  },
  {
   "cell_type": "code",
   "execution_count": 42,
   "id": "479dcb09-f6b9-4a80-89b0-ab51023b43f1",
   "metadata": {},
   "outputs": [
    {
     "data": {
      "image/png": "[encoded data removed]",
      "text/plain": [
       "<Figure size 432x288 with 1 Axes>"
      ]
     },
     "metadata": {},
     "output_type": "display_data"
    },
    {
     "data": {
      "image/png": "[encoded data removed]",
      "text/plain": [
       "<Figure size 432x288 with 1 Axes>"
      ]
     },
     "metadata": {},
     "output_type": "display_data"
    },
    {
     "data": {
      "image/png": "[encoded data removed]",
      "text/plain": [
       "<Figure size 432x288 with 1 Axes>"
      ]
     },
     "metadata": {},
     "output_type": "display_data"
    },
    {
     "data": {
      "image/png": "[encoded data removed]",
      "text/plain": [
       "<Figure size 432x288 with 1 Axes>"
      ]
     },
     "metadata": {},
     "output_type": "display_data"
    }
   ],
   "source": [
    "chidf = pd.DataFrame()\n",
    "target = sub_targets[2]\n",
    "chidf[target] = df[target]\n",
    "chidf['n_tracks'] = df['n_tracks']\n",
    "quant_value = 0.90\n",
    "tar_value = np.quantile(chidf[target], quant_value)\n",
    "chidf[target] = chidf[target] > tar_value\n",
    "welchsum = pd.DataFrame()\n",
    "cutoff = 0.0001\n",
    "pop = chidf[target].values\n",
    "\n",
    "for ind in con_features:\n",
    "    # ind = con_features[0]\n",
    "    chidf[ind] = df[ind]\n",
    "\n",
    "    # for grp_label in df[ind].unique():\n",
    "    # try:\n",
    "    a = []\n",
    "    b = []\n",
    "    for i in range(100):\n",
    "        boot1 = random.sample(\n",
    "                    list(\n",
    "                        chidf.loc[\n",
    "                            (chidf[target] == True)\n",
    "                            & (chidf['n_tracks'] > 9)\n",
    "                            & (chidf['n_tracks'] < 999)\n",
    "                        ][ind].values),\n",
    "                    k=1000)\n",
    "        boot2 = random.sample(\n",
    "                    list(\n",
    "                        chidf.loc[\n",
    "                            (chidf[target] == False)\n",
    "                            & (chidf['n_tracks'] > 9)\n",
    "                            & (chidf['n_tracks'] < 999)\n",
    "                        ][ind].values),\n",
    "                    k=1000)\n",
    "        a.append(np.mean(boot1))\n",
    "        b.append(np.mean(boot2))\n",
    "    testt, p = stats.ttest_ind(a, b, equal_var=False)\n",
    "    a_avg = np.mean(a)\n",
    "    b_avg = np.mean(b)\n",
    "    welchsum = pd.concat([welchsum, pd.DataFrame([[ind, testt, p, a_avg, b_avg, p<cutoff]])])\n",
    "    sns.histplot(a, color='tab:orange', label=f\"{target} > {tar_value:.0f}\")\n",
    "    sns.histplot(b, label=f\"{target} <= {tar_value:.0f}\")\n",
    "    plt.title(ind)\n",
    "    plt.legend()\n",
    "    plt.show()\n",
    "    # except:\n",
    "    #     pass\n",
    "\n",
    "welchsum.columns = ['feature', 'test stat', 'p-value', 'upper q avg', 'lower q avg', 'reject null']\n",
    "welchsum = welchsum.sort_values('p-value').reset_index(drop=True)"
   ]
  },
  {
   "cell_type": "code",
   "execution_count": 43,
   "id": "8f120be4-4901-43de-8f20-537261cc3c9b",
   "metadata": {},
   "outputs": [
    {
     "data": {
      "text/html": [
       "<div>\n",
       "<style scoped>\n",
       "    .dataframe tbody tr th:only-of-type {\n",
       "        vertical-align: middle;\n",
       "    }\n",
       "\n",
       "    .dataframe tbody tr th {\n",
       "        vertical-align: top;\n",
       "    }\n",
       "\n",
       "    .dataframe thead th {\n",
       "        text-align: right;\n",
       "    }\n",
       "</style>\n",
       "<table border=\"1\" class=\"dataframe\">\n",
       "  <thead>\n",
       "    <tr style=\"text-align: right;\">\n",
       "      <th></th>\n",
       "      <th>feature</th>\n",
       "      <th>test stat</th>\n",
       "      <th>p-value</th>\n",
       "      <th>upper q avg</th>\n",
       "      <th>lower q avg</th>\n",
       "      <th>reject null</th>\n",
       "    </tr>\n",
       "  </thead>\n",
       "  <tbody>\n",
       "    <tr>\n",
       "      <th>0</th>\n",
       "      <td>n_tracks</td>\n",
       "      <td>110.782734</td>\n",
       "      <td>1.913718e-173</td>\n",
       "      <td>231.56673</td>\n",
       "      <td>137.09507</td>\n",
       "      <td>True</td>\n",
       "    </tr>\n",
       "    <tr>\n",
       "      <th>1</th>\n",
       "      <td>n_artists</td>\n",
       "      <td>87.812155</td>\n",
       "      <td>2.100996e-157</td>\n",
       "      <td>108.08371</td>\n",
       "      <td>70.02189</td>\n",
       "      <td>True</td>\n",
       "    </tr>\n",
       "    <tr>\n",
       "      <th>2</th>\n",
       "      <td>n_albums</td>\n",
       "      <td>87.814955</td>\n",
       "      <td>5.432018e-154</td>\n",
       "      <td>114.92906</td>\n",
       "      <td>73.64590</td>\n",
       "      <td>True</td>\n",
       "    </tr>\n",
       "    <tr>\n",
       "      <th>3</th>\n",
       "      <td>n_local_tracks</td>\n",
       "      <td>17.294490</td>\n",
       "      <td>5.602552e-40</td>\n",
       "      <td>3.02931</td>\n",
       "      <td>1.85825</td>\n",
       "      <td>True</td>\n",
       "    </tr>\n",
       "  </tbody>\n",
       "</table>\n",
       "</div>"
      ],
      "text/plain": [
       "          feature   test stat        p-value  upper q avg  lower q avg  \\\n",
       "0        n_tracks  110.782734  1.913718e-173    231.56673    137.09507   \n",
       "1       n_artists   87.812155  2.100996e-157    108.08371     70.02189   \n",
       "2        n_albums   87.814955  5.432018e-154    114.92906     73.64590   \n",
       "3  n_local_tracks   17.294490   5.602552e-40      3.02931      1.85825   \n",
       "\n",
       "   reject null  \n",
       "0         True  \n",
       "1         True  \n",
       "2         True  \n",
       "3         True  "
      ]
     },
     "execution_count": 43,
     "metadata": {},
     "output_type": "execute_result"
    }
   ],
   "source": [
    "welchsum"
   ]
  },
  {
   "cell_type": "markdown",
   "id": "0d6a610f-9f33-4fb1-b43d-de5fe68a3303",
   "metadata": {},
   "source": [
    "##### Categorical-Continuous Conclusions\n",
    "\n",
    "Our conclusions are the same. There is a clear delineation between number of tracks, albums, and artists for popular and unpopular playlists"
   ]
  },
  {
   "cell_type": "markdown",
   "id": "d7889efd-0d2f-454d-9f22-f3e24f499939",
   "metadata": {},
   "source": [
    "#### Categorical Target Model"
   ]
  },
  {
   "cell_type": "markdown",
   "id": "8c063ffd-d3f9-4b29-85bf-fb0317a6c7ac",
   "metadata": {},
   "source": [
    "##### Deciles"
   ]
  },
  {
   "cell_type": "code",
   "execution_count": 44,
   "id": "7b083844-4284-46fe-94bc-6c93ec97cd40",
   "metadata": {},
   "outputs": [
    {
     "data": {
      "text/plain": [
       "'monthly_stream30s'"
      ]
     },
     "execution_count": 44,
     "metadata": {},
     "output_type": "execute_result"
    }
   ],
   "source": [
    "target"
   ]
  },
  {
   "cell_type": "code",
   "execution_count": 45,
   "id": "7ffe070d-7f31-445e-8625-4a0ab9fbeaf3",
   "metadata": {},
   "outputs": [],
   "source": [
    "y = df[target].values\n",
    "labels = y.copy()\n",
    "names = []\n",
    "for idx, quant in zip(range(11), np.linspace(0, 1, num=11)):\n",
    "    if idx == 0:\n",
    "        prev = quant\n",
    "        continue\n",
    "    if idx == 1:\n",
    "        labels[labels <= np.quantile(y, quant)] = idx\n",
    "        names += [f\"less than {np.quantile(y, quant):.0f} listens\"]\n",
    "    else:\n",
    "        labels[(labels > np.quantile(y, prev))\n",
    "              &(labels <= np.quantile(y, quant))] = idx\n",
    "        names += [f\"{np.quantile(y, prev):.0f} < listens <= {np.quantile(y, quant):.0f}\"]\n",
    "    prev = quant\n",
    "y = labels"
   ]
  },
  {
   "cell_type": "code",
   "execution_count": 60,
   "id": "93a32db6-a8d9-4332-b49c-2945f546900f",
   "metadata": {},
   "outputs": [],
   "source": [
    "X = df[des_features + con_features]\n",
    "enc = OneHotEncoder()\n",
    "std = StandardScaler()\n",
    "\n",
    "X_cat = enc.fit_transform(X[des_features]).toarray()\n",
    "X_con = std.fit_transform(X[con_features])\n",
    "X = np.hstack((X_con, X_cat))\n",
    "\n",
    "X_train, X_test, y_train, y_test = train_test_split(X, y, random_state=42, train_size=0.8)"
   ]
  },
  {
   "cell_type": "code",
   "execution_count": 61,
   "id": "fce799f0-0d00-4993-9314-b3de9615ca2c",
   "metadata": {},
   "outputs": [
    {
     "data": {
      "text/plain": [
       "(322692, 163)"
      ]
     },
     "execution_count": 61,
     "metadata": {},
     "output_type": "execute_result"
    }
   ],
   "source": [
    "X_train.shape"
   ]
  },
  {
   "cell_type": "code",
   "execution_count": 65,
   "id": "d6ca1bac-3618-418e-ae0a-f9da486d02e2",
   "metadata": {},
   "outputs": [
    {
     "data": {
      "text/plain": [
       "RandomForestClassifier()"
      ]
     },
     "execution_count": 65,
     "metadata": {},
     "output_type": "execute_result"
    }
   ],
   "source": [
    "model = RandomForestClassifier()\n",
    "model.fit(X_train, y_train)"
   ]
  },
  {
   "cell_type": "code",
   "execution_count": 66,
   "id": "87474352-84d5-4183-a61e-1945173efbbf",
   "metadata": {},
   "outputs": [
    {
     "name": "stdout",
     "output_type": "stream",
     "text": [
      "Train Acc: 0.14\n",
      "Test Acc: 0.14\n"
     ]
    }
   ],
   "source": [
    "y_hat_test = model.predict(X_test)\n",
    "print(f\"Train Acc: {accuracy_score(y_test, y_hat_test):.2f}\")\n",
    "print(f\"Test Acc: {accuracy_score(y_test, y_hat_test):.2f}\")"
   ]
  },
  {
   "cell_type": "code",
   "execution_count": 70,
   "id": "2cb58c6f-8222-43bc-bfef-c8b13b3a0492",
   "metadata": {},
   "outputs": [
    {
     "name": "stdout",
     "output_type": "stream",
     "text": [
      "              precision    recall  f1-score   support\n",
      "\n",
      "           1       0.19      0.27      0.22      8363\n",
      "           2       0.13      0.13      0.13      7866\n",
      "           3       0.12      0.12      0.12      8173\n",
      "           4       0.10      0.09      0.10      7773\n",
      "           5       0.11      0.10      0.10      8252\n",
      "           6       0.11      0.10      0.10      7976\n",
      "           7       0.11      0.09      0.10      8018\n",
      "           8       0.12      0.10      0.11      8185\n",
      "           9       0.14      0.14      0.14      8009\n",
      "          10       0.21      0.26      0.23      8059\n",
      "\n",
      "    accuracy                           0.14     80674\n",
      "   macro avg       0.13      0.14      0.14     80674\n",
      "weighted avg       0.13      0.14      0.14     80674\n",
      "\n"
     ]
    }
   ],
   "source": [
    "print(classification_report(y_test, y_hat_test, zero_division=0))"
   ]
  },
  {
   "cell_type": "code",
   "execution_count": 71,
   "id": "c4d5a7f1-95ad-4c50-9052-79b7b261fd10",
   "metadata": {},
   "outputs": [
    {
     "data": {
      "text/plain": [
       "<AxesSubplot:>"
      ]
     },
     "execution_count": 71,
     "metadata": {},
     "output_type": "execute_result"
    },
    {
     "data": {
      "image/png": "[encoded data removed]",
      "text/plain": [
       "<Figure size 576x504 with 2 Axes>"
      ]
     },
     "metadata": {},
     "output_type": "display_data"
    }
   ],
   "source": [
    "fig, ax = plt.subplots(1, 1, figsize = (8,7))\n",
    "sns.heatmap(confusion_matrix(y_test, y_hat_test), annot=True, ax=ax)"
   ]
  },
  {
   "cell_type": "markdown",
   "id": "ea70d2a0-98fb-4e99-a636-0bc7706c7b68",
   "metadata": {},
   "source": [
    "##### Quartiles"
   ]
  },
  {
   "cell_type": "code",
   "execution_count": 73,
   "id": "a6636db3-2c24-4adc-9044-dd112e9d2e16",
   "metadata": {},
   "outputs": [
    {
     "name": "stdout",
     "output_type": "stream",
     "text": [
      "Train Acc: 0.99\n",
      "Test Acc: 0.44\n",
      "              precision    recall  f1-score   support\n",
      "\n",
      "           1       0.46      0.49      0.47     26847\n",
      "           2       0.36      0.31      0.33     26799\n",
      "           3       0.47      0.50      0.49     27028\n",
      "\n",
      "    accuracy                           0.44     80674\n",
      "   macro avg       0.43      0.44      0.43     80674\n",
      "weighted avg       0.43      0.44      0.43     80674\n",
      "\n"
     ]
    },
    {
     "data": {
      "text/plain": [
       "<AxesSubplot:>"
      ]
     },
     "execution_count": 73,
     "metadata": {},
     "output_type": "execute_result"
    },
    {
     "data": {
      "image/png": "[encoded data removed]",
      "text/plain": [
       "<Figure size 576x504 with 2 Axes>"
      ]
     },
     "metadata": {},
     "output_type": "display_data"
    }
   ],
   "source": [
    "### Create Categories\n",
    "\n",
    "y = df[target].values\n",
    "labels = y.copy()\n",
    "names = []\n",
    "lim = 4\n",
    "for idx, quant in zip(range(lim), np.linspace(0, 1, num=lim)):\n",
    "    if idx == 0:\n",
    "        prev = quant\n",
    "        continue\n",
    "    if idx == 1:\n",
    "        labels[labels <= np.quantile(y, quant)] = idx\n",
    "        names += [f\"less than {np.quantile(y, quant):.0f} listens\"]\n",
    "    else:\n",
    "        labels[(labels > np.quantile(y, prev))\n",
    "              &(labels <= np.quantile(y, quant))] = idx\n",
    "        names += [f\"{np.quantile(y, prev):.0f} < listens <= {np.quantile(y, quant):.0f}\"]\n",
    "    prev = quant\n",
    "y = labels\n",
    "\n",
    "### Create Training Data\n",
    "\n",
    "X = df[des_features + con_features]\n",
    "enc = OneHotEncoder()\n",
    "std = StandardScaler()\n",
    "\n",
    "X_cat = enc.fit_transform(X[des_features]).toarray()\n",
    "X_con = std.fit_transform(X[con_features])\n",
    "X = np.hstack((X_con, X_cat))\n",
    "\n",
    "X_train, X_test, y_train, y_test = train_test_split(X, y, random_state=42, train_size=0.8)\n",
    "\n",
    "### Train Model\n",
    "\n",
    "model = RandomForestClassifier()\n",
    "model.fit(X_train, y_train)\n",
    "\n",
    "### Asses Performance\n",
    "\n",
    "y_hat_test = model.predict(X_test)\n",
    "y_hat_train = model.predict(X_train)\n",
    "print(f\"Train Acc: {accuracy_score(y_train, y_hat_train):.2f}\")\n",
    "print(f\"Test Acc: {accuracy_score(y_test, y_hat_test):.2f}\")\n",
    "\n",
    "print(classification_report(y_test, y_hat_test, zero_division=0))\n",
    "\n",
    "fig, ax = plt.subplots(1, 1, figsize = (8,7))\n",
    "sns.heatmap(confusion_matrix(y_test, y_hat_test), annot=True, ax=ax)"
   ]
  },
  {
   "cell_type": "markdown",
   "id": "c2241e59-83af-42b6-8599-d34612cd5dd0",
   "metadata": {},
   "source": [
    "### Continuous Target"
   ]
  },
  {
   "cell_type": "markdown",
   "id": "829aa066-18d2-4239-ba24-c90e44e9226b",
   "metadata": {},
   "source": [
    "#### Linear"
   ]
  },
  {
   "cell_type": "markdown",
   "id": "1ce4f319-785a-4ef2-9dd1-de59f579f4f0",
   "metadata": {},
   "source": [
    "#### Ensemble"
   ]
  }
 ],
 "metadata": {
  "kernelspec": {
   "display_name": "Python 3 (ipykernel)",
   "language": "python",
   "name": "python3"
  },
  "language_info": {
   "codemirror_mode": {
    "name": "ipython",
    "version": 3
   },
   "file_extension": ".py",
   "mimetype": "text/x-python",
   "name": "python",
   "nbconvert_exporter": "python",
   "pygments_lexer": "ipython3",
   "version": "3.9.7"
  }
 },
 "nbformat": 4,
 "nbformat_minor": 5
}
