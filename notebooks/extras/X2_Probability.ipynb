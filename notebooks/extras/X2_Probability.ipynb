{
 "cells": [
  {
   "cell_type": "markdown",
   "metadata": {},
   "source": [
    "## Measuring Uncertainty\n",
    "\n",
    "One strategy is to just count occurance of outcomes\n",
    "\n",
    "The probability of either of two mutually exclusive events occuring is the sum of their probabilities\n",
    "\n",
    "$$ P(A \\space or \\space B) = P(A \\cup B) = P(A) + P(B) $$\n",
    "\n",
    "The probability of two mutually exclusive events occuring together is the product of their probabilities\n",
    "\n",
    "$$ P(A \\space and \\space B) = P(A \\cap B) = P(A) * P(B) $$\n",
    "\n",
    "For non-mutually exclusive events:\n",
    "\n",
    "$$ P (A \\cup B) = P(A) + P(B) - P(A \\cap B) $$"
   ]
  },
  {
   "cell_type": "markdown",
   "metadata": {},
   "source": [
    "### Q1\n",
    "\n",
    "In a single toss of 2 fair (evenly-weighted) six-sided dice, find the probability that their sum will be at most 9"
   ]
  },
  {
   "cell_type": "code",
   "execution_count": 20,
   "metadata": {},
   "outputs": [
    {
     "data": {
      "text/plain": [
       "0.8333333333333334"
      ]
     },
     "execution_count": 20,
     "metadata": {},
     "output_type": "execute_result"
    }
   ],
   "source": [
    "tot_outcomes = 6**2\n",
    "sum_less_than_9 = 6 + 6 + 6 + 5 + 4 + 3\n",
    "sum_less_than_9/tot_outcomes"
   ]
  },
  {
   "cell_type": "markdown",
   "metadata": {},
   "source": [
    "### Q2\n",
    "\n",
    "In a single toss of 2 fair (evenly-weighted) six-sided dice, find the probability that the values rolled by each die will be different and the two dice have a sum of 6."
   ]
  },
  {
   "cell_type": "code",
   "execution_count": null,
   "metadata": {},
   "outputs": [],
   "source": [
    "# only 5 outcomes will sum to 6\n",
    "# one of those has equal numbers\n",
    "# so there are 4/36 chances or 1/9 probability"
   ]
  },
  {
   "cell_type": "markdown",
   "metadata": {},
   "source": [
    "### Q3\n",
    "\n",
    "There are 3 urns labeled X, Y, and Z.\n",
    "\n",
    "\n",
    "* Urn X contains 4 red balls and 3 black balls.\n",
    "* Urn Y contains 5 red balls and 4 black balls.\n",
    "* Urn Z contains 4 red balls and 4 black balls.\n",
    "\n",
    "One ball is drawn from each of the 3 urns. What is the probability that, of the 3 balls drawn, 2 are red and 1 is black?"
   ]
  },
  {
   "cell_type": "code",
   "execution_count": 23,
   "metadata": {},
   "outputs": [
    {
     "data": {
      "text/plain": [
       "0.40476190476190477"
      ]
     },
     "execution_count": 23,
     "metadata": {},
     "output_type": "execute_result"
    }
   ],
   "source": [
    "# multiply and sum probabilities \n",
    "# RRB 4/7 * 5/9 * 4/8\n",
    "# RBR 4/7 * 4/9 * 4/8\n",
    "# BRR 3/7 * 5/9 * 4/8\n",
    "(4/7 * 5/9 * 1/2) +\\\n",
    "(4/7 * 4/9 * 1/2) +\\\n",
    "(3/7 * 5/9 * 1/2)"
   ]
  },
  {
   "cell_type": "markdown",
   "metadata": {},
   "source": [
    "## Conditional Probability\n",
    "\n",
    "The flagship expression here is Bayes Rule or Bayesian Inference:\n",
    "\n",
    "$$ P(A|B) = \\frac{P(B|A) * P(A)}{P(B)} = \\frac{P(A \\cap B)}{P(B)}$$\n",
    "\n",
    "Also formulated this way\n",
    "\n",
    "$$ P(belief|data) = \\frac{P(data|belief) * P(belief)}{P(data)} $$\n",
    "\n",
    "_The posterior, the likelihood, and the prior_\n",
    "\n",
    "$$ The \\space posterior \\space probability = \\frac{Likelihood * prior \\space probability}{observed data} $$\n",
    "\n",
    "Where \\\\(\\cap\\\\) is the intersection of \\\\(A\\\\) and \\\\(B\\\\)."
   ]
  },
  {
   "cell_type": "markdown",
   "metadata": {},
   "source": [
    "### Q1\n",
    "\n",
    "Suppose a family has 2 children, one of which is a boy. What is the probability that both children are boys?"
   ]
  },
  {
   "cell_type": "code",
   "execution_count": null,
   "metadata": {},
   "outputs": [],
   "source": [
    "# child1 child2\n",
    "# a boy; a girl\n",
    "# a girl; a boy\n",
    "# a boy; a boy\n",
    "# a girl; a girl - not included\n",
    "# answer - 1/3"
   ]
  },
  {
   "cell_type": "markdown",
   "metadata": {},
   "source": [
    "### Q2\n",
    "\n",
    "You draw 2 cards from a standard 52-card deck without replacing them. What is the probability that both cards are of the same suit?"
   ]
  },
  {
   "cell_type": "code",
   "execution_count": 1,
   "metadata": {},
   "outputs": [
    {
     "data": {
      "text/plain": [
       "0.23529411764705882"
      ]
     },
     "execution_count": 1,
     "metadata": {},
     "output_type": "execute_result"
    }
   ],
   "source": [
    "# suites\n",
    "# 13 13 13 13\n",
    "# hearts\n",
    "(13-1)/51 #12/51\n",
    "# spades 4/17\n",
    "# clubs 4/17\n",
    "# diamonds 4/17\n",
    "# (4*4)/(4*17)\n",
    "# multiplying out still yields\n",
    "# 12/51\n",
    "\n",
    "# 1/4 * 12/51 + 1/4 * 12/51 + 1/4 * 12/51 + 1/4 * 12/51 = 12/51"
   ]
  },
  {
   "cell_type": "code",
   "execution_count": null,
   "metadata": {},
   "outputs": [],
   "source": [
    "# prob(a|b) = (prob(b|a)*prob(a)) / prob(b) = intersect(a|b) / prob(b)\n",
    "# (1/4) * (12/51) / "
   ]
  },
  {
   "cell_type": "markdown",
   "metadata": {},
   "source": [
    "### Q3\n",
    "\n",
    "If the probability of student A passing an exam is 2/7 and the probability of student B failing the exam is 3/7, then find the probability that at least 1 of the 2 students will pass the exam"
   ]
  },
  {
   "cell_type": "code",
   "execution_count": 25,
   "metadata": {},
   "outputs": [
    {
     "data": {
      "text/plain": [
       "0.6938775510204082"
      ]
     },
     "execution_count": 25,
     "metadata": {},
     "output_type": "execute_result"
    }
   ],
   "source": [
    "# P(A) = 2/7\n",
    "# P(B) = 4/7\n",
    "\n",
    "# All outcomes - sum to 1\n",
    "# A pass B pass 2/7 * 4/7\n",
    "# A fail B fail 5/7 * 3/7\n",
    "# A pass B fail 2/7 * 3/7\n",
    "# A fail B pass 5/7 * 4/7\n",
    "\n",
    "# all outcomes\n",
    "(2/7)*(4/7)+\\\n",
    "(5/7)*(3/7)+\\\n",
    "(2/7)*(3/7)+\\\n",
    "(5/7)*(4/7)\n",
    "\n",
    "# outcomes we care about\n",
    "(2/7)*(4/7)+\\\n",
    "(2/7)*(3/7)+\\\n",
    "(5/7)*(4/7)\n",
    "\n",
    "34/49"
   ]
  },
  {
   "cell_type": "markdown",
   "metadata": {},
   "source": [
    "### Q4\n",
    "\n",
    "Historical data shows that it has only rained 5 days per year in some desert region (assuming a 365 day year). A meteorologist predicts that it will rain today. When it actually rains, the meteorologist correctly predicts rain 90% of the time. When it doesn't rain, the meteorologist incorrectly predicts rain 10% of the time. Find the probability that it will rain today."
   ]
  },
  {
   "cell_type": "code",
   "execution_count": 30,
   "metadata": {},
   "outputs": [
    {
     "name": "stdout",
     "output_type": "stream",
     "text": [
      "P(B|A): 0.9\n",
      "P(B): 0.11095890410958904\n",
      "P(A): 0.0136986301369863\n",
      "P(A|B): 0.1111111111111111\n"
     ]
    }
   ],
   "source": [
    "# P(A|B) = probability that it will rain today given that the meteorologist has predicted it will rain\n",
    "# P(B|A) = probability that the meteoroligist will say it will rain when it rains; 90%\n",
    "# P(A) = probability that it will rain; 5/365\n",
    "# P(B) = probability that meteoroligist will say it will rain\n",
    "\n",
    "# what is P(B) then?\n",
    "\n",
    "# P(B) = (5/365*.90) + ((365-5)/365*.1)\n",
    "\n",
    "P_B = (5/365*.90) + ((365-5)/365*.1)\n",
    "P_A = 5/365\n",
    "P_BA = 0.9\n",
    "\n",
    "P_AB = P_BA * P_A / P_B\n",
    "\n",
    "print(f\"P(B|A): {P_BA}\")\n",
    "print(f\"P(B): {P_B}\")\n",
    "print(f\"P(A): {P_A}\")\n",
    "print(f\"P(A|B): {P_AB}\")"
   ]
  },
  {
   "cell_type": "markdown",
   "metadata": {
    "id": "S35hgulw3_Ed"
   },
   "source": [
    "## Binomial Probabilities\n",
    "\n",
    "> Operates on PMF (Probability Mass Functions) for discrete values\n",
    "\n",
    "[answer key](https://nostarch.com/download/resources/Bayes_exercise_solutions_new.pdf)"
   ]
  },
  {
   "cell_type": "markdown",
   "metadata": {
    "id": "ITRgntCLwD6j"
   },
   "source": [
    "$$ B(K;n,p) = \\binom{n}{k} \\times p^k \\times (1 - p)^{n-k} $$\n",
    "\n",
    "We can calculate the total number of outcomes we care about from a total number of trials  using the binomial coefficient (this field of study is called combinatorics): \n",
    "\n",
    "$$ \\binom{n}{k} = \\frac{n!}{k! \\times (n - k)!}$$\n",
    "\n",
    "This allows us to calculate the probability of an event:\n",
    "\n",
    "$$ B(K;n,p) = \\binom{n}{k} \\times P(desired \\space outcome) $$"
   ]
  },
  {
   "cell_type": "code",
   "execution_count": 1,
   "metadata": {
    "id": "Z3ZCAFqVvzZI"
   },
   "outputs": [],
   "source": [
    "def fact(x):\n",
    "  \"\"\"\n",
    "  return the factorial of a number using recursion \n",
    "  \"\"\"\n",
    "  if x == 1 or x == 0:\n",
    "    return 1\n",
    "  else:\n",
    "    return fact(x-1) * x\n",
    "\n",
    "def n_choose_k(n, k):\n",
    "  \"\"\"\n",
    "  Returns the number of outcomes we care about of all possible outcomes\n",
    "  \"\"\"\n",
    "  return fact(n) / (fact(k) * fact(n - k))\n",
    "\n",
    "def binom(n, k, p):\n",
    "  \"\"\"\n",
    "  Returns the probability of an event occuring K times in a total number of n\n",
    "  trials having a probability of p\n",
    "  \"\"\"\n",
    "  return n_choose_k(n, k) * p**k * (1-p) ** (n-k)\n",
    "\n",
    "def k_or_more(n, k, p):\n",
    "  \"\"\"\n",
    "  we can solve the K or more problem recursively\n",
    "  \"\"\"\n",
    "  if k == n:\n",
    "    return binom(n, k, p)\n",
    "  else:\n",
    "    return k_or_more(n, k+1, p) + binom(n, k, p)"
   ]
  },
  {
   "cell_type": "markdown",
   "metadata": {
    "id": "TV5_MUfev0vV"
   },
   "source": [
    "### Q1\n",
    "\n",
    "When you're searching for a new job, it's always helpful to have more than one offer on the table so you can use it in negotiations. If you have 1/5 probability of receiving a job offer when you interview, and you interview iwth seven companies in a month, what is the probability you'll have at least two competing offers by the end of that month?"
   ]
  },
  {
   "cell_type": "code",
   "execution_count": 26,
   "metadata": {
    "colab": {
     "base_uri": "https://localhost:8080/"
    },
    "executionInfo": {
     "elapsed": 3,
     "status": "ok",
     "timestamp": 1643141327945,
     "user": {
      "displayName": "Wesley Beckner",
      "photoUrl": "https://lh3.googleusercontent.com/a-/AOh14GjSrSNC5ljFK1tVytNJhengi6L9T_zjAvSSfuo3ug=s64",
      "userId": "17051665784581118920"
     },
     "user_tz": 480
    },
    "id": "p_2am2Rj0E8_",
    "outputId": "65c56a5f-c128-4ac5-fb0f-1fa6047d8218"
   },
   "outputs": [
    {
     "name": "stdout",
     "output_type": "stream",
     "text": [
      "0.4232832000000002\n"
     ]
    }
   ],
   "source": [
    "p = 1/5\n",
    "n = 7\n",
    "k = 2\n",
    "\n",
    "offers1 = k_or_more(n, k, p)\n",
    "print(offers1)"
   ]
  },
  {
   "cell_type": "markdown",
   "metadata": {
    "id": "CevuEA4t0asE"
   },
   "source": [
    "### Q2\n",
    "\n",
    "You get a bunch of recruiter emails and find out you have 25 interviews lined up in the next month. Unfortunately, you know this will leave you exhausted, and the probability of getting an offer will drop to 1/10 if you're tired. You really don't want to go on this many interviews unless you are at least twice as likely to get a least two competing offers. Are you more likely to get at least two offers if you go for 25 interviews, or stick to just 7?"
   ]
  },
  {
   "cell_type": "code",
   "execution_count": 27,
   "metadata": {
    "colab": {
     "base_uri": "https://localhost:8080/"
    },
    "executionInfo": {
     "elapsed": 148,
     "status": "ok",
     "timestamp": 1643141339771,
     "user": {
      "displayName": "Wesley Beckner",
      "photoUrl": "https://lh3.googleusercontent.com/a-/AOh14GjSrSNC5ljFK1tVytNJhengi6L9T_zjAvSSfuo3ug=s64",
      "userId": "17051665784581118920"
     },
     "user_tz": 480
    },
    "id": "Jqz02HC0xSOI",
    "outputId": "84e46b8a-a14d-40e6-f692-929ce1ac5931"
   },
   "outputs": [
    {
     "name": "stdout",
     "output_type": "stream",
     "text": [
      "0.7287940935386341\n",
      "1.7217647512082543\n"
     ]
    }
   ],
   "source": [
    "p = 1/10\n",
    "n = 25\n",
    "k = 2\n",
    "\n",
    "offers2 = k_or_more(n, k, p)\n",
    "print(offers2)\n",
    "\n",
    "print(offers2/offers1)"
   ]
  },
  {
   "cell_type": "markdown",
   "metadata": {},
   "source": [
    "The ratio of boys to girls for babies born in Russia is 1.09:1. If there is 1 child born per birth, what proportion of Russian families with exactly 6 children will have at least 3 boys?"
   ]
  },
  {
   "cell_type": "code",
   "execution_count": 28,
   "metadata": {},
   "outputs": [
    {
     "data": {
      "text/plain": [
       "0.6957033161509107"
      ]
     },
     "execution_count": 28,
     "metadata": {},
     "output_type": "execute_result"
    }
   ],
   "source": [
    "br, gr = 1.09, 1\n",
    "p = br / (br + gr)\n",
    "n = 6\n",
    "k = 3\n",
    "\n",
    "k_or_more(n, k, p)"
   ]
  },
  {
   "cell_type": "markdown",
   "metadata": {
    "id": "ZTWvc6qW4GiY"
   },
   "source": [
    "## The Beta Distribution\n",
    "\n",
    "> Operates on PDF (Probability Density Function) for continuous values\n",
    "\n",
    "Think: Probability of probabilities\n",
    "\n",
    "$$ Beta(\\rho; \\alpha, \\beta) = \\frac{\\rho^{\\alpha - 1} \\times (1-\\rho)^{\\beta - 1}}{beta(\\alpha, \\beta)} $$\n",
    "\n",
    "where \\\\(\\rho\\\\) is the probability of an event. This corresponds to the different hypotheses for the possible probabilities that could be generating our observed data; \\\\(\\alpha\\\\) represents how many times we observe an event we care about such as winning a coin toss; \\\\(\\beta\\\\) represents how many times the event we care about _didn't_ happen, such as losing a coin toss. The total number of trials is \\\\(\\alpha + \\beta\\\\) (contrast this with \\\\(n\\\\) and \\\\(k\\\\) in the binomial distribution).\n",
    "\n",
    "The beta (lowercase) distribution:\n",
    "\n",
    "$$ \\int_0^1{\\rho^{\\alpha - 1} \\times (1-\\rho)^{\\beta - 1}} $$\n",
    "\n",
    "Putting this all together. The probability that an event occurs in a specific range:\n",
    "\n",
    "$$ Beta(\\rho; \\alpha, \\beta) = \\int_{lower \\space bound}^{upper \\space bound}{\\frac{\\rho^{\\alpha - 1} \\times (1-\\rho)^{\\beta - 1}}{beta(\\alpha, \\beta)}} $$"
   ]
  },
  {
   "cell_type": "markdown",
   "metadata": {
    "id": "pMEMM713u4Pn"
   },
   "source": [
    "### Q1\n",
    "\n",
    "You want to use the beta distribution to determine whether or not a coin you have is a fair coin - meaning that the coin gives you heads and tails equally. You flip the coin 10 times and get 4 heads and 6 tails. using the beta distribution, what is the probability that the coin will land on heads more than 60 percent of the time?"
   ]
  },
  {
   "cell_type": "code",
   "execution_count": 9,
   "metadata": {
    "colab": {
     "base_uri": "https://localhost:8080/"
    },
    "executionInfo": {
     "elapsed": 3,
     "status": "ok",
     "timestamp": 1643327294001,
     "user": {
      "displayName": "Wesley Beckner",
      "photoUrl": "https://lh3.googleusercontent.com/a-/AOh14GjSrSNC5ljFK1tVytNJhengi6L9T_zjAvSSfuo3ug=s64",
      "userId": "17051665784581118920"
     },
     "user_tz": 480
    },
    "id": "kilAONy84Ofw",
    "outputId": "dd473902-a5be-407e-bb02-38b21e08d1e4"
   },
   "outputs": [
    {
     "data": {
      "text/plain": [
       "1.1147673600000005"
      ]
     },
     "execution_count": 9,
     "metadata": {},
     "output_type": "execute_result"
    }
   ],
   "source": [
    "from scipy.stats import beta\n",
    "\n",
    "_alpha = 4\n",
    "_beta = 6\n",
    "\n",
    "model = beta(_alpha, _beta)\n",
    "model.pdf(0.6)"
   ]
  },
  {
   "cell_type": "markdown",
   "metadata": {},
   "source": [
    "## Poisson Random Variables\n",
    "\n",
    "What happens when we can't estimate \\\\(p\\\\) for a binomial probability? Enter the poisson experiemnt\n",
    "\n",
    "A Poisson experiment is a statistical experiment that has the following properties:\n",
    "\n",
    "* The outcome of each trial is either success or failure.\n",
    "* The average number of successes  that occurs in a specified region is known.\n",
    "* The probability that a success will occur is proportional to the size of the region.\n",
    "* The probability that a success will occur in an extremely small region is virtually zero.\n",
    "\n",
    "The Poisson distribution is:\n",
    "\n",
    "$$ P(k,\\lambda) = \\frac{\\lambda^k \\exp^{-\\lambda}}{k!}  $$\n",
    "\n",
    "where \\\\(\\lambda\\\\) is the average number of successes that occur in a specified region, \\\\(k\\\\) is the actual number of successes that occur in a specified region, \\\\(P(K,\\lambda)\\\\) is the Poisson probability, which is the probability of getting exactly  successes when the average number of successes is \\\\(\\lambda\\\\)."
   ]
  },
  {
   "cell_type": "code",
   "execution_count": 8,
   "metadata": {},
   "outputs": [],
   "source": [
    "from math import exp\n",
    "def poisson(k, lamb):\n",
    "    return (lamb ** k * exp(-lamb)) / (fact(k))"
   ]
  },
  {
   "cell_type": "markdown",
   "metadata": {},
   "source": [
    "### Q1\n",
    "\n",
    "A random variable, \\\\(X\\\\), follows Poisson distribution with mean of 2.5. Find the probability with which the random variable \\\\(X\\\\) is equal to 5."
   ]
  },
  {
   "cell_type": "code",
   "execution_count": 9,
   "metadata": {},
   "outputs": [
    {
     "data": {
      "text/plain": [
       "0.06680094289054264"
      ]
     },
     "execution_count": 9,
     "metadata": {},
     "output_type": "execute_result"
    }
   ],
   "source": [
    "# P(k=5,lambda=2.5)\n",
    "poisson(k=5, lamb=2.5)"
   ]
  }
 ],
 "metadata": {
  "colab": {
   "authorship_tag": "ABX9TyNdAvha+cX82XXfdU5gbVZO",
   "collapsed_sections": [],
   "name": "Probability.ipynb",
   "provenance": []
  },
  "kernelspec": {
   "display_name": "Python 3 (ipykernel)",
   "language": "python",
   "name": "python3"
  },
  "language_info": {
   "codemirror_mode": {
    "name": "ipython",
    "version": 3
   },
   "file_extension": ".py",
   "mimetype": "text/x-python",
   "name": "python",
   "nbconvert_exporter": "python",
   "pygments_lexer": "ipython3",
   "version": "3.9.7"
  }
 },
 "nbformat": 4,
 "nbformat_minor": 4
}
