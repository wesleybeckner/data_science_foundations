{
 "cells": [
  {
   "cell_type": "markdown",
   "metadata": {
    "colab_type": "text",
    "id": "view-in-github"
   },
   "source": [
    "<a href=\"https://colab.research.google.com/github/wesleybeckner/data_science_foundations/blob/main/notebooks/labs/L4_Supervised_Learners.ipynb\" target=\"_parent\"><img src=\"https://colab.research.google.com/assets/colab-badge.svg\" alt=\"Open In Colab\"/></a>"
   ]
  },
  {
   "cell_type": "markdown",
   "metadata": {
    "id": "3rZ3ZWSkhxyS"
   },
   "source": [
    "# Data Science Foundations <br> Lab 4: Practice with Supervised Learners\n",
    "\n",
    "**Instructor**: Wesley Beckner\n",
    "\n",
    "**Contact**: wesleybeckner@gmail.com\n",
    "\n",
    "---\n",
    "\n",
    "<br>\n",
    "\n",
    "In this lab we will continue to practice creation of pipelines, feature engineering, and applying learning algorithms.\n",
    "\n",
    "Now that we have covered supervised learning methods, and we've covered Grid Search, we will use these tools to do a sophisticated, search of hyperparameter optimization.\n",
    "\n",
    "<br>\n",
    "\n",
    "---\n",
    "\n",
    "\n"
   ]
  },
  {
   "cell_type": "code",
   "execution_count": 1,
   "metadata": {},
   "outputs": [],
   "source": [
    "import pandas as pd\n",
    "import numpy as np\n",
    "import datetime\n",
    "import matplotlib.pyplot as plt\n",
    "import plotly.express as px\n",
    "import random\n",
    "import scipy.stats\n",
    "from sklearn.preprocessing import OneHotEncoder, StandardScaler\n",
    "from sklearn.ensemble import RandomForestClassifier\n",
    "from sklearn.impute import SimpleImputer\n",
    "from statsmodels.stats.outliers_influence import variance_inflation_factor\n",
    "from sklearn.ensemble import RandomForestClassifier\n",
    "from sklearn.linear_model import LogisticRegression, LinearRegression\n",
    "import seaborn as sns; sns.set()\n",
    "import graphviz \n",
    "from sklearn.metrics import accuracy_score\n",
    "from ipywidgets import interact, interactive, widgets\n",
    "from sklearn.metrics import mean_squared_error, r2_score, classification_report, confusion_matrix\n",
    "from sklearn.model_selection import train_test_split\n",
    "from sklearn import metrics"
   ]
  },
  {
   "cell_type": "code",
   "execution_count": 2,
   "metadata": {},
   "outputs": [],
   "source": [
    "wine = pd.read_csv(\"https://raw.githubusercontent.com/wesleybeckner/\"\\\n",
    "      \"ds_for_engineers/main/data/wine_quality/winequalityN.csv\")\n",
    "# infer str cols\n",
    "str_cols = list(wine.select_dtypes(include='object').columns)\n",
    "\n",
    "#set target col\n",
    "target = 'quality'\n",
    "\n",
    "enc = OneHotEncoder()\n",
    "imp = SimpleImputer()\n",
    "\n",
    "enc.fit_transform(wine[str_cols])\n",
    "X_cat = enc.transform(wine[str_cols]).toarray()\n",
    "X = wine.copy()\n",
    "[X.pop(i) for i in str_cols]\n",
    "y = X.pop(target)\n",
    "X = imp.fit_transform(X)\n",
    "X = np.hstack([X_cat, X])\n",
    "\n",
    "cols = [i.split(\"_\")[1] for i in enc.get_feature_names_out()]\n",
    "cols += list(wine.columns)\n",
    "cols.remove(target)\n",
    "[cols.remove(i) for i in str_cols]\n",
    "\n",
    "scaler = StandardScaler()\n",
    "X[:,2:] = scaler.fit_transform(X[:,2:])\n",
    "\n",
    "wine = pd.DataFrame(X, columns=cols)\n",
    "wine[target] = y"
   ]
  },
  {
   "cell_type": "markdown",
   "metadata": {},
   "source": [
    "to compare, here is our results performing classification on this set of data with just logistic regression:"
   ]
  },
  {
   "cell_type": "code",
   "execution_count": 3,
   "metadata": {},
   "outputs": [],
   "source": [
    "model = LogisticRegression(max_iter=1e4)\n",
    "X_train, X_test, y_train, y_test = train_test_split(X, y, train_size=0.8, random_state=42)\n",
    "\n",
    "model.fit(X_train, y_train)\n",
    "y_pred = model.predict(X_test)"
   ]
  },
  {
   "cell_type": "code",
   "execution_count": 4,
   "metadata": {},
   "outputs": [
    {
     "name": "stdout",
     "output_type": "stream",
     "text": [
      "              precision    recall  f1-score   support\n",
      "\n",
      "           3       0.00      0.00      0.00         2\n",
      "           4       0.60      0.07      0.12        46\n",
      "           5       0.58      0.61      0.59       420\n",
      "           6       0.52      0.68      0.59       579\n",
      "           7       0.44      0.19      0.26       221\n",
      "           8       0.00      0.00      0.00        32\n",
      "\n",
      "    accuracy                           0.54      1300\n",
      "   macro avg       0.36      0.26      0.26      1300\n",
      "weighted avg       0.51      0.54      0.50      1300\n",
      "\n"
     ]
    }
   ],
   "source": [
    "print(classification_report(y_test, y_pred, zero_division=0))"
   ]
  },
  {
   "cell_type": "code",
   "execution_count": 5,
   "metadata": {},
   "outputs": [
    {
     "data": {
      "text/plain": [
       "<AxesSubplot:>"
      ]
     },
     "execution_count": 5,
     "metadata": {},
     "output_type": "execute_result"
    },
    {
     "data": {
      "image/png": "[encoded data removed]",
      "text/plain": [
       "<Figure size 576x504 with 2 Axes>"
      ]
     },
     "metadata": {},
     "output_type": "display_data"
    }
   ],
   "source": [
    "fig, ax = plt.subplots(1, 1, figsize = (8,7))\n",
    "sns.heatmap(confusion_matrix(y_test,y_pred), annot=True, ax=ax)"
   ]
  },
  {
   "cell_type": "markdown",
   "metadata": {
    "id": "Sp832EkKi67C"
   },
   "source": [
    "## 🏎️ L4 Q1:\n",
    "\n",
    "Evaluate the performance of a Random Forest on classifying wine quality\n"
   ]
  },
  {
   "cell_type": "code",
   "execution_count": 6,
   "metadata": {
    "id": "Vb1NyIqZmqYg"
   },
   "outputs": [],
   "source": [
    "# Code Cell for L1 Q2"
   ]
  },
  {
   "cell_type": "markdown",
   "metadata": {
    "id": "e9MwkxIGlc0k"
   },
   "source": [
    "## 🔬 L4 Q2:\n",
    "\n",
    "Do a grid search to optimize your Random Forest model, use whatever hyperparameters you would like\n",
    "\n"
   ]
  },
  {
   "cell_type": "code",
   "execution_count": 7,
   "metadata": {},
   "outputs": [
    {
     "data": {
      "text/plain": [
       "{'bootstrap': True,\n",
       " 'ccp_alpha': 0.0,\n",
       " 'class_weight': None,\n",
       " 'criterion': 'gini',\n",
       " 'max_depth': None,\n",
       " 'max_features': 'auto',\n",
       " 'max_leaf_nodes': None,\n",
       " 'max_samples': None,\n",
       " 'min_impurity_decrease': 0.0,\n",
       " 'min_samples_leaf': 1,\n",
       " 'min_samples_split': 2,\n",
       " 'min_weight_fraction_leaf': 0.0,\n",
       " 'n_estimators': 100,\n",
       " 'n_jobs': None,\n",
       " 'oob_score': False,\n",
       " 'random_state': None,\n",
       " 'verbose': 0,\n",
       " 'warm_start': False}"
      ]
     },
     "execution_count": 7,
     "metadata": {},
     "output_type": "execute_result"
    }
   ],
   "source": [
    "RandomForestClassifier().get_params()"
   ]
  },
  {
   "cell_type": "code",
   "execution_count": 8,
   "metadata": {
    "id": "w-mykt4KhnA2"
   },
   "outputs": [],
   "source": [
    "# Code Cell for L1 Q3\n",
    "\n",
    "from sklearn.model_selection import GridSearchCV\n",
    "\n",
    "param_grid = {'bootstrap': [True, False]}\n",
    "\n",
    "grid = GridSearchCV(RandomForestClassifier(), param_grid, cv=7)"
   ]
  }
 ],
 "metadata": {
  "colab": {
   "collapsed_sections": [],
   "include_colab_link": true,
   "name": "E4_Supervised_Learners.ipynb",
   "provenance": []
  },
  "kernelspec": {
   "display_name": "Python 3 (ipykernel)",
   "language": "python",
   "name": "python3"
  },
  "language_info": {
   "codemirror_mode": {
    "name": "ipython",
    "version": 3
   },
   "file_extension": ".py",
   "mimetype": "text/x-python",
   "name": "python",
   "nbconvert_exporter": "python",
   "pygments_lexer": "ipython3",
   "version": "3.9.7"
  }
 },
 "nbformat": 4,
 "nbformat_minor": 4
}
