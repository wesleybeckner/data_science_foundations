{
  "cells": [
    {
      "cell_type": "markdown",
      "metadata": {
        "id": "view-in-github",
        "colab_type": "text"
      },
      "source": [
        "<a href=\"https://colab.research.google.com/github/wesleybeckner/data_science_foundations/blob/main/notebooks/project/P2_Heuristical_TicTacToe_Agents.ipynb\" target=\"_parent\"><img src=\"https://colab.research.google.com/assets/colab-badge.svg\" alt=\"Open In Colab\"/></a>"
      ]
    },
    {
      "cell_type": "markdown",
      "metadata": {
        "id": "vhe1yX4AMckE"
      },
      "source": [
        "# Data Science Foundations, Project Part 2: Heuristical Agents \n",
        "\n",
        "**Instructor**: Wesley Beckner\n",
        "\n",
        "**Contact**: wesleybeckner@gmail.com\n",
        "\n",
        "---\n",
        "\n",
        "<br>\n",
        "\n",
        "We makin' some wack AI today\n",
        "\n",
        "<br>\n",
        "\n",
        "---\n",
        "\n",
        "<br>\n",
        "\n",
        "<a name='top'></a>\n"
      ]
    },
    {
      "cell_type": "markdown",
      "metadata": {
        "id": "mNtJitcRW51Y"
      },
      "source": [
        "<a name='x.0'></a>\n",
        "\n",
        "## 2.0 Preparing Environment and Importing Data\n",
        "\n",
        "[back to top](#top)"
      ]
    },
    {
      "cell_type": "markdown",
      "metadata": {
        "id": "chdcBoBL8SNm"
      },
      "source": [
        "<a name='x.0.1'></a>\n",
        "\n",
        "### 2.0.1 Import Packages\n",
        "\n",
        "[back to top](#top)"
      ]
    },
    {
      "cell_type": "code",
      "execution_count": null,
      "metadata": {
        "id": "eJ7-FDq3JhhI"
      },
      "outputs": [],
      "source": [
        "import random\n",
        "import pandas as pd\n",
        "import numpy as np\n",
        "import matplotlib.pyplot as plt\n",
        "\n",
        "class TicTacToe:\n",
        "  # can preset winner and starting player\n",
        "  def __init__(self, winner='', start_player=''): \n",
        "    self.winner = winner\n",
        "    self.start_player = start_player\n",
        "    self.board = {1: ' ',\n",
        "         2: ' ',\n",
        "         3: ' ',\n",
        "         4: ' ',\n",
        "         5: ' ',\n",
        "         6: ' ',\n",
        "         7: ' ',\n",
        "         8: ' ',\n",
        "         9: ' ',}\n",
        "    self.win_patterns = [[1,2,3], [4,5,6], [7,8,9],\n",
        "                [1,4,7], [2,5,8], [3,6,9],\n",
        "                [1,5,9], [7,5,3]]\n",
        "         \n",
        "  # the other functions are now passed self\n",
        "  def visualize_board(self):\n",
        "    print(\n",
        "      \"|{}|{}|{}|\\n|{}|{}|{}|\\n|{}|{}|{}|\\n\".format(*self.board.values())\n",
        "      )\n",
        "\n",
        "  def check_winning(self):\n",
        "    for pattern in self.win_patterns:\n",
        "      values = [self.board[i] for i in pattern] \n",
        "      if values == ['X', 'X', 'X']:\n",
        "        self.winner = 'X' # we update the winner status\n",
        "        return \"'X' Won!\"\n",
        "      elif values == ['O', 'O', 'O']:\n",
        "        self.winner = 'O'\n",
        "        return \"'O' Won!\"\n",
        "    return ''\n",
        "\n",
        "  def check_stalemate(self):\n",
        "    if (' ' not in self.board.values()) and (self.check_winning() == ''):\n",
        "      self.winner = 'Stalemate'\n",
        "      return \"It's a stalemate!\"\n",
        "\n",
        "class GameEngine(TicTacToe):\n",
        "  def __init__(self, setup='auto'):\n",
        "    super().__init__()\n",
        "    self.setup = setup\n",
        "\n",
        "  def setup_game(self):\n",
        "\n",
        "    if self.setup == 'user':\n",
        "      players = int(input(\"How many Players? (type 0, 1, or 2)\"))\n",
        "      self.player_meta = {'first': {'label': 'X',\n",
        "                                    'type': 'human'}, \n",
        "                    'second': {'label': 'O',\n",
        "                                    'type': 'human'}}\n",
        "      if players == 1:\n",
        "        first = input(\"who will go first? (X, (AI), or O (Player))\")\n",
        "        if first == 'O':\n",
        "          self.player_meta = {'second': {'label': 'X',\n",
        "                                    'type': 'ai'}, \n",
        "                        'first': {'label': 'O',\n",
        "                                    'type': 'human'}}\n",
        "        else:\n",
        "          self.player_meta = {'first': {'label': 'X',\n",
        "                                    'type': 'ai'}, \n",
        "                        'second': {'label': 'O',\n",
        "                                    'type': 'human'}}\n",
        "\n",
        "      elif players == 0:\n",
        "        first = random.choice(['X', 'O'])\n",
        "        if first == 'O':\n",
        "          self.player_meta = {'second': {'label': 'X',\n",
        "                                    'type': 'ai'}, \n",
        "                        'first': {'label': 'O',\n",
        "                                    'type': 'ai'}}                                \n",
        "        else:\n",
        "          self.player_meta = {'first': {'label': 'X',\n",
        "                                    'type': 'ai'}, \n",
        "                        'second': {'label': 'O',\n",
        "                                    'type': 'ai'}}\n",
        "\n",
        "    elif self.setup == 'auto':\n",
        "      first = random.choice(['X', 'O'])\n",
        "      if first == 'O':\n",
        "        self.start_player = 'O'\n",
        "        self.player_meta = {'second': {'label': 'X',\n",
        "                                  'type': 'ai'}, \n",
        "                      'first': {'label': 'O',\n",
        "                                  'type': 'ai'}}                                \n",
        "      else:\n",
        "        self.start_player = 'X'\n",
        "        self.player_meta = {'first': {'label': 'X',\n",
        "                                  'type': 'ai'}, \n",
        "                      'second': {'label': 'O',\n",
        "                                  'type': 'ai'}}\n",
        "\n",
        "  def play_game(self):\n",
        "    while True:\n",
        "      for player in ['first', 'second']:  \n",
        "        self.visualize_board()\n",
        "        player_label = self.player_meta[player]['label']\n",
        "        player_type = self.player_meta[player]['type']\n",
        "\n",
        "        if player_type == 'human':\n",
        "          move = input(\"{}, what's your move?\".format(player_label))\n",
        "          # we're going to allow the user to quit the game from the input line\n",
        "          if move in ['q', 'quit']:\n",
        "            self.winner = 'F'\n",
        "            print('quiting the game')\n",
        "            break\n",
        "\n",
        "          move = int(move)\n",
        "          if self.board[move] != ' ':\n",
        "            while True:\n",
        "              move = input(\"{}, that position is already taken! \"\\\n",
        "                          \"What's your move?\".format(player))  \n",
        "              move = int(move)            \n",
        "              if self.board[move] != ' ':\n",
        "                continue\n",
        "              else:\n",
        "                break\n",
        "\n",
        "        else:\n",
        "          while True:\n",
        "            move = random.randint(1,9)\n",
        "            if self.board[move] != ' ':\n",
        "              continue\n",
        "              print('test')\n",
        "            else:\n",
        "              break\n",
        "\n",
        "        self.board[move] = player_label\n",
        "\n",
        "        # the winner varaible will now be check within the board object\n",
        "        self.check_winning()\n",
        "        self.check_stalemate()\n",
        "\n",
        "        if self.winner == '':\n",
        "          continue\n",
        "\n",
        "        elif self.winner == 'Stalemate':\n",
        "          print(self.check_stalemate())\n",
        "          self.visualize_board()\n",
        "          break\n",
        "\n",
        "        else:\n",
        "          print(self.check_winning())\n",
        "          self.visualize_board()\n",
        "          break\n",
        "      if self.winner != '':\n",
        "        return self"
      ]
    },
    {
      "cell_type": "markdown",
      "metadata": {
        "id": "R7vDY-8U8SWd"
      },
      "source": [
        "<a name='x.0.1'></a>\n",
        "\n",
        "### 2.0.2 Load Dataset\n",
        "\n",
        "[back to top](#top)"
      ]
    },
    {
      "cell_type": "markdown",
      "metadata": {
        "id": "h1YRk95hvZcH"
      },
      "source": [
        "## 2.1 AI Heuristics\n",
        "\n",
        "Develop a better AI based on your analyses of game play so far."
      ]
    },
    {
      "cell_type": "markdown",
      "metadata": {
        "id": "X742CiYgvKhX"
      },
      "source": [
        "### Q1\n",
        "\n",
        "In our groups, let's discuss what rules we would like to hard code in. Harsha, Varsha and I will help you with the flow control to program these rules"
      ]
    },
    {
      "cell_type": "code",
      "execution_count": null,
      "metadata": {
        "id": "igGzSx79BT47"
      },
      "outputs": [],
      "source": [
        "# we will define some variables to help us define the types of positions\n",
        "middle = 5\n",
        "side = [2, 4, 6, 8]\n",
        "corner = [1, 3, 7, 9]"
      ]
    },
    {
      "cell_type": "code",
      "execution_count": null,
      "metadata": {
        "colab": {
          "base_uri": "https://localhost:8080/"
        },
        "id": "7cu_oGLOBQTT",
        "outputId": "6eb253ee-b505-463f-9bcc-35e0a07b12d5"
      },
      "outputs": [
        {
          "data": {
            "text/plain": [
              "{1: ' ', 2: ' ', 3: ' ', 4: ' ', 5: ' ', 6: ' ', 7: ' ', 8: ' ', 9: ' '}"
            ]
          },
          "execution_count": 2,
          "metadata": {
            "tags": []
          },
          "output_type": "execute_result"
        }
      ],
      "source": [
        "# recall that our board is a dictionary\n",
        "tictactoe = TicTacToe()\n",
        "tictactoe.board"
      ]
    },
    {
      "cell_type": "code",
      "execution_count": null,
      "metadata": {
        "colab": {
          "base_uri": "https://localhost:8080/"
        },
        "id": "Ee8gu3oU6Kqn",
        "outputId": "269bb60b-994f-4d27-972e-7cbea70d5407"
      },
      "outputs": [
        {
          "data": {
            "text/plain": [
              "[[1, 2, 3],\n",
              " [4, 5, 6],\n",
              " [7, 8, 9],\n",
              " [1, 4, 7],\n",
              " [2, 5, 8],\n",
              " [3, 6, 9],\n",
              " [1, 5, 9],\n",
              " [7, 5, 3]]"
            ]
          },
          "execution_count": 3,
          "metadata": {
            "tags": []
          },
          "output_type": "execute_result"
        }
      ],
      "source": [
        "# and we have a win_patterns object to help us with the algorithm\n",
        "tictactoe.win_patterns"
      ]
    },
    {
      "cell_type": "markdown",
      "metadata": {
        "id": "itBZnCGZvevG"
      },
      "source": [
        "for example, if we want to check if the middle piece is available, and play it if it is. How do we do that?"
      ]
    },
    {
      "cell_type": "code",
      "execution_count": null,
      "metadata": {
        "id": "aidA_v6qvjU6"
      },
      "outputs": [],
      "source": [
        "# set some key variables\n",
        "player = 'X'\n",
        "opponent = 'O'\n",
        "avail_moves = [i for i in tictactoe.board.keys() if tictactoe.board[i] == ' ']\n",
        "\n",
        "# a variable that will keep track if we've found a move we like or not\n",
        "move_found = False\n",
        "\n",
        "# <- some other moves we might want to make would go here -> #\n",
        "\n",
        "# and now for our middle piece play\n",
        "if move_found == False: # if no other move has been found yet\n",
        "  if middle in avail_moves: # if middle is available\n",
        "    move_found = True # then change our move_found status\n",
        "    move = middle # update our move"
      ]
    },
    {
      "cell_type": "markdown",
      "metadata": {
        "id": "GhAM9sBnx-FS"
      },
      "source": [
        "Our standard approach will be to always ***return a move by the agent***. Whether the agent is heruistical or from some other ML framework we ***always want to return a move***"
      ]
    },
    {
      "cell_type": "markdown",
      "metadata": {
        "id": "nPvvfKhzyKed"
      },
      "source": [
        "Repeate after me: ***ALWAYS RETURN A MOVE***. Make sure you know what move is. Make sure you know what it is. And return it. Return a move. The purpose of the next lines of code we will write is to return a move.\n",
        "\n",
        "Make sure your code returns a move."
      ]
    },
    {
      "cell_type": "markdown",
      "metadata": {
        "id": "0frNCaL6yX0S"
      },
      "source": [
        "### Q2\n",
        "\n",
        "Write down your algorithm steps in markdown. i.e.\n",
        "\n",
        "1. play a corner piece\n",
        "2. play to opposite corner from the opponent, etc.\n",
        "3. ....etc."
      ]
    },
    {
      "cell_type": "markdown",
      "metadata": {
        "id": "MOaNULYLymHn"
      },
      "source": [
        "### Q3\n",
        "\n",
        "Begin to codify your algorithm from Q3. Make sure that no matter what, you ***return a move***"
      ]
    },
    {
      "cell_type": "code",
      "execution_count": null,
      "metadata": {
        "id": "DDgrKuKk7szs"
      },
      "outputs": [],
      "source": [
        "# some starting variables for you\n",
        "player_label = 'X'\n",
        "opponent = 'O'\n",
        "avail_moves = [i for i in tictactoe.board.keys() if tictactoe.board[i] == ' ']\n",
        "\n",
        "# temp board will allow us to play hypothetical moves and see where they get us\n",
        "# in case you need it\n",
        "temp_board = tictactoe.board.copy()\n"
      ]
    },
    {
      "cell_type": "markdown",
      "metadata": {
        "id": "xLgSm04oGXBI"
      },
      "source": [
        "## 2.2 Wrapping our Agent\n",
        "\n",
        "Now that we've created a conditional tree for our AI to make a decision, we need to integrate this within the gaming framework we've made so far. How should we do this? Let's define this thought pattern or tree as an agent.\n",
        "\n",
        "Recall our play_game function within `GameEngine`\n"
      ]
    },
    {
      "cell_type": "code",
      "execution_count": null,
      "metadata": {
        "id": "tPUpRGx-GWS0"
      },
      "outputs": [],
      "source": [
        "def play_game(self):\n",
        "    while True:\n",
        "      for player in ['first', 'second']:  \n",
        "        self.visualize_board()\n",
        "        player_label = self.player_meta[player]['label']\n",
        "        player_type = self.player_meta[player]['type']\n",
        "\n",
        "        if player_type == 'human':\n",
        "          move = input(\"{}, what's your move?\".format(player_label))\n",
        "          # we're going to allow the user to quit the game from the input line\n",
        "          if move in ['q', 'quit']:\n",
        "            self.winner = 'F'\n",
        "            print('quiting the game')\n",
        "            break\n",
        "\n",
        "          move = int(move)\n",
        "          if self.board[move] != ' ':\n",
        "            while True:\n",
        "              move = input(\"{}, that position is already taken! \"\\\n",
        "                          \"What's your move?\".format(player))  \n",
        "              move = int(move)            \n",
        "              if self.board[move] != ' ':\n",
        "                continue\n",
        "              else:\n",
        "                break\n",
        "\n",
        "        ########################################################################\n",
        "        ##################### WE WANT TO CHANGE THESE LINES ####################\n",
        "        ########################################################################\n",
        "        else:\n",
        "          while True:\n",
        "            move = random.randint(1,9)\n",
        "            if self.board[move] != ' ':\n",
        "              continue\n",
        "              print('test')\n",
        "            else:\n",
        "              break\n",
        "\n",
        "        self.board[move] = player_label\n",
        "\n",
        "        # the winner varaible will now be check within the board object\n",
        "        self.check_winning()\n",
        "        self.check_stalemate()\n",
        "\n",
        "        if self.winner == '':\n",
        "          continue\n",
        "\n",
        "        elif self.winner == 'Stalemate':\n",
        "          print(self.check_stalemate())\n",
        "          self.visualize_board()\n",
        "          break\n",
        "\n",
        "        else:\n",
        "          print(self.check_winning())\n",
        "          self.visualize_board()\n",
        "          break\n",
        "      if self.winner != '':\n",
        "        return self"
      ]
    },
    {
      "cell_type": "markdown",
      "metadata": {
        "id": "h93OZ_kaH68y"
      },
      "source": [
        "### 2.2.1 Redefining the Random Agent\n",
        "\n",
        "In particular, we want to change lines 30-37 to take our gaming agent in as a parameter to make decisions. Let's try this.\n",
        "\n",
        "In `setup_game` we want to have the option to set the AI type/level. In `play_game` we want to make a call to that AI to make the move. For instance, our random AI will go from:\n",
        "\n",
        "```\n",
        "while True:\n",
        "  move = random.randint(1,9)\n",
        "  if self.board[move] != ' ':\n",
        "    continue\n",
        "  else:\n",
        "    break\n",
        "```\n",
        "\n",
        "to:\n",
        "\n",
        "```\n",
        "def random_ai(self):\n",
        "  while True:\n",
        "    move = random.randint(1,9)\n",
        "    if self.board[move] != ' ':\n",
        "      continue\n",
        "    else:\n",
        "      break\n",
        "  return move\n",
        "```\n"
      ]
    },
    {
      "cell_type": "code",
      "execution_count": null,
      "metadata": {
        "id": "BrzdLPP2IA18"
      },
      "outputs": [],
      "source": [
        "class GameEngine(TicTacToe):\n",
        "  def __init__(self, setup='auto'):\n",
        "    super().__init__()\n",
        "    self.setup = setup\n",
        "\n",
        "  ##############################################################################\n",
        "  ########## our fresh off the assembly line tictactoe playing robot ###########\n",
        "  ##############################################################################\n",
        "  def random_ai(self):\n",
        "    while True:\n",
        "      move = random.randint(1,9)\n",
        "      if self.board[move] != ' ':\n",
        "        continue\n",
        "      else:\n",
        "        break\n",
        "    return move\n",
        "\n",
        "  def setup_game(self):\n",
        "    if self.setup == 'user':\n",
        "      players = int(input(\"How many Players? (type 0, 1, or 2)\"))\n",
        "      self.player_meta = {'first': {'label': 'X',\n",
        "                                    'type': 'human'}, \n",
        "                    'second': {'label': 'O',\n",
        "                                    'type': 'human'}}\n",
        "      if players != 2:\n",
        "        ######################################################################## \n",
        "        ################# Allow the user to set the ai level ###################\n",
        "        ######################################################################## \n",
        "        level = int(input(\"select AI level (1, 2)\"))\n",
        "        if level == 1:\n",
        "          self.ai_level = 1\n",
        "        elif level == 2:\n",
        "          self.ai_level = 2\n",
        "        else:\n",
        "          print(\"Unknown AI level entered, this will cause problems\")\n",
        "\n",
        "      if players == 1:\n",
        "        first = input(\"who will go first? (X, (AI), or O (Player))\")\n",
        "        if first == 'O':\n",
        "          self.player_meta = {'second': {'label': 'X',\n",
        "                                    'type': 'ai'}, \n",
        "                        'first': {'label': 'O',\n",
        "                                    'type': 'human'}}\n",
        "        else:\n",
        "          self.player_meta = {'first': {'label': 'X',\n",
        "                                    'type': 'ai'}, \n",
        "                        'second': {'label': 'O',\n",
        "                                    'type': 'human'}}                       \n",
        "\n",
        "      elif players == 0:\n",
        "        first = random.choice(['X', 'O'])\n",
        "        if first == 'O':\n",
        "          self.player_meta = {'second': {'label': 'X',\n",
        "                                    'type': 'ai'}, \n",
        "                        'first': {'label': 'O',\n",
        "                                    'type': 'ai'}}                                \n",
        "        else:\n",
        "          self.player_meta = {'first': {'label': 'X',\n",
        "                                    'type': 'ai'}, \n",
        "                        'second': {'label': 'O',\n",
        "                                    'type': 'ai'}}\n",
        "\n",
        "    elif self.setup == 'auto':\n",
        "      first = random.choice(['X', 'O'])\n",
        "      if first == 'O':\n",
        "        self.start_player = 'O'\n",
        "        self.player_meta = {'second': {'label': 'X',\n",
        "                                  'type': 'ai'}, \n",
        "                      'first': {'label': 'O',\n",
        "                                  'type': 'ai'}}                                \n",
        "      else:\n",
        "        self.start_player = 'X'\n",
        "        self.player_meta = {'first': {'label': 'X',\n",
        "                                  'type': 'ai'}, \n",
        "                      'second': {'label': 'O',\n",
        "                                  'type': 'ai'}}\n",
        "      ##########################################################################\n",
        "      ############## and automatically set the ai level otherwise ##############\n",
        "      ##########################################################################\n",
        "      self.ai_level = 1\n",
        "\n",
        "  def play_game(self):\n",
        "    while True:\n",
        "      for player in ['first', 'second']:  \n",
        "        self.visualize_board()\n",
        "        player_label = self.player_meta[player]['label']\n",
        "        player_type = self.player_meta[player]['type']\n",
        "\n",
        "        if player_type == 'human':\n",
        "          move = input(\"{}, what's your move?\".format(player_label))\n",
        "          if move in ['q', 'quit']:\n",
        "            self.winner = 'F'\n",
        "            print('quiting the game')\n",
        "            break\n",
        "\n",
        "          move = int(move)\n",
        "          if self.board[move] != ' ':\n",
        "            while True:\n",
        "              move = input(\"{}, that position is already taken! \"\\\n",
        "                          \"What's your move?\".format(player))  \n",
        "              move = int(move)            \n",
        "              if self.board[move] != ' ':\n",
        "                continue\n",
        "              else:\n",
        "                break\n",
        "\n",
        "        else:\n",
        "          if self.ai_level == 1:\n",
        "            move = self.random_ai()\n",
        "\n",
        "          ######################################################################\n",
        "          ############## we will leave this setting empty for now ##############\n",
        "          ######################################################################\n",
        "          elif self.ai_level == 2:\n",
        "            pass\n",
        "\n",
        "        self.board[move] = player_label\n",
        "        self.check_winning()\n",
        "        self.check_stalemate()\n",
        "\n",
        "        if self.winner == '':\n",
        "          continue\n",
        "\n",
        "        elif self.winner == 'Stalemate':\n",
        "          print(self.check_stalemate())\n",
        "          self.visualize_board()\n",
        "          break\n",
        "\n",
        "        else:\n",
        "          print(self.check_winning())\n",
        "          self.visualize_board()\n",
        "          break\n",
        "      if self.winner != '':\n",
        "        return self"
      ]
    },
    {
      "cell_type": "markdown",
      "metadata": {
        "id": "d1-yoZ9BKHcl"
      },
      "source": [
        "Let's test that our random ai works now in this format"
      ]
    },
    {
      "cell_type": "code",
      "execution_count": null,
      "metadata": {
        "colab": {
          "base_uri": "https://localhost:8080/"
        },
        "id": "p2o0N_MFJ0ha",
        "outputId": "056768f2-4ed6-400c-b94d-a33e93d6ef67"
      },
      "outputs": [
        {
          "name": "stdout",
          "output_type": "stream",
          "text": [
            "| | | |\n",
            "| | | |\n",
            "| | | |\n",
            "\n",
            "| | | |\n",
            "| |O| |\n",
            "| | | |\n",
            "\n",
            "| | | |\n",
            "| |O| |\n",
            "| | |X|\n",
            "\n",
            "| | | |\n",
            "| |O|O|\n",
            "| | |X|\n",
            "\n",
            "| | |X|\n",
            "| |O|O|\n",
            "| | |X|\n",
            "\n",
            "| | |X|\n",
            "| |O|O|\n",
            "|O| |X|\n",
            "\n",
            "|X| |X|\n",
            "| |O|O|\n",
            "|O| |X|\n",
            "\n",
            "|X| |X|\n",
            "| |O|O|\n",
            "|O|O|X|\n",
            "\n",
            "|X| |X|\n",
            "|X|O|O|\n",
            "|O|O|X|\n",
            "\n",
            "'O' Won!\n",
            "|X|O|X|\n",
            "|X|O|O|\n",
            "|O|O|X|\n",
            "\n"
          ]
        },
        {
          "data": {
            "text/plain": [
              "<__main__.GameEngine at 0x7fadbea428d0>"
            ]
          },
          "execution_count": 17,
          "metadata": {
            "tags": []
          },
          "output_type": "execute_result"
        }
      ],
      "source": [
        "random.seed(12)\n",
        "game = GameEngine(setup='auto')\n",
        "game.setup_game()\n",
        "game.play_game()"
      ]
    },
    {
      "cell_type": "markdown",
      "metadata": {
        "id": "5_VJYE6ct5ug"
      },
      "source": [
        "Let's try it with a user player:"
      ]
    },
    {
      "cell_type": "code",
      "execution_count": null,
      "metadata": {
        "colab": {
          "base_uri": "https://localhost:8080/"
        },
        "id": "L-u6SV9Qt7FL",
        "outputId": "63a980c3-56fb-4001-8946-e4b1a5ed407a"
      },
      "outputs": [
        {
          "name": "stdout",
          "output_type": "stream",
          "text": [
            "How many Players? (type 0, 1, or 2)2\n",
            "| | | |\n",
            "| | | |\n",
            "| | | |\n",
            "\n",
            "X, what's your move?q\n",
            "quiting the game\n"
          ]
        },
        {
          "data": {
            "text/plain": [
              "<__main__.GameEngine at 0x7fadbea25e90>"
            ]
          },
          "execution_count": 18,
          "metadata": {
            "tags": []
          },
          "output_type": "execute_result"
        }
      ],
      "source": [
        "random.seed(12)\n",
        "game = GameEngine(setup='user')\n",
        "game.setup_game()\n",
        "game.play_game()"
      ]
    },
    {
      "cell_type": "markdown",
      "metadata": {
        "id": "m8C0hN4swbr8"
      },
      "source": [
        "### Q4\n",
        "\n",
        "Now let's fold in our specialized AI agent. Add your code under the `heurstic_ai` function. Note that the `player_label` is passed as an input parameter now"
      ]
    },
    {
      "cell_type": "code",
      "execution_count": null,
      "metadata": {
        "id": "9O1ZjPz0w4GP"
      },
      "outputs": [],
      "source": [
        "class GameEngine(TicTacToe):\n",
        "  def __init__(self, setup='auto'):\n",
        "    super().__init__()\n",
        "    self.setup = setup\n",
        "\n",
        "  ##############################################################################\n",
        "  ################### YOUR BADASS HEURISTIC AGENT GOES HERE ####################\n",
        "  ##############################################################################\n",
        "  def heuristic_ai(self, player_label):\n",
        "\n",
        "    # SOME HELPER VARIABLES IF YOU NEED THEM \n",
        "    opponent = ['X', 'O']\n",
        "    opponent.remove(player_label)\n",
        "    opponent = opponent[0]\n",
        "\n",
        "    avail_moves = [i for i in self.board.keys() if self.board[i] == ' ']\n",
        "    temp_board = self.board.copy()\n",
        "    \n",
        "    ################## YOUR CODE GOES HERE, RETURN THAT MOVE! ##################\n",
        "    while True: # DELETE LINES 20 - 25, USED FOR TESTING PURPOSES ONLY\n",
        "      move = random.randint(1,9)\n",
        "      if self.board[move] != ' ':\n",
        "        continue\n",
        "      else:\n",
        "        break\n",
        "    ############################################################################\n",
        "    return move\n",
        "\n",
        "  def random_ai(self):\n",
        "    while True:\n",
        "      move = random.randint(1,9)\n",
        "      if self.board[move] != ' ':\n",
        "        continue\n",
        "      else:\n",
        "        break\n",
        "    return move\n",
        "\n",
        "  def setup_game(self):\n",
        "    if self.setup == 'user':\n",
        "      players = int(input(\"How many Players? (type 0, 1, or 2)\"))\n",
        "      self.player_meta = {'first': {'label': 'X',\n",
        "                                    'type': 'human'}, \n",
        "                    'second': {'label': 'O',\n",
        "                                    'type': 'human'}}\n",
        "      if players != 2:\n",
        "        ######################################################################## \n",
        "        ################# Allow the user to set the ai level ###################\n",
        "        ######################################################################## \n",
        "        level = int(input(\"select AI level (1, 2)\"))\n",
        "        if level == 1:\n",
        "          self.ai_level = 1\n",
        "        elif level == 2:\n",
        "          self.ai_level = 2\n",
        "        else:\n",
        "          print(\"Unknown AI level entered, this will cause problems\")\n",
        "\n",
        "      if players == 1:\n",
        "        first = input(\"who will go first? (X, (AI), or O (Player))\")\n",
        "        if first == 'O':\n",
        "          self.player_meta = {'second': {'label': 'X',\n",
        "                                    'type': 'ai'}, \n",
        "                        'first': {'label': 'O',\n",
        "                                    'type': 'human'}}\n",
        "        else:\n",
        "          self.player_meta = {'first': {'label': 'X',\n",
        "                                    'type': 'ai'}, \n",
        "                        'second': {'label': 'O',\n",
        "                                    'type': 'human'}}                       \n",
        "\n",
        "      elif players == 0:\n",
        "        first = random.choice(['X', 'O'])\n",
        "        if first == 'O':\n",
        "          self.player_meta = {'second': {'label': 'X',\n",
        "                                    'type': 'ai'}, \n",
        "                        'first': {'label': 'O',\n",
        "                                    'type': 'ai'}}                                \n",
        "        else:\n",
        "          self.player_meta = {'first': {'label': 'X',\n",
        "                                    'type': 'ai'}, \n",
        "                        'second': {'label': 'O',\n",
        "                                    'type': 'ai'}}\n",
        "\n",
        "    elif self.setup == 'auto':\n",
        "      first = random.choice(['X', 'O'])\n",
        "      if first == 'O':\n",
        "        self.start_player = 'O'\n",
        "        self.player_meta = {'second': {'label': 'X',\n",
        "                                  'type': 'ai'}, \n",
        "                      'first': {'label': 'O',\n",
        "                                  'type': 'ai'}}                                \n",
        "      else:\n",
        "        self.start_player = 'X'\n",
        "        self.player_meta = {'first': {'label': 'X',\n",
        "                                  'type': 'ai'}, \n",
        "                      'second': {'label': 'O',\n",
        "                                  'type': 'ai'}}\n",
        "      ##########################################################################\n",
        "      ############## and automatically set the ai level otherwise ##############\n",
        "      ##########################################################################\n",
        "      self.ai_level = 1\n",
        "\n",
        "  def play_game(self):\n",
        "    while True:\n",
        "      for player in ['first', 'second']:  \n",
        "        self.visualize_board()\n",
        "        player_label = self.player_meta[player]['label']\n",
        "        player_type = self.player_meta[player]['type']\n",
        "\n",
        "        if player_type == 'human':\n",
        "          move = input(\"{}, what's your move?\".format(player_label))\n",
        "          if move in ['q', 'quit']:\n",
        "            self.winner = 'F'\n",
        "            print('quiting the game')\n",
        "            break\n",
        "\n",
        "          move = int(move)\n",
        "          if self.board[move] != ' ':\n",
        "            while True:\n",
        "              move = input(\"{}, that position is already taken! \"\\\n",
        "                          \"What's your move?\".format(player))  \n",
        "              move = int(move)            \n",
        "              if self.board[move] != ' ':\n",
        "                continue\n",
        "              else:\n",
        "                break\n",
        "\n",
        "        else:\n",
        "          if self.ai_level == 1:\n",
        "            move = self.random_ai()\n",
        "\n",
        "          ######################################################################\n",
        "          ############## we will leave this setting empty for now ##############\n",
        "          ######################################################################\n",
        "          elif self.ai_level == 2:\n",
        "            move = self.heuristic_ai(player_label)\n",
        "\n",
        "        self.board[move] = player_label\n",
        "        self.check_winning()\n",
        "        self.check_stalemate()\n",
        "\n",
        "        if self.winner == '':\n",
        "          continue\n",
        "\n",
        "        elif self.winner == 'Stalemate':\n",
        "          print(self.check_stalemate())\n",
        "          self.visualize_board()\n",
        "          break\n",
        "\n",
        "        else:\n",
        "          print(self.check_winning())\n",
        "          self.visualize_board()\n",
        "          break\n",
        "      if self.winner != '':\n",
        "        return self"
      ]
    },
    {
      "cell_type": "markdown",
      "metadata": {
        "id": "h-wBe5SZ0plM"
      },
      "source": [
        "### Q5\n",
        "\n",
        "And we'll test that it works!"
      ]
    },
    {
      "cell_type": "code",
      "execution_count": null,
      "metadata": {
        "colab": {
          "base_uri": "https://localhost:8080/"
        },
        "id": "3spYweFLxn7K",
        "outputId": "f6c2ba09-659f-49a9-b966-c9a7ecef5ba7"
      },
      "outputs": [
        {
          "name": "stdout",
          "output_type": "stream",
          "text": [
            "How many Players? (type 0, 1, or 2)1\n",
            "select AI level (1, 2)2\n",
            "who will go first? (X, (AI), or O (Player))O\n",
            "| | | |\n",
            "| | | |\n",
            "| | | |\n",
            "\n",
            "O, what's your move?5\n",
            "| | | |\n",
            "| |O| |\n",
            "| | | |\n",
            "\n",
            "| | | |\n",
            "| |O| |\n",
            "| |X| |\n",
            "\n",
            "O, what's your move?9\n",
            "| | | |\n",
            "| |O| |\n",
            "| |X|O|\n",
            "\n",
            "| | | |\n",
            "| |O|X|\n",
            "| |X|O|\n",
            "\n",
            "O, what's your move?1\n",
            "'O' Won!\n",
            "|O| | |\n",
            "| |O|X|\n",
            "| |X|O|\n",
            "\n"
          ]
        },
        {
          "data": {
            "text/plain": [
              "<__main__.GameEngine at 0x7fadbe93f610>"
            ]
          },
          "execution_count": 26,
          "metadata": {
            "tags": []
          },
          "output_type": "execute_result"
        }
      ],
      "source": [
        "random.seed(12)\n",
        "game = GameEngine(setup='user')\n",
        "game.setup_game()\n",
        "game.play_game()"
      ]
    },
    {
      "cell_type": "markdown",
      "metadata": {
        "id": "wWlBsMNt02L2"
      },
      "source": [
        "### Q6 \n",
        "\n",
        "Test the autorun feature!"
      ]
    },
    {
      "cell_type": "code",
      "execution_count": null,
      "metadata": {
        "colab": {
          "base_uri": "https://localhost:8080/"
        },
        "id": "lGCjHo1f0GLq",
        "outputId": "b3ac717e-5e47-4503-b27b-5b96b580389b"
      },
      "outputs": [
        {
          "name": "stdout",
          "output_type": "stream",
          "text": [
            "| | | |\n",
            "| | | |\n",
            "| | | |\n",
            "\n",
            "| | | |\n",
            "| | | |\n",
            "|O| | |\n",
            "\n",
            "| |X| |\n",
            "| | | |\n",
            "|O| | |\n",
            "\n",
            "|O|X| |\n",
            "| | | |\n",
            "|O| | |\n",
            "\n",
            "|O|X| |\n",
            "| | | |\n",
            "|O| |X|\n",
            "\n",
            "'O' Won!\n",
            "|O|X| |\n",
            "|O| | |\n",
            "|O| |X|\n",
            "\n"
          ]
        },
        {
          "data": {
            "text/plain": [
              "<__main__.GameEngine at 0x7fadbe8cc050>"
            ]
          },
          "execution_count": 28,
          "metadata": {
            "tags": []
          },
          "output_type": "execute_result"
        }
      ],
      "source": [
        "game = GameEngine(setup='auto')\n",
        "game.setup_game()\n",
        "game.play_game()"
      ]
    }
  ],
  "metadata": {
    "colab": {
      "collapsed_sections": [],
      "name": "P2_Heuristical_TicTacToe_Agents.ipynb",
      "provenance": [],
      "toc_visible": true,
      "include_colab_link": true
    },
    "kernelspec": {
      "display_name": "Python 3 (ipykernel)",
      "language": "python",
      "name": "python3"
    },
    "language_info": {
      "codemirror_mode": {
        "name": "ipython",
        "version": 3
      },
      "file_extension": ".py",
      "mimetype": "text/x-python",
      "name": "python",
      "nbconvert_exporter": "python",
      "pygments_lexer": "ipython3",
      "version": "3.9.7"
    }
  },
  "nbformat": 4,
  "nbformat_minor": 0
}