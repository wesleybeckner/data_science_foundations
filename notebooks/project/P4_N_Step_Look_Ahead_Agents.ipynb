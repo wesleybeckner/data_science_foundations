{
  "nbformat": 4,
  "nbformat_minor": 0,
  "metadata": {
    "colab": {
      "name": "Tech Fun C4 P6 Game AI N Step Look Ahead.ipynb",
      "provenance": [],
      "collapsed_sections": [],
      "toc_visible": true,
      "authorship_tag": "ABX9TyOEjXJfVBcATEyg3cEy/nb4",
      "include_colab_link": true
    },
    "kernelspec": {
      "name": "python3",
      "display_name": "Python 3"
    },
    "language_info": {
      "name": "python"
    }
  },
  "cells": [
    {
      "cell_type": "markdown",
      "metadata": {
        "id": "view-in-github",
        "colab_type": "text"
      },
      "source": [
        "<a href=\"https://colab.research.google.com/github/wesleybeckner/technology_fundamentals/blob/main/C4%20Machine%20Learning%20II/LABS_PROJECT/Tech_Fun_C4_P6_Game_AI_N_Step_Look_Ahead.ipynb\" target=\"_parent\"><img src=\"https://colab.research.google.com/assets/colab-badge.svg\" alt=\"Open In Colab\"/></a>"
      ]
    },
    {
      "cell_type": "markdown",
      "metadata": {
        "id": "vhe1yX4AMckE"
      },
      "source": [
        "# Technology Fundamentals Course 4, Project Part 6: N-Step Look Ahead\n",
        "\n",
        "**Instructor**: Wesley Beckner\n",
        "\n",
        "**Contact**: wesleybeckner@gmail.com\n",
        "\n",
        "**Teaching Assitants**: Varsha Bang, Harsha Vardhan\n",
        "\n",
        "**Contact**: vbang@uw.edu, harshav@uw.edu\n",
        "\n",
        "<br>\n",
        "\n",
        "---\n",
        "\n",
        "<br>\n",
        "\n",
        "For this lesson, we will be adding N-step Look Ahead algorithm to our ensemble of AI agents!\n",
        "  \n",
        "\n",
        "<br>\n",
        "\n",
        "---"
      ]
    },
    {
      "cell_type": "markdown",
      "metadata": {
        "id": "mNtJitcRW51Y"
      },
      "source": [
        "<a name='x.0'></a>\n",
        "\n",
        "## 6.0 Preparing Environment and Importing Data\n",
        "\n",
        "[back to top](#top)"
      ]
    },
    {
      "cell_type": "markdown",
      "metadata": {
        "id": "chdcBoBL8SNm"
      },
      "source": [
        "<a name='x.0.1'></a>\n",
        "\n",
        "### 6.0.1 Import Packages\n",
        "\n",
        "[back to top](#top)"
      ]
    },
    {
      "cell_type": "code",
      "metadata": {
        "id": "eJ7-FDq3JhhI"
      },
      "source": [
        "import random\n",
        "import pandas as pd\n",
        "import numpy as np\n",
        "import matplotlib.pyplot as plt\n",
        "\n",
        "def one_step_ai(board, win_patterns, player_label):\n",
        "  opponent = ['X', 'O']\n",
        "  opponent.remove(player_label)\n",
        "  opponent = opponent[0]\n",
        "\n",
        "  avail_moves = {i: 1 for i in board.keys() if board[i] == ' '}\n",
        "  temp_board = board.copy()\n",
        "  ########################################\n",
        "  # we're going to change the following lines, instead of caring\n",
        "  # whether we've found the best move, we want to update the move\n",
        "  # with a score\n",
        "  ########################################\n",
        "\n",
        "  # check if the opponent has a winning move first, we will overwrite\n",
        "  # the score for this move if it is also a winning move for the current \n",
        "  # player\n",
        "  for move in avail_moves.keys():\n",
        "    temp_board[move] = opponent\n",
        "    for pattern in win_patterns:\n",
        "        values = [temp_board[i] for i in pattern] \n",
        "        if values == [opponent, opponent, opponent]:\n",
        "          avail_moves[move] = 10\n",
        "    temp_board[move] = ' '\n",
        "\n",
        "  for move in avail_moves.keys():\n",
        "    temp_board[move] = player_label\n",
        "    for pattern in win_patterns:\n",
        "        values = [temp_board[i] for i in pattern] \n",
        "        if values == [player_label, player_label, player_label]:\n",
        "          avail_moves[move] = 100\n",
        "    temp_board[move] = ' '\n",
        "\n",
        "  # first grab max score\n",
        "  max_score = max(avail_moves.values())\n",
        "\n",
        "  # then select all moves that have this max score\n",
        "  valid = []\n",
        "  for key, value in avail_moves.items():\n",
        "    if value == max_score:\n",
        "      valid.append(key)\n",
        "\n",
        "  # return a random selection of the moves with the max score\n",
        "  move = random.choice(valid)\n",
        "\n",
        "  return move\n",
        "\n",
        "class TicTacToe:\n",
        "  # can preset winner and starting player\n",
        "  def __init__(self, winner='', start_player=''): \n",
        "    self.winner = winner\n",
        "    self.start_player = start_player\n",
        "    self.board = {1: ' ',\n",
        "         2: ' ',\n",
        "         3: ' ',\n",
        "         4: ' ',\n",
        "         5: ' ',\n",
        "         6: ' ',\n",
        "         7: ' ',\n",
        "         8: ' ',\n",
        "         9: ' ',}\n",
        "    self.win_patterns = [[1,2,3], [4,5,6], [7,8,9],\n",
        "                [1,4,7], [2,5,8], [3,6,9],\n",
        "                [1,5,9], [7,5,3]]\n",
        "         \n",
        "  # the other functions are now passed self\n",
        "  def visualize_board(self):\n",
        "    print(\n",
        "      \"|{}|{}|{}|\\n|{}|{}|{}|\\n|{}|{}|{}|\\n\".format(*self.board.values())\n",
        "      )\n",
        "\n",
        "  def check_winning(self):\n",
        "    for pattern in self.win_patterns:\n",
        "      values = [self.board[i] for i in pattern] \n",
        "      if values == ['X', 'X', 'X']:\n",
        "        self.winner = 'X' # we update the winner status\n",
        "        return \"'X' Won!\"\n",
        "      elif values == ['O', 'O', 'O']:\n",
        "        self.winner = 'O'\n",
        "        return \"'O' Won!\"\n",
        "    return ''\n",
        "\n",
        "  def check_stalemate(self):\n",
        "    if (' ' not in self.board.values()) and (self.check_winning() == ''):\n",
        "      self.winner = 'Stalemate'\n",
        "      return \"It's a stalemate!\"\n",
        "\n",
        "class GameEngine(TicTacToe):\n",
        "  def __init__(self, setup='auto', user_ai=None):\n",
        "    super().__init__()\n",
        "    self.setup = setup\n",
        "    self.user_ai = user_ai\n",
        "\n",
        "  def heuristic_ai(self, player_label):\n",
        "    opponent = ['X', 'O']\n",
        "    opponent.remove(player_label)\n",
        "    opponent = opponent[0]\n",
        "\n",
        "    avail_moves = [i for i in self.board.keys() if self.board[i] == ' ']\n",
        "    temp_board = self.board.copy()\n",
        "    middle = 5\n",
        "    corner = [1,3,7,9]\n",
        "    side = [2,4,6,8]\n",
        "\n",
        "    # first check for a winning move\n",
        "    move_found = False\n",
        "    for move in avail_moves:\n",
        "      temp_board[move] = player_label\n",
        "      for pattern in self.win_patterns:\n",
        "          values = [temp_board[i] for i in pattern] \n",
        "          if values == [player_label, player_label, player_label]:\n",
        "            move_found = True       \n",
        "            break\n",
        "      if move_found:   \n",
        "        break\n",
        "      else:\n",
        "        temp_board[move] = ' '\n",
        "\n",
        "    # check if the opponent has a winning move\n",
        "    if move_found == False:\n",
        "      for move in avail_moves:\n",
        "        temp_board[move] = opponent\n",
        "        for pattern in self.win_patterns:\n",
        "            values = [temp_board[i] for i in pattern] \n",
        "            if values == [opponent, opponent, opponent]:\n",
        "              move_found = True       \n",
        "              break\n",
        "        if move_found:   \n",
        "          break\n",
        "        else:\n",
        "          temp_board[move] = ' '\n",
        "\n",
        "    # check if middle avail\n",
        "    if move_found == False:\n",
        "      if middle in avail_moves:\n",
        "        move_found = True\n",
        "        move = middle\n",
        "\n",
        "    # check corners\n",
        "    if move_found == False:\n",
        "      move_corner = [val for val in avail_moves if val in corner]\n",
        "      if len(move_corner) > 0:\n",
        "        move = random.choice(move_corner)\n",
        "        move_found = True\n",
        "\n",
        "    # check side\n",
        "    if move_found == False:\n",
        "      move_side = [val for val in avail_moves if val in side]\n",
        "      if len(move_side) > 0:\n",
        "        move = random.choice(move_side)\n",
        "        move_found = True\n",
        "\n",
        "    return move\n",
        "\n",
        "  def random_ai(self):\n",
        "    while True:\n",
        "      move = random.randint(1,9)\n",
        "      if self.board[move] != ' ':\n",
        "        continue\n",
        "      else:\n",
        "        break\n",
        "    return move\n",
        "\n",
        "  def setup_game(self):\n",
        "\n",
        "    if self.setup == 'user':\n",
        "      players = int(input(\"How many Players? (type 0, 1, or 2)\"))\n",
        "      self.player_meta = {'first': {'label': 'X',\n",
        "                                    'type': 'ai'}, \n",
        "                    'second': {'label': 'O',\n",
        "                                    'type': 'human'}}\n",
        "      if players != 2:\n",
        "        ########## \n",
        "        # Allow the user to set the ai level\n",
        "        ########## \n",
        "\n",
        "        ### if they have not provided an ai_agent\n",
        "        if self.user_ai == None:\n",
        "          level = int(input(\"select AI level (1, 2)\"))\n",
        "          if level == 1:\n",
        "            self.ai_level = 1\n",
        "          elif level == 2:\n",
        "            self.ai_level = 2\n",
        "          else:\n",
        "            print(\"Unknown AI level entered, this will cause problems\")\n",
        "        else:\n",
        "          self.ai_level = 3\n",
        "\n",
        "      if players == 1:\n",
        "        first = input(\"who will go first? (X, (AI), or O (Player))\")\n",
        "        if first == 'O':\n",
        "          self.player_meta = {'second': {'label': 'X',\n",
        "                                    'type': 'ai'}, \n",
        "                        'first': {'label': 'O',\n",
        "                                    'type': 'human'}}\n",
        "        \n",
        "\n",
        "      elif players == 0:\n",
        "        first = random.choice(['X', 'O'])\n",
        "        if first == 'O':\n",
        "          self.player_meta = {'second': {'label': 'X',\n",
        "                                    'type': 'ai'}, \n",
        "                        'first': {'label': 'O',\n",
        "                                    'type': 'ai'}}                                \n",
        "        else:\n",
        "          self.player_meta = {'first': {'label': 'X',\n",
        "                                    'type': 'ai'}, \n",
        "                        'second': {'label': 'O',\n",
        "                                    'type': 'ai'}}\n",
        "\n",
        "        \n",
        "    elif self.setup == 'auto':\n",
        "      first = random.choice(['X', 'O'])\n",
        "      if first == 'O':\n",
        "        self.start_player = 'O'\n",
        "        self.player_meta = {'second': {'label': 'X',\n",
        "                                  'type': 'ai'}, \n",
        "                      'first': {'label': 'O',\n",
        "                                  'type': 'ai'}}                                \n",
        "      else:\n",
        "        self.start_player = 'X'\n",
        "        self.player_meta = {'first': {'label': 'X',\n",
        "                                  'type': 'ai'}, \n",
        "                      'second': {'label': 'O',\n",
        "                                  'type': 'ai'}}\n",
        "      ########## \n",
        "      # and automatically set the ai level otherwise\n",
        "      ##########  \n",
        "      if self.user_ai == None:                           \n",
        "        self.ai_level = 2\n",
        "      else:\n",
        "        self.ai_level = 3\n",
        "\n",
        "  def play_game(self):\n",
        "    while True:\n",
        "      for player in ['first', 'second']:  \n",
        "        self.visualize_board()\n",
        "        player_label = self.player_meta[player]['label']\n",
        "        player_type = self.player_meta[player]['type']\n",
        "\n",
        "        if player_type == 'human':\n",
        "          move = input(\"{}, what's your move?\".format(player_label))\n",
        "          # we're going to allow the user to quit the game from the input line\n",
        "          if move in ['q', 'quit']:\n",
        "            self.winner = 'F'\n",
        "            print('quiting the game')\n",
        "            break\n",
        "\n",
        "          move = int(move)\n",
        "          if self.board[move] != ' ':\n",
        "            while True:\n",
        "              move = input(\"{}, that position is already taken! \"\\\n",
        "                          \"What's your move?\".format(player_label))  \n",
        "              move = int(move)            \n",
        "              if self.board[move] != ' ':\n",
        "                continue\n",
        "              else:\n",
        "                break\n",
        "\n",
        "        else:\n",
        "          ##########\n",
        "          # Our level 1 ai agent (random)\n",
        "          ##########\n",
        "          if self.ai_level == 1:\n",
        "            move = self.random_ai()\n",
        "\n",
        "          ##########\n",
        "          # Our level 2 ai agent (heuristic)\n",
        "          ##########\n",
        "          elif self.ai_level == 2:\n",
        "            move = self.heuristic_ai(player_label)\n",
        "\n",
        "          ##########\n",
        "          # Our user-defined AI agent\n",
        "          ##########\n",
        "          elif self.ai_level == 3:\n",
        "            move = self.user_ai(self.board, self.win_patterns, player_label)\n",
        "\n",
        "        self.board[move] = player_label\n",
        "\n",
        "        # the winner varaible will now be check within the board object\n",
        "        self.check_winning()\n",
        "        self.check_stalemate()\n",
        "\n",
        "        if self.winner == '':\n",
        "          continue\n",
        "\n",
        "        elif self.winner == 'Stalemate':\n",
        "          print(self.check_stalemate())\n",
        "          self.visualize_board()\n",
        "          break\n",
        "\n",
        "        else:\n",
        "          print(self.check_winning())\n",
        "          self.visualize_board()\n",
        "          break\n",
        "      if self.winner != '':\n",
        "        return self"
      ],
      "execution_count": null,
      "outputs": []
    },
    {
      "cell_type": "markdown",
      "metadata": {
        "id": "h1YRk95hvZcH"
      },
      "source": [
        "## 6.1 N-Step Look Ahead and Minimax\n",
        "\n",
        "In the previous tic tac toe module, our AI only looked 1 step ahead, and we can probably see how this has disadvantages. When we play strategy games ourselves, we often do better by looking a number of steps into the future. One new idea that this requires, is how we will anticipate our opponents move. This gets us into _game theory_. We're not going to borrow a whole lot from here, just the following:\n",
        "\n",
        "* we will assume our opponent will work to minimize our score\n",
        "\n",
        "This switching from us wanting to _maximize_ our score to the opponent wanting to _minimize_ our score is called the minimax algorithm. \n",
        "\n",
        "As well look ahead into the future possibility of moves, we will use minimax to set our hypothetical behavior as well as our opponents\n",
        "\n",
        "You can investigate the [pseudocode](https://en.wikipedia.org/wiki/Minimax#Pseudocode) for minmax on wiki.\n",
        "\n"
      ]
    },
    {
      "cell_type": "code",
      "metadata": {
        "id": "xTQEKqEhb_vJ"
      },
      "source": [
        "# we're going to pull out and reformat some of our helper functions in the\n",
        "# TicTacToe class\n",
        "\n",
        "win_patterns = [[1,2,3], [4,5,6], [7,8,9],\n",
        "                [1,4,7], [2,5,8], [3,6,9],\n",
        "                [1,5,9], [7,5,3]]\n",
        "\n",
        "def check_winning(board, win_patterns):\n",
        "  for pattern in win_patterns:\n",
        "    values = [board[i] for i in pattern] \n",
        "    if values == ['X', 'X', 'X'] or values == ['O', 'O', 'O']:\n",
        "      return True\n",
        "  return False\n",
        "\n",
        "def check_stalemate(board, win_patterns):\n",
        "  if (' ' not in board.values()) and (check_winning(board, win_patterns) == ''):\n",
        "    return True\n",
        "  return False"
      ],
      "execution_count": null,
      "outputs": []
    },
    {
      "cell_type": "code",
      "metadata": {
        "id": "NrrF2WCPSHch"
      },
      "source": [
        "def minimax(depth, board, maximizing_player, player_label, verbiose=False):\n",
        "  # infer the opponent\n",
        "  opponent = ['X', 'O']\n",
        "  opponent.remove(player_label)\n",
        "  opponent = opponent[0]\n",
        "\n",
        "  # set the available moves\n",
        "  avail_moves = [i for i in board.keys() if board[i] == ' ']\n",
        "\n",
        "  # check if the depth is 0, or stalemate/winner has been reached\n",
        "  # if so this is the basecase and we want to return get_score()\n",
        "  terminal_move = is_terminal_node(board, avail_moves)\n",
        "\n",
        "  if terminal_move or depth == 0:\n",
        "    score = get_score(board, player_label, win_patterns)\n",
        "    if verbiose:\n",
        "      print('{} score: {}. depth: {}'.format(board, score, depth))\n",
        "    return score\n",
        "  \n",
        "  ### in the following we want to search through every possible board at the \n",
        "  ### current level (the possible moves for the current player, given that the\n",
        "  ### player is either the one whose turn it is or the imagined opponent)\n",
        "\n",
        "  # call minimax where it is the current players turn and so we want to \n",
        "  # maximize the score\n",
        "  if maximizing_player:\n",
        "    score = -np.Inf\n",
        "    for move in avail_moves:\n",
        "      new_board = board.copy()\n",
        "      new_board[move] = player_label\n",
        "      score = max(score, minimax(depth-1, new_board, False, player_label, verbiose))\n",
        "    if verbiose:\n",
        "      print('{} max. score: {}. depth: {}'.format(board, score, depth))\n",
        "    return score\n",
        "\n",
        "  # call minimax where it is the opponent players turn and so we want to\n",
        "  # minimize the score\n",
        "  elif not maximizing_player:\n",
        "    score = np.Inf\n",
        "    for move in avail_moves:\n",
        "      new_board = board.copy()\n",
        "      new_board[move] = opponent\n",
        "      score = min(score, minimax(depth-1, new_board, True, player_label, verbiose))\n",
        "    if verbiose:\n",
        "      print('{} min. score: {}. depth: {}'.format(board, score, depth))\n",
        "    return score\n",
        "\n",
        "def is_terminal_node(board, avail_moves):\n",
        "  if check_winning(board, win_patterns):\n",
        "    return True\n",
        "  elif check_stalemate(board, win_patterns):\n",
        "    return True\n",
        "  else:\n",
        "    return False\n",
        "\n",
        "def get_score(board, player_label, win_patterns):\n",
        "  # this will look somewhat similar to our 1-step lookahead algorithm\n",
        "  opponent = ['X', 'O']\n",
        "  opponent.remove(player_label)\n",
        "  opponent = opponent[0]\n",
        "  score = 0\n",
        "  for pattern in win_patterns:\n",
        "      values = [board[i] for i in pattern] \n",
        "      # if the opponent wins, the score is -100\n",
        "      if values == [opponent, opponent, opponent]:\n",
        "        score = -100\n",
        "      elif values == [player_label, player_label, player_label]:\n",
        "        score = 100\n",
        "  return score"
      ],
      "execution_count": null,
      "outputs": []
    },
    {
      "cell_type": "code",
      "metadata": {
        "id": "uNMEproFTjBa"
      },
      "source": [
        "board = TicTacToe().board"
      ],
      "execution_count": null,
      "outputs": []
    },
    {
      "cell_type": "code",
      "metadata": {
        "colab": {
          "base_uri": "https://localhost:8080/"
        },
        "id": "5fVhVvezTlUt",
        "outputId": "0c605ff2-906f-4d5b-ad90-5c78f9148b63"
      },
      "source": [
        "board"
      ],
      "execution_count": null,
      "outputs": [
        {
          "output_type": "execute_result",
          "data": {
            "text/plain": [
              "{1: ' ', 2: ' ', 3: ' ', 4: ' ', 5: ' ', 6: ' ', 7: ' ', 8: ' ', 9: ' '}"
            ]
          },
          "metadata": {
            "tags": []
          },
          "execution_count": 246
        }
      ]
    },
    {
      "cell_type": "code",
      "metadata": {
        "colab": {
          "base_uri": "https://localhost:8080/"
        },
        "id": "2nStH0evTfG_",
        "outputId": "fd0be674-47bb-446f-f38f-67ee6771389a"
      },
      "source": [
        "minimax(depth=1, board=board, maximizing_player=True, player_label='O')"
      ],
      "execution_count": null,
      "outputs": [
        {
          "output_type": "execute_result",
          "data": {
            "text/plain": [
              "0"
            ]
          },
          "metadata": {
            "tags": []
          },
          "execution_count": 247
        }
      ]
    },
    {
      "cell_type": "markdown",
      "metadata": {
        "id": "lGKnM77mWq7B"
      },
      "source": [
        "Finally, we need a couple wrapper functions to handle this. The first is a handler for the top level of the game tree (we want to see the minmax result for every possible move at the current place in the game)"
      ]
    },
    {
      "cell_type": "code",
      "metadata": {
        "colab": {
          "base_uri": "https://localhost:8080/"
        },
        "id": "BdWKohGgKBzt",
        "outputId": "b9142aad-f8e9-4f13-ce7e-03ecb9bf55cf"
      },
      "source": [
        "verbiose = True\n",
        "verbiose"
      ],
      "execution_count": null,
      "outputs": [
        {
          "output_type": "execute_result",
          "data": {
            "text/plain": [
              "True"
            ]
          },
          "metadata": {
            "tags": []
          },
          "execution_count": 379
        }
      ]
    },
    {
      "cell_type": "code",
      "metadata": {
        "id": "nvb2fvtYWzpf"
      },
      "source": [
        "def get_minimax(depth, board, player_label, verbiose=False):\n",
        "  score = minimax(depth-1, board, False, player_label, verbiose=verbiose)\n",
        "  return score\n",
        "\n",
        "def n_step_ai_temp(board, win_patterns, player_label, n_steps, verbiose=False):\n",
        "  opponent = ['X', 'O']\n",
        "  opponent.remove(player_label)\n",
        "  opponent = opponent[0]\n",
        "\n",
        "  avail_moves = {i: 1 for i in board.keys() if board[i] == ' '}\n",
        "  \n",
        "  for move in avail_moves.keys():\n",
        "    temp_board = board.copy()\n",
        "    temp_board[move] = player_label\n",
        "    score = get_minimax(n_steps, temp_board, player_label, verbiose=verbiose)\n",
        "    avail_moves[move] = score\n",
        "  return avail_moves"
      ],
      "execution_count": null,
      "outputs": []
    },
    {
      "cell_type": "markdown",
      "metadata": {
        "id": "8fTH3TlwaDL8"
      },
      "source": [
        "Let's test our `n_step_ai` while we're still returning the dictionary of available moves. Does this make sense?"
      ]
    },
    {
      "cell_type": "code",
      "metadata": {
        "colab": {
          "base_uri": "https://localhost:8080/"
        },
        "id": "pihaZgBcYt4G",
        "outputId": "cc2578f4-8cb7-4488-9187-f6f1f0bae335"
      },
      "source": [
        "board = TicTacToe().board\n",
        "board[1] = 'X'\n",
        "board[5] = 'O'\n",
        "board[2] = 'X'\n",
        "# with this setup we should see that a good move will be to play 3\n",
        "\n",
        "# be sure to vary the number of lookahead steps\n",
        "n_step_ai_temp(board=board, win_patterns=win_patterns, player_label='X', n_steps=2)"
      ],
      "execution_count": null,
      "outputs": [
        {
          "output_type": "execute_result",
          "data": {
            "text/plain": [
              "{3: 100, 4: 0, 6: 0, 7: 0, 8: 0, 9: 0}"
            ]
          },
          "metadata": {
            "tags": []
          },
          "execution_count": 206
        }
      ]
    },
    {
      "cell_type": "markdown",
      "metadata": {
        "id": "CuttQVYEaXBB"
      },
      "source": [
        "Looks like it's making sense. Let's also try when the opponent looks like they've got a winning move to be made"
      ]
    },
    {
      "cell_type": "code",
      "metadata": {
        "id": "i2_LYr4IabcS"
      },
      "source": [
        "board = TicTacToe().board\n",
        "board[1] = 'X'\n",
        "board[5] = 'O'\n",
        "board[2] = 'X'\n",
        "board[4] = 'O'\n",
        "# with this setup we should see that a good move will be to play 6 or 3\n",
        "\n",
        "# be sure to vary the number of lookahead steps\n",
        "n_step_ai_temp(board=board, win_patterns=win_patterns, player_label='X', n_steps=3)"
      ],
      "execution_count": null,
      "outputs": []
    },
    {
      "cell_type": "markdown",
      "metadata": {
        "id": "wn6XptqGpyca"
      },
      "source": [
        "Let's look at the following as well. This should be an interesting game situation to you. It is \"X's\" move. What do you notice? Does this outcome make sense?\n",
        "\n",
        "> X cannot win this game"
      ]
    },
    {
      "cell_type": "code",
      "metadata": {
        "colab": {
          "base_uri": "https://localhost:8080/"
        },
        "id": "_XW8o-gVpxwu",
        "outputId": "7f9f172a-ae55-44c9-b9f5-e9fc9e0c862b"
      },
      "source": [
        "board = TicTacToe().board\n",
        "board[1] = 'O'\n",
        "board[5] = 'O'\n",
        "board[2] = 'X'\n",
        "board[8] = 'X'\n",
        "\n",
        "# be sure to vary the number of lookahead steps\n",
        "n_step_ai_temp(board=board, win_patterns=win_patterns, player_label='X', n_steps=4, verbiose=False)\n",
        "\n",
        "# as a side note, sometimes it helps to interpret the outcome if you discount\n",
        "# the results from looking further down the game tree. (maybe O will make a mistake)\n",
        "# how would you encode this in your n-step look ahead algorithm?"
      ],
      "execution_count": null,
      "outputs": [
        {
          "output_type": "execute_result",
          "data": {
            "text/plain": [
              "{3: -100, 4: -100, 6: -100, 7: -100, 9: -100}"
            ]
          },
          "metadata": {
            "tags": []
          },
          "execution_count": 401
        }
      ]
    },
    {
      "cell_type": "markdown",
      "metadata": {
        "id": "PP4TbDZ_amsy"
      },
      "source": [
        "## 6.2 Packaging for GameEngine\n",
        "\n",
        "Nice. Let's finish packaging our `n_steps_ai` so we can feed it to our game engine."
      ]
    },
    {
      "cell_type": "code",
      "metadata": {
        "id": "1hHspdaCo5Kw"
      },
      "source": [
        "def n_step_ai(board, win_patterns, player_label, n_steps=3):\n",
        "  opponent = ['X', 'O']\n",
        "  opponent.remove(player_label)\n",
        "  opponent = opponent[0]\n",
        "\n",
        "  avail_moves = {i: 1 for i in board.keys() if board[i] == ' '}\n",
        "  \n",
        "  for move in avail_moves.keys():\n",
        "    temp_board = board.copy()\n",
        "    temp_board[move] = player_label\n",
        "    score = get_minimax(n_steps, temp_board, player_label)\n",
        "    avail_moves[move] = score\n",
        "\n",
        "  ##########################################\n",
        "  ### The rest of our ai agent harness is the same\n",
        "  ##########################################\n",
        "\n",
        "  # first grab max score\n",
        "  max_score = max(avail_moves.values())\n",
        "\n",
        "  # then select all moves that have this max score\n",
        "  valid = []\n",
        "  for key, value in avail_moves.items():\n",
        "    if value == max_score:\n",
        "      valid.append(key)\n",
        "\n",
        "  # return a random selection of the moves with the max score\n",
        "  move = random.choice(valid)\n",
        "\n",
        "  return move"
      ],
      "execution_count": null,
      "outputs": []
    },
    {
      "cell_type": "code",
      "metadata": {
        "id": "cRILXrISbbyt"
      },
      "source": [
        "game = GameEngine(setup='user', user_ai=n_step_ai)"
      ],
      "execution_count": null,
      "outputs": []
    },
    {
      "cell_type": "code",
      "metadata": {
        "colab": {
          "base_uri": "https://localhost:8080/"
        },
        "id": "yWtHBZ_5bjmi",
        "outputId": "e7399738-b3c8-464d-a63b-98f8058dd539"
      },
      "source": [
        "game.setup_game()"
      ],
      "execution_count": null,
      "outputs": [
        {
          "output_type": "stream",
          "text": [
            "How many Players? (type 0, 1, or 2)1\n",
            "who will go first? (X, (AI), or O (Player))X\n"
          ],
          "name": "stdout"
        }
      ]
    },
    {
      "cell_type": "code",
      "metadata": {
        "colab": {
          "base_uri": "https://localhost:8080/"
        },
        "id": "yTOUTbqeb2Od",
        "outputId": "863bbf42-d240-4cbf-9fcf-54511b179a2d"
      },
      "source": [
        "game.play_game()"
      ],
      "execution_count": null,
      "outputs": [
        {
          "output_type": "stream",
          "text": [
            "| | | |\n",
            "| | | |\n",
            "| | | |\n",
            "\n",
            "| | | |\n",
            "|X| | |\n",
            "| | | |\n",
            "\n",
            "O, what's your move?5\n",
            "| | | |\n",
            "|X|O| |\n",
            "| | | |\n",
            "\n",
            "| | | |\n",
            "|X|O| |\n",
            "| |X| |\n",
            "\n",
            "O, what's your move?2\n",
            "| |O| |\n",
            "|X|O| |\n",
            "| |X| |\n",
            "\n",
            "| |O| |\n",
            "|X|O| |\n",
            "|X|X| |\n",
            "\n",
            "O, what's your move?1\n",
            "|O|O| |\n",
            "|X|O| |\n",
            "|X|X| |\n",
            "\n",
            "'X' Won!\n",
            "|O|O| |\n",
            "|X|O| |\n",
            "|X|X|X|\n",
            "\n"
          ],
          "name": "stdout"
        },
        {
          "output_type": "execute_result",
          "data": {
            "text/plain": [
              "<__main__.GameEngine at 0x7fe529a0d850>"
            ]
          },
          "metadata": {
            "tags": []
          },
          "execution_count": 405
        }
      ]
    },
    {
      "cell_type": "markdown",
      "metadata": {
        "id": "EvEyVx4zgjJd"
      },
      "source": [
        "Let's investigate the behavior of our AI and double check that it makes sense"
      ]
    },
    {
      "cell_type": "code",
      "metadata": {
        "colab": {
          "base_uri": "https://localhost:8080/"
        },
        "id": "JRXsFZEldCoz",
        "outputId": "db7d5716-cba5-4332-c016-bced7727f6bd"
      },
      "source": [
        "board = game.board\n",
        "board[9] = ' '\n",
        "board"
      ],
      "execution_count": null,
      "outputs": [
        {
          "output_type": "execute_result",
          "data": {
            "text/plain": [
              "{1: 'O', 2: 'O', 3: ' ', 4: 'X', 5: 'O', 6: ' ', 7: 'X', 8: 'X', 9: ' '}"
            ]
          },
          "metadata": {
            "tags": []
          },
          "execution_count": 406
        }
      ]
    },
    {
      "cell_type": "code",
      "metadata": {
        "colab": {
          "base_uri": "https://localhost:8080/"
        },
        "id": "ZkSxpn-Adc9y",
        "outputId": "05a9863f-a5fa-417c-a3d8-49e83bff1148"
      },
      "source": [
        "game.visualize_board()"
      ],
      "execution_count": null,
      "outputs": [
        {
          "output_type": "stream",
          "text": [
            "|O|O| |\n",
            "|X|O| |\n",
            "|X|X| |\n",
            "\n"
          ],
          "name": "stdout"
        }
      ]
    },
    {
      "cell_type": "code",
      "metadata": {
        "colab": {
          "base_uri": "https://localhost:8080/"
        },
        "id": "NYCBRTq0dQH5",
        "outputId": "6ba38ded-2d68-47c5-8819-c71817291bef"
      },
      "source": [
        "n_step_ai_temp(board=board, win_patterns=win_patterns, player_label='X', n_steps=3)"
      ],
      "execution_count": null,
      "outputs": [
        {
          "output_type": "execute_result",
          "data": {
            "text/plain": [
              "{3: -100, 6: -100, 9: 100}"
            ]
          },
          "metadata": {
            "tags": []
          },
          "execution_count": 430
        }
      ]
    },
    {
      "cell_type": "markdown",
      "metadata": {
        "id": "6HMHEtiQcGJJ"
      },
      "source": [
        "## 6.3 Writing Tests"
      ]
    },
    {
      "cell_type": "code",
      "metadata": {
        "id": "DtctH1Rrb4Ye"
      },
      "source": [
        "def test_n_step_ai():\n",
        "  random.seed(42)\n",
        "  game = GameEngine(setup='auto', user_ai=n_step_ai)\n",
        "  game.setup_game()\n",
        "  game.play_game()\n",
        "  # check that the winner is X\n",
        "  assert game.winner == 'X', \"Winner should be X!\"\n",
        "\n",
        "  # check that the ai level is set to 3 which means our engine is properly\n",
        "  # accessing the user defined ai\n",
        "  assert game.ai_level == 3, \"The engine is not using the user defined AI!\""
      ],
      "execution_count": null,
      "outputs": []
    },
    {
      "cell_type": "code",
      "metadata": {
        "colab": {
          "base_uri": "https://localhost:8080/"
        },
        "id": "5Ya6S5szcQ5v",
        "outputId": "46ead4c9-51db-410e-e349-e8c7bdbc4b05"
      },
      "source": [
        "test_n_step_ai()"
      ],
      "execution_count": null,
      "outputs": [
        {
          "output_type": "stream",
          "text": [
            "| | | |\n",
            "| | | |\n",
            "| | | |\n",
            "\n",
            "|X| | |\n",
            "| | | |\n",
            "| | | |\n",
            "\n",
            "|X| | |\n",
            "| | |O|\n",
            "| | | |\n",
            "\n",
            "|X| |X|\n",
            "| | |O|\n",
            "| | | |\n",
            "\n",
            "|X|O|X|\n",
            "| | |O|\n",
            "| | | |\n",
            "\n",
            "|X|O|X|\n",
            "| |X|O|\n",
            "| | | |\n",
            "\n",
            "|X|O|X|\n",
            "|O|X|O|\n",
            "| | | |\n",
            "\n",
            "'X' Won!\n",
            "|X|O|X|\n",
            "|O|X|O|\n",
            "| | |X|\n",
            "\n"
          ],
          "name": "stdout"
        }
      ]
    },
    {
      "cell_type": "code",
      "metadata": {
        "id": "aXKmseOgM7RL"
      },
      "source": [
        ""
      ],
      "execution_count": null,
      "outputs": []
    }
  ]
}