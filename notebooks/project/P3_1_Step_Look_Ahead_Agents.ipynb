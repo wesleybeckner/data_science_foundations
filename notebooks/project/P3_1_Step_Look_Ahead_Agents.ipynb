{
 "cells": [
  {
   "cell_type": "markdown",
   "metadata": {
    "colab_type": "text",
    "id": "view-in-github"
   },
   "source": [
    "<a href=\"https://colab.research.google.com/github/wesleybeckner/data_science_foundations/blob/main/notebooks/project/P3_1_Step_Look_Ahead_Agents.ipynb\" target=\"_parent\"><img src=\"https://colab.research.google.com/assets/colab-badge.svg\" alt=\"Open In Colab\"/></a>"
   ]
  },
  {
   "cell_type": "markdown",
   "metadata": {
    "id": "vhe1yX4AMckE"
   },
   "source": [
    "# Data Science Foundations <br> Project Part 3: 1-Step Look Ahead\n",
    "\n",
    "**Instructor**: Wesley Beckner\n",
    "\n",
    "**Contact**: wesleybeckner@gmail.com\n",
    "\n",
    "---\n",
    "\n",
    "<br>\n",
    "\n",
    "Today we're working on a more advanced AI structure: 1-step lookahead.\n",
    "\n",
    "<br>\n",
    "\n",
    "---\n",
    "\n",
    "\n",
    "<a name='top'></a>\n",
    "\n"
   ]
  },
  {
   "cell_type": "markdown",
   "metadata": {
    "id": "mNtJitcRW51Y"
   },
   "source": [
    "<a name='x.0'></a>\n",
    "\n",
    "## 3.0 Preparing Environment and Importing Data\n",
    "\n",
    "[back to top](#top)"
   ]
  },
  {
   "cell_type": "markdown",
   "metadata": {
    "id": "chdcBoBL8SNm"
   },
   "source": [
    "<a name='x.0.1'></a>\n",
    "\n",
    "### 3.0.1 Import Packages\n",
    "\n",
    "[back to top](#top)"
   ]
  },
  {
   "cell_type": "code",
   "execution_count": 2,
   "metadata": {
    "id": "eJ7-FDq3JhhI"
   },
   "outputs": [],
   "source": [
    "import random\n",
    "import pandas as pd\n",
    "import numpy as np\n",
    "import matplotlib.pyplot as plt\n",
    "\n",
    "class TicTacToe:\n",
    "  # can preset winner and starting player\n",
    "  def __init__(self, winner='', start_player=''): \n",
    "    self.winner = winner\n",
    "    self.start_player = start_player\n",
    "    self.board = {1: ' ',\n",
    "         2: ' ',\n",
    "         3: ' ',\n",
    "         4: ' ',\n",
    "         5: ' ',\n",
    "         6: ' ',\n",
    "         7: ' ',\n",
    "         8: ' ',\n",
    "         9: ' ',}\n",
    "    self.win_patterns = [[1,2,3], [4,5,6], [7,8,9],\n",
    "                [1,4,7], [2,5,8], [3,6,9],\n",
    "                [1,5,9], [7,5,3]]\n",
    "         \n",
    "  # the other functions are now passed self\n",
    "  def visualize_board(self):\n",
    "    print(\n",
    "      \"|{}|{}|{}|\\n|{}|{}|{}|\\n|{}|{}|{}|\\n\".format(*self.board.values())\n",
    "      )\n",
    "\n",
    "  def check_winning(self):\n",
    "    for pattern in self.win_patterns:\n",
    "      values = [self.board[i] for i in pattern] \n",
    "      if values == ['X', 'X', 'X']:\n",
    "        self.winner = 'X' # we update the winner status\n",
    "        return \"'X' Won!\"\n",
    "      elif values == ['O', 'O', 'O']:\n",
    "        self.winner = 'O'\n",
    "        return \"'O' Won!\"\n",
    "    return ''\n",
    "\n",
    "  def check_stalemate(self):\n",
    "    if (' ' not in self.board.values()) and (self.check_winning() == ''):\n",
    "      self.winner = 'Stalemate'\n",
    "      return \"It's a stalemate!\"\n",
    "\n",
    "class GameEngine(TicTacToe):\n",
    "  def __init__(self, setup='auto'):\n",
    "    super().__init__()\n",
    "    self.setup = setup\n",
    "\n",
    "  def heuristic_ai(self, player_label):\n",
    "    opponent = ['X', 'O']\n",
    "    opponent.remove(player_label)\n",
    "    opponent = opponent[0]\n",
    "\n",
    "    avail_moves = [i for i in self.board.keys() if self.board[i] == ' ']\n",
    "    temp_board = self.board.copy()\n",
    "    middle = 5\n",
    "    corner = [1,3,7,9]\n",
    "    side = [2,4,6,8]\n",
    "\n",
    "    # first check for a winning move\n",
    "    move_found = False\n",
    "    for move in avail_moves:\n",
    "      temp_board[move] = player_label\n",
    "      for pattern in self.win_patterns:\n",
    "          values = [temp_board[i] for i in pattern] \n",
    "          if values == [player_label, player_label, player_label]:\n",
    "            move_found = True       \n",
    "            break\n",
    "      if move_found:   \n",
    "        break\n",
    "      else:\n",
    "        temp_board[move] = ' '\n",
    "\n",
    "    # check if the opponent has a winning move\n",
    "    if move_found == False:\n",
    "      for move in avail_moves:\n",
    "        temp_board[move] = opponent\n",
    "        for pattern in self.win_patterns:\n",
    "            values = [temp_board[i] for i in pattern] \n",
    "            if values == [opponent, opponent, opponent]:\n",
    "              move_found = True       \n",
    "              break\n",
    "        if move_found:   \n",
    "          break\n",
    "        else:\n",
    "          temp_board[move] = ' '\n",
    "\n",
    "    # check corners\n",
    "    if move_found == False:\n",
    "      move_corner = [val for val in avail_moves if val in corner]\n",
    "      if len(move_corner) > 0:\n",
    "        move = random.choice(move_corner)\n",
    "        move_found = True\n",
    "        \n",
    "    # check if middle avail\n",
    "    if move_found == False:\n",
    "      if middle in avail_moves:\n",
    "        move_found = True\n",
    "        move = middle\n",
    "\n",
    "    # check side\n",
    "    if move_found == False:\n",
    "      move_side = [val for val in avail_moves if val in side]\n",
    "      if len(move_side) > 0:\n",
    "        move = random.choice(move_side)\n",
    "        move_found = True\n",
    "\n",
    "    return move\n",
    "\n",
    "  def random_ai(self):\n",
    "    while True:\n",
    "      move = random.randint(1,9)\n",
    "      if self.board[move] != ' ':\n",
    "        continue\n",
    "      else:\n",
    "        break\n",
    "    return move\n",
    "\n",
    "  def setup_game(self):\n",
    "\n",
    "    if self.setup == 'user':\n",
    "      players = int(input(\"How many Players? (type 0, 1, or 2)\"))\n",
    "      self.player_meta = {'first': {'label': 'X',\n",
    "                                    'type': 'ai'}, \n",
    "                    'second': {'label': 'O',\n",
    "                                    'type': 'human'}}\n",
    "      if players != 2:\n",
    "        ########## \n",
    "        # Allow the user to set the ai level\n",
    "        ########## \n",
    "        level = int(input(\"select AI level (1, 2)\"))\n",
    "        if level == 1:\n",
    "          self.ai_level = 1\n",
    "        elif level == 2:\n",
    "          self.ai_level = 2\n",
    "        else:\n",
    "          print(\"Unknown AI level entered, this will cause problems\")\n",
    "\n",
    "      if players == 1:\n",
    "        first = input(\"who will go first? (X, (AI), or O (Player))\")\n",
    "        if first == 'O':\n",
    "          self.player_meta = {'second': {'label': 'X',\n",
    "                                    'type': 'ai'}, \n",
    "                        'first': {'label': 'O',\n",
    "                                    'type': 'human'}}\n",
    "        \n",
    "\n",
    "        \n",
    "\n",
    "      elif players == 0:\n",
    "        first = random.choice(['X', 'O'])\n",
    "        if first == 'O':\n",
    "          self.player_meta = {'second': {'label': 'X',\n",
    "                                    'type': 'ai'}, \n",
    "                        'first': {'label': 'O',\n",
    "                                    'type': 'ai'}}                                \n",
    "        else:\n",
    "          self.player_meta = {'first': {'label': 'X',\n",
    "                                    'type': 'ai'}, \n",
    "                        'second': {'label': 'O',\n",
    "                                    'type': 'ai'}}\n",
    "\n",
    "        \n",
    "\n",
    "    elif self.setup == 'auto':\n",
    "      first = random.choice(['X', 'O'])\n",
    "      if first == 'O':\n",
    "        self.start_player = 'O'\n",
    "        self.player_meta = {'second': {'label': 'X',\n",
    "                                  'type': 'ai'}, \n",
    "                      'first': {'label': 'O',\n",
    "                                  'type': 'ai'}}                                \n",
    "      else:\n",
    "        self.start_player = 'X'\n",
    "        self.player_meta = {'first': {'label': 'X',\n",
    "                                  'type': 'ai'}, \n",
    "                      'second': {'label': 'O',\n",
    "                                  'type': 'ai'}}\n",
    "      ########## \n",
    "      # and automatically set the ai level otherwise\n",
    "      ##########                             \n",
    "      self.ai_level = 2\n",
    "\n",
    "  def play_game(self):\n",
    "    while True:\n",
    "      for player in ['first', 'second']:  \n",
    "        self.visualize_board()\n",
    "        player_label = self.player_meta[player]['label']\n",
    "        player_type = self.player_meta[player]['type']\n",
    "\n",
    "        if player_type == 'human':\n",
    "          move = input(\"{}, what's your move?\".format(player_label))\n",
    "          # we're going to allow the user to quit the game from the input line\n",
    "          if move in ['q', 'quit']:\n",
    "            self.winner = 'F'\n",
    "            print('quiting the game')\n",
    "            break\n",
    "\n",
    "          move = int(move)\n",
    "          if self.board[move] != ' ':\n",
    "            while True:\n",
    "              move = input(\"{}, that position is already taken! \"\\\n",
    "                          \"What's your move?\".format(player_label))  \n",
    "              move = int(move)            \n",
    "              if self.board[move] != ' ':\n",
    "                continue\n",
    "              else:\n",
    "                break\n",
    "\n",
    "        else:\n",
    "          ##########\n",
    "          # Our level 1 ai agent (random)\n",
    "          ##########\n",
    "          if self.ai_level == 1:\n",
    "            move = self.random_ai()\n",
    "\n",
    "          ##########\n",
    "          # Our level 2 ai agent (heuristic)\n",
    "          ##########\n",
    "          elif self.ai_level == 2:\n",
    "            move = self.heuristic_ai(player_label)\n",
    "\n",
    "        self.board[move] = player_label\n",
    "\n",
    "        # the winner varaible will now be check within the board object\n",
    "        self.check_winning()\n",
    "        self.check_stalemate()\n",
    "\n",
    "        if self.winner == '':\n",
    "          continue\n",
    "\n",
    "        elif self.winner == 'Stalemate':\n",
    "          print(self.check_stalemate())\n",
    "          self.visualize_board()\n",
    "          break\n",
    "\n",
    "        else:\n",
    "          print(self.check_winning())\n",
    "          self.visualize_board()\n",
    "          break\n",
    "      if self.winner != '':\n",
    "        return self"
   ]
  },
  {
   "cell_type": "markdown",
   "metadata": {
    "id": "R7vDY-8U8SWd"
   },
   "source": [
    "<a name='x.0.1'></a>\n",
    "\n",
    "### 3.0.2 Load Dataset\n",
    "\n",
    "[back to top](#top)"
   ]
  },
  {
   "cell_type": "markdown",
   "metadata": {
    "id": "h1YRk95hvZcH"
   },
   "source": [
    "## 3.1 Rethinking gameplay\n",
    "\n",
    "To implement the broader strategies used in game theory and machine learning, we need to rebroadcast our approach to creating our AI agent. In the heurstical agent model, we thought in terms of checking for specific move types, defined by what kind of advantage they give us during game play, i.e. see if a winning move is available, a blocking move, if a corner place is free, etc. Rather than thinking with this _look and check_ mindset that is centered around specific strategies and our own prior knowledge about the game (we _know_ that a center piece is statistically likely to give us a higher chance of winning) we will evaluate every available move to the AI, and rate them quantitatively. \n",
    "\n",
    "> **_switching from ordinal to interval_** Notice the datatype change when we move from giving simple preferences of moves to actual scores of moves. Catalog this in your mind for future reference when considering datatypes!\n",
    "\n"
   ]
  },
  {
   "cell_type": "markdown",
   "metadata": {
    "id": "591Ya5oJZNGZ"
   },
   "source": [
    "### 3.1.1 One-Step Look Ahead\n",
    "\n",
    "For now, when we rate our boards, we will only look 1-step ahead in gameplay. Hence the name we give this AI strategy, 1-step lookahead\n",
    "\n",
    "The beginning portion of our code will look about the same as the heuristic AI model. Recall:\n",
    "\n",
    "```\n",
    "  def heuristic_ai(self, player_label):\n",
    "    opponent = ['X', 'O']\n",
    "    opponent.remove(player_label)\n",
    "    opponent = opponent[0]\n",
    "\n",
    "    avail_moves = [i for i in self.board.keys() if self.board[i] == ' ']\n",
    "    temp_board = self.board.copy()\n",
    "```\n",
    "but now, instead of searching progressively through our preferred move-types (winning, middle, etc.) . We are going to give every available move (1, 3, 7, etc.) a score. Our score regimen will look like the following:\n",
    "\n",
    "* 100 pts: winning move\n",
    "* 10 pts: blocks an opponents winning move\n",
    "* 1 pt: every other move"
   ]
  },
  {
   "cell_type": "markdown",
   "metadata": {
    "id": "q_TqYad_SzKZ"
   },
   "source": [
    "### Q1 Rewrite avail_moves\n",
    "\n",
    "define avail_moves as a dictionary of available moves with scores for each move as empty strings. We will update this dictionary with numerical scores in the next step"
   ]
  },
  {
   "cell_type": "code",
   "execution_count": null,
   "metadata": {
    "id": "Z5bwAlxLbNW6"
   },
   "outputs": [],
   "source": [
    "# we're going to steal the parameter names to\n",
    "# prototype our new function\n",
    "self = TicTacToe()\n",
    "player_label = 'X'\n",
    "\n",
    "opponent = ['X', 'O']\n",
    "opponent.remove(player_label)\n",
    "opponent = opponent[0]\n",
    "\n",
    "# instead of a list, we want avail_moves to now be a dictionary that will\n",
    "# contain the move and its score\n",
    "\n",
    "# avail_moves = # YOUR CODE HERE\n",
    "\n",
    "temp_board = self.board.copy()"
   ]
  },
  {
   "cell_type": "markdown",
   "metadata": {
    "id": "L0cQIml7eI7p"
   },
   "source": [
    "### Q2 Score each move in `avail_moves`\n",
    "\n",
    "Now let's fold this into our new `one_step_ai` function. Remember:\n",
    "\n",
    "* 100 pts: winning move\n",
    "* 10 pts: blocks an opponents winning move\n",
    "* 1 pt: every other move"
   ]
  },
  {
   "cell_type": "code",
   "execution_count": null,
   "metadata": {
    "id": "Gr4gT3XSZIb_"
   },
   "outputs": [],
   "source": [
    "# the beginning portion of our code will look about the same\n",
    "# as the heuristic AI model\n",
    "def one_step_ai(self, player_label):\n",
    "  opponent = ['X', 'O']\n",
    "  opponent.remove(player_label)\n",
    "  opponent = opponent[0]\n",
    "\n",
    "  ##############################################################################\n",
    "  ############################# DEFINE avail_moves #############################\n",
    "  ##############################################################################\n",
    "  # avail_moves = #\n",
    "\n",
    "  temp_board = self.board.copy()\n",
    "\n",
    "  # first check for a winning move\n",
    "  # we're now looping through the keys of our dictionary\n",
    "  for move in avail_moves.keys():\n",
    "    temp_board[move] = player_label\n",
    "    for pattern in self.win_patterns:\n",
    "        values = [temp_board[i] for i in pattern] \n",
    "        if values == [player_label, player_label, player_label]:\n",
    "          ######################################################################\n",
    "          # if we found a winning move we want to update the move with a score #\n",
    "          ######################################################################\n",
    "          # your code to update avail_moves with a score\n",
    "\n",
    "    temp_board[move] = ' '\n",
    "\n",
    "  ##############################################################################\n",
    "  ################## Check if the opponent has a winning move ##################\n",
    "  ##############################################################################\n",
    "\n",
    "  ##############################################################################\n",
    "  ################### All remaining moves receive a score of 1\n",
    "  ##############################################################################\n",
    "\n",
    "  return avail_moves"
   ]
  },
  {
   "cell_type": "code",
   "execution_count": null,
   "metadata": {
    "colab": {
     "base_uri": "https://localhost:8080/"
    },
    "id": "suDrTztgdNtw",
    "outputId": "42c618b8-9ce2-41be-91d6-966dca4e77c0"
   },
   "outputs": [
    {
     "data": {
      "text/plain": [
       "{3: 100, 4: 1, 5: 1, 6: 1, 7: 1, 8: 1, 9: 1}"
      ]
     },
     "execution_count": 23,
     "metadata": {
      "tags": []
     },
     "output_type": "execute_result"
    }
   ],
   "source": [
    "one_step_ai(self, 'X')"
   ]
  },
  {
   "cell_type": "markdown",
   "metadata": {
    "id": "zp0w2dm4fTVY"
   },
   "source": [
    "### Q3 Test `one_step_ai`\n",
    "\n",
    "That's great, but how do we check that our code will work when a winning move is available, or a losing move is just around the corner? let's create a unit test for these!"
   ]
  },
  {
   "cell_type": "code",
   "execution_count": null,
   "metadata": {
    "id": "6OqeBZ1LeQjE"
   },
   "outputs": [],
   "source": [
    "# just defining a new game\n",
    "self = TicTacToe()\n",
    "player_label = 'X'"
   ]
  },
  {
   "cell_type": "code",
   "execution_count": null,
   "metadata": {
    "colab": {
     "base_uri": "https://localhost:8080/"
    },
    "id": "7Z5MgtOfffzD",
    "outputId": "a2867030-b466-459f-91d3-5b8f5dfbb50b"
   },
   "outputs": [
    {
     "data": {
      "text/plain": [
       "{1: 'X', 2: 'X', 3: ' ', 4: ' ', 5: ' ', 6: ' ', 7: ' ', 8: ' ', 9: ' '}"
      ]
     },
     "execution_count": 18,
     "metadata": {
      "tags": []
     },
     "output_type": "execute_result"
    }
   ],
   "source": [
    "# seeding the board with some X's\n",
    "self.board[1] = 'X'\n",
    "self.board[2] = 'X'\n",
    "self.board"
   ]
  },
  {
   "cell_type": "markdown",
   "metadata": {
    "id": "Uykp-NWEfnu3"
   },
   "source": [
    "Now test the winning move. Your code should return `100` at move `3` and 1 everywhere else"
   ]
  },
  {
   "cell_type": "code",
   "execution_count": null,
   "metadata": {
    "colab": {
     "base_uri": "https://localhost:8080/"
    },
    "id": "bVPOPPsxfmaA",
    "outputId": "37c33ce4-bb46-4901-8b62-dd0ac88d8034"
   },
   "outputs": [
    {
     "data": {
      "text/plain": [
       "{3: 100, 4: 1, 5: 1, 6: 1, 7: 1, 8: 1, 9: 1}"
      ]
     },
     "execution_count": 19,
     "metadata": {
      "tags": []
     },
     "output_type": "execute_result"
    }
   ],
   "source": [
    "one_step_ai(self, player_label)"
   ]
  },
  {
   "cell_type": "markdown",
   "metadata": {
    "id": "mD7Pb1iGftM5"
   },
   "source": [
    "We can test the losing move by reversing the players"
   ]
  },
  {
   "cell_type": "code",
   "execution_count": null,
   "metadata": {
    "colab": {
     "base_uri": "https://localhost:8080/"
    },
    "id": "W1Sn_xNFfpCy",
    "outputId": "44cb9e96-9a2f-46e5-cbf0-a86fec9aa1e1"
   },
   "outputs": [
    {
     "data": {
      "text/plain": [
       "{3: 10, 4: 1, 5: 1, 6: 1, 7: 1, 8: 1, 9: 1}"
      ]
     },
     "execution_count": 20,
     "metadata": {
      "tags": []
     },
     "output_type": "execute_result"
    }
   ],
   "source": [
    "player_label = 'O'\n",
    "one_step_ai(self, player_label)"
   ]
  },
  {
   "cell_type": "markdown",
   "metadata": {
    "id": "U0dcDcpWf4jx"
   },
   "source": [
    "great! Let's keep these shorthand codes in mind when we go to write actual unit tests with the `one_step_ai` function embedded in the `GameEngine` module.\n",
    "\n",
    "We're not done yet, recall that our other ai agents returned the actual selected move, not a dictionary of the moves with scores. We need to create a move from this dictionary and return it.\n",
    "\n",
    "Here's what the general procedure will look like:\n",
    "\n",
    "1. Grab the maximum score (after assigning scores to all of avail_moves)\n",
    "2. Select all moves that have this maximum score\n",
    "3. Return a random selection of the moves with the max score\n",
    "\n",
    "and then in code format:"
   ]
  },
  {
   "cell_type": "code",
   "execution_count": null,
   "metadata": {
    "colab": {
     "base_uri": "https://localhost:8080/"
    },
    "id": "BrOcfjbtiimZ",
    "outputId": "7ac428da-cfab-4529-93d6-0d7e6ebe321f"
   },
   "outputs": [
    {
     "data": {
      "text/plain": [
       "3"
      ]
     },
     "execution_count": 27,
     "metadata": {
      "tags": []
     },
     "output_type": "execute_result"
    }
   ],
   "source": [
    "avail_moves = one_step_ai(self, player_label)\n",
    "\n",
    "# 1. grab the maximum score\n",
    "max_score = max(avail_moves.values())\n",
    "\n",
    "# 2. select all moves that have this maximum score\n",
    "valid = []\n",
    "for key, value in avail_moves.items():\n",
    "  if value == max_score:\n",
    "    valid.append(key)\n",
    "\n",
    "# 3. return a random selection of the moves with the max score\n",
    "move = random.choice(valid)\n",
    "move"
   ]
  },
  {
   "cell_type": "markdown",
   "metadata": {
    "id": "S4gAdmWKaIe2"
   },
   "source": [
    "## 3.2 Putting it all together"
   ]
  },
  {
   "cell_type": "markdown",
   "metadata": {
    "id": "X-TVb6IEguuu"
   },
   "source": [
    "\n",
    "\n",
    "### Q4 Finish `one_step_ai` to return a move\n",
    "\n",
    "Let's see if we can rewrite our game engine to take new AI models in as a passable parameter. This way our base module will be much cleaner, and allow us to continue to write new functions for the base engine as long as they pass along the same variables."
   ]
  },
  {
   "cell_type": "code",
   "execution_count": null,
   "metadata": {
    "id": "x-eTEboigAXU"
   },
   "outputs": [],
   "source": [
    "# the beginning portion of our code will look about the same\n",
    "# as the heuristic AI model\n",
    "def one_step_ai(board, win_patterns, player_label):\n",
    "  opponent = ['X', 'O']\n",
    "  opponent.remove(player_label)\n",
    "  opponent = opponent[0]\n",
    "  temp_board = board.copy()\n",
    "\n",
    "  # define avail_moves\n",
    "  # avail_moves = \n",
    "  \n",
    "  # your code for giving scores for avail_moves\n",
    "\n",
    "  # first grab max score\n",
    "\n",
    "  # then select all moves that have this max score\n",
    "\n",
    "  # return a random selection of the moves with the max score\n",
    "  \n",
    "  return move"
   ]
  },
  {
   "cell_type": "markdown",
   "metadata": {
    "id": "MPxh9C-DjmTI"
   },
   "source": [
    "### 3.2.1 Allow `GameEngine` to take an ai agent as a passable parameter\n",
    "\n",
    "Let's rewrite our `GameEngine` to take an ai agent as a passable parameter under `user_ai`. The default value will be `None`\n",
    "\n",
    "Additional `user_ai` criteria will be that `user_ai` receives `board`, `win_patterns` and `player_label` and returns `move`."
   ]
  },
  {
   "cell_type": "code",
   "execution_count": null,
   "metadata": {
    "id": "VOKEBAgkjoVF"
   },
   "outputs": [],
   "source": [
    "class GameEngine(TicTacToe):\n",
    "  def __init__(self, setup='auto', user_ai=None):\n",
    "    super().__init__()\n",
    "    self.setup = setup\n",
    "    self.user_ai = user_ai\n",
    "\n",
    "  def heuristic_ai(self, player_label):\n",
    "    opponent = ['X', 'O']\n",
    "    opponent.remove(player_label)\n",
    "    opponent = opponent[0]\n",
    "\n",
    "    avail_moves = [i for i in self.board.keys() if self.board[i] == ' ']\n",
    "    temp_board = self.board.copy()\n",
    "    middle = 5\n",
    "    corner = [1,3,7,9]\n",
    "    side = [2,4,6,8]\n",
    "\n",
    "    # first check for a winning move\n",
    "    move_found = False\n",
    "    for move in avail_moves:\n",
    "      temp_board[move] = player_label\n",
    "      for pattern in self.win_patterns:\n",
    "          values = [temp_board[i] for i in pattern] \n",
    "          if values == [player_label, player_label, player_label]:\n",
    "            move_found = True       \n",
    "            break\n",
    "      if move_found:   \n",
    "        break\n",
    "      else:\n",
    "        temp_board[move] = ' '\n",
    "\n",
    "    # check if the opponent has a winning move\n",
    "    if move_found == False:\n",
    "      for move in avail_moves:\n",
    "        temp_board[move] = opponent\n",
    "        for pattern in self.win_patterns:\n",
    "            values = [temp_board[i] for i in pattern] \n",
    "            if values == [opponent, opponent, opponent]:\n",
    "              move_found = True       \n",
    "              break\n",
    "        if move_found:   \n",
    "          break\n",
    "        else:\n",
    "          temp_board[move] = ' '\n",
    "\n",
    "    # check corners\n",
    "    if move_found == False:\n",
    "      move_corner = [val for val in avail_moves if val in corner]\n",
    "      if len(move_corner) > 0:\n",
    "        move = random.choice(move_corner)\n",
    "        move_found = True\n",
    "        \n",
    "    # check if middle avail\n",
    "    if move_found == False:\n",
    "      if middle in avail_moves:\n",
    "        move_found = True\n",
    "        move = middle\n",
    "\n",
    "    # check side\n",
    "    if move_found == False:\n",
    "      move_side = [val for val in avail_moves if val in side]\n",
    "      if len(move_side) > 0:\n",
    "        move = random.choice(move_side)\n",
    "        move_found = True\n",
    "\n",
    "    return move\n",
    "\n",
    "  def random_ai(self):\n",
    "    while True:\n",
    "      move = random.randint(1,9)\n",
    "      if self.board[move] != ' ':\n",
    "        continue\n",
    "      else:\n",
    "        break\n",
    "    return move\n",
    "\n",
    "  def setup_game(self):\n",
    "\n",
    "    if self.setup == 'user':\n",
    "      players = int(input(\"How many Players? (type 0, 1, or 2)\"))\n",
    "      self.player_meta = {'first': {'label': 'X',\n",
    "                                    'type': 'ai'}, \n",
    "                    'second': {'label': 'O',\n",
    "                                    'type': 'human'}}\n",
    "      if players != 2:\n",
    "        ########## \n",
    "        # Allow the user to set the ai level\n",
    "        ########## \n",
    "\n",
    "        ### if they have not provided an ai_agent\n",
    "        if self.user_ai == None:\n",
    "          level = int(input(\"select AI level (1, 2)\"))\n",
    "          if level == 1:\n",
    "            self.ai_level = 1\n",
    "          elif level == 2:\n",
    "            self.ai_level = 2\n",
    "          else:\n",
    "            print(\"Unknown AI level entered, this will cause problems\")\n",
    "        else:\n",
    "          self.ai_level = 3\n",
    "\n",
    "      if players == 1:\n",
    "        first = input(\"who will go first? (X, (AI), or O (Player))\")\n",
    "        if first == 'O':\n",
    "          self.player_meta = {'second': {'label': 'X',\n",
    "                                    'type': 'ai'}, \n",
    "                        'first': {'label': 'O',\n",
    "                                    'type': 'human'}}\n",
    "        \n",
    "\n",
    "      elif players == 0:\n",
    "        first = random.choice(['X', 'O'])\n",
    "        if first == 'O':\n",
    "          self.player_meta = {'second': {'label': 'X',\n",
    "                                    'type': 'ai'}, \n",
    "                        'first': {'label': 'O',\n",
    "                                    'type': 'ai'}}                                \n",
    "        else:\n",
    "          self.player_meta = {'first': {'label': 'X',\n",
    "                                    'type': 'ai'}, \n",
    "                        'second': {'label': 'O',\n",
    "                                    'type': 'ai'}}\n",
    "\n",
    "        \n",
    "    elif self.setup == 'auto':\n",
    "      first = random.choice(['X', 'O'])\n",
    "      if first == 'O':\n",
    "        self.start_player = 'O'\n",
    "        self.player_meta = {'second': {'label': 'X',\n",
    "                                  'type': 'ai'}, \n",
    "                      'first': {'label': 'O',\n",
    "                                  'type': 'ai'}}                                \n",
    "      else:\n",
    "        self.start_player = 'X'\n",
    "        self.player_meta = {'first': {'label': 'X',\n",
    "                                  'type': 'ai'}, \n",
    "                      'second': {'label': 'O',\n",
    "                                  'type': 'ai'}}\n",
    "      ########## \n",
    "      # and automatically set the ai level otherwise\n",
    "      ##########  \n",
    "      if self.user_ai == None:                           \n",
    "        self.ai_level = 2\n",
    "      else:\n",
    "        self.ai_level = 3\n",
    "\n",
    "  def play_game(self):\n",
    "    while True:\n",
    "      for player in ['first', 'second']:  \n",
    "        self.visualize_board()\n",
    "        player_label = self.player_meta[player]['label']\n",
    "        player_type = self.player_meta[player]['type']\n",
    "\n",
    "        if player_type == 'human':\n",
    "          move = input(\"{}, what's your move?\".format(player_label))\n",
    "          # we're going to allow the user to quit the game from the input line\n",
    "          if move in ['q', 'quit']:\n",
    "            self.winner = 'F'\n",
    "            print('quiting the game')\n",
    "            break\n",
    "\n",
    "          move = int(move)\n",
    "          if self.board[move] != ' ':\n",
    "            while True:\n",
    "              move = input(\"{}, that position is already taken! \"\\\n",
    "                          \"What's your move?\".format(player_label))  \n",
    "              move = int(move)            \n",
    "              if self.board[move] != ' ':\n",
    "                continue\n",
    "              else:\n",
    "                break\n",
    "\n",
    "        else:\n",
    "          ##########\n",
    "          # Our level 1 ai agent (random)\n",
    "          ##########\n",
    "          if self.ai_level == 1:\n",
    "            move = self.random_ai()\n",
    "\n",
    "          ##########\n",
    "          # Our level 2 ai agent (heuristic)\n",
    "          ##########\n",
    "          elif self.ai_level == 2:\n",
    "            move = self.heuristic_ai(player_label)\n",
    "\n",
    "          ##########\n",
    "          # Our user-defined AI agent\n",
    "          ##########\n",
    "          elif self.ai_level == 3:\n",
    "            move = self.user_ai(self.board, self.win_patterns, player_label)\n",
    "\n",
    "        self.board[move] = player_label\n",
    "\n",
    "        # the winner varaible will now be check within the board object\n",
    "        self.check_winning()\n",
    "        self.check_stalemate()\n",
    "\n",
    "        if self.winner == '':\n",
    "          continue\n",
    "\n",
    "        elif self.winner == 'Stalemate':\n",
    "          print(self.check_stalemate())\n",
    "          self.visualize_board()\n",
    "          break\n",
    "\n",
    "        else:\n",
    "          print(self.check_winning())\n",
    "          self.visualize_board()\n",
    "          break\n",
    "      if self.winner != '':\n",
    "        return self"
   ]
  },
  {
   "cell_type": "markdown",
   "metadata": {
    "id": "W-EIcBgQoM9g"
   },
   "source": [
    "Test the `auto` and `user` functions"
   ]
  },
  {
   "cell_type": "code",
   "execution_count": null,
   "metadata": {
    "id": "LDdjNY5alZ4j"
   },
   "outputs": [],
   "source": [
    "game = GameEngine(setup='user', user_ai=one_step_ai)"
   ]
  },
  {
   "cell_type": "code",
   "execution_count": null,
   "metadata": {
    "colab": {
     "base_uri": "https://localhost:8080/"
    },
    "id": "OVZIiOHFlgcP",
    "outputId": "19ec117f-89f8-4827-e2d8-ad097687e72f"
   },
   "outputs": [
    {
     "name": "stdout",
     "output_type": "stream",
     "text": [
      "How many Players? (type 0, 1, or 2)1\n",
      "who will go first? (X, (AI), or O (Player))X\n"
     ]
    }
   ],
   "source": [
    "game.setup_game()"
   ]
  },
  {
   "cell_type": "code",
   "execution_count": null,
   "metadata": {
    "colab": {
     "base_uri": "https://localhost:8080/"
    },
    "id": "dqyC13jTlhvz",
    "outputId": "d23a5b3c-fd2f-4af6-9f12-f2d021e56c23"
   },
   "outputs": [
    {
     "name": "stdout",
     "output_type": "stream",
     "text": [
      "| | | |\n",
      "| | | |\n",
      "| | | |\n",
      "\n",
      "| | | |\n",
      "| | | |\n",
      "| |X| |\n",
      "\n",
      "O, what's your move?5\n",
      "| | | |\n",
      "| |O| |\n",
      "| |X| |\n",
      "\n",
      "| | |X|\n",
      "| |O| |\n",
      "| |X| |\n",
      "\n",
      "O, what's your move?4\n",
      "| | |X|\n",
      "|O|O| |\n",
      "| |X| |\n",
      "\n",
      "| | |X|\n",
      "|O|O|X|\n",
      "| |X| |\n",
      "\n",
      "O, what's your move?1\n",
      "|O| |X|\n",
      "|O|O|X|\n",
      "| |X| |\n",
      "\n",
      "'X' Won!\n",
      "|O| |X|\n",
      "|O|O|X|\n",
      "| |X|X|\n",
      "\n"
     ]
    },
    {
     "data": {
      "text/plain": [
       "<__main__.GameEngine at 0x7f1f812e7d50>"
      ]
     },
     "execution_count": 65,
     "metadata": {
      "tags": []
     },
     "output_type": "execute_result"
    }
   ],
   "source": [
    "game.play_game()"
   ]
  },
  {
   "cell_type": "markdown",
   "metadata": {
    "id": "ZJa2ljXxoTbC"
   },
   "source": [
    "## 3.3 Write Unit Tests for the New Code"
   ]
  },
  {
   "cell_type": "code",
   "execution_count": null,
   "metadata": {
    "id": "y95JHu4-ltxB"
   },
   "outputs": [],
   "source": [
    "def test_user_ai():\n",
    "  random.seed(42)\n",
    "  game = GameEngine(setup='auto', user_ai=one_step_ai)\n",
    "  game.setup_game()\n",
    "  outcome = game.play_game()\n",
    "  assert outcome.winner == 'X', 'X should have won!'"
   ]
  },
  {
   "cell_type": "code",
   "execution_count": null,
   "metadata": {
    "colab": {
     "base_uri": "https://localhost:8080/"
    },
    "id": "Mz5eYMuHoki-",
    "outputId": "e11977f2-f710-41a1-8e3f-904fd096ee9a"
   },
   "outputs": [
    {
     "name": "stdout",
     "output_type": "stream",
     "text": [
      "| | | |\n",
      "| | | |\n",
      "| | | |\n",
      "\n",
      "|X| | |\n",
      "| | | |\n",
      "| | | |\n",
      "\n",
      "|X| | |\n",
      "| | |O|\n",
      "| | | |\n",
      "\n",
      "|X| |X|\n",
      "| | |O|\n",
      "| | | |\n",
      "\n",
      "|X|O|X|\n",
      "| | |O|\n",
      "| | | |\n",
      "\n",
      "|X|O|X|\n",
      "| |X|O|\n",
      "| | | |\n",
      "\n",
      "|X|O|X|\n",
      "| |X|O|\n",
      "|O| | |\n",
      "\n",
      "'X' Won!\n",
      "|X|O|X|\n",
      "| |X|O|\n",
      "|O| |X|\n",
      "\n"
     ]
    }
   ],
   "source": [
    "test_user_ai()"
   ]
  }
 ],
 "metadata": {
  "colab": {
   "collapsed_sections": [],
   "include_colab_link": true,
   "name": "P3_1_Step_Look_Ahead_Agents.ipynb",
   "provenance": [],
   "toc_visible": true
  },
  "kernelspec": {
   "display_name": "Python 3 (ipykernel)",
   "language": "python",
   "name": "python3"
  },
  "language_info": {
   "codemirror_mode": {
    "name": "ipython",
    "version": 3
   },
   "file_extension": ".py",
   "mimetype": "text/x-python",
   "name": "python",
   "nbconvert_exporter": "python",
   "pygments_lexer": "ipython3",
   "version": "3.9.7"
  }
 },
 "nbformat": 4,
 "nbformat_minor": 4
}
