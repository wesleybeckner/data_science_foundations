{
 "cells": [
  {
   "cell_type": "markdown",
   "metadata": {
    "colab_type": "text",
    "id": "view-in-github"
   },
   "source": [
    "<a href=\"https://colab.research.google.com/github/wesleybeckner/data_science_foundations/blob/main/notebooks/S4_Feature_Engineering.ipynb\" target=\"_parent\"><img src=\"https://colab.research.google.com/assets/colab-badge.svg\" alt=\"Open In Colab\"/></a>"
   ]
  },
  {
   "cell_type": "markdown",
   "metadata": {
    "id": "vhe1yX4AMckE"
   },
   "source": [
    "# Data Science Foundations, Session 4: Feature Engineering\n",
    "\n",
    "**Instructor**: Wesley Beckner\n",
    "\n",
    "**Contact**: wesleybeckner@gmail.com\n",
    "\n",
    "---\n",
    "\n",
    "<br>\n",
    "\n",
    "In the previous session we talked about model pipelines and conveniently began with a suitable set of input data. In the real world, this is hardly ever the case! What is constant is this: at the end of the day, our models need numbers. Not only this, but a suitable set of numbers. What does that mean? The answer to that question is the subject of our session today.\n",
    "\n",
    "<br>\n",
    "\n",
    "---\n",
    "\n",
    "<br>\n",
    "\n",
    "<a name='top'></a>"
   ]
  },
  {
   "cell_type": "markdown",
   "metadata": {
    "id": "mNtJitcRW51Y"
   },
   "source": [
    "<a name='2.0'></a>\n",
    "\n",
    "## 4.0 Preparing Environment and Importing Data\n",
    "\n",
    "[back to top](#top)"
   ]
  },
  {
   "cell_type": "markdown",
   "metadata": {
    "id": "CrAFBDDpt7Ti"
   },
   "source": [
    "<a name='x.0.1'></a>\n",
    "\n",
    "### 4.0.1 Import Packages\n",
    "\n",
    "[back to top](#top)"
   ]
  },
  {
   "cell_type": "code",
   "execution_count": 1,
   "metadata": {
    "colab": {
     "base_uri": "https://localhost:8080/"
    },
    "id": "opk0dXNudzQh",
    "outputId": "a1eb779e-e258-429f-eba6-aa59ca7b0e64"
   },
   "outputs": [],
   "source": [
    "import pandas as pd\n",
    "import numpy as np\n",
    "import datetime\n",
    "import matplotlib.pyplot as plt\n",
    "import plotly.express as px\n",
    "import random\n",
    "import scipy.stats as stats\n",
    "from scipy.stats import gamma\n",
    "from sklearn.preprocessing import OneHotEncoder\n",
    "from statsmodels.stats.outliers_influence import variance_inflation_factor\n",
    "import seaborn as sns; sns.set()\n",
    "from sklearn.datasets import load_iris\n",
    "from sklearn.metrics import mean_squared_error, r2_score"
   ]
  },
  {
   "cell_type": "markdown",
   "metadata": {
    "id": "0U8Pwm0qt94s"
   },
   "source": [
    "<a name='x.0.2'></a>\n",
    "\n",
    "### 4.0.2 Load Dataset\n",
    "\n",
    "[back to top](#top)"
   ]
  },
  {
   "cell_type": "code",
   "execution_count": 2,
   "metadata": {
    "id": "ftLFsMvhd4rl"
   },
   "outputs": [],
   "source": [
    "margin = pd.read_csv('https://raw.githubusercontent.com/wesleybeckner/'\\\n",
    "        'ds_for_engineers/main/data/truffle_margin/truffle_margin_customer.csv')\n",
    "\n",
    "orders = pd.read_csv('https://raw.githubusercontent.com/wesleybeckner/'\\\n",
    "                 'ds_for_engineers/main/data/truffle_margin/truffle_orders.csv')\n",
    "time_cols = [i for i in orders.columns if '/' in i]"
   ]
  },
  {
   "cell_type": "code",
   "execution_count": 3,
   "metadata": {
    "colab": {
     "base_uri": "https://localhost:8080/",
     "height": 206
    },
    "id": "YiGTyTX1f9eO",
    "outputId": "1c95ded0-7e35-4adc-cc38-42379b6817e1"
   },
   "outputs": [
    {
     "data": {
      "text/html": [
       "<div>\n",
       "<style scoped>\n",
       "    .dataframe tbody tr th:only-of-type {\n",
       "        vertical-align: middle;\n",
       "    }\n",
       "\n",
       "    .dataframe tbody tr th {\n",
       "        vertical-align: top;\n",
       "    }\n",
       "\n",
       "    .dataframe thead th {\n",
       "        text-align: right;\n",
       "    }\n",
       "</style>\n",
       "<table border=\"1\" class=\"dataframe\">\n",
       "  <thead>\n",
       "    <tr style=\"text-align: right;\">\n",
       "      <th></th>\n",
       "      <th>Base Cake</th>\n",
       "      <th>Truffle Type</th>\n",
       "      <th>Primary Flavor</th>\n",
       "      <th>Secondary Flavor</th>\n",
       "      <th>Color Group</th>\n",
       "      <th>Customer</th>\n",
       "      <th>Date</th>\n",
       "      <th>KG</th>\n",
       "      <th>EBITDA/KG</th>\n",
       "    </tr>\n",
       "  </thead>\n",
       "  <tbody>\n",
       "    <tr>\n",
       "      <th>0</th>\n",
       "      <td>Butter</td>\n",
       "      <td>Candy Outer</td>\n",
       "      <td>Butter Pecan</td>\n",
       "      <td>Toffee</td>\n",
       "      <td>Taupe</td>\n",
       "      <td>Slugworth</td>\n",
       "      <td>1/2020</td>\n",
       "      <td>53770.342593</td>\n",
       "      <td>0.500424</td>\n",
       "    </tr>\n",
       "    <tr>\n",
       "      <th>1</th>\n",
       "      <td>Butter</td>\n",
       "      <td>Candy Outer</td>\n",
       "      <td>Ginger Lime</td>\n",
       "      <td>Banana</td>\n",
       "      <td>Amethyst</td>\n",
       "      <td>Slugworth</td>\n",
       "      <td>1/2020</td>\n",
       "      <td>466477.578125</td>\n",
       "      <td>0.220395</td>\n",
       "    </tr>\n",
       "    <tr>\n",
       "      <th>2</th>\n",
       "      <td>Butter</td>\n",
       "      <td>Candy Outer</td>\n",
       "      <td>Ginger Lime</td>\n",
       "      <td>Banana</td>\n",
       "      <td>Burgundy</td>\n",
       "      <td>Perk-a-Cola</td>\n",
       "      <td>1/2020</td>\n",
       "      <td>80801.728070</td>\n",
       "      <td>0.171014</td>\n",
       "    </tr>\n",
       "    <tr>\n",
       "      <th>3</th>\n",
       "      <td>Butter</td>\n",
       "      <td>Candy Outer</td>\n",
       "      <td>Ginger Lime</td>\n",
       "      <td>Banana</td>\n",
       "      <td>White</td>\n",
       "      <td>Fickelgruber</td>\n",
       "      <td>1/2020</td>\n",
       "      <td>18046.111111</td>\n",
       "      <td>0.233025</td>\n",
       "    </tr>\n",
       "    <tr>\n",
       "      <th>4</th>\n",
       "      <td>Butter</td>\n",
       "      <td>Candy Outer</td>\n",
       "      <td>Ginger Lime</td>\n",
       "      <td>Rum</td>\n",
       "      <td>Amethyst</td>\n",
       "      <td>Fickelgruber</td>\n",
       "      <td>1/2020</td>\n",
       "      <td>19147.454268</td>\n",
       "      <td>0.480689</td>\n",
       "    </tr>\n",
       "  </tbody>\n",
       "</table>\n",
       "</div>"
      ],
      "text/plain": [
       "  Base Cake Truffle Type Primary Flavor Secondary Flavor Color Group  \\\n",
       "0    Butter  Candy Outer   Butter Pecan           Toffee       Taupe   \n",
       "1    Butter  Candy Outer    Ginger Lime           Banana    Amethyst   \n",
       "2    Butter  Candy Outer    Ginger Lime           Banana    Burgundy   \n",
       "3    Butter  Candy Outer    Ginger Lime           Banana       White   \n",
       "4    Butter  Candy Outer    Ginger Lime              Rum    Amethyst   \n",
       "\n",
       "       Customer    Date             KG  EBITDA/KG  \n",
       "0     Slugworth  1/2020   53770.342593   0.500424  \n",
       "1     Slugworth  1/2020  466477.578125   0.220395  \n",
       "2   Perk-a-Cola  1/2020   80801.728070   0.171014  \n",
       "3  Fickelgruber  1/2020   18046.111111   0.233025  \n",
       "4  Fickelgruber  1/2020   19147.454268   0.480689  "
      ]
     },
     "execution_count": 3,
     "metadata": {},
     "output_type": "execute_result"
    }
   ],
   "source": [
    "margin.head()"
   ]
  },
  {
   "cell_type": "code",
   "execution_count": 4,
   "metadata": {
    "colab": {
     "base_uri": "https://localhost:8080/"
    },
    "id": "GhdXjuhTrYk2",
    "outputId": "73745dbf-31bb-4a1b-ffa9-3630c731e883"
   },
   "outputs": [
    {
     "data": {
      "text/plain": [
       "Index(['Base Cake', 'Truffle Type', 'Primary Flavor', 'Secondary Flavor',\n",
       "       'Color Group', 'Customer', 'Date'],\n",
       "      dtype='object')"
      ]
     },
     "execution_count": 4,
     "metadata": {},
     "output_type": "execute_result"
    }
   ],
   "source": [
    "dfcat = margin.columns[:-2]\n",
    "dfcat"
   ]
  },
  {
   "cell_type": "code",
   "execution_count": 5,
   "metadata": {
    "colab": {
     "base_uri": "https://localhost:8080/",
     "height": 328
    },
    "id": "WrfhZot3VmZG",
    "outputId": "cf03599d-abf4-4c0f-ce9b-1fa93f0b9e32"
   },
   "outputs": [
    {
     "data": {
      "text/html": [
       "<div>\n",
       "<style scoped>\n",
       "    .dataframe tbody tr th:only-of-type {\n",
       "        vertical-align: middle;\n",
       "    }\n",
       "\n",
       "    .dataframe tbody tr th {\n",
       "        vertical-align: top;\n",
       "    }\n",
       "\n",
       "    .dataframe thead th {\n",
       "        text-align: right;\n",
       "    }\n",
       "</style>\n",
       "<table border=\"1\" class=\"dataframe\">\n",
       "  <thead>\n",
       "    <tr style=\"text-align: right;\">\n",
       "      <th></th>\n",
       "      <th>Base Cake</th>\n",
       "      <th>Truffle Type</th>\n",
       "      <th>Primary Flavor</th>\n",
       "      <th>Secondary Flavor</th>\n",
       "      <th>Color Group</th>\n",
       "      <th>Customer</th>\n",
       "      <th>1/2020</th>\n",
       "      <th>2/2020</th>\n",
       "      <th>3/2020</th>\n",
       "      <th>4/2020</th>\n",
       "      <th>5/2020</th>\n",
       "      <th>6/2020</th>\n",
       "      <th>7/2020</th>\n",
       "      <th>8/2020</th>\n",
       "      <th>9/2020</th>\n",
       "      <th>10/2020</th>\n",
       "      <th>11/2020</th>\n",
       "      <th>12/2020</th>\n",
       "    </tr>\n",
       "  </thead>\n",
       "  <tbody>\n",
       "    <tr>\n",
       "      <th>0</th>\n",
       "      <td>Butter</td>\n",
       "      <td>Candy Outer</td>\n",
       "      <td>Butter Pecan</td>\n",
       "      <td>Toffee</td>\n",
       "      <td>Taupe</td>\n",
       "      <td>Slugworth</td>\n",
       "      <td>53770.342593</td>\n",
       "      <td>40735.108025</td>\n",
       "      <td>40735.108025</td>\n",
       "      <td>40735.108025</td>\n",
       "      <td>53770.342593</td>\n",
       "      <td>40735.108025</td>\n",
       "      <td>40735.108025</td>\n",
       "      <td>40735.108025</td>\n",
       "      <td>53770.342593</td>\n",
       "      <td>40735.108025</td>\n",
       "      <td>40735.108025</td>\n",
       "      <td>40735.108025</td>\n",
       "    </tr>\n",
       "    <tr>\n",
       "      <th>1</th>\n",
       "      <td>Butter</td>\n",
       "      <td>Candy Outer</td>\n",
       "      <td>Ginger Lime</td>\n",
       "      <td>Banana</td>\n",
       "      <td>Amethyst</td>\n",
       "      <td>Slugworth</td>\n",
       "      <td>466477.578125</td>\n",
       "      <td>299024.088542</td>\n",
       "      <td>466477.578125</td>\n",
       "      <td>299024.088542</td>\n",
       "      <td>466477.578125</td>\n",
       "      <td>299024.088542</td>\n",
       "      <td>466477.578125</td>\n",
       "      <td>299024.088542</td>\n",
       "      <td>466477.578125</td>\n",
       "      <td>299024.088542</td>\n",
       "      <td>466477.578125</td>\n",
       "      <td>299024.088542</td>\n",
       "    </tr>\n",
       "    <tr>\n",
       "      <th>2</th>\n",
       "      <td>Butter</td>\n",
       "      <td>Candy Outer</td>\n",
       "      <td>Ginger Lime</td>\n",
       "      <td>Banana</td>\n",
       "      <td>Burgundy</td>\n",
       "      <td>Perk-a-Cola</td>\n",
       "      <td>80801.728070</td>\n",
       "      <td>51795.979532</td>\n",
       "      <td>51795.979532</td>\n",
       "      <td>51795.979532</td>\n",
       "      <td>80801.728070</td>\n",
       "      <td>51795.979532</td>\n",
       "      <td>51795.979532</td>\n",
       "      <td>51795.979532</td>\n",
       "      <td>80801.728070</td>\n",
       "      <td>51795.979532</td>\n",
       "      <td>51795.979532</td>\n",
       "      <td>51795.979532</td>\n",
       "    </tr>\n",
       "    <tr>\n",
       "      <th>3</th>\n",
       "      <td>Butter</td>\n",
       "      <td>Candy Outer</td>\n",
       "      <td>Ginger Lime</td>\n",
       "      <td>Banana</td>\n",
       "      <td>White</td>\n",
       "      <td>Fickelgruber</td>\n",
       "      <td>18046.111111</td>\n",
       "      <td>13671.296296</td>\n",
       "      <td>13671.296296</td>\n",
       "      <td>13671.296296</td>\n",
       "      <td>18046.111111</td>\n",
       "      <td>13671.296296</td>\n",
       "      <td>13671.296296</td>\n",
       "      <td>13671.296296</td>\n",
       "      <td>18046.111111</td>\n",
       "      <td>13671.296296</td>\n",
       "      <td>13671.296296</td>\n",
       "      <td>13671.296296</td>\n",
       "    </tr>\n",
       "    <tr>\n",
       "      <th>4</th>\n",
       "      <td>Butter</td>\n",
       "      <td>Candy Outer</td>\n",
       "      <td>Ginger Lime</td>\n",
       "      <td>Rum</td>\n",
       "      <td>Amethyst</td>\n",
       "      <td>Fickelgruber</td>\n",
       "      <td>19147.454268</td>\n",
       "      <td>12274.009146</td>\n",
       "      <td>12274.009146</td>\n",
       "      <td>12274.009146</td>\n",
       "      <td>12274.009146</td>\n",
       "      <td>12274.009146</td>\n",
       "      <td>19147.454268</td>\n",
       "      <td>12274.009146</td>\n",
       "      <td>12274.009146</td>\n",
       "      <td>12274.009146</td>\n",
       "      <td>12274.009146</td>\n",
       "      <td>12274.009146</td>\n",
       "    </tr>\n",
       "  </tbody>\n",
       "</table>\n",
       "</div>"
      ],
      "text/plain": [
       "  Base Cake Truffle Type Primary Flavor Secondary Flavor Color Group  \\\n",
       "0    Butter  Candy Outer   Butter Pecan           Toffee       Taupe   \n",
       "1    Butter  Candy Outer    Ginger Lime           Banana    Amethyst   \n",
       "2    Butter  Candy Outer    Ginger Lime           Banana    Burgundy   \n",
       "3    Butter  Candy Outer    Ginger Lime           Banana       White   \n",
       "4    Butter  Candy Outer    Ginger Lime              Rum    Amethyst   \n",
       "\n",
       "       Customer         1/2020         2/2020         3/2020         4/2020  \\\n",
       "0     Slugworth   53770.342593   40735.108025   40735.108025   40735.108025   \n",
       "1     Slugworth  466477.578125  299024.088542  466477.578125  299024.088542   \n",
       "2   Perk-a-Cola   80801.728070   51795.979532   51795.979532   51795.979532   \n",
       "3  Fickelgruber   18046.111111   13671.296296   13671.296296   13671.296296   \n",
       "4  Fickelgruber   19147.454268   12274.009146   12274.009146   12274.009146   \n",
       "\n",
       "          5/2020         6/2020         7/2020         8/2020         9/2020  \\\n",
       "0   53770.342593   40735.108025   40735.108025   40735.108025   53770.342593   \n",
       "1  466477.578125  299024.088542  466477.578125  299024.088542  466477.578125   \n",
       "2   80801.728070   51795.979532   51795.979532   51795.979532   80801.728070   \n",
       "3   18046.111111   13671.296296   13671.296296   13671.296296   18046.111111   \n",
       "4   12274.009146   12274.009146   19147.454268   12274.009146   12274.009146   \n",
       "\n",
       "         10/2020        11/2020        12/2020  \n",
       "0   40735.108025   40735.108025   40735.108025  \n",
       "1  299024.088542  466477.578125  299024.088542  \n",
       "2   51795.979532   51795.979532   51795.979532  \n",
       "3   13671.296296   13671.296296   13671.296296  \n",
       "4   12274.009146   12274.009146   12274.009146  "
      ]
     },
     "execution_count": 5,
     "metadata": {},
     "output_type": "execute_result"
    }
   ],
   "source": [
    "orders.head()"
   ]
  },
  {
   "cell_type": "markdown",
   "metadata": {
    "id": "062Czp9-rBOi"
   },
   "source": [
    "<a name='2.1'></a>\n",
    "\n",
    "## 4.1 Categorical Features\n",
    "\n",
    "[back to top](#top)\n",
    "\n",
    "At the end of the day, our algorithms operate on numerical values. How do you get from a series of string values to numerical values? "
   ]
  },
  {
   "cell_type": "code",
   "execution_count": 6,
   "metadata": {
    "colab": {
     "base_uri": "https://localhost:8080/"
    },
    "id": "pl2VTgnphIDe",
    "outputId": "8405b208-38d1-4715-f92c-3114ea829700"
   },
   "outputs": [
    {
     "data": {
      "text/plain": [
       "array(['Slugworth', 'Perk-a-Cola', 'Fickelgruber', 'Zebrabar',\n",
       "       \"Dandy's Candies\"], dtype=object)"
      ]
     },
     "execution_count": 6,
     "metadata": {},
     "output_type": "execute_result"
    }
   ],
   "source": [
    "margin['Customer'].unique()"
   ]
  },
  {
   "cell_type": "markdown",
   "metadata": {
    "id": "xhuUS262iNnb"
   },
   "source": [
    "A naive way to do it would be to assign a number to every entry\n",
    "```\n",
    "'Slugworth' = 1\n",
    "'Perk-a-Cola' = 2\n",
    "'Dandy's Candies' = 3\n",
    "```\n",
    "but we would inadvertently end up with some weird mathematical relationships between these variables, e.g. `Dandy's Candies - Perk-a-Cola = Slugworth` (3 - 2 = 1). \n",
    "\n",
    "A work around for this is to think *multi-dimensionally* we express our categorical values as vectors in a hyperspace where they cannot be expressed in terms of one another, i.e. they are *orthogonal* \n",
    "```\n",
    "'Slugworth' = [1,0,0]\n",
    "'Perk-a-Cola' = [0,1,0]\n",
    "'Dandy's Candies' = [0,0,1]\n",
    "```\n",
    "such a scheme, in machine learning vernacular, is termed one-hot encoding. "
   ]
  },
  {
   "cell_type": "markdown",
   "metadata": {
    "id": "55mP5wbmn7NG"
   },
   "source": [
    "<a name='2.1.1'></a>\n",
    "\n",
    "### 4.1.1 One-Hot Encoding\n",
    "\n",
    "[back to top](#top)\n",
    "\n",
    "sklearn has a couple useful libraries for one-hot encoding. let's start with the `OneHotEncoder` class in its `preprocessing` library"
   ]
  },
  {
   "cell_type": "code",
   "execution_count": 7,
   "metadata": {
    "id": "zyP3rWKspz-O"
   },
   "outputs": [],
   "source": [
    "from sklearn.preprocessing import OneHotEncoder"
   ]
  },
  {
   "cell_type": "code",
   "execution_count": 8,
   "metadata": {
    "colab": {
     "base_uri": "https://localhost:8080/"
    },
    "id": "LY9hpoiOp0XY",
    "outputId": "12c2cc8b-fc8b-4d6c-c883-8ae796595795"
   },
   "outputs": [
    {
     "data": {
      "text/plain": [
       "OneHotEncoder()"
      ]
     },
     "execution_count": 8,
     "metadata": {},
     "output_type": "execute_result"
    }
   ],
   "source": [
    "# create the encoder object\n",
    "enc = OneHotEncoder()\n",
    "\n",
    "# grab the columns we want to convert from strings\n",
    "X_cat = margin['Customer'].values.reshape(-1,1)\n",
    "\n",
    "# fit our encoder to this data\n",
    "enc.fit(X_cat)"
   ]
  },
  {
   "cell_type": "markdown",
   "metadata": {
    "id": "zrJxAeHZrHLw"
   },
   "source": [
    "After fitting our encoder, we can then use this object to create our training array."
   ]
  },
  {
   "cell_type": "code",
   "execution_count": 9,
   "metadata": {
    "colab": {
     "base_uri": "https://localhost:8080/",
     "height": 439
    },
    "id": "uDcxWukfrMzX",
    "outputId": "354d9fa7-b6f9-43a6-8c27-f7fa715a8b49"
   },
   "outputs": [
    {
     "data": {
      "text/plain": [
       "array([['Slugworth'],\n",
       "       ['Slugworth'],\n",
       "       ['Perk-a-Cola'],\n",
       "       ['Fickelgruber'],\n",
       "       ['Fickelgruber'],\n",
       "       ['Fickelgruber'],\n",
       "       ['Slugworth'],\n",
       "       ['Zebrabar'],\n",
       "       ['Slugworth'],\n",
       "       ['Zebrabar']], dtype=object)"
      ]
     },
     "metadata": {},
     "output_type": "display_data"
    },
    {
     "name": "stdout",
     "output_type": "stream",
     "text": [
      "(1668, 1)\n",
      "\n",
      "(1668, 5)\n",
      "\n"
     ]
    },
    {
     "data": {
      "text/plain": [
       "array([[0., 0., 0., 1., 0.],\n",
       "       [0., 0., 0., 1., 0.],\n",
       "       [0., 0., 1., 0., 0.],\n",
       "       [0., 1., 0., 0., 0.],\n",
       "       [0., 1., 0., 0., 0.],\n",
       "       [0., 1., 0., 0., 0.],\n",
       "       [0., 0., 0., 1., 0.],\n",
       "       [0., 0., 0., 0., 1.],\n",
       "       [0., 0., 0., 1., 0.],\n",
       "       [0., 0., 0., 0., 1.]])"
      ]
     },
     "execution_count": 9,
     "metadata": {},
     "output_type": "execute_result"
    }
   ],
   "source": [
    "# as a reference here's our original data\n",
    "display(X_cat[:10])\n",
    "print(X_cat.shape, end='\\n\\n')\n",
    "\n",
    "onehotlabels = enc.transform(X_cat).toarray()\n",
    "print(onehotlabels.shape, end='\\n\\n')\n",
    "\n",
    "# And here is our new data\n",
    "onehotlabels[:10]"
   ]
  },
  {
   "cell_type": "markdown",
   "metadata": {
    "id": "yw2YefUR0pPH"
   },
   "source": [
    "We have our customer information one-hot encoded, we need to do this for all our variables and concatenate them with our regular numerical variables in our original dataframe."
   ]
  },
  {
   "cell_type": "code",
   "execution_count": 10,
   "metadata": {
    "id": "nhwqOu6XWMzs"
   },
   "outputs": [],
   "source": [
    "# create the encoder object\n",
    "enc = OneHotEncoder()\n",
    "\n",
    "# grab the columns we want to convert from strings\n",
    "X_cat = margin[dfcat].values\n",
    "\n",
    "# fit our encoder to this data\n",
    "enc.fit(X_cat)\n",
    "onehotlabels = enc.transform(X_cat).toarray()"
   ]
  },
  {
   "cell_type": "code",
   "execution_count": 11,
   "metadata": {
    "colab": {
     "base_uri": "https://localhost:8080/"
    },
    "id": "k9nih1_iqaq1",
    "outputId": "5a2f892d-a6b0-459e-c0ec-ab61be2ca151"
   },
   "outputs": [
    {
     "name": "stdout",
     "output_type": "stream",
     "text": [
      "(1668,)\n"
     ]
    },
    {
     "data": {
      "text/plain": [
       "(1668, 119)"
      ]
     },
     "execution_count": 11,
     "metadata": {},
     "output_type": "execute_result"
    }
   ],
   "source": [
    "X_num = margin[\"KG\"]\n",
    "print(X_num.shape)\n",
    "X = np.concatenate((onehotlabels, X_num.values.reshape(-1,1)),axis=1)\n",
    "X.shape"
   ]
  },
  {
   "cell_type": "markdown",
   "metadata": {
    "id": "ai_PNhJf1Idd"
   },
   "source": [
    "And now we grab our EBITDA (margin) data for prediction"
   ]
  },
  {
   "cell_type": "code",
   "execution_count": 14,
   "metadata": {
    "id": "B5ZtnP1K0kYU"
   },
   "outputs": [],
   "source": [
    "y = margin[\"EBITDA/KG\"]"
   ]
  },
  {
   "cell_type": "markdown",
   "metadata": {
    "id": "gdOkg2-t1UIA"
   },
   "source": [
    "#### 🏋️ Exercise 1: Create a simple linear model\n",
    "\n",
    "Using the `X` and `y` sets, use `train_test_split` and `LinearRegression` to make a baseline model based on what we've learned so far.\n",
    "\n",
    "Assess your model performance visually by plottying `y_test` vs `y_test_pred`"
   ]
  },
  {
   "cell_type": "code",
   "execution_count": 18,
   "metadata": {
    "colab": {
     "base_uri": "https://localhost:8080/",
     "height": 285
    },
    "id": "eCoCoXT82RoS",
    "outputId": "a4ea600c-9faf-4742-d7df-6449f0b7bb6c"
   },
   "outputs": [
    {
     "data": {
      "text/plain": [
       "[<matplotlib.lines.Line2D at 0x7fa4b01f90d0>]"
      ]
     },
     "execution_count": 18,
     "metadata": {},
     "output_type": "execute_result"
    },
    {
     "data": {
      "image/png": "[encoded data removed]",
      "text/plain": [
       "<Figure size 360x360 with 1 Axes>"
      ]
     },
     "metadata": {},
     "output_type": "display_data"
    }
   ],
   "source": [
    "# Cell for Exercise 1\n",
    "from sklearn.model_selection import train_test_split\n",
    "from sklearn.linear_model import LinearRegression\n"
   ]
  },
  {
   "cell_type": "markdown",
   "metadata": {
    "id": "JFbTDtjdJR-M"
   },
   "source": [
    "#### 🙋 Question 1:\n",
    "\n",
    "> How can we assess the relative feature importance of the features in our model?\n",
    "\n",
    "We could be tempted to inspect the coefficients (`linear.coef_`) of our  model to evaluate the relative feature importance, but in order to do this our features need to be scaled (so that the relative coefficient sizes are meaningful). What other issues might there be (think categorical vs continuous variables). "
   ]
  },
  {
   "cell_type": "markdown",
   "metadata": {
    "id": "fi29Zh-GuWRL"
   },
   "source": [
    "<a name='2.2'></a>\n",
    "\n",
    "## 4.2 Derived Features\n",
    "\n",
    "[back to top](#top)\n",
    "\n",
    "Can we recall an example of where we've seen this previously? That's right earlier on in our session on model selection and validation we derived some polynomial features to create our polynomial model using the linear regression class in sklearn. \n",
    "\n",
    "We actually see this a lot in engineering, where we will describe log relationships or some other transformation of the original variable. Actually let me see if I can find an example in my handy BSL...\n",
    "\n",
    "<img src=\"https://raw.githubusercontent.com/wesleybeckner/ds_for_engineers/main/assets/C2/bird_stewart_lightfoot.jpg\" width=500px></img>\n",
    "\n",
    "<small>concentration profiles in continous stirred tank vs plug flow reactors. Notice the y-axis is log scale. Thanks Bird, Stewart, Lightfoot!</small>\n",
    "\n",
    "> Can we think of other examples where we would like to derive features from our input data?"
   ]
  },
  {
   "cell_type": "markdown",
   "metadata": {
    "id": "a7zdrdPfrW1s"
   },
   "source": [
    "<a name='2.2.1'></a>\n",
    "\n",
    "### 4.2.1 Creating Polynomials\n",
    "\n",
    "[back to top](#top)\n",
    "\n",
    "Let's revisit our example from the previous session, right before we introduced Grid Search in sklearn"
   ]
  },
  {
   "cell_type": "code",
   "execution_count": 19,
   "metadata": {
    "id": "nsmdIQsfFKpD"
   },
   "outputs": [],
   "source": [
    "# from Model Selection and Validation, 1.2.1\n",
    "from sklearn.preprocessing import PolynomialFeatures\n",
    "from sklearn.linear_model import LinearRegression\n",
    "from sklearn.pipeline import make_pipeline\n",
    "\n",
    "def PolynomialRegression(degree=2, **kwargs):\n",
    "    return make_pipeline(PolynomialFeatures(degree),\n",
    "                         LinearRegression(**kwargs))"
   ]
  },
  {
   "cell_type": "markdown",
   "metadata": {
    "id": "ab1whG6oFR_Q"
   },
   "source": [
    "in the above, we use sklearn's convenient tool, `make_pipeline` to join together the preprocessing tool `PolynomialFeatures` and the basic model `LinearRegression`. Let's take a look at what PolynomialFeatures does to some simple data"
   ]
  },
  {
   "cell_type": "code",
   "execution_count": 20,
   "metadata": {
    "colab": {
     "base_uri": "https://localhost:8080/"
    },
    "id": "IkW_5KXmGNuM",
    "outputId": "937c1d18-bb46-4392-fe73-62fa71e69d10"
   },
   "outputs": [
    {
     "name": "stdout",
     "output_type": "stream",
     "text": [
      "[ 1  2  3  4  5  6  7  8  9 10]\n",
      "[   1    8   27   64  125  216  343  512  729 1000]\n"
     ]
    }
   ],
   "source": [
    "x = np.arange(1,11)\n",
    "y = x**3\n",
    "print(x)\n",
    "print(y)"
   ]
  },
  {
   "cell_type": "code",
   "execution_count": 22,
   "metadata": {
    "id": "j5GRg9hIGibq"
   },
   "outputs": [],
   "source": [
    "features = PolynomialFeatures(degree=3)\n",
    "X2 = features.fit_transform(x.reshape(-1,1))"
   ]
  },
  {
   "cell_type": "markdown",
   "metadata": {
    "id": "-A3LpbueHAeA"
   },
   "source": [
    "we see our new feature set contains our original features, plus new features up to the nth-degree polynomial we set when creating the features object from `PolynomialFeatures`"
   ]
  },
  {
   "cell_type": "code",
   "execution_count": 23,
   "metadata": {
    "colab": {
     "base_uri": "https://localhost:8080/"
    },
    "id": "xggKzHQrGsNG",
    "outputId": "d8f4296e-587e-4b75-9d6b-11adcc91d465"
   },
   "outputs": [
    {
     "name": "stdout",
     "output_type": "stream",
     "text": [
      "[[   1.    1.    1.    1.]\n",
      " [   1.    2.    4.    8.]\n",
      " [   1.    3.    9.   27.]\n",
      " [   1.    4.   16.   64.]\n",
      " [   1.    5.   25.  125.]\n",
      " [   1.    6.   36.  216.]\n",
      " [   1.    7.   49.  343.]\n",
      " [   1.    8.   64.  512.]\n",
      " [   1.    9.   81.  729.]\n",
      " [   1.   10.  100. 1000.]]\n"
     ]
    }
   ],
   "source": [
    "print(X2)"
   ]
  },
  {
   "cell_type": "code",
   "execution_count": 24,
   "metadata": {
    "colab": {
     "base_uri": "https://localhost:8080/",
     "height": 268
    },
    "id": "ffsEERkJHMbY",
    "outputId": "71cdad24-ee5e-4126-d4b9-ea2732d61f15"
   },
   "outputs": [
    {
     "data": {
      "image/png": "[encoded data removed]",
      "text/plain": [
       "<Figure size 432x288 with 1 Axes>"
      ]
     },
     "metadata": {},
     "output_type": "display_data"
    }
   ],
   "source": [
    "model = LinearRegression().fit(X2, y)\n",
    "yhat = model.predict(X2)\n",
    "plt.scatter(x, y)\n",
    "plt.plot(x, yhat);"
   ]
  },
  {
   "cell_type": "markdown",
   "metadata": {
    "id": "X5h_E2GTwJfR"
   },
   "source": [
    "<a name='2.2.2'></a>\n",
    "\n",
    "### 4.2.2 Dealing with Time Series\n",
    "\n",
    "[back to top](#top)\n",
    "\n",
    "Often, we will be dealing with time series data, whether its data generated by machinery, reactors, or sales and customers. In the following we discuss some simple practices for dealing with time series data."
   ]
  },
  {
   "cell_type": "markdown",
   "metadata": {
    "id": "fcTkufrvrWv3"
   },
   "source": [
    "<a name='2.2.2.1'></a>\n",
    "\n",
    "#### 🍒 4.2.2.1 **Enrichment**: Fast Fourier Transform\n",
    "\n",
    "_Special thanks to [Brian Gerwe](https://github.com/BGerwe) for his contribution to this section_ 👨‍🍳\n",
    "\n",
    "[back to top](#top)\n",
    "\n",
    "Sometimes we'll want to create a more sophisticated transformation of our input data. As engineers, this can often have to do with some empirical knowledge we understand about our process.\n",
    "\n",
    "When working with equipment and machinery, we will often want to convert a signal from the time to frequency domain. Let's cover how we can do that with numpy!\n",
    "\n",
    "<img src=\"https://www.nti-audio.com/portals/0/pic/news/FFT-Time-Frequency-View-540.png\" width=400px></img>"
   ]
  },
  {
   "cell_type": "markdown",
   "metadata": {
    "id": "_AmjYiCPosd1"
   },
   "source": [
    "<small>[img src](https://www.nti-audio.com/en/support/know-how/fast-fourier-transform-fft)</small>\n",
    "\n",
    "What I've drawn here in the following is called a [square-wave signal](https://en.wikipedia.org/wiki/Square_wave)"
   ]
  },
  {
   "cell_type": "code",
   "execution_count": 27,
   "metadata": {
    "colab": {
     "base_uri": "https://localhost:8080/",
     "height": 355
    },
    "id": "NkSy_rmGn_mK",
    "outputId": "54c4810f-ca25-45b0-aaeb-5c089c7140ce"
   },
   "outputs": [
    {
     "data": {
      "text/plain": [
       "Text(0.5, 1.0, 'Frequency Domain')"
      ]
     },
     "execution_count": 27,
     "metadata": {},
     "output_type": "execute_result"
    },
    {
     "data": {
      "image/png": "[encoded data removed]",
      "text/plain": [
       "<Figure size 720x360 with 2 Axes>"
      ]
     },
     "metadata": {},
     "output_type": "display_data"
    }
   ],
   "source": [
    "t = np.linspace(0,1,501)\n",
    "# FFT should be given an integer number of cycles so we leave out last sample\n",
    "t = t[:-1] \n",
    "f = 5 # linear frequency in Hz\n",
    "w = f * 2 * np.pi # radial frequency\n",
    "h = 4 # height of square wave\n",
    "amp = 4 * h / np.pi\n",
    "s = amp * (np.sin(w*t) + np.sin(3*w*t)/3 + np.sin(5*w*t)/5)\n",
    "\n",
    "# here is the call to numpy FFT\n",
    "F = np.fft.fft(s)\n",
    "freq = np.fft.fftfreq(t.shape[-1], d=t[1])\n",
    "\n",
    "# reorder frequency spectrum and frequency bins with 0 Hz at the center\n",
    "F = np.fft.fftshift(F)\n",
    "freq = np.fft.fftshift(freq)\n",
    "# scale frequency spectrum to correct amplitude\n",
    "F = F / t.size\n",
    "\n",
    "# amplitudes\n",
    "amps = [max(np.sin(w*t)), max(np.sin(w*t*3)/3), max(np.sin(w*t*5)/5)]\n",
    "\n",
    "fig, ax = plt.subplots(1,2,figsize=(10,5))\n",
    "\n",
    "ax[0].plot(t,s)\n",
    "ax[0].plot(t,amp * np.sin(w*t), ls='--')\n",
    "ax[0].plot(t,amp * np.sin(w*t*3)/3, ls='--')\n",
    "ax[0].plot(t,amp * np.sin(w*t*5)/5, ls='--')\n",
    "ax[0].set_title('Time Domain')\n",
    "ax[0].set_xlim(0, 1)\n",
    "ax[0].set_xlabel('Time (s)')\n",
    "\n",
    "# tells us about the amplitude of the component at the\n",
    "# corresponding frequency. Multiplied by two because the\n",
    "# signal power is split between (-) and (+) frequency branches\n",
    "# of FFT, but we're only visualizing the (+) branch\n",
    "magnitude = 2 * np.sqrt(F.real**2 + F.imag**2)\n",
    "\n",
    "ax[1].plot(freq, magnitude)\n",
    "ax[1].set_xlim(0, 30)\n",
    "ax[1].set_xlabel('Frequency (Hz)')\n",
    "ax[1].set_title('Frequency Domain')"
   ]
  },
  {
   "cell_type": "markdown",
   "metadata": {
    "id": "PGIGgSDCx7uM"
   },
   "source": [
    "<a name='x.2.2.2'></a>\n",
    "\n",
    "#### 4.2.2.2 Rolling Windows\n",
    "\n",
    "[back to top](#top)\n",
    "\n",
    "> to see an example of this dataset in action [visit this link](http://truffletopia.azurewebsites.net/forecast/)\n",
    "\n",
    "One powerful technique for dealing with time series data, is to create a rolling window of features based on the historical data. The proper window size can usually be determined by trial and error, or constraints around access to the data itself.\n",
    "\n",
    "<p align=center>\n",
    "<img src=\"https://cdn.analyticsvidhya.com/wp-content/uploads/2019/11/3hotmk.gif\"></img>\n",
    "</p>\n",
    "\n",
    "In the above gif, we have a window size of 7. What that means is for whatever time step units we are in (that could be minutes, days, months, etc.) we will have 7 of them included in a single instance or observation. This instance or observation is then interpreted by our model and used to assess the target value, typically the quantity in the very next time step after the window (the green bar in the gif)."
   ]
  },
  {
   "cell_type": "markdown",
   "metadata": {},
   "source": [
    "Let's take an example with the orders data"
   ]
  },
  {
   "cell_type": "code",
   "execution_count": 52,
   "metadata": {},
   "outputs": [
    {
     "data": {
      "text/html": [
       "<div>\n",
       "<style scoped>\n",
       "    .dataframe tbody tr th:only-of-type {\n",
       "        vertical-align: middle;\n",
       "    }\n",
       "\n",
       "    .dataframe tbody tr th {\n",
       "        vertical-align: top;\n",
       "    }\n",
       "\n",
       "    .dataframe thead th {\n",
       "        text-align: right;\n",
       "    }\n",
       "</style>\n",
       "<table border=\"1\" class=\"dataframe\">\n",
       "  <thead>\n",
       "    <tr style=\"text-align: right;\">\n",
       "      <th></th>\n",
       "      <th>Base Cake</th>\n",
       "      <th>Truffle Type</th>\n",
       "      <th>Primary Flavor</th>\n",
       "      <th>Secondary Flavor</th>\n",
       "      <th>Color Group</th>\n",
       "      <th>Customer</th>\n",
       "      <th>Date</th>\n",
       "      <th>KG</th>\n",
       "    </tr>\n",
       "  </thead>\n",
       "  <tbody>\n",
       "    <tr>\n",
       "      <th>0</th>\n",
       "      <td>Butter</td>\n",
       "      <td>Candy Outer</td>\n",
       "      <td>Butter Pecan</td>\n",
       "      <td>Toffee</td>\n",
       "      <td>Taupe</td>\n",
       "      <td>Slugworth</td>\n",
       "      <td>1/2020</td>\n",
       "      <td>53770.342593</td>\n",
       "    </tr>\n",
       "    <tr>\n",
       "      <th>1</th>\n",
       "      <td>Butter</td>\n",
       "      <td>Candy Outer</td>\n",
       "      <td>Ginger Lime</td>\n",
       "      <td>Banana</td>\n",
       "      <td>Amethyst</td>\n",
       "      <td>Slugworth</td>\n",
       "      <td>1/2020</td>\n",
       "      <td>466477.578125</td>\n",
       "    </tr>\n",
       "    <tr>\n",
       "      <th>2</th>\n",
       "      <td>Butter</td>\n",
       "      <td>Candy Outer</td>\n",
       "      <td>Ginger Lime</td>\n",
       "      <td>Banana</td>\n",
       "      <td>Burgundy</td>\n",
       "      <td>Perk-a-Cola</td>\n",
       "      <td>1/2020</td>\n",
       "      <td>80801.728070</td>\n",
       "    </tr>\n",
       "    <tr>\n",
       "      <th>3</th>\n",
       "      <td>Butter</td>\n",
       "      <td>Candy Outer</td>\n",
       "      <td>Ginger Lime</td>\n",
       "      <td>Banana</td>\n",
       "      <td>White</td>\n",
       "      <td>Fickelgruber</td>\n",
       "      <td>1/2020</td>\n",
       "      <td>18046.111111</td>\n",
       "    </tr>\n",
       "    <tr>\n",
       "      <th>4</th>\n",
       "      <td>Butter</td>\n",
       "      <td>Candy Outer</td>\n",
       "      <td>Ginger Lime</td>\n",
       "      <td>Rum</td>\n",
       "      <td>Amethyst</td>\n",
       "      <td>Fickelgruber</td>\n",
       "      <td>1/2020</td>\n",
       "      <td>19147.454268</td>\n",
       "    </tr>\n",
       "  </tbody>\n",
       "</table>\n",
       "</div>"
      ],
      "text/plain": [
       "  Base Cake Truffle Type Primary Flavor Secondary Flavor Color Group  \\\n",
       "0    Butter  Candy Outer   Butter Pecan           Toffee       Taupe   \n",
       "1    Butter  Candy Outer    Ginger Lime           Banana    Amethyst   \n",
       "2    Butter  Candy Outer    Ginger Lime           Banana    Burgundy   \n",
       "3    Butter  Candy Outer    Ginger Lime           Banana       White   \n",
       "4    Butter  Candy Outer    Ginger Lime              Rum    Amethyst   \n",
       "\n",
       "       Customer    Date             KG  \n",
       "0     Slugworth  1/2020   53770.342593  \n",
       "1     Slugworth  1/2020  466477.578125  \n",
       "2   Perk-a-Cola  1/2020   80801.728070  \n",
       "3  Fickelgruber  1/2020   18046.111111  \n",
       "4  Fickelgruber  1/2020   19147.454268  "
      ]
     },
     "metadata": {},
     "output_type": "display_data"
    }
   ],
   "source": [
    "tidy_orders = orders.melt(id_vars=orders.columns[:6], var_name='Date', value_name='KG')\n",
    "display(tidy_orders.head())"
   ]
  },
  {
   "cell_type": "markdown",
   "metadata": {},
   "source": [
    "In the next exercise, we are going to attempt to predict an order amount, based on the previous order history. We will scrub all categorical labels and only use historical amounts to inform our models. In effect the data that the model will see will look like the following:"
   ]
  },
  {
   "cell_type": "code",
   "execution_count": 91,
   "metadata": {},
   "outputs": [
    {
     "data": {
      "image/png": "[encoded data removed]",
      "text/plain": [
       "<Figure size 720x1440 with 6 Axes>"
      ]
     },
     "metadata": {},
     "output_type": "display_data"
    }
   ],
   "source": [
    "fig, ax = plt.subplots(3,2,figsize=(10,20))\n",
    "indices = np.argwhere(ax)\n",
    "color_dict = {0: 'tab:blue',\n",
    "              1: 'tab:green',\n",
    "              2: 'tab:orange',\n",
    "              3: 'tab:red',\n",
    "              4: 'tab:pink',\n",
    "              5: 'tab:brown'}\n",
    "for index, customer in enumerate(tidy_orders.Customer.unique()):\n",
    "  orders.loc[orders.Customer == customer].iloc[:,6:].reset_index().T.plot(c=color_dict[index], legend=False,\n",
    "                                                                          ax=ax[indices[index][0], indices[index][1]])\n",
    "  ax[indices[index][0], indices[index][1]].set_title(customer)"
   ]
  },
  {
   "cell_type": "markdown",
   "metadata": {},
   "source": [
    "What we may notice is that there is very little noise or drift in our order history, but there is certainly some periodicity. The question is can we use a linear model to predict the next order amount based on these history orders?"
   ]
  },
  {
   "cell_type": "code",
   "execution_count": 32,
   "metadata": {
    "id": "YDahuv7BU3Nr"
   },
   "outputs": [],
   "source": [
    "def process_data(Xy, time_cols=12, window=3, remove_null=False):\n",
    "  \"\"\"\n",
    "  This function splits your time series data into the proper windows\n",
    "\n",
    "  Parameters\n",
    "  ----------\n",
    "  Xy: array\n",
    "    The input data. If there are non-time series columns, assumes they are on\n",
    "    the left and time columns are on the right. \n",
    "  time_cols: int\n",
    "    The number of time columns, default 12\n",
    "  window: int\n",
    "    The time window size, default 3\n",
    "\n",
    "  Returns\n",
    "  -------\n",
    "  X_: array\n",
    "    The independent variables, includes time and non-time series columns with\n",
    "    the new window\n",
    "  y_: array\n",
    "    The dependent variable, selected from the time columns at the end of the \n",
    "    window\n",
    "  labels:\n",
    "    The time series labels, can be used in subsequent plot\n",
    "  \"\"\"\n",
    "  # separate the non-time series columns\n",
    "  X_cat = Xy[:,:-time_cols]\n",
    "\n",
    "  # select the columns to apply the sweeping window\n",
    "  X = Xy[:,-time_cols:]\n",
    "\n",
    "  X_ = []\n",
    "  y = []\n",
    "\n",
    "  for i in range(X.shape[1]-window):\n",
    "    # after attaching the current window to the non-time series \n",
    "    # columns, add it to a growing list\n",
    "    X_.append(np.concatenate((X_cat, X[:, i:i+window]), axis=1))\n",
    "\n",
    "    # add the next time delta after the window to the list of y\n",
    "    # values\n",
    "    y.append(X[:, i+window])\n",
    "\n",
    "  # X_ is 3D: [number of replicates from sweeping window,\n",
    "  #           length of input data, \n",
    "  #           size of new feature with categories and time]\n",
    "  # we want to reshape X_ so that the replicates due to the sweeping window is \n",
    "  # a part of the same dimension as the instances of the input data\n",
    "  X_ = np.array(X_).reshape(X.shape[0]*np.array(X_).shape[0],window+X_cat.shape[1])\n",
    "  y = np.array(y).reshape(X.shape[0]*np.array(y).shape[0],)\n",
    "\n",
    "  if remove_null:\n",
    "    # remove training data where the target is 0 (may be unfair advantage)\n",
    "    X_ = X_[np.where(~np.isnan(y.astype(float)))[0]]\n",
    "    y = y[np.where(~np.isnan(y.astype(float)))[0]]\n",
    "\n",
    "  # create labels that show the previous month values used to train the model\n",
    "  labels = []\n",
    "  for row in X_:\n",
    "    labels.append(\"X: {}\".format(np.array2string(row[-window:].astype(float).round())))\n",
    "  return X_, y, labels"
   ]
  },
  {
   "cell_type": "markdown",
   "metadata": {
    "id": "L44_QTSEzhzP"
   },
   "source": [
    "##### 🏋️ Exercise 2: Optimize Rolling Window Size for Customer Forecasts\n",
    "\n",
    "For this exercise, you will use the `process_data` function below to help you optimize the `window` size for predicting the order quantity in any given month. You will train a `LinearRegression` model.\n",
    "\n",
    "* create a model using a window size of 3 and predict the order quantity for the month immediately following the window\n",
    "* create a model for window sizes 1-11 and report the \\\\(R^2\\\\) for each model"
   ]
  },
  {
   "cell_type": "code",
   "execution_count": 100,
   "metadata": {
    "colab": {
     "base_uri": "https://localhost:8080/"
    },
    "id": "nayYlqIkzoVt",
    "outputId": "960414d5-fdcc-4208-e440-49f8a4bc8129"
   },
   "outputs": [
    {
     "name": "stdout",
     "output_type": "stream",
     "text": [
      "window   R2\n",
      "1,\t 0.97\n",
      "2,\t 0.88\n",
      "3,\t 0.80\n",
      "4,\t 0.96\n",
      "5,\t 0.90\n",
      "6,\t 0.86\n",
      "7,\t 0.61\n",
      "8,\t 0.89\n",
      "9,\t 0.76\n",
      "10,\t 0.74\n",
      "11,\t 0.87\n"
     ]
    }
   ],
   "source": [
    "# Cell for Exercise 2\n",
    "kg_month_data = orders.values[:,6:]\n",
    "\n",
    "# use kg_month_data and the function process_data to create your X, y arrays\n",
    "# then use train_test_split to create train and test portions\n",
    "# USE y_test and  y_pred for your actual and true test data\n",
    "# change only window parameter in process_data()\n",
    "print(\"window   R2\")\n",
    "for window in range(1,12):\n",
    "  ######################\n",
    "  ### YOUR CODE HERE ###\n",
    "  ######################\n",
    "  pass"
   ]
  },
  {
   "cell_type": "code",
   "execution_count": 101,
   "metadata": {
    "colab": {
     "base_uri": "https://localhost:8080/",
     "height": 517
    },
    "id": "pvCnJYJOzRbl",
    "outputId": "531b0ced-81fc-42ae-b606-aa91892cf597"
   },
   "outputs": [
    {
     "data": {
      "application/vnd.plotly.v1+json": {
       "config": {
        "plotlyServerURL": "https://plot.ly"
       },
       "data": [
        {
         "hovertemplate": "Actual=%{x}<br>Prediction=%{y}<extra></extra>",
         "legendgroup": "",
         "marker": {
          "color": "#636efa",
          "symbol": "circle"
         },
         "mode": "markers",
         "name": "",
         "orientation": "v",
         "showlegend": false,
         "type": "scatter",
         "x": [
          4528.380503144654,
          64.01384083044982,
          15617.489114658929,
          4528.380503144654,
          5698.392857142857,
          124348.89322916669,
          21939.111111111117,
          5712.33671988389,
          64983.42138364781,
          1483.5,
          93302.72435897436,
          1236.25,
          773.5849056603774,
          518.4642857142858,
          3798.928571428572,
          13671.296296296296,
          188.7692307692308,
          4057.832278481013,
          101149.25,
          14626.074074074077,
          12274.009146341465,
          141456.76315789475,
          4793.829296424452,
          74.78571428571429,
          10861.245674740485,
          86.24595469255664,
          19129.33333333333,
          39307.04113924051,
          74.78571428571429,
          46247,
          188.7692307692308,
          85.32258064516128,
          90677.41228070176,
          9306.611111111111,
          220.55016181229772,
          466477.57812500006,
          1158.125,
          220.55016181229772,
          1901.1290322580644,
          19129.33333333333,
          2637.8993710691825,
          1868.867924528302,
          3798.928571428572,
          2252.261437908497,
          5222.5,
          181.5552699228792,
          5038.387096774193,
          120.98615916955016,
          10146.898432174508,
          85.32258064516128,
          286.6666666666667,
          18613.222222222223,
          818.1891025641025,
          2499.201741654572,
          2010.9477124183009,
          6984.389273356401,
          42704.25889967639,
          11715.487421383648,
          39307.04113924051,
          440.859375,
          428,
          96.59546925566345,
          102.64285714285714,
          3569.0359477124184,
          13671.296296296296,
          773.5849056603774,
          2010.9477124183009,
          42704.25889967639,
          40608.41346153846,
          83347.75862068967,
          10796.31640058055,
          74.78571428571429,
          80801.72807017544,
          2540,
          5222.5,
          131.55526992287918,
          299024.0885416667,
          3882.680981595092,
          895.9082278481012,
          1180.5379746835442,
          15617.489114658929,
          85.32258064516128,
          6185.59509202454,
          16749.13157894737,
          47142.92857142857,
          3786.966463414634,
          936.280487804878,
          15244.632812500002,
          3272.80163599182,
          1271.904761904762,
          47142.92857142857,
          356.6666666666667,
          10861.245674740485,
          108.64285714285714,
          21438.1875,
          16918.132716049382,
          7892.142857142857,
          1901.1290322580644,
          2647.5,
          5038.387096774193,
          1677.5078125000002,
          39307.04113924051,
          51795.97953216374,
          916.3717948717948,
          41871.69230769231,
          12870.766853932584,
          1271.904761904762,
          181.5552699228792,
          211540.7575757576,
          3798.928571428572,
          2054.328561690525,
          3578.592162554427,
          2854.854368932039,
          51795.97953216374,
          11791.8,
          149.57142857142858,
          103.3653846153846,
          119015.43674698794,
          2499.201741654572,
          19286.94968553459,
          2185.3410740203194,
          19569.69230769231,
          12317.397660818711,
          6965.361445783132,
          86.24595469255664,
          3071.4691011235955,
          13867.125,
          50574.625,
          14626.074074074077,
          1005.4545454545454,
          16918.132716049382,
          2543.106741573034,
          10245.87593728698,
          8608.709677419354,
          150.3654970760234,
          3517.9333333333334,
          14626.074074074077,
          3177,
          2499.201741654572,
          345.6428571428572,
          10736.622807017544,
          13799.769319492503,
          12691.209677419354,
          11.175616835994196,
          2010.9477124183009,
          10736.622807017544,
          71138.51966292135,
          8104.40251572327,
          62.168396770472896,
          211540.7575757576,
          16569.261006289307,
          445.54838709677415,
          16918.132716049382,
          42.484177215189874,
          150.3654970760234,
          11.175616835994196,
          299024.0885416667,
          579.0625,
          10146.898432174508,
          181.5552699228792,
          494.57142857142856,
          411.1303344867359,
          2355.267295597484,
          494.57142857142856,
          79091.23475609756,
          10146.898432174508,
          1005.4545454545454,
          5038.387096774193,
          191.11111111111111,
          9304.668674698794,
          19569.69230769231,
          8250.491573033707,
          466477.57812500006,
          3048,
          1630.1966292134832,
          64.01384083044982,
          3569.0359477124184,
          1901.1290322580644,
          3272.80163599182,
          9772.200520833334,
          2185.3410740203194,
          28694,
          314.3203883495146,
          8104.40251572327,
          18557.572327044025,
          2231.547169811321,
          1432.2712418300653,
          773.5849056603774,
          40735.10802469136,
          314.3203883495146,
          471.91011235955057,
          42.484177215189874,
          9194.277108433736,
          8173.714285714285,
          837.8787878787879,
          1604.1437908496732,
          22.50980392156863,
          14.663461538461538,
          663176.1973875181,
          2854.854368932039,
          428,
          43.64516129032258,
          1526.2857142857142,
          1432.2712418300653,
          5456.578050443081,
          22331.935185185182,
          150.3654970760234,
          4057.832278481013,
          1868.867924528302,
          1630.1966292134832,
          4723.49129172714,
          5038.387096774193,
          19364.70552147239,
          117.22222222222224,
          15110.75,
          4057.832278481013,
          83347.75862068967,
          7892.142857142857,
          19129.33333333333,
          1968.8904494382025,
          207.39062500000003,
          62.168396770472896,
          3578.592162554427,
          1677.5078125000002,
          2499.201741654572,
          1254.4444444444443,
          1236.25,
          3578.592162554427,
          1992.4528301886792,
          14626.074074074077,
          1236.25,
          6965.361445783132,
          36.37096774193548,
          40735.10802469136,
          20.098039215686278,
          1432.2712418300653,
          538.8571428571429,
          101149.25,
          93302.72435897436,
          181.5552699228792,
          28694,
          2054.328561690525,
          5872.384615384615,
          31412.04644412192,
          5872.384615384615,
          854.952380952381,
          31412.04644412192,
          1253403.0130624091,
          63142.24137931035,
          20.098039215686278,
          3569.0359477124184,
          16569.261006289307,
          19286.94968553459,
          19286.94968553459,
          837.8787878787879,
          3665.809768637532,
          108.64285714285714,
          56.07911392405064,
          13671.296296296296,
          371.2903225806451,
          4057.832278481013,
          47142.92857142857,
          21438.1875,
          54.833333333333336,
          26081.56401384083,
          2540,
          115.76923076923076,
          16.423076923076923,
          8608.709677419354,
          4463.780120481927,
          8250.491573033707,
          15110.75,
          8173.714285714285,
          157100.37650602407,
          104499.0512820513,
          9076.930817610064,
          2611.25,
          428,
          14.663461538461538,
          2694,
          3569.0359477124184,
          86.24595469255664,
          678.7183544303797,
          494.57142857142856,
          712.4603174603175,
          663176.1973875181,
          10245.87593728698,
          5071.786163522012,
          1868.867924528302,
          26081.56401384083,
          3403.344867358708,
          4793.829296424452,
          64983.42138364781,
          3272.80163599182,
          5712.33671988389,
          9194.277108433736,
          608.4770114942529,
          42.484177215189874,
          466477.57812500006,
          3695.444059976932,
          3517.9333333333334,
          345.6428571428572,
          579.0625,
          7892.142857142857,
          5038.387096774193,
          45601.61516853933,
          1992.4528301886792,
          2647.5,
          5872.384615384615,
          6965.361445783132,
          64.01384083044982,
          45601.61516853933,
          23123.5,
          1992.4528301886792,
          2540,
          9060.337370242214,
          14.663461538461538,
          3882.680981595092,
          36.37096774193548,
          193984.2734375,
          2231.547169811321,
          108.64285714285714,
          329.7142857142857,
          117.49826989619376,
          773.5849056603774,
          36.37096774193548,
          8608.709677419354,
          371.2903225806451,
          45481.42307692308,
          10245.87593728698,
          63142.24137931035,
          678.7183544303797,
          11555.9375,
          4528.380503144654,
          2499.201741654572,
          10736.622807017544,
          5222.5,
          1901.1290322580644,
          93302.72435897436,
          1702.1929824561405,
          114208.8534107402,
          343.1394601542417,
          10245.87593728698,
          8173.714285714285,
          140637.14285714287,
          132.94270833333334,
          579.0625,
          663176.1973875181,
          1180.5379746835442,
          1236.25,
          26081.56401384083,
          854.952380952381,
          2010.9477124183009,
          30698.85714285714,
          11.175616835994196,
          90677.41228070176,
          38128.80258899677,
          663176.1973875181,
          71138.51966292135,
          1236.25,
          31412.04644412192,
          50574.625,
          83347.75862068967,
          12274.009146341465,
          90677.41228070176,
          808.2857142857143,
          11.175616835994196,
          11555.9375,
          86.24595469255664,
          41871.69230769231,
          19129.33333333333,
          329.7142857142857,
          1236.25,
          2637.8993710691825,
          579.7777777777778,
          30698.85714285714,
          329.7142857142857,
          2647.5,
          466477.57812500006,
          102.64285714285714,
          12691.209677419354,
          12317.397660818711,
          220.55016181229772,
          19147.454268292684,
          9304.668674698794,
          4057.832278481013,
          47142.92857142857,
          1630.1966292134832,
          4463.780120481927,
          2002.1844660194176,
          5071.786163522012,
          7035.866666666667,
          13504.20634920635,
          21601.383647798742,
          10245.87593728698,
          10861.245674740485,
          176.36477987421384,
          12691.209677419354,
          1432.2712418300653,
          608.4770114942529,
          10736.622807017544,
          3695.444059976932,
          157100.37650602407,
          1702.1929824561405,
          51795.97953216374,
          2386.449438202247,
          117.22222222222224,
          120.98615916955016,
          777.0363321799308,
          12274.009146341465,
          2611.25,
          2242.446601941748,
          168764.57142857145,
          627.2222222222222,
          40608.41346153846,
          2002.1844660194176,
          157.46855345911948,
          2647.5,
          119015.43674698794,
          579.0625,
          329.7142857142857,
          13121.345911949686,
          71138.51966292135,
          207.39062500000003,
          30698.85714285714,
          9060.337370242214,
          1529.7752808988764,
          3071.4691011235955,
          46247,
          538.8571428571429,
          16347.42857142857,
          23123.5,
          132.94270833333334,
          6984.389273356401,
          12691.209677419354,
          2499.201741654572,
          30221.5,
          15229.451612903224,
          191.11111111111111,
          428,
          3578.592162554427,
          11715.487421383648,
          19129.33333333333,
          30221.5,
          6432.321799307958,
          41871.69230769231,
          42.484177215189874,
          16918.132716049382,
          3695.444059976932,
          13504.20634920635,
          15617.489114658929,
          117.49826989619376,
          16569.261006289307,
          96.59546925566345,
          678.7183544303797,
          10146.898432174508,
          678.7183544303797,
          131.55526992287918,
          47142.92857142857,
          79091.23475609756,
          736.1797752808989,
          1180.5379746835442,
          29354.53846153846,
          45481.42307692308,
          21438.1875,
          6965.361445783132,
          31412.04644412192,
          10146.898432174508,
          11791.8,
          15617.489114658929,
          1677.5078125000002,
          5456.578050443081,
          14626.074074074077,
          94285.85714285714,
          248.6394601542416,
          5456.578050443081,
          26081.56401384083,
          63142.24137931035,
          12317.397660818711,
          12317.397660818711,
          608.4770114942529,
          11.175616835994196,
          10861.245674740485,
          2566.6935483870966,
          11555.9375,
          678.7183544303797,
          1529.7752808988764,
          1432.2712418300653,
          518.4642857142858,
          8104.40251572327,
          63142.24137931035,
          3798.928571428572,
          4057.832278481013,
          1526.2857142857142,
          2854.854368932039,
          3403.344867358708,
          9306.611111111111,
          538.8571428571429,
          13671.296296296296,
          117.22222222222224,
          343.1394601542417
         ],
         "xaxis": "x",
         "y": [
          4785.592155979585,
          378.9394302913829,
          15365.600809369838,
          4785.592155979585,
          4070.255357333951,
          134757.3771732384,
          14409.557558767568,
          5813.845282617682,
          61516.49587090381,
          1510.6755468797405,
          98738.27282520698,
          1684.2601507265988,
          1088.107600326137,
          647.864369876902,
          4263.755978756964,
          14168.403568365671,
          487.3481032940997,
          4287.792726026477,
          51779.415544128475,
          19934.734830917627,
          12141.409803201397,
          87747.52966460225,
          5818.94510670397,
          377.43130038813075,
          12797.394868451114,
          389.0359797814606,
          19263.507069512012,
          40163.79013647013,
          377.43130038813075,
          23840.068464074022,
          487.3481032940997,
          400.48488833402286,
          126112.56377290396,
          11223.080944977459,
          522.1062342859491,
          415175.9779430929,
          894.6750043489748,
          519.4101103091041,
          2138.6141864173633,
          19263.507069512012,
          2790.085070463646,
          2196.4290704108694,
          4263.755978756964,
          2244.514746383961,
          2963.0052419712265,
          602.4723068239653,
          5217.814575086902,
          410.08771833436947,
          16913.133647514336,
          390.2429375597753,
          489.6064298303322,
          16311.253798810561,
          1109.562627058514,
          2715.348806915594,
          2281.9990642021894,
          6353.789558047462,
          37073.75373050823,
          11896.354947646087,
          38882.42895370776,
          797.0601491084628,
          703.1493477716122,
          388.482661364839,
          481.8437277075316,
          3747.013377347842,
          16794.12337436424,
          1571.4700357476117,
          2257.4161561731,
          37073.75373050823,
          43146.57407027896,
          76460.52042984031,
          5813.845282617682,
          433.93372568151483,
          50253.31197444373,
          2781.8507793892813,
          2963.0052419712265,
          450.36262704088375,
          323624.6828685297,
          2286.347850033103,
          959.8167805278175,
          1463.9293549917084,
          25867.060321463283,
          388.50455558540244,
          3461.34813854915,
          10658.874464205835,
          48286.68591679114,
          4070.54807420052,
          1208.1895902424544,
          13863.416557439898,
          3913.805102706469,
          1545.439458867743,
          48286.68591679114,
          664.1495092797293,
          12797.394868451114,
          415.88888264864494,
          24308.715376885695,
          17460.789585310762,
          13878.585909613186,
          2138.6141864173633,
          3258.406190332729,
          5925.265679815453,
          1797.2371240684145,
          47713.131047358365,
          51804.0528093027,
          1099.5606427530397,
          40683.104312073505,
          8508.45844428347,
          1571.3535403980425,
          505.4911026847705,
          213132.54291644722,
          4263.755978756964,
          2570.353838719455,
          3926.506181336219,
          3317.1418553360736,
          54758.90192605476,
          20585.396531692135,
          377.43130038813075,
          406.91804655949966,
          120990.40817472423,
          4395.853637740449,
          19387.390319584494,
          2412.686086825897,
          19699.926384269966,
          12552.025861937103,
          7368.391717428835,
          390.09029678781303,
          2262.905415567944,
          11572.521113313724,
          56931.5110267007,
          15545.52362930884,
          1239.906233381196,
          17460.789585310762,
          1926.1552505875645,
          10673.158532726991,
          9907.699090223898,
          454.81639486308137,
          6355.618165841122,
          19934.734830917627,
          2858.35606741023,
          2834.2664976391197,
          665.469888483012,
          11592.823783640883,
          16177.143075924467,
          12543.725418313918,
          317.63569157648635,
          2257.4161561731,
          15201.471014315619,
          45645.23591676211,
          8323.62833082682,
          376.8168895165831,
          213132.54291644722,
          16698.569941711827,
          663.3571920970296,
          20710.099320853376,
          346.28222029939593,
          513.9332229141203,
          323.60536008687086,
          323624.6828685297,
          1301.212252741579,
          16913.133647514336,
          505.4911026847705,
          632.0783029798903,
          778.1760841513764,
          2635.5625663138067,
          632.0783029798903,
          76574.72476531091,
          11492.974658748008,
          1239.906233381196,
          5163.94089137517,
          494.71513791291954,
          11527.578799029196,
          19176.79696136619,
          8979.131225405608,
          415175.9779430929,
          2754.6914615362707,
          2567.0739167219367,
          378.9394302913829,
          3747.013377347842,
          2138.6141864173633,
          3913.805102706469,
          10871.491666793676,
          2516.669574686992,
          18752.149151877966,
          636.9170394143573,
          8323.62833082682,
          17785.632844249434,
          2407.321312452001,
          1686.4843440391876,
          1051.2986748894868,
          49435.50780135217,
          610.4363857799107,
          960.0492155948752,
          346.28222029939593,
          7141.329503589847,
          8187.405610699661,
          1148.288091129662,
          1686.4843440391876,
          324.6947768318741,
          320.7835266802878,
          639820.6545150073,
          3317.1418553360736,
          703.1493477716122,
          340.3871184326995,
          1531.8394329987157,
          1686.4843440391876,
          9236.305456033022,
          16619.83993793382,
          463.3944227377964,
          4287.792726026477,
          3364.1619784229933,
          2019.1544585081797,
          2715.348806915594,
          5163.94089137517,
          10185.63650295469,
          436.06660273854754,
          26293.480165383102,
          4218.370391131691,
          76460.52042984031,
          7915.880111460361,
          25978.487349635714,
          2375.22637673234,
          489.7605752448112,
          376.8168895165831,
          3756.2286447454576,
          1797.2371240684145,
          3060.8574440447824,
          1384.0395692783663,
          1535.8631900519042,
          6162.533552625073,
          2276.6020512892946,
          14800.536096877271,
          1535.8631900519042,
          7368.391717428835,
          340.3871184326995,
          40283.97684677175,
          325.06940680600604,
          1695.6732046475156,
          1028.5053850528614,
          51779.415544128475,
          92018.35013115287,
          505.4911026847705,
          18752.149151877966,
          3667.712553203018,
          5968.182975715722,
          34939.27854355379,
          6424.274585977019,
          992.354894936303,
          30596.638581578518,
          639820.6545150073,
          65413.624508456036,
          324.82371754886964,
          3747.013377347842,
          16698.569941711827,
          19387.390319584494,
          19387.390319584494,
          1148.288091129662,
          6305.285970941779,
          492.1628050669814,
          346.28222029939593,
          14168.403568365671,
          663.3571920970296,
          4218.370391131691,
          45766.272960899,
          37175.69967364701,
          369.63985077669076,
          22891.92825541111,
          2754.6914615362707,
          405.6544524204279,
          319.54816919005003,
          8698.931074864986,
          5689.033000226852,
          11752.173931839643,
          26293.480165383102,
          8187.405610699661,
          117110.65135820676,
          90877.76737128492,
          8855.335527589015,
          3229.016296504339,
          703.1493477716122,
          319.72742324233695,
          1604.2554168141014,
          3769.9108375996702,
          396.30197122916206,
          959.8167805278175,
          632.0783029798903,
          999.9729800621147,
          731503.1707028296,
          17075.133945943726,
          5082.686543693957,
          2107.5040932279385,
          22891.92825541111,
          4219.676962291559,
          5818.94510670397,
          61516.49587090381,
          3617.0754679045876,
          5813.845282617682,
          7141.329503589847,
          932.7370475860574,
          346.28222029939593,
          415175.9779430929,
          4555.635369302835,
          3885.8140646224183,
          769.1955699368395,
          953.6647702716481,
          8337.819513819635,
          5163.94089137517,
          48246.709882894014,
          2276.6020512892946,
          2886.664844581823,
          5968.182975715722,
          7368.391717428835,
          378.9394302913829,
          63573.70285359673,
          40074.17801737161,
          2276.6020512892946,
          3138.4978117622,
          8151.559019833033,
          319.72742324233695,
          2286.347850033103,
          340.3871184326995,
          172828.89934304,
          2407.321312452001,
          410.08048522816836,
          747.818087951304,
          407.0672088952674,
          1088.107600326137,
          341.517050774033,
          8698.931074864986,
          667.3272676429804,
          39725.42364104348,
          10673.158532726991,
          65413.624508456036,
          959.8167805278175,
          13195.11592262944,
          4785.592155979585,
          2834.2664976391197,
          15201.471014315619,
          2963.0052419712265,
          2425.884027039221,
          98738.27282520698,
          1997.7384398419902,
          115873.73047883328,
          489.0303345318461,
          10673.158532726991,
          9457.064447629586,
          137428.5757499219,
          449.0579108608325,
          1301.212252741579,
          1085751.3630379443,
          1502.4134405828336,
          1684.2601507265988,
          22891.92825541111,
          992.354894936303,
          2244.514746383961,
          31550.15438840883,
          316.0906893952995,
          90462.3574812228,
          37318.37237669782,
          639820.6545150073,
          45645.23591676211,
          1684.2601507265988,
          30596.638581578518,
          56931.5110267007,
          76460.52042984031,
          12141.409803201397,
          95635.30862544454,
          839.3500692330289,
          316.62245060704845,
          13195.11592262944,
          389.0359797814606,
          41802.402147140514,
          19263.507069512012,
          747.818087951304,
          1535.8631900519042,
          2790.085070463646,
          803.8781088470796,
          29908.894508749334,
          648.872490598366,
          2858.35606741023,
          415175.9779430929,
          409.7821718132848,
          12543.725418313918,
          17394.662595168105,
          522.1062342859491,
          12141.409803201397,
          9740.51689224938,
          5199.4234913728005,
          45766.272960899,
          2567.0739167219367,
          4831.715916465941,
          2417.5880406486763,
          5082.686543693957,
          3697.7340063828487,
          13472.111607949182,
          20652.753180263422,
          11602.10423834572,
          12797.394868451114,
          471.44073265789405,
          12543.725418313918,
          1695.6732046475156,
          932.7370475860574,
          10980.322568203586,
          4555.635369302835,
          117110.65135820676,
          2094.8448847085992,
          54758.90192605476,
          1826.31018819446,
          421.9954832228255,
          410.08771833436947,
          978.2266656454766,
          12141.409803201397,
          4796.262256309382,
          2236.064155834039,
          135924.7927322855,
          1041.1204286449113,
          40221.84276082843,
          2273.3851256392354,
          461.10966099955675,
          2858.35606741023,
          143848.60557702882,
          953.6647702716481,
          648.872490598366,
          12664.975331868296,
          45645.23591676211,
          489.7605752448112,
          29908.894508749334,
          8151.559019833033,
          2427.747778574022,
          2262.905415567944,
          23840.068464074022,
          866.7970691016989,
          8187.405610699661,
          26195.686125920434,
          449.0579108608325,
          6353.789558047462,
          12679.428015781728,
          2715.348806915594,
          15684.810589735318,
          12543.725418313918,
          504.4494927620649,
          703.1493477716122,
          4250.960414621229,
          11896.354947646087,
          25978.487349635714,
          15684.810589735318,
          5875.699548389586,
          41802.402147140514,
          347.0090494475603,
          16909.279272683176,
          4555.635369302835,
          15368.26716660901,
          16108.716384819742,
          407.0672088952674,
          16698.569941711827,
          388.482661364839,
          993.553834752781,
          10573.002781125038,
          971.4284514069652,
          450.36262704088375,
          45766.272960899,
          76574.72476531091,
          774.5157686911542,
          1443.732437768414,
          19176.79696136619,
          39725.42364104348,
          24308.715376885695,
          8706.164457317907,
          32091.295039989156,
          11492.974658748008,
          13508.076892121393,
          16108.716384819742,
          1797.2371240684145,
          5826.8479598607,
          15545.52362930884,
          45766.272960899,
          438.4351253031718,
          5826.8479598607,
          22891.92825541111,
          65413.624508456036,
          12552.025861937103,
          12552.025861937103,
          932.7370475860574,
          316.0906893952995,
          12797.394868451114,
          2860.1717851882872,
          11807.964454280216,
          1123.9090100996427,
          1913.5805743985902,
          1816.3382332975395,
          647.864369876902,
          8323.62833082682,
          65413.624508456036,
          5403.795319141717,
          4218.370391131691,
          1531.8394329987157,
          3111.527273406017,
          4219.676962291559,
          11223.080944977459,
          866.7970691016989,
          13722.736128528055,
          436.06660273854754,
          489.0303345318461
         ],
         "yaxis": "y"
        }
       ],
       "layout": {
        "autosize": false,
        "height": 500,
        "legend": {
         "tracegroupgap": 0
        },
        "margin": {
         "t": 60
        },
        "template": {
         "data": {
          "bar": [
           {
            "error_x": {
             "color": "#2a3f5f"
            },
            "error_y": {
             "color": "#2a3f5f"
            },
            "marker": {
             "line": {
              "color": "#E5ECF6",
              "width": 0.5
             },
             "pattern": {
              "fillmode": "overlay",
              "size": 10,
              "solidity": 0.2
             }
            },
            "type": "bar"
           }
          ],
          "barpolar": [
           {
            "marker": {
             "line": {
              "color": "#E5ECF6",
              "width": 0.5
             },
             "pattern": {
              "fillmode": "overlay",
              "size": 10,
              "solidity": 0.2
             }
            },
            "type": "barpolar"
           }
          ],
          "carpet": [
           {
            "aaxis": {
             "endlinecolor": "#2a3f5f",
             "gridcolor": "white",
             "linecolor": "white",
             "minorgridcolor": "white",
             "startlinecolor": "#2a3f5f"
            },
            "baxis": {
             "endlinecolor": "#2a3f5f",
             "gridcolor": "white",
             "linecolor": "white",
             "minorgridcolor": "white",
             "startlinecolor": "#2a3f5f"
            },
            "type": "carpet"
           }
          ],
          "choropleth": [
           {
            "colorbar": {
             "outlinewidth": 0,
             "ticks": ""
            },
            "type": "choropleth"
           }
          ],
          "contour": [
           {
            "colorbar": {
             "outlinewidth": 0,
             "ticks": ""
            },
            "colorscale": [
             [
              0,
              "#0d0887"
             ],
             [
              0.1111111111111111,
              "#46039f"
             ],
             [
              0.2222222222222222,
              "#7201a8"
             ],
             [
              0.3333333333333333,
              "#9c179e"
             ],
             [
              0.4444444444444444,
              "#bd3786"
             ],
             [
              0.5555555555555556,
              "#d8576b"
             ],
             [
              0.6666666666666666,
              "#ed7953"
             ],
             [
              0.7777777777777778,
              "#fb9f3a"
             ],
             [
              0.8888888888888888,
              "#fdca26"
             ],
             [
              1,
              "#f0f921"
             ]
            ],
            "type": "contour"
           }
          ],
          "contourcarpet": [
           {
            "colorbar": {
             "outlinewidth": 0,
             "ticks": ""
            },
            "type": "contourcarpet"
           }
          ],
          "heatmap": [
           {
            "colorbar": {
             "outlinewidth": 0,
             "ticks": ""
            },
            "colorscale": [
             [
              0,
              "#0d0887"
             ],
             [
              0.1111111111111111,
              "#46039f"
             ],
             [
              0.2222222222222222,
              "#7201a8"
             ],
             [
              0.3333333333333333,
              "#9c179e"
             ],
             [
              0.4444444444444444,
              "#bd3786"
             ],
             [
              0.5555555555555556,
              "#d8576b"
             ],
             [
              0.6666666666666666,
              "#ed7953"
             ],
             [
              0.7777777777777778,
              "#fb9f3a"
             ],
             [
              0.8888888888888888,
              "#fdca26"
             ],
             [
              1,
              "#f0f921"
             ]
            ],
            "type": "heatmap"
           }
          ],
          "heatmapgl": [
           {
            "colorbar": {
             "outlinewidth": 0,
             "ticks": ""
            },
            "colorscale": [
             [
              0,
              "#0d0887"
             ],
             [
              0.1111111111111111,
              "#46039f"
             ],
             [
              0.2222222222222222,
              "#7201a8"
             ],
             [
              0.3333333333333333,
              "#9c179e"
             ],
             [
              0.4444444444444444,
              "#bd3786"
             ],
             [
              0.5555555555555556,
              "#d8576b"
             ],
             [
              0.6666666666666666,
              "#ed7953"
             ],
             [
              0.7777777777777778,
              "#fb9f3a"
             ],
             [
              0.8888888888888888,
              "#fdca26"
             ],
             [
              1,
              "#f0f921"
             ]
            ],
            "type": "heatmapgl"
           }
          ],
          "histogram": [
           {
            "marker": {
             "pattern": {
              "fillmode": "overlay",
              "size": 10,
              "solidity": 0.2
             }
            },
            "type": "histogram"
           }
          ],
          "histogram2d": [
           {
            "colorbar": {
             "outlinewidth": 0,
             "ticks": ""
            },
            "colorscale": [
             [
              0,
              "#0d0887"
             ],
             [
              0.1111111111111111,
              "#46039f"
             ],
             [
              0.2222222222222222,
              "#7201a8"
             ],
             [
              0.3333333333333333,
              "#9c179e"
             ],
             [
              0.4444444444444444,
              "#bd3786"
             ],
             [
              0.5555555555555556,
              "#d8576b"
             ],
             [
              0.6666666666666666,
              "#ed7953"
             ],
             [
              0.7777777777777778,
              "#fb9f3a"
             ],
             [
              0.8888888888888888,
              "#fdca26"
             ],
             [
              1,
              "#f0f921"
             ]
            ],
            "type": "histogram2d"
           }
          ],
          "histogram2dcontour": [
           {
            "colorbar": {
             "outlinewidth": 0,
             "ticks": ""
            },
            "colorscale": [
             [
              0,
              "#0d0887"
             ],
             [
              0.1111111111111111,
              "#46039f"
             ],
             [
              0.2222222222222222,
              "#7201a8"
             ],
             [
              0.3333333333333333,
              "#9c179e"
             ],
             [
              0.4444444444444444,
              "#bd3786"
             ],
             [
              0.5555555555555556,
              "#d8576b"
             ],
             [
              0.6666666666666666,
              "#ed7953"
             ],
             [
              0.7777777777777778,
              "#fb9f3a"
             ],
             [
              0.8888888888888888,
              "#fdca26"
             ],
             [
              1,
              "#f0f921"
             ]
            ],
            "type": "histogram2dcontour"
           }
          ],
          "mesh3d": [
           {
            "colorbar": {
             "outlinewidth": 0,
             "ticks": ""
            },
            "type": "mesh3d"
           }
          ],
          "parcoords": [
           {
            "line": {
             "colorbar": {
              "outlinewidth": 0,
              "ticks": ""
             }
            },
            "type": "parcoords"
           }
          ],
          "pie": [
           {
            "automargin": true,
            "type": "pie"
           }
          ],
          "scatter": [
           {
            "marker": {
             "colorbar": {
              "outlinewidth": 0,
              "ticks": ""
             }
            },
            "type": "scatter"
           }
          ],
          "scatter3d": [
           {
            "line": {
             "colorbar": {
              "outlinewidth": 0,
              "ticks": ""
             }
            },
            "marker": {
             "colorbar": {
              "outlinewidth": 0,
              "ticks": ""
             }
            },
            "type": "scatter3d"
           }
          ],
          "scattercarpet": [
           {
            "marker": {
             "colorbar": {
              "outlinewidth": 0,
              "ticks": ""
             }
            },
            "type": "scattercarpet"
           }
          ],
          "scattergeo": [
           {
            "marker": {
             "colorbar": {
              "outlinewidth": 0,
              "ticks": ""
             }
            },
            "type": "scattergeo"
           }
          ],
          "scattergl": [
           {
            "marker": {
             "colorbar": {
              "outlinewidth": 0,
              "ticks": ""
             }
            },
            "type": "scattergl"
           }
          ],
          "scattermapbox": [
           {
            "marker": {
             "colorbar": {
              "outlinewidth": 0,
              "ticks": ""
             }
            },
            "type": "scattermapbox"
           }
          ],
          "scatterpolar": [
           {
            "marker": {
             "colorbar": {
              "outlinewidth": 0,
              "ticks": ""
             }
            },
            "type": "scatterpolar"
           }
          ],
          "scatterpolargl": [
           {
            "marker": {
             "colorbar": {
              "outlinewidth": 0,
              "ticks": ""
             }
            },
            "type": "scatterpolargl"
           }
          ],
          "scatterternary": [
           {
            "marker": {
             "colorbar": {
              "outlinewidth": 0,
              "ticks": ""
             }
            },
            "type": "scatterternary"
           }
          ],
          "surface": [
           {
            "colorbar": {
             "outlinewidth": 0,
             "ticks": ""
            },
            "colorscale": [
             [
              0,
              "#0d0887"
             ],
             [
              0.1111111111111111,
              "#46039f"
             ],
             [
              0.2222222222222222,
              "#7201a8"
             ],
             [
              0.3333333333333333,
              "#9c179e"
             ],
             [
              0.4444444444444444,
              "#bd3786"
             ],
             [
              0.5555555555555556,
              "#d8576b"
             ],
             [
              0.6666666666666666,
              "#ed7953"
             ],
             [
              0.7777777777777778,
              "#fb9f3a"
             ],
             [
              0.8888888888888888,
              "#fdca26"
             ],
             [
              1,
              "#f0f921"
             ]
            ],
            "type": "surface"
           }
          ],
          "table": [
           {
            "cells": {
             "fill": {
              "color": "#EBF0F8"
             },
             "line": {
              "color": "white"
             }
            },
            "header": {
             "fill": {
              "color": "#C8D4E3"
             },
             "line": {
              "color": "white"
             }
            },
            "type": "table"
           }
          ]
         },
         "layout": {
          "annotationdefaults": {
           "arrowcolor": "#2a3f5f",
           "arrowhead": 0,
           "arrowwidth": 1
          },
          "autotypenumbers": "strict",
          "coloraxis": {
           "colorbar": {
            "outlinewidth": 0,
            "ticks": ""
           }
          },
          "colorscale": {
           "diverging": [
            [
             0,
             "#8e0152"
            ],
            [
             0.1,
             "#c51b7d"
            ],
            [
             0.2,
             "#de77ae"
            ],
            [
             0.3,
             "#f1b6da"
            ],
            [
             0.4,
             "#fde0ef"
            ],
            [
             0.5,
             "#f7f7f7"
            ],
            [
             0.6,
             "#e6f5d0"
            ],
            [
             0.7,
             "#b8e186"
            ],
            [
             0.8,
             "#7fbc41"
            ],
            [
             0.9,
             "#4d9221"
            ],
            [
             1,
             "#276419"
            ]
           ],
           "sequential": [
            [
             0,
             "#0d0887"
            ],
            [
             0.1111111111111111,
             "#46039f"
            ],
            [
             0.2222222222222222,
             "#7201a8"
            ],
            [
             0.3333333333333333,
             "#9c179e"
            ],
            [
             0.4444444444444444,
             "#bd3786"
            ],
            [
             0.5555555555555556,
             "#d8576b"
            ],
            [
             0.6666666666666666,
             "#ed7953"
            ],
            [
             0.7777777777777778,
             "#fb9f3a"
            ],
            [
             0.8888888888888888,
             "#fdca26"
            ],
            [
             1,
             "#f0f921"
            ]
           ],
           "sequentialminus": [
            [
             0,
             "#0d0887"
            ],
            [
             0.1111111111111111,
             "#46039f"
            ],
            [
             0.2222222222222222,
             "#7201a8"
            ],
            [
             0.3333333333333333,
             "#9c179e"
            ],
            [
             0.4444444444444444,
             "#bd3786"
            ],
            [
             0.5555555555555556,
             "#d8576b"
            ],
            [
             0.6666666666666666,
             "#ed7953"
            ],
            [
             0.7777777777777778,
             "#fb9f3a"
            ],
            [
             0.8888888888888888,
             "#fdca26"
            ],
            [
             1,
             "#f0f921"
            ]
           ]
          },
          "colorway": [
           "#636efa",
           "#EF553B",
           "#00cc96",
           "#ab63fa",
           "#FFA15A",
           "#19d3f3",
           "#FF6692",
           "#B6E880",
           "#FF97FF",
           "#FECB52"
          ],
          "font": {
           "color": "#2a3f5f"
          },
          "geo": {
           "bgcolor": "white",
           "lakecolor": "white",
           "landcolor": "#E5ECF6",
           "showlakes": true,
           "showland": true,
           "subunitcolor": "white"
          },
          "hoverlabel": {
           "align": "left"
          },
          "hovermode": "closest",
          "mapbox": {
           "style": "light"
          },
          "paper_bgcolor": "white",
          "plot_bgcolor": "#E5ECF6",
          "polar": {
           "angularaxis": {
            "gridcolor": "white",
            "linecolor": "white",
            "ticks": ""
           },
           "bgcolor": "#E5ECF6",
           "radialaxis": {
            "gridcolor": "white",
            "linecolor": "white",
            "ticks": ""
           }
          },
          "scene": {
           "xaxis": {
            "backgroundcolor": "#E5ECF6",
            "gridcolor": "white",
            "gridwidth": 2,
            "linecolor": "white",
            "showbackground": true,
            "ticks": "",
            "zerolinecolor": "white"
           },
           "yaxis": {
            "backgroundcolor": "#E5ECF6",
            "gridcolor": "white",
            "gridwidth": 2,
            "linecolor": "white",
            "showbackground": true,
            "ticks": "",
            "zerolinecolor": "white"
           },
           "zaxis": {
            "backgroundcolor": "#E5ECF6",
            "gridcolor": "white",
            "gridwidth": 2,
            "linecolor": "white",
            "showbackground": true,
            "ticks": "",
            "zerolinecolor": "white"
           }
          },
          "shapedefaults": {
           "line": {
            "color": "#2a3f5f"
           }
          },
          "ternary": {
           "aaxis": {
            "gridcolor": "white",
            "linecolor": "white",
            "ticks": ""
           },
           "baxis": {
            "gridcolor": "white",
            "linecolor": "white",
            "ticks": ""
           },
           "bgcolor": "#E5ECF6",
           "caxis": {
            "gridcolor": "white",
            "linecolor": "white",
            "ticks": ""
           }
          },
          "title": {
           "x": 0.05
          },
          "xaxis": {
           "automargin": true,
           "gridcolor": "white",
           "linecolor": "white",
           "ticks": "",
           "title": {
            "standoff": 15
           },
           "zerolinecolor": "white",
           "zerolinewidth": 2
          },
          "yaxis": {
           "automargin": true,
           "gridcolor": "white",
           "linecolor": "white",
           "ticks": "",
           "title": {
            "standoff": 15
           },
           "zerolinecolor": "white",
           "zerolinewidth": 2
          }
         }
        },
        "title": {
         "text": "R2: 0.869"
        },
        "width": 800,
        "xaxis": {
         "anchor": "y",
         "autorange": true,
         "domain": [
          0,
          1
         ],
         "range": [
          -78808.10000089354,
          1332222.2886801388
         ],
         "title": {
          "text": "Actual"
         },
         "type": "linear"
        },
        "yaxis": {
         "anchor": "x",
         "autorange": true,
         "domain": [
          0,
          1
         ],
         "range": [
          -74275.43276583674,
          1160342.8864931762
         ],
         "title": {
          "text": "Prediction"
         },
         "type": "linear"
        }
       }
      },
      "image/png": "[encoded data removed]",
      "text/html": [
       "<div>                            <div id=\"239a6e0b-8482-49c8-9619-ebde564b91cd\" class=\"plotly-graph-div\" style=\"height:500px; width:800px;\"></div>            <script type=\"text/javascript\">                require([\"plotly\"], function(Plotly) {                    window.PLOTLYENV=window.PLOTLYENV || {};                                    if (document.getElementById(\"239a6e0b-8482-49c8-9619-ebde564b91cd\")) {                    Plotly.newPlot(                        \"239a6e0b-8482-49c8-9619-ebde564b91cd\",                        [{\"hovertemplate\":\"Actual=%{x}<br>Prediction=%{y}<extra></extra>\",\"legendgroup\":\"\",\"marker\":{\"color\":\"#636efa\",\"symbol\":\"circle\"},\"mode\":\"markers\",\"name\":\"\",\"orientation\":\"v\",\"showlegend\":false,\"x\":[4528.380503144654,64.01384083044982,15617.489114658929,4528.380503144654,5698.392857142857,124348.89322916669,21939.111111111117,5712.33671988389,64983.42138364781,1483.5,93302.72435897436,1236.25,773.5849056603774,518.4642857142858,3798.928571428572,13671.296296296296,188.7692307692308,4057.832278481013,101149.25,14626.074074074077,12274.009146341465,141456.76315789475,4793.829296424452,74.78571428571429,10861.245674740485,86.24595469255664,19129.33333333333,39307.04113924051,74.78571428571429,46247.0,188.7692307692308,85.32258064516128,90677.41228070176,9306.611111111111,220.55016181229772,466477.57812500006,1158.125,220.55016181229772,1901.1290322580644,19129.33333333333,2637.8993710691825,1868.867924528302,3798.928571428572,2252.261437908497,5222.5,181.5552699228792,5038.387096774193,120.98615916955016,10146.898432174508,85.32258064516128,286.6666666666667,18613.222222222223,818.1891025641025,2499.201741654572,2010.9477124183009,6984.389273356401,42704.25889967639,11715.487421383648,39307.04113924051,440.859375,428.0,96.59546925566345,102.64285714285714,3569.0359477124184,13671.296296296296,773.5849056603774,2010.9477124183009,42704.25889967639,40608.41346153846,83347.75862068967,10796.31640058055,74.78571428571429,80801.72807017544,2540.0,5222.5,131.55526992287918,299024.0885416667,3882.680981595092,895.9082278481012,1180.5379746835442,15617.489114658929,85.32258064516128,6185.59509202454,16749.13157894737,47142.92857142857,3786.966463414634,936.280487804878,15244.632812500002,3272.80163599182,1271.904761904762,47142.92857142857,356.6666666666667,10861.245674740485,108.64285714285714,21438.1875,16918.132716049382,7892.142857142857,1901.1290322580644,2647.5,5038.387096774193,1677.5078125000002,39307.04113924051,51795.97953216374,916.3717948717948,41871.69230769231,12870.766853932584,1271.904761904762,181.5552699228792,211540.7575757576,3798.928571428572,2054.328561690525,3578.592162554427,2854.854368932039,51795.97953216374,11791.8,149.57142857142858,103.3653846153846,119015.43674698794,2499.201741654572,19286.94968553459,2185.3410740203194,19569.69230769231,12317.397660818711,6965.361445783132,86.24595469255664,3071.4691011235955,13867.125,50574.625,14626.074074074077,1005.4545454545454,16918.132716049382,2543.106741573034,10245.87593728698,8608.709677419354,150.3654970760234,3517.9333333333334,14626.074074074077,3177.0,2499.201741654572,345.6428571428572,10736.622807017544,13799.769319492503,12691.209677419354,11.175616835994196,2010.9477124183009,10736.622807017544,71138.51966292135,8104.40251572327,62.168396770472896,211540.7575757576,16569.261006289307,445.54838709677415,16918.132716049382,42.484177215189874,150.3654970760234,11.175616835994196,299024.0885416667,579.0625,10146.898432174508,181.5552699228792,494.57142857142856,411.1303344867359,2355.267295597484,494.57142857142856,79091.23475609756,10146.898432174508,1005.4545454545454,5038.387096774193,191.11111111111111,9304.668674698794,19569.69230769231,8250.491573033707,466477.57812500006,3048.0,1630.1966292134832,64.01384083044982,3569.0359477124184,1901.1290322580644,3272.80163599182,9772.200520833334,2185.3410740203194,28694.0,314.3203883495146,8104.40251572327,18557.572327044025,2231.547169811321,1432.2712418300653,773.5849056603774,40735.10802469136,314.3203883495146,471.91011235955057,42.484177215189874,9194.277108433736,8173.714285714285,837.8787878787879,1604.1437908496732,22.50980392156863,14.663461538461538,663176.1973875181,2854.854368932039,428.0,43.64516129032258,1526.2857142857142,1432.2712418300653,5456.578050443081,22331.935185185182,150.3654970760234,4057.832278481013,1868.867924528302,1630.1966292134832,4723.49129172714,5038.387096774193,19364.70552147239,117.22222222222224,15110.75,4057.832278481013,83347.75862068967,7892.142857142857,19129.33333333333,1968.8904494382025,207.39062500000003,62.168396770472896,3578.592162554427,1677.5078125000002,2499.201741654572,1254.4444444444443,1236.25,3578.592162554427,1992.4528301886792,14626.074074074077,1236.25,6965.361445783132,36.37096774193548,40735.10802469136,20.098039215686278,1432.2712418300653,538.8571428571429,101149.25,93302.72435897436,181.5552699228792,28694.0,2054.328561690525,5872.384615384615,31412.04644412192,5872.384615384615,854.952380952381,31412.04644412192,1253403.0130624091,63142.24137931035,20.098039215686278,3569.0359477124184,16569.261006289307,19286.94968553459,19286.94968553459,837.8787878787879,3665.809768637532,108.64285714285714,56.07911392405064,13671.296296296296,371.2903225806451,4057.832278481013,47142.92857142857,21438.1875,54.833333333333336,26081.56401384083,2540.0,115.76923076923076,16.423076923076923,8608.709677419354,4463.780120481927,8250.491573033707,15110.75,8173.714285714285,157100.37650602407,104499.0512820513,9076.930817610064,2611.25,428.0,14.663461538461538,2694.0,3569.0359477124184,86.24595469255664,678.7183544303797,494.57142857142856,712.4603174603175,663176.1973875181,10245.87593728698,5071.786163522012,1868.867924528302,26081.56401384083,3403.344867358708,4793.829296424452,64983.42138364781,3272.80163599182,5712.33671988389,9194.277108433736,608.4770114942529,42.484177215189874,466477.57812500006,3695.444059976932,3517.9333333333334,345.6428571428572,579.0625,7892.142857142857,5038.387096774193,45601.61516853933,1992.4528301886792,2647.5,5872.384615384615,6965.361445783132,64.01384083044982,45601.61516853933,23123.5,1992.4528301886792,2540.0,9060.337370242214,14.663461538461538,3882.680981595092,36.37096774193548,193984.2734375,2231.547169811321,108.64285714285714,329.7142857142857,117.49826989619376,773.5849056603774,36.37096774193548,8608.709677419354,371.2903225806451,45481.42307692308,10245.87593728698,63142.24137931035,678.7183544303797,11555.9375,4528.380503144654,2499.201741654572,10736.622807017544,5222.5,1901.1290322580644,93302.72435897436,1702.1929824561405,114208.8534107402,343.1394601542417,10245.87593728698,8173.714285714285,140637.14285714287,132.94270833333334,579.0625,663176.1973875181,1180.5379746835442,1236.25,26081.56401384083,854.952380952381,2010.9477124183009,30698.85714285714,11.175616835994196,90677.41228070176,38128.80258899677,663176.1973875181,71138.51966292135,1236.25,31412.04644412192,50574.625,83347.75862068967,12274.009146341465,90677.41228070176,808.2857142857143,11.175616835994196,11555.9375,86.24595469255664,41871.69230769231,19129.33333333333,329.7142857142857,1236.25,2637.8993710691825,579.7777777777778,30698.85714285714,329.7142857142857,2647.5,466477.57812500006,102.64285714285714,12691.209677419354,12317.397660818711,220.55016181229772,19147.454268292684,9304.668674698794,4057.832278481013,47142.92857142857,1630.1966292134832,4463.780120481927,2002.1844660194176,5071.786163522012,7035.866666666667,13504.20634920635,21601.383647798742,10245.87593728698,10861.245674740485,176.36477987421384,12691.209677419354,1432.2712418300653,608.4770114942529,10736.622807017544,3695.444059976932,157100.37650602407,1702.1929824561405,51795.97953216374,2386.449438202247,117.22222222222224,120.98615916955016,777.0363321799308,12274.009146341465,2611.25,2242.446601941748,168764.57142857145,627.2222222222222,40608.41346153846,2002.1844660194176,157.46855345911948,2647.5,119015.43674698794,579.0625,329.7142857142857,13121.345911949686,71138.51966292135,207.39062500000003,30698.85714285714,9060.337370242214,1529.7752808988764,3071.4691011235955,46247.0,538.8571428571429,16347.42857142857,23123.5,132.94270833333334,6984.389273356401,12691.209677419354,2499.201741654572,30221.5,15229.451612903224,191.11111111111111,428.0,3578.592162554427,11715.487421383648,19129.33333333333,30221.5,6432.321799307958,41871.69230769231,42.484177215189874,16918.132716049382,3695.444059976932,13504.20634920635,15617.489114658929,117.49826989619376,16569.261006289307,96.59546925566345,678.7183544303797,10146.898432174508,678.7183544303797,131.55526992287918,47142.92857142857,79091.23475609756,736.1797752808989,1180.5379746835442,29354.53846153846,45481.42307692308,21438.1875,6965.361445783132,31412.04644412192,10146.898432174508,11791.8,15617.489114658929,1677.5078125000002,5456.578050443081,14626.074074074077,94285.85714285714,248.6394601542416,5456.578050443081,26081.56401384083,63142.24137931035,12317.397660818711,12317.397660818711,608.4770114942529,11.175616835994196,10861.245674740485,2566.6935483870966,11555.9375,678.7183544303797,1529.7752808988764,1432.2712418300653,518.4642857142858,8104.40251572327,63142.24137931035,3798.928571428572,4057.832278481013,1526.2857142857142,2854.854368932039,3403.344867358708,9306.611111111111,538.8571428571429,13671.296296296296,117.22222222222224,343.1394601542417],\"xaxis\":\"x\",\"y\":[4785.592155979585,378.9394302913829,15365.600809369838,4785.592155979585,4070.255357333951,134757.3771732384,14409.557558767568,5813.845282617682,61516.49587090381,1510.6755468797405,98738.27282520698,1684.2601507265988,1088.107600326137,647.864369876902,4263.755978756964,14168.403568365671,487.3481032940997,4287.792726026477,51779.415544128475,19934.734830917627,12141.409803201397,87747.52966460225,5818.94510670397,377.43130038813075,12797.394868451114,389.0359797814606,19263.507069512012,40163.79013647013,377.43130038813075,23840.068464074022,487.3481032940997,400.48488833402286,126112.56377290396,11223.080944977459,522.1062342859491,415175.9779430929,894.6750043489748,519.4101103091041,2138.6141864173633,19263.507069512012,2790.085070463646,2196.4290704108694,4263.755978756964,2244.514746383961,2963.0052419712265,602.4723068239653,5217.814575086902,410.08771833436947,16913.133647514336,390.2429375597753,489.6064298303322,16311.253798810561,1109.562627058514,2715.348806915594,2281.9990642021894,6353.789558047462,37073.75373050823,11896.354947646087,38882.42895370776,797.0601491084628,703.1493477716122,388.482661364839,481.8437277075316,3747.013377347842,16794.12337436424,1571.4700357476117,2257.4161561731,37073.75373050823,43146.57407027896,76460.52042984031,5813.845282617682,433.93372568151483,50253.31197444373,2781.8507793892813,2963.0052419712265,450.36262704088375,323624.6828685297,2286.347850033103,959.8167805278175,1463.9293549917084,25867.060321463283,388.50455558540244,3461.34813854915,10658.874464205835,48286.68591679114,4070.54807420052,1208.1895902424544,13863.416557439898,3913.805102706469,1545.439458867743,48286.68591679114,664.1495092797293,12797.394868451114,415.88888264864494,24308.715376885695,17460.789585310762,13878.585909613186,2138.6141864173633,3258.406190332729,5925.265679815453,1797.2371240684145,47713.131047358365,51804.0528093027,1099.5606427530397,40683.104312073505,8508.45844428347,1571.3535403980425,505.4911026847705,213132.54291644722,4263.755978756964,2570.353838719455,3926.506181336219,3317.1418553360736,54758.90192605476,20585.396531692135,377.43130038813075,406.91804655949966,120990.40817472423,4395.853637740449,19387.390319584494,2412.686086825897,19699.926384269966,12552.025861937103,7368.391717428835,390.09029678781303,2262.905415567944,11572.521113313724,56931.5110267007,15545.52362930884,1239.906233381196,17460.789585310762,1926.1552505875645,10673.158532726991,9907.699090223898,454.81639486308137,6355.618165841122,19934.734830917627,2858.35606741023,2834.2664976391197,665.469888483012,11592.823783640883,16177.143075924467,12543.725418313918,317.63569157648635,2257.4161561731,15201.471014315619,45645.23591676211,8323.62833082682,376.8168895165831,213132.54291644722,16698.569941711827,663.3571920970296,20710.099320853376,346.28222029939593,513.9332229141203,323.60536008687086,323624.6828685297,1301.212252741579,16913.133647514336,505.4911026847705,632.0783029798903,778.1760841513764,2635.5625663138067,632.0783029798903,76574.72476531091,11492.974658748008,1239.906233381196,5163.94089137517,494.71513791291954,11527.578799029196,19176.79696136619,8979.131225405608,415175.9779430929,2754.6914615362707,2567.0739167219367,378.9394302913829,3747.013377347842,2138.6141864173633,3913.805102706469,10871.491666793676,2516.669574686992,18752.149151877966,636.9170394143573,8323.62833082682,17785.632844249434,2407.321312452001,1686.4843440391876,1051.2986748894868,49435.50780135217,610.4363857799107,960.0492155948752,346.28222029939593,7141.329503589847,8187.405610699661,1148.288091129662,1686.4843440391876,324.6947768318741,320.7835266802878,639820.6545150073,3317.1418553360736,703.1493477716122,340.3871184326995,1531.8394329987157,1686.4843440391876,9236.305456033022,16619.83993793382,463.3944227377964,4287.792726026477,3364.1619784229933,2019.1544585081797,2715.348806915594,5163.94089137517,10185.63650295469,436.06660273854754,26293.480165383102,4218.370391131691,76460.52042984031,7915.880111460361,25978.487349635714,2375.22637673234,489.7605752448112,376.8168895165831,3756.2286447454576,1797.2371240684145,3060.8574440447824,1384.0395692783663,1535.8631900519042,6162.533552625073,2276.6020512892946,14800.536096877271,1535.8631900519042,7368.391717428835,340.3871184326995,40283.97684677175,325.06940680600604,1695.6732046475156,1028.5053850528614,51779.415544128475,92018.35013115287,505.4911026847705,18752.149151877966,3667.712553203018,5968.182975715722,34939.27854355379,6424.274585977019,992.354894936303,30596.638581578518,639820.6545150073,65413.624508456036,324.82371754886964,3747.013377347842,16698.569941711827,19387.390319584494,19387.390319584494,1148.288091129662,6305.285970941779,492.1628050669814,346.28222029939593,14168.403568365671,663.3571920970296,4218.370391131691,45766.272960899,37175.69967364701,369.63985077669076,22891.92825541111,2754.6914615362707,405.6544524204279,319.54816919005003,8698.931074864986,5689.033000226852,11752.173931839643,26293.480165383102,8187.405610699661,117110.65135820676,90877.76737128492,8855.335527589015,3229.016296504339,703.1493477716122,319.72742324233695,1604.2554168141014,3769.9108375996702,396.30197122916206,959.8167805278175,632.0783029798903,999.9729800621147,731503.1707028296,17075.133945943726,5082.686543693957,2107.5040932279385,22891.92825541111,4219.676962291559,5818.94510670397,61516.49587090381,3617.0754679045876,5813.845282617682,7141.329503589847,932.7370475860574,346.28222029939593,415175.9779430929,4555.635369302835,3885.8140646224183,769.1955699368395,953.6647702716481,8337.819513819635,5163.94089137517,48246.709882894014,2276.6020512892946,2886.664844581823,5968.182975715722,7368.391717428835,378.9394302913829,63573.70285359673,40074.17801737161,2276.6020512892946,3138.4978117622,8151.559019833033,319.72742324233695,2286.347850033103,340.3871184326995,172828.89934304,2407.321312452001,410.08048522816836,747.818087951304,407.0672088952674,1088.107600326137,341.517050774033,8698.931074864986,667.3272676429804,39725.42364104348,10673.158532726991,65413.624508456036,959.8167805278175,13195.11592262944,4785.592155979585,2834.2664976391197,15201.471014315619,2963.0052419712265,2425.884027039221,98738.27282520698,1997.7384398419902,115873.73047883328,489.0303345318461,10673.158532726991,9457.064447629586,137428.5757499219,449.0579108608325,1301.212252741579,1085751.3630379443,1502.4134405828336,1684.2601507265988,22891.92825541111,992.354894936303,2244.514746383961,31550.15438840883,316.0906893952995,90462.3574812228,37318.37237669782,639820.6545150073,45645.23591676211,1684.2601507265988,30596.638581578518,56931.5110267007,76460.52042984031,12141.409803201397,95635.30862544454,839.3500692330289,316.62245060704845,13195.11592262944,389.0359797814606,41802.402147140514,19263.507069512012,747.818087951304,1535.8631900519042,2790.085070463646,803.8781088470796,29908.894508749334,648.872490598366,2858.35606741023,415175.9779430929,409.7821718132848,12543.725418313918,17394.662595168105,522.1062342859491,12141.409803201397,9740.51689224938,5199.4234913728005,45766.272960899,2567.0739167219367,4831.715916465941,2417.5880406486763,5082.686543693957,3697.7340063828487,13472.111607949182,20652.753180263422,11602.10423834572,12797.394868451114,471.44073265789405,12543.725418313918,1695.6732046475156,932.7370475860574,10980.322568203586,4555.635369302835,117110.65135820676,2094.8448847085992,54758.90192605476,1826.31018819446,421.9954832228255,410.08771833436947,978.2266656454766,12141.409803201397,4796.262256309382,2236.064155834039,135924.7927322855,1041.1204286449113,40221.84276082843,2273.3851256392354,461.10966099955675,2858.35606741023,143848.60557702882,953.6647702716481,648.872490598366,12664.975331868296,45645.23591676211,489.7605752448112,29908.894508749334,8151.559019833033,2427.747778574022,2262.905415567944,23840.068464074022,866.7970691016989,8187.405610699661,26195.686125920434,449.0579108608325,6353.789558047462,12679.428015781728,2715.348806915594,15684.810589735318,12543.725418313918,504.4494927620649,703.1493477716122,4250.960414621229,11896.354947646087,25978.487349635714,15684.810589735318,5875.699548389586,41802.402147140514,347.0090494475603,16909.279272683176,4555.635369302835,15368.26716660901,16108.716384819742,407.0672088952674,16698.569941711827,388.482661364839,993.553834752781,10573.002781125038,971.4284514069652,450.36262704088375,45766.272960899,76574.72476531091,774.5157686911542,1443.732437768414,19176.79696136619,39725.42364104348,24308.715376885695,8706.164457317907,32091.295039989156,11492.974658748008,13508.076892121393,16108.716384819742,1797.2371240684145,5826.8479598607,15545.52362930884,45766.272960899,438.4351253031718,5826.8479598607,22891.92825541111,65413.624508456036,12552.025861937103,12552.025861937103,932.7370475860574,316.0906893952995,12797.394868451114,2860.1717851882872,11807.964454280216,1123.9090100996427,1913.5805743985902,1816.3382332975395,647.864369876902,8323.62833082682,65413.624508456036,5403.795319141717,4218.370391131691,1531.8394329987157,3111.527273406017,4219.676962291559,11223.080944977459,866.7970691016989,13722.736128528055,436.06660273854754,489.0303345318461],\"yaxis\":\"y\",\"type\":\"scatter\"}],                        {\"template\":{\"data\":{\"bar\":[{\"error_x\":{\"color\":\"#2a3f5f\"},\"error_y\":{\"color\":\"#2a3f5f\"},\"marker\":{\"line\":{\"color\":\"#E5ECF6\",\"width\":0.5},\"pattern\":{\"fillmode\":\"overlay\",\"size\":10,\"solidity\":0.2}},\"type\":\"bar\"}],\"barpolar\":[{\"marker\":{\"line\":{\"color\":\"#E5ECF6\",\"width\":0.5},\"pattern\":{\"fillmode\":\"overlay\",\"size\":10,\"solidity\":0.2}},\"type\":\"barpolar\"}],\"carpet\":[{\"aaxis\":{\"endlinecolor\":\"#2a3f5f\",\"gridcolor\":\"white\",\"linecolor\":\"white\",\"minorgridcolor\":\"white\",\"startlinecolor\":\"#2a3f5f\"},\"baxis\":{\"endlinecolor\":\"#2a3f5f\",\"gridcolor\":\"white\",\"linecolor\":\"white\",\"minorgridcolor\":\"white\",\"startlinecolor\":\"#2a3f5f\"},\"type\":\"carpet\"}],\"choropleth\":[{\"colorbar\":{\"outlinewidth\":0,\"ticks\":\"\"},\"type\":\"choropleth\"}],\"contour\":[{\"colorbar\":{\"outlinewidth\":0,\"ticks\":\"\"},\"colorscale\":[[0.0,\"#0d0887\"],[0.1111111111111111,\"#46039f\"],[0.2222222222222222,\"#7201a8\"],[0.3333333333333333,\"#9c179e\"],[0.4444444444444444,\"#bd3786\"],[0.5555555555555556,\"#d8576b\"],[0.6666666666666666,\"#ed7953\"],[0.7777777777777778,\"#fb9f3a\"],[0.8888888888888888,\"#fdca26\"],[1.0,\"#f0f921\"]],\"type\":\"contour\"}],\"contourcarpet\":[{\"colorbar\":{\"outlinewidth\":0,\"ticks\":\"\"},\"type\":\"contourcarpet\"}],\"heatmap\":[{\"colorbar\":{\"outlinewidth\":0,\"ticks\":\"\"},\"colorscale\":[[0.0,\"#0d0887\"],[0.1111111111111111,\"#46039f\"],[0.2222222222222222,\"#7201a8\"],[0.3333333333333333,\"#9c179e\"],[0.4444444444444444,\"#bd3786\"],[0.5555555555555556,\"#d8576b\"],[0.6666666666666666,\"#ed7953\"],[0.7777777777777778,\"#fb9f3a\"],[0.8888888888888888,\"#fdca26\"],[1.0,\"#f0f921\"]],\"type\":\"heatmap\"}],\"heatmapgl\":[{\"colorbar\":{\"outlinewidth\":0,\"ticks\":\"\"},\"colorscale\":[[0.0,\"#0d0887\"],[0.1111111111111111,\"#46039f\"],[0.2222222222222222,\"#7201a8\"],[0.3333333333333333,\"#9c179e\"],[0.4444444444444444,\"#bd3786\"],[0.5555555555555556,\"#d8576b\"],[0.6666666666666666,\"#ed7953\"],[0.7777777777777778,\"#fb9f3a\"],[0.8888888888888888,\"#fdca26\"],[1.0,\"#f0f921\"]],\"type\":\"heatmapgl\"}],\"histogram\":[{\"marker\":{\"pattern\":{\"fillmode\":\"overlay\",\"size\":10,\"solidity\":0.2}},\"type\":\"histogram\"}],\"histogram2d\":[{\"colorbar\":{\"outlinewidth\":0,\"ticks\":\"\"},\"colorscale\":[[0.0,\"#0d0887\"],[0.1111111111111111,\"#46039f\"],[0.2222222222222222,\"#7201a8\"],[0.3333333333333333,\"#9c179e\"],[0.4444444444444444,\"#bd3786\"],[0.5555555555555556,\"#d8576b\"],[0.6666666666666666,\"#ed7953\"],[0.7777777777777778,\"#fb9f3a\"],[0.8888888888888888,\"#fdca26\"],[1.0,\"#f0f921\"]],\"type\":\"histogram2d\"}],\"histogram2dcontour\":[{\"colorbar\":{\"outlinewidth\":0,\"ticks\":\"\"},\"colorscale\":[[0.0,\"#0d0887\"],[0.1111111111111111,\"#46039f\"],[0.2222222222222222,\"#7201a8\"],[0.3333333333333333,\"#9c179e\"],[0.4444444444444444,\"#bd3786\"],[0.5555555555555556,\"#d8576b\"],[0.6666666666666666,\"#ed7953\"],[0.7777777777777778,\"#fb9f3a\"],[0.8888888888888888,\"#fdca26\"],[1.0,\"#f0f921\"]],\"type\":\"histogram2dcontour\"}],\"mesh3d\":[{\"colorbar\":{\"outlinewidth\":0,\"ticks\":\"\"},\"type\":\"mesh3d\"}],\"parcoords\":[{\"line\":{\"colorbar\":{\"outlinewidth\":0,\"ticks\":\"\"}},\"type\":\"parcoords\"}],\"pie\":[{\"automargin\":true,\"type\":\"pie\"}],\"scatter\":[{\"marker\":{\"colorbar\":{\"outlinewidth\":0,\"ticks\":\"\"}},\"type\":\"scatter\"}],\"scatter3d\":[{\"line\":{\"colorbar\":{\"outlinewidth\":0,\"ticks\":\"\"}},\"marker\":{\"colorbar\":{\"outlinewidth\":0,\"ticks\":\"\"}},\"type\":\"scatter3d\"}],\"scattercarpet\":[{\"marker\":{\"colorbar\":{\"outlinewidth\":0,\"ticks\":\"\"}},\"type\":\"scattercarpet\"}],\"scattergeo\":[{\"marker\":{\"colorbar\":{\"outlinewidth\":0,\"ticks\":\"\"}},\"type\":\"scattergeo\"}],\"scattergl\":[{\"marker\":{\"colorbar\":{\"outlinewidth\":0,\"ticks\":\"\"}},\"type\":\"scattergl\"}],\"scattermapbox\":[{\"marker\":{\"colorbar\":{\"outlinewidth\":0,\"ticks\":\"\"}},\"type\":\"scattermapbox\"}],\"scatterpolar\":[{\"marker\":{\"colorbar\":{\"outlinewidth\":0,\"ticks\":\"\"}},\"type\":\"scatterpolar\"}],\"scatterpolargl\":[{\"marker\":{\"colorbar\":{\"outlinewidth\":0,\"ticks\":\"\"}},\"type\":\"scatterpolargl\"}],\"scatterternary\":[{\"marker\":{\"colorbar\":{\"outlinewidth\":0,\"ticks\":\"\"}},\"type\":\"scatterternary\"}],\"surface\":[{\"colorbar\":{\"outlinewidth\":0,\"ticks\":\"\"},\"colorscale\":[[0.0,\"#0d0887\"],[0.1111111111111111,\"#46039f\"],[0.2222222222222222,\"#7201a8\"],[0.3333333333333333,\"#9c179e\"],[0.4444444444444444,\"#bd3786\"],[0.5555555555555556,\"#d8576b\"],[0.6666666666666666,\"#ed7953\"],[0.7777777777777778,\"#fb9f3a\"],[0.8888888888888888,\"#fdca26\"],[1.0,\"#f0f921\"]],\"type\":\"surface\"}],\"table\":[{\"cells\":{\"fill\":{\"color\":\"#EBF0F8\"},\"line\":{\"color\":\"white\"}},\"header\":{\"fill\":{\"color\":\"#C8D4E3\"},\"line\":{\"color\":\"white\"}},\"type\":\"table\"}]},\"layout\":{\"annotationdefaults\":{\"arrowcolor\":\"#2a3f5f\",\"arrowhead\":0,\"arrowwidth\":1},\"autotypenumbers\":\"strict\",\"coloraxis\":{\"colorbar\":{\"outlinewidth\":0,\"ticks\":\"\"}},\"colorscale\":{\"diverging\":[[0,\"#8e0152\"],[0.1,\"#c51b7d\"],[0.2,\"#de77ae\"],[0.3,\"#f1b6da\"],[0.4,\"#fde0ef\"],[0.5,\"#f7f7f7\"],[0.6,\"#e6f5d0\"],[0.7,\"#b8e186\"],[0.8,\"#7fbc41\"],[0.9,\"#4d9221\"],[1,\"#276419\"]],\"sequential\":[[0.0,\"#0d0887\"],[0.1111111111111111,\"#46039f\"],[0.2222222222222222,\"#7201a8\"],[0.3333333333333333,\"#9c179e\"],[0.4444444444444444,\"#bd3786\"],[0.5555555555555556,\"#d8576b\"],[0.6666666666666666,\"#ed7953\"],[0.7777777777777778,\"#fb9f3a\"],[0.8888888888888888,\"#fdca26\"],[1.0,\"#f0f921\"]],\"sequentialminus\":[[0.0,\"#0d0887\"],[0.1111111111111111,\"#46039f\"],[0.2222222222222222,\"#7201a8\"],[0.3333333333333333,\"#9c179e\"],[0.4444444444444444,\"#bd3786\"],[0.5555555555555556,\"#d8576b\"],[0.6666666666666666,\"#ed7953\"],[0.7777777777777778,\"#fb9f3a\"],[0.8888888888888888,\"#fdca26\"],[1.0,\"#f0f921\"]]},\"colorway\":[\"#636efa\",\"#EF553B\",\"#00cc96\",\"#ab63fa\",\"#FFA15A\",\"#19d3f3\",\"#FF6692\",\"#B6E880\",\"#FF97FF\",\"#FECB52\"],\"font\":{\"color\":\"#2a3f5f\"},\"geo\":{\"bgcolor\":\"white\",\"lakecolor\":\"white\",\"landcolor\":\"#E5ECF6\",\"showlakes\":true,\"showland\":true,\"subunitcolor\":\"white\"},\"hoverlabel\":{\"align\":\"left\"},\"hovermode\":\"closest\",\"mapbox\":{\"style\":\"light\"},\"paper_bgcolor\":\"white\",\"plot_bgcolor\":\"#E5ECF6\",\"polar\":{\"angularaxis\":{\"gridcolor\":\"white\",\"linecolor\":\"white\",\"ticks\":\"\"},\"bgcolor\":\"#E5ECF6\",\"radialaxis\":{\"gridcolor\":\"white\",\"linecolor\":\"white\",\"ticks\":\"\"}},\"scene\":{\"xaxis\":{\"backgroundcolor\":\"#E5ECF6\",\"gridcolor\":\"white\",\"gridwidth\":2,\"linecolor\":\"white\",\"showbackground\":true,\"ticks\":\"\",\"zerolinecolor\":\"white\"},\"yaxis\":{\"backgroundcolor\":\"#E5ECF6\",\"gridcolor\":\"white\",\"gridwidth\":2,\"linecolor\":\"white\",\"showbackground\":true,\"ticks\":\"\",\"zerolinecolor\":\"white\"},\"zaxis\":{\"backgroundcolor\":\"#E5ECF6\",\"gridcolor\":\"white\",\"gridwidth\":2,\"linecolor\":\"white\",\"showbackground\":true,\"ticks\":\"\",\"zerolinecolor\":\"white\"}},\"shapedefaults\":{\"line\":{\"color\":\"#2a3f5f\"}},\"ternary\":{\"aaxis\":{\"gridcolor\":\"white\",\"linecolor\":\"white\",\"ticks\":\"\"},\"baxis\":{\"gridcolor\":\"white\",\"linecolor\":\"white\",\"ticks\":\"\"},\"bgcolor\":\"#E5ECF6\",\"caxis\":{\"gridcolor\":\"white\",\"linecolor\":\"white\",\"ticks\":\"\"}},\"title\":{\"x\":0.05},\"xaxis\":{\"automargin\":true,\"gridcolor\":\"white\",\"linecolor\":\"white\",\"ticks\":\"\",\"title\":{\"standoff\":15},\"zerolinecolor\":\"white\",\"zerolinewidth\":2},\"yaxis\":{\"automargin\":true,\"gridcolor\":\"white\",\"linecolor\":\"white\",\"ticks\":\"\",\"title\":{\"standoff\":15},\"zerolinecolor\":\"white\",\"zerolinewidth\":2}}},\"xaxis\":{\"anchor\":\"y\",\"domain\":[0.0,1.0],\"title\":{\"text\":\"Actual\"}},\"yaxis\":{\"anchor\":\"x\",\"domain\":[0.0,1.0],\"title\":{\"text\":\"Prediction\"}},\"legend\":{\"tracegroupgap\":0},\"margin\":{\"t\":60},\"autosize\":false,\"width\":800,\"height\":500,\"title\":{\"text\":\"R2: 0.869\"}},                        {\"responsive\": true}                    ).then(function(){\n",
       "                            \n",
       "var gd = document.getElementById('239a6e0b-8482-49c8-9619-ebde564b91cd');\n",
       "var x = new MutationObserver(function (mutations, observer) {{\n",
       "        var display = window.getComputedStyle(gd).display;\n",
       "        if (!display || display === 'none') {{\n",
       "            console.log([gd, 'removed!']);\n",
       "            Plotly.purge(gd);\n",
       "            observer.disconnect();\n",
       "        }}\n",
       "}});\n",
       "\n",
       "// Listen for the removal of the full notebook cells\n",
       "var notebookContainer = gd.closest('#notebook-container');\n",
       "if (notebookContainer) {{\n",
       "    x.observe(notebookContainer, {childList: true});\n",
       "}}\n",
       "\n",
       "// Listen for the clearing of the current output cell\n",
       "var outputEl = gd.closest('.output');\n",
       "if (outputEl) {{\n",
       "    x.observe(outputEl, {childList: true});\n",
       "}}\n",
       "\n",
       "                        })                };                });            </script>        </div>"
      ]
     },
     "metadata": {},
     "output_type": "display_data"
    }
   ],
   "source": [
    "#### RUN AFTER EXERCISE 2.2.2.2.1 ####\n",
    "fig = px.scatter(x=y_test, y=y_pred,\n",
    "                 labels={\n",
    "                     \"y\": \"Prediction\",\n",
    "                     \"x\": \"Actual\"\n",
    "                 })\n",
    "fig.update_layout(\n",
    "  autosize=False,\n",
    "  width=800,\n",
    "  height=500,\n",
    "  title='R2: {:.3f}'.format(r2_score(y_test, y_pred))\n",
    "  )"
   ]
  },
  {
   "cell_type": "markdown",
   "metadata": {
    "id": "1Y-bhAb0rWpm"
   },
   "source": [
    "<a name='2.2.3'></a>\n",
    "\n",
    "### 4.2.3 Image Preprocessing\n",
    "\n",
    "[back to top](#top)\n",
    "\n",
    "Image preprocessing is beyond the scope of this session. We cover this topic in [General Applications of Neural Networks](https://wesleybeckner.github.io/general_applications_of_neural_networks/S3_Computer_Vision_I/). For now, know that there is a wealth of considerations for how to handle images, and they all fit within the realm of feature engineering."
   ]
  },
  {
   "cell_type": "markdown",
   "metadata": {
    "id": "ponptvjBsA-a"
   },
   "source": [
    "<a name='2.3'></a>\n",
    "\n",
    "## 4.3 Transformed Features\n",
    "\n",
    "[back to top](#top)\n",
    "\n",
    "*Transformed* features, are features that we would like to augment based on their relationship within their own distribution or to other (allegedly) independent data within our training set. e.g. we're not *deriving* new features based on some empirical knowledge of the data, rather we are changing them due to statistical properties that we can assess based on the data itself.\n"
   ]
  },
  {
   "cell_type": "markdown",
   "metadata": {
    "id": "w1bOUNYpsA3T"
   },
   "source": [
    "<a name='2.3.1'></a>\n",
    "\n",
    "### 4.3.1 Skewness\n",
    "\n",
    "[back to top](#top)\n",
    "\n",
    "<img src=\"https://i.pinimg.com/originals/d1/9f/7c/d19f7c7f5daaed737ab2516decea9874.png\" width=400px></img>\n",
    "\n",
    "Skewed data can lead to imbalances in our model prediction. Why? Skewed values in the distribution will bias the mean. When assigning weights to this input feature, therefore, the model will give preferential treatment to these values.\n",
    "\n",
    "To demonstrate, I'm going to use scipy to create some skewed data."
   ]
  },
  {
   "cell_type": "code",
   "execution_count": 102,
   "metadata": {
    "id": "mAvWPPjkPrL2"
   },
   "outputs": [],
   "source": [
    "from scipy.stats import skewnorm"
   ]
  },
  {
   "cell_type": "code",
   "execution_count": 103,
   "metadata": {
    "colab": {
     "base_uri": "https://localhost:8080/",
     "height": 287
    },
    "id": "Hj9uoI0xRGoT",
    "outputId": "8560f8f2-3833-4fdc-8cb4-6340528283b7"
   },
   "outputs": [
    {
     "data": {
      "text/plain": [
       "[<matplotlib.lines.Line2D at 0x7fa48d14a130>]"
      ]
     },
     "execution_count": 103,
     "metadata": {},
     "output_type": "execute_result"
    },
    {
     "data": {
      "image/png": "[encoded data removed]",
      "text/plain": [
       "<Figure size 432x288 with 1 Axes>"
      ]
     },
     "metadata": {},
     "output_type": "display_data"
    }
   ],
   "source": [
    "a = 10\n",
    "x = np.linspace(skewnorm.ppf(0.01, a),\n",
    "                skewnorm.ppf(0.99, a), 100)\n",
    "plt.plot(x, skewnorm.pdf(x, a),\n",
    "       'r-', lw=5, alpha=0.6, label='skewnorm pdf')"
   ]
  },
  {
   "cell_type": "markdown",
   "metadata": {
    "id": "ZWAGJWb1RzGM"
   },
   "source": [
    "We can now generate a random population based on this distribution"
   ]
  },
  {
   "cell_type": "code",
   "execution_count": 104,
   "metadata": {
    "colab": {
     "base_uri": "https://localhost:8080/",
     "height": 357
    },
    "id": "ldh4rtoYRW3c",
    "outputId": "be13ca95-32f6-4c91-8a0a-5acfb919c6d2"
   },
   "outputs": [
    {
     "data": {
      "text/plain": [
       "(array([113., 267., 225., 172., 116.,  62.,  26.,  13.,   2.,   4.]),\n",
       " array([-0.19733964,  0.15303313,  0.50340589,  0.85377866,  1.20415142,\n",
       "         1.55452419,  1.90489696,  2.25526972,  2.60564249,  2.95601526,\n",
       "         3.30638802]),\n",
       " <BarContainer object of 10 artists>)"
      ]
     },
     "execution_count": 104,
     "metadata": {},
     "output_type": "execute_result"
    },
    {
     "data": {
      "image/png": "[encoded data removed]",
      "text/plain": [
       "<Figure size 432x288 with 1 Axes>"
      ]
     },
     "metadata": {},
     "output_type": "display_data"
    }
   ],
   "source": [
    "r = skewnorm.rvs(a, size=1000)\n",
    "plt.hist(r)"
   ]
  },
  {
   "cell_type": "markdown",
   "metadata": {
    "id": "paQPypgw7Kpu"
   },
   "source": [
    "Unskewed data will return something close to 0 from calling `df.skew()`. When dealing with actual data, we can use `df.skew()` to determine whether we should transform our data. "
   ]
  },
  {
   "cell_type": "code",
   "execution_count": 105,
   "metadata": {
    "colab": {
     "base_uri": "https://localhost:8080/"
    },
    "id": "_r-HqRRq6RqQ",
    "outputId": "e3d089c3-20fe-4a8c-c586-b463df8dfcc2"
   },
   "outputs": [
    {
     "data": {
      "text/plain": [
       "0.9141902067398219"
      ]
     },
     "execution_count": 105,
     "metadata": {},
     "output_type": "execute_result"
    }
   ],
   "source": [
    "x = pd.DataFrame(r, columns=['Skewed Data'])\n",
    "x['Skewed Data'].skew()"
   ]
  },
  {
   "cell_type": "markdown",
   "metadata": {
    "id": "cLMUBjwL74GK"
   },
   "source": [
    "There are a handful of ways to deal with skewed data:\n",
    "\n",
    "* log transform\n",
    "* square root transform\n",
    "* Box-Cox transform\n",
    "\n",
    "Let's try the first two"
   ]
  },
  {
   "cell_type": "code",
   "execution_count": 106,
   "metadata": {
    "colab": {
     "base_uri": "https://localhost:8080/",
     "height": 787
    },
    "id": "sU6GTbKQ-ogY",
    "outputId": "7cf60866-6971-44e5-f58f-c2b33f0551b6"
   },
   "outputs": [
    {
     "name": "stdout",
     "output_type": "stream",
     "text": [
      "square root transformed skew: 0.0561\n",
      "log transformed skew: -1.6916\n"
     ]
    },
    {
     "name": "stderr",
     "output_type": "stream",
     "text": [
      "/home/wbeckner/anaconda3/envs/py39/lib/python3.9/site-packages/pandas/core/arraylike.py:364: RuntimeWarning:\n",
      "\n",
      "invalid value encountered in sqrt\n",
      "\n",
      "/home/wbeckner/anaconda3/envs/py39/lib/python3.9/site-packages/pandas/core/arraylike.py:364: RuntimeWarning:\n",
      "\n",
      "invalid value encountered in log\n",
      "\n"
     ]
    },
    {
     "data": {
      "text/plain": [
       "<matplotlib.legend.Legend at 0x7fa49157d340>"
      ]
     },
     "execution_count": 106,
     "metadata": {},
     "output_type": "execute_result"
    },
    {
     "data": {
      "image/png": "[encoded data removed]",
      "text/plain": [
       "<Figure size 720x720 with 1 Axes>"
      ]
     },
     "metadata": {},
     "output_type": "display_data"
    }
   ],
   "source": [
    "print('square root transformed skew: {:.4f}'.format(np.sqrt(x['Skewed Data']).skew()))\n",
    "print('log transformed skew: {:.4f}'.format(np.log(x['Skewed Data']).skew()))\n",
    "fig, ax = plt.subplots(1, 1, figsize=(10,10))\n",
    "ax.hist(x['Skewed Data'], alpha=0.5, label='original: {:.2f}'.\n",
    "        format((x['Skewed Data']).skew()))\n",
    "ax.hist(np.sqrt(x['Skewed Data']), alpha=0.5, label='sqrt: {:.2f}'.\n",
    "        format(np.sqrt(x['Skewed Data']).skew()))\n",
    "ax.hist(np.log(x['Skewed Data']), alpha=0.5, label='log: {:.2f}'.\n",
    "        format(np.log(x['Skewed Data']).skew()))\n",
    "ax.legend()"
   ]
  },
  {
   "cell_type": "markdown",
   "metadata": {
    "id": "j6AwwU64Brtr"
   },
   "source": [
    "We see we didn't get much traction with the log transform, and the log transform will not be able to handle 0 values, and so we will sometimes have to code exceptions for those. \n",
    "\n",
    "Box-Cox is often a good route to go, but it has the added restriction that the data has to all be above 0.\n",
    "\n",
    "Let's create a new distribution with this added restriction"
   ]
  },
  {
   "cell_type": "code",
   "execution_count": 107,
   "metadata": {
    "colab": {
     "base_uri": "https://localhost:8080/",
     "height": 356
    },
    "id": "6MffXzaTCXaK",
    "outputId": "88f40942-b52d-4055-cf64-1e0b98665a55"
   },
   "outputs": [
    {
     "data": {
      "text/plain": [
       "(array([220., 277., 182., 127.,  66.,  39.,  17.,   5.,   4.,   2.]),\n",
       " array([2.17150536e-03, 3.88613862e-01, 7.75056219e-01, 1.16149858e+00,\n",
       "        1.54794093e+00, 1.93438329e+00, 2.32082565e+00, 2.70726800e+00,\n",
       "        3.09371036e+00, 3.48015272e+00, 3.86659507e+00]),\n",
       " <BarContainer object of 10 artists>)"
      ]
     },
     "execution_count": 107,
     "metadata": {},
     "output_type": "execute_result"
    },
    {
     "data": {
      "image/png": "[encoded data removed]",
      "text/plain": [
       "<Figure size 432x288 with 1 Axes>"
      ]
     },
     "metadata": {},
     "output_type": "display_data"
    }
   ],
   "source": [
    "a = 6\n",
    "r = skewnorm.rvs(a, size=1000)\n",
    "r = [i for i in r if i > 0]\n",
    "plt.hist(r)"
   ]
  },
  {
   "cell_type": "code",
   "execution_count": 108,
   "metadata": {
    "colab": {
     "base_uri": "https://localhost:8080/",
     "height": 611
    },
    "id": "leY0gci_8s7c",
    "outputId": "547f3630-46ed-4d00-9ba8-f23b0e779d8c"
   },
   "outputs": [
    {
     "data": {
      "text/plain": [
       "<matplotlib.legend.Legend at 0x7fa492058f40>"
      ]
     },
     "execution_count": 108,
     "metadata": {},
     "output_type": "execute_result"
    },
    {
     "data": {
      "image/png": "[encoded data removed]",
      "text/plain": [
       "<Figure size 720x720 with 1 Axes>"
      ]
     },
     "metadata": {},
     "output_type": "display_data"
    }
   ],
   "source": [
    "from scipy import stats\n",
    "\n",
    "x = pd.DataFrame(r, columns=['Skewed Data'])\n",
    "fig, ax = plt.subplots(1, 1, figsize=(10,10))\n",
    "ax.hist(x['Skewed Data'], alpha=0.5, label='original: {:.2f}'.\n",
    "        format((x['Skewed Data']).skew()))\n",
    "ax.hist(np.sqrt(x['Skewed Data']), alpha=0.5, label='sqrt: {:.2f}'.\n",
    "        format(np.sqrt(x['Skewed Data']).skew()))\n",
    "ax.hist(np.log(x['Skewed Data']), alpha=0.5, label='log: {:.2f}'.\n",
    "        format(np.log(x['Skewed Data']).skew()))\n",
    "ax.hist(stats.boxcox(x['Skewed Data'])[0], alpha=0.5, label='box-cox: {:.2f}'.\n",
    "        format(pd.DataFrame(stats.boxcox(x['Skewed Data'])[0])[0].skew()))\n",
    "ax.legend()\n"
   ]
  },
  {
   "cell_type": "markdown",
   "metadata": {
    "id": "vUFr0tr_U9SY"
   },
   "source": [
    "#### 🏋️ Exercise 3: Transform data from a gamma distribution\n",
    "\n",
    "Repeat section 4.3.1, this time synthesizing a gamma distribution and transforming it. Which transformation best reduces the skew? Do this for a dataset that does not contain values at or below 0."
   ]
  },
  {
   "cell_type": "code",
   "execution_count": 112,
   "metadata": {
    "colab": {
     "base_uri": "https://localhost:8080/",
     "height": 863
    },
    "id": "2Az_hrHAbgO3",
    "outputId": "f2f3df9f-fc72-4584-dc01-e76b3d6fae0b"
   },
   "outputs": [
    {
     "data": {
      "text/plain": [
       "<matplotlib.legend.Legend at 0x7fa49111dd30>"
      ]
     },
     "execution_count": 112,
     "metadata": {},
     "output_type": "execute_result"
    },
    {
     "data": {
      "image/png": "[encoded data removed]",
      "text/plain": [
       "<Figure size 720x720 with 1 Axes>"
      ]
     },
     "metadata": {},
     "output_type": "display_data"
    }
   ],
   "source": [
    "# Cell for exercise 3\n",
    "from scipy.stats import gamma\n"
   ]
  },
  {
   "cell_type": "markdown",
   "metadata": {
    "id": "5S3aYNyju2MY"
   },
   "source": [
    "<a name='2.3.2'></a>\n",
    "\n",
    "### 4.3.2 Colinearity\n",
    "\n",
    "[back to top](#top)\n",
    "\n",
    "Colinearity can also affect the performance of your machine learning model. In particular, if features are colinear, it can be easy for your model to overfit to your training dataset. This is often mitigated by regularization. If you're curious you can read more about it on [this discussion from StackExchange](https://stats.stackexchange.com/questions/168622/why-is-multicollinearity-not-checked-in-modern-statistics-machine-learning). We will still explore it explicitly here by calculating the [Variance Inflation Factor](https://www.statsmodels.org/stable/_modules/statsmodels/stats/outliers_influence.html#variance_inflation_factor) (VIF) on some hypothetical data.\n",
    "\n",
    "$$ VIF = \\frac{1}{1-R^2}$$\n",
    "\n",
    "Usually we are concerned about data with a VIF above 10\n",
    "\n"
   ]
  },
  {
   "cell_type": "markdown",
   "metadata": {
    "id": "Oq2oyBlgowLs"
   },
   "source": [
    "<a name='x.3.2.1'></a>\n",
    "\n",
    "#### 4.3.2.1 Detecting Colinearity\n",
    "\n",
    "[back to top](#top)"
   ]
  },
  {
   "cell_type": "code",
   "execution_count": null,
   "metadata": {
    "id": "b7munbkOX-li"
   },
   "outputs": [],
   "source": [
    "from statsmodels.stats.outliers_influence import variance_inflation_factor"
   ]
  },
  {
   "cell_type": "markdown",
   "metadata": {
    "id": "qOm6kYmkZ6Kn"
   },
   "source": [
    "**Step 1: Make some data**"
   ]
  },
  {
   "cell_type": "code",
   "execution_count": 113,
   "metadata": {
    "colab": {
     "base_uri": "https://localhost:8080/",
     "height": 339
    },
    "id": "ynih-ZQ8YiWn",
    "outputId": "69e0e44c-355e-4f5c-8e13-8f572da1f0ff"
   },
   "outputs": [
    {
     "data": {
      "text/plain": [
       "<matplotlib.legend.Legend at 0x7fa49121ca90>"
      ]
     },
     "execution_count": 113,
     "metadata": {},
     "output_type": "execute_result"
    },
    {
     "data": {
      "image/png": "[encoded data removed]",
      "text/plain": [
       "<Figure size 360x360 with 1 Axes>"
      ]
     },
     "metadata": {},
     "output_type": "display_data"
    }
   ],
   "source": [
    "# we can throttle the error rate\n",
    "random.seed(42)\n",
    "\n",
    "# x2 will be sqrt of x1 plus some error\n",
    "def func(x, err):\n",
    "  return x**.5 + (err * random.randint(-1,1) * random.random() * x)\n",
    "  \n",
    "x0 = range(100)\n",
    "x1 = [func(i, .05) for i in x0] # HIGH degree of colinearity with x0\n",
    "x2 = [func(i, 1) for i in x0] # MED degree of colinearity with x0\n",
    "x3 = [random.randint(0,100) for i in x0] # NO degree of colinearity with x0\n",
    "\n",
    "# take a look\n",
    "fig, ax = plt.subplots(1,1, figsize=(5,5))\n",
    "ax.plot(x0, x1, label='x1')\n",
    "ax.plot(x0, x2, label='x2')\n",
    "ax.plot(x0, x3, label='x3')\n",
    "ax.legend()"
   ]
  },
  {
   "cell_type": "markdown",
   "metadata": {
    "id": "sstUK2Slh7K3"
   },
   "source": [
    "To calculate the colinearities I'm going to aggregate these x's into a dataframe:"
   ]
  },
  {
   "cell_type": "code",
   "execution_count": 114,
   "metadata": {
    "colab": {
     "base_uri": "https://localhost:8080/",
     "height": 205
    },
    "id": "E3vgJN_lc1M9",
    "outputId": "725ae2f1-b617-4aa4-8a9a-6e68ad489a1d"
   },
   "outputs": [
    {
     "data": {
      "text/html": [
       "<div>\n",
       "<style scoped>\n",
       "    .dataframe tbody tr th:only-of-type {\n",
       "        vertical-align: middle;\n",
       "    }\n",
       "\n",
       "    .dataframe tbody tr th {\n",
       "        vertical-align: top;\n",
       "    }\n",
       "\n",
       "    .dataframe thead th {\n",
       "        text-align: right;\n",
       "    }\n",
       "</style>\n",
       "<table border=\"1\" class=\"dataframe\">\n",
       "  <thead>\n",
       "    <tr style=\"text-align: right;\">\n",
       "      <th></th>\n",
       "      <th>x0</th>\n",
       "      <th>x1</th>\n",
       "      <th>x2</th>\n",
       "      <th>x3</th>\n",
       "    </tr>\n",
       "  </thead>\n",
       "  <tbody>\n",
       "    <tr>\n",
       "      <th>0</th>\n",
       "      <td>0.0</td>\n",
       "      <td>0.000000</td>\n",
       "      <td>0.000000</td>\n",
       "      <td>29.0</td>\n",
       "    </tr>\n",
       "    <tr>\n",
       "      <th>1</th>\n",
       "      <td>1.0</td>\n",
       "      <td>1.013751</td>\n",
       "      <td>0.721523</td>\n",
       "      <td>28.0</td>\n",
       "    </tr>\n",
       "    <tr>\n",
       "      <th>2</th>\n",
       "      <td>2.0</td>\n",
       "      <td>1.400260</td>\n",
       "      <td>1.414214</td>\n",
       "      <td>3.0</td>\n",
       "    </tr>\n",
       "    <tr>\n",
       "      <th>3</th>\n",
       "      <td>3.0</td>\n",
       "      <td>1.630546</td>\n",
       "      <td>-0.438007</td>\n",
       "      <td>84.0</td>\n",
       "    </tr>\n",
       "    <tr>\n",
       "      <th>4</th>\n",
       "      <td>4.0</td>\n",
       "      <td>2.017388</td>\n",
       "      <td>4.304847</td>\n",
       "      <td>24.0</td>\n",
       "    </tr>\n",
       "  </tbody>\n",
       "</table>\n",
       "</div>"
      ],
      "text/plain": [
       "    x0        x1        x2    x3\n",
       "0  0.0  0.000000  0.000000  29.0\n",
       "1  1.0  1.013751  0.721523  28.0\n",
       "2  2.0  1.400260  1.414214   3.0\n",
       "3  3.0  1.630546 -0.438007  84.0\n",
       "4  4.0  2.017388  4.304847  24.0"
      ]
     },
     "execution_count": 114,
     "metadata": {},
     "output_type": "execute_result"
    }
   ],
   "source": [
    "colin = pd.DataFrame([x0,x1,x2,x3]).T\n",
    "colin.columns = ['x0','x1','x2','x3']\n",
    "colin.head()"
   ]
  },
  {
   "cell_type": "markdown",
   "metadata": {
    "id": "3kZinqnqasPL"
   },
   "source": [
    "**Step 2: Calculate VIF factors**"
   ]
  },
  {
   "cell_type": "code",
   "execution_count": 115,
   "metadata": {
    "id": "PCQLZjJXbYo1"
   },
   "outputs": [],
   "source": [
    "# calculate VIF factors\n",
    "vif = pd.DataFrame()\n",
    "vif[\"VIF Factor\"] = [variance_inflation_factor(colin.values, i) for i in \n",
    "                     range(colin.shape[1])]\n",
    "vif[\"features\"] = colin.columns"
   ]
  },
  {
   "cell_type": "markdown",
   "metadata": {
    "id": "zRuKUCREauxw"
   },
   "source": [
    "**Step 3: Inspect VIF factors**"
   ]
  },
  {
   "cell_type": "code",
   "execution_count": 116,
   "metadata": {
    "colab": {
     "base_uri": "https://localhost:8080/",
     "height": 174
    },
    "id": "OwFcW3kObaiT",
    "outputId": "5750f047-8894-45f6-d394-0b3443b46875"
   },
   "outputs": [
    {
     "data": {
      "text/html": [
       "<div>\n",
       "<style scoped>\n",
       "    .dataframe tbody tr th:only-of-type {\n",
       "        vertical-align: middle;\n",
       "    }\n",
       "\n",
       "    .dataframe tbody tr th {\n",
       "        vertical-align: top;\n",
       "    }\n",
       "\n",
       "    .dataframe thead th {\n",
       "        text-align: right;\n",
       "    }\n",
       "</style>\n",
       "<table border=\"1\" class=\"dataframe\">\n",
       "  <thead>\n",
       "    <tr style=\"text-align: right;\">\n",
       "      <th></th>\n",
       "      <th>VIF Factor</th>\n",
       "      <th>features</th>\n",
       "    </tr>\n",
       "  </thead>\n",
       "  <tbody>\n",
       "    <tr>\n",
       "      <th>0</th>\n",
       "      <td>12.555415</td>\n",
       "      <td>x0</td>\n",
       "    </tr>\n",
       "    <tr>\n",
       "      <th>1</th>\n",
       "      <td>15.823872</td>\n",
       "      <td>x1</td>\n",
       "    </tr>\n",
       "    <tr>\n",
       "      <th>2</th>\n",
       "      <td>1.030609</td>\n",
       "      <td>x2</td>\n",
       "    </tr>\n",
       "    <tr>\n",
       "      <th>3</th>\n",
       "      <td>3.559468</td>\n",
       "      <td>x3</td>\n",
       "    </tr>\n",
       "  </tbody>\n",
       "</table>\n",
       "</div>"
      ],
      "text/plain": [
       "   VIF Factor features\n",
       "0   12.555415       x0\n",
       "1   15.823872       x1\n",
       "2    1.030609       x2\n",
       "3    3.559468       x3"
      ]
     },
     "metadata": {},
     "output_type": "display_data"
    }
   ],
   "source": [
    "# inspect VIF factors\n",
    "display(vif)"
   ]
  },
  {
   "cell_type": "markdown",
   "metadata": {},
   "source": [
    "In this case, we may remove either `x0` or `x1` from the dataset."
   ]
  },
  {
   "cell_type": "markdown",
   "metadata": {
    "id": "TPG1jrMtpDwB"
   },
   "source": [
    "<a name='x.3.2.2'></a>\n",
    "\n",
    "#### 4.3.2.2 Fixing Colinearity\n",
    "\n",
    "[back to top](#top)\n",
    "\n",
    "It is good to aknowledge where colinearity exists as this will influence the interpretability of your model. In most cases, however, it won't have a heavy influence on the performance of your model. \n",
    "\n",
    "A simple method of dealing with colinearity, is to remove the highest VIF features from your model, iteratively, assessing the performance and determining whether to keep the variable or not. \n",
    "\n",
    "Another method is to create some linear combination of the correlated variables. This is encapsulated in the section on dimensionality reduction."
   ]
  },
  {
   "cell_type": "markdown",
   "metadata": {
    "id": "Yz9Ul3tVu7UM"
   },
   "source": [
    "<a name='2.3.3'></a>\n",
    "\n",
    "### 4.3.3 Normalization\n",
    "\n",
    "[back to top](#top)\n",
    "\n",
    "Many learning algorithms require zero mean and unit variance to behave optimally. Sklearn preprocessing library contains a very usefull class, `StandardScaler` for handling this automatically for us.\n"
   ]
  },
  {
   "cell_type": "code",
   "execution_count": 117,
   "metadata": {
    "id": "WZthqLDcsNMb"
   },
   "outputs": [],
   "source": [
    "from sklearn.preprocessing import StandardScaler"
   ]
  },
  {
   "cell_type": "code",
   "execution_count": 118,
   "metadata": {
    "id": "EFYYOqi7sYJu"
   },
   "outputs": [],
   "source": [
    "scaler = StandardScaler()\n",
    "normed = scaler.fit_transform(colin)"
   ]
  },
  {
   "cell_type": "code",
   "execution_count": 119,
   "metadata": {
    "colab": {
     "base_uri": "https://localhost:8080/",
     "height": 285
    },
    "id": "hIYYWdbje9ui",
    "outputId": "f3fc1dc7-6794-47f4-c0cb-e7f51454e528"
   },
   "outputs": [
    {
     "data": {
      "text/plain": [
       "<AxesSubplot:ylabel='Density'>"
      ]
     },
     "execution_count": 119,
     "metadata": {},
     "output_type": "execute_result"
    },
    {
     "data": {
      "image/png": "[encoded data removed]",
      "text/plain": [
       "<Figure size 432x288 with 1 Axes>"
      ]
     },
     "metadata": {},
     "output_type": "display_data"
    }
   ],
   "source": [
    "colin[['x0','x1','x2','x3']].plot(kind='kde')"
   ]
  },
  {
   "cell_type": "code",
   "execution_count": 120,
   "metadata": {
    "colab": {
     "base_uri": "https://localhost:8080/",
     "height": 285
    },
    "id": "O1oxekJafMjT",
    "outputId": "f05fa42b-70a3-4165-cd25-dc47a896f5ce"
   },
   "outputs": [
    {
     "data": {
      "text/plain": [
       "<AxesSubplot:ylabel='Density'>"
      ]
     },
     "execution_count": 120,
     "metadata": {},
     "output_type": "execute_result"
    },
    {
     "data": {
      "image/png": "[encoded data removed]",
      "text/plain": [
       "<Figure size 432x288 with 1 Axes>"
      ]
     },
     "metadata": {},
     "output_type": "display_data"
    }
   ],
   "source": [
    "pd.DataFrame(normed, columns = [['x0','x1','x2','x3']]).plot(kind='kde')"
   ]
  },
  {
   "cell_type": "markdown",
   "metadata": {
    "id": "3BdtVZcPso6l"
   },
   "source": [
    "#### 🏋️ Exercise 4: Normalization affect on VIF \n",
    "\n",
    "In the above, we saw how to scale and center variables. How does this affect VIF? \n",
    "\n",
    "* Calculate the VIF for the scaled-centered data"
   ]
  },
  {
   "cell_type": "code",
   "execution_count": 123,
   "metadata": {
    "colab": {
     "base_uri": "https://localhost:8080/",
     "height": 174
    },
    "id": "t5yApoA-sr66",
    "outputId": "f8f9b76f-ad92-49ec-bc9f-0e51cf5fa6fe"
   },
   "outputs": [
    {
     "data": {
      "text/html": [
       "<div>\n",
       "<style scoped>\n",
       "    .dataframe tbody tr th:only-of-type {\n",
       "        vertical-align: middle;\n",
       "    }\n",
       "\n",
       "    .dataframe tbody tr th {\n",
       "        vertical-align: top;\n",
       "    }\n",
       "\n",
       "    .dataframe thead th {\n",
       "        text-align: right;\n",
       "    }\n",
       "</style>\n",
       "<table border=\"1\" class=\"dataframe\">\n",
       "  <thead>\n",
       "    <tr style=\"text-align: right;\">\n",
       "      <th></th>\n",
       "      <th>VIF Factor</th>\n",
       "      <th>features</th>\n",
       "    </tr>\n",
       "  </thead>\n",
       "  <tbody>\n",
       "    <tr>\n",
       "      <th>0</th>\n",
       "      <td>3.286048</td>\n",
       "      <td>x0</td>\n",
       "    </tr>\n",
       "    <tr>\n",
       "      <th>1</th>\n",
       "      <td>3.296881</td>\n",
       "      <td>x1</td>\n",
       "    </tr>\n",
       "    <tr>\n",
       "      <th>2</th>\n",
       "      <td>1.015805</td>\n",
       "      <td>x2</td>\n",
       "    </tr>\n",
       "    <tr>\n",
       "      <th>3</th>\n",
       "      <td>1.035537</td>\n",
       "      <td>x3</td>\n",
       "    </tr>\n",
       "  </tbody>\n",
       "</table>\n",
       "</div>"
      ],
      "text/plain": [
       "   VIF Factor features\n",
       "0    3.286048       x0\n",
       "1    3.296881       x1\n",
       "2    1.015805       x2\n",
       "3    1.035537       x3"
      ]
     },
     "metadata": {},
     "output_type": "display_data"
    }
   ],
   "source": [
    "# Code Cell for Exercise 4\n"
   ]
  },
  {
   "cell_type": "markdown",
   "metadata": {
    "id": "32ge2ha6u8BV"
   },
   "source": [
    "<a name='2.3.4'></a>\n",
    "\n",
    "### 4.3.4 Dimensionality Reduction\n",
    "\n",
    "[back to top](#top)\n",
    "\n",
    "Dimensionality reduction is an awesome way to do feature engineering. It is very commonly used. Because it is also an unsupervised machine learning technique, we will visit this topic in that section.\n",
    "\n",
    "\n"
   ]
  },
  {
   "cell_type": "markdown",
   "metadata": {
    "id": "7pded1fpvD6T"
   },
   "source": [
    "<a name='2.4'></a>\n",
    "\n",
    "## 4.4 Missing Data\n",
    "\n",
    "[back to top](#top)\n",
    "\n",
    "We will often have missing data in our datasets. How do we deal with this? Let's start by making some data with missing data. We'll use a numpy nan datatype to do this\n"
   ]
  },
  {
   "cell_type": "code",
   "execution_count": 124,
   "metadata": {
    "id": "G0oxfcsUxCx6"
   },
   "outputs": [],
   "source": [
    "from numpy import nan\n",
    "X = np.array([[ nan, 0,   3  ],\n",
    "              [ 3,   7,   9  ],\n",
    "              [ 3,   5,   2  ],\n",
    "              [ 4,   nan, 6  ],\n",
    "              [ 8,   8,   1  ]])\n",
    "y = np.array([14, 16, -1,  8, -5])"
   ]
  },
  {
   "cell_type": "markdown",
   "metadata": {
    "id": "SVmBlKduvEFv"
   },
   "source": [
    "<a name='2.4.1'></a>\n",
    "\n",
    "### 4.4.1 Imputation\n",
    "\n",
    "[back to top](#top)\n",
    "\n",
    "A very common strategy is to impute or fill in the missing data, based on basic statistical descriptions of the feature column (mode, mean, and median)\n",
    "\n"
   ]
  },
  {
   "cell_type": "code",
   "execution_count": 125,
   "metadata": {
    "colab": {
     "base_uri": "https://localhost:8080/"
    },
    "id": "lNxoyEnvxMhY",
    "outputId": "0462226e-1406-46d2-f319-df8b9e3d8cd2"
   },
   "outputs": [
    {
     "data": {
      "text/plain": [
       "array([[4.5, 0. , 3. ],\n",
       "       [3. , 7. , 9. ],\n",
       "       [3. , 5. , 2. ],\n",
       "       [4. , 5. , 6. ],\n",
       "       [8. , 8. , 1. ]])"
      ]
     },
     "execution_count": 125,
     "metadata": {},
     "output_type": "execute_result"
    }
   ],
   "source": [
    "from sklearn.impute import SimpleImputer\n",
    "\n",
    "# strategy = 'mean' will replace nan's with mean value\n",
    "# of the column\n",
    "# others are median and most_frequent (mode)\n",
    "imp = SimpleImputer(strategy='mean')\n",
    "X2 = imp.fit_transform(X)\n",
    "X2"
   ]
  },
  {
   "cell_type": "markdown",
   "metadata": {
    "id": "wN0a6CCrvOGI"
   },
   "source": [
    "<a name='2.4.2'></a>\n",
    "\n",
    "### 4.4.2 Other Strategies\n",
    "\n",
    "[back to top](#top)\n",
    "\n",
    "Depending on the severity of missing data, you will sometimes opt to remove the whole column, or perhaps apply some simple learning to fill in the missing data. This is a great [article](https://www.ncbi.nlm.nih.gov/pmc/articles/PMC3668100/) on more advanced strategies for handling missing data.\n",
    "\n"
   ]
  },
  {
   "cell_type": "markdown",
   "metadata": {
    "id": "Ou3llhzQ8-Tc"
   },
   "source": [
    "# References\n",
    "\n",
    "[back to top](#top)\n",
    "\n",
    "* [Box Cox](https://www.statisticshowto.com/box-cox-transformation/)\n",
    "* [Multicolinearity](https://www.analyticsvidhya.com/blog/2020/03/what-is-multicollinearity/)\n",
    "* [Missing Data](https://www.ncbi.nlm.nih.gov/pmc/articles/PMC3668100/)"
   ]
  }
 ],
 "metadata": {
  "colab": {
   "collapsed_sections": [],
   "include_colab_link": true,
   "name": "S4_Feature_Engineering.ipynb",
   "provenance": []
  },
  "kernelspec": {
   "display_name": "Python 3 (ipykernel)",
   "language": "python",
   "name": "python3"
  },
  "language_info": {
   "codemirror_mode": {
    "name": "ipython",
    "version": 3
   },
   "file_extension": ".py",
   "mimetype": "text/x-python",
   "name": "python",
   "nbconvert_exporter": "python",
   "pygments_lexer": "ipython3",
   "version": "3.9.7"
  }
 },
 "nbformat": 4,
 "nbformat_minor": 4
}
