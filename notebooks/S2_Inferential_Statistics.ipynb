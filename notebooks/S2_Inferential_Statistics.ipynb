{
 "cells": [
  {
   "cell_type": "markdown",
   "metadata": {
    "colab_type": "text",
    "id": "view-in-github"
   },
   "source": [
    "<a href=\"https://colab.research.google.com/github/wesleybeckner/data_science_foundations/blob/main/notebooks/S2_Inferential_Statistics.ipynb\" target=\"_parent\"><img src=\"https://colab.research.google.com/assets/colab-badge.svg\" alt=\"Open In Colab\"/></a>"
   ]
  },
  {
   "cell_type": "markdown",
   "metadata": {
    "id": "ZhMpsTQGPQIm"
   },
   "source": [
    "# Data Science Foundations <br> Session 2: Inferential Statistics\n",
    "\n",
    "**Instructor**: Wesley Beckner\n",
    "\n",
    "**Contact**: wesleybeckner@gmail.com\n",
    "\n",
    "---\n",
    "\n",
    "<br>\n",
    "\n",
    "In this session we will look at the utility of EDA combined with inferential statistics.\n",
    "\n",
    "<br>\n",
    "\n",
    "---\n"
   ]
  },
  {
   "cell_type": "markdown",
   "metadata": {
    "id": "jc0SbuFeQBwW"
   },
   "source": [
    "<a name='x.0'></a>\n",
    "\n",
    "## 2.0 Preparing Environment and Importing Data\n",
    "\n",
    "[back to top](#top)"
   ]
  },
  {
   "cell_type": "markdown",
   "metadata": {
    "id": "biwnU2732lYG"
   },
   "source": [
    "<a name='x.0.1'></a>\n",
    "\n",
    "### 2.0.1 Import Packages\n",
    "\n",
    "[back to top](#top)"
   ]
  },
  {
   "cell_type": "code",
   "execution_count": 2,
   "metadata": {
    "colab": {
     "base_uri": "https://localhost:8080/"
    },
    "id": "XA8E1GTQQBwW",
    "outputId": "fdbdc3f6-51cc-4b02-be39-4e9e30660e87"
   },
   "outputs": [],
   "source": [
    "# The modules we've seen before\n",
    "import pandas as pd\n",
    "import numpy as np\n",
    "import matplotlib.pyplot as plt\n",
    "import plotly.express as px\n",
    "import seaborn as sns\n",
    "\n",
    "# our stats modules\n",
    "import random\n",
    "import scipy.stats as stats\n",
    "import statsmodels.api as sm\n",
    "from statsmodels.formula.api import ols\n",
    "import scipy"
   ]
  },
  {
   "cell_type": "markdown",
   "metadata": {
    "id": "2oNmcaxw2og4"
   },
   "source": [
    "<a name='x.0.2'></a>\n",
    "\n",
    "### 2.0.2 Load Dataset\n",
    "\n",
    "[back to top](#top)\n",
    "\n",
    "For this session, we will use dummy datasets from sklearn."
   ]
  },
  {
   "cell_type": "code",
   "execution_count": 3,
   "metadata": {
    "id": "aRWow_s8eSm7"
   },
   "outputs": [],
   "source": [
    "df = pd.read_csv('https://raw.githubusercontent.com/wesleybeckner/'\\\n",
    "                 'ds_for_engineers/main/data/truffle_margin/truffle_margin_customer.csv')"
   ]
  },
  {
   "cell_type": "code",
   "execution_count": 4,
   "metadata": {
    "colab": {
     "base_uri": "https://localhost:8080/",
     "height": 423
    },
    "id": "7P7VmDLOa5xa",
    "outputId": "257edde5-782e-4fa9-8a02-5113b145b4ff"
   },
   "outputs": [
    {
     "data": {
      "text/html": [
       "<div>\n",
       "<style scoped>\n",
       "    .dataframe tbody tr th:only-of-type {\n",
       "        vertical-align: middle;\n",
       "    }\n",
       "\n",
       "    .dataframe tbody tr th {\n",
       "        vertical-align: top;\n",
       "    }\n",
       "\n",
       "    .dataframe thead th {\n",
       "        text-align: right;\n",
       "    }\n",
       "</style>\n",
       "<table border=\"1\" class=\"dataframe\">\n",
       "  <thead>\n",
       "    <tr style=\"text-align: right;\">\n",
       "      <th></th>\n",
       "      <th>Base Cake</th>\n",
       "      <th>Truffle Type</th>\n",
       "      <th>Primary Flavor</th>\n",
       "      <th>Secondary Flavor</th>\n",
       "      <th>Color Group</th>\n",
       "      <th>Customer</th>\n",
       "      <th>Date</th>\n",
       "      <th>KG</th>\n",
       "      <th>EBITDA/KG</th>\n",
       "    </tr>\n",
       "  </thead>\n",
       "  <tbody>\n",
       "    <tr>\n",
       "      <th>0</th>\n",
       "      <td>Butter</td>\n",
       "      <td>Candy Outer</td>\n",
       "      <td>Butter Pecan</td>\n",
       "      <td>Toffee</td>\n",
       "      <td>Taupe</td>\n",
       "      <td>Slugworth</td>\n",
       "      <td>1/2020</td>\n",
       "      <td>53770.342593</td>\n",
       "      <td>0.500424</td>\n",
       "    </tr>\n",
       "    <tr>\n",
       "      <th>1</th>\n",
       "      <td>Butter</td>\n",
       "      <td>Candy Outer</td>\n",
       "      <td>Ginger Lime</td>\n",
       "      <td>Banana</td>\n",
       "      <td>Amethyst</td>\n",
       "      <td>Slugworth</td>\n",
       "      <td>1/2020</td>\n",
       "      <td>466477.578125</td>\n",
       "      <td>0.220395</td>\n",
       "    </tr>\n",
       "    <tr>\n",
       "      <th>2</th>\n",
       "      <td>Butter</td>\n",
       "      <td>Candy Outer</td>\n",
       "      <td>Ginger Lime</td>\n",
       "      <td>Banana</td>\n",
       "      <td>Burgundy</td>\n",
       "      <td>Perk-a-Cola</td>\n",
       "      <td>1/2020</td>\n",
       "      <td>80801.728070</td>\n",
       "      <td>0.171014</td>\n",
       "    </tr>\n",
       "    <tr>\n",
       "      <th>3</th>\n",
       "      <td>Butter</td>\n",
       "      <td>Candy Outer</td>\n",
       "      <td>Ginger Lime</td>\n",
       "      <td>Banana</td>\n",
       "      <td>White</td>\n",
       "      <td>Fickelgruber</td>\n",
       "      <td>1/2020</td>\n",
       "      <td>18046.111111</td>\n",
       "      <td>0.233025</td>\n",
       "    </tr>\n",
       "    <tr>\n",
       "      <th>4</th>\n",
       "      <td>Butter</td>\n",
       "      <td>Candy Outer</td>\n",
       "      <td>Ginger Lime</td>\n",
       "      <td>Rum</td>\n",
       "      <td>Amethyst</td>\n",
       "      <td>Fickelgruber</td>\n",
       "      <td>1/2020</td>\n",
       "      <td>19147.454268</td>\n",
       "      <td>0.480689</td>\n",
       "    </tr>\n",
       "    <tr>\n",
       "      <th>...</th>\n",
       "      <td>...</td>\n",
       "      <td>...</td>\n",
       "      <td>...</td>\n",
       "      <td>...</td>\n",
       "      <td>...</td>\n",
       "      <td>...</td>\n",
       "      <td>...</td>\n",
       "      <td>...</td>\n",
       "      <td>...</td>\n",
       "    </tr>\n",
       "    <tr>\n",
       "      <th>1663</th>\n",
       "      <td>Tiramisu</td>\n",
       "      <td>Chocolate Outer</td>\n",
       "      <td>Doughnut</td>\n",
       "      <td>Pear</td>\n",
       "      <td>Amethyst</td>\n",
       "      <td>Fickelgruber</td>\n",
       "      <td>12/2020</td>\n",
       "      <td>38128.802589</td>\n",
       "      <td>0.420111</td>\n",
       "    </tr>\n",
       "    <tr>\n",
       "      <th>1664</th>\n",
       "      <td>Tiramisu</td>\n",
       "      <td>Chocolate Outer</td>\n",
       "      <td>Doughnut</td>\n",
       "      <td>Pear</td>\n",
       "      <td>Burgundy</td>\n",
       "      <td>Zebrabar</td>\n",
       "      <td>12/2020</td>\n",
       "      <td>108.642857</td>\n",
       "      <td>0.248659</td>\n",
       "    </tr>\n",
       "    <tr>\n",
       "      <th>1665</th>\n",
       "      <td>Tiramisu</td>\n",
       "      <td>Chocolate Outer</td>\n",
       "      <td>Doughnut</td>\n",
       "      <td>Pear</td>\n",
       "      <td>Teal</td>\n",
       "      <td>Zebrabar</td>\n",
       "      <td>12/2020</td>\n",
       "      <td>3517.933333</td>\n",
       "      <td>0.378501</td>\n",
       "    </tr>\n",
       "    <tr>\n",
       "      <th>1666</th>\n",
       "      <td>Tiramisu</td>\n",
       "      <td>Chocolate Outer</td>\n",
       "      <td>Doughnut</td>\n",
       "      <td>Rock and Rye</td>\n",
       "      <td>Amethyst</td>\n",
       "      <td>Slugworth</td>\n",
       "      <td>12/2020</td>\n",
       "      <td>10146.898432</td>\n",
       "      <td>0.213149</td>\n",
       "    </tr>\n",
       "    <tr>\n",
       "      <th>1667</th>\n",
       "      <td>Tiramisu</td>\n",
       "      <td>Chocolate Outer</td>\n",
       "      <td>Doughnut</td>\n",
       "      <td>Rock and Rye</td>\n",
       "      <td>Burgundy</td>\n",
       "      <td>Zebrabar</td>\n",
       "      <td>12/2020</td>\n",
       "      <td>1271.904762</td>\n",
       "      <td>0.431813</td>\n",
       "    </tr>\n",
       "  </tbody>\n",
       "</table>\n",
       "<p>1668 rows × 9 columns</p>\n",
       "</div>"
      ],
      "text/plain": [
       "     Base Cake     Truffle Type Primary Flavor Secondary Flavor Color Group  \\\n",
       "0       Butter      Candy Outer   Butter Pecan           Toffee       Taupe   \n",
       "1       Butter      Candy Outer    Ginger Lime           Banana    Amethyst   \n",
       "2       Butter      Candy Outer    Ginger Lime           Banana    Burgundy   \n",
       "3       Butter      Candy Outer    Ginger Lime           Banana       White   \n",
       "4       Butter      Candy Outer    Ginger Lime              Rum    Amethyst   \n",
       "...        ...              ...            ...              ...         ...   \n",
       "1663  Tiramisu  Chocolate Outer       Doughnut             Pear    Amethyst   \n",
       "1664  Tiramisu  Chocolate Outer       Doughnut             Pear    Burgundy   \n",
       "1665  Tiramisu  Chocolate Outer       Doughnut             Pear        Teal   \n",
       "1666  Tiramisu  Chocolate Outer       Doughnut     Rock and Rye    Amethyst   \n",
       "1667  Tiramisu  Chocolate Outer       Doughnut     Rock and Rye    Burgundy   \n",
       "\n",
       "          Customer     Date             KG  EBITDA/KG  \n",
       "0        Slugworth   1/2020   53770.342593   0.500424  \n",
       "1        Slugworth   1/2020  466477.578125   0.220395  \n",
       "2      Perk-a-Cola   1/2020   80801.728070   0.171014  \n",
       "3     Fickelgruber   1/2020   18046.111111   0.233025  \n",
       "4     Fickelgruber   1/2020   19147.454268   0.480689  \n",
       "...            ...      ...            ...        ...  \n",
       "1663  Fickelgruber  12/2020   38128.802589   0.420111  \n",
       "1664      Zebrabar  12/2020     108.642857   0.248659  \n",
       "1665      Zebrabar  12/2020    3517.933333   0.378501  \n",
       "1666     Slugworth  12/2020   10146.898432   0.213149  \n",
       "1667      Zebrabar  12/2020    1271.904762   0.431813  \n",
       "\n",
       "[1668 rows x 9 columns]"
      ]
     },
     "execution_count": 4,
     "metadata": {},
     "output_type": "execute_result"
    }
   ],
   "source": [
    "df"
   ]
  },
  {
   "cell_type": "code",
   "execution_count": 5,
   "metadata": {
    "id": "I734bGQy10_r"
   },
   "outputs": [],
   "source": [
    "descriptors = df.columns[:-2]"
   ]
  },
  {
   "cell_type": "code",
   "execution_count": 6,
   "metadata": {
    "colab": {
     "base_uri": "https://localhost:8080/"
    },
    "id": "I3b_cORVpFAs",
    "outputId": "accf4964-c0a0-4b1f-e40d-78a0e51915a9"
   },
   "outputs": [
    {
     "name": "stdout",
     "output_type": "stream",
     "text": [
      "Base Cake\n",
      "['Butter' 'Cheese' 'Chiffon' 'Pound' 'Sponge' 'Tiramisu']\n",
      "\n",
      "Truffle Type\n",
      "['Candy Outer' 'Chocolate Outer' 'Jelly Filled']\n",
      "\n",
      "Primary Flavor\n",
      "['Butter Pecan' 'Ginger Lime' 'Margarita' 'Pear' 'Pink Lemonade'\n",
      " 'Raspberry Ginger Ale' 'Sassafras' 'Spice' 'Wild Cherry Cream'\n",
      " 'Cream Soda' 'Horchata' 'Kettle Corn' 'Lemon Bar' 'Orange Pineapple\\tP'\n",
      " 'Plum' 'Orange' 'Butter Toffee' 'Lemon' 'Acai Berry' 'Apricot'\n",
      " 'Birch Beer' 'Cherry Cream Spice' 'Creme de Menthe' 'Fruit Punch'\n",
      " 'Ginger Ale' 'Grand Mariner' 'Orange Brandy' 'Pecan' 'Toasted Coconut'\n",
      " 'Watermelon' 'Wintergreen' 'Vanilla' 'Bavarian Cream' 'Black Licorice'\n",
      " 'Caramel Cream' 'Cheesecake' 'Cherry Cola' 'Coffee' 'Irish Cream'\n",
      " 'Lemon Custard' 'Mango' 'Sour' 'Amaretto' 'Blueberry' 'Butter Milk'\n",
      " 'Chocolate Mint' 'Coconut' 'Dill Pickle' 'Gingersnap' 'Chocolate'\n",
      " 'Doughnut']\n",
      "\n",
      "Secondary Flavor\n",
      "['Toffee' 'Banana' 'Rum' 'Tutti Frutti' 'Vanilla' 'Mixed Berry'\n",
      " 'Whipped Cream' 'Apricot' 'Passion Fruit' 'Peppermint' 'Dill Pickle'\n",
      " 'Black Cherry' 'Wild Cherry Cream' 'Papaya' 'Mango' 'Cucumber' 'Egg Nog'\n",
      " 'Pear' 'Rock and Rye' 'Tangerine' 'Apple' 'Black Currant' 'Kiwi' 'Lemon'\n",
      " 'Hazelnut' 'Butter Rum' 'Fuzzy Navel' 'Mojito' 'Ginger Beer']\n",
      "\n",
      "Color Group\n",
      "['Taupe' 'Amethyst' 'Burgundy' 'White' 'Black' 'Opal' 'Citrine' 'Rose'\n",
      " 'Slate' 'Teal' 'Tiffany' 'Olive']\n",
      "\n",
      "Customer\n",
      "['Slugworth' 'Perk-a-Cola' 'Fickelgruber' 'Zebrabar' \"Dandy's Candies\"]\n",
      "\n",
      "Date\n",
      "['1/2020' '2/2020' '3/2020' '4/2020' '5/2020' '6/2020' '7/2020' '8/2020'\n",
      " '9/2020' '10/2020' '11/2020' '12/2020']\n",
      "\n"
     ]
    }
   ],
   "source": [
    "for col in df.columns[:-2]:\n",
    "  print(col)\n",
    "  print(df[col].unique())\n",
    "  print()"
   ]
  },
  {
   "cell_type": "markdown",
   "metadata": {
    "id": "KKkK88MuiQby"
   },
   "source": [
    "## 2.1 Many Flavors of Statistical Tests\n",
    "\n",
    "<p align=\"center\">\n",
    "<img src=\"https://luminousmen.com/media/descriptive-and-inferential-statistics.jpeg\" width=400px></img>\n",
    "</p>\n",
    "\n",
    "<small>[img src](https://luminousmen.com/post/descriptive-and-inferential-statistics)</small>\n",
    "\n",
    "\n",
    "> Descriptive statistics describes data (for example, a chart or graph) and inferential statistics allows you to make predictions (“inferences”) from that data. With inferential statistics, you take data from samples and make generalizations about a population \n",
    "\n",
    "[statshowto](https://www.statisticshowto.com/probability-and-statistics/statistics-definitions/inferential-statistics/)\n",
    "\n",
    "* Non-parametric tests\n",
    "    * [Moods Median](https://docs.scipy.org/doc/scipy/reference/generated/scipy.stats.median_test.html) (Comparison of Medians)\n",
    "    * [Kruskal-Wallis](https://docs.scipy.org/doc/scipy/reference/generated/scipy.stats.kruskal.html#scipy.stats.kruskal)  (Comparison of Medians, compare to _ANOVA_)\n",
    "    * [Mann Whitney](https://docs.scipy.org/doc/scipy/reference/generated/scipy.stats.mannwhitneyu.html#scipy.stats.mannwhitneyu) (Rank order test, compare to _T-test_)\n",
    "* Comparison of means\n",
    "    * [T-test](https://docs.scipy.org/doc/scipy/reference/generated/scipy.stats.ttest_ind.html#scipy.stats.ttest_ind)\n",
    "        * Independent\n",
    "            * Equal Variances (students T-test)\n",
    "            * Unequal Variances (Welch's T-test)\n",
    "        * Dependent\n",
    "* Comparison of variances\n",
    "    * Analysis of Variance (ANOVA)\n",
    "        * One Way ANOVA\n",
    "        * Two Way ANOVA\n",
    "        * MANOVA\n",
    "        * Factorial ANOVA\n",
    "\n",
    "When do I use each of these? We will talk about this as we proceed through the examples. [This page](https://support.minitab.com/en-us/minitab/20/help-and-how-to/statistics/nonparametrics/supporting-topics/which-test-should-i-use/) from minitab has good rules of thumb on the subject.\n",
    "\n"
   ]
  },
  {
   "cell_type": "markdown",
   "metadata": {
    "id": "D5evicZ44rAA"
   },
   "source": [
    "### 2.1.1 What is Mood's Median?\n",
    "\n",
    "> You can use Chi-Square to test for a goodness of fit (whether a sample of data represents a distribution) or whether two variables are related (using a contingency table, which we will create below!)\n",
    "\n",
    "**A special case of Pearon's Chi-Squared Test:** We create a table that counts the observations above and below the global median for **two or more groups**. We then perform a *chi-squared test of significance* on this *contingency table* \n",
    "\n",
    "Null hypothesis: the Medians are all equal\n",
    "\n",
    "The chi-square test statistic:\n",
    "\n",
    "$$x^2 = \\sum{\\frac{(O-E)^2}{E}}$$\n",
    "\n",
    "Where \\\\(O\\\\) is the observed frequency and \\\\(E\\\\) is the expected frequency.\n",
    "\n",
    "**Let's take an example**, say we have three shifts with the following production rates:"
   ]
  },
  {
   "cell_type": "code",
   "execution_count": 7,
   "metadata": {
    "id": "_zJS1ehrKi32"
   },
   "outputs": [],
   "source": [
    "np.random.seed(7)\n",
    "shift_one = [round(i) for i in np.random.normal(16, 3, 10)]\n",
    "shift_two = [round(i) for i in np.random.normal(21, 3, 10)]"
   ]
  },
  {
   "cell_type": "code",
   "execution_count": 8,
   "metadata": {
    "colab": {
     "base_uri": "https://localhost:8080/"
    },
    "id": "49AvW9Sq7MKQ",
    "outputId": "bf4f4baa-5d00-49c3-e7eb-5a00d2958a0a"
   },
   "outputs": [
    {
     "name": "stdout",
     "output_type": "stream",
     "text": [
      "[21, 15, 16, 17, 14, 16, 16, 11, 19, 18]\n",
      "[19, 20, 23, 20, 20, 17, 23, 21, 22, 16]\n"
     ]
    }
   ],
   "source": [
    "print(shift_one)\n",
    "print(shift_two)"
   ]
  },
  {
   "cell_type": "code",
   "execution_count": 9,
   "metadata": {
    "id": "1zS4K5hL7gON"
   },
   "outputs": [],
   "source": [
    "stat, p, m, table = scipy.stats.median_test(shift_one, shift_two, correction=False)"
   ]
  },
  {
   "cell_type": "markdown",
   "metadata": {
    "id": "KVzJKeBg9NNu"
   },
   "source": [
    "what is `median_test` returning?"
   ]
  },
  {
   "cell_type": "code",
   "execution_count": 10,
   "metadata": {
    "colab": {
     "base_uri": "https://localhost:8080/"
    },
    "id": "pLUCH4Rv73Qp",
    "outputId": "784e2590-d32d-4e5d-ef7a-288fed9373b3"
   },
   "outputs": [
    {
     "name": "stdout",
     "output_type": "stream",
     "text": [
      "The pearsons chi-square test statistic: 7.20\n",
      "p-value of the test: 0.007\n",
      "the grand median: 18.5\n"
     ]
    }
   ],
   "source": [
    "print(\"The pearsons chi-square test statistic: {:.2f}\".format(stat))\n",
    "print(\"p-value of the test: {:.3f}\".format(p))\n",
    "print(\"the grand median: {}\".format(m))"
   ]
  },
  {
   "cell_type": "markdown",
   "metadata": {
    "id": "_DJLQx0x-hGU"
   },
   "source": [
    "Let's evaluate that test statistic ourselves by taking a look at the contingency table:"
   ]
  },
  {
   "cell_type": "code",
   "execution_count": 11,
   "metadata": {
    "colab": {
     "base_uri": "https://localhost:8080/"
    },
    "id": "dH_mlqu0762C",
    "outputId": "1a4436a4-0cd8-4ad6-8ae7-c3639267a678"
   },
   "outputs": [
    {
     "data": {
      "text/plain": [
       "array([[2, 8],\n",
       "       [8, 2]])"
      ]
     },
     "execution_count": 11,
     "metadata": {},
     "output_type": "execute_result"
    }
   ],
   "source": [
    "table"
   ]
  },
  {
   "cell_type": "markdown",
   "metadata": {
    "id": "0Ox8X-A4-mnk"
   },
   "source": [
    "This is easier to make sense of if we order the shift times"
   ]
  },
  {
   "cell_type": "code",
   "execution_count": 12,
   "metadata": {
    "colab": {
     "base_uri": "https://localhost:8080/"
    },
    "id": "wT4_CjEL-pkg",
    "outputId": "131a432e-d37f-4eba-ae88-c6353d5c7e65"
   },
   "outputs": [
    {
     "data": {
      "text/plain": [
       "[11, 14, 15, 16, 16, 16, 17, 18, 19, 21]"
      ]
     },
     "execution_count": 12,
     "metadata": {},
     "output_type": "execute_result"
    }
   ],
   "source": [
    "shift_one.sort()\n",
    "shift_one"
   ]
  },
  {
   "cell_type": "markdown",
   "metadata": {
    "id": "8QAfysw6-yJR"
   },
   "source": [
    "When we look at shift one, we see that 8 values are at or below the grand median."
   ]
  },
  {
   "cell_type": "code",
   "execution_count": 13,
   "metadata": {
    "colab": {
     "base_uri": "https://localhost:8080/"
    },
    "id": "9udymrL9-xxF",
    "outputId": "26618a38-d362-42ac-d0bb-1a795858886d"
   },
   "outputs": [
    {
     "data": {
      "text/plain": [
       "[16, 17, 19, 20, 20, 20, 21, 22, 23, 23]"
      ]
     },
     "execution_count": 13,
     "metadata": {},
     "output_type": "execute_result"
    }
   ],
   "source": [
    "shift_two.sort()\n",
    "shift_two"
   ]
  },
  {
   "cell_type": "markdown",
   "metadata": {
    "id": "jDgDGYlQ-miZ"
   },
   "source": [
    "For shift two, only two are at or below the grand median.\n",
    "\n",
    "Since the sample sizes are the same, the expected value for both groups is the same, 5 above and 5 below the grand median. The chi-square is then:\n",
    "\n",
    "$$X^2 = \\frac{(2-5)^2}{5} + \\frac{(8-5)^2}{5} + \\frac{(8-5)^2}{5} + \\frac{(2-5)^2}{5}$$\n"
   ]
  },
  {
   "cell_type": "code",
   "execution_count": 14,
   "metadata": {
    "colab": {
     "base_uri": "https://localhost:8080/"
    },
    "id": "F9BEYdaW_m43",
    "outputId": "9c999f6b-7e60-42af-d2f3-b90e86367126"
   },
   "outputs": [
    {
     "data": {
      "text/plain": [
       "7.2"
      ]
     },
     "execution_count": 14,
     "metadata": {},
     "output_type": "execute_result"
    }
   ],
   "source": [
    "(2-5)**2/5 + (8-5)**2/5 + (8-5)**2/5 + (2-5)**2/5"
   ]
  },
  {
   "cell_type": "markdown",
   "metadata": {
    "id": "4X2xYQkuExJ-"
   },
   "source": [
    "Our p-value, or the probability of observing the null-hypothsis, is under 0.05 (at 0.007). We can conclude that these shift performances were drawn under seperate distributions.\n",
    "\n",
    "For comparison, let's do this analysis again with shifts of equal performances"
   ]
  },
  {
   "cell_type": "code",
   "execution_count": 15,
   "metadata": {
    "colab": {
     "base_uri": "https://localhost:8080/"
    },
    "id": "_bcZqXDmFHBV",
    "outputId": "3b05d986-4ed4-4e07-b809-ddcc26eb8da1"
   },
   "outputs": [
    {
     "name": "stdout",
     "output_type": "stream",
     "text": [
      "The pearsons chi-square test statistic: 0.00\n",
      "p-value of the test: 1.000\n",
      "the grand median: 15.5\n"
     ]
    }
   ],
   "source": [
    "np.random.seed(3)\n",
    "shift_three = [round(i) for i in np.random.normal(16, 3, 10)]\n",
    "shift_four = [round(i) for i in np.random.normal(16, 3, 10)]\n",
    "stat, p, m, table = scipy.stats.median_test(shift_three, shift_four,\n",
    "                                            correction=False)\n",
    "print(\"The pearsons chi-square test statistic: {:.2f}\".format(stat))\n",
    "print(\"p-value of the test: {:.3f}\".format(p))\n",
    "print(\"the grand median: {}\".format(m))"
   ]
  },
  {
   "cell_type": "markdown",
   "metadata": {
    "id": "w3CJcRMUFVE3"
   },
   "source": [
    "and the shift raw values:"
   ]
  },
  {
   "cell_type": "code",
   "execution_count": 16,
   "metadata": {
    "colab": {
     "base_uri": "https://localhost:8080/"
    },
    "id": "crPZoQBMFXYQ",
    "outputId": "69d24210-5420-4e0f-d0c1-ba091967f971"
   },
   "outputs": [
    {
     "name": "stdout",
     "output_type": "stream",
     "text": [
      "[10, 14, 15, 15, 15, 16, 16, 16, 17, 21]\n",
      "[11, 12, 13, 14, 15, 16, 19, 19, 19, 21]\n"
     ]
    }
   ],
   "source": [
    "shift_three.sort()\n",
    "shift_four.sort()\n",
    "print(shift_three)\n",
    "print(shift_four)"
   ]
  },
  {
   "cell_type": "code",
   "execution_count": 17,
   "metadata": {
    "colab": {
     "base_uri": "https://localhost:8080/"
    },
    "id": "etY5ypiYFdxs",
    "outputId": "8e3770d0-1988-457f-85e5-d6f15c5e36a6"
   },
   "outputs": [
    {
     "data": {
      "text/plain": [
       "array([[5, 5],\n",
       "       [5, 5]])"
      ]
     },
     "execution_count": 17,
     "metadata": {},
     "output_type": "execute_result"
    }
   ],
   "source": [
    "table"
   ]
  },
  {
   "cell_type": "markdown",
   "metadata": {
    "id": "otPGkuW40I_f"
   },
   "source": [
    "### 2.1.2 When to Use Mood's?\n",
    "\n",
    "**Mood's Median Test is highly flexible** but has the following assumptions:\n",
    "\n",
    "* Considers only one categorical factor\n",
    "* Response variable is continuous (our shift rates)\n",
    "* Data does not need to be normally distributed\n",
    "  * But the distributions are similarly shaped\n",
    "* Sample sizes can be unequal and small (less than 20 observations)\n",
    "\n",
    "Other considerations:\n",
    "\n",
    "* Not as powerful as Kruskal-Wallis Test but still useful for small sample sizes or when there are outliers"
   ]
  },
  {
   "cell_type": "markdown",
   "metadata": {
    "id": "NRpmP6jWPHNj"
   },
   "source": [
    "#### 🏋️ Exercise 1: Use Mood's Median Test\n"
   ]
  },
  {
   "cell_type": "markdown",
   "metadata": {
    "id": "BNHxgf12nGJs"
   },
   "source": [
    "##### **Part A** Perform moods median test on Base Cake (Categorical Variable) and EBITDA/KG (Continuous Variable) in Truffle data\n",
    "\n",
    "We're also going to get some practice with pandas groupby."
   ]
  },
  {
   "cell_type": "code",
   "execution_count": 18,
   "metadata": {
    "id": "SaEEogoHjvHj"
   },
   "outputs": [],
   "source": [
    "# what is returned by this groupby?\n",
    "gp = df.groupby('Base Cake')"
   ]
  },
  {
   "cell_type": "markdown",
   "metadata": {
    "id": "0K7e7MGEj5Ht"
   },
   "source": [
    "How do we find out? We could iterate through it:"
   ]
  },
  {
   "cell_type": "code",
   "execution_count": 19,
   "metadata": {
    "colab": {
     "base_uri": "https://localhost:8080/"
    },
    "id": "2LGkJEinj9SK",
    "outputId": "f04a06f1-ccff-4773-cf5d-f7bf7685fc94"
   },
   "outputs": [
    {
     "name": "stdout",
     "output_type": "stream",
     "text": [
      "('Butter',      Base Cake     Truffle Type Primary Flavor Secondary Flavor Color Group  \\\n",
      "0       Butter      Candy Outer   Butter Pecan           Toffee       Taupe   \n",
      "1       Butter      Candy Outer    Ginger Lime           Banana    Amethyst   \n",
      "2       Butter      Candy Outer    Ginger Lime           Banana    Burgundy   \n",
      "3       Butter      Candy Outer    Ginger Lime           Banana       White   \n",
      "4       Butter      Candy Outer    Ginger Lime              Rum    Amethyst   \n",
      "...        ...              ...            ...              ...         ...   \n",
      "1562    Butter  Chocolate Outer           Plum     Black Cherry        Opal   \n",
      "1563    Butter  Chocolate Outer           Plum     Black Cherry       White   \n",
      "1564    Butter  Chocolate Outer           Plum            Mango       Black   \n",
      "1565    Butter     Jelly Filled         Orange         Cucumber    Amethyst   \n",
      "1566    Butter     Jelly Filled         Orange         Cucumber    Burgundy   \n",
      "\n",
      "             Customer     Date             KG  EBITDA/KG  \n",
      "0           Slugworth   1/2020   53770.342593   0.500424  \n",
      "1           Slugworth   1/2020  466477.578125   0.220395  \n",
      "2         Perk-a-Cola   1/2020   80801.728070   0.171014  \n",
      "3        Fickelgruber   1/2020   18046.111111   0.233025  \n",
      "4        Fickelgruber   1/2020   19147.454268   0.480689  \n",
      "...               ...      ...            ...        ...  \n",
      "1562     Fickelgruber  12/2020    9772.200521   0.158279  \n",
      "1563      Perk-a-Cola  12/2020   10861.245675  -0.159275  \n",
      "1564        Slugworth  12/2020    3578.592163   0.431328  \n",
      "1565        Slugworth  12/2020   21438.187500   0.105097  \n",
      "1566  Dandy's Candies  12/2020   15617.489115   0.185070  \n",
      "\n",
      "[456 rows x 9 columns])\n"
     ]
    }
   ],
   "source": [
    "# seems to be a tuple of some sort\n",
    "for i in gp:\n",
    "  print(i)\n",
    "  break"
   ]
  },
  {
   "cell_type": "code",
   "execution_count": 20,
   "metadata": {
    "colab": {
     "base_uri": "https://localhost:8080/"
    },
    "id": "lwMASrDRkTQj",
    "outputId": "489d83aa-697d-4da2-ad3e-d9dffad85749"
   },
   "outputs": [
    {
     "name": "stdout",
     "output_type": "stream",
     "text": [
      "Butter\n",
      "     Base Cake     Truffle Type Primary Flavor Secondary Flavor Color Group  \\\n",
      "0       Butter      Candy Outer   Butter Pecan           Toffee       Taupe   \n",
      "1       Butter      Candy Outer    Ginger Lime           Banana    Amethyst   \n",
      "2       Butter      Candy Outer    Ginger Lime           Banana    Burgundy   \n",
      "3       Butter      Candy Outer    Ginger Lime           Banana       White   \n",
      "4       Butter      Candy Outer    Ginger Lime              Rum    Amethyst   \n",
      "...        ...              ...            ...              ...         ...   \n",
      "1562    Butter  Chocolate Outer           Plum     Black Cherry        Opal   \n",
      "1563    Butter  Chocolate Outer           Plum     Black Cherry       White   \n",
      "1564    Butter  Chocolate Outer           Plum            Mango       Black   \n",
      "1565    Butter     Jelly Filled         Orange         Cucumber    Amethyst   \n",
      "1566    Butter     Jelly Filled         Orange         Cucumber    Burgundy   \n",
      "\n",
      "             Customer     Date             KG  EBITDA/KG  \n",
      "0           Slugworth   1/2020   53770.342593   0.500424  \n",
      "1           Slugworth   1/2020  466477.578125   0.220395  \n",
      "2         Perk-a-Cola   1/2020   80801.728070   0.171014  \n",
      "3        Fickelgruber   1/2020   18046.111111   0.233025  \n",
      "4        Fickelgruber   1/2020   19147.454268   0.480689  \n",
      "...               ...      ...            ...        ...  \n",
      "1562     Fickelgruber  12/2020    9772.200521   0.158279  \n",
      "1563      Perk-a-Cola  12/2020   10861.245675  -0.159275  \n",
      "1564        Slugworth  12/2020    3578.592163   0.431328  \n",
      "1565        Slugworth  12/2020   21438.187500   0.105097  \n",
      "1566  Dandy's Candies  12/2020   15617.489115   0.185070  \n",
      "\n",
      "[456 rows x 9 columns]\n"
     ]
    }
   ],
   "source": [
    "# the first object appears to be the group\n",
    "print(i[0])\n",
    "\n",
    "# the second object appears to be the df belonging to that group\n",
    "print(i[1])"
   ]
  },
  {
   "cell_type": "markdown",
   "metadata": {
    "id": "gFOrTaPoknGx"
   },
   "source": [
    "going back to our diagram from our earlier pandas session. It looks like whenever we split in the groupby method, we create separate dataframes as well as their group label:\n",
    "\n",
    "<img src=\"https://swcarpentry.github.io/r-novice-gapminder/fig/12-plyr-fig1.png\" width=500></img>\n",
    "\n",
    "Ok, so we know `gp` is separate dataframes. How do we turn them into arrays to then pass to `median_test`?"
   ]
  },
  {
   "cell_type": "code",
   "execution_count": 21,
   "metadata": {
    "id": "nVUYH5gFlWFj"
   },
   "outputs": [],
   "source": [
    "# complete this for loop\n",
    "for i, j in gp:\n",
    "  pass\n",
    "  # turn 'EBITDA/KG' of j into an array using the .values attribute\n",
    "  # print this to the screen"
   ]
  },
  {
   "cell_type": "markdown",
   "metadata": {
    "id": "QlP1VYjSlrOJ"
   },
   "source": [
    "After you've completed the previous step, turn this into a list comprehension and pass the result to a variable called `margins`"
   ]
  },
  {
   "cell_type": "code",
   "execution_count": 22,
   "metadata": {
    "id": "pCr2wjfpP31r"
   },
   "outputs": [],
   "source": [
    "# complete the code below\n",
    "# margins = [# YOUR LIST COMPREHENSION HERE]"
   ]
  },
  {
   "cell_type": "markdown",
   "metadata": {
    "id": "TjN_QppNl4v9"
   },
   "source": [
    "Remember the list unpacking we did for the tic tac toe project? We're going to do the same thing here. Unpack the margins list for `median_test` and run the cell below!"
   ]
  },
  {
   "cell_type": "code",
   "execution_count": 23,
   "metadata": {
    "colab": {
     "base_uri": "https://localhost:8080/"
    },
    "id": "gJwZFD84PUBP",
    "outputId": "18b008e6-10f2-44da-b46e-6af819873224"
   },
   "outputs": [
    {
     "name": "stdout",
     "output_type": "stream",
     "text": [
      "The pearsons chi-square test statistic: 0.00\n",
      "p-value of the test: 1.00e+00\n",
      "the grand median: 1.55e+01\n"
     ]
    }
   ],
   "source": [
    "# complete the following line\n",
    "# stat, p, m, table = scipy.stats.median_test(<UNPACK MARGINS HERE>, correction=False)\n",
    "\n",
    "print(\"The pearsons chi-square test statistic: {:.2f}\".format(stat))\n",
    "print(\"p-value of the test: {:.2e}\".format(p))\n",
    "print(\"the grand median: {:.2e}\".format(m))"
   ]
  },
  {
   "cell_type": "markdown",
   "metadata": {
    "id": "-UjWU3c6SV1d"
   },
   "source": [
    "##### **Part B** View the distributions of the data using matplotlib and seaborn\n",
    "\n",
    "What a fantastic statistical result we found! Can we affirm our result with some visualizations? I hope so! Create a boxplot below using pandas. In your call to `df.boxplot()` the `by` parameter should be set to `Base Cake` and the `column` parameter should be set to `EBITDA/KG`"
   ]
  },
  {
   "cell_type": "code",
   "execution_count": 24,
   "metadata": {
    "id": "BwdnbQWYQ4WL"
   },
   "outputs": [],
   "source": [
    "# YOUR BOXPLOT HERE"
   ]
  },
  {
   "cell_type": "markdown",
   "metadata": {
    "id": "AXPBuKkPmZpW"
   },
   "source": [
    "For comparison, I've shown the boxplot below using seaborn!"
   ]
  },
  {
   "cell_type": "code",
   "execution_count": 25,
   "metadata": {
    "colab": {
     "base_uri": "https://localhost:8080/",
     "height": 442
    },
    "id": "jetbzeP8R6UK",
    "outputId": "d7f0a51c-9b43-4506-fea1-01affdec1c1e"
   },
   "outputs": [
    {
     "data": {
      "image/png": "[encoded data removed]",
      "text/plain": [
       "<Figure size 720x504 with 1 Axes>"
      ]
     },
     "metadata": {
      "needs_background": "light"
     },
     "output_type": "display_data"
    }
   ],
   "source": [
    "fig, ax = plt.subplots(figsize=(10,7))\n",
    "ax = sns.boxplot(x='Base Cake', y='EBITDA/KG', data=df, color='#A0cbe8')"
   ]
  },
  {
   "cell_type": "markdown",
   "metadata": {
    "id": "J2cnPwn8SNq5"
   },
   "source": [
    "##### **Part C** Perform Moods Median on all the other groups"
   ]
  },
  {
   "cell_type": "code",
   "execution_count": 26,
   "metadata": {
    "colab": {
     "base_uri": "https://localhost:8080/"
    },
    "id": "EVm8E8XcSmwI",
    "outputId": "6a316d6a-38b2-43f4-f4d8-8d8b678b3979"
   },
   "outputs": [
    {
     "data": {
      "text/plain": [
       "Index(['Base Cake', 'Truffle Type', 'Primary Flavor', 'Secondary Flavor',\n",
       "       'Color Group', 'Customer', 'Date'],\n",
       "      dtype='object')"
      ]
     },
     "execution_count": 26,
     "metadata": {},
     "output_type": "execute_result"
    }
   ],
   "source": [
    "# Recall the other descriptors we have\n",
    "descriptors"
   ]
  },
  {
   "cell_type": "code",
   "execution_count": 27,
   "metadata": {
    "colab": {
     "base_uri": "https://localhost:8080/"
    },
    "id": "H2ZozFp_SeWx",
    "outputId": "162f2b82-2ebb-41c5-8d8b-6df2ab8569cc"
   },
   "outputs": [
    {
     "name": "stdout",
     "output_type": "stream",
     "text": [
      "Base Cake\n",
      "The pearsons chi-square test statistic: 0.00\n",
      "p-value of the test: 1.000000e+00\n",
      "the grand median: 15.5\n",
      "\n",
      "Truffle Type\n",
      "The pearsons chi-square test statistic: 0.00\n",
      "p-value of the test: 1.000000e+00\n",
      "the grand median: 15.5\n",
      "\n",
      "Primary Flavor\n",
      "The pearsons chi-square test statistic: 0.00\n",
      "p-value of the test: 1.000000e+00\n",
      "the grand median: 15.5\n",
      "\n",
      "Secondary Flavor\n",
      "The pearsons chi-square test statistic: 0.00\n",
      "p-value of the test: 1.000000e+00\n",
      "the grand median: 15.5\n",
      "\n",
      "Color Group\n",
      "The pearsons chi-square test statistic: 0.00\n",
      "p-value of the test: 1.000000e+00\n",
      "the grand median: 15.5\n",
      "\n",
      "Customer\n",
      "The pearsons chi-square test statistic: 0.00\n",
      "p-value of the test: 1.000000e+00\n",
      "the grand median: 15.5\n",
      "\n",
      "Date\n",
      "The pearsons chi-square test statistic: 0.00\n",
      "p-value of the test: 1.000000e+00\n",
      "the grand median: 15.5\n",
      "\n"
     ]
    }
   ],
   "source": [
    "for desc in descriptors:\n",
    "\n",
    "  # YOUR CODE FORM MARGINS BELOW\n",
    "  # margins = [<YOUR LIST COMPREHENSION>]\n",
    "\n",
    "  # UNPACK MARGINS INTO MEDIAN_TEST\n",
    "  # stat, p, m, table = scipy.stats.median_test(<YOUR UNPACKING METHOD>, correction=False)\n",
    "  print(desc)\n",
    "  print(\"The pearsons chi-square test statistic: {:.2f}\".format(stat))\n",
    "  print(\"p-value of the test: {:e}\".format(p))\n",
    "  print(\"the grand median: {}\".format(m), end='\\n\\n')"
   ]
  },
  {
   "cell_type": "markdown",
   "metadata": {
    "id": "sYwTWkVCm7jM"
   },
   "source": [
    "##### **Part D** Many boxplots\n",
    "\n",
    "And finally, we will confirm these visually. Complete the Boxplot for each group:"
   ]
  },
  {
   "cell_type": "code",
   "execution_count": 28,
   "metadata": {
    "colab": {
     "base_uri": "https://localhost:8080/",
     "height": 1000
    },
    "id": "eEFvkzyQZtP2",
    "outputId": "a8470d0d-2368-4284-9d5c-d376e6d80738"
   },
   "outputs": [
    {
     "data": {
      "image/png": "[encoded data removed]",
      "text/plain": [
       "<Figure size 720x360 with 1 Axes>"
      ]
     },
     "metadata": {
      "needs_background": "light"
     },
     "output_type": "display_data"
    },
    {
     "data": {
      "image/png": "[encoded data removed]",
      "text/plain": [
       "<Figure size 720x360 with 1 Axes>"
      ]
     },
     "metadata": {
      "needs_background": "light"
     },
     "output_type": "display_data"
    },
    {
     "data": {
      "image/png": "[encoded data removed]",
      "text/plain": [
       "<Figure size 720x360 with 1 Axes>"
      ]
     },
     "metadata": {
      "needs_background": "light"
     },
     "output_type": "display_data"
    },
    {
     "data": {
      "image/png": "[encoded data removed]",
      "text/plain": [
       "<Figure size 720x360 with 1 Axes>"
      ]
     },
     "metadata": {
      "needs_background": "light"
     },
     "output_type": "display_data"
    },
    {
     "data": {
      "image/png": "[encoded data removed]",
      "text/plain": [
       "<Figure size 720x360 with 1 Axes>"
      ]
     },
     "metadata": {
      "needs_background": "light"
     },
     "output_type": "display_data"
    },
    {
     "data": {
      "image/png": "[encoded data removed]",
      "text/plain": [
       "<Figure size 720x360 with 1 Axes>"
      ]
     },
     "metadata": {
      "needs_background": "light"
     },
     "output_type": "display_data"
    },
    {
     "data": {
      "image/png": "[encoded data removed]",
      "text/plain": [
       "<Figure size 720x360 with 1 Axes>"
      ]
     },
     "metadata": {
      "needs_background": "light"
     },
     "output_type": "display_data"
    }
   ],
   "source": [
    "for desc in descriptors:\n",
    "  fig, ax = plt.subplots(figsize=(10,5))\n",
    "  # sns.boxplot(x=<YOUR X VARIABLE HERE>, y='EBITDA/KG', data=df, color='#A0cbe8', ax=ax)"
   ]
  },
  {
   "cell_type": "markdown",
   "metadata": {
    "id": "a2hegS_Q2g3K"
   },
   "source": [
    "### 2.1.3 What is a T-test?\n",
    "\n",
    "There are 1-sample and 2-sample T-tests \n",
    "\n",
    "_(note: we would use a 1-sample T-test just to determine if the sample mean is equal to a hypothesized population mean)_\n",
    "\n",
    "Within 2-sample T-tests we have **_independent_** and **_dependent_** T-tests (uncorrelated or correlated samples)\n",
    "\n",
    "For independent, two-sample T-tests:\n",
    "\n",
    "* **_Equal variance_** (or pooled) T-test\n",
    "    * `scipy.stats.ttest_ind(equal_var=True)`\n",
    "    * also called ***Student's T-test***\n",
    "* **_Unequal variance_** T-test\n",
    "    * `scipy.stats.ttest_ind(equal_var=False)`\n",
    "    * also called ***Welch's T-test***\n",
    "\n",
    "<br>\n",
    "\n",
    "For dependent T-tests:\n",
    "\n",
    "* Paired (or correlated) T-test\n",
    "    * `scipy.stats.ttest_rel`\n",
    "    * _ex_: patient symptoms before and after treatment\n",
    "\n",
    "A full discussion on T-tests is outside the scope of this session, but we can refer to wikipedia for more information, including formulas on how each statistic is computed:\n",
    "\n",
    "* [student's T-test](https://en.wikipedia.org/wiki/Student%27s_t-test#Dependent_t-test_for_paired_samples)"
   ]
  },
  {
   "cell_type": "markdown",
   "metadata": {
    "id": "RUTirNIp0VeC"
   },
   "source": [
    "#### 2.1.3.1 Demonstration of T-tests\n",
    "\n",
    "[back to top](#top)"
   ]
  },
  {
   "cell_type": "markdown",
   "metadata": {
    "id": "fWgpdHu3Mp19"
   },
   "source": [
    "We'll assume our shifts are of **_equal variance_** and proceed with the appropriate **_independent two-sample_** T-test..."
   ]
  },
  {
   "cell_type": "code",
   "execution_count": 29,
   "metadata": {
    "colab": {
     "base_uri": "https://localhost:8080/"
    },
    "id": "5mxktlT2NB8v",
    "outputId": "5919965b-4314-4838-b257-16967df96272"
   },
   "outputs": [
    {
     "name": "stdout",
     "output_type": "stream",
     "text": [
      "[11, 14, 15, 16, 16, 16, 17, 18, 19, 21]\n",
      "[16, 17, 19, 20, 20, 20, 21, 22, 23, 23]\n"
     ]
    }
   ],
   "source": [
    "print(shift_one)\n",
    "print(shift_two)"
   ]
  },
  {
   "cell_type": "markdown",
   "metadata": {
    "id": "NymtMrgQ0FaD"
   },
   "source": [
    "To calculate the T-test, we follow a slightly different statistical formula:\n",
    "\n",
    "$$T=\\frac{\\mu_1 - \\mu_2}{s\\sqrt{\\frac{1}{n_1} + \\frac{1}{n_2}}}$$\n",
    "\n",
    "where \\\\(\\mu\\\\) are the means of the two groups, \\\\(n\\\\) are the sample sizes and \\\\(s\\\\) is the pooled standard deviation, also known as the cummulative variance (depending on if you square it or not):\n",
    "\n",
    "$$s= \\sqrt{\\frac{(n_1-1)\\sigma_1^2 + (n_2-1)\\sigma_2^2}{n_1 + n_2 - 2}}$$\n",
    "\n",
    "where \\\\(\\sigma\\\\) are the standard deviations. What you'll notice here is we are combining the two variances, we can only do this if we assume the variances are somewhat equal, this is known as the *equal variances* t-test."
   ]
  },
  {
   "cell_type": "code",
   "execution_count": 30,
   "metadata": {
    "colab": {
     "base_uri": "https://localhost:8080/"
    },
    "id": "vsol_nFrNXBZ",
    "outputId": "118c737f-518c-4b0a-a051-07bf645c1d4e"
   },
   "outputs": [
    {
     "name": "stdout",
     "output_type": "stream",
     "text": [
      "16.3 20.1\n"
     ]
    }
   ],
   "source": [
    "mean_shift_one = np.mean(shift_one)\n",
    "mean_shift_two = np.mean(shift_two)\n",
    "\n",
    "print(mean_shift_one, mean_shift_two)"
   ]
  },
  {
   "cell_type": "code",
   "execution_count": 31,
   "metadata": {
    "colab": {
     "base_uri": "https://localhost:8080/"
    },
    "id": "WQpbuu9sQ_Ky",
    "outputId": "5500e04d-5b8d-4886-eed2-3539129d4424"
   },
   "outputs": [
    {
     "name": "stdout",
     "output_type": "stream",
     "text": [
      "6.5\n"
     ]
    }
   ],
   "source": [
    "com_var = ((np.sum([(i - mean_shift_one)**2 for i in shift_one]) + \n",
    "            np.sum([(i - mean_shift_two)**2 for i in shift_two])) /\n",
    "            (len(shift_one) + len(shift_two)-2))\n",
    "print(com_var)"
   ]
  },
  {
   "cell_type": "code",
   "execution_count": 32,
   "metadata": {
    "id": "wOqV1VffNhFr"
   },
   "outputs": [],
   "source": [
    "T = (np.abs(mean_shift_one - mean_shift_two) / (\n",
    "     np.sqrt(com_var/len(shift_one) +\n",
    "     com_var/len(shift_two))))"
   ]
  },
  {
   "cell_type": "code",
   "execution_count": 33,
   "metadata": {
    "colab": {
     "base_uri": "https://localhost:8080/"
    },
    "id": "iGK1cLxvQl6e",
    "outputId": "c44c5339-89c1-493b-e7c6-1fa7fa1fc5d0"
   },
   "outputs": [
    {
     "data": {
      "text/plain": [
       "3.3328204733667115"
      ]
     },
     "execution_count": 33,
     "metadata": {},
     "output_type": "execute_result"
    }
   ],
   "source": [
    "T"
   ]
  },
  {
   "cell_type": "markdown",
   "metadata": {
    "id": "eX2l-cJbB7fm"
   },
   "source": [
    "We see that this hand-computed result matches that of the `scipy` module:"
   ]
  },
  {
   "cell_type": "code",
   "execution_count": 34,
   "metadata": {
    "colab": {
     "base_uri": "https://localhost:8080/"
    },
    "id": "rgXWXjqIOPBm",
    "outputId": "267e4179-3c55-445d-aa63-f4a551aaaead"
   },
   "outputs": [
    {
     "data": {
      "text/plain": [
       "Ttest_indResult(statistic=3.3328204733667115, pvalue=0.0037029158660758575)"
      ]
     },
     "execution_count": 34,
     "metadata": {},
     "output_type": "execute_result"
    }
   ],
   "source": [
    "scipy.stats.ttest_ind(shift_two, shift_one, equal_var=True)"
   ]
  },
  {
   "cell_type": "markdown",
   "metadata": {
    "id": "Z5R6Gl9-Kmt_"
   },
   "source": [
    "### 2.1.4 What are F-statistics and the F-test?\n",
    "\n",
    "The F-statistic is simply a ratio of two variances, or the ratio of _mean squares_\n",
    "\n",
    "_mean squares_ is the estimate of population variance that accounts for the degrees of freedom to compute that estimate. \n",
    "\n",
    "We will explore this in the context of ANOVA"
   ]
  },
  {
   "cell_type": "markdown",
   "metadata": {
    "id": "QleTrLDgjYYy"
   },
   "source": [
    "#### 2.1.4.1 What is Analysis of Variance? \n",
    "\n",
    "ANOVA uses the F-test to determine whether the variability between group means is larger than the variability within the groups. If that statistic is large enough, you can conclude that the means of the groups are not equal.\n",
    "\n",
    "**The caveat is that ANOVA tells us whether there is a difference in means but it does not tell us where the difference is.** To find where the difference is between the groups, we have to conduct post-hoc tests.\n",
    "\n",
    "There are two main types:\n",
    "\n",
    "* One-way (one factor) and\n",
    "* Two-way (two factor) where factor is an independent variable\n",
    "\n",
    "<br>\n",
    "\n",
    "| Ind A | Ind B | Dep |\n",
    "|-------|-------|-----|\n",
    "| X     | H     | 10  |\n",
    "| X     | I     | 12  |\n",
    "| Y     | I     | 11  |\n",
    "| Y     | H     | 20  |\n",
    "\n",
    "<br>\n",
    "\n",
    "##### ANOVA Hypotheses\n",
    "\n",
    "* _Null hypothesis_: group means are equal\n",
    "* _Alternative hypothesis_: at least one group mean is different from the other groups\n",
    "\n",
    "##### ANOVA Assumptions\n",
    "\n",
    "* Residuals (experimental error) are normally distributed (test with Shapiro-Wilk)\n",
    "* Homogeneity of variances (variances are equal between groups) (test with Bartlett's)\n",
    "* Observations are sampled independently from each other\n",
    "* _Note: ANOVA assumptions can be checked using test statistics (e.g. Shapiro-Wilk, Bartlett’s, Levene’s test) and the visual approaches such as residual plots (e.g. QQ-plots) and histograms._\n",
    "\n",
    "##### Steps for ANOVA\n",
    "\n",
    "* Check sample sizes: equal observations must be in each group\n",
    "* Calculate Sum of Square between groups and within groups (\\\\(SS_B, SS_E\\\\))\n",
    "* Calculate Mean Square between groups and within groups (\\\\(MS_B, MS_E\\\\))\n",
    "* Calculate F value (\\\\(MS_B/MS_E\\\\))\n",
    "\n",
    "<br>\n",
    "\n",
    "This might be easier to see in a table:\n",
    "\n",
    "<br>\n",
    "\n",
    "| Source of Variation         | degree of freedom (Df) | Sum of squares (SS) | Mean square (MS)   | F value     |\n",
    "|-----------------------------|------------------------|---------------------|--------------------|-------------|\n",
    "| Between Groups             | Df_b = P-1             | SS_B                | MS_B = SS_B / Df_B | MS_B / MS_E |\n",
    "| Within Groups | Df_E = P(N-1)          | SS_E                | MS_E = SS_E / Df_E |             |\n",
    "| total                       | Df_T = PN-1            | SS_T           |                    |             |\n",
    "\n",
    "Where:\n",
    "$$ SS_B = \\sum_{i}^{P}{(\\bar{y}_i-\\bar{y})^2} $$\n",
    "<br>\n",
    "$$ SS_E = \\sum_{ik}^{PN}{(\\bar{y}_{ik}-\\bar{y}_i)^2} $$\n",
    "<br>\n",
    "$$ SS_T = SS_B + SS_E $$\n",
    "\n",
    "Let's go  back to our shift data to take an example:"
   ]
  },
  {
   "cell_type": "code",
   "execution_count": 35,
   "metadata": {
    "colab": {
     "base_uri": "https://localhost:8080/",
     "height": 283
    },
    "id": "NZEL5iUfTeNv",
    "outputId": "e8c37fde-e6b0-43cf-a759-abd0b2b05937"
   },
   "outputs": [
    {
     "data": {
      "text/plain": [
       "<AxesSubplot:>"
      ]
     },
     "execution_count": 35,
     "metadata": {},
     "output_type": "execute_result"
    },
    {
     "data": {
      "image/png": "[encoded data removed]",
      "text/plain": [
       "<Figure size 432x288 with 1 Axes>"
      ]
     },
     "metadata": {
      "needs_background": "light"
     },
     "output_type": "display_data"
    }
   ],
   "source": [
    "shifts = pd.DataFrame([shift_one, shift_two, shift_three, shift_four]).T\n",
    "shifts.columns = ['A', 'B', 'C', 'D']\n",
    "shifts.boxplot()"
   ]
  },
  {
   "cell_type": "markdown",
   "metadata": {
    "id": "NItJ8vbPWFKo"
   },
   "source": [
    "#### 2.1.4.2 SNS Boxplot\n",
    "\n",
    "this is another great way to view boxplot data. Notice how sns also shows us the raw data alongside the box and whiskers using a _swarmplot_."
   ]
  },
  {
   "cell_type": "code",
   "execution_count": 36,
   "metadata": {
    "colab": {
     "base_uri": "https://localhost:8080/",
     "height": 279
    },
    "id": "gBVbCptwUrdN",
    "outputId": "b8acc494-1a9c-4065-ab40-53b700555feb"
   },
   "outputs": [
    {
     "data": {
      "image/png": "[encoded data removed]",
      "text/plain": [
       "<Figure size 432x288 with 1 Axes>"
      ]
     },
     "metadata": {
      "needs_background": "light"
     },
     "output_type": "display_data"
    }
   ],
   "source": [
    "shift_melt = pd.melt(shifts.reset_index(), id_vars=['index'], \n",
    "                     value_vars=['A', 'B', 'C', 'D'])\n",
    "shift_melt.columns = ['index', 'shift', 'rate']\n",
    "ax = sns.boxplot(x='shift', y='rate', data=shift_melt, color='#A0cbe8')\n",
    "ax = sns.swarmplot(x=\"shift\", y=\"rate\", data=shift_melt, color='#79706e')"
   ]
  },
  {
   "cell_type": "markdown",
   "metadata": {
    "id": "TlgRvZlEGt2l"
   },
   "source": [
    "Anyway back to ANOVA..."
   ]
  },
  {
   "cell_type": "code",
   "execution_count": 37,
   "metadata": {
    "colab": {
     "base_uri": "https://localhost:8080/"
    },
    "id": "SX5wvWAxV_XC",
    "outputId": "c7b8e464-db2d-48e6-edb7-bacd9b06bb53"
   },
   "outputs": [
    {
     "name": "stdout",
     "output_type": "stream",
     "text": [
      "5.599173553719008 0.0029473487978665873\n"
     ]
    }
   ],
   "source": [
    "fvalue, pvalue = stats.f_oneway(shifts['A'], \n",
    "                                shifts['B'],\n",
    "                                shifts['C'],\n",
    "                                shifts['D'])\n",
    "print(fvalue, pvalue)"
   ]
  },
  {
   "cell_type": "markdown",
   "metadata": {
    "id": "ywXmwS-aY4YM"
   },
   "source": [
    "We can get this in the format of the table we saw above:"
   ]
  },
  {
   "cell_type": "code",
   "execution_count": 38,
   "metadata": {
    "colab": {
     "base_uri": "https://localhost:8080/",
     "height": 112
    },
    "id": "sC_-cfKqYnQp",
    "outputId": "42f24caf-2347-473f-da5d-2f575be1b9c0"
   },
   "outputs": [
    {
     "data": {
      "text/html": [
       "<div>\n",
       "<style scoped>\n",
       "    .dataframe tbody tr th:only-of-type {\n",
       "        vertical-align: middle;\n",
       "    }\n",
       "\n",
       "    .dataframe tbody tr th {\n",
       "        vertical-align: top;\n",
       "    }\n",
       "\n",
       "    .dataframe thead th {\n",
       "        text-align: right;\n",
       "    }\n",
       "</style>\n",
       "<table border=\"1\" class=\"dataframe\">\n",
       "  <thead>\n",
       "    <tr style=\"text-align: right;\">\n",
       "      <th></th>\n",
       "      <th>sum_sq</th>\n",
       "      <th>df</th>\n",
       "      <th>F</th>\n",
       "      <th>PR(&gt;F)</th>\n",
       "    </tr>\n",
       "  </thead>\n",
       "  <tbody>\n",
       "    <tr>\n",
       "      <th>C(shift)</th>\n",
       "      <td>135.5</td>\n",
       "      <td>3.0</td>\n",
       "      <td>5.599174</td>\n",
       "      <td>0.002947</td>\n",
       "    </tr>\n",
       "    <tr>\n",
       "      <th>Residual</th>\n",
       "      <td>290.4</td>\n",
       "      <td>36.0</td>\n",
       "      <td>NaN</td>\n",
       "      <td>NaN</td>\n",
       "    </tr>\n",
       "  </tbody>\n",
       "</table>\n",
       "</div>"
      ],
      "text/plain": [
       "          sum_sq    df         F    PR(>F)\n",
       "C(shift)   135.5   3.0  5.599174  0.002947\n",
       "Residual   290.4  36.0       NaN       NaN"
      ]
     },
     "execution_count": 38,
     "metadata": {},
     "output_type": "execute_result"
    }
   ],
   "source": [
    "# get ANOVA table \n",
    "import statsmodels.api as sm\n",
    "from statsmodels.formula.api import ols\n",
    "\n",
    "# Ordinary Least Squares (OLS) model\n",
    "model = ols('rate ~ C(shift)', data=shift_melt).fit()\n",
    "anova_table = sm.stats.anova_lm(model, typ=2)\n",
    "anova_table\n",
    "# output (ANOVA F and p value)"
   ]
  },
  {
   "cell_type": "markdown",
   "metadata": {
    "id": "pW5Vx6VWdNxw"
   },
   "source": [
    "The **_Shapiro-Wilk_** test can be used to check the _normal distribution of residuals_. Null hypothesis: data is drawn from normal distribution."
   ]
  },
  {
   "cell_type": "code",
   "execution_count": 39,
   "metadata": {
    "colab": {
     "base_uri": "https://localhost:8080/"
    },
    "id": "phB9lnHddQv1",
    "outputId": "57040c36-89eb-4154-9a23-6c7c84150007"
   },
   "outputs": [
    {
     "name": "stdout",
     "output_type": "stream",
     "text": [
      "0.9750654697418213 0.5121709108352661\n"
     ]
    }
   ],
   "source": [
    "w, pvalue = stats.shapiro(model.resid)\n",
    "print(w, pvalue)"
   ]
  },
  {
   "cell_type": "markdown",
   "metadata": {
    "id": "0xRqtKixd1MT"
   },
   "source": [
    "We can use **_Bartlett’s_** test to check the _Homogeneity of variances_. Null hypothesis: samples from populations have equal variances."
   ]
  },
  {
   "cell_type": "code",
   "execution_count": 40,
   "metadata": {
    "colab": {
     "base_uri": "https://localhost:8080/"
    },
    "id": "z2sya2JMd2IJ",
    "outputId": "bc968c92-82c0-4497-ac6f-92d80845ca70"
   },
   "outputs": [
    {
     "name": "stdout",
     "output_type": "stream",
     "text": [
      "1.3763632854696672 0.711084540821183\n"
     ]
    }
   ],
   "source": [
    "w, pvalue = stats.bartlett(shifts['A'], \n",
    "                           shifts['B'], \n",
    "                           shifts['C'], \n",
    "                           shifts['D'])\n",
    "print(w, pvalue)"
   ]
  },
  {
   "cell_type": "markdown",
   "metadata": {
    "id": "mJlzhEk7ar6t"
   },
   "source": [
    "#### 2.1.4.3 ANOVA Interpretation\n",
    "\n",
    "The _p_ value form ANOVA analysis is significant (_p_ < 0.05) and we can conclude there are significant difference between the shifts. But we do not know which shift(s) are different. For this we need to perform a post hoc test. There are a multitude of these that are beyond the scope of this discussion ([Tukey-kramer](https://www.real-statistics.com/one-way-analysis-of-variance-anova/unplanned-comparisons/tukey-kramer-test/) is one such test) \n",
    "\n",
    "<p align=center>\n",
    "<img src=\"https://media.tenor.com/images/4da4d46c8df02570a9a1219cac42bf27/tenor.gif\"></img>\n",
    "</p>"
   ]
  },
  {
   "cell_type": "markdown",
   "metadata": {
    "id": "_vh_d3ENIImT"
   },
   "source": [
    "### 2.1.5 Putting it all together\n",
    "\n",
    "In summary, there are many statistical tests at our disposal when performing inferential statistical analysis. In times like these, a simple decision tree can be extraordinarily useful!\n",
    "\n",
    "<img src=\"https://cdn.scribbr.com/wp-content/uploads//2020/01/flowchart-for-choosing-a-statistical-test.png\" width=800px></img>\n",
    "\n",
    "<small>source: [scribbr](https://www.scribbr.com/statistics/statistical-tests/)</small>"
   ]
  },
  {
   "cell_type": "markdown",
   "metadata": {
    "id": "uNnqPwXqaAEA"
   },
   "source": [
    "## 🍒 2.2 Enrichment: Evaluate statistical significance of product margin: a snake in the garden"
   ]
  },
  {
   "cell_type": "markdown",
   "metadata": {
    "id": "X1i4SQ0y2p4Q"
   },
   "source": [
    "### 2.2.1 Mood's Median on product descriptors\n",
    "\n",
    "The first issue we run into with moods is... what? \n",
    "\n",
    "Since Mood's is nonparametric, we can easily become overconfident in our results. Let's take an example, continuing with the `Truffle Type` column. Recall that there are 3 unique Truffle Types:"
   ]
  },
  {
   "cell_type": "code",
   "execution_count": 41,
   "metadata": {
    "colab": {
     "base_uri": "https://localhost:8080/"
    },
    "id": "iKAlINvT2n2E",
    "outputId": "806bcf2a-5a08-4697-d7ce-e80d1fe21a0d"
   },
   "outputs": [
    {
     "data": {
      "text/plain": [
       "array(['Candy Outer', 'Chocolate Outer', 'Jelly Filled'], dtype=object)"
      ]
     },
     "execution_count": 41,
     "metadata": {},
     "output_type": "execute_result"
    }
   ],
   "source": [
    "df['Truffle Type'].unique()"
   ]
  },
  {
   "cell_type": "markdown",
   "metadata": {},
   "source": [
    "We can loop through each group and compute the:\n",
    "\n",
    "* Moods test (comparison of medians)\n",
    "* Welch's T-test (unequal variances, comparison of means) \n",
    "* Shapiro-Wilk test for normality"
   ]
  },
  {
   "cell_type": "code",
   "execution_count": 73,
   "metadata": {
    "colab": {
     "base_uri": "https://localhost:8080/"
    },
    "id": "Gsm0QCeywlou",
    "outputId": "617aef39-f7d4-4498-ca9e-fcc0a6b01940"
   },
   "outputs": [
    {
     "name": "stdout",
     "output_type": "stream",
     "text": [
      "Candy Outer: N=288\n",
      "Moods Median Test\n",
      "\tstatistic=1.52, pvalue=2.18e-01\n",
      "\treject: False\n",
      "Welch's T-Test\n",
      "\tstatistic=-2.76, pvalue=5.91e-03\n",
      "\treject: True\n",
      "Shapiro-Wilk\n",
      "\tstatistic=0.96, pvalue=2.74e-07\n",
      "\treject: True\n",
      "\n",
      "\n",
      "Chocolate Outer: N=1356\n",
      "Moods Median Test\n",
      "\tstatistic=6.63, pvalue=1.00e-02\n",
      "\treject: False\n",
      "Welch's T-Test\n",
      "\tstatistic=4.41, pvalue=1.19e-05\n",
      "\treject: True\n",
      "Shapiro-Wilk\n",
      "\tstatistic=0.96, pvalue=6.30e-19\n",
      "\treject: True\n",
      "\n",
      "\n",
      "Jelly Filled: N=24\n",
      "Moods Median Test\n",
      "\tstatistic=18.64, pvalue=1.58e-05\n",
      "\treject: True\n",
      "Welch's T-Test\n",
      "\tstatistic=-8.41, pvalue=7.93e-09\n",
      "\treject: True\n",
      "Shapiro-Wilk\n",
      "\tstatistic=0.87, pvalue=6.56e-03\n",
      "\treject: True\n",
      "\n",
      "\n"
     ]
    }
   ],
   "source": [
    "col = 'Truffle Type'\n",
    "moodsdf = pd.DataFrame()\n",
    "confidence_level = 0.01\n",
    "welch_rej = mood_rej = shapiro_rej = False\n",
    "for truff in df[col].unique():\n",
    "  \n",
    "  # for each \n",
    "  group = df.loc[df[col] == truff]['EBITDA/KG']\n",
    "  pop = df.loc[~(df[col] == truff)]['EBITDA/KG']\n",
    "  stat, p, m, table = scipy.stats.median_test(group, pop)\n",
    "  if p < confidence_level:\n",
    "        mood_rej = True\n",
    "  median = np.median(group)\n",
    "  mean = np.mean(group)\n",
    "  size = len(group)\n",
    "  print(\"{}: N={}\".format(truff, size))\n",
    "  print(\"Moods Median Test\")\n",
    "  print(\"\\tstatistic={:.2f}, pvalue={:.2e}\".format(stat, p), end=\"\\n\")\n",
    "  print(f\"\\treject: {mood_rej}\")\n",
    "  print(\"Welch's T-Test\")\n",
    "  print(\"\\tstatistic={:.2f}, pvalue={:.2e}\".format(*scipy.stats.ttest_ind(group, pop, equal_var=False)))\n",
    "  welchp = scipy.stats.ttest_ind(group, pop, equal_var=False).pvalue\n",
    "  if welchp < confidence_level:\n",
    "        welch_rej = True\n",
    "  print(f\"\\treject: {welch_rej}\")\n",
    "  print(\"Shapiro-Wilk\")\n",
    "  print(\"\\tstatistic={:.2f}, pvalue={:.2e}\".format(*stats.shapiro(group)))\n",
    "  if stats.shapiro(group).pvalue < confidence_level:\n",
    "    shapiro_rej = True\n",
    "  print(f\"\\treject: {shapiro_rej}\")\n",
    "  print(end=\"\\n\\n\")\n",
    "  moodsdf = pd.concat([moodsdf, \n",
    "                            pd.DataFrame([truff, \n",
    "                                          stat, p, m, mean, median, size,\n",
    "                                          welchp, table]).T])\n",
    "moodsdf.columns = [col, 'pearsons_chi_square', 'p_value', \n",
    "              'grand_median', 'group_mean', 'group_median', 'size', 'welch p',\n",
    "              'table']"
   ]
  },
  {
   "cell_type": "markdown",
   "metadata": {
    "id": "N747uVxhEGEP"
   },
   "source": [
    "### 🙋‍♀️ Question 1: Moods Results on Truffle Type\n",
    "\n",
    "What can we say about these results? \n",
    "\n",
    "Recall that:\n",
    "\n",
    "* Shapiro-Wilk Null Hypothesis: the distribution is normal\n",
    "* Welch's T-test: requires that the distributions be normal\n",
    "* Moods test: does not require normality in distributions\n",
    "\n",
    "> main conclusions: all the groups are non-normal and therefore welch's test is invalid. We saw that the Welch's test had much lower p-values than the Moods median test. This is good news! It means that our Moods test, while allowing for non-normality, is much more conservative in its test-statistic, and therefore was unable to reject the null hypothesis in the cases of the chocolate outer and candy outer groups"
   ]
  },
  {
   "cell_type": "markdown",
   "metadata": {
    "id": "mawPQ2p5xW1O"
   },
   "source": [
    "We can go ahead and repeat this analysis for all of our product categories:"
   ]
  },
  {
   "cell_type": "code",
   "execution_count": 45,
   "metadata": {
    "colab": {
     "base_uri": "https://localhost:8080/"
    },
    "id": "X7PmQ04oVZRi",
    "outputId": "3be2f506-4fde-4db0-ea91-de4d4c7379f4"
   },
   "outputs": [
    {
     "data": {
      "text/plain": [
       "Index(['Base Cake', 'Truffle Type', 'Primary Flavor', 'Secondary Flavor',\n",
       "       'Color Group'],\n",
       "      dtype='object')"
      ]
     },
     "execution_count": 45,
     "metadata": {},
     "output_type": "execute_result"
    }
   ],
   "source": [
    "df.columns[:5]"
   ]
  },
  {
   "cell_type": "code",
   "execution_count": 69,
   "metadata": {
    "colab": {
     "base_uri": "https://localhost:8080/"
    },
    "id": "HjTW8SGsvKdF",
    "outputId": "f9629bd3-b47a-4e5d-c64a-6926e867386a"
   },
   "outputs": [
    {
     "name": "stdout",
     "output_type": "stream",
     "text": [
      "(101, 10)\n"
     ]
    }
   ],
   "source": [
    "moodsdf = pd.DataFrame()\n",
    "for col in df.columns[:5]:\n",
    "  for truff in df[col].unique():\n",
    "    group = df.loc[df[col] == truff]['EBITDA/KG']\n",
    "    pop = df.loc[~(df[col] == truff)]['EBITDA/KG']\n",
    "    stat, p, m, table = scipy.stats.median_test(group, pop)\n",
    "    median = np.median(group)\n",
    "    mean = np.mean(group)\n",
    "    size = len(group)\n",
    "    welchp = scipy.stats.ttest_ind(group, pop, equal_var=False).pvalue\n",
    "    moodsdf = pd.concat([moodsdf, \n",
    "                              pd.DataFrame([col, truff, \n",
    "                                            stat, p, m, mean, median, size,\n",
    "                                            welchp, table]).T])\n",
    "moodsdf.columns = ['descriptor', 'group', 'pearsons_chi_square', 'p_value', \n",
    "                'grand_median', 'group_mean', 'group_median', 'size', 'welch p',\n",
    "                'table']\n",
    "print(moodsdf.shape)"
   ]
  },
  {
   "cell_type": "code",
   "execution_count": 72,
   "metadata": {
    "colab": {
     "base_uri": "https://localhost:8080/"
    },
    "id": "h-4GZ5bSvn6f",
    "outputId": "6b7705c5-2468-47cf-ff85-1142630984ac"
   },
   "outputs": [
    {
     "name": "stdout",
     "output_type": "stream",
     "text": [
      "(57, 10)\n"
     ]
    }
   ],
   "source": [
    "moodsdf = moodsdf.loc[(moodsdf['p_value'] < confidence_level)].sort_values('group_median')\n",
    "\n",
    "moodsdf = moodsdf.sort_values('group_median').reset_index(drop=True)\n",
    "print(moodsdf.shape)"
   ]
  },
  {
   "cell_type": "code",
   "execution_count": 71,
   "metadata": {
    "colab": {
     "base_uri": "https://localhost:8080/",
     "height": 1000
    },
    "id": "V6Rm8Ju82TKd",
    "outputId": "0fe6952f-51b9-4fd9-998f-15fefb5311db"
   },
   "outputs": [
    {
     "data": {
      "text/html": [
       "<div>\n",
       "<style scoped>\n",
       "    .dataframe tbody tr th:only-of-type {\n",
       "        vertical-align: middle;\n",
       "    }\n",
       "\n",
       "    .dataframe tbody tr th {\n",
       "        vertical-align: top;\n",
       "    }\n",
       "\n",
       "    .dataframe thead th {\n",
       "        text-align: right;\n",
       "    }\n",
       "</style>\n",
       "<table border=\"1\" class=\"dataframe\">\n",
       "  <thead>\n",
       "    <tr style=\"text-align: right;\">\n",
       "      <th></th>\n",
       "      <th>descriptor</th>\n",
       "      <th>group</th>\n",
       "      <th>pearsons_chi_square</th>\n",
       "      <th>p_value</th>\n",
       "      <th>grand_median</th>\n",
       "      <th>group_mean</th>\n",
       "      <th>group_median</th>\n",
       "      <th>size</th>\n",
       "      <th>welch p</th>\n",
       "      <th>table</th>\n",
       "    </tr>\n",
       "  </thead>\n",
       "  <tbody>\n",
       "    <tr>\n",
       "      <th>0</th>\n",
       "      <td>Secondary Flavor</td>\n",
       "      <td>Wild Cherry Cream</td>\n",
       "      <td>6.798913</td>\n",
       "      <td>0.009121</td>\n",
       "      <td>0.216049</td>\n",
       "      <td>-0.122491</td>\n",
       "      <td>-0.15791</td>\n",
       "      <td>12</td>\n",
       "      <td>0.00001</td>\n",
       "      <td>[[1, 833], [11, 823]]</td>\n",
       "    </tr>\n",
       "    <tr>\n",
       "      <th>1</th>\n",
       "      <td>Primary Flavor</td>\n",
       "      <td>Lemon Bar</td>\n",
       "      <td>6.798913</td>\n",
       "      <td>0.009121</td>\n",
       "      <td>0.216049</td>\n",
       "      <td>-0.122491</td>\n",
       "      <td>-0.15791</td>\n",
       "      <td>12</td>\n",
       "      <td>0.00001</td>\n",
       "      <td>[[1, 833], [11, 823]]</td>\n",
       "    </tr>\n",
       "    <tr>\n",
       "      <th>2</th>\n",
       "      <td>Primary Flavor</td>\n",
       "      <td>Orange Pineapple\\tP</td>\n",
       "      <td>18.643248</td>\n",
       "      <td>0.000016</td>\n",
       "      <td>0.216049</td>\n",
       "      <td>0.016747</td>\n",
       "      <td>0.002458</td>\n",
       "      <td>24</td>\n",
       "      <td>0.0</td>\n",
       "      <td>[[1, 833], [23, 811]]</td>\n",
       "    </tr>\n",
       "    <tr>\n",
       "      <th>3</th>\n",
       "      <td>Secondary Flavor</td>\n",
       "      <td>Papaya</td>\n",
       "      <td>18.643248</td>\n",
       "      <td>0.000016</td>\n",
       "      <td>0.216049</td>\n",
       "      <td>0.016747</td>\n",
       "      <td>0.002458</td>\n",
       "      <td>24</td>\n",
       "      <td>0.0</td>\n",
       "      <td>[[1, 833], [23, 811]]</td>\n",
       "    </tr>\n",
       "    <tr>\n",
       "      <th>4</th>\n",
       "      <td>Primary Flavor</td>\n",
       "      <td>Cherry Cream Spice</td>\n",
       "      <td>10.156401</td>\n",
       "      <td>0.001438</td>\n",
       "      <td>0.216049</td>\n",
       "      <td>0.018702</td>\n",
       "      <td>0.009701</td>\n",
       "      <td>12</td>\n",
       "      <td>0.000001</td>\n",
       "      <td>[[0, 834], [12, 822]]</td>\n",
       "    </tr>\n",
       "    <tr>\n",
       "      <th>5</th>\n",
       "      <td>Secondary Flavor</td>\n",
       "      <td>Cucumber</td>\n",
       "      <td>18.643248</td>\n",
       "      <td>0.000016</td>\n",
       "      <td>0.216049</td>\n",
       "      <td>0.051382</td>\n",
       "      <td>0.017933</td>\n",
       "      <td>24</td>\n",
       "      <td>0.0</td>\n",
       "      <td>[[1, 833], [23, 811]]</td>\n",
       "    </tr>\n",
       "    <tr>\n",
       "      <th>6</th>\n",
       "      <td>Truffle Type</td>\n",
       "      <td>Jelly Filled</td>\n",
       "      <td>18.643248</td>\n",
       "      <td>0.000016</td>\n",
       "      <td>0.216049</td>\n",
       "      <td>0.051382</td>\n",
       "      <td>0.017933</td>\n",
       "      <td>24</td>\n",
       "      <td>0.0</td>\n",
       "      <td>[[1, 833], [23, 811]]</td>\n",
       "    </tr>\n",
       "    <tr>\n",
       "      <th>7</th>\n",
       "      <td>Primary Flavor</td>\n",
       "      <td>Orange</td>\n",
       "      <td>18.643248</td>\n",
       "      <td>0.000016</td>\n",
       "      <td>0.216049</td>\n",
       "      <td>0.051382</td>\n",
       "      <td>0.017933</td>\n",
       "      <td>24</td>\n",
       "      <td>0.0</td>\n",
       "      <td>[[1, 833], [23, 811]]</td>\n",
       "    </tr>\n",
       "    <tr>\n",
       "      <th>8</th>\n",
       "      <td>Primary Flavor</td>\n",
       "      <td>Toasted Coconut</td>\n",
       "      <td>15.261253</td>\n",
       "      <td>0.000094</td>\n",
       "      <td>0.216049</td>\n",
       "      <td>0.037002</td>\n",
       "      <td>0.028392</td>\n",
       "      <td>24</td>\n",
       "      <td>0.0</td>\n",
       "      <td>[[2, 832], [22, 812]]</td>\n",
       "    </tr>\n",
       "    <tr>\n",
       "      <th>9</th>\n",
       "      <td>Primary Flavor</td>\n",
       "      <td>Wild Cherry Cream</td>\n",
       "      <td>6.798913</td>\n",
       "      <td>0.009121</td>\n",
       "      <td>0.216049</td>\n",
       "      <td>0.047647</td>\n",
       "      <td>0.028695</td>\n",
       "      <td>12</td>\n",
       "      <td>0.00038</td>\n",
       "      <td>[[1, 833], [11, 823]]</td>\n",
       "    </tr>\n",
       "    <tr>\n",
       "      <th>10</th>\n",
       "      <td>Secondary Flavor</td>\n",
       "      <td>Apricot</td>\n",
       "      <td>15.261253</td>\n",
       "      <td>0.000094</td>\n",
       "      <td>0.216049</td>\n",
       "      <td>0.060312</td>\n",
       "      <td>0.037422</td>\n",
       "      <td>24</td>\n",
       "      <td>0.0</td>\n",
       "      <td>[[2, 832], [22, 812]]</td>\n",
       "    </tr>\n",
       "    <tr>\n",
       "      <th>11</th>\n",
       "      <td>Primary Flavor</td>\n",
       "      <td>Kettle Corn</td>\n",
       "      <td>29.062065</td>\n",
       "      <td>0.0</td>\n",
       "      <td>0.216049</td>\n",
       "      <td>0.055452</td>\n",
       "      <td>0.045891</td>\n",
       "      <td>60</td>\n",
       "      <td>0.0</td>\n",
       "      <td>[[9, 825], [51, 783]]</td>\n",
       "    </tr>\n",
       "    <tr>\n",
       "      <th>12</th>\n",
       "      <td>Primary Flavor</td>\n",
       "      <td>Acai Berry</td>\n",
       "      <td>18.643248</td>\n",
       "      <td>0.000016</td>\n",
       "      <td>0.216049</td>\n",
       "      <td>0.036505</td>\n",
       "      <td>0.049466</td>\n",
       "      <td>24</td>\n",
       "      <td>0.0</td>\n",
       "      <td>[[1, 833], [23, 811]]</td>\n",
       "    </tr>\n",
       "    <tr>\n",
       "      <th>13</th>\n",
       "      <td>Primary Flavor</td>\n",
       "      <td>Pink Lemonade</td>\n",
       "      <td>10.156401</td>\n",
       "      <td>0.001438</td>\n",
       "      <td>0.216049</td>\n",
       "      <td>0.039862</td>\n",
       "      <td>0.056349</td>\n",
       "      <td>12</td>\n",
       "      <td>0.000011</td>\n",
       "      <td>[[0, 834], [12, 822]]</td>\n",
       "    </tr>\n",
       "    <tr>\n",
       "      <th>14</th>\n",
       "      <td>Secondary Flavor</td>\n",
       "      <td>Black Cherry</td>\n",
       "      <td>58.900366</td>\n",
       "      <td>0.0</td>\n",
       "      <td>0.216049</td>\n",
       "      <td>0.055975</td>\n",
       "      <td>0.062898</td>\n",
       "      <td>96</td>\n",
       "      <td>0.0</td>\n",
       "      <td>[[11, 823], [85, 749]]</td>\n",
       "    </tr>\n",
       "    <tr>\n",
       "      <th>15</th>\n",
       "      <td>Primary Flavor</td>\n",
       "      <td>Watermelon</td>\n",
       "      <td>15.261253</td>\n",
       "      <td>0.000094</td>\n",
       "      <td>0.216049</td>\n",
       "      <td>0.04405</td>\n",
       "      <td>0.067896</td>\n",
       "      <td>24</td>\n",
       "      <td>0.0</td>\n",
       "      <td>[[2, 832], [22, 812]]</td>\n",
       "    </tr>\n",
       "    <tr>\n",
       "      <th>16</th>\n",
       "      <td>Primary Flavor</td>\n",
       "      <td>Sassafras</td>\n",
       "      <td>6.798913</td>\n",
       "      <td>0.009121</td>\n",
       "      <td>0.216049</td>\n",
       "      <td>0.072978</td>\n",
       "      <td>0.074112</td>\n",
       "      <td>12</td>\n",
       "      <td>0.000059</td>\n",
       "      <td>[[1, 833], [11, 823]]</td>\n",
       "    </tr>\n",
       "    <tr>\n",
       "      <th>17</th>\n",
       "      <td>Primary Flavor</td>\n",
       "      <td>Plum</td>\n",
       "      <td>34.851608</td>\n",
       "      <td>0.0</td>\n",
       "      <td>0.216049</td>\n",
       "      <td>0.084963</td>\n",
       "      <td>0.079993</td>\n",
       "      <td>72</td>\n",
       "      <td>0.0</td>\n",
       "      <td>[[11, 823], [61, 773]]</td>\n",
       "    </tr>\n",
       "    <tr>\n",
       "      <th>18</th>\n",
       "      <td>Secondary Flavor</td>\n",
       "      <td>Dill Pickle</td>\n",
       "      <td>10.156401</td>\n",
       "      <td>0.001438</td>\n",
       "      <td>0.216049</td>\n",
       "      <td>0.037042</td>\n",
       "      <td>0.082494</td>\n",
       "      <td>12</td>\n",
       "      <td>0.000007</td>\n",
       "      <td>[[0, 834], [12, 822]]</td>\n",
       "    </tr>\n",
       "    <tr>\n",
       "      <th>19</th>\n",
       "      <td>Primary Flavor</td>\n",
       "      <td>Horchata</td>\n",
       "      <td>10.156401</td>\n",
       "      <td>0.001438</td>\n",
       "      <td>0.216049</td>\n",
       "      <td>0.037042</td>\n",
       "      <td>0.082494</td>\n",
       "      <td>12</td>\n",
       "      <td>0.000007</td>\n",
       "      <td>[[0, 834], [12, 822]]</td>\n",
       "    </tr>\n",
       "    <tr>\n",
       "      <th>20</th>\n",
       "      <td>Primary Flavor</td>\n",
       "      <td>Lemon Custard</td>\n",
       "      <td>12.217457</td>\n",
       "      <td>0.000473</td>\n",
       "      <td>0.216049</td>\n",
       "      <td>0.079389</td>\n",
       "      <td>0.087969</td>\n",
       "      <td>24</td>\n",
       "      <td>0.000006</td>\n",
       "      <td>[[3, 831], [21, 813]]</td>\n",
       "    </tr>\n",
       "    <tr>\n",
       "      <th>21</th>\n",
       "      <td>Primary Flavor</td>\n",
       "      <td>Fruit Punch</td>\n",
       "      <td>10.156401</td>\n",
       "      <td>0.001438</td>\n",
       "      <td>0.216049</td>\n",
       "      <td>0.078935</td>\n",
       "      <td>0.090326</td>\n",
       "      <td>12</td>\n",
       "      <td>0.000076</td>\n",
       "      <td>[[0, 834], [12, 822]]</td>\n",
       "    </tr>\n",
       "    <tr>\n",
       "      <th>22</th>\n",
       "      <td>Base Cake</td>\n",
       "      <td>Chiffon</td>\n",
       "      <td>117.046226</td>\n",
       "      <td>0.0</td>\n",
       "      <td>0.216049</td>\n",
       "      <td>0.127851</td>\n",
       "      <td>0.125775</td>\n",
       "      <td>288</td>\n",
       "      <td>0.0</td>\n",
       "      <td>[[60, 774], [228, 606]]</td>\n",
       "    </tr>\n",
       "    <tr>\n",
       "      <th>23</th>\n",
       "      <td>Base Cake</td>\n",
       "      <td>Butter</td>\n",
       "      <td>134.36727</td>\n",
       "      <td>0.0</td>\n",
       "      <td>0.216049</td>\n",
       "      <td>0.142082</td>\n",
       "      <td>0.139756</td>\n",
       "      <td>456</td>\n",
       "      <td>0.0</td>\n",
       "      <td>[[122, 712], [334, 500]]</td>\n",
       "    </tr>\n",
       "    <tr>\n",
       "      <th>24</th>\n",
       "      <td>Secondary Flavor</td>\n",
       "      <td>Banana</td>\n",
       "      <td>10.805348</td>\n",
       "      <td>0.001012</td>\n",
       "      <td>0.216049</td>\n",
       "      <td>0.163442</td>\n",
       "      <td>0.15537</td>\n",
       "      <td>60</td>\n",
       "      <td>0.0</td>\n",
       "      <td>[[17, 817], [43, 791]]</td>\n",
       "    </tr>\n",
       "    <tr>\n",
       "      <th>25</th>\n",
       "      <td>Primary Flavor</td>\n",
       "      <td>Cream Soda</td>\n",
       "      <td>9.511861</td>\n",
       "      <td>0.002041</td>\n",
       "      <td>0.216049</td>\n",
       "      <td>0.150265</td>\n",
       "      <td>0.163455</td>\n",
       "      <td>24</td>\n",
       "      <td>0.000002</td>\n",
       "      <td>[[4, 830], [20, 814]]</td>\n",
       "    </tr>\n",
       "    <tr>\n",
       "      <th>26</th>\n",
       "      <td>Secondary Flavor</td>\n",
       "      <td>Peppermint</td>\n",
       "      <td>9.511861</td>\n",
       "      <td>0.002041</td>\n",
       "      <td>0.216049</td>\n",
       "      <td>0.150265</td>\n",
       "      <td>0.163455</td>\n",
       "      <td>24</td>\n",
       "      <td>0.000002</td>\n",
       "      <td>[[4, 830], [20, 814]]</td>\n",
       "    </tr>\n",
       "    <tr>\n",
       "      <th>27</th>\n",
       "      <td>Primary Flavor</td>\n",
       "      <td>Grand Mariner</td>\n",
       "      <td>10.581767</td>\n",
       "      <td>0.001142</td>\n",
       "      <td>0.216049</td>\n",
       "      <td>0.197463</td>\n",
       "      <td>0.165529</td>\n",
       "      <td>72</td>\n",
       "      <td>0.000829</td>\n",
       "      <td>[[22, 812], [50, 784]]</td>\n",
       "    </tr>\n",
       "    <tr>\n",
       "      <th>28</th>\n",
       "      <td>Color Group</td>\n",
       "      <td>Amethyst</td>\n",
       "      <td>20.488275</td>\n",
       "      <td>0.000006</td>\n",
       "      <td>0.216049</td>\n",
       "      <td>0.195681</td>\n",
       "      <td>0.167321</td>\n",
       "      <td>300</td>\n",
       "      <td>0.0</td>\n",
       "      <td>[[114, 720], [186, 648]]</td>\n",
       "    </tr>\n",
       "    <tr>\n",
       "      <th>29</th>\n",
       "      <td>Color Group</td>\n",
       "      <td>Burgundy</td>\n",
       "      <td>10.999677</td>\n",
       "      <td>0.000911</td>\n",
       "      <td>0.216049</td>\n",
       "      <td>0.193048</td>\n",
       "      <td>0.171465</td>\n",
       "      <td>120</td>\n",
       "      <td>0.000406</td>\n",
       "      <td>[[42, 792], [78, 756]]</td>\n",
       "    </tr>\n",
       "    <tr>\n",
       "      <th>30</th>\n",
       "      <td>Color Group</td>\n",
       "      <td>White</td>\n",
       "      <td>35.76526</td>\n",
       "      <td>0.0</td>\n",
       "      <td>0.216049</td>\n",
       "      <td>0.19</td>\n",
       "      <td>0.177264</td>\n",
       "      <td>432</td>\n",
       "      <td>0.0</td>\n",
       "      <td>[[162, 672], [270, 564]]</td>\n",
       "    </tr>\n",
       "    <tr>\n",
       "      <th>31</th>\n",
       "      <td>Primary Flavor</td>\n",
       "      <td>Ginger Lime</td>\n",
       "      <td>7.835047</td>\n",
       "      <td>0.005124</td>\n",
       "      <td>0.216049</td>\n",
       "      <td>0.21435</td>\n",
       "      <td>0.183543</td>\n",
       "      <td>84</td>\n",
       "      <td>0.001323</td>\n",
       "      <td>[[29, 805], [55, 779]]</td>\n",
       "    </tr>\n",
       "    <tr>\n",
       "      <th>32</th>\n",
       "      <td>Primary Flavor</td>\n",
       "      <td>Mango</td>\n",
       "      <td>11.262488</td>\n",
       "      <td>0.000791</td>\n",
       "      <td>0.216049</td>\n",
       "      <td>0.28803</td>\n",
       "      <td>0.245049</td>\n",
       "      <td>132</td>\n",
       "      <td>0.009688</td>\n",
       "      <td>[[85, 749], [47, 787]]</td>\n",
       "    </tr>\n",
       "    <tr>\n",
       "      <th>33</th>\n",
       "      <td>Color Group</td>\n",
       "      <td>Opal</td>\n",
       "      <td>11.587164</td>\n",
       "      <td>0.000664</td>\n",
       "      <td>0.216049</td>\n",
       "      <td>0.317878</td>\n",
       "      <td>0.259304</td>\n",
       "      <td>324</td>\n",
       "      <td>0.0</td>\n",
       "      <td>[[190, 644], [134, 700]]</td>\n",
       "    </tr>\n",
       "    <tr>\n",
       "      <th>34</th>\n",
       "      <td>Secondary Flavor</td>\n",
       "      <td>Apple</td>\n",
       "      <td>27.283292</td>\n",
       "      <td>0.0</td>\n",
       "      <td>0.216049</td>\n",
       "      <td>0.326167</td>\n",
       "      <td>0.293876</td>\n",
       "      <td>36</td>\n",
       "      <td>0.001176</td>\n",
       "      <td>[[34, 800], [2, 832]]</td>\n",
       "    </tr>\n",
       "    <tr>\n",
       "      <th>35</th>\n",
       "      <td>Secondary Flavor</td>\n",
       "      <td>Tangerine</td>\n",
       "      <td>32.626389</td>\n",
       "      <td>0.0</td>\n",
       "      <td>0.216049</td>\n",
       "      <td>0.342314</td>\n",
       "      <td>0.319273</td>\n",
       "      <td>48</td>\n",
       "      <td>0.000113</td>\n",
       "      <td>[[44, 790], [4, 830]]</td>\n",
       "    </tr>\n",
       "    <tr>\n",
       "      <th>36</th>\n",
       "      <td>Secondary Flavor</td>\n",
       "      <td>Black Currant</td>\n",
       "      <td>34.778391</td>\n",
       "      <td>0.0</td>\n",
       "      <td>0.216049</td>\n",
       "      <td>0.357916</td>\n",
       "      <td>0.332449</td>\n",
       "      <td>36</td>\n",
       "      <td>0.0</td>\n",
       "      <td>[[36, 798], [0, 834]]</td>\n",
       "    </tr>\n",
       "    <tr>\n",
       "      <th>37</th>\n",
       "      <td>Secondary Flavor</td>\n",
       "      <td>Pear</td>\n",
       "      <td>16.614303</td>\n",
       "      <td>0.000046</td>\n",
       "      <td>0.216049</td>\n",
       "      <td>0.373034</td>\n",
       "      <td>0.33831</td>\n",
       "      <td>60</td>\n",
       "      <td>0.000031</td>\n",
       "      <td>[[46, 788], [14, 820]]</td>\n",
       "    </tr>\n",
       "    <tr>\n",
       "      <th>38</th>\n",
       "      <td>Primary Flavor</td>\n",
       "      <td>Vanilla</td>\n",
       "      <td>34.778391</td>\n",
       "      <td>0.0</td>\n",
       "      <td>0.216049</td>\n",
       "      <td>0.378053</td>\n",
       "      <td>0.341626</td>\n",
       "      <td>36</td>\n",
       "      <td>0.000001</td>\n",
       "      <td>[[36, 798], [0, 834]]</td>\n",
       "    </tr>\n",
       "    <tr>\n",
       "      <th>39</th>\n",
       "      <td>Color Group</td>\n",
       "      <td>Citrine</td>\n",
       "      <td>10.156401</td>\n",
       "      <td>0.001438</td>\n",
       "      <td>0.216049</td>\n",
       "      <td>0.390728</td>\n",
       "      <td>0.342512</td>\n",
       "      <td>12</td>\n",
       "      <td>0.001925</td>\n",
       "      <td>[[12, 822], [0, 834]]</td>\n",
       "    </tr>\n",
       "    <tr>\n",
       "      <th>40</th>\n",
       "      <td>Color Group</td>\n",
       "      <td>Teal</td>\n",
       "      <td>13.539679</td>\n",
       "      <td>0.000234</td>\n",
       "      <td>0.216049</td>\n",
       "      <td>0.323955</td>\n",
       "      <td>0.3446</td>\n",
       "      <td>96</td>\n",
       "      <td>0.00121</td>\n",
       "      <td>[[66, 768], [30, 804]]</td>\n",
       "    </tr>\n",
       "    <tr>\n",
       "      <th>41</th>\n",
       "      <td>Base Cake</td>\n",
       "      <td>Tiramisu</td>\n",
       "      <td>52.360619</td>\n",
       "      <td>0.0</td>\n",
       "      <td>0.216049</td>\n",
       "      <td>0.388267</td>\n",
       "      <td>0.362102</td>\n",
       "      <td>144</td>\n",
       "      <td>0.0</td>\n",
       "      <td>[[114, 720], [30, 804]]</td>\n",
       "    </tr>\n",
       "    <tr>\n",
       "      <th>42</th>\n",
       "      <td>Primary Flavor</td>\n",
       "      <td>Doughnut</td>\n",
       "      <td>74.935256</td>\n",
       "      <td>0.0</td>\n",
       "      <td>0.216049</td>\n",
       "      <td>0.439721</td>\n",
       "      <td>0.379361</td>\n",
       "      <td>108</td>\n",
       "      <td>0.0</td>\n",
       "      <td>[[98, 736], [10, 824]]</td>\n",
       "    </tr>\n",
       "    <tr>\n",
       "      <th>43</th>\n",
       "      <td>Secondary Flavor</td>\n",
       "      <td>Ginger Beer</td>\n",
       "      <td>22.363443</td>\n",
       "      <td>0.000002</td>\n",
       "      <td>0.216049</td>\n",
       "      <td>0.444895</td>\n",
       "      <td>0.382283</td>\n",
       "      <td>24</td>\n",
       "      <td>0.000481</td>\n",
       "      <td>[[24, 810], [0, 834]]</td>\n",
       "    </tr>\n",
       "    <tr>\n",
       "      <th>44</th>\n",
       "      <td>Color Group</td>\n",
       "      <td>Rose</td>\n",
       "      <td>18.643248</td>\n",
       "      <td>0.000016</td>\n",
       "      <td>0.216049</td>\n",
       "      <td>0.42301</td>\n",
       "      <td>0.407061</td>\n",
       "      <td>24</td>\n",
       "      <td>0.000062</td>\n",
       "      <td>[[23, 811], [1, 833]]</td>\n",
       "    </tr>\n",
       "    <tr>\n",
       "      <th>45</th>\n",
       "      <td>Base Cake</td>\n",
       "      <td>Cheese</td>\n",
       "      <td>66.804744</td>\n",
       "      <td>0.0</td>\n",
       "      <td>0.216049</td>\n",
       "      <td>0.450934</td>\n",
       "      <td>0.435638</td>\n",
       "      <td>84</td>\n",
       "      <td>0.0</td>\n",
       "      <td>[[79, 755], [5, 829]]</td>\n",
       "    </tr>\n",
       "    <tr>\n",
       "      <th>46</th>\n",
       "      <td>Primary Flavor</td>\n",
       "      <td>Butter Toffee</td>\n",
       "      <td>60.181468</td>\n",
       "      <td>0.0</td>\n",
       "      <td>0.216049</td>\n",
       "      <td>0.50366</td>\n",
       "      <td>0.456343</td>\n",
       "      <td>60</td>\n",
       "      <td>0.0</td>\n",
       "      <td>[[60, 774], [0, 834]]</td>\n",
       "    </tr>\n",
       "    <tr>\n",
       "      <th>47</th>\n",
       "      <td>Color Group</td>\n",
       "      <td>Slate</td>\n",
       "      <td>10.156401</td>\n",
       "      <td>0.001438</td>\n",
       "      <td>0.216049</td>\n",
       "      <td>0.540214</td>\n",
       "      <td>0.483138</td>\n",
       "      <td>12</td>\n",
       "      <td>0.000017</td>\n",
       "      <td>[[12, 822], [0, 834]]</td>\n",
       "    </tr>\n",
       "    <tr>\n",
       "      <th>48</th>\n",
       "      <td>Primary Flavor</td>\n",
       "      <td>Gingersnap</td>\n",
       "      <td>22.363443</td>\n",
       "      <td>0.000002</td>\n",
       "      <td>0.216049</td>\n",
       "      <td>0.643218</td>\n",
       "      <td>0.623627</td>\n",
       "      <td>24</td>\n",
       "      <td>0.0</td>\n",
       "      <td>[[24, 810], [0, 834]]</td>\n",
       "    </tr>\n",
       "    <tr>\n",
       "      <th>49</th>\n",
       "      <td>Primary Flavor</td>\n",
       "      <td>Dill Pickle</td>\n",
       "      <td>22.363443</td>\n",
       "      <td>0.000002</td>\n",
       "      <td>0.216049</td>\n",
       "      <td>0.642239</td>\n",
       "      <td>0.655779</td>\n",
       "      <td>24</td>\n",
       "      <td>0.0</td>\n",
       "      <td>[[24, 810], [0, 834]]</td>\n",
       "    </tr>\n",
       "    <tr>\n",
       "      <th>50</th>\n",
       "      <td>Color Group</td>\n",
       "      <td>Olive</td>\n",
       "      <td>44.967537</td>\n",
       "      <td>0.0</td>\n",
       "      <td>0.216049</td>\n",
       "      <td>0.637627</td>\n",
       "      <td>0.670186</td>\n",
       "      <td>60</td>\n",
       "      <td>0.0</td>\n",
       "      <td>[[56, 778], [4, 830]]</td>\n",
       "    </tr>\n",
       "    <tr>\n",
       "      <th>51</th>\n",
       "      <td>Primary Flavor</td>\n",
       "      <td>Butter Milk</td>\n",
       "      <td>10.156401</td>\n",
       "      <td>0.001438</td>\n",
       "      <td>0.216049</td>\n",
       "      <td>0.699284</td>\n",
       "      <td>0.688601</td>\n",
       "      <td>12</td>\n",
       "      <td>0.0</td>\n",
       "      <td>[[12, 822], [0, 834]]</td>\n",
       "    </tr>\n",
       "    <tr>\n",
       "      <th>52</th>\n",
       "      <td>Base Cake</td>\n",
       "      <td>Sponge</td>\n",
       "      <td>127.156266</td>\n",
       "      <td>0.0</td>\n",
       "      <td>0.216049</td>\n",
       "      <td>0.698996</td>\n",
       "      <td>0.699355</td>\n",
       "      <td>120</td>\n",
       "      <td>0.0</td>\n",
       "      <td>[[120, 714], [0, 834]]</td>\n",
       "    </tr>\n",
       "    <tr>\n",
       "      <th>53</th>\n",
       "      <td>Primary Flavor</td>\n",
       "      <td>Chocolate Mint</td>\n",
       "      <td>10.156401</td>\n",
       "      <td>0.001438</td>\n",
       "      <td>0.216049</td>\n",
       "      <td>0.685546</td>\n",
       "      <td>0.699666</td>\n",
       "      <td>12</td>\n",
       "      <td>0.0</td>\n",
       "      <td>[[12, 822], [0, 834]]</td>\n",
       "    </tr>\n",
       "    <tr>\n",
       "      <th>54</th>\n",
       "      <td>Primary Flavor</td>\n",
       "      <td>Coconut</td>\n",
       "      <td>10.156401</td>\n",
       "      <td>0.001438</td>\n",
       "      <td>0.216049</td>\n",
       "      <td>0.732777</td>\n",
       "      <td>0.717641</td>\n",
       "      <td>12</td>\n",
       "      <td>0.0</td>\n",
       "      <td>[[12, 822], [0, 834]]</td>\n",
       "    </tr>\n",
       "    <tr>\n",
       "      <th>55</th>\n",
       "      <td>Primary Flavor</td>\n",
       "      <td>Blueberry</td>\n",
       "      <td>22.363443</td>\n",
       "      <td>0.000002</td>\n",
       "      <td>0.216049</td>\n",
       "      <td>0.759643</td>\n",
       "      <td>0.72536</td>\n",
       "      <td>24</td>\n",
       "      <td>0.0</td>\n",
       "      <td>[[24, 810], [0, 834]]</td>\n",
       "    </tr>\n",
       "    <tr>\n",
       "      <th>56</th>\n",
       "      <td>Primary Flavor</td>\n",
       "      <td>Amaretto</td>\n",
       "      <td>10.156401</td>\n",
       "      <td>0.001438</td>\n",
       "      <td>0.216049</td>\n",
       "      <td>0.782156</td>\n",
       "      <td>0.764845</td>\n",
       "      <td>12</td>\n",
       "      <td>0.0</td>\n",
       "      <td>[[12, 822], [0, 834]]</td>\n",
       "    </tr>\n",
       "  </tbody>\n",
       "</table>\n",
       "</div>"
      ],
      "text/plain": [
       "          descriptor                group pearsons_chi_square   p_value  \\\n",
       "0   Secondary Flavor    Wild Cherry Cream            6.798913  0.009121   \n",
       "1     Primary Flavor            Lemon Bar            6.798913  0.009121   \n",
       "2     Primary Flavor  Orange Pineapple\\tP           18.643248  0.000016   \n",
       "3   Secondary Flavor               Papaya           18.643248  0.000016   \n",
       "4     Primary Flavor   Cherry Cream Spice           10.156401  0.001438   \n",
       "5   Secondary Flavor             Cucumber           18.643248  0.000016   \n",
       "6       Truffle Type         Jelly Filled           18.643248  0.000016   \n",
       "7     Primary Flavor               Orange           18.643248  0.000016   \n",
       "8     Primary Flavor      Toasted Coconut           15.261253  0.000094   \n",
       "9     Primary Flavor    Wild Cherry Cream            6.798913  0.009121   \n",
       "10  Secondary Flavor              Apricot           15.261253  0.000094   \n",
       "11    Primary Flavor          Kettle Corn           29.062065       0.0   \n",
       "12    Primary Flavor           Acai Berry           18.643248  0.000016   \n",
       "13    Primary Flavor        Pink Lemonade           10.156401  0.001438   \n",
       "14  Secondary Flavor         Black Cherry           58.900366       0.0   \n",
       "15    Primary Flavor           Watermelon           15.261253  0.000094   \n",
       "16    Primary Flavor            Sassafras            6.798913  0.009121   \n",
       "17    Primary Flavor                 Plum           34.851608       0.0   \n",
       "18  Secondary Flavor          Dill Pickle           10.156401  0.001438   \n",
       "19    Primary Flavor             Horchata           10.156401  0.001438   \n",
       "20    Primary Flavor        Lemon Custard           12.217457  0.000473   \n",
       "21    Primary Flavor          Fruit Punch           10.156401  0.001438   \n",
       "22         Base Cake              Chiffon          117.046226       0.0   \n",
       "23         Base Cake               Butter           134.36727       0.0   \n",
       "24  Secondary Flavor               Banana           10.805348  0.001012   \n",
       "25    Primary Flavor           Cream Soda            9.511861  0.002041   \n",
       "26  Secondary Flavor           Peppermint            9.511861  0.002041   \n",
       "27    Primary Flavor        Grand Mariner           10.581767  0.001142   \n",
       "28       Color Group             Amethyst           20.488275  0.000006   \n",
       "29       Color Group             Burgundy           10.999677  0.000911   \n",
       "30       Color Group                White            35.76526       0.0   \n",
       "31    Primary Flavor          Ginger Lime            7.835047  0.005124   \n",
       "32    Primary Flavor                Mango           11.262488  0.000791   \n",
       "33       Color Group                 Opal           11.587164  0.000664   \n",
       "34  Secondary Flavor                Apple           27.283292       0.0   \n",
       "35  Secondary Flavor            Tangerine           32.626389       0.0   \n",
       "36  Secondary Flavor        Black Currant           34.778391       0.0   \n",
       "37  Secondary Flavor                 Pear           16.614303  0.000046   \n",
       "38    Primary Flavor              Vanilla           34.778391       0.0   \n",
       "39       Color Group              Citrine           10.156401  0.001438   \n",
       "40       Color Group                 Teal           13.539679  0.000234   \n",
       "41         Base Cake             Tiramisu           52.360619       0.0   \n",
       "42    Primary Flavor             Doughnut           74.935256       0.0   \n",
       "43  Secondary Flavor          Ginger Beer           22.363443  0.000002   \n",
       "44       Color Group                 Rose           18.643248  0.000016   \n",
       "45         Base Cake               Cheese           66.804744       0.0   \n",
       "46    Primary Flavor        Butter Toffee           60.181468       0.0   \n",
       "47       Color Group                Slate           10.156401  0.001438   \n",
       "48    Primary Flavor           Gingersnap           22.363443  0.000002   \n",
       "49    Primary Flavor          Dill Pickle           22.363443  0.000002   \n",
       "50       Color Group                Olive           44.967537       0.0   \n",
       "51    Primary Flavor          Butter Milk           10.156401  0.001438   \n",
       "52         Base Cake               Sponge          127.156266       0.0   \n",
       "53    Primary Flavor       Chocolate Mint           10.156401  0.001438   \n",
       "54    Primary Flavor              Coconut           10.156401  0.001438   \n",
       "55    Primary Flavor            Blueberry           22.363443  0.000002   \n",
       "56    Primary Flavor             Amaretto           10.156401  0.001438   \n",
       "\n",
       "   grand_median group_mean group_median size   welch p  \\\n",
       "0      0.216049  -0.122491     -0.15791   12   0.00001   \n",
       "1      0.216049  -0.122491     -0.15791   12   0.00001   \n",
       "2      0.216049   0.016747     0.002458   24       0.0   \n",
       "3      0.216049   0.016747     0.002458   24       0.0   \n",
       "4      0.216049   0.018702     0.009701   12  0.000001   \n",
       "5      0.216049   0.051382     0.017933   24       0.0   \n",
       "6      0.216049   0.051382     0.017933   24       0.0   \n",
       "7      0.216049   0.051382     0.017933   24       0.0   \n",
       "8      0.216049   0.037002     0.028392   24       0.0   \n",
       "9      0.216049   0.047647     0.028695   12   0.00038   \n",
       "10     0.216049   0.060312     0.037422   24       0.0   \n",
       "11     0.216049   0.055452     0.045891   60       0.0   \n",
       "12     0.216049   0.036505     0.049466   24       0.0   \n",
       "13     0.216049   0.039862     0.056349   12  0.000011   \n",
       "14     0.216049   0.055975     0.062898   96       0.0   \n",
       "15     0.216049    0.04405     0.067896   24       0.0   \n",
       "16     0.216049   0.072978     0.074112   12  0.000059   \n",
       "17     0.216049   0.084963     0.079993   72       0.0   \n",
       "18     0.216049   0.037042     0.082494   12  0.000007   \n",
       "19     0.216049   0.037042     0.082494   12  0.000007   \n",
       "20     0.216049   0.079389     0.087969   24  0.000006   \n",
       "21     0.216049   0.078935     0.090326   12  0.000076   \n",
       "22     0.216049   0.127851     0.125775  288       0.0   \n",
       "23     0.216049   0.142082     0.139756  456       0.0   \n",
       "24     0.216049   0.163442      0.15537   60       0.0   \n",
       "25     0.216049   0.150265     0.163455   24  0.000002   \n",
       "26     0.216049   0.150265     0.163455   24  0.000002   \n",
       "27     0.216049   0.197463     0.165529   72  0.000829   \n",
       "28     0.216049   0.195681     0.167321  300       0.0   \n",
       "29     0.216049   0.193048     0.171465  120  0.000406   \n",
       "30     0.216049       0.19     0.177264  432       0.0   \n",
       "31     0.216049    0.21435     0.183543   84  0.001323   \n",
       "32     0.216049    0.28803     0.245049  132  0.009688   \n",
       "33     0.216049   0.317878     0.259304  324       0.0   \n",
       "34     0.216049   0.326167     0.293876   36  0.001176   \n",
       "35     0.216049   0.342314     0.319273   48  0.000113   \n",
       "36     0.216049   0.357916     0.332449   36       0.0   \n",
       "37     0.216049   0.373034      0.33831   60  0.000031   \n",
       "38     0.216049   0.378053     0.341626   36  0.000001   \n",
       "39     0.216049   0.390728     0.342512   12  0.001925   \n",
       "40     0.216049   0.323955       0.3446   96   0.00121   \n",
       "41     0.216049   0.388267     0.362102  144       0.0   \n",
       "42     0.216049   0.439721     0.379361  108       0.0   \n",
       "43     0.216049   0.444895     0.382283   24  0.000481   \n",
       "44     0.216049    0.42301     0.407061   24  0.000062   \n",
       "45     0.216049   0.450934     0.435638   84       0.0   \n",
       "46     0.216049    0.50366     0.456343   60       0.0   \n",
       "47     0.216049   0.540214     0.483138   12  0.000017   \n",
       "48     0.216049   0.643218     0.623627   24       0.0   \n",
       "49     0.216049   0.642239     0.655779   24       0.0   \n",
       "50     0.216049   0.637627     0.670186   60       0.0   \n",
       "51     0.216049   0.699284     0.688601   12       0.0   \n",
       "52     0.216049   0.698996     0.699355  120       0.0   \n",
       "53     0.216049   0.685546     0.699666   12       0.0   \n",
       "54     0.216049   0.732777     0.717641   12       0.0   \n",
       "55     0.216049   0.759643      0.72536   24       0.0   \n",
       "56     0.216049   0.782156     0.764845   12       0.0   \n",
       "\n",
       "                       table  \n",
       "0      [[1, 833], [11, 823]]  \n",
       "1      [[1, 833], [11, 823]]  \n",
       "2      [[1, 833], [23, 811]]  \n",
       "3      [[1, 833], [23, 811]]  \n",
       "4      [[0, 834], [12, 822]]  \n",
       "5      [[1, 833], [23, 811]]  \n",
       "6      [[1, 833], [23, 811]]  \n",
       "7      [[1, 833], [23, 811]]  \n",
       "8      [[2, 832], [22, 812]]  \n",
       "9      [[1, 833], [11, 823]]  \n",
       "10     [[2, 832], [22, 812]]  \n",
       "11     [[9, 825], [51, 783]]  \n",
       "12     [[1, 833], [23, 811]]  \n",
       "13     [[0, 834], [12, 822]]  \n",
       "14    [[11, 823], [85, 749]]  \n",
       "15     [[2, 832], [22, 812]]  \n",
       "16     [[1, 833], [11, 823]]  \n",
       "17    [[11, 823], [61, 773]]  \n",
       "18     [[0, 834], [12, 822]]  \n",
       "19     [[0, 834], [12, 822]]  \n",
       "20     [[3, 831], [21, 813]]  \n",
       "21     [[0, 834], [12, 822]]  \n",
       "22   [[60, 774], [228, 606]]  \n",
       "23  [[122, 712], [334, 500]]  \n",
       "24    [[17, 817], [43, 791]]  \n",
       "25     [[4, 830], [20, 814]]  \n",
       "26     [[4, 830], [20, 814]]  \n",
       "27    [[22, 812], [50, 784]]  \n",
       "28  [[114, 720], [186, 648]]  \n",
       "29    [[42, 792], [78, 756]]  \n",
       "30  [[162, 672], [270, 564]]  \n",
       "31    [[29, 805], [55, 779]]  \n",
       "32    [[85, 749], [47, 787]]  \n",
       "33  [[190, 644], [134, 700]]  \n",
       "34     [[34, 800], [2, 832]]  \n",
       "35     [[44, 790], [4, 830]]  \n",
       "36     [[36, 798], [0, 834]]  \n",
       "37    [[46, 788], [14, 820]]  \n",
       "38     [[36, 798], [0, 834]]  \n",
       "39     [[12, 822], [0, 834]]  \n",
       "40    [[66, 768], [30, 804]]  \n",
       "41   [[114, 720], [30, 804]]  \n",
       "42    [[98, 736], [10, 824]]  \n",
       "43     [[24, 810], [0, 834]]  \n",
       "44     [[23, 811], [1, 833]]  \n",
       "45     [[79, 755], [5, 829]]  \n",
       "46     [[60, 774], [0, 834]]  \n",
       "47     [[12, 822], [0, 834]]  \n",
       "48     [[24, 810], [0, 834]]  \n",
       "49     [[24, 810], [0, 834]]  \n",
       "50     [[56, 778], [4, 830]]  \n",
       "51     [[12, 822], [0, 834]]  \n",
       "52    [[120, 714], [0, 834]]  \n",
       "53     [[12, 822], [0, 834]]  \n",
       "54     [[12, 822], [0, 834]]  \n",
       "55     [[24, 810], [0, 834]]  \n",
       "56     [[12, 822], [0, 834]]  "
      ]
     },
     "execution_count": 71,
     "metadata": {},
     "output_type": "execute_result"
    }
   ],
   "source": [
    "moodsdf"
   ]
  },
  {
   "cell_type": "markdown",
   "metadata": {
    "id": "PIiMWCRVGBsB"
   },
   "source": [
    "### 🍒🍒 2.2.2 **Enrichment**: Broad Analysis of Categories: ANOVA\n",
    "\n"
   ]
  },
  {
   "cell_type": "markdown",
   "metadata": {
    "id": "ytKRGYYWiSFX"
   },
   "source": [
    "Recall our \"melted\" shift data. It will be useful to think of getting our Truffle data in this format:"
   ]
  },
  {
   "cell_type": "code",
   "execution_count": 49,
   "metadata": {
    "colab": {
     "base_uri": "https://localhost:8080/",
     "height": 206
    },
    "id": "URjZgCMViMiw",
    "outputId": "28621dc6-ee56-4455-c2da-f8360c1ae0a7"
   },
   "outputs": [
    {
     "data": {
      "text/html": [
       "\n",
       "  <div id=\"df-d48631b7-b109-4627-aa30-b85e20e0f05c\">\n",
       "    <div class=\"colab-df-container\">\n",
       "      <div>\n",
       "<style scoped>\n",
       "    .dataframe tbody tr th:only-of-type {\n",
       "        vertical-align: middle;\n",
       "    }\n",
       "\n",
       "    .dataframe tbody tr th {\n",
       "        vertical-align: top;\n",
       "    }\n",
       "\n",
       "    .dataframe thead th {\n",
       "        text-align: right;\n",
       "    }\n",
       "</style>\n",
       "<table border=\"1\" class=\"dataframe\">\n",
       "  <thead>\n",
       "    <tr style=\"text-align: right;\">\n",
       "      <th></th>\n",
       "      <th>index</th>\n",
       "      <th>shift</th>\n",
       "      <th>rate</th>\n",
       "    </tr>\n",
       "  </thead>\n",
       "  <tbody>\n",
       "    <tr>\n",
       "      <th>0</th>\n",
       "      <td>0</td>\n",
       "      <td>A</td>\n",
       "      <td>15</td>\n",
       "    </tr>\n",
       "    <tr>\n",
       "      <th>1</th>\n",
       "      <td>1</td>\n",
       "      <td>A</td>\n",
       "      <td>15</td>\n",
       "    </tr>\n",
       "    <tr>\n",
       "      <th>2</th>\n",
       "      <td>2</td>\n",
       "      <td>A</td>\n",
       "      <td>15</td>\n",
       "    </tr>\n",
       "    <tr>\n",
       "      <th>3</th>\n",
       "      <td>3</td>\n",
       "      <td>A</td>\n",
       "      <td>16</td>\n",
       "    </tr>\n",
       "    <tr>\n",
       "      <th>4</th>\n",
       "      <td>4</td>\n",
       "      <td>A</td>\n",
       "      <td>17</td>\n",
       "    </tr>\n",
       "  </tbody>\n",
       "</table>\n",
       "</div>\n",
       "    </div>\n",
       "  </div>\n",
       "  "
      ],
      "text/plain": [
       "   index shift  rate\n",
       "0      0     A    15\n",
       "1      1     A    15\n",
       "2      2     A    15\n",
       "3      3     A    16\n",
       "4      4     A    17"
      ]
     },
     "execution_count": 49,
     "metadata": {},
     "output_type": "execute_result"
    }
   ],
   "source": [
    "shift_melt.head()"
   ]
  },
  {
   "cell_type": "code",
   "execution_count": 50,
   "metadata": {
    "id": "WYvWTt4YixSw"
   },
   "outputs": [],
   "source": [
    "df.columns = df.columns.str.replace(' ', '_')\n",
    "df.columns = df.columns.str.replace('/', '_')"
   ]
  },
  {
   "cell_type": "code",
   "execution_count": 51,
   "metadata": {
    "colab": {
     "base_uri": "https://localhost:8080/",
     "height": 112
    },
    "id": "6xBHomXrhqAm",
    "outputId": "cb4b4f26-7085-4c68-906c-37c2b7f6f414"
   },
   "outputs": [
    {
     "data": {
      "text/html": [
       "\n",
       "  <div id=\"df-6482d5af-de98-431a-99f6-9afefa83eae3\">\n",
       "    <div class=\"colab-df-container\">\n",
       "      <div>\n",
       "<style scoped>\n",
       "    .dataframe tbody tr th:only-of-type {\n",
       "        vertical-align: middle;\n",
       "    }\n",
       "\n",
       "    .dataframe tbody tr th {\n",
       "        vertical-align: top;\n",
       "    }\n",
       "\n",
       "    .dataframe thead th {\n",
       "        text-align: right;\n",
       "    }\n",
       "</style>\n",
       "<table border=\"1\" class=\"dataframe\">\n",
       "  <thead>\n",
       "    <tr style=\"text-align: right;\">\n",
       "      <th></th>\n",
       "      <th>sum_sq</th>\n",
       "      <th>df</th>\n",
       "      <th>F</th>\n",
       "      <th>PR(&gt;F)</th>\n",
       "    </tr>\n",
       "  </thead>\n",
       "  <tbody>\n",
       "    <tr>\n",
       "      <th>C(Truffle_Type)</th>\n",
       "      <td>1.250464</td>\n",
       "      <td>2.0</td>\n",
       "      <td>12.882509</td>\n",
       "      <td>0.000003</td>\n",
       "    </tr>\n",
       "    <tr>\n",
       "      <th>Residual</th>\n",
       "      <td>80.808138</td>\n",
       "      <td>1665.0</td>\n",
       "      <td>NaN</td>\n",
       "      <td>NaN</td>\n",
       "    </tr>\n",
       "  </tbody>\n",
       "</table>\n",
       "</div>\n",
       "    </div>\n",
       "  </div>\n",
       "  "
      ],
      "text/plain": [
       "                    sum_sq      df          F    PR(>F)\n",
       "C(Truffle_Type)   1.250464     2.0  12.882509  0.000003\n",
       "Residual         80.808138  1665.0        NaN       NaN"
      ]
     },
     "execution_count": 51,
     "metadata": {},
     "output_type": "execute_result"
    }
   ],
   "source": [
    "# get ANOVA table \n",
    "# Ordinary Least Squares (OLS) model\n",
    "model = ols('EBITDA_KG ~ C(Truffle_Type)', data=df).fit()\n",
    "anova_table = sm.stats.anova_lm(model, typ=2)\n",
    "anova_table\n",
    "# output (ANOVA F and p value)"
   ]
  },
  {
   "cell_type": "markdown",
   "metadata": {
    "id": "7A9JQbARjF5B"
   },
   "source": [
    "Recall the **_Shapiro-Wilk_** test can be used to check the _normal distribution of residuals_. Null hypothesis: data is drawn from normal distribution."
   ]
  },
  {
   "cell_type": "code",
   "execution_count": 52,
   "metadata": {
    "colab": {
     "base_uri": "https://localhost:8080/"
    },
    "id": "OPiFlR0Ii7RB",
    "outputId": "e47e197c-3da7-43ba-8c56-696d61461118"
   },
   "outputs": [
    {
     "name": "stdout",
     "output_type": "stream",
     "text": [
      "0.9576056599617004 1.2598073820281984e-21\n"
     ]
    }
   ],
   "source": [
    "w, pvalue = stats.shapiro(model.resid)\n",
    "print(w, pvalue)"
   ]
  },
  {
   "cell_type": "markdown",
   "metadata": {
    "id": "f739OA5gjYGZ"
   },
   "source": [
    "And the **_Bartlett’s_** test to check the _Homogeneity of variances_. Null hypothesis: samples from populations have equal variances."
   ]
  },
  {
   "cell_type": "code",
   "execution_count": 53,
   "metadata": {
    "colab": {
     "base_uri": "https://localhost:8080/"
    },
    "id": "ozV8i6sLmBst",
    "outputId": "625ab4e6-ab3e-4d8e-980c-ade4fab165f5"
   },
   "outputs": [
    {
     "data": {
      "text/plain": [
       "<pandas.core.groupby.generic.SeriesGroupBy object at 0x7fafac7cfd10>"
      ]
     },
     "execution_count": 53,
     "metadata": {},
     "output_type": "execute_result"
    }
   ],
   "source": [
    "gb = df.groupby('Truffle_Type')['EBITDA_KG']\n",
    "gb"
   ]
  },
  {
   "cell_type": "code",
   "execution_count": 54,
   "metadata": {
    "colab": {
     "base_uri": "https://localhost:8080/"
    },
    "id": "ixHKhdRQjEkh",
    "outputId": "a079e7a8-6ec2-4298-b093-473f86f2b8e0"
   },
   "outputs": [
    {
     "name": "stdout",
     "output_type": "stream",
     "text": [
      "109.93252546442552 1.344173733366234e-24\n"
     ]
    }
   ],
   "source": [
    "w, pvalue = stats.bartlett(*[gb.get_group(x) for x in gb.groups])\n",
    "print(w, pvalue)"
   ]
  },
  {
   "cell_type": "markdown",
   "metadata": {
    "id": "9XIDDKOBmp3L"
   },
   "source": [
    "Wow it looks like our data is not drawn from a normal distribution! Let's check this for other categories...\n",
    "\n",
    "We can wrap these in a for loop:"
   ]
  },
  {
   "cell_type": "code",
   "execution_count": 55,
   "metadata": {
    "colab": {
     "base_uri": "https://localhost:8080/",
     "height": 847
    },
    "id": "36ctJA_MmrzD",
    "outputId": "fdd9f774-323b-4188-b36e-633fd9add6f9"
   },
   "outputs": [
    {
     "name": "stdout",
     "output_type": "stream",
     "text": [
      "Base_Cake\n"
     ]
    },
    {
     "data": {
      "text/html": [
       "\n",
       "  <div id=\"df-7ab530db-b767-4222-a1eb-b8d9494d63c2\">\n",
       "    <div class=\"colab-df-container\">\n",
       "      <div>\n",
       "<style scoped>\n",
       "    .dataframe tbody tr th:only-of-type {\n",
       "        vertical-align: middle;\n",
       "    }\n",
       "\n",
       "    .dataframe tbody tr th {\n",
       "        vertical-align: top;\n",
       "    }\n",
       "\n",
       "    .dataframe thead th {\n",
       "        text-align: right;\n",
       "    }\n",
       "</style>\n",
       "<table border=\"1\" class=\"dataframe\">\n",
       "  <thead>\n",
       "    <tr style=\"text-align: right;\">\n",
       "      <th></th>\n",
       "      <th>sum_sq</th>\n",
       "      <th>df</th>\n",
       "      <th>F</th>\n",
       "      <th>PR(&gt;F)</th>\n",
       "    </tr>\n",
       "  </thead>\n",
       "  <tbody>\n",
       "    <tr>\n",
       "      <th>C(Base_Cake)</th>\n",
       "      <td>39.918103</td>\n",
       "      <td>5.0</td>\n",
       "      <td>314.869955</td>\n",
       "      <td>1.889884e-237</td>\n",
       "    </tr>\n",
       "    <tr>\n",
       "      <th>Residual</th>\n",
       "      <td>42.140500</td>\n",
       "      <td>1662.0</td>\n",
       "      <td>NaN</td>\n",
       "      <td>NaN</td>\n",
       "    </tr>\n",
       "  </tbody>\n",
       "</table>\n",
       "</div>\n",
       "    </div>\n",
       "  </div>\n",
       "  "
      ],
      "text/plain": [
       "                 sum_sq      df           F         PR(>F)\n",
       "C(Base_Cake)  39.918103     5.0  314.869955  1.889884e-237\n",
       "Residual      42.140500  1662.0         NaN            NaN"
      ]
     },
     "metadata": {},
     "output_type": "display_data"
    },
    {
     "name": "stdout",
     "output_type": "stream",
     "text": [
      "Shapiro:  0.9634131193161011 4.1681337029688696e-20\n",
      "Bartlett:  69.83288886114195 1.1102218566053728e-13\n",
      "\n",
      "Truffle_Type\n"
     ]
    },
    {
     "data": {
      "text/html": [
       "\n",
       "  <div id=\"df-925cf159-35c7-459a-b8ef-99d535050c04\">\n",
       "    <div class=\"colab-df-container\">\n",
       "      <div>\n",
       "<style scoped>\n",
       "    .dataframe tbody tr th:only-of-type {\n",
       "        vertical-align: middle;\n",
       "    }\n",
       "\n",
       "    .dataframe tbody tr th {\n",
       "        vertical-align: top;\n",
       "    }\n",
       "\n",
       "    .dataframe thead th {\n",
       "        text-align: right;\n",
       "    }\n",
       "</style>\n",
       "<table border=\"1\" class=\"dataframe\">\n",
       "  <thead>\n",
       "    <tr style=\"text-align: right;\">\n",
       "      <th></th>\n",
       "      <th>sum_sq</th>\n",
       "      <th>df</th>\n",
       "      <th>F</th>\n",
       "      <th>PR(&gt;F)</th>\n",
       "    </tr>\n",
       "  </thead>\n",
       "  <tbody>\n",
       "    <tr>\n",
       "      <th>C(Truffle_Type)</th>\n",
       "      <td>1.250464</td>\n",
       "      <td>2.0</td>\n",
       "      <td>12.882509</td>\n",
       "      <td>0.000003</td>\n",
       "    </tr>\n",
       "    <tr>\n",
       "      <th>Residual</th>\n",
       "      <td>80.808138</td>\n",
       "      <td>1665.0</td>\n",
       "      <td>NaN</td>\n",
       "      <td>NaN</td>\n",
       "    </tr>\n",
       "  </tbody>\n",
       "</table>\n",
       "</div>\n",
       "    </div>\n",
       "  </div>\n",
       "  "
      ],
      "text/plain": [
       "                    sum_sq      df          F    PR(>F)\n",
       "C(Truffle_Type)   1.250464     2.0  12.882509  0.000003\n",
       "Residual         80.808138  1665.0        NaN       NaN"
      ]
     },
     "metadata": {},
     "output_type": "display_data"
    },
    {
     "name": "stdout",
     "output_type": "stream",
     "text": [
      "Shapiro:  0.9576056599617004 1.2598073820281984e-21\n",
      "Bartlett:  109.93252546442552 1.344173733366234e-24\n",
      "\n",
      "Primary_Flavor\n"
     ]
    },
    {
     "data": {
      "text/html": [
       "\n",
       "  <div id=\"df-940e5512-3a8a-463f-a5a8-a221bee351c5\">\n",
       "    <div class=\"colab-df-container\">\n",
       "      <div>\n",
       "<style scoped>\n",
       "    .dataframe tbody tr th:only-of-type {\n",
       "        vertical-align: middle;\n",
       "    }\n",
       "\n",
       "    .dataframe tbody tr th {\n",
       "        vertical-align: top;\n",
       "    }\n",
       "\n",
       "    .dataframe thead th {\n",
       "        text-align: right;\n",
       "    }\n",
       "</style>\n",
       "<table border=\"1\" class=\"dataframe\">\n",
       "  <thead>\n",
       "    <tr style=\"text-align: right;\">\n",
       "      <th></th>\n",
       "      <th>sum_sq</th>\n",
       "      <th>df</th>\n",
       "      <th>F</th>\n",
       "      <th>PR(&gt;F)</th>\n",
       "    </tr>\n",
       "  </thead>\n",
       "  <tbody>\n",
       "    <tr>\n",
       "      <th>C(Primary_Flavor)</th>\n",
       "      <td>50.270639</td>\n",
       "      <td>50.0</td>\n",
       "      <td>51.143649</td>\n",
       "      <td>1.153434e-292</td>\n",
       "    </tr>\n",
       "    <tr>\n",
       "      <th>Residual</th>\n",
       "      <td>31.787964</td>\n",
       "      <td>1617.0</td>\n",
       "      <td>NaN</td>\n",
       "      <td>NaN</td>\n",
       "    </tr>\n",
       "  </tbody>\n",
       "</table>\n",
       "</div>\n",
       "    </div>\n",
       "  </div>\n",
       "  "
      ],
      "text/plain": [
       "                      sum_sq      df          F         PR(>F)\n",
       "C(Primary_Flavor)  50.270639    50.0  51.143649  1.153434e-292\n",
       "Residual           31.787964  1617.0        NaN            NaN"
      ]
     },
     "metadata": {},
     "output_type": "display_data"
    },
    {
     "name": "stdout",
     "output_type": "stream",
     "text": [
      "Shapiro:  0.948470413684845 9.90281706784179e-24\n",
      "Bartlett:  210.15130419114894 1.5872504991231547e-21\n",
      "\n",
      "Secondary_Flavor\n"
     ]
    },
    {
     "data": {
      "text/html": [
       "\n",
       "  <div id=\"df-c4875fd1-47ab-4223-92f4-82173a73e7e4\">\n",
       "    <div class=\"colab-df-container\">\n",
       "      <div>\n",
       "<style scoped>\n",
       "    .dataframe tbody tr th:only-of-type {\n",
       "        vertical-align: middle;\n",
       "    }\n",
       "\n",
       "    .dataframe tbody tr th {\n",
       "        vertical-align: top;\n",
       "    }\n",
       "\n",
       "    .dataframe thead th {\n",
       "        text-align: right;\n",
       "    }\n",
       "</style>\n",
       "<table border=\"1\" class=\"dataframe\">\n",
       "  <thead>\n",
       "    <tr style=\"text-align: right;\">\n",
       "      <th></th>\n",
       "      <th>sum_sq</th>\n",
       "      <th>df</th>\n",
       "      <th>F</th>\n",
       "      <th>PR(&gt;F)</th>\n",
       "    </tr>\n",
       "  </thead>\n",
       "  <tbody>\n",
       "    <tr>\n",
       "      <th>C(Secondary_Flavor)</th>\n",
       "      <td>15.088382</td>\n",
       "      <td>28.0</td>\n",
       "      <td>13.188089</td>\n",
       "      <td>1.929302e-54</td>\n",
       "    </tr>\n",
       "    <tr>\n",
       "      <th>Residual</th>\n",
       "      <td>66.970220</td>\n",
       "      <td>1639.0</td>\n",
       "      <td>NaN</td>\n",
       "      <td>NaN</td>\n",
       "    </tr>\n",
       "  </tbody>\n",
       "</table>\n",
       "</div>\n",
       "    </div>\n",
       "  </div>\n",
       "  "
      ],
      "text/plain": [
       "                        sum_sq      df          F        PR(>F)\n",
       "C(Secondary_Flavor)  15.088382    28.0  13.188089  1.929302e-54\n",
       "Residual             66.970220  1639.0        NaN           NaN"
      ]
     },
     "metadata": {},
     "output_type": "display_data"
    },
    {
     "name": "stdout",
     "output_type": "stream",
     "text": [
      "Shapiro:  0.9548103213310242 2.649492974953278e-22\n",
      "Bartlett:  420.6274502894803 1.23730070350945e-71\n",
      "\n",
      "Color_Group\n"
     ]
    },
    {
     "data": {
      "text/html": [
       "\n",
       "  <div id=\"df-b3ea2010-fdc1-49d7-b22e-6e115f99a217\">\n",
       "    <div class=\"colab-df-container\">\n",
       "      <div>\n",
       "<style scoped>\n",
       "    .dataframe tbody tr th:only-of-type {\n",
       "        vertical-align: middle;\n",
       "    }\n",
       "\n",
       "    .dataframe tbody tr th {\n",
       "        vertical-align: top;\n",
       "    }\n",
       "\n",
       "    .dataframe thead th {\n",
       "        text-align: right;\n",
       "    }\n",
       "</style>\n",
       "<table border=\"1\" class=\"dataframe\">\n",
       "  <thead>\n",
       "    <tr style=\"text-align: right;\">\n",
       "      <th></th>\n",
       "      <th>sum_sq</th>\n",
       "      <th>df</th>\n",
       "      <th>F</th>\n",
       "      <th>PR(&gt;F)</th>\n",
       "    </tr>\n",
       "  </thead>\n",
       "  <tbody>\n",
       "    <tr>\n",
       "      <th>C(Color_Group)</th>\n",
       "      <td>16.079685</td>\n",
       "      <td>11.0</td>\n",
       "      <td>36.689347</td>\n",
       "      <td>6.544980e-71</td>\n",
       "    </tr>\n",
       "    <tr>\n",
       "      <th>Residual</th>\n",
       "      <td>65.978918</td>\n",
       "      <td>1656.0</td>\n",
       "      <td>NaN</td>\n",
       "      <td>NaN</td>\n",
       "    </tr>\n",
       "  </tbody>\n",
       "</table>\n",
       "</div>\n",
       "    </div>\n",
       "  </div>\n",
       "  "
      ],
      "text/plain": [
       "                   sum_sq      df          F        PR(>F)\n",
       "C(Color_Group)  16.079685    11.0  36.689347  6.544980e-71\n",
       "Residual        65.978918  1656.0        NaN           NaN"
      ]
     },
     "metadata": {},
     "output_type": "display_data"
    },
    {
     "name": "stdout",
     "output_type": "stream",
     "text": [
      "Shapiro:  0.969061017036438 1.8926407335144587e-18\n",
      "Bartlett:  136.55525281340468 8.164787784033709e-24\n",
      "\n"
     ]
    }
   ],
   "source": [
    "for col in df.columns[:5]:\n",
    "  print(col)\n",
    "  model = ols('EBITDA_KG ~ C({})'.format(col), data=df).fit()\n",
    "  anova_table = sm.stats.anova_lm(model, typ=2)\n",
    "  display(anova_table)\n",
    "  w, pvalue = stats.shapiro(model.resid)\n",
    "  print(\"Shapiro: \", w, pvalue)\n",
    "  gb = df.groupby(col)['EBITDA_KG']\n",
    "  w, pvalue = stats.bartlett(*[gb.get_group(x) for x in gb.groups])\n",
    "  print(\"Bartlett: \", w, pvalue)\n",
    "  print()"
   ]
  },
  {
   "cell_type": "markdown",
   "metadata": {
    "id": "2bnum6yeqmy4"
   },
   "source": [
    "### 🍒🍒 2.2.3 **Enrichment**: Visual Analysis of Residuals: QQ-Plots\n",
    "\n",
    "This can be distressing and is often why we want visual methods to see what is going on with our data!"
   ]
  },
  {
   "cell_type": "code",
   "execution_count": 56,
   "metadata": {
    "colab": {
     "base_uri": "https://localhost:8080/",
     "height": 544
    },
    "id": "M3BHEncwo01Z",
    "outputId": "5d925454-c1c1-4206-8025-ceb80eaa78dc"
   },
   "outputs": [
    {
     "data": {
      "image/png": "[encoded data removed]",
      "text/plain": [
       "<Figure size 432x288 with 1 Axes>"
      ]
     },
     "metadata": {
      "needs_background": "light"
     },
     "output_type": "display_data"
    },
    {
     "data": {
      "image/png": "[encoded data removed]",
      "text/plain": [
       "<Figure size 432x288 with 1 Axes>"
      ]
     },
     "metadata": {
      "needs_background": "light"
     },
     "output_type": "display_data"
    }
   ],
   "source": [
    "model = ols('EBITDA_KG ~ C(Truffle_Type)', data=df).fit()\n",
    "\n",
    "#create instance of influence\n",
    "influence = model.get_influence()\n",
    "\n",
    "#obtain standardized residuals\n",
    "standardized_residuals = influence.resid_studentized_internal\n",
    "\n",
    "# res.anova_std_residuals are standardized residuals obtained from ANOVA (check above)\n",
    "sm.qqplot(standardized_residuals, line='45')\n",
    "plt.xlabel(\"Theoretical Quantiles\")\n",
    "plt.ylabel(\"Standardized Residuals\")\n",
    "plt.show()\n",
    "\n",
    "# histogram\n",
    "plt.hist(model.resid, bins='auto', histtype='bar', ec='k') \n",
    "plt.xlabel(\"Residuals\")\n",
    "plt.ylabel('Frequency')\n",
    "plt.show()"
   ]
  },
  {
   "cell_type": "markdown",
   "metadata": {
    "id": "b5QthjAmqy0k"
   },
   "source": [
    "We see that a lot of our data is swayed by extremely high and low values, so what can we conclude? \n",
    "\n",
    "> You need the right test statistic for the right job, in this case, we are littered with unequal variance in our groupings so we use the moods median and welch (unequal variance t-test) to make conclusions about our data\n"
   ]
  },
  {
   "cell_type": "markdown",
   "metadata": {
    "id": "1kO7TDSohI_b"
   },
   "source": [
    "# References\n",
    "\n",
    "* [Renesh Bedre ANOVA](https://www.reneshbedre.com/blog/anova.html)\n",
    "* [Minitab ANOVA](https://blog.minitab.com/en/adventures-in-statistics-2/understanding-analysis-of-variance-anova-and-the-f-test)\n",
    "* [Analytics Vidhya ANOVA](https://www.analyticsvidhya.com/blog/2020/06/introduction-anova-statistics-data-science-covid-python/)\n",
    "* [Renesh Bedre Hypothesis Testing](https://www.reneshbedre.com/blog/hypothesis-testing.html)\n",
    "* [Real Statistics Turkey-kramer](https://www.real-statistics.com/one-way-analysis-of-variance-anova/unplanned-comparisons/tukey-kramer-test/)\n",
    "* [Mutual Information](https://www.kaggle.com/ryanholbrook/mutual-information)"
   ]
  }
 ],
 "metadata": {
  "colab": {
   "collapsed_sections": [],
   "include_colab_link": true,
   "name": "S2_Inferential_Statistics.ipynb",
   "provenance": [],
   "toc_visible": true
  },
  "kernelspec": {
   "display_name": "Python 3 (ipykernel)",
   "language": "python",
   "name": "python3"
  },
  "language_info": {
   "codemirror_mode": {
    "name": "ipython",
    "version": 3
   },
   "file_extension": ".py",
   "mimetype": "text/x-python",
   "name": "python",
   "nbconvert_exporter": "python",
   "pygments_lexer": "ipython3",
   "version": "3.9.7"
  }
 },
 "nbformat": 4,
 "nbformat_minor": 4
}
