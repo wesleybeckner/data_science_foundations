{
 "cells": [
  {
   "cell_type": "markdown",
   "metadata": {
    "colab_type": "text",
    "id": "view-in-github"
   },
   "source": [
    "<a href=\"https://colab.research.google.com/github/wesleybeckner/data_science_foundations/blob/main/notebooks/S1_Regression_and_Analysis.ipynb\" target=\"_parent\"><img src=\"https://colab.research.google.com/assets/colab-badge.svg\" alt=\"Open In Colab\"/></a>"
   ]
  },
  {
   "cell_type": "markdown",
   "metadata": {
    "id": "ZhMpsTQGPQIm"
   },
   "source": [
    "# Data Science Foundations Session 1: Regression and Analysis\n",
    "\n",
    "**Instructor**: Wesley Beckner\n",
    "\n",
    "**Contact**: wesleybeckner@gmail.com\n",
    "\n",
    "---\n",
    "\n",
    "<br>\n",
    "\n",
    "In this session we will look at fitting data to a curve using **regression**. We will also look at using regression to make **predictions** for new data points by dividing our data into a training and a testing set. Finally we will examine how much error we make in our fit and then in our predictions by computing the mean squared error.\n",
    "\n",
    "<br>\n",
    "\n",
    "---\n",
    "\n"
   ]
  },
  {
   "cell_type": "markdown",
   "metadata": {
    "id": "jc0SbuFeQBwW"
   },
   "source": [
    "<a name='x.0'></a>\n",
    "\n",
    "## 1.0 Preparing Environment and Importing Data\n",
    "\n",
    "[back to top](#top)"
   ]
  },
  {
   "cell_type": "markdown",
   "metadata": {
    "id": "RGyB72UymbBW"
   },
   "source": [
    "<a name='x.0.1'></a>\n",
    "\n",
    "### 1.0.1 Import Packages\n",
    "\n",
    "[back to top](#top)"
   ]
  },
  {
   "cell_type": "code",
   "execution_count": 52,
   "metadata": {
    "id": "XA8E1GTQQBwW"
   },
   "outputs": [],
   "source": [
    "# Import pandas, pyplot, ipywidgets\n",
    "import pandas as pd  \n",
    "from matplotlib import pyplot as plt\n",
    "from ipywidgets import interact\n",
    "\n",
    "# Import Scikit-Learn library for the regression models\n",
    "import sklearn         \n",
    "from sklearn import linear_model\n",
    "from sklearn.model_selection import train_test_split\n",
    "from sklearn.metrics import mean_squared_error, r2_score\n",
    "\n",
    "# for enrichment topics\n",
    "import seaborn as sns\n",
    "import numpy as np"
   ]
  },
  {
   "cell_type": "markdown",
   "metadata": {
    "id": "X_5nwoFWqKfH"
   },
   "source": [
    "### 1.0.2 Load Dataset\n",
    "\n",
    "[back to top](#top)\n",
    "\n",
    "For our discussion on regression and descriptive statistics today we will use a well known dataset of different wines and their quality ratings"
   ]
  },
  {
   "cell_type": "code",
   "execution_count": 53,
   "metadata": {
    "colab": {
     "base_uri": "https://localhost:8080/"
    },
    "id": "_ZOC3aDmqNRr",
    "outputId": "fb91190e-53a7-46da-a6cb-3965b4b2ce95"
   },
   "outputs": [
    {
     "data": {
      "text/plain": [
       "(6497, 13)"
      ]
     },
     "execution_count": 53,
     "metadata": {},
     "output_type": "execute_result"
    }
   ],
   "source": [
    "df = pd.read_csv(\"https://raw.githubusercontent.com/wesleybeckner/\"\\\n",
    "                 \"ds_for_engineers/main/data/wine_quality/winequalityN.csv\")\n",
    "df.shape"
   ]
  },
  {
   "cell_type": "code",
   "execution_count": 54,
   "metadata": {
    "colab": {
     "base_uri": "https://localhost:8080/",
     "height": 267
    },
    "id": "EE7amHruJvEr",
    "outputId": "64181dc1-fac7-4886-c8fc-f3de570b7fae"
   },
   "outputs": [
    {
     "data": {
      "text/html": [
       "<div>\n",
       "<style scoped>\n",
       "    .dataframe tbody tr th:only-of-type {\n",
       "        vertical-align: middle;\n",
       "    }\n",
       "\n",
       "    .dataframe tbody tr th {\n",
       "        vertical-align: top;\n",
       "    }\n",
       "\n",
       "    .dataframe thead th {\n",
       "        text-align: right;\n",
       "    }\n",
       "</style>\n",
       "<table border=\"1\" class=\"dataframe\">\n",
       "  <thead>\n",
       "    <tr style=\"text-align: right;\">\n",
       "      <th></th>\n",
       "      <th>type</th>\n",
       "      <th>fixed acidity</th>\n",
       "      <th>volatile acidity</th>\n",
       "      <th>citric acid</th>\n",
       "      <th>residual sugar</th>\n",
       "      <th>chlorides</th>\n",
       "      <th>free sulfur dioxide</th>\n",
       "      <th>total sulfur dioxide</th>\n",
       "      <th>density</th>\n",
       "      <th>pH</th>\n",
       "      <th>sulphates</th>\n",
       "      <th>alcohol</th>\n",
       "      <th>quality</th>\n",
       "    </tr>\n",
       "  </thead>\n",
       "  <tbody>\n",
       "    <tr>\n",
       "      <th>0</th>\n",
       "      <td>white</td>\n",
       "      <td>7.0</td>\n",
       "      <td>0.27</td>\n",
       "      <td>0.36</td>\n",
       "      <td>20.7</td>\n",
       "      <td>0.045</td>\n",
       "      <td>45.0</td>\n",
       "      <td>170.0</td>\n",
       "      <td>1.0010</td>\n",
       "      <td>3.00</td>\n",
       "      <td>0.45</td>\n",
       "      <td>8.8</td>\n",
       "      <td>6</td>\n",
       "    </tr>\n",
       "    <tr>\n",
       "      <th>1</th>\n",
       "      <td>white</td>\n",
       "      <td>6.3</td>\n",
       "      <td>0.30</td>\n",
       "      <td>0.34</td>\n",
       "      <td>1.6</td>\n",
       "      <td>0.049</td>\n",
       "      <td>14.0</td>\n",
       "      <td>132.0</td>\n",
       "      <td>0.9940</td>\n",
       "      <td>3.30</td>\n",
       "      <td>0.49</td>\n",
       "      <td>9.5</td>\n",
       "      <td>6</td>\n",
       "    </tr>\n",
       "    <tr>\n",
       "      <th>2</th>\n",
       "      <td>white</td>\n",
       "      <td>8.1</td>\n",
       "      <td>0.28</td>\n",
       "      <td>0.40</td>\n",
       "      <td>6.9</td>\n",
       "      <td>0.050</td>\n",
       "      <td>30.0</td>\n",
       "      <td>97.0</td>\n",
       "      <td>0.9951</td>\n",
       "      <td>3.26</td>\n",
       "      <td>0.44</td>\n",
       "      <td>10.1</td>\n",
       "      <td>6</td>\n",
       "    </tr>\n",
       "    <tr>\n",
       "      <th>3</th>\n",
       "      <td>white</td>\n",
       "      <td>7.2</td>\n",
       "      <td>0.23</td>\n",
       "      <td>0.32</td>\n",
       "      <td>8.5</td>\n",
       "      <td>0.058</td>\n",
       "      <td>47.0</td>\n",
       "      <td>186.0</td>\n",
       "      <td>0.9956</td>\n",
       "      <td>3.19</td>\n",
       "      <td>0.40</td>\n",
       "      <td>9.9</td>\n",
       "      <td>6</td>\n",
       "    </tr>\n",
       "    <tr>\n",
       "      <th>4</th>\n",
       "      <td>white</td>\n",
       "      <td>7.2</td>\n",
       "      <td>0.23</td>\n",
       "      <td>0.32</td>\n",
       "      <td>8.5</td>\n",
       "      <td>0.058</td>\n",
       "      <td>47.0</td>\n",
       "      <td>186.0</td>\n",
       "      <td>0.9956</td>\n",
       "      <td>3.19</td>\n",
       "      <td>0.40</td>\n",
       "      <td>9.9</td>\n",
       "      <td>6</td>\n",
       "    </tr>\n",
       "  </tbody>\n",
       "</table>\n",
       "</div>"
      ],
      "text/plain": [
       "    type  fixed acidity  volatile acidity  citric acid  residual sugar  \\\n",
       "0  white            7.0              0.27         0.36            20.7   \n",
       "1  white            6.3              0.30         0.34             1.6   \n",
       "2  white            8.1              0.28         0.40             6.9   \n",
       "3  white            7.2              0.23         0.32             8.5   \n",
       "4  white            7.2              0.23         0.32             8.5   \n",
       "\n",
       "   chlorides  free sulfur dioxide  total sulfur dioxide  density    pH  \\\n",
       "0      0.045                 45.0                 170.0   1.0010  3.00   \n",
       "1      0.049                 14.0                 132.0   0.9940  3.30   \n",
       "2      0.050                 30.0                  97.0   0.9951  3.26   \n",
       "3      0.058                 47.0                 186.0   0.9956  3.19   \n",
       "4      0.058                 47.0                 186.0   0.9956  3.19   \n",
       "\n",
       "   sulphates  alcohol  quality  \n",
       "0       0.45      8.8        6  \n",
       "1       0.49      9.5        6  \n",
       "2       0.44     10.1        6  \n",
       "3       0.40      9.9        6  \n",
       "4       0.40      9.9        6  "
      ]
     },
     "execution_count": 54,
     "metadata": {},
     "output_type": "execute_result"
    }
   ],
   "source": [
    "df.head()"
   ]
  },
  {
   "cell_type": "markdown",
   "metadata": {
    "id": "cm6isl1eQBwX"
   },
   "source": [
    "## 1.1 What is regression? "
   ]
  },
  {
   "cell_type": "markdown",
   "metadata": {
    "id": "crBj3b4FHemQ"
   },
   "source": [
    "It is the process of finding a relationship between **_dependent_** and **_independent_** variables to find trends in data. This abstract definition means that you have one variable (the dependent variable) which depends on one or more variables (the independent variables). One of the reasons for which we want to regress data is to understand whether there is a trend between two variables. \n",
    "\n",
    "**Housing Prices Example**\n",
    "\n",
    "We can imagine this scenario with housing prices. Envision a **_mixed_** dataset of **_continuous_** and **_discrete_** independent variables. Some features could be continuous, floating point values like location ranking and housing condition. Others could be discrete like the number of rooms or bathrooms. We could take these features and use them to predict a house value. This would be a **_regression_** model.\n",
    "\n",
    "<p align=center>\n",
    "<img src=\"https://raw.githubusercontent.com/wesleybeckner/technology_explorers/main/assets/machine_learning/ML3.png\" width=1000px></img>\n",
    "</p>\n",
    "\n",
    "\n",
    "\n",
    "\n"
   ]
  },
  {
   "cell_type": "markdown",
   "metadata": {
    "id": "qppNLSFvQBwX"
   },
   "source": [
    "## 1.2  Linear regression fitting with scikit-learn"
   ]
  },
  {
   "cell_type": "markdown",
   "metadata": {
    "id": "eAcHDd1vQBwY"
   },
   "source": [
    "#### 🏋️ Exercise 1: rudimentary EDA\n",
    "What does the data look like? Recall how to visualize data in a pandas dataframe \n",
    "\n",
    "<ul>\n",
    "<li> for every column calculate the\n",
    "\n",
    "  * skew: `df.skew()`\n",
    "  * kurtosis: `df.kurtosis()`\n",
    "  * pearsons correlation with the dependent variable: `df.corr()`\n",
    "  * number of missing entries `df.isnull()`\n",
    "\n",
    "and organize this into a new dataframe\n",
    "</li>\n",
    "</ul>\n",
    "\n",
    "_note:_ pearsons is just one type of correlation, another correlation available to us is **_spearman_** which differs from pearsons in that it depends on ranked values rather than their direct quantities, you can read more [here](https://support.minitab.com/en-us/minitab-express/1/help-and-how-to/modeling-statistics/regression/supporting-topics/basics/a-comparison-of-the-pearson-and-spearman-correlation-methods/)"
   ]
  },
  {
   "cell_type": "code",
   "execution_count": 55,
   "metadata": {
    "colab": {
     "base_uri": "https://localhost:8080/"
    },
    "id": "R6rNSiulxGhe",
    "outputId": "0d742435-cdaf-4915-a659-5c3822c32db5"
   },
   "outputs": [
    {
     "data": {
      "text/plain": [
       "type                     0\n",
       "fixed acidity           10\n",
       "volatile acidity         8\n",
       "citric acid              3\n",
       "residual sugar           2\n",
       "chlorides                2\n",
       "free sulfur dioxide      0\n",
       "total sulfur dioxide     0\n",
       "density                  0\n",
       "pH                       9\n",
       "sulphates                4\n",
       "alcohol                  0\n",
       "quality                  0\n",
       "dtype: int64"
      ]
     },
     "execution_count": 55,
     "metadata": {},
     "output_type": "execute_result"
    }
   ],
   "source": [
    "df.isnull().sum()"
   ]
  },
  {
   "cell_type": "code",
   "execution_count": 56,
   "metadata": {
    "id": "0-TMjSfuQBwY"
   },
   "outputs": [],
   "source": [
    "# Cell for Exercise 1\n",
    "\n",
    "# part A \n",
    "# using df.<method> define the following four variables with the results from\n",
    "# skew(), kurtosis(), corr() (while selecting for quality), and isnull()\n",
    "# for isnull() you'll notice the return is a dataframe of booleans. we would\n",
    "# like to simply know the number of null values for each column. change the\n",
    "# return of isnull() using the sum() method along the columns\n",
    "\n",
    "# skew =\n",
    "# kurt =\n",
    "# pear =\n",
    "# null =\n",
    "\n",
    "# part B\n",
    "# on line 13, put these results in a list using square brackets and call \n",
    "# pd.DataFrame on the list to make your new DataFrame! store it under the\n",
    "# variable name dff\n",
    "\n",
    "\n",
    "\n",
    "# part C\n",
    "# take the transpose of this DataFrame using dff.T. reassign dff to this copy\n",
    "\n",
    "\n",
    "\n",
    "# part D\n",
    "# set the column names to 'skew', 'kurtosis', 'pearsons _quality', and \n",
    "# 'null count' using dff.columns\n",
    "\n",
    "\n",
    "\n",
    "# Now return dff to the output to view your hand work\n",
    "# dff # uncomment this line"
   ]
  },
  {
   "cell_type": "markdown",
   "metadata": {
    "id": "WyXKiL0AEhLG"
   },
   "source": [
    "I have gone ahead and repeated this exercise with the red vs white wine types:"
   ]
  },
  {
   "cell_type": "code",
   "execution_count": 57,
   "metadata": {
    "id": "7b-f89XCFFB4"
   },
   "outputs": [
    {
     "name": "stderr",
     "output_type": "stream",
     "text": [
      "/tmp/ipykernel_1419/2387423026.py:5: FutureWarning: Dropping of nuisance columns in DataFrame reductions (with 'numeric_only=None') is deprecated; in a future version this will raise TypeError.  Select only valid columns before calling the reduction.\n",
      "  skew = df.skew()\n",
      "/tmp/ipykernel_1419/2387423026.py:6: FutureWarning: Dropping of nuisance columns in DataFrame reductions (with 'numeric_only=None') is deprecated; in a future version this will raise TypeError.  Select only valid columns before calling the reduction.\n",
      "  kurt = df.kurtosis()\n",
      "/tmp/ipykernel_1419/2387423026.py:9: FutureWarning: Dropping of nuisance columns in DataFrame reductions (with 'numeric_only=None') is deprecated; in a future version this will raise TypeError.  Select only valid columns before calling the reduction.\n",
      "  med = df.median()\n",
      "/tmp/ipykernel_1419/2387423026.py:10: FutureWarning: Dropping of nuisance columns in DataFrame reductions (with 'numeric_only=None') is deprecated; in a future version this will raise TypeError.  Select only valid columns before calling the reduction.\n",
      "  men = df.mean()\n"
     ]
    }
   ],
   "source": [
    "red = df.loc[df['type'] == 'red']\n",
    "wht = df.loc[df['type'] == 'white']\n",
    "\n",
    "def get_summary(df):\n",
    "  skew = df.skew()\n",
    "  kurt = df.kurtosis()\n",
    "  pear = df.corr()['quality']\n",
    "  null = df.isnull().sum()\n",
    "  med = df.median()\n",
    "  men = df.mean()\n",
    "\n",
    "  dff = pd.DataFrame([skew, kurt, pear, null, med, men])\n",
    "  dff = dff.T\n",
    "  dff.columns = ['skew', 'kurtosis', 'pearsons _quality', 'null count', 'median',\n",
    "                'mean']\n",
    "  return dff\n",
    "\n",
    "dffr = get_summary(red)\n",
    "dffw = get_summary(wht)\n",
    "\n",
    "desc = pd.concat([dffr, dffw], keys=['red', 'white'])"
   ]
  },
  {
   "cell_type": "code",
   "execution_count": 58,
   "metadata": {
    "colab": {
     "base_uri": "https://localhost:8080/",
     "height": 865
    },
    "id": "EpBmNL_FEp5y",
    "outputId": "fe59dad3-01f7-41f1-8292-2eea2821a4fc"
   },
   "outputs": [
    {
     "data": {
      "text/html": [
       "<div>\n",
       "<style scoped>\n",
       "    .dataframe tbody tr th:only-of-type {\n",
       "        vertical-align: middle;\n",
       "    }\n",
       "\n",
       "    .dataframe tbody tr th {\n",
       "        vertical-align: top;\n",
       "    }\n",
       "\n",
       "    .dataframe thead th {\n",
       "        text-align: right;\n",
       "    }\n",
       "</style>\n",
       "<table border=\"1\" class=\"dataframe\">\n",
       "  <thead>\n",
       "    <tr style=\"text-align: right;\">\n",
       "      <th></th>\n",
       "      <th></th>\n",
       "      <th>skew</th>\n",
       "      <th>kurtosis</th>\n",
       "      <th>pearsons _quality</th>\n",
       "      <th>null count</th>\n",
       "      <th>median</th>\n",
       "      <th>mean</th>\n",
       "    </tr>\n",
       "  </thead>\n",
       "  <tbody>\n",
       "    <tr>\n",
       "      <th rowspan=\"13\" valign=\"top\">red</th>\n",
       "      <th>fixed acidity</th>\n",
       "      <td>0.982192</td>\n",
       "      <td>1.132624</td>\n",
       "      <td>0.123834</td>\n",
       "      <td>2.0</td>\n",
       "      <td>7.90000</td>\n",
       "      <td>8.322104</td>\n",
       "    </tr>\n",
       "    <tr>\n",
       "      <th>volatile acidity</th>\n",
       "      <td>0.672862</td>\n",
       "      <td>1.226846</td>\n",
       "      <td>-0.390858</td>\n",
       "      <td>1.0</td>\n",
       "      <td>0.52000</td>\n",
       "      <td>0.527738</td>\n",
       "    </tr>\n",
       "    <tr>\n",
       "      <th>citric acid</th>\n",
       "      <td>0.317891</td>\n",
       "      <td>-0.788476</td>\n",
       "      <td>0.226917</td>\n",
       "      <td>1.0</td>\n",
       "      <td>0.26000</td>\n",
       "      <td>0.271145</td>\n",
       "    </tr>\n",
       "    <tr>\n",
       "      <th>residual sugar</th>\n",
       "      <td>4.540655</td>\n",
       "      <td>28.617595</td>\n",
       "      <td>0.013732</td>\n",
       "      <td>0.0</td>\n",
       "      <td>2.20000</td>\n",
       "      <td>2.538806</td>\n",
       "    </tr>\n",
       "    <tr>\n",
       "      <th>chlorides</th>\n",
       "      <td>5.680347</td>\n",
       "      <td>41.715787</td>\n",
       "      <td>-0.128907</td>\n",
       "      <td>0.0</td>\n",
       "      <td>0.07900</td>\n",
       "      <td>0.087467</td>\n",
       "    </tr>\n",
       "    <tr>\n",
       "      <th>free sulfur dioxide</th>\n",
       "      <td>1.250567</td>\n",
       "      <td>2.023562</td>\n",
       "      <td>-0.050656</td>\n",
       "      <td>0.0</td>\n",
       "      <td>14.00000</td>\n",
       "      <td>15.874922</td>\n",
       "    </tr>\n",
       "    <tr>\n",
       "      <th>total sulfur dioxide</th>\n",
       "      <td>1.515531</td>\n",
       "      <td>3.809824</td>\n",
       "      <td>-0.185100</td>\n",
       "      <td>0.0</td>\n",
       "      <td>38.00000</td>\n",
       "      <td>46.467792</td>\n",
       "    </tr>\n",
       "    <tr>\n",
       "      <th>density</th>\n",
       "      <td>0.071288</td>\n",
       "      <td>0.934079</td>\n",
       "      <td>-0.174919</td>\n",
       "      <td>0.0</td>\n",
       "      <td>0.99675</td>\n",
       "      <td>0.996747</td>\n",
       "    </tr>\n",
       "    <tr>\n",
       "      <th>pH</th>\n",
       "      <td>0.194803</td>\n",
       "      <td>0.814690</td>\n",
       "      <td>-0.057094</td>\n",
       "      <td>2.0</td>\n",
       "      <td>3.31000</td>\n",
       "      <td>3.310864</td>\n",
       "    </tr>\n",
       "    <tr>\n",
       "      <th>sulphates</th>\n",
       "      <td>2.429115</td>\n",
       "      <td>11.712632</td>\n",
       "      <td>0.251685</td>\n",
       "      <td>2.0</td>\n",
       "      <td>0.62000</td>\n",
       "      <td>0.658078</td>\n",
       "    </tr>\n",
       "    <tr>\n",
       "      <th>alcohol</th>\n",
       "      <td>0.860829</td>\n",
       "      <td>0.200029</td>\n",
       "      <td>0.476166</td>\n",
       "      <td>0.0</td>\n",
       "      <td>10.20000</td>\n",
       "      <td>10.422983</td>\n",
       "    </tr>\n",
       "    <tr>\n",
       "      <th>quality</th>\n",
       "      <td>0.217802</td>\n",
       "      <td>0.296708</td>\n",
       "      <td>1.000000</td>\n",
       "      <td>0.0</td>\n",
       "      <td>6.00000</td>\n",
       "      <td>5.636023</td>\n",
       "    </tr>\n",
       "    <tr>\n",
       "      <th>type</th>\n",
       "      <td>NaN</td>\n",
       "      <td>NaN</td>\n",
       "      <td>NaN</td>\n",
       "      <td>0.0</td>\n",
       "      <td>NaN</td>\n",
       "      <td>NaN</td>\n",
       "    </tr>\n",
       "    <tr>\n",
       "      <th rowspan=\"13\" valign=\"top\">white</th>\n",
       "      <th>fixed acidity</th>\n",
       "      <td>0.647981</td>\n",
       "      <td>2.176560</td>\n",
       "      <td>-0.114032</td>\n",
       "      <td>8.0</td>\n",
       "      <td>6.80000</td>\n",
       "      <td>6.855532</td>\n",
       "    </tr>\n",
       "    <tr>\n",
       "      <th>volatile acidity</th>\n",
       "      <td>1.578595</td>\n",
       "      <td>5.095526</td>\n",
       "      <td>-0.194976</td>\n",
       "      <td>7.0</td>\n",
       "      <td>0.26000</td>\n",
       "      <td>0.278252</td>\n",
       "    </tr>\n",
       "    <tr>\n",
       "      <th>citric acid</th>\n",
       "      <td>1.284217</td>\n",
       "      <td>6.182036</td>\n",
       "      <td>-0.009194</td>\n",
       "      <td>2.0</td>\n",
       "      <td>0.32000</td>\n",
       "      <td>0.334250</td>\n",
       "    </tr>\n",
       "    <tr>\n",
       "      <th>residual sugar</th>\n",
       "      <td>1.076601</td>\n",
       "      <td>3.469536</td>\n",
       "      <td>-0.097373</td>\n",
       "      <td>2.0</td>\n",
       "      <td>5.20000</td>\n",
       "      <td>6.393250</td>\n",
       "    </tr>\n",
       "    <tr>\n",
       "      <th>chlorides</th>\n",
       "      <td>5.023412</td>\n",
       "      <td>37.560847</td>\n",
       "      <td>-0.210181</td>\n",
       "      <td>2.0</td>\n",
       "      <td>0.04300</td>\n",
       "      <td>0.045778</td>\n",
       "    </tr>\n",
       "    <tr>\n",
       "      <th>free sulfur dioxide</th>\n",
       "      <td>1.406745</td>\n",
       "      <td>11.466342</td>\n",
       "      <td>0.008158</td>\n",
       "      <td>0.0</td>\n",
       "      <td>34.00000</td>\n",
       "      <td>35.308085</td>\n",
       "    </tr>\n",
       "    <tr>\n",
       "      <th>total sulfur dioxide</th>\n",
       "      <td>0.390710</td>\n",
       "      <td>0.571853</td>\n",
       "      <td>-0.174737</td>\n",
       "      <td>0.0</td>\n",
       "      <td>134.00000</td>\n",
       "      <td>138.360657</td>\n",
       "    </tr>\n",
       "    <tr>\n",
       "      <th>density</th>\n",
       "      <td>0.977773</td>\n",
       "      <td>9.793807</td>\n",
       "      <td>-0.307123</td>\n",
       "      <td>0.0</td>\n",
       "      <td>0.99374</td>\n",
       "      <td>0.994027</td>\n",
       "    </tr>\n",
       "    <tr>\n",
       "      <th>pH</th>\n",
       "      <td>0.458402</td>\n",
       "      <td>0.532552</td>\n",
       "      <td>0.098858</td>\n",
       "      <td>7.0</td>\n",
       "      <td>3.18000</td>\n",
       "      <td>3.188203</td>\n",
       "    </tr>\n",
       "    <tr>\n",
       "      <th>sulphates</th>\n",
       "      <td>0.977361</td>\n",
       "      <td>1.589847</td>\n",
       "      <td>0.053690</td>\n",
       "      <td>2.0</td>\n",
       "      <td>0.47000</td>\n",
       "      <td>0.489835</td>\n",
       "    </tr>\n",
       "    <tr>\n",
       "      <th>alcohol</th>\n",
       "      <td>0.487342</td>\n",
       "      <td>-0.698425</td>\n",
       "      <td>0.435575</td>\n",
       "      <td>0.0</td>\n",
       "      <td>10.40000</td>\n",
       "      <td>10.514267</td>\n",
       "    </tr>\n",
       "    <tr>\n",
       "      <th>quality</th>\n",
       "      <td>0.155796</td>\n",
       "      <td>0.216526</td>\n",
       "      <td>1.000000</td>\n",
       "      <td>0.0</td>\n",
       "      <td>6.00000</td>\n",
       "      <td>5.877909</td>\n",
       "    </tr>\n",
       "    <tr>\n",
       "      <th>type</th>\n",
       "      <td>NaN</td>\n",
       "      <td>NaN</td>\n",
       "      <td>NaN</td>\n",
       "      <td>0.0</td>\n",
       "      <td>NaN</td>\n",
       "      <td>NaN</td>\n",
       "    </tr>\n",
       "  </tbody>\n",
       "</table>\n",
       "</div>"
      ],
      "text/plain": [
       "                                skew   kurtosis  pearsons _quality  \\\n",
       "red   fixed acidity         0.982192   1.132624           0.123834   \n",
       "      volatile acidity      0.672862   1.226846          -0.390858   \n",
       "      citric acid           0.317891  -0.788476           0.226917   \n",
       "      residual sugar        4.540655  28.617595           0.013732   \n",
       "      chlorides             5.680347  41.715787          -0.128907   \n",
       "      free sulfur dioxide   1.250567   2.023562          -0.050656   \n",
       "      total sulfur dioxide  1.515531   3.809824          -0.185100   \n",
       "      density               0.071288   0.934079          -0.174919   \n",
       "      pH                    0.194803   0.814690          -0.057094   \n",
       "      sulphates             2.429115  11.712632           0.251685   \n",
       "      alcohol               0.860829   0.200029           0.476166   \n",
       "      quality               0.217802   0.296708           1.000000   \n",
       "      type                       NaN        NaN                NaN   \n",
       "white fixed acidity         0.647981   2.176560          -0.114032   \n",
       "      volatile acidity      1.578595   5.095526          -0.194976   \n",
       "      citric acid           1.284217   6.182036          -0.009194   \n",
       "      residual sugar        1.076601   3.469536          -0.097373   \n",
       "      chlorides             5.023412  37.560847          -0.210181   \n",
       "      free sulfur dioxide   1.406745  11.466342           0.008158   \n",
       "      total sulfur dioxide  0.390710   0.571853          -0.174737   \n",
       "      density               0.977773   9.793807          -0.307123   \n",
       "      pH                    0.458402   0.532552           0.098858   \n",
       "      sulphates             0.977361   1.589847           0.053690   \n",
       "      alcohol               0.487342  -0.698425           0.435575   \n",
       "      quality               0.155796   0.216526           1.000000   \n",
       "      type                       NaN        NaN                NaN   \n",
       "\n",
       "                            null count     median        mean  \n",
       "red   fixed acidity                2.0    7.90000    8.322104  \n",
       "      volatile acidity             1.0    0.52000    0.527738  \n",
       "      citric acid                  1.0    0.26000    0.271145  \n",
       "      residual sugar               0.0    2.20000    2.538806  \n",
       "      chlorides                    0.0    0.07900    0.087467  \n",
       "      free sulfur dioxide          0.0   14.00000   15.874922  \n",
       "      total sulfur dioxide         0.0   38.00000   46.467792  \n",
       "      density                      0.0    0.99675    0.996747  \n",
       "      pH                           2.0    3.31000    3.310864  \n",
       "      sulphates                    2.0    0.62000    0.658078  \n",
       "      alcohol                      0.0   10.20000   10.422983  \n",
       "      quality                      0.0    6.00000    5.636023  \n",
       "      type                         0.0        NaN         NaN  \n",
       "white fixed acidity                8.0    6.80000    6.855532  \n",
       "      volatile acidity             7.0    0.26000    0.278252  \n",
       "      citric acid                  2.0    0.32000    0.334250  \n",
       "      residual sugar               2.0    5.20000    6.393250  \n",
       "      chlorides                    2.0    0.04300    0.045778  \n",
       "      free sulfur dioxide          0.0   34.00000   35.308085  \n",
       "      total sulfur dioxide         0.0  134.00000  138.360657  \n",
       "      density                      0.0    0.99374    0.994027  \n",
       "      pH                           7.0    3.18000    3.188203  \n",
       "      sulphates                    2.0    0.47000    0.489835  \n",
       "      alcohol                      0.0   10.40000   10.514267  \n",
       "      quality                      0.0    6.00000    5.877909  \n",
       "      type                         0.0        NaN         NaN  "
      ]
     },
     "execution_count": 58,
     "metadata": {},
     "output_type": "execute_result"
    }
   ],
   "source": [
    "desc"
   ]
  },
  {
   "cell_type": "code",
   "execution_count": 59,
   "metadata": {
    "id": "K9DDzhpjF-xu"
   },
   "outputs": [],
   "source": [
    "def my_fig(metric=desc.columns):\n",
    "  fig, ax = plt.subplots(1, 1, figsize=(10,10))\n",
    "  pd.DataFrame(desc[metric]).unstack()[metric].T.plot(kind='barh', ax=ax)"
   ]
  },
  {
   "cell_type": "code",
   "execution_count": 60,
   "metadata": {
    "id": "-POOBsVeutdM"
   },
   "outputs": [],
   "source": [
    "# interact(my_fig)"
   ]
  },
  {
   "cell_type": "markdown",
   "metadata": {
    "id": "IdvF2jjyGRlh"
   },
   "source": [
    "#### 🙋 Question 1: Discussion Around EDA Plot\n",
    "\n",
    "What do we think of this plot?\n",
    "\n",
    "> `metric = mean`, the cholrides values <br>\n",
    "`metric = kurtosis`, residual sugar <br>\n",
    "`metric = pearsons _quality`, _magnitudes_ and _directions_ <br>\n",
    "How to improve the plot, what other plots would we like to see?"
   ]
  },
  {
   "cell_type": "markdown",
   "metadata": {
    "id": "__9b0d6wdvtj"
   },
   "source": [
    "For instance, what if we were really curious about the high kurtosis for chlorides content? What more would we like to glean about the distribution of chloride content?"
   ]
  },
  {
   "cell_type": "code",
   "execution_count": 61,
   "metadata": {
    "colab": {
     "base_uri": "https://localhost:8080/"
    },
    "id": "1dA1h7CAwHvv",
    "outputId": "64072720-948d-497b-c438-37e31a22ceb2"
   },
   "outputs": [
    {
     "data": {
      "text/plain": [
       "count    6495.000000\n",
       "mean        0.056042\n",
       "std         0.035036\n",
       "min         0.009000\n",
       "25%         0.038000\n",
       "50%         0.047000\n",
       "75%         0.065000\n",
       "max         0.611000\n",
       "Name: chlorides, dtype: float64"
      ]
     },
     "execution_count": 61,
     "metadata": {},
     "output_type": "execute_result"
    }
   ],
   "source": [
    "# we can use df.describe() to take a look at the quantile values and min/max\n",
    "df['chlorides'].describe()"
   ]
  },
  {
   "cell_type": "code",
   "execution_count": 62,
   "metadata": {
    "colab": {
     "base_uri": "https://localhost:8080/",
     "height": 609
    },
    "id": "BlIRssBtFq_9",
    "outputId": "c6547c14-95cc-4139-f39e-23a805ddbf0b"
   },
   "outputs": [
    {
     "data": {
      "text/plain": [
       "(0.0, 0.61)"
      ]
     },
     "execution_count": 62,
     "metadata": {},
     "output_type": "execute_result"
    },
    {
     "data": {
      "image/png": "[encoded data removed]",
      "text/plain": [
       "<Figure size 720x720 with 1 Axes>"
      ]
     },
     "metadata": {
      "needs_background": "light"
     },
     "output_type": "display_data"
    }
   ],
   "source": [
    "# and see how these values appear in a KDE\n",
    "fig, ax = plt.subplots(1,1,figsize=(10,10))\n",
    "df['chlorides'].plot(kind='kde',ax=ax)\n",
    "ax.set_xlim(0,.61)"
   ]
  },
  {
   "cell_type": "code",
   "execution_count": 63,
   "metadata": {
    "colab": {
     "base_uri": "https://localhost:8080/"
    },
    "id": "_rEEPUxpF6go",
    "outputId": "24d054ab-7090-47c8-f850-caf07e038b04"
   },
   "outputs": [
    {
     "data": {
      "text/plain": [
       "5156    0.611\n",
       "5049    0.610\n",
       "5004    0.467\n",
       "4979    0.464\n",
       "5590    0.422\n",
       "6268    0.415\n",
       "6270    0.415\n",
       "5652    0.415\n",
       "6217    0.414\n",
       "5949    0.414\n",
       "5349    0.413\n",
       "6158    0.403\n",
       "4981    0.401\n",
       "5628    0.387\n",
       "6063    0.369\n",
       "4915    0.368\n",
       "5067    0.360\n",
       "5179    0.358\n",
       "484     0.346\n",
       "5189    0.343\n",
       "4917    0.341\n",
       "5124    0.337\n",
       "4940    0.332\n",
       "1217    0.301\n",
       "687     0.290\n",
       "4473    0.271\n",
       "5079    0.270\n",
       "6272    0.267\n",
       "5138    0.263\n",
       "1865    0.255\n",
       "5466    0.250\n",
       "1034    0.244\n",
       "5674    0.243\n",
       "5675    0.241\n",
       "683     0.240\n",
       "1638    0.239\n",
       "5045    0.236\n",
       "6456    0.235\n",
       "6468    0.230\n",
       "5465    0.226\n",
       "5464    0.226\n",
       "5564    0.222\n",
       "2186    0.217\n",
       "5996    0.216\n",
       "6333    0.214\n",
       "5206    0.214\n",
       "6332    0.214\n",
       "5205    0.213\n",
       "4497    0.212\n",
       "1835    0.211\n",
       "Name: chlorides, dtype: float64"
      ]
     },
     "execution_count": 63,
     "metadata": {},
     "output_type": "execute_result"
    }
   ],
   "source": [
    "# lastly we may want to look at the raw values themselves. We can sort them \n",
    "# too view outliers\n",
    "df['chlorides'].sort_values(ascending=False)[:50]"
   ]
  },
  {
   "cell_type": "markdown",
   "metadata": {
    "id": "9vavdktFQBwZ"
   },
   "source": [
    "### 1.2.2 Visualizing the data set - motivating regression analysis\n",
    "\n",
    "In order to demonstrate simple linear regression with this dataset we will look at two particular features: `fixed acidity` and `density`."
   ]
  },
  {
   "cell_type": "markdown",
   "metadata": {
    "id": "wy3XoXStQBwZ"
   },
   "source": [
    "We can create a scatter plot of `fixed acidity` vs `density` for the red wine in the dataset using `df.plot()` and see that there appears to be a general trend between the two features:"
   ]
  },
  {
   "cell_type": "code",
   "execution_count": 64,
   "metadata": {
    "colab": {
     "base_uri": "https://localhost:8080/",
     "height": 351
    },
    "id": "DTkwPrlLA2aX",
    "outputId": "ddac1cea-d895-4785-d53a-5bf55f9b3b66"
   },
   "outputs": [
    {
     "data": {
      "text/plain": [
       "<AxesSubplot:xlabel='fixed acidity'>"
      ]
     },
     "execution_count": 64,
     "metadata": {},
     "output_type": "execute_result"
    },
    {
     "data": {
      "image/png": "[encoded data removed]",
      "text/plain": [
       "<Figure size 360x360 with 1 Axes>"
      ]
     },
     "metadata": {
      "needs_background": "light"
     },
     "output_type": "display_data"
    }
   ],
   "source": [
    "fig, ax = plt.subplots(1, 1, figsize=(5,5))\n",
    "df.loc[df['type'] == 'red'].plot(x='fixed acidity', y='density', ax=ax, \n",
    "                                 ls='', marker='.')"
   ]
  },
  {
   "cell_type": "markdown",
   "metadata": {
    "id": "dXwu4aBieYFB"
   },
   "source": [
    "Now the question is: How do we quantify this trend?"
   ]
  },
  {
   "cell_type": "markdown",
   "metadata": {
    "id": "Gp_Ssxc1QBwZ"
   },
   "source": [
    "### 1.2.3 Estimating the regression coefficients\n",
    "\n",
    "It looks like density increases with fixed acidity following a line, maybe something like\n",
    "\n",
    "$$y(x)= m \\cdot x + b  \\;\\;\\;\\;\\;\\;\\;\\; \\sf{eq. 1}$$ \n",
    "\n",
    "with \\\\( y=\\sf density \\\\), \\\\(x=\\sf fixed \\space acidity\\\\), and \\\\(m\\\\) the slope and \\\\(b\\\\) the intercept. \n",
    "\n",
    "To solve the problem, we need to find the values of \\\\(b\\\\) and \\\\(m\\\\) in equation 1 to best fit the data. This is called **linear regression**.\n",
    "\n",
    "In linear regression our goal is to minimize the error between computed values of positions \\\\(y^{\\sf calc}(x_i)\\equiv y^{\\sf calc}_i\\\\) and known values \\\\(y^{\\sf exact}(x_i)\\equiv y^{\\sf exact}_i\\\\), i.e. find \\\\(b\\\\) and \\\\(m\\\\) which lead to lowest value of\n",
    "\n",
    "$$\\epsilon (m,b) =SS_{\\sf res}=\\sum_{i=1}^{N}\\left(y^{\\sf exact}_i - y^{\\sf calc}_i\\right)^2 = \\sum_{i=1}^{N}\\left(y^{\\sf exact}_i - m\\cdot x_i - b \\right)^2\\;\\;\\;\\;\\;\\;\\;\\;\\;\\;\\;\\sf{eq. 2}$$\n",
    "\n",
    "Otherwise known as the **residual sum of squares**\n",
    "\n",
    "To find out more see e.g. https://en.wikipedia.org/wiki/Simple_linear_regression\n"
   ]
  },
  {
   "cell_type": "markdown",
   "metadata": {
    "id": "18lLAfaHQBwZ"
   },
   "source": [
    "#### 🙋 Question 2: linear regression loss function\n",
    "> Do we always want *m* and *b* to be large positive numbers so as to minimize eq. 2? "
   ]
  },
  {
   "cell_type": "markdown",
   "metadata": {
    "id": "cxPnpy8jQBwZ"
   },
   "source": [
    "\n",
    "Luckily [scikit-learn](https://scikit-learn.org/stable/) contains many functions related to regression including [linear regression](https://scikit-learn.org/stable/modules/linear_model.html). \n",
    "\n",
    "The function we will use is called <code> LinearRegression() </code>. \n",
    "\n",
    "```\n",
    "# Create linear regression object\n",
    "model = linear_model.LinearRegression()\n",
    "\n",
    "# Use model to fit to the data, the x values are densities and the y values are fixed acidity\n",
    "# Note that we need to reshape the vectors to be of the shape x - (n_samples, n_features) and y (n_samples, n_targets)\n",
    "x = red['density'].values.reshape(-1, 1)\n",
    "y = red['fixed acidity'].values.reshape(-1, 1)\n",
    "```"
   ]
  },
  {
   "cell_type": "code",
   "execution_count": 65,
   "metadata": {
    "id": "AUWdaOgMQBwZ"
   },
   "outputs": [],
   "source": [
    "# Create linear regression object\n",
    "model = linear_model.LinearRegression()\n",
    "\n",
    "# Use model to fit to the data, the x values are densities and the y values are fixed acidity\n",
    "# Note that we need to reshape the vectors to be of the shape x - (n_samples, n_features) and y (n_samples, n_targets)\n",
    "x = red['density'].values.reshape(-1, 1)\n",
    "y = red['fixed acidity'].values.reshape(-1, 1)"
   ]
  },
  {
   "cell_type": "markdown",
   "metadata": {
    "id": "M7dszV5EA-hL"
   },
   "source": [
    "```\n",
    "print(red['density'].values.shape, red['fixed acidity'].values.shape)\n",
    "print(x.shape, y.shape)\n",
    "```"
   ]
  },
  {
   "cell_type": "code",
   "execution_count": 66,
   "metadata": {
    "colab": {
     "base_uri": "https://localhost:8080/"
    },
    "id": "d25DN-kRAzw8",
    "outputId": "56a6fd28-9e83-45c3-c3ad-7ee1bb46cb7b"
   },
   "outputs": [
    {
     "name": "stdout",
     "output_type": "stream",
     "text": [
      "(1599,) (1599,)\n",
      "(1599, 1) (1599, 1)\n"
     ]
    }
   ],
   "source": [
    "print(red['density'].values.shape, red['fixed acidity'].values.shape)\n",
    "print(x.shape, y.shape)"
   ]
  },
  {
   "cell_type": "markdown",
   "metadata": {
    "id": "wD7EekCNBDiB"
   },
   "source": [
    "```\n",
    "# Fit to the data\n",
    "model.fit(x, y)\n",
    "\n",
    "# Extract the values of interest\n",
    "m = model.coef_[0][0]\n",
    "b = model.intercept_[0]\n",
    "\n",
    "# Print the slope m and intercept b\n",
    "print('Scikit learn - Slope: ', m , 'Intercept: ', b )\n",
    "```"
   ]
  },
  {
   "cell_type": "markdown",
   "metadata": {
    "id": "_Nn5Qu2ksoyQ"
   },
   "source": [
    "What happens when we try to fit the data as is?"
   ]
  },
  {
   "cell_type": "code",
   "execution_count": 67,
   "metadata": {
    "id": "EGmVnF5tsmkl"
   },
   "outputs": [],
   "source": [
    "# Fit to the data\n",
    "# model.fit(x, y)"
   ]
  },
  {
   "cell_type": "markdown",
   "metadata": {
    "id": "W_mENW9GtVG5"
   },
   "source": [
    "#### 🏋️ Exercise 2: drop Null Values (and practice pandas operations)\n",
    "\n",
    "Let's look back at our dataset description dataframe above, what do we notice, what contains null values?\n",
    "\n",
    "There are several strategies for dealing with null values. For now let's take the simplest case, and drop rows in our dataframe that contain null"
   ]
  },
  {
   "cell_type": "code",
   "execution_count": 68,
   "metadata": {
    "id": "DIF33-m5tT7u"
   },
   "outputs": [],
   "source": [
    "# Cell for Exercise 2\n",
    "# For this templated exercise you are going to complete everything in one line \n",
    "# of code, but we are going to break it up into steps. So for each part (A, B,\n",
    "# etc.) paste your answer from the previous part to begin (your opertaions will\n",
    "# read from left to right)\n",
    "\n",
    "# step A\n",
    "# select the 'density' and 'fixed acidity' columns of red. make sure the return\n",
    "# is a dataframe\n",
    "\n",
    "# step B\n",
    "# now use the dropna() method on axis 0 (the rows) to drop any null values \n",
    "\n",
    "# step B\n",
    "# select column 'density'\n",
    "\n",
    "# step C\n",
    "# select the values\n",
    "\n",
    "# step D\n",
    "# reshape the result with an empty second dimension using .reshape() and store\n",
    "# the result under variable x\n",
    "\n",
    "# repeat the same process with 'fixed acidity' and variable y"
   ]
  },
  {
   "cell_type": "markdown",
   "metadata": {
    "id": "1bRDIqBM9Fvk"
   },
   "source": [
    "Now that we have our x and y arrays we can fit using ScikitLearn"
   ]
  },
  {
   "cell_type": "code",
   "execution_count": 69,
   "metadata": {
    "id": "xBrZ4w9nM4Co"
   },
   "outputs": [],
   "source": [
    "x = red[['density', 'fixed acidity']].dropna(axis=0)['density'].values.reshape(-1,1)\n",
    "y = red[['density', 'fixed acidity']].dropna(axis=0)['fixed acidity'].values.reshape(-1,1)"
   ]
  },
  {
   "cell_type": "markdown",
   "metadata": {},
   "source": [
    "#### 🙋 Question 3: why do we drop null values across both columns?\n",
    "\n",
    "Notice in the above cell how we selected both `density` and `fixed acidity` before calling `dropna`? Why did we do that? Why didn't we just select `density` in the `x` variable case and `fixed acidity` in the `y` variable case?"
   ]
  },
  {
   "cell_type": "code",
   "execution_count": 70,
   "metadata": {
    "colab": {
     "base_uri": "https://localhost:8080/"
    },
    "id": "eFH0SXRkAnDB",
    "outputId": "50535dc0-f51b-4e41-89f2-617811d0acd5"
   },
   "outputs": [
    {
     "name": "stdout",
     "output_type": "stream",
     "text": [
      "Scikit learn - Slope:  616.01314280661 Intercept:  -605.6880086750523\n"
     ]
    }
   ],
   "source": [
    "# Fit to the data\n",
    "model.fit(x, y)\n",
    "\n",
    "# Extract the values of interest\n",
    "m = model.coef_[0][0]\n",
    "b = model.intercept_[0]\n",
    "\n",
    "# Print the slope m and intercept b\n",
    "print('Scikit learn - Slope: ', m , 'Intercept: ', b )"
   ]
  },
  {
   "cell_type": "markdown",
   "metadata": {
    "id": "4uFUK6QfQBwa"
   },
   "source": [
    "#### 🏋️ Exercise 3: calculating y_pred\n",
    "Estimate the values of \\\\(y\\\\) by using your fitted parameters. Hint: Use your <code>model.coef_</code> and <code>model.intercept_</code> parameters to estimate y_pred following equation 1\n"
   ]
  },
  {
   "cell_type": "code",
   "execution_count": 71,
   "metadata": {
    "id": "VFVrL1VQQBwa"
   },
   "outputs": [],
   "source": [
    "# define y_pred in terms of m, x, and b\n",
    "# y_pred = \n",
    "\n",
    "# uncomment the following lines!\n",
    "# fig, ax = plt.subplots(1,1, figsize=(10,10))\n",
    "# ax.plot(x, y_pred, ls='', marker='*')\n",
    "# ax.plot(x, y, ls='', marker='.')"
   ]
  },
  {
   "cell_type": "markdown",
   "metadata": {
    "id": "pzeGpYvs9UlK"
   },
   "source": [
    "We can also return predictions directly with the model object using the predict() method\n",
    "> note: it is great to get in the habit of utilizing model outputs this way, as the API will be similar across all scikit-learn models (and sometimes models in other libraries as well!)"
   ]
  },
  {
   "cell_type": "code",
   "execution_count": 72,
   "metadata": {
    "colab": {
     "base_uri": "https://localhost:8080/",
     "height": 609
    },
    "id": "7DFlw26PQBwa",
    "outputId": "2278d173-5efd-44a6-8666-0c032754137a"
   },
   "outputs": [
    {
     "data": {
      "text/plain": [
       "[<matplotlib.lines.Line2D at 0x7fdd881875e0>]"
      ]
     },
     "execution_count": 72,
     "metadata": {},
     "output_type": "execute_result"
    },
    {
     "data": {
      "image/png": "[encoded data removed]",
      "text/plain": [
       "<Figure size 720x720 with 1 Axes>"
      ]
     },
     "metadata": {
      "needs_background": "light"
     },
     "output_type": "display_data"
    }
   ],
   "source": [
    "# Another way to get this is using the model.predict function\n",
    "y_pred = model.predict(x)\n",
    "fig, ax = plt.subplots(1,1, figsize=(10,10))\n",
    "ax.plot(x, y_pred, ls='', marker='*')\n",
    "ax.plot(x, y, ls='', marker='.')"
   ]
  },
  {
   "cell_type": "markdown",
   "metadata": {
    "id": "FSsBFNvcQBwb"
   },
   "source": [
    "## 1.3 Error and topics of model fitting (assessing model accuracy)"
   ]
  },
  {
   "cell_type": "markdown",
   "metadata": {
    "id": "WZsrmzofNDj9"
   },
   "source": [
    "### 1.3.1 Measuring the quality of fit"
   ]
  },
  {
   "cell_type": "markdown",
   "metadata": {
    "id": "KKfamij9QBwb"
   },
   "source": [
    "#### 1.3.1.1 Mean Squared Error\n",
    "\n",
    "The plot in Section 1.2.3 looks good, but numerically what is our error? What is the mean value of $\\epsilon$, i.e. the **Mean Squared Error (MSE)**?\n",
    "\n",
    "$${\\sf MSE}=\\epsilon_{\\sf ave} = \\frac{\\sum_{i=1}^{N_{\\sf times}}\\left(y^{\\sf exact}_i - m\\cdot t_i - b \\right)^2}{N_{\\sf times}}\\;\\;\\;\\;\\;\\sf eq. 3$$\n",
    "\n",
    "```\n",
    "# The mean squared error\n",
    "print('Mean squared error: %.2f' % mean_squared_error(y, y_pred))\n",
    "```"
   ]
  },
  {
   "cell_type": "code",
   "execution_count": 73,
   "metadata": {
    "colab": {
     "base_uri": "https://localhost:8080/"
    },
    "id": "BDCUEKNQQBwb",
    "outputId": "ac0e130f-1e08-41ff-f4a4-281e779c0873"
   },
   "outputs": [
    {
     "name": "stdout",
     "output_type": "stream",
     "text": [
      "Mean squared error: 1.68\n"
     ]
    }
   ],
   "source": [
    "# The mean squared error\n",
    "print('Mean squared error: %.2f' % mean_squared_error(y, y_pred))"
   ]
  },
  {
   "cell_type": "markdown",
   "metadata": {
    "id": "5m88vMlkQBwb"
   },
   "source": [
    "#### 1.3.1.2 R-square\n",
    "\n",
    "Another way to measure error is the regression score, \\\\(R^2\\\\). \\\\(R^2\\\\) is generally defined as the ratio of the total sum of squares \\\\(SS_{\\sf tot}\\\\) to the residual sum of squares \\\\(SS_{\\sf res}\\\\):\n",
    "\n",
    "$$SS_{\\sf tot}=\\sum_{i=1}^{N} \\left(y^{\\sf exact}_i-\\bar{y}\\right)^2\\;\\;\\;\\;\\; \\sf eq. 4$$\n",
    "$$SS_{\\sf res}=\\sum_{i=1}^{N} \\left(y^{\\sf exact}_i - y^{\\sf calc}_i\\right)^2\\;\\;\\;\\;\\; \\sf eq. 5$$\n",
    "$$R^2 = 1 - {SS_{\\sf res}\\over SS_{\\sf tot}} \\;\\;\\;\\;\\;\\; \\sf eq. 6$$\n",
    "\n",
    "In eq. 4, \\\\(\\bar{y}=\\sum_i y^{\\sf exact}_i/N\\\\) is the average value of y for \\\\(N\\\\) points. The best value of \\\\(R^2\\\\) is 1 but it can also take a negative value if the error is large.\n",
    "\n",
    "See all the different regression metrics [here](https://scikit-learn.org/stable/modules/model_evaluation.html)."
   ]
  },
  {
   "cell_type": "markdown",
   "metadata": {
    "id": "L5qg7H3_QBwb"
   },
   "source": [
    "#### 🙋 Question 4: lets understand \\\\(R^2\\\\)\n",
    "> Do we need a large value of \\\\(SS_{\\sf tot}\\\\) to minimize \\\\(R^2\\\\) - is this something which we have the power to control?"
   ]
  },
  {
   "cell_type": "markdown",
   "metadata": {
    "id": "7maWcZuQ_CVD"
   },
   "source": [
    "```\n",
    "# Print the coefficient of determination - 1 is perfect prediction\n",
    "print('Coefficient of determination: %.2f' % r2_score(y, y_pred))\n",
    "```"
   ]
  },
  {
   "cell_type": "code",
   "execution_count": 74,
   "metadata": {
    "colab": {
     "base_uri": "https://localhost:8080/"
    },
    "id": "Ejt0nyHJQBwb",
    "outputId": "004c08fc-71bf-46e6-e63a-de1f7a1a5c02"
   },
   "outputs": [
    {
     "name": "stdout",
     "output_type": "stream",
     "text": [
      "Coefficient of determination: 0.45\n"
     ]
    }
   ],
   "source": [
    "# Print the coefficient of determination - 1 is perfect prediction\n",
    "print('Coefficient of determination: %.2f' % r2_score(y, y_pred))"
   ]
  },
  {
   "cell_type": "markdown",
   "metadata": {
    "id": "5Fg5RUDzQMd-"
   },
   "source": [
    "### 1.3.2 Corollaries with classification models\n",
    "\n",
    "For classification tasks, we typically assess accuracy vs MSE or R-square, since we are dealing with categorical rather than numerical predictions.\n",
    "\n",
    "What is accuracy? It is defined as the ratio of True assignments to all assignments. For a binary positive/negative classification task this can be written as the following:\n",
    "\n",
    "$$ Acc = \\frac{T_p + T_n}{F_p + F_n + T_p + T_n} $$\n",
    "\n",
    "Where \\\\(T\\\\) is True, \\\\(F\\\\) is false, \\\\(p\\\\) is positive, \\\\(n\\\\) is negative\n",
    "\n",
    "Just as a quick example, we can perform this type of task on our wine dataset by predicting on quality, which is a discrete 3-9 quality score:"
   ]
  },
  {
   "cell_type": "code",
   "execution_count": 75,
   "metadata": {
    "id": "YZgcBBP4Q2GC"
   },
   "outputs": [],
   "source": [
    "y_train = df['type'].values.reshape(-1,1)\n",
    "x_train = df['quality'].values.reshape(-1,1)"
   ]
  },
  {
   "cell_type": "code",
   "execution_count": 76,
   "metadata": {
    "colab": {
     "base_uri": "https://localhost:8080/"
    },
    "id": "RLLi0PAnQQ7M",
    "outputId": "22717ac0-0bfa-4340-b57a-761ee0b4eda5"
   },
   "outputs": [
    {
     "name": "stderr",
     "output_type": "stream",
     "text": [
      "/home/wbeckner/anaconda3/envs/py39/lib/python3.9/site-packages/sklearn/utils/validation.py:993: DataConversionWarning: A column-vector y was passed when a 1d array was expected. Please change the shape of y to (n_samples, ), for example using ravel().\n",
      "  y = column_or_1d(y, warn=True)\n"
     ]
    },
    {
     "data": {
      "text/plain": [
       "LogisticRegression()"
      ]
     },
     "execution_count": 76,
     "metadata": {},
     "output_type": "execute_result"
    }
   ],
   "source": [
    "# train a logistic regression model on the training set\n",
    "from sklearn.linear_model import LogisticRegression\n",
    "\n",
    "# instantiate model\n",
    "logreg = LogisticRegression()\n",
    "\n",
    "# fit model\n",
    "logreg.fit(x_train, y_train)"
   ]
  },
  {
   "cell_type": "code",
   "execution_count": 77,
   "metadata": {
    "id": "2yM5sI5_RIJc"
   },
   "outputs": [],
   "source": [
    "# make class predictions for the testing set\n",
    "y_pred_class = logreg.predict(x_train)"
   ]
  },
  {
   "cell_type": "code",
   "execution_count": 78,
   "metadata": {
    "colab": {
     "base_uri": "https://localhost:8080/"
    },
    "id": "qB2CPVCvRLqF",
    "outputId": "74dc11f8-dab8-4eaa-a0fa-eec840493857"
   },
   "outputs": [
    {
     "name": "stdout",
     "output_type": "stream",
     "text": [
      "0.7538864091118977\n"
     ]
    }
   ],
   "source": [
    "# calculate accuracy\n",
    "from sklearn import metrics\n",
    "print(metrics.accuracy_score(y_train, y_pred_class))"
   ]
  },
  {
   "cell_type": "markdown",
   "metadata": {
    "id": "bbXhulIfQBwc"
   },
   "source": [
    "### 1.3.3 Beyond a single input feature\n",
    "\n",
    "(_also: quick appreciative beat for folding in domain area expertise into our models and features_)"
   ]
  },
  {
   "cell_type": "markdown",
   "metadata": {
    "id": "tizRPJ_GQBwc"
   },
   "source": [
    "The **acidity** of the wine (the dependent variable v) could depend on:\n",
    "\n",
    "* potassium from the soil (increases alkalinity)\n",
    "* unripe grapes (increases acidity)\n",
    "* grapes grown in colder climates or reduced sunshine create less sugar (increases acidity)\n",
    "* preprocessing such as adding tartaric acid to the grape juice before fermentation (increases acidity)\n",
    "* malolactic fermentation (reduces acidity)\n",
    "* \\+ others\n",
    "\n",
    "So in our lab today we will look at folding in additional variables in our dataset into the model\n",
    "<hr style=\"border:1px solid grey\"> </hr>\n"
   ]
  },
  {
   "cell_type": "markdown",
   "metadata": {
    "id": "UmZ5TyuBQBwc"
   },
   "source": [
    "## 1.4 Multivariate regression"
   ]
  },
  {
   "cell_type": "markdown",
   "metadata": {
    "id": "9BfuJFk4QBwc"
   },
   "source": [
    "Let's now turn our attention to wine quality.\n",
    "\n",
    "The value we aim to predict or evaluate is the quality of each wine in our dataset. This is our dependent variable. We will look at how this is related to the 12 other independent variables, also known as *input features*. We're going to do this with only the red wine data"
   ]
  },
  {
   "cell_type": "code",
   "execution_count": 79,
   "metadata": {
    "colab": {
     "base_uri": "https://localhost:8080/",
     "height": 267
    },
    "id": "pufA3ZJmZcim",
    "outputId": "1fe95039-b2d7-44b6-985d-814d69a218e6"
   },
   "outputs": [
    {
     "data": {
      "text/html": [
       "<div>\n",
       "<style scoped>\n",
       "    .dataframe tbody tr th:only-of-type {\n",
       "        vertical-align: middle;\n",
       "    }\n",
       "\n",
       "    .dataframe tbody tr th {\n",
       "        vertical-align: top;\n",
       "    }\n",
       "\n",
       "    .dataframe thead th {\n",
       "        text-align: right;\n",
       "    }\n",
       "</style>\n",
       "<table border=\"1\" class=\"dataframe\">\n",
       "  <thead>\n",
       "    <tr style=\"text-align: right;\">\n",
       "      <th></th>\n",
       "      <th>type</th>\n",
       "      <th>fixed acidity</th>\n",
       "      <th>volatile acidity</th>\n",
       "      <th>citric acid</th>\n",
       "      <th>residual sugar</th>\n",
       "      <th>chlorides</th>\n",
       "      <th>free sulfur dioxide</th>\n",
       "      <th>total sulfur dioxide</th>\n",
       "      <th>density</th>\n",
       "      <th>pH</th>\n",
       "      <th>sulphates</th>\n",
       "      <th>alcohol</th>\n",
       "      <th>quality</th>\n",
       "    </tr>\n",
       "  </thead>\n",
       "  <tbody>\n",
       "    <tr>\n",
       "      <th>4898</th>\n",
       "      <td>red</td>\n",
       "      <td>7.4</td>\n",
       "      <td>0.70</td>\n",
       "      <td>0.00</td>\n",
       "      <td>1.9</td>\n",
       "      <td>0.076</td>\n",
       "      <td>11.0</td>\n",
       "      <td>34.0</td>\n",
       "      <td>0.9978</td>\n",
       "      <td>3.51</td>\n",
       "      <td>0.56</td>\n",
       "      <td>9.4</td>\n",
       "      <td>5</td>\n",
       "    </tr>\n",
       "    <tr>\n",
       "      <th>4899</th>\n",
       "      <td>red</td>\n",
       "      <td>7.8</td>\n",
       "      <td>0.88</td>\n",
       "      <td>0.00</td>\n",
       "      <td>2.6</td>\n",
       "      <td>0.098</td>\n",
       "      <td>25.0</td>\n",
       "      <td>67.0</td>\n",
       "      <td>0.9968</td>\n",
       "      <td>3.20</td>\n",
       "      <td>0.68</td>\n",
       "      <td>9.8</td>\n",
       "      <td>5</td>\n",
       "    </tr>\n",
       "    <tr>\n",
       "      <th>4900</th>\n",
       "      <td>red</td>\n",
       "      <td>7.8</td>\n",
       "      <td>0.76</td>\n",
       "      <td>0.04</td>\n",
       "      <td>2.3</td>\n",
       "      <td>0.092</td>\n",
       "      <td>15.0</td>\n",
       "      <td>54.0</td>\n",
       "      <td>0.9970</td>\n",
       "      <td>3.26</td>\n",
       "      <td>0.65</td>\n",
       "      <td>9.8</td>\n",
       "      <td>5</td>\n",
       "    </tr>\n",
       "    <tr>\n",
       "      <th>4901</th>\n",
       "      <td>red</td>\n",
       "      <td>11.2</td>\n",
       "      <td>0.28</td>\n",
       "      <td>0.56</td>\n",
       "      <td>1.9</td>\n",
       "      <td>0.075</td>\n",
       "      <td>17.0</td>\n",
       "      <td>60.0</td>\n",
       "      <td>0.9980</td>\n",
       "      <td>3.16</td>\n",
       "      <td>0.58</td>\n",
       "      <td>9.8</td>\n",
       "      <td>6</td>\n",
       "    </tr>\n",
       "    <tr>\n",
       "      <th>4902</th>\n",
       "      <td>red</td>\n",
       "      <td>7.4</td>\n",
       "      <td>0.70</td>\n",
       "      <td>0.00</td>\n",
       "      <td>1.9</td>\n",
       "      <td>0.076</td>\n",
       "      <td>11.0</td>\n",
       "      <td>34.0</td>\n",
       "      <td>0.9978</td>\n",
       "      <td>3.51</td>\n",
       "      <td>0.56</td>\n",
       "      <td>9.4</td>\n",
       "      <td>5</td>\n",
       "    </tr>\n",
       "  </tbody>\n",
       "</table>\n",
       "</div>"
      ],
      "text/plain": [
       "     type  fixed acidity  volatile acidity  citric acid  residual sugar  \\\n",
       "4898  red            7.4              0.70         0.00             1.9   \n",
       "4899  red            7.8              0.88         0.00             2.6   \n",
       "4900  red            7.8              0.76         0.04             2.3   \n",
       "4901  red           11.2              0.28         0.56             1.9   \n",
       "4902  red            7.4              0.70         0.00             1.9   \n",
       "\n",
       "      chlorides  free sulfur dioxide  total sulfur dioxide  density    pH  \\\n",
       "4898      0.076                 11.0                  34.0   0.9978  3.51   \n",
       "4899      0.098                 25.0                  67.0   0.9968  3.20   \n",
       "4900      0.092                 15.0                  54.0   0.9970  3.26   \n",
       "4901      0.075                 17.0                  60.0   0.9980  3.16   \n",
       "4902      0.076                 11.0                  34.0   0.9978  3.51   \n",
       "\n",
       "      sulphates  alcohol  quality  \n",
       "4898       0.56      9.4        5  \n",
       "4899       0.68      9.8        5  \n",
       "4900       0.65      9.8        5  \n",
       "4901       0.58      9.8        6  \n",
       "4902       0.56      9.4        5  "
      ]
     },
     "execution_count": 79,
     "metadata": {},
     "output_type": "execute_result"
    }
   ],
   "source": [
    "red.head()"
   ]
  },
  {
   "cell_type": "markdown",
   "metadata": {
    "id": "v0gFPI5jQBwc"
   },
   "source": [
    "### 1.4.1 Linear regression with all input fields\n",
    "\n",
    "For this example, notice we have a categorical data variable in the 'type' column. We will ignore this for now, and only work with our red wines. In the future we will discuss how to deal with categorical variable such as this in a mathematical representation."
   ]
  },
  {
   "cell_type": "code",
   "execution_count": 80,
   "metadata": {
    "id": "pTMH3DRYS5_l"
   },
   "outputs": [],
   "source": [
    "# this is a list of all our features or independent variables\n",
    "features = list(red.columns[1:])\n",
    "\n",
    "# we're going to remove our target or dependent variable, density from this\n",
    "# list\n",
    "features.remove('density')\n",
    "\n",
    "# now we define X and y according to these lists of names\n",
    "X = red.dropna(axis=0)[features].values\n",
    "y = red.dropna(axis=0)['density'].values\n",
    "\n",
    "# we will talk about scaling/centering our data at a later time\n",
    "X = (X - X.mean(axis=0)) / X.std(axis=0)"
   ]
  },
  {
   "cell_type": "code",
   "execution_count": 81,
   "metadata": {
    "colab": {
     "base_uri": "https://localhost:8080/"
    },
    "id": "WpwHenyba1tC",
    "outputId": "83733d45-f8d9-418e-c228-00b954f663d6"
   },
   "outputs": [
    {
     "data": {
      "text/plain": [
       "type                    0\n",
       "fixed acidity           2\n",
       "volatile acidity        1\n",
       "citric acid             1\n",
       "residual sugar          0\n",
       "chlorides               0\n",
       "free sulfur dioxide     0\n",
       "total sulfur dioxide    0\n",
       "density                 0\n",
       "pH                      2\n",
       "sulphates               2\n",
       "alcohol                 0\n",
       "quality                 0\n",
       "dtype: int64"
      ]
     },
     "execution_count": 81,
     "metadata": {},
     "output_type": "execute_result"
    }
   ],
   "source": [
    "red.isnull().sum(axis=0) # we are getting rid of some nasty nulls!"
   ]
  },
  {
   "cell_type": "markdown",
   "metadata": {
    "id": "PFQLm9NKAA5k"
   },
   "source": [
    "\n",
    "\n",
    "```\n",
    "# Create linear regression object - note that we are using all the input features\n",
    "model = linear_model.LinearRegression()\n",
    "model.fit(X, y)\n",
    "y_calc = model.predict(X)\n",
    "```\n",
    "\n"
   ]
  },
  {
   "cell_type": "code",
   "execution_count": 82,
   "metadata": {
    "id": "PGb0rkrUQBwc"
   },
   "outputs": [],
   "source": [
    "# Create linear regression object - note that we are using all the input features\n",
    "model = linear_model.LinearRegression()\n",
    "model.fit(X, y)\n",
    "y_calc = model.predict(X)"
   ]
  },
  {
   "cell_type": "markdown",
   "metadata": {
    "id": "DCrrNd-MQBwc"
   },
   "source": [
    "Let's see what the coefficients look like ... \n",
    "\n",
    "```\n",
    "print(\"Fit coefficients: \\n\", model.coef_, \"\\nNumber of coefficients:\", len(model.coef_))\n",
    "```"
   ]
  },
  {
   "cell_type": "code",
   "execution_count": 83,
   "metadata": {
    "colab": {
     "base_uri": "https://localhost:8080/"
    },
    "id": "JwVVXevBQBwd",
    "outputId": "7c896cdf-bae5-437e-9352-d10c89c0afb8"
   },
   "outputs": [
    {
     "name": "stdout",
     "output_type": "stream",
     "text": [
      "Fit coefficients: \n",
      " [ 1.64059336e-03  1.23999138e-04  1.16115898e-05  5.83002013e-04\n",
      "  8.35961822e-05 -9.17472420e-05  8.61246026e-05  7.80966358e-04\n",
      "  2.24558885e-04 -9.80600257e-04 -1.75587885e-05] \n",
      "Number of coefficients: 11\n"
     ]
    }
   ],
   "source": [
    "print(\"Fit coefficients: \\n\", model.coef_, \"\\nNumber of coefficients:\", len(model.coef_))"
   ]
  },
  {
   "cell_type": "markdown",
   "metadata": {
    "id": "oMOoVRCnQBwd"
   },
   "source": [
    "We have 11 !!! That's because we are regressing respect to all **11 independent variables**!!!\n",
    "\n",
    "So now, $$y_{\\sf calc}= m_1x_1 +\\, m_2x_2 \\,+ \\,m_3x_3 \\,+\\,... \\,+ \\,b =\\sum_{i=1}^{13}m_i x_i + b\\;\\;\\;\\;\\; \\sf eq. 7$$\n",
    "\n",
    "```\n",
    "print(\"We have 13 slopes / weights:\\n\\n\", model.coef_)\n",
    "print(\"\\nAnd one intercept: \", model.intercept_)\n",
    "```"
   ]
  },
  {
   "cell_type": "code",
   "execution_count": 84,
   "metadata": {
    "colab": {
     "base_uri": "https://localhost:8080/"
    },
    "id": "0MjMu6ZHQBwd",
    "outputId": "0348fd02-8969-4a66-b853-8355ca29bd8f"
   },
   "outputs": [
    {
     "name": "stdout",
     "output_type": "stream",
     "text": [
      "We have 11 slopes / weights:\n",
      "\n",
      " [ 1.64059336e-03  1.23999138e-04  1.16115898e-05  5.83002013e-04\n",
      "  8.35961822e-05 -9.17472420e-05  8.61246026e-05  7.80966358e-04\n",
      "  2.24558885e-04 -9.80600257e-04 -1.75587885e-05]\n",
      "\n",
      "And one intercept:  0.9967517451349656\n"
     ]
    }
   ],
   "source": [
    "print(\"We have 11 slopes / weights:\\n\\n\", model.coef_)\n",
    "print(\"\\nAnd one intercept: \", model.intercept_)"
   ]
  },
  {
   "cell_type": "markdown",
   "metadata": {
    "id": "g38n0LYrASjb"
   },
   "source": [
    "```\n",
    "# This size should match the number of columns in X\n",
    "if len(X[0]) == len(model.coef_):\n",
    "    print(\"All good! The number of coefficients matches the number of input features.\")\n",
    "else:\n",
    "    print(\"Hmm .. something strange is going on.\")\n",
    "```"
   ]
  },
  {
   "cell_type": "code",
   "execution_count": 85,
   "metadata": {
    "colab": {
     "base_uri": "https://localhost:8080/"
    },
    "id": "n3LIvyorQBwd",
    "outputId": "ba928e5c-b190-48ca-fad5-43982773cd63"
   },
   "outputs": [
    {
     "name": "stdout",
     "output_type": "stream",
     "text": [
      "All good! The number of coefficients matches the number of input features.\n"
     ]
    }
   ],
   "source": [
    "# This size should match the number of columns in X\n",
    "if len(X[0]) == len(model.coef_):\n",
    "    print(\"All good! The number of coefficients matches the number of input features.\")\n",
    "else:\n",
    "    print(\"Hmm .. something strange is going on.\")"
   ]
  },
  {
   "cell_type": "markdown",
   "metadata": {
    "id": "yKVDvEtMQBwd"
   },
   "source": [
    "### 🏋️ Exercise 4: evaluate the error\n",
    "\n",
    "Let's **evaluate the error** by computing the MSE and \\\\(R^2\\\\) metrics (see eq. 3 and 6).\n",
    "\n",
    "```\n",
    "# The mean squared error\n",
    "\n",
    "# part A \n",
    "# calculate the MSE using mean_squared_error()\n",
    "# mse = \n",
    "\n",
    "# part B\n",
    "# calculate the R square using r2_score()\n",
    "# r2 = \n",
    "\n",
    "print('Mean squared error: {:.2f}'.format(mse)\n",
    "print('Coefficient of determination: {:.2f}'.format(r2)\n",
    "```"
   ]
  },
  {
   "cell_type": "code",
   "execution_count": 86,
   "metadata": {
    "id": "lpRwoUiGQBwd"
   },
   "outputs": [],
   "source": [
    "# The mean squared error\n",
    "\n",
    "# part A \n",
    "# calculate the MSE using mean_squared_error()\n",
    "# mse = \n",
    "\n",
    "# part B\n",
    "# calculate the R square using r2_score()\n",
    "# r2 = \n",
    "\n",
    "# print('Mean squared error: {:.2f}'.format(mse))\n",
    "# print('Coefficient of determination: {:.2f}'.format(r2))"
   ]
  },
  {
   "cell_type": "markdown",
   "metadata": {
    "id": "HO-kXJKUQBwd"
   },
   "source": [
    "### 🏋️ Exercise 5: make a plot of y actual vs y predicted\n",
    "\n",
    "We can also look at how well the computed values match the true values graphically by generating a scatterplot.\n",
    "\n",
    "```\n",
    "# generate a plot of y predicted vs y actual using plt.plot()\n",
    "# remember you must set ls to an empty string and marker to some marker style\n",
    "\n",
    "# plt.plot()\n",
    "plt.title(\"Linear regression - computed values on entire data set\", fontsize=16)\n",
    "plt.xlabel(\"y$^{\\sf calc}$\")\n",
    "plt.ylabel(\"y$^{\\sf true}$\")\n",
    "plt.show()\n",
    "```"
   ]
  },
  {
   "cell_type": "code",
   "execution_count": 87,
   "metadata": {
    "colab": {
     "base_uri": "https://localhost:8080/",
     "height": 303
    },
    "id": "-YbuZYZ9QBwd",
    "outputId": "1d0f4128-af25-4825-d9d5-658cba26bc2e"
   },
   "outputs": [
    {
     "data": {
      "image/png": "[encoded data removed]",
      "text/plain": [
       "<Figure size 432x288 with 1 Axes>"
      ]
     },
     "metadata": {
      "needs_background": "light"
     },
     "output_type": "display_data"
    }
   ],
   "source": [
    "# generate a plot of y predicted vs y actual using plt.plot()\n",
    "# remember you must set ls to an empty string and marker to some marker style\n",
    "\n",
    "# plt.plot()\n",
    "plt.title(\"Linear regression - computed values on entire data set\", fontsize=16)\n",
    "plt.xlabel(\"y$^{\\sf calc}$\")\n",
    "plt.ylabel(\"y$^{\\sf true}$\")\n",
    "plt.show()"
   ]
  },
  {
   "cell_type": "markdown",
   "metadata": {
    "id": "2UydCmgrQBwd"
   },
   "source": [
    "### 🍒 1.4.2 **Enrichment**: Splitting into train and test sets\n",
    "\n",
    "> note: more of this topic is covered in [**Model Selection and Validation**](https://wesleybeckner.github.io/data_science_foundations/S3_Model_Selection_and_Validation/)\n",
    "\n",
    "To see whether we can predict, we will carry out our regression only on a part, 80%, of the full data set. This part is called the **training** data. We will then test the trained model to predict the rest of the data, 20% - the **test** data. The function which fits won't see the test data until it has to predict it. \n",
    "\n",
    "**We will motivate the use of train/test sets more explicitly in [Model Selection and Validation](https://wesleybeckner.github.io/data_science_foundations/S3_Model_Selection_and_Validation/)**\n",
    "\n",
    "We start by splitting out data using scikit-learn's <code>train_test_split()</code> function:"
   ]
  },
  {
   "cell_type": "markdown",
   "metadata": {
    "id": "RWn0QyYcQBwd"
   },
   "source": [
    "```\n",
    "X_train, X_test, y_train, y_test = train_test_split(X, y, test_size=0.20, random_state=42)\n",
    "                                                    ```"
   ]
  },
  {
   "cell_type": "code",
   "execution_count": 88,
   "metadata": {
    "id": "EDf1TMuKQBwd"
   },
   "outputs": [],
   "source": [
    "X_train, X_test, y_train, y_test = train_test_split(X, y, \n",
    "                                                    test_size=0.20,\n",
    "                                                    random_state=42)"
   ]
  },
  {
   "cell_type": "markdown",
   "metadata": {
    "id": "amGMkkp5QBwd"
   },
   "source": [
    "Now we check the size of <code> y_train </code> and <code> y_test </code>, the sum should be the size of y! If this works then we move on and carry out regression but we only use the training data!\n",
    "\n",
    "```\n",
    "if len(y_test)+len(y_train) == len(y):\n",
    "    \n",
    "    print('All good, ready to to go and regress!\\n')\n",
    "    \n",
    "    # Carry out linear regression\n",
    "    print('Running linear regression algorithm on the training set\\n')\n",
    "    model = linear_model.LinearRegression()\n",
    "    model.fit(X_train, y_train)\n",
    "    print('Fit coefficients and intercept:\\n\\n', model.coef_, '\\n\\n', model.intercept_ )\n",
    "\n",
    "    # Predict on the test set\n",
    "    y_pred_test = model.predict(X_test)\n",
    "```"
   ]
  },
  {
   "cell_type": "code",
   "execution_count": 89,
   "metadata": {
    "colab": {
     "base_uri": "https://localhost:8080/"
    },
    "id": "ExHWM4MlQBwd",
    "outputId": "5354a785-405d-47fa-8939-4a8200bab20e"
   },
   "outputs": [
    {
     "name": "stdout",
     "output_type": "stream",
     "text": [
      "All good, ready to to go and regress!\n",
      "\n",
      "Running linear regression algorithm on the training set\n",
      "\n",
      "Fit coefficients and intercept:\n",
      "\n",
      " [ 1.62385613e-03  1.10578142e-04  7.75216492e-07  5.87755741e-04\n",
      "  7.65190323e-05 -1.03490059e-04  8.87357873e-05  7.79083342e-04\n",
      "  2.23534769e-04 -9.99858829e-04  5.85256438e-06] \n",
      "\n",
      " 0.9967531628434799\n"
     ]
    }
   ],
   "source": [
    "if len(y_test)+len(y_train) == len(y):\n",
    "    \n",
    "    print('All good, ready to to go and regress!\\n')\n",
    "    \n",
    "    # Carry out linear regression\n",
    "    print('Running linear regression algorithm on the training set\\n')\n",
    "    model = linear_model.LinearRegression()\n",
    "    model.fit(X_train, y_train)\n",
    "    print('Fit coefficients and intercept:\\n\\n', model.coef_, '\\n\\n', model.intercept_ )\n",
    "\n",
    "    # Predict on the test set\n",
    "    y_pred_test = model.predict(X_test)"
   ]
  },
  {
   "cell_type": "markdown",
   "metadata": {
    "id": "Tff8dv_1QBwd"
   },
   "source": [
    "Now we can plot our predicted values to see how accurate we are in predicting. We will generate a scatterplot and computing the MSE and \\\\(R^2\\\\) metrics of error.\n",
    "\n",
    "```\n",
    "sns.scatterplot(x=y_pred_test, y=y_test, color=\"mediumvioletred\", s=50)\n",
    "\n",
    "plt.title(\"Linear regression - predict test set\", fontsize=16)\n",
    "plt.xlabel(\"y$^{\\sf calc}$\")\n",
    "plt.ylabel(\"y$^{\\sf true}$\")\n",
    "plt.show()\n",
    "\n",
    "print('Mean squared error: %.2f' % mean_squared_error(y_test, y_pred_test))\n",
    "print('Coefficient of determination: %.2f' % r2_score(y_test, y_pred_test))\n",
    "```"
   ]
  },
  {
   "cell_type": "code",
   "execution_count": 90,
   "metadata": {
    "colab": {
     "base_uri": "https://localhost:8080/",
     "height": 338
    },
    "id": "TqWNcQcHQBwd",
    "outputId": "36b37399-bf8d-49a1-ff20-ef3e079532c7"
   },
   "outputs": [
    {
     "data": {
      "image/png": "[encoded data removed]",
      "text/plain": [
       "<Figure size 432x288 with 1 Axes>"
      ]
     },
     "metadata": {
      "needs_background": "light"
     },
     "output_type": "display_data"
    },
    {
     "name": "stdout",
     "output_type": "stream",
     "text": [
      "Mean squared error: 5.45e-07\n",
      "Coefficient of determination: 0.87\n"
     ]
    }
   ],
   "source": [
    "sns.scatterplot(x=y_pred_test, y=y_test, color=\"mediumvioletred\", s=50)\n",
    "\n",
    "plt.title(\"Linear regression - predict test set\", fontsize=16)\n",
    "plt.xlabel(\"y$^{\\sf calc}$\")\n",
    "plt.ylabel(\"y$^{\\sf true}$\")\n",
    "plt.show()\n",
    "\n",
    "print('Mean squared error: %.2e' % mean_squared_error(y_test, y_pred_test))\n",
    "print('Coefficient of determination: %.2f' % r2_score(y_test, y_pred_test))"
   ]
  },
  {
   "cell_type": "markdown",
   "metadata": {
    "id": "Ri5ILlZqQBwd"
   },
   "source": [
    "#### 1.4.2.1 Other data considerations\n",
    "\n",
    "* Do we need all the independent variables? \n",
    "  * Topics of interential statistics covered in a couple sessions\n",
    "* Can we output integer quality scores? \n",
    "  * Topics of non-binary classification tasks covered in week 4"
   ]
  },
  {
   "cell_type": "markdown",
   "metadata": {
    "id": "_9cvFD6vQBwe"
   },
   "source": [
    "### 🍒 1.4.3 **Enrichment**: Other regression algorithms"
   ]
  },
  {
   "cell_type": "markdown",
   "metadata": {
    "id": "etYVqBBjQBwe"
   },
   "source": [
    "There are many other regression algorithms the two we want to highlight here are Ridge, LASSO, and Elastic Net. They differ by an added term to the loss function. Let's review. Eq. 2 expanded to multivariate form yields:\n",
    "\n",
    "$$\\sum_{i=1}^{N}(y_i - \\sum_{j=1}^{P}x_{ij}\\beta_{j})^2$$\n",
    "\n",
    "for Ridge regression, we add a **_regularization_** term known as **_L2_** regularization:\n",
    "\n",
    "$$\\sum_{i=1}^{N}(y_i - \\sum_{j=1}^{P}x_{ij}\\beta_{j})^2 + \\lambda \\sum_{j=1}^{P}\\beta_{j}^2$$\n",
    "\n",
    "for **_LASSO_** (Least Absolute Shrinkage and Selection Operator) we add **_L1_** regularization:\n",
    "\n",
    "$$\\sum_{i=1}^{N}(y_i - \\sum_{j=1}^{P}x_{ij}\\beta_{j})^2 + \\lambda \\sum_{j=1}^{P}|\\beta_{j}|$$\n",
    "\n",
    "The key difference here is that LASSO will allow coefficients to shrink to 0 while Ridge regression will not. **_Elastic Net_** is a combination of these two regularization methods."
   ]
  },
  {
   "cell_type": "markdown",
   "metadata": {
    "id": "xCUJPE3UdU_J"
   },
   "source": [
    "\n",
    "```\n",
    "model = linear_model.Ridge()\n",
    "model.fit(X_train, y_train)\n",
    "print('Fit coefficients and intercept:\\n\\n', model.coef_, '\\n\\n', model.intercept_ )\n",
    "\n",
    "# Predict on the test set\n",
    "y_calc_test = model.predict(X_test)\n",
    "```"
   ]
  },
  {
   "cell_type": "code",
   "execution_count": 91,
   "metadata": {
    "colab": {
     "base_uri": "https://localhost:8080/"
    },
    "id": "cHZfKBeiQBwe",
    "outputId": "5e82dc9f-856c-434d-a4be-ca715d2e1a7d"
   },
   "outputs": [
    {
     "name": "stdout",
     "output_type": "stream",
     "text": [
      "Fit coefficients and intercept:\n",
      "\n",
      " [ 1.61930554e-03  1.11227142e-04  2.64709094e-06  5.87271456e-04\n",
      "  7.58510569e-05 -1.02851782e-04  8.76686650e-05  7.75641517e-04\n",
      "  2.23315063e-04 -9.98653815e-04  5.26839010e-06] \n",
      "\n",
      " 0.9967531358810221\n"
     ]
    }
   ],
   "source": [
    "model = linear_model.Ridge()\n",
    "model.fit(X_train, y_train)\n",
    "print('Fit coefficients and intercept:\\n\\n', model.coef_, '\\n\\n', model.intercept_ )\n",
    "\n",
    "# Predict on the test set\n",
    "y_calc_test = model.predict(X_test)"
   ]
  },
  {
   "cell_type": "markdown",
   "metadata": {
    "id": "UCG8yK1yAmbr"
   },
   "source": [
    "```\n",
    "sns.scatterplot(x=y_calc_test, y=y_test, color=\"lightseagreen\", s=50)\n",
    "plt.title(\"Ridge regression - predict test set\",fontsize=16)\n",
    "plt.xlabel(\"y$^{\\sf calc}$\")\n",
    "plt.ylabel(\"y$^{\\sf true}$\")\n",
    "plt.show()\n",
    "\n",
    "print('Mean squared error: %.2f' % mean_squared_error(y_test, y_calc_test))\n",
    "print('Coefficient of determination: %.2f' % r2_score(y_test, y_calc_test))\n",
    "```"
   ]
  },
  {
   "cell_type": "code",
   "execution_count": 92,
   "metadata": {
    "colab": {
     "base_uri": "https://localhost:8080/",
     "height": 338
    },
    "id": "msFDf3JVQBwe",
    "outputId": "467415b0-cda1-47cd-8485-f6ef72a471cb"
   },
   "outputs": [
    {
     "data": {
      "image/png": "[encoded data removed]",
      "text/plain": [
       "<Figure size 432x288 with 1 Axes>"
      ]
     },
     "metadata": {
      "needs_background": "light"
     },
     "output_type": "display_data"
    },
    {
     "name": "stdout",
     "output_type": "stream",
     "text": [
      "Mean squared error: 0.00\n",
      "Coefficient of determination: 0.87\n"
     ]
    }
   ],
   "source": [
    "sns.scatterplot(x=y_calc_test, y=y_test, color=\"lightseagreen\", s=50)\n",
    "plt.title(\"Ridge regression - predict test set\",fontsize=16)\n",
    "plt.xlabel(\"y$^{\\sf calc}$\")\n",
    "plt.ylabel(\"y$^{\\sf true}$\")\n",
    "plt.show()\n",
    "\n",
    "print('Mean squared error: %.2f' % mean_squared_error(y_test, y_calc_test))\n",
    "print('Coefficient of determination: %.2f' % r2_score(y_test, y_calc_test))"
   ]
  },
  {
   "cell_type": "markdown",
   "metadata": {
    "id": "1Y6LNo8JkQVi"
   },
   "source": [
    "#### 🏋️ Exercise 6: Tune Hyperparameter for Ridge Regression\n",
    "\n",
    "Use the docstring to peak into the hyperparameters for Ridge Regression. What is the optimal value of lambda?\n",
    "\n",
    "Plot the \\\\(\\beta\\\\) values vs \\\\(\\lambda\\\\) from the results of your analysis"
   ]
  },
  {
   "cell_type": "code",
   "execution_count": 108,
   "metadata": {
    "colab": {
     "base_uri": "https://localhost:8080/"
    },
    "id": "lK96ESEYkP1j",
    "outputId": "42dce7bd-87db-4ee0-b71e-5fd1b773f38d"
   },
   "outputs": [],
   "source": [
    "# cell for exercise 3\n",
    "out_lambdas = []\n",
    "out_coefs = []\n",
    "out_scores = []\n",
    "for i in range(10):\n",
    "  lambdas = []\n",
    "  coefs = []\n",
    "  scores = []\n",
    "  X_train, X_test, y_train, y_test = train_test_split(X, y, \n",
    "                                                    test_size=0.20)\n",
    "  for lamb in range(1,int(5e3),20):\n",
    "    model = linear_model.Ridge(alpha=lamb)\n",
    "    model.fit(X_train, y_train)\n",
    "    lambdas.append(lamb)\n",
    "    coefs.append(model.coef_)\n",
    "    scores.append(r2_score(y_test, model.predict(X_test)))\n",
    "    # print('MSE: %.4f' % mean_squared_error(y_test, model.predict(X_test)))\n",
    "    # print('R2: %.4f' % r2_score(y_test, model.predict(X_test)))\n",
    "  out_lambdas.append(lambdas)\n",
    "  out_coefs.append(coefs)\n",
    "  out_scores.append(scores)"
   ]
  },
  {
   "cell_type": "code",
   "execution_count": 109,
   "metadata": {
    "id": "RcDdX2z43fPk"
   },
   "outputs": [],
   "source": [
    "coef_means = np.array(out_coefs).mean(axis=0)\n",
    "coef_stds = np.array(out_coefs).std(axis=0)\n",
    "results_means = pd.DataFrame(coef_means,columns=features)\n",
    "results_stds = pd.DataFrame(coef_stds,columns=features)\n",
    "results_means['lambda'] = [i for i in lambdas]"
   ]
  },
  {
   "cell_type": "code",
   "execution_count": 110,
   "metadata": {
    "colab": {
     "base_uri": "https://localhost:8080/",
     "height": 609
    },
    "id": "KMbPj2VI34nU",
    "outputId": "180ed6bd-2a47-4310-9a1d-0d11c85b9aa8"
   },
   "outputs": [
    {
     "data": {
      "text/plain": [
       "<matplotlib.legend.Legend at 0x7fdd72270fd0>"
      ]
     },
     "execution_count": 110,
     "metadata": {},
     "output_type": "execute_result"
    },
    {
     "data": {
      "image/png": "[encoded data removed]",
      "text/plain": [
       "<Figure size 720x720 with 1 Axes>"
      ]
     },
     "metadata": {
      "needs_background": "light"
     },
     "output_type": "display_data"
    }
   ],
   "source": [
    "fig, ax = plt.subplots(1,1,figsize=(10,10))\n",
    "for feat in features:\n",
    "  ax.errorbar([i for i in lambdas], results_means[feat], yerr=results_stds[feat], label=feat)\n",
    "# results.plot('lambda', 'scores', ax=ax[1])\n",
    "ax.legend()"
   ]
  },
  {
   "cell_type": "code",
   "execution_count": 111,
   "metadata": {
    "id": "POaQWUe81qeS"
   },
   "outputs": [],
   "source": [
    "results = pd.DataFrame(coefs,columns=features)\n",
    "results['lambda'] = [i for i in lambdas]\n",
    "results['scores'] = scores"
   ]
  },
  {
   "cell_type": "code",
   "execution_count": 112,
   "metadata": {
    "colab": {
     "base_uri": "https://localhost:8080/",
     "height": 353
    },
    "id": "moAZCEhj1jPD",
    "outputId": "76b1f4e0-4e60-466e-9c10-50f9f0b2dc7d"
   },
   "outputs": [
    {
     "data": {
      "text/plain": [
       "<AxesSubplot:xlabel='lambda'>"
      ]
     },
     "execution_count": 112,
     "metadata": {},
     "output_type": "execute_result"
    },
    {
     "data": {
      "image/png": "[encoded data removed]",
      "text/plain": [
       "<Figure size 720x360 with 2 Axes>"
      ]
     },
     "metadata": {
      "needs_background": "light"
     },
     "output_type": "display_data"
    }
   ],
   "source": [
    "fig, ax = plt.subplots(1,2,figsize=(10,5))\n",
    "for feat in features:\n",
    "  results.plot('lambda', feat, ax=ax[0])\n",
    "results.plot('lambda', 'scores', ax=ax[1])"
   ]
  },
  {
   "cell_type": "markdown",
   "metadata": {
    "id": "zno7Go9pQBwe"
   },
   "source": [
    "## 🍒 1.5 **Enrichment**: Additional Regression Exercises\n"
   ]
  },
  {
   "cell_type": "markdown",
   "metadata": {
    "id": "zD4arbEoQBwe"
   },
   "source": [
    "### Problem 1) Number and choice of input features\n",
    "\n",
    "* Load the red wine dataset and evaluate how the linear regression predictions changes as you change the **number and choice of input features**. The total number of columns in X  is 11 and each column represents a specific input feature. \n",
    "\n",
    "* Estimate the MSE\n",
    "```\n",
    "print(X_train.shape)\n",
    "```"
   ]
  },
  {
   "cell_type": "code",
   "execution_count": 98,
   "metadata": {
    "colab": {
     "base_uri": "https://localhost:8080/"
    },
    "id": "h2ICebfcQBwe",
    "outputId": "ab1edb81-ca2c-44f9-eb99-1681527c6ff2"
   },
   "outputs": [
    {
     "name": "stdout",
     "output_type": "stream",
     "text": [
      "(1274, 11)\n"
     ]
    }
   ],
   "source": [
    "print(X_train.shape)"
   ]
  },
  {
   "cell_type": "markdown",
   "metadata": {
    "id": "RLn81xNxQBwe"
   },
   "source": [
    "If you want to use the first 5 features you could proceed as following:\n",
    "\n",
    "```\n",
    "X_train_five = X_train[:,0:5]\n",
    "X_test_five = X_test[:,0:5]\n",
    "```"
   ]
  },
  {
   "cell_type": "code",
   "execution_count": 99,
   "metadata": {
    "id": "Xf9x-TLKQBwe"
   },
   "outputs": [],
   "source": [
    "X_train_five = X_train[:,0:5]\n",
    "X_test_five = X_test[:,0:5]"
   ]
  },
  {
   "cell_type": "markdown",
   "metadata": {
    "id": "sD92DqDIQBwe"
   },
   "source": [
    "Check that the new variables have the shape your expect\n",
    "\n",
    "```\n",
    "print(X_train_five.shape)\n",
    "print(X_test_five.shape)\n",
    "```"
   ]
  },
  {
   "cell_type": "code",
   "execution_count": 100,
   "metadata": {
    "colab": {
     "base_uri": "https://localhost:8080/"
    },
    "id": "mQx4hjiHQBwe",
    "outputId": "18dd5390-b6ab-41f6-f324-0777bc355387"
   },
   "outputs": [
    {
     "name": "stdout",
     "output_type": "stream",
     "text": [
      "(1274, 5)\n",
      "(319, 5)\n"
     ]
    }
   ],
   "source": [
    "print(X_train_five.shape)\n",
    "print(X_test_five.shape)"
   ]
  },
  {
   "cell_type": "markdown",
   "metadata": {
    "id": "acc0Ec-GQBwe"
   },
   "source": [
    "Now you can use these to train your linear regression model and repeat for different numbers or sets of input features! Note that you do not need to change the output feature! It's size is independent from the number of input features, yet recall that its length is the same as the number of values per input feature."
   ]
  },
  {
   "cell_type": "markdown",
   "metadata": {
    "id": "LVImG8v5QBwe"
   },
   "source": [
    "Questions to think about while you work on this problem\n",
    "- How many input feature variables does one need? Is there a maximum or minimum number? \n",
    "- Could one input feature variable be better than the rest?\n",
    "- What if values are missing for one of the input feature variables - is it still worth using it?\n",
    "- Can you use **_L1_** or **_L2_** to determine these optimum features more quickly?"
   ]
  },
  {
   "cell_type": "markdown",
   "metadata": {
    "id": "-ZxX8WJiQBwe"
   },
   "source": [
    "### Problem 2) Type of regression algorithm\n"
   ]
  },
  {
   "cell_type": "markdown",
   "metadata": {
    "id": "BeV8J102QBwe"
   },
   "source": [
    "Try using other types of linear regression methods on the wine dataset: the LASSO model and the Elastic net model which are described by the \n",
    "\n",
    "<code > sklearn.linear_model.ElasticNet() </code> <br>\n",
    "<code > sklearn.linear_model.Lasso() </code>\n",
    "\n",
    "scikit-learn functions.\n",
    "\n",
    "For more detail see [ElasticNet](https://scikit-learn.org/stable/modules/generated/sklearn.linear_model.ElasticNet.html#sklearn.linear_model.ElasticNet) and [Lasso](  https://scikit-learn.org/stable/modules/generated/sklearn.linear_model.Lasso.html#sklearn.linear_model.Lasso)."
   ]
  },
  {
   "cell_type": "markdown",
   "metadata": {
    "id": "BlFPAeTHQBwe"
   },
   "source": [
    "Questions to think about while you work on this problem\n",
    "- How does the error change with each model?\n",
    "- Which model seems to perform best?\n",
    "- How can you optimize the hyperparameter, \\\\(\\lambda\\\\)\n",
    "- Does one model do better than the other at determining which input features are more important?\n",
    "- How about non linear regression / what if the data does not follow a line?\n",
    "- How do the bias and variance change for each model"
   ]
  },
  {
   "cell_type": "code",
   "execution_count": 101,
   "metadata": {
    "id": "wrIdCkmrX-tN"
   },
   "outputs": [],
   "source": [
    "from sklearn.linear_model import ElasticNet\n",
    "from sklearn.linear_model import Lasso\n",
    "from sklearn.linear_model import Ridge\n",
    "from sklearn.linear_model import LinearRegression"
   ]
  },
  {
   "cell_type": "code",
   "execution_count": 102,
   "metadata": {
    "colab": {
     "base_uri": "https://localhost:8080/"
    },
    "id": "u1BTeOCJY3z1",
    "outputId": "66a98791-4d60-4c45-e763-7e26dcd0d277"
   },
   "outputs": [
    {
     "name": "stdout",
     "output_type": "stream",
     "text": [
      "ElasticNet()\n",
      "Mean squared error: 4e-06f\n",
      "Coefficient of determination: -0.00\n",
      "\n",
      "Lasso()\n",
      "Mean squared error: 4e-06f\n",
      "Coefficient of determination: -0.00\n",
      "\n",
      "Ridge()\n",
      "Mean squared error: 7e-07f\n",
      "Coefficient of determination: 0.83\n",
      "\n",
      "LinearRegression()\n",
      "Mean squared error: 7e-07f\n",
      "Coefficient of determination: 0.83\n",
      "\n"
     ]
    }
   ],
   "source": [
    "for model in [ElasticNet, Lasso, Ridge, LinearRegression]:\n",
    "  model = model()\n",
    "  model.fit(X_train, y_train)\n",
    "  print(str(model))\n",
    "  print('Mean squared error: %.ef' % mean_squared_error(y_test, model.predict(X_test)))\n",
    "  print('Coefficient of determination: %.2f' % r2_score(y_test, model.predict(X_test)))\n",
    "  print()"
   ]
  },
  {
   "cell_type": "markdown",
   "metadata": {
    "id": "rfEP3u6mQBwe"
   },
   "source": [
    "<hr style=\"border:1px solid grey\"> </hr>"
   ]
  },
  {
   "cell_type": "markdown",
   "metadata": {
    "id": "2CJ1j1KcQBwe"
   },
   "source": [
    "# References"
   ]
  },
  {
   "cell_type": "markdown",
   "metadata": {
    "id": "cuQ-DIbZQBwe"
   },
   "source": [
    "* **Linear Regression**\n",
    "To find out more see [simple linear regression](https://en.wikipedia.org/wiki/Simple_linear_regression)\n",
    "\n",
    "* **scikit-learn**\n",
    "    * [Scikit-learn](https://scikit-learn.org/stable/)\n",
    "    * [Linear regression in scikit-learn](https://scikit-learn.org/stable/modules/generated/sklearn.linear_model.LinearRegression.html)\n",
    "    * [Metrics of error](https://scikit-learn.org/stable/modules/model_evaluation.html)\n",
    "    * [The Boston dataset](https://scikit-learn.org/stable/datasets/index.html#boston-dataset)\n",
    "\n",
    "* **Pearson correlation**\n",
    "To find out more see [pearson](https://en.wikipedia.org/wiki/Pearson_correlation_coefficient)\n",
    "\n",
    "* **Irreducible error, bias and variance**\n",
    "    * Great Coursera videos [here](https://www.coursera.org/lecture/ml-regression/irreducible-error-and-bias-qlMrZ)\n",
    "and [here](https://www.coursera.org/lecture/ml-regression/variance-and-the-bias-variance-tradeoff-ZvP40)\n"
   ]
  }
 ],
 "metadata": {
  "colab": {
   "collapsed_sections": [],
   "include_colab_link": true,
   "name": "S1_Regression_and_Analysis.ipynb",
   "provenance": [],
   "toc_visible": true
  },
  "kernelspec": {
   "display_name": "Python 3 (ipykernel)",
   "language": "python",
   "name": "python3"
  },
  "language_info": {
   "codemirror_mode": {
    "name": "ipython",
    "version": 3
   },
   "file_extension": ".py",
   "mimetype": "text/x-python",
   "name": "python",
   "nbconvert_exporter": "python",
   "pygments_lexer": "ipython3",
   "version": "3.9.7"
  }
 },
 "nbformat": 4,
 "nbformat_minor": 4
}
