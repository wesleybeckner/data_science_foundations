{
  "nbformat": 4,
  "nbformat_minor": 0,
  "metadata": {
    "colab": {
      "name": "S1_Regression_and_Analysis.ipynb",
      "provenance": [],
      "collapsed_sections": [],
      "include_colab_link": true
    },
    "kernelspec": {
      "name": "python3",
      "display_name": "Python 3"
    },
    "language_info": {
      "name": "python"
    },
    "widgets": {
      "application/vnd.jupyter.widget-state+json": {
        "f7e4a76ace4b47c094fb0ccc243b1976": {
          "model_module": "@jupyter-widgets/controls",
          "model_name": "VBoxModel",
          "model_module_version": "1.5.0",
          "state": {
            "_view_name": "VBoxView",
            "_dom_classes": [
              "widget-interact"
            ],
            "_model_name": "VBoxModel",
            "_view_module": "@jupyter-widgets/controls",
            "_model_module_version": "1.5.0",
            "_view_count": null,
            "_view_module_version": "1.5.0",
            "box_style": "",
            "layout": "IPY_MODEL_780655891d5e4453b429696766cc51a8",
            "_model_module": "@jupyter-widgets/controls",
            "children": [
              "IPY_MODEL_d30f2477c60644a5b2575fd57ba8540b",
              "IPY_MODEL_95b1ff03df014196842a8f5fdc1a46f0"
            ]
          }
        },
        "780655891d5e4453b429696766cc51a8": {
          "model_module": "@jupyter-widgets/base",
          "model_name": "LayoutModel",
          "model_module_version": "1.2.0",
          "state": {
            "_view_name": "LayoutView",
            "grid_template_rows": null,
            "right": null,
            "justify_content": null,
            "_view_module": "@jupyter-widgets/base",
            "overflow": null,
            "_model_module_version": "1.2.0",
            "_view_count": null,
            "flex_flow": null,
            "width": null,
            "min_width": null,
            "border": null,
            "align_items": null,
            "bottom": null,
            "_model_module": "@jupyter-widgets/base",
            "top": null,
            "grid_column": null,
            "overflow_y": null,
            "overflow_x": null,
            "grid_auto_flow": null,
            "grid_area": null,
            "grid_template_columns": null,
            "flex": null,
            "_model_name": "LayoutModel",
            "justify_items": null,
            "grid_row": null,
            "max_height": null,
            "align_content": null,
            "visibility": null,
            "align_self": null,
            "height": null,
            "min_height": null,
            "padding": null,
            "grid_auto_rows": null,
            "grid_gap": null,
            "max_width": null,
            "order": null,
            "_view_module_version": "1.2.0",
            "grid_template_areas": null,
            "object_position": null,
            "object_fit": null,
            "grid_auto_columns": null,
            "margin": null,
            "display": null,
            "left": null
          }
        },
        "d30f2477c60644a5b2575fd57ba8540b": {
          "model_module": "@jupyter-widgets/controls",
          "model_name": "DropdownModel",
          "model_module_version": "1.5.0",
          "state": {
            "_options_labels": [
              "skew",
              "kurtosis",
              "pearsons _quality",
              "null count",
              "median",
              "mean"
            ],
            "_view_name": "DropdownView",
            "style": "IPY_MODEL_86e601984e3544469c3d70f64fa0dcab",
            "_dom_classes": [],
            "description": "metric",
            "_model_name": "DropdownModel",
            "index": 0,
            "_view_module": "@jupyter-widgets/controls",
            "_model_module_version": "1.5.0",
            "_view_count": null,
            "disabled": false,
            "_view_module_version": "1.5.0",
            "description_tooltip": null,
            "_model_module": "@jupyter-widgets/controls",
            "layout": "IPY_MODEL_13e05f859c1f48138038e10aa15b27f0"
          }
        },
        "95b1ff03df014196842a8f5fdc1a46f0": {
          "model_module": "@jupyter-widgets/output",
          "model_name": "OutputModel",
          "model_module_version": "1.0.0",
          "state": {
            "_view_name": "OutputView",
            "msg_id": "",
            "_dom_classes": [],
            "_model_name": "OutputModel",
            "outputs": [
              {
                "output_type": "display_data",
                "data": {
                  "image/png": "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\n",
                  "text/plain": "<Figure size 720x720 with 1 Axes>"
                },
                "metadata": {
                  "needs_background": "light"
                }
              }
            ],
            "_view_module": "@jupyter-widgets/output",
            "_model_module_version": "1.0.0",
            "_view_count": null,
            "_view_module_version": "1.0.0",
            "layout": "IPY_MODEL_6bb8c777732148f2b509e0bef190ba35",
            "_model_module": "@jupyter-widgets/output"
          }
        },
        "86e601984e3544469c3d70f64fa0dcab": {
          "model_module": "@jupyter-widgets/controls",
          "model_name": "DescriptionStyleModel",
          "model_module_version": "1.5.0",
          "state": {
            "_view_name": "StyleView",
            "_model_name": "DescriptionStyleModel",
            "description_width": "",
            "_view_module": "@jupyter-widgets/base",
            "_model_module_version": "1.5.0",
            "_view_count": null,
            "_view_module_version": "1.2.0",
            "_model_module": "@jupyter-widgets/controls"
          }
        },
        "13e05f859c1f48138038e10aa15b27f0": {
          "model_module": "@jupyter-widgets/base",
          "model_name": "LayoutModel",
          "model_module_version": "1.2.0",
          "state": {
            "_view_name": "LayoutView",
            "grid_template_rows": null,
            "right": null,
            "justify_content": null,
            "_view_module": "@jupyter-widgets/base",
            "overflow": null,
            "_model_module_version": "1.2.0",
            "_view_count": null,
            "flex_flow": null,
            "width": null,
            "min_width": null,
            "border": null,
            "align_items": null,
            "bottom": null,
            "_model_module": "@jupyter-widgets/base",
            "top": null,
            "grid_column": null,
            "overflow_y": null,
            "overflow_x": null,
            "grid_auto_flow": null,
            "grid_area": null,
            "grid_template_columns": null,
            "flex": null,
            "_model_name": "LayoutModel",
            "justify_items": null,
            "grid_row": null,
            "max_height": null,
            "align_content": null,
            "visibility": null,
            "align_self": null,
            "height": null,
            "min_height": null,
            "padding": null,
            "grid_auto_rows": null,
            "grid_gap": null,
            "max_width": null,
            "order": null,
            "_view_module_version": "1.2.0",
            "grid_template_areas": null,
            "object_position": null,
            "object_fit": null,
            "grid_auto_columns": null,
            "margin": null,
            "display": null,
            "left": null
          }
        },
        "6bb8c777732148f2b509e0bef190ba35": {
          "model_module": "@jupyter-widgets/base",
          "model_name": "LayoutModel",
          "model_module_version": "1.2.0",
          "state": {
            "_view_name": "LayoutView",
            "grid_template_rows": null,
            "right": null,
            "justify_content": null,
            "_view_module": "@jupyter-widgets/base",
            "overflow": null,
            "_model_module_version": "1.2.0",
            "_view_count": null,
            "flex_flow": null,
            "width": null,
            "min_width": null,
            "border": null,
            "align_items": null,
            "bottom": null,
            "_model_module": "@jupyter-widgets/base",
            "top": null,
            "grid_column": null,
            "overflow_y": null,
            "overflow_x": null,
            "grid_auto_flow": null,
            "grid_area": null,
            "grid_template_columns": null,
            "flex": null,
            "_model_name": "LayoutModel",
            "justify_items": null,
            "grid_row": null,
            "max_height": null,
            "align_content": null,
            "visibility": null,
            "align_self": null,
            "height": null,
            "min_height": null,
            "padding": null,
            "grid_auto_rows": null,
            "grid_gap": null,
            "max_width": null,
            "order": null,
            "_view_module_version": "1.2.0",
            "grid_template_areas": null,
            "object_position": null,
            "object_fit": null,
            "grid_auto_columns": null,
            "margin": null,
            "display": null,
            "left": null
          }
        }
      }
    }
  },
  "cells": [
    {
      "cell_type": "markdown",
      "metadata": {
        "id": "view-in-github",
        "colab_type": "text"
      },
      "source": [
        "<a href=\"https://colab.research.google.com/github/wesleybeckner/data_science_foundations/blob/main/notebooks/S1_Regression_and_Analysis.ipynb\" target=\"_parent\"><img src=\"https://colab.research.google.com/assets/colab-badge.svg\" alt=\"Open In Colab\"/></a>"
      ]
    },
    {
      "cell_type": "markdown",
      "metadata": {
        "id": "ZhMpsTQGPQIm"
      },
      "source": [
        "# Data Science Foundations Session 1: Regression and Analysis\n",
        "\n",
        "**Instructor**: Wesley Beckner\n",
        "\n",
        "**Contact**: wesleybeckner@gmail.com\n",
        "\n",
        "---\n",
        "\n",
        "<br>\n",
        "\n",
        "In this session we will look at fitting data to a curve using **regression**. We will also look at using regression to make **predictions** for new data points by dividing our data into a training and a testing set. Finally we will examine how much error we make in our fit and then in our predictions by computing the mean squared error.\n",
        "\n",
        "<br>\n",
        "\n",
        "---\n",
        "\n"
      ]
    },
    {
      "cell_type": "markdown",
      "metadata": {
        "id": "jc0SbuFeQBwW"
      },
      "source": [
        "<a name='x.0'></a>\n",
        "\n",
        "## 1.0 Preparing Environment and Importing Data\n",
        "\n",
        "[back to top](#top)"
      ]
    },
    {
      "cell_type": "markdown",
      "metadata": {
        "id": "RGyB72UymbBW"
      },
      "source": [
        "<a name='x.0.1'></a>\n",
        "\n",
        "### 1.0.1 Import Packages\n",
        "\n",
        "[back to top](#top)"
      ]
    },
    {
      "cell_type": "code",
      "metadata": {
        "id": "XA8E1GTQQBwW"
      },
      "source": [
        "# Import pandas, pyplot, ipywidgets\n",
        "import pandas as pd  \n",
        "from matplotlib import pyplot as plt\n",
        "from ipywidgets import interact\n",
        "\n",
        "# Import Scikit-Learn library for the regression models\n",
        "import sklearn         \n",
        "from sklearn import linear_model\n",
        "from sklearn.model_selection import train_test_split\n",
        "from sklearn.metrics import mean_squared_error, r2_score\n",
        "\n",
        "# for enrichment topics\n",
        "import seaborn as sns\n",
        "import numpy as np"
      ],
      "execution_count": 6,
      "outputs": []
    },
    {
      "cell_type": "markdown",
      "metadata": {
        "id": "X_5nwoFWqKfH"
      },
      "source": [
        "### 1.0.2 Load Dataset\n",
        "\n",
        "[back to top](#top)\n",
        "\n",
        "For our discussion on regression and descriptive statistics today we will use a well known dataset of different wines and their quality ratings"
      ]
    },
    {
      "cell_type": "code",
      "metadata": {
        "colab": {
          "base_uri": "https://localhost:8080/"
        },
        "id": "_ZOC3aDmqNRr",
        "outputId": "864aa869-0030-4b67-ac8c-a7976da16e29"
      },
      "source": [
        "df = pd.read_csv(\"https://raw.githubusercontent.com/wesleybeckner/\"\\\n",
        "                 \"ds_for_engineers/main/data/wine_quality/winequalityN.csv\")\n",
        "df.shape"
      ],
      "execution_count": 7,
      "outputs": [
        {
          "output_type": "execute_result",
          "data": {
            "text/plain": [
              "(6497, 13)"
            ]
          },
          "metadata": {},
          "execution_count": 7
        }
      ]
    },
    {
      "cell_type": "code",
      "metadata": {
        "colab": {
          "base_uri": "https://localhost:8080/",
          "height": 206
        },
        "id": "EE7amHruJvEr",
        "outputId": "d0f3dd97-d7ae-419b-fa1a-6e7286507c2d"
      },
      "source": [
        "df.head()"
      ],
      "execution_count": 8,
      "outputs": [
        {
          "output_type": "execute_result",
          "data": {
            "text/html": [
              "\n",
              "  <div id=\"df-debbbb7f-837a-4b43-a93e-e352ede6c2f8\">\n",
              "    <div class=\"colab-df-container\">\n",
              "      <div>\n",
              "<style scoped>\n",
              "    .dataframe tbody tr th:only-of-type {\n",
              "        vertical-align: middle;\n",
              "    }\n",
              "\n",
              "    .dataframe tbody tr th {\n",
              "        vertical-align: top;\n",
              "    }\n",
              "\n",
              "    .dataframe thead th {\n",
              "        text-align: right;\n",
              "    }\n",
              "</style>\n",
              "<table border=\"1\" class=\"dataframe\">\n",
              "  <thead>\n",
              "    <tr style=\"text-align: right;\">\n",
              "      <th></th>\n",
              "      <th>type</th>\n",
              "      <th>fixed acidity</th>\n",
              "      <th>volatile acidity</th>\n",
              "      <th>citric acid</th>\n",
              "      <th>residual sugar</th>\n",
              "      <th>chlorides</th>\n",
              "      <th>free sulfur dioxide</th>\n",
              "      <th>total sulfur dioxide</th>\n",
              "      <th>density</th>\n",
              "      <th>pH</th>\n",
              "      <th>sulphates</th>\n",
              "      <th>alcohol</th>\n",
              "      <th>quality</th>\n",
              "    </tr>\n",
              "  </thead>\n",
              "  <tbody>\n",
              "    <tr>\n",
              "      <th>0</th>\n",
              "      <td>white</td>\n",
              "      <td>7.0</td>\n",
              "      <td>0.27</td>\n",
              "      <td>0.36</td>\n",
              "      <td>20.7</td>\n",
              "      <td>0.045</td>\n",
              "      <td>45.0</td>\n",
              "      <td>170.0</td>\n",
              "      <td>1.0010</td>\n",
              "      <td>3.00</td>\n",
              "      <td>0.45</td>\n",
              "      <td>8.8</td>\n",
              "      <td>6</td>\n",
              "    </tr>\n",
              "    <tr>\n",
              "      <th>1</th>\n",
              "      <td>white</td>\n",
              "      <td>6.3</td>\n",
              "      <td>0.30</td>\n",
              "      <td>0.34</td>\n",
              "      <td>1.6</td>\n",
              "      <td>0.049</td>\n",
              "      <td>14.0</td>\n",
              "      <td>132.0</td>\n",
              "      <td>0.9940</td>\n",
              "      <td>3.30</td>\n",
              "      <td>0.49</td>\n",
              "      <td>9.5</td>\n",
              "      <td>6</td>\n",
              "    </tr>\n",
              "    <tr>\n",
              "      <th>2</th>\n",
              "      <td>white</td>\n",
              "      <td>8.1</td>\n",
              "      <td>0.28</td>\n",
              "      <td>0.40</td>\n",
              "      <td>6.9</td>\n",
              "      <td>0.050</td>\n",
              "      <td>30.0</td>\n",
              "      <td>97.0</td>\n",
              "      <td>0.9951</td>\n",
              "      <td>3.26</td>\n",
              "      <td>0.44</td>\n",
              "      <td>10.1</td>\n",
              "      <td>6</td>\n",
              "    </tr>\n",
              "    <tr>\n",
              "      <th>3</th>\n",
              "      <td>white</td>\n",
              "      <td>7.2</td>\n",
              "      <td>0.23</td>\n",
              "      <td>0.32</td>\n",
              "      <td>8.5</td>\n",
              "      <td>0.058</td>\n",
              "      <td>47.0</td>\n",
              "      <td>186.0</td>\n",
              "      <td>0.9956</td>\n",
              "      <td>3.19</td>\n",
              "      <td>0.40</td>\n",
              "      <td>9.9</td>\n",
              "      <td>6</td>\n",
              "    </tr>\n",
              "    <tr>\n",
              "      <th>4</th>\n",
              "      <td>white</td>\n",
              "      <td>7.2</td>\n",
              "      <td>0.23</td>\n",
              "      <td>0.32</td>\n",
              "      <td>8.5</td>\n",
              "      <td>0.058</td>\n",
              "      <td>47.0</td>\n",
              "      <td>186.0</td>\n",
              "      <td>0.9956</td>\n",
              "      <td>3.19</td>\n",
              "      <td>0.40</td>\n",
              "      <td>9.9</td>\n",
              "      <td>6</td>\n",
              "    </tr>\n",
              "  </tbody>\n",
              "</table>\n",
              "</div>\n",
              "      <button class=\"colab-df-convert\" onclick=\"convertToInteractive('df-debbbb7f-837a-4b43-a93e-e352ede6c2f8')\"\n",
              "              title=\"Convert this dataframe to an interactive table.\"\n",
              "              style=\"display:none;\">\n",
              "        \n",
              "  <svg xmlns=\"http://www.w3.org/2000/svg\" height=\"24px\"viewBox=\"0 0 24 24\"\n",
              "       width=\"24px\">\n",
              "    <path d=\"M0 0h24v24H0V0z\" fill=\"none\"/>\n",
              "    <path d=\"M18.56 5.44l.94 2.06.94-2.06 2.06-.94-2.06-.94-.94-2.06-.94 2.06-2.06.94zm-11 1L8.5 8.5l.94-2.06 2.06-.94-2.06-.94L8.5 2.5l-.94 2.06-2.06.94zm10 10l.94 2.06.94-2.06 2.06-.94-2.06-.94-.94-2.06-.94 2.06-2.06.94z\"/><path d=\"M17.41 7.96l-1.37-1.37c-.4-.4-.92-.59-1.43-.59-.52 0-1.04.2-1.43.59L10.3 9.45l-7.72 7.72c-.78.78-.78 2.05 0 2.83L4 21.41c.39.39.9.59 1.41.59.51 0 1.02-.2 1.41-.59l7.78-7.78 2.81-2.81c.8-.78.8-2.07 0-2.86zM5.41 20L4 18.59l7.72-7.72 1.47 1.35L5.41 20z\"/>\n",
              "  </svg>\n",
              "      </button>\n",
              "      \n",
              "  <style>\n",
              "    .colab-df-container {\n",
              "      display:flex;\n",
              "      flex-wrap:wrap;\n",
              "      gap: 12px;\n",
              "    }\n",
              "\n",
              "    .colab-df-convert {\n",
              "      background-color: #E8F0FE;\n",
              "      border: none;\n",
              "      border-radius: 50%;\n",
              "      cursor: pointer;\n",
              "      display: none;\n",
              "      fill: #1967D2;\n",
              "      height: 32px;\n",
              "      padding: 0 0 0 0;\n",
              "      width: 32px;\n",
              "    }\n",
              "\n",
              "    .colab-df-convert:hover {\n",
              "      background-color: #E2EBFA;\n",
              "      box-shadow: 0px 1px 2px rgba(60, 64, 67, 0.3), 0px 1px 3px 1px rgba(60, 64, 67, 0.15);\n",
              "      fill: #174EA6;\n",
              "    }\n",
              "\n",
              "    [theme=dark] .colab-df-convert {\n",
              "      background-color: #3B4455;\n",
              "      fill: #D2E3FC;\n",
              "    }\n",
              "\n",
              "    [theme=dark] .colab-df-convert:hover {\n",
              "      background-color: #434B5C;\n",
              "      box-shadow: 0px 1px 3px 1px rgba(0, 0, 0, 0.15);\n",
              "      filter: drop-shadow(0px 1px 2px rgba(0, 0, 0, 0.3));\n",
              "      fill: #FFFFFF;\n",
              "    }\n",
              "  </style>\n",
              "\n",
              "      <script>\n",
              "        const buttonEl =\n",
              "          document.querySelector('#df-debbbb7f-837a-4b43-a93e-e352ede6c2f8 button.colab-df-convert');\n",
              "        buttonEl.style.display =\n",
              "          google.colab.kernel.accessAllowed ? 'block' : 'none';\n",
              "\n",
              "        async function convertToInteractive(key) {\n",
              "          const element = document.querySelector('#df-debbbb7f-837a-4b43-a93e-e352ede6c2f8');\n",
              "          const dataTable =\n",
              "            await google.colab.kernel.invokeFunction('convertToInteractive',\n",
              "                                                     [key], {});\n",
              "          if (!dataTable) return;\n",
              "\n",
              "          const docLinkHtml = 'Like what you see? Visit the ' +\n",
              "            '<a target=\"_blank\" href=https://colab.research.google.com/notebooks/data_table.ipynb>data table notebook</a>'\n",
              "            + ' to learn more about interactive tables.';\n",
              "          element.innerHTML = '';\n",
              "          dataTable['output_type'] = 'display_data';\n",
              "          await google.colab.output.renderOutput(dataTable, element);\n",
              "          const docLink = document.createElement('div');\n",
              "          docLink.innerHTML = docLinkHtml;\n",
              "          element.appendChild(docLink);\n",
              "        }\n",
              "      </script>\n",
              "    </div>\n",
              "  </div>\n",
              "  "
            ],
            "text/plain": [
              "    type  fixed acidity  volatile acidity  ...  sulphates  alcohol  quality\n",
              "0  white            7.0              0.27  ...       0.45      8.8        6\n",
              "1  white            6.3              0.30  ...       0.49      9.5        6\n",
              "2  white            8.1              0.28  ...       0.44     10.1        6\n",
              "3  white            7.2              0.23  ...       0.40      9.9        6\n",
              "4  white            7.2              0.23  ...       0.40      9.9        6\n",
              "\n",
              "[5 rows x 13 columns]"
            ]
          },
          "metadata": {},
          "execution_count": 8
        }
      ]
    },
    {
      "cell_type": "markdown",
      "metadata": {
        "id": "cm6isl1eQBwX"
      },
      "source": [
        "## 1.1 What is regression? "
      ]
    },
    {
      "cell_type": "markdown",
      "metadata": {
        "id": "crBj3b4FHemQ"
      },
      "source": [
        "It is the process of finding a relationship between **_dependent_** and **_independent_** variables to find trends in data. This abstract definition means that you have one variable (the dependent variable) which depends on one or more variables (the independent variables). One of the reasons for which we want to regress data is to understand whether there is a trend between two variables. \n",
        "\n",
        "**Housing Prices Example**\n",
        "\n",
        "We can imagine this scenario with housing prices. Envision a **_mixed_** dataset of **_continuous_** and **_discrete_** independent variables. Some features could be continuous, floating point values like location ranking and housing condition. Others could be descrete like the number of rooms or bathrooms. We could take these features and use them to predict a house value. This would be a **_regression_** model.\n",
        "\n",
        "<p align=center>\n",
        "<img src=\"https://raw.githubusercontent.com/wesleybeckner/technology_explorers/main/assets/machine_learning/ML3.png\" width=1000px></img>\n",
        "</p>\n",
        "\n",
        "\n",
        "\n",
        "\n"
      ]
    },
    {
      "cell_type": "markdown",
      "metadata": {
        "id": "qppNLSFvQBwX"
      },
      "source": [
        "## 1.2  Linear regression fitting with scikit-learn"
      ]
    },
    {
      "cell_type": "markdown",
      "metadata": {
        "id": "eAcHDd1vQBwY"
      },
      "source": [
        "#### 🏋️ Exercise 1: rudimentary EDA\n",
        "What does the data look like? Recall how to visualize data in a pandas dataframe \n",
        "\n",
        "<ul>\n",
        "<li> for every column calculate the\n",
        "\n",
        "  * skew: `df.skew()`\n",
        "  * kurtosis: `df.kurtosis()`\n",
        "  * pearsons correlation with the dependent variable: `df.corr()`\n",
        "  * number of missing entries `df.isnull()`\n",
        "\n",
        "and organize this into a new dataframe\n",
        "</li>\n",
        "</ul>\n",
        "\n",
        "_note:_ pearsons is just one type of correlation, another available to us **_spearman_** which differs from pearsons in that it depends on ranked values rather than their direct quantities, you can read more [here](https://support.minitab.com/en-us/minitab-express/1/help-and-how-to/modeling-statistics/regression/supporting-topics/basics/a-comparison-of-the-pearson-and-spearman-correlation-methods/)"
      ]
    },
    {
      "cell_type": "code",
      "metadata": {
        "colab": {
          "base_uri": "https://localhost:8080/"
        },
        "id": "R6rNSiulxGhe",
        "outputId": "d8003b15-3bf9-445d-afdc-0700f819baa7"
      },
      "source": [
        "df.isnull().sum()"
      ],
      "execution_count": 9,
      "outputs": [
        {
          "output_type": "execute_result",
          "data": {
            "text/plain": [
              "type                     0\n",
              "fixed acidity           10\n",
              "volatile acidity         8\n",
              "citric acid              3\n",
              "residual sugar           2\n",
              "chlorides                2\n",
              "free sulfur dioxide      0\n",
              "total sulfur dioxide     0\n",
              "density                  0\n",
              "pH                       9\n",
              "sulphates                4\n",
              "alcohol                  0\n",
              "quality                  0\n",
              "dtype: int64"
            ]
          },
          "metadata": {},
          "execution_count": 9
        }
      ]
    },
    {
      "cell_type": "code",
      "metadata": {
        "id": "0-TMjSfuQBwY"
      },
      "source": [
        "# Cell for Exercise 1\n",
        "\n",
        "# part A \n",
        "# using df.<method> define the following four variables with the results from\n",
        "# skew(), kurtosis(), corr() (whilst selecting for quality), and isnull()\n",
        "# for isnull() you'll notice the return is a dataframe of booleans. we would\n",
        "# like to simply know the number of null values for each column. change the\n",
        "# return of isnull() using the sum() method along the columns\n",
        "\n",
        "# skew =\n",
        "# kurt =\n",
        "# pear =\n",
        "# null =\n",
        "\n",
        "# part B\n",
        "# on line 13, put these results in a list using square brackets and call \n",
        "# pandas.DataFrame on the list to make your new DataFrame! store it under the\n",
        "# variable name dff\n",
        "\n",
        "\n",
        "\n",
        "# part C\n",
        "# take the transpose of this DataFrame using dff.T. reassign dff to this copy\n",
        "\n",
        "\n",
        "\n",
        "# part D\n",
        "# set the column names to 'skew', 'kurtosis', 'pearsons _quality', and \n",
        "# 'null count' using dff.columns\n",
        "\n",
        "\n",
        "\n",
        "# Now return dff to the output to view your hand work\n",
        "# dff # uncomment this line"
      ],
      "execution_count": 10,
      "outputs": []
    },
    {
      "cell_type": "markdown",
      "metadata": {
        "id": "WyXKiL0AEhLG"
      },
      "source": [
        "I have gone ahead and repeated this exercise with the red vs white wine types:"
      ]
    },
    {
      "cell_type": "code",
      "metadata": {
        "id": "7b-f89XCFFB4"
      },
      "source": [
        "red = df.loc[df['type'] == 'red']\n",
        "wht = df.loc[df['type'] == 'white']\n",
        "\n",
        "def get_summary(df):\n",
        "  skew = df.skew()\n",
        "  kurt = df.kurtosis()\n",
        "  pear = df.corr()['quality']\n",
        "  null = df.isnull().sum()\n",
        "  med = df.median()\n",
        "  men = df.mean()\n",
        "\n",
        "  dff = pd.DataFrame([skew, kurt, pear, null, med, men])\n",
        "  dff = dff.T\n",
        "  dff.columns = ['skew', 'kurtosis', 'pearsons _quality', 'null count', 'median',\n",
        "                'mean']\n",
        "  return dff\n",
        "\n",
        "dffr = get_summary(red)\n",
        "dffw = get_summary(wht)\n",
        "\n",
        "desc = pd.concat([dffr, dffw], keys=['red', 'white'])"
      ],
      "execution_count": 11,
      "outputs": []
    },
    {
      "cell_type": "code",
      "metadata": {
        "colab": {
          "base_uri": "https://localhost:8080/",
          "height": 865
        },
        "id": "EpBmNL_FEp5y",
        "outputId": "028104ae-7489-4e07-96d9-c07a4446c7a3"
      },
      "source": [
        "desc"
      ],
      "execution_count": 12,
      "outputs": [
        {
          "output_type": "execute_result",
          "data": {
            "text/html": [
              "\n",
              "  <div id=\"df-3234ada6-f6b9-46ef-9eee-9e82bb62367f\">\n",
              "    <div class=\"colab-df-container\">\n",
              "      <div>\n",
              "<style scoped>\n",
              "    .dataframe tbody tr th:only-of-type {\n",
              "        vertical-align: middle;\n",
              "    }\n",
              "\n",
              "    .dataframe tbody tr th {\n",
              "        vertical-align: top;\n",
              "    }\n",
              "\n",
              "    .dataframe thead th {\n",
              "        text-align: right;\n",
              "    }\n",
              "</style>\n",
              "<table border=\"1\" class=\"dataframe\">\n",
              "  <thead>\n",
              "    <tr style=\"text-align: right;\">\n",
              "      <th></th>\n",
              "      <th></th>\n",
              "      <th>skew</th>\n",
              "      <th>kurtosis</th>\n",
              "      <th>pearsons _quality</th>\n",
              "      <th>null count</th>\n",
              "      <th>median</th>\n",
              "      <th>mean</th>\n",
              "    </tr>\n",
              "  </thead>\n",
              "  <tbody>\n",
              "    <tr>\n",
              "      <th rowspan=\"13\" valign=\"top\">red</th>\n",
              "      <th>fixed acidity</th>\n",
              "      <td>0.982192</td>\n",
              "      <td>1.132624</td>\n",
              "      <td>0.123834</td>\n",
              "      <td>2.0</td>\n",
              "      <td>7.90000</td>\n",
              "      <td>8.322104</td>\n",
              "    </tr>\n",
              "    <tr>\n",
              "      <th>volatile acidity</th>\n",
              "      <td>0.672862</td>\n",
              "      <td>1.226846</td>\n",
              "      <td>-0.390858</td>\n",
              "      <td>1.0</td>\n",
              "      <td>0.52000</td>\n",
              "      <td>0.527738</td>\n",
              "    </tr>\n",
              "    <tr>\n",
              "      <th>citric acid</th>\n",
              "      <td>0.317891</td>\n",
              "      <td>-0.788476</td>\n",
              "      <td>0.226917</td>\n",
              "      <td>1.0</td>\n",
              "      <td>0.26000</td>\n",
              "      <td>0.271145</td>\n",
              "    </tr>\n",
              "    <tr>\n",
              "      <th>residual sugar</th>\n",
              "      <td>4.540655</td>\n",
              "      <td>28.617595</td>\n",
              "      <td>0.013732</td>\n",
              "      <td>0.0</td>\n",
              "      <td>2.20000</td>\n",
              "      <td>2.538806</td>\n",
              "    </tr>\n",
              "    <tr>\n",
              "      <th>chlorides</th>\n",
              "      <td>5.680347</td>\n",
              "      <td>41.715787</td>\n",
              "      <td>-0.128907</td>\n",
              "      <td>0.0</td>\n",
              "      <td>0.07900</td>\n",
              "      <td>0.087467</td>\n",
              "    </tr>\n",
              "    <tr>\n",
              "      <th>free sulfur dioxide</th>\n",
              "      <td>1.250567</td>\n",
              "      <td>2.023562</td>\n",
              "      <td>-0.050656</td>\n",
              "      <td>0.0</td>\n",
              "      <td>14.00000</td>\n",
              "      <td>15.874922</td>\n",
              "    </tr>\n",
              "    <tr>\n",
              "      <th>total sulfur dioxide</th>\n",
              "      <td>1.515531</td>\n",
              "      <td>3.809824</td>\n",
              "      <td>-0.185100</td>\n",
              "      <td>0.0</td>\n",
              "      <td>38.00000</td>\n",
              "      <td>46.467792</td>\n",
              "    </tr>\n",
              "    <tr>\n",
              "      <th>density</th>\n",
              "      <td>0.071288</td>\n",
              "      <td>0.934079</td>\n",
              "      <td>-0.174919</td>\n",
              "      <td>0.0</td>\n",
              "      <td>0.99675</td>\n",
              "      <td>0.996747</td>\n",
              "    </tr>\n",
              "    <tr>\n",
              "      <th>pH</th>\n",
              "      <td>0.194803</td>\n",
              "      <td>0.814690</td>\n",
              "      <td>-0.057094</td>\n",
              "      <td>2.0</td>\n",
              "      <td>3.31000</td>\n",
              "      <td>3.310864</td>\n",
              "    </tr>\n",
              "    <tr>\n",
              "      <th>sulphates</th>\n",
              "      <td>2.429115</td>\n",
              "      <td>11.712632</td>\n",
              "      <td>0.251685</td>\n",
              "      <td>2.0</td>\n",
              "      <td>0.62000</td>\n",
              "      <td>0.658078</td>\n",
              "    </tr>\n",
              "    <tr>\n",
              "      <th>alcohol</th>\n",
              "      <td>0.860829</td>\n",
              "      <td>0.200029</td>\n",
              "      <td>0.476166</td>\n",
              "      <td>0.0</td>\n",
              "      <td>10.20000</td>\n",
              "      <td>10.422983</td>\n",
              "    </tr>\n",
              "    <tr>\n",
              "      <th>quality</th>\n",
              "      <td>0.217802</td>\n",
              "      <td>0.296708</td>\n",
              "      <td>1.000000</td>\n",
              "      <td>0.0</td>\n",
              "      <td>6.00000</td>\n",
              "      <td>5.636023</td>\n",
              "    </tr>\n",
              "    <tr>\n",
              "      <th>type</th>\n",
              "      <td>NaN</td>\n",
              "      <td>NaN</td>\n",
              "      <td>NaN</td>\n",
              "      <td>0.0</td>\n",
              "      <td>NaN</td>\n",
              "      <td>NaN</td>\n",
              "    </tr>\n",
              "    <tr>\n",
              "      <th rowspan=\"13\" valign=\"top\">white</th>\n",
              "      <th>fixed acidity</th>\n",
              "      <td>0.647981</td>\n",
              "      <td>2.176560</td>\n",
              "      <td>-0.114032</td>\n",
              "      <td>8.0</td>\n",
              "      <td>6.80000</td>\n",
              "      <td>6.855532</td>\n",
              "    </tr>\n",
              "    <tr>\n",
              "      <th>volatile acidity</th>\n",
              "      <td>1.578595</td>\n",
              "      <td>5.095526</td>\n",
              "      <td>-0.194976</td>\n",
              "      <td>7.0</td>\n",
              "      <td>0.26000</td>\n",
              "      <td>0.278252</td>\n",
              "    </tr>\n",
              "    <tr>\n",
              "      <th>citric acid</th>\n",
              "      <td>1.284217</td>\n",
              "      <td>6.182036</td>\n",
              "      <td>-0.009194</td>\n",
              "      <td>2.0</td>\n",
              "      <td>0.32000</td>\n",
              "      <td>0.334250</td>\n",
              "    </tr>\n",
              "    <tr>\n",
              "      <th>residual sugar</th>\n",
              "      <td>1.076601</td>\n",
              "      <td>3.469536</td>\n",
              "      <td>-0.097373</td>\n",
              "      <td>2.0</td>\n",
              "      <td>5.20000</td>\n",
              "      <td>6.393250</td>\n",
              "    </tr>\n",
              "    <tr>\n",
              "      <th>chlorides</th>\n",
              "      <td>5.023412</td>\n",
              "      <td>37.560847</td>\n",
              "      <td>-0.210181</td>\n",
              "      <td>2.0</td>\n",
              "      <td>0.04300</td>\n",
              "      <td>0.045778</td>\n",
              "    </tr>\n",
              "    <tr>\n",
              "      <th>free sulfur dioxide</th>\n",
              "      <td>1.406745</td>\n",
              "      <td>11.466342</td>\n",
              "      <td>0.008158</td>\n",
              "      <td>0.0</td>\n",
              "      <td>34.00000</td>\n",
              "      <td>35.308085</td>\n",
              "    </tr>\n",
              "    <tr>\n",
              "      <th>total sulfur dioxide</th>\n",
              "      <td>0.390710</td>\n",
              "      <td>0.571853</td>\n",
              "      <td>-0.174737</td>\n",
              "      <td>0.0</td>\n",
              "      <td>134.00000</td>\n",
              "      <td>138.360657</td>\n",
              "    </tr>\n",
              "    <tr>\n",
              "      <th>density</th>\n",
              "      <td>0.977773</td>\n",
              "      <td>9.793807</td>\n",
              "      <td>-0.307123</td>\n",
              "      <td>0.0</td>\n",
              "      <td>0.99374</td>\n",
              "      <td>0.994027</td>\n",
              "    </tr>\n",
              "    <tr>\n",
              "      <th>pH</th>\n",
              "      <td>0.458402</td>\n",
              "      <td>0.532552</td>\n",
              "      <td>0.098858</td>\n",
              "      <td>7.0</td>\n",
              "      <td>3.18000</td>\n",
              "      <td>3.188203</td>\n",
              "    </tr>\n",
              "    <tr>\n",
              "      <th>sulphates</th>\n",
              "      <td>0.977361</td>\n",
              "      <td>1.589847</td>\n",
              "      <td>0.053690</td>\n",
              "      <td>2.0</td>\n",
              "      <td>0.47000</td>\n",
              "      <td>0.489835</td>\n",
              "    </tr>\n",
              "    <tr>\n",
              "      <th>alcohol</th>\n",
              "      <td>0.487342</td>\n",
              "      <td>-0.698425</td>\n",
              "      <td>0.435575</td>\n",
              "      <td>0.0</td>\n",
              "      <td>10.40000</td>\n",
              "      <td>10.514267</td>\n",
              "    </tr>\n",
              "    <tr>\n",
              "      <th>quality</th>\n",
              "      <td>0.155796</td>\n",
              "      <td>0.216526</td>\n",
              "      <td>1.000000</td>\n",
              "      <td>0.0</td>\n",
              "      <td>6.00000</td>\n",
              "      <td>5.877909</td>\n",
              "    </tr>\n",
              "    <tr>\n",
              "      <th>type</th>\n",
              "      <td>NaN</td>\n",
              "      <td>NaN</td>\n",
              "      <td>NaN</td>\n",
              "      <td>0.0</td>\n",
              "      <td>NaN</td>\n",
              "      <td>NaN</td>\n",
              "    </tr>\n",
              "  </tbody>\n",
              "</table>\n",
              "</div>\n",
              "      <button class=\"colab-df-convert\" onclick=\"convertToInteractive('df-3234ada6-f6b9-46ef-9eee-9e82bb62367f')\"\n",
              "              title=\"Convert this dataframe to an interactive table.\"\n",
              "              style=\"display:none;\">\n",
              "        \n",
              "  <svg xmlns=\"http://www.w3.org/2000/svg\" height=\"24px\"viewBox=\"0 0 24 24\"\n",
              "       width=\"24px\">\n",
              "    <path d=\"M0 0h24v24H0V0z\" fill=\"none\"/>\n",
              "    <path d=\"M18.56 5.44l.94 2.06.94-2.06 2.06-.94-2.06-.94-.94-2.06-.94 2.06-2.06.94zm-11 1L8.5 8.5l.94-2.06 2.06-.94-2.06-.94L8.5 2.5l-.94 2.06-2.06.94zm10 10l.94 2.06.94-2.06 2.06-.94-2.06-.94-.94-2.06-.94 2.06-2.06.94z\"/><path d=\"M17.41 7.96l-1.37-1.37c-.4-.4-.92-.59-1.43-.59-.52 0-1.04.2-1.43.59L10.3 9.45l-7.72 7.72c-.78.78-.78 2.05 0 2.83L4 21.41c.39.39.9.59 1.41.59.51 0 1.02-.2 1.41-.59l7.78-7.78 2.81-2.81c.8-.78.8-2.07 0-2.86zM5.41 20L4 18.59l7.72-7.72 1.47 1.35L5.41 20z\"/>\n",
              "  </svg>\n",
              "      </button>\n",
              "      \n",
              "  <style>\n",
              "    .colab-df-container {\n",
              "      display:flex;\n",
              "      flex-wrap:wrap;\n",
              "      gap: 12px;\n",
              "    }\n",
              "\n",
              "    .colab-df-convert {\n",
              "      background-color: #E8F0FE;\n",
              "      border: none;\n",
              "      border-radius: 50%;\n",
              "      cursor: pointer;\n",
              "      display: none;\n",
              "      fill: #1967D2;\n",
              "      height: 32px;\n",
              "      padding: 0 0 0 0;\n",
              "      width: 32px;\n",
              "    }\n",
              "\n",
              "    .colab-df-convert:hover {\n",
              "      background-color: #E2EBFA;\n",
              "      box-shadow: 0px 1px 2px rgba(60, 64, 67, 0.3), 0px 1px 3px 1px rgba(60, 64, 67, 0.15);\n",
              "      fill: #174EA6;\n",
              "    }\n",
              "\n",
              "    [theme=dark] .colab-df-convert {\n",
              "      background-color: #3B4455;\n",
              "      fill: #D2E3FC;\n",
              "    }\n",
              "\n",
              "    [theme=dark] .colab-df-convert:hover {\n",
              "      background-color: #434B5C;\n",
              "      box-shadow: 0px 1px 3px 1px rgba(0, 0, 0, 0.15);\n",
              "      filter: drop-shadow(0px 1px 2px rgba(0, 0, 0, 0.3));\n",
              "      fill: #FFFFFF;\n",
              "    }\n",
              "  </style>\n",
              "\n",
              "      <script>\n",
              "        const buttonEl =\n",
              "          document.querySelector('#df-3234ada6-f6b9-46ef-9eee-9e82bb62367f button.colab-df-convert');\n",
              "        buttonEl.style.display =\n",
              "          google.colab.kernel.accessAllowed ? 'block' : 'none';\n",
              "\n",
              "        async function convertToInteractive(key) {\n",
              "          const element = document.querySelector('#df-3234ada6-f6b9-46ef-9eee-9e82bb62367f');\n",
              "          const dataTable =\n",
              "            await google.colab.kernel.invokeFunction('convertToInteractive',\n",
              "                                                     [key], {});\n",
              "          if (!dataTable) return;\n",
              "\n",
              "          const docLinkHtml = 'Like what you see? Visit the ' +\n",
              "            '<a target=\"_blank\" href=https://colab.research.google.com/notebooks/data_table.ipynb>data table notebook</a>'\n",
              "            + ' to learn more about interactive tables.';\n",
              "          element.innerHTML = '';\n",
              "          dataTable['output_type'] = 'display_data';\n",
              "          await google.colab.output.renderOutput(dataTable, element);\n",
              "          const docLink = document.createElement('div');\n",
              "          docLink.innerHTML = docLinkHtml;\n",
              "          element.appendChild(docLink);\n",
              "        }\n",
              "      </script>\n",
              "    </div>\n",
              "  </div>\n",
              "  "
            ],
            "text/plain": [
              "                                skew   kurtosis  ...     median        mean\n",
              "red   fixed acidity         0.982192   1.132624  ...    7.90000    8.322104\n",
              "      volatile acidity      0.672862   1.226846  ...    0.52000    0.527738\n",
              "      citric acid           0.317891  -0.788476  ...    0.26000    0.271145\n",
              "      residual sugar        4.540655  28.617595  ...    2.20000    2.538806\n",
              "      chlorides             5.680347  41.715787  ...    0.07900    0.087467\n",
              "      free sulfur dioxide   1.250567   2.023562  ...   14.00000   15.874922\n",
              "      total sulfur dioxide  1.515531   3.809824  ...   38.00000   46.467792\n",
              "      density               0.071288   0.934079  ...    0.99675    0.996747\n",
              "      pH                    0.194803   0.814690  ...    3.31000    3.310864\n",
              "      sulphates             2.429115  11.712632  ...    0.62000    0.658078\n",
              "      alcohol               0.860829   0.200029  ...   10.20000   10.422983\n",
              "      quality               0.217802   0.296708  ...    6.00000    5.636023\n",
              "      type                       NaN        NaN  ...        NaN         NaN\n",
              "white fixed acidity         0.647981   2.176560  ...    6.80000    6.855532\n",
              "      volatile acidity      1.578595   5.095526  ...    0.26000    0.278252\n",
              "      citric acid           1.284217   6.182036  ...    0.32000    0.334250\n",
              "      residual sugar        1.076601   3.469536  ...    5.20000    6.393250\n",
              "      chlorides             5.023412  37.560847  ...    0.04300    0.045778\n",
              "      free sulfur dioxide   1.406745  11.466342  ...   34.00000   35.308085\n",
              "      total sulfur dioxide  0.390710   0.571853  ...  134.00000  138.360657\n",
              "      density               0.977773   9.793807  ...    0.99374    0.994027\n",
              "      pH                    0.458402   0.532552  ...    3.18000    3.188203\n",
              "      sulphates             0.977361   1.589847  ...    0.47000    0.489835\n",
              "      alcohol               0.487342  -0.698425  ...   10.40000   10.514267\n",
              "      quality               0.155796   0.216526  ...    6.00000    5.877909\n",
              "      type                       NaN        NaN  ...        NaN         NaN\n",
              "\n",
              "[26 rows x 6 columns]"
            ]
          },
          "metadata": {},
          "execution_count": 12
        }
      ]
    },
    {
      "cell_type": "code",
      "metadata": {
        "id": "K9DDzhpjF-xu"
      },
      "source": [
        "def my_fig(metric=desc.columns):\n",
        "  fig, ax = plt.subplots(1, 1, figsize=(10,10))\n",
        "  pd.DataFrame(desc[metric]).unstack()[metric].T.plot(kind='barh', ax=ax)"
      ],
      "execution_count": 13,
      "outputs": []
    },
    {
      "cell_type": "code",
      "metadata": {
        "colab": {
          "base_uri": "https://localhost:8080/",
          "height": 641,
          "referenced_widgets": [
            "f7e4a76ace4b47c094fb0ccc243b1976",
            "780655891d5e4453b429696766cc51a8",
            "d30f2477c60644a5b2575fd57ba8540b",
            "95b1ff03df014196842a8f5fdc1a46f0",
            "86e601984e3544469c3d70f64fa0dcab",
            "13e05f859c1f48138038e10aa15b27f0",
            "6bb8c777732148f2b509e0bef190ba35"
          ]
        },
        "id": "-POOBsVeutdM",
        "outputId": "f75e9032-a966-4347-cf19-a56657857e14"
      },
      "source": [
        "interact(my_fig)"
      ],
      "execution_count": 14,
      "outputs": [
        {
          "output_type": "display_data",
          "data": {
            "application/vnd.jupyter.widget-view+json": {
              "model_id": "f7e4a76ace4b47c094fb0ccc243b1976",
              "version_minor": 0,
              "version_major": 2
            },
            "text/plain": [
              "interactive(children=(Dropdown(description='metric', options=('skew', 'kurtosis', 'pearsons _quality', 'null c…"
            ]
          },
          "metadata": {}
        },
        {
          "output_type": "execute_result",
          "data": {
            "text/plain": [
              "<function __main__.my_fig>"
            ]
          },
          "metadata": {},
          "execution_count": 14
        }
      ]
    },
    {
      "cell_type": "markdown",
      "metadata": {
        "id": "IdvF2jjyGRlh"
      },
      "source": [
        "#### 🙋 Question 1: Discussion Around EDA Plot\n",
        "\n",
        "What do we think of this plot?\n",
        "\n",
        "> `metric = mean`, the cholrides values <br>\n",
        "`metric = kurtosis`, residual sugar <br>\n",
        "`metric = pearsons _quality`, _magnitudes_ and _directions_ <br>\n",
        "How to improve the plot, what other plots would we like to see?"
      ]
    },
    {
      "cell_type": "markdown",
      "source": [
        "For instance, what if we were really curious about the high kurtosis for chlorides content? What more would we like to glean about the distribution of chloride content?"
      ],
      "metadata": {
        "id": "__9b0d6wdvtj"
      }
    },
    {
      "cell_type": "code",
      "metadata": {
        "colab": {
          "base_uri": "https://localhost:8080/"
        },
        "id": "1dA1h7CAwHvv",
        "outputId": "bd2a6115-d337-42cd-e22b-ef1d4768037b"
      },
      "source": [
        "# we can use df.describe() to take a look at the quantile values and min/max\n",
        "df['chlorides'].describe()"
      ],
      "execution_count": 15,
      "outputs": [
        {
          "output_type": "execute_result",
          "data": {
            "text/plain": [
              "count    6495.000000\n",
              "mean        0.056042\n",
              "std         0.035036\n",
              "min         0.009000\n",
              "25%         0.038000\n",
              "50%         0.047000\n",
              "75%         0.065000\n",
              "max         0.611000\n",
              "Name: chlorides, dtype: float64"
            ]
          },
          "metadata": {},
          "execution_count": 15
        }
      ]
    },
    {
      "cell_type": "code",
      "metadata": {
        "colab": {
          "base_uri": "https://localhost:8080/",
          "height": 609
        },
        "id": "BlIRssBtFq_9",
        "outputId": "d4a4aa09-a17f-4c6b-e42f-e57e3080a83a"
      },
      "source": [
        "# and see how these values appear in a KDE\n",
        "fig, ax = plt.subplots(1,1,figsize=(10,10))\n",
        "df['chlorides'].plot(kind='kde',ax=ax)\n",
        "ax.set_xlim(0,.61)"
      ],
      "execution_count": 16,
      "outputs": [
        {
          "output_type": "execute_result",
          "data": {
            "text/plain": [
              "(0.0, 0.61)"
            ]
          },
          "metadata": {},
          "execution_count": 16
        },
        {
          "output_type": "display_data",
          "data": {
            "image/png": "[encoded data removed]",
            "text/plain": [
              "<Figure size 720x720 with 1 Axes>"
            ]
          },
          "metadata": {
            "needs_background": "light"
          }
        }
      ]
    },
    {
      "cell_type": "code",
      "metadata": {
        "colab": {
          "base_uri": "https://localhost:8080/"
        },
        "id": "_rEEPUxpF6go",
        "outputId": "a98650f7-fc7a-484c-e93c-08304727fb7d"
      },
      "source": [
        "# lastly we may want to look at the raw values themselves. We can sort them \n",
        "# too view outliers\n",
        "df['chlorides'].sort_values(ascending=False)[:50]"
      ],
      "execution_count": 17,
      "outputs": [
        {
          "output_type": "execute_result",
          "data": {
            "text/plain": [
              "5156    0.611\n",
              "5049    0.610\n",
              "5004    0.467\n",
              "4979    0.464\n",
              "5590    0.422\n",
              "5652    0.415\n",
              "6268    0.415\n",
              "6270    0.415\n",
              "6217    0.414\n",
              "5949    0.414\n",
              "5349    0.413\n",
              "6158    0.403\n",
              "4981    0.401\n",
              "5628    0.387\n",
              "6063    0.369\n",
              "4915    0.368\n",
              "5067    0.360\n",
              "5179    0.358\n",
              "484     0.346\n",
              "5189    0.343\n",
              "4917    0.341\n",
              "5124    0.337\n",
              "4940    0.332\n",
              "1217    0.301\n",
              "687     0.290\n",
              "4473    0.271\n",
              "5079    0.270\n",
              "6272    0.267\n",
              "5138    0.263\n",
              "1865    0.255\n",
              "5466    0.250\n",
              "1034    0.244\n",
              "5674    0.243\n",
              "5675    0.241\n",
              "683     0.240\n",
              "1638    0.239\n",
              "5045    0.236\n",
              "6456    0.235\n",
              "6468    0.230\n",
              "5465    0.226\n",
              "5464    0.226\n",
              "5564    0.222\n",
              "2186    0.217\n",
              "5996    0.216\n",
              "6332    0.214\n",
              "6333    0.214\n",
              "5206    0.214\n",
              "5205    0.213\n",
              "4497    0.212\n",
              "1835    0.211\n",
              "Name: chlorides, dtype: float64"
            ]
          },
          "metadata": {},
          "execution_count": 17
        }
      ]
    },
    {
      "cell_type": "markdown",
      "metadata": {
        "id": "9vavdktFQBwZ"
      },
      "source": [
        "### 1.2.2 Visualizing the data set - motivating regression analysis\n",
        "\n",
        "In order to demonstrate simple linear regression with this dataset we will look at two particular features: `fixed acidity` and `density`."
      ]
    },
    {
      "cell_type": "markdown",
      "metadata": {
        "id": "wy3XoXStQBwZ"
      },
      "source": [
        "We can create a scatter plot of `fixed acidity` vs `density` for the red wine in the dataset using `df.plot()` and see that there appears to be a general trend between the two features:"
      ]
    },
    {
      "cell_type": "code",
      "metadata": {
        "colab": {
          "base_uri": "https://localhost:8080/",
          "height": 351
        },
        "id": "DTkwPrlLA2aX",
        "outputId": "7b5fc4f5-29e4-4dcd-e893-683fdfdb8ef7"
      },
      "source": [
        "fig, ax = plt.subplots(1, 1, figsize=(5,5))\n",
        "df.loc[df['type'] == 'red'].plot(x='fixed acidity', y='density', ax=ax, \n",
        "                                 ls='', marker='.')"
      ],
      "execution_count": 18,
      "outputs": [
        {
          "output_type": "execute_result",
          "data": {
            "text/plain": [
              "<matplotlib.axes._subplots.AxesSubplot at 0x7f6ac0f95050>"
            ]
          },
          "metadata": {},
          "execution_count": 18
        },
        {
          "output_type": "display_data",
          "data": {
            "image/png": "[encoded data removed]",
            "text/plain": [
              "<Figure size 360x360 with 1 Axes>"
            ]
          },
          "metadata": {
            "needs_background": "light"
          }
        }
      ]
    },
    {
      "cell_type": "markdown",
      "source": [
        "Now the question is: How do we quantify this trend?"
      ],
      "metadata": {
        "id": "dXwu4aBieYFB"
      }
    },
    {
      "cell_type": "markdown",
      "metadata": {
        "id": "Gp_Ssxc1QBwZ"
      },
      "source": [
        "### 1.2.3 Estimating the regression coefficients\n",
        "\n",
        "It looks like density increases with fixed acidity following a line, maybe something like\n",
        "\n",
        "$$y(x)= m \\cdot x + b  \\;\\;\\;\\;\\;\\;\\;\\; \\sf{eq. 1}$$ \n",
        "\n",
        "with \\\\( y=\\sf density \\\\), \\\\(x=\\sf fixed acidity\\\\), and \\\\(m\\\\) the slope and \\\\(b\\\\) the intercept. \n",
        "\n",
        "To solve the problem, we need to find the values of \\\\(b\\\\) and \\\\(m\\\\) in equation 1 to best fit the data. This is called **linear regression**.\n",
        "\n",
        "In linear regression our goal is to minimize the error between computed values of positions \\\\(y^{\\sf calc}(x_i)\\equiv y^{\\sf calc}_i\\\\) and known values \\\\(y^{\\sf exact}(x_i)\\equiv y^{\\sf exact}_i\\\\), i.e. find \\\\(b\\\\) and \\\\(m\\\\) which lead to lowest value of\n",
        "\n",
        "$$\\epsilon (m,b) =SS_{\\sf res}=\\sum_{i=1}^{N}\\left(y^{\\sf exact}_i - y^{\\sf calc}_i\\right)^2 = \\sum_{i=1}^{N}\\left(y^{\\sf exact}_i - m\\cdot x_i - b \\right)^2\\;\\;\\;\\;\\;\\;\\;\\;\\;\\;\\;\\sf{eq. 2}$$\n",
        "\n",
        "Otherwise known as the **residual sum of squares**\n",
        "\n",
        "To find out more see e.g. https://en.wikipedia.org/wiki/Simple_linear_regression\n"
      ]
    },
    {
      "cell_type": "markdown",
      "metadata": {
        "id": "18lLAfaHQBwZ"
      },
      "source": [
        "#### 🙋 Question 2: linear regression loss function\n",
        "> Do we always want *m* and *b* to be large positive numbers so as to minimize eq. 2? "
      ]
    },
    {
      "cell_type": "markdown",
      "metadata": {
        "id": "cxPnpy8jQBwZ"
      },
      "source": [
        "\n",
        "Luckily [scikit-learn](https://scikit-learn.org/stable/) contains many functions related to regression including [linear regression](https://scikit-learn.org/stable/modules/linear_model.html). \n",
        "\n",
        "The function we will use is called <code> LinearRegression() </code>. \n",
        "\n",
        "```\n",
        "# Create linear regression object\n",
        "model = linear_model.LinearRegression()\n",
        "\n",
        "# Use model to fit to the data, the x values are densities and the y values are fixed acidity\n",
        "# Note that we need to reshape the vectors to be of the shape x - (n_samples, n_features) and y (n_samples, n_targets)\n",
        "x = red['density'].values.reshape(-1, 1)\n",
        "y = red['fixed acidity'].values.reshape(-1, 1)\n",
        "```"
      ]
    },
    {
      "cell_type": "code",
      "metadata": {
        "id": "AUWdaOgMQBwZ"
      },
      "source": [
        "# Create linear regression object\n",
        "model = linear_model.LinearRegression()\n",
        "\n",
        "# Use model to fit to the data, the x values are densities and the y values are fixed acidity\n",
        "# Note that we need to reshape the vectors to be of the shape x - (n_samples, n_features) and y (n_samples, n_targets)\n",
        "x = red['density'].values.reshape(-1, 1)\n",
        "y = red['fixed acidity'].values.reshape(-1, 1)"
      ],
      "execution_count": 19,
      "outputs": []
    },
    {
      "cell_type": "markdown",
      "metadata": {
        "id": "M7dszV5EA-hL"
      },
      "source": [
        "```\n",
        "print(red['density'].values.shape, red['fixed acidity'].values.shape)\n",
        "print(x.shape, y.shape)\n",
        "```"
      ]
    },
    {
      "cell_type": "code",
      "metadata": {
        "id": "d25DN-kRAzw8",
        "colab": {
          "base_uri": "https://localhost:8080/"
        },
        "outputId": "cc3ffa05-a391-4e0d-ad5c-1a970cc3dc50"
      },
      "source": [
        "print(red['density'].values.shape, red['fixed acidity'].values.shape)\n",
        "print(x.shape, y.shape)"
      ],
      "execution_count": 20,
      "outputs": [
        {
          "output_type": "stream",
          "name": "stdout",
          "text": [
            "(1599,) (1599,)\n",
            "(1599, 1) (1599, 1)\n"
          ]
        }
      ]
    },
    {
      "cell_type": "markdown",
      "metadata": {
        "id": "wD7EekCNBDiB"
      },
      "source": [
        "```\n",
        "# Fit to the data\n",
        "model.fit(x, y)\n",
        "\n",
        "# Extract the values of interest\n",
        "m = model.coef_[0][0]\n",
        "b = model.intercept_[0]\n",
        "\n",
        "# Print the slope m and intercept b\n",
        "print('Scikit learn - Slope: ', m , 'Intercept: ', b )\n",
        "```"
      ]
    },
    {
      "cell_type": "markdown",
      "metadata": {
        "id": "_Nn5Qu2ksoyQ"
      },
      "source": [
        "What happens when we try to fit the data as is?"
      ]
    },
    {
      "cell_type": "code",
      "metadata": {
        "id": "EGmVnF5tsmkl"
      },
      "source": [
        "# Fit to the data\n",
        "# model.fit(x, y)"
      ],
      "execution_count": null,
      "outputs": []
    },
    {
      "cell_type": "markdown",
      "metadata": {
        "id": "W_mENW9GtVG5"
      },
      "source": [
        "#### 🏋️ Exercise 2: drop Null Values (and practice pandas operations)\n",
        "\n",
        "Let's look back at our dataset description dataframe above, what do we notice, what contains null values?\n",
        "\n",
        "There are several strategies for dealing with null values. For now let's take the simplest case, and drop rows in our dataframe that contain null"
      ]
    },
    {
      "cell_type": "code",
      "metadata": {
        "id": "DIF33-m5tT7u"
      },
      "source": [
        "# Cell for Exercise 2\n",
        "# For this templated exercise you are going to complete everything in one line \n",
        "# of code, but we are going to break it up into steps. So for each part (A, B,\n",
        "# etc.) paste your answer from the previous part to begin\n",
        "\n",
        "# step A\n",
        "# select the 'density' and 'fixed acidity' columns of red. make sure the return\n",
        "# is a dataframe\n",
        "\n",
        "# step B\n",
        "# now use the dropna() method on axis 0 (the rows) to drop any null values \n",
        "\n",
        "# step B\n",
        "# select column 'density'\n",
        "\n",
        "# step C\n",
        "# select the values\n",
        "\n",
        "# step D\n",
        "# reshape the result with an empty second dimension using .reshape() and store\n",
        "# the result under variable x\n",
        "\n",
        "# repeat the same process with 'fixed acidity' and variable y"
      ],
      "execution_count": null,
      "outputs": []
    },
    {
      "cell_type": "markdown",
      "metadata": {
        "id": "1bRDIqBM9Fvk"
      },
      "source": [
        "Now that we have our x and y arrays we can fit using ScikitLearn"
      ]
    },
    {
      "cell_type": "code",
      "metadata": {
        "id": "xBrZ4w9nM4Co"
      },
      "source": [
        "x = red[['density', 'fixed acidity']].dropna(axis=0)['density'].values.reshape(-1,1)\n",
        "y = red[['density', 'fixed acidity']].dropna(axis=0)['fixed acidity'].values.reshape(-1,1)"
      ],
      "execution_count": 21,
      "outputs": []
    },
    {
      "cell_type": "code",
      "metadata": {
        "id": "eFH0SXRkAnDB",
        "colab": {
          "base_uri": "https://localhost:8080/"
        },
        "outputId": "a23a19ca-4ebb-4f0b-a459-ce6a40bbd8f0"
      },
      "source": [
        "# Fit to the data\n",
        "model.fit(x, y)\n",
        "\n",
        "# Extract the values of interest\n",
        "m = model.coef_[0][0]\n",
        "b = model.intercept_[0]\n",
        "\n",
        "# Print the slope m and intercept b\n",
        "print('Scikit learn - Slope: ', m , 'Intercept: ', b )"
      ],
      "execution_count": 22,
      "outputs": [
        {
          "output_type": "stream",
          "name": "stdout",
          "text": [
            "Scikit learn - Slope:  616.0131428066102 Intercept:  -605.6880086750525\n"
          ]
        }
      ]
    },
    {
      "cell_type": "markdown",
      "metadata": {
        "id": "4uFUK6QfQBwa"
      },
      "source": [
        "#### 🏋️ Exercise 3: calculating y_pred\n",
        "Estimate the values of \\\\(y\\\\) by using your fitted parameters. Hint: Use your <code>model.coef_</code> and <code>model.intercept_</code> parameters to estimate y_pred following equation 1\n"
      ]
    },
    {
      "cell_type": "code",
      "metadata": {
        "id": "VFVrL1VQQBwa"
      },
      "source": [
        "# define y_pred in terms of m, x, and b\n",
        "# y_pred = \n",
        "\n",
        "# fig, ax = plt.subplots(1,1, figsize=(10,10))\n",
        "# ax.plot(x, y_pred, ls='', marker='*')\n",
        "# ax.plot(x, y, ls='', marker='.')"
      ],
      "execution_count": null,
      "outputs": []
    },
    {
      "cell_type": "markdown",
      "metadata": {
        "id": "pzeGpYvs9UlK"
      },
      "source": [
        "We can also return predictions directly with the model object using the predict() method"
      ]
    },
    {
      "cell_type": "code",
      "metadata": {
        "id": "7DFlw26PQBwa",
        "colab": {
          "base_uri": "https://localhost:8080/",
          "height": 609
        },
        "outputId": "1feebae2-fd31-4f27-9480-63d14854c468"
      },
      "source": [
        "# Another way to get this is using the model.predict function\n",
        "y_pred = model.predict(x)\n",
        "fig, ax = plt.subplots(1,1, figsize=(10,10))\n",
        "ax.plot(x, y_pred, ls='', marker='*')\n",
        "ax.plot(x, y, ls='', marker='.')"
      ],
      "execution_count": 23,
      "outputs": [
        {
          "output_type": "execute_result",
          "data": {
            "text/plain": [
              "[<matplotlib.lines.Line2D at 0x7f6abde09f10>]"
            ]
          },
          "metadata": {},
          "execution_count": 23
        },
        {
          "output_type": "display_data",
          "data": {
            "image/png": "[encoded data removed]",
            "text/plain": [
              "<Figure size 720x720 with 1 Axes>"
            ]
          },
          "metadata": {
            "needs_background": "light"
          }
        }
      ]
    },
    {
      "cell_type": "markdown",
      "metadata": {
        "id": "FSsBFNvcQBwb"
      },
      "source": [
        "## 1.3 Error and topics of model fitting (assessing model accuracy)"
      ]
    },
    {
      "cell_type": "markdown",
      "metadata": {
        "id": "WZsrmzofNDj9"
      },
      "source": [
        "### 1.3.1 Measuring the quality of fit"
      ]
    },
    {
      "cell_type": "markdown",
      "metadata": {
        "id": "KKfamij9QBwb"
      },
      "source": [
        "#### 1.3.1.1 Mean Squared Error\n",
        "\n",
        "The plot in Section 1.2.3 looks good, but numerically what is our error? What is the mean value of $\\epsilon$, i.e. the **Mean Squared Error (MSE)**?\n",
        "\n",
        "$${\\sf MSE}=\\epsilon_{\\sf ave} = \\frac{\\sum_{i=1}^{N_{\\sf times}}\\left(y^{\\sf exact}_i - m\\cdot t_i - b \\right)^2}{N_{\\sf times}}\\;\\;\\;\\;\\;\\sf eq. 3$$\n",
        "\n",
        "```\n",
        "# The mean squared error\n",
        "print('Mean squared error: %.2f' % mean_squared_error(y, y_pred))\n",
        "```"
      ]
    },
    {
      "cell_type": "code",
      "metadata": {
        "id": "BDCUEKNQQBwb",
        "colab": {
          "base_uri": "https://localhost:8080/"
        },
        "outputId": "467e26ca-610f-4e98-ad75-ac79532d808e"
      },
      "source": [
        "# The mean squared error\n",
        "print('Mean squared error: %.2f' % mean_squared_error(y, y_pred))"
      ],
      "execution_count": 24,
      "outputs": [
        {
          "output_type": "stream",
          "name": "stdout",
          "text": [
            "Mean squared error: 1.68\n"
          ]
        }
      ]
    },
    {
      "cell_type": "markdown",
      "metadata": {
        "id": "5m88vMlkQBwb"
      },
      "source": [
        "#### 1.3.1.2 R-square\n",
        "\n",
        "Another way to measure error is the regression score, \\\\(R^2\\\\). \\\\(R^2\\\\) is generally defined as the ratio of the total sum of squares \\\\(SS_{\\sf tot}\\\\) to the residual sum of squares \\\\(SS_{\\sf res}\\\\):\n",
        "\n",
        "$$SS_{\\sf tot}=\\sum_{i=1}^{N} \\left(y^{\\sf exact}_i-\\bar{y}\\right)^2\\;\\;\\;\\;\\; \\sf eq. 4$$\n",
        "$$SS_{\\sf res}=\\sum_{i=1}^{N} \\left(y^{\\sf exact}_i - y^{\\sf calc}_i\\right)^2\\;\\;\\;\\;\\; \\sf eq. 5$$\n",
        "$$R^2 = 1 - {SS_{\\sf res}\\over SS_{\\sf tot}} \\;\\;\\;\\;\\;\\; \\sf eq. 6$$\n",
        "\n",
        "In eq. 4, \\\\(\\bar{y}=\\sum_i y^{\\sf exact}_i/N\\\\) is the average value of y for \\\\(N\\\\) points. The best value of \\\\(R^2\\\\) is 1 but it can also take a negative value if the error is large.\n",
        "\n",
        "See all the different regression metrics [here](https://scikit-learn.org/stable/modules/model_evaluation.html)."
      ]
    },
    {
      "cell_type": "markdown",
      "metadata": {
        "id": "L5qg7H3_QBwb"
      },
      "source": [
        "#### 🙋 Question 3\n",
        "> Do we need a large value of \\\\(SS_{\\sf tot}\\\\) to minimize \\\\(R^2\\\\) - is this something which we have the power to control?"
      ]
    },
    {
      "cell_type": "markdown",
      "metadata": {
        "id": "7maWcZuQ_CVD"
      },
      "source": [
        "```\n",
        "# Print the coefficient of determination - 1 is perfect prediction\n",
        "print('Coefficient of determination: %.2f' % r2_score(y, y_pred))\n",
        "```"
      ]
    },
    {
      "cell_type": "code",
      "metadata": {
        "id": "Ejt0nyHJQBwb",
        "colab": {
          "base_uri": "https://localhost:8080/"
        },
        "outputId": "b942622f-0988-4de3-c0f6-1bb902ae7cc0"
      },
      "source": [
        "# Print the coefficient of determination - 1 is perfect prediction\n",
        "print('Coefficient of determination: %.2f' % r2_score(y, y_pred))"
      ],
      "execution_count": 25,
      "outputs": [
        {
          "output_type": "stream",
          "name": "stdout",
          "text": [
            "Coefficient of determination: 0.45\n"
          ]
        }
      ]
    },
    {
      "cell_type": "markdown",
      "metadata": {
        "id": "5Fg5RUDzQMd-"
      },
      "source": [
        "### 1.3.2 Corollaries with classification models\n",
        "\n",
        "For classification tasks, we typically assess accuracy vs MSE or R-square, since we are dealing with categorical rather than numerical predictions.\n",
        "\n",
        "What is accuracy? It is defined as the ratio of True assignments to all assignments. For a binary positive/negative classification task this can be written as the following:\n",
        "\n",
        "$$ Acc = \\frac{T_p + T_n}{F_p + F_n + T_p + T_n} $$\n",
        "\n",
        "Where \\\\(T\\\\) is True, \\\\(F\\\\) is false, \\\\(p\\\\) is positive, \\\\(n\\\\) is negative\n",
        "\n",
        "Just as a quick example, we can perform this type of task on our wine dataset by predicting on quality, which is a discrete 3-9 quality score:"
      ]
    },
    {
      "cell_type": "code",
      "metadata": {
        "id": "YZgcBBP4Q2GC"
      },
      "source": [
        "y_train = df['type'].values.reshape(-1,1)\n",
        "x_train = df['quality'].values.reshape(-1,1)"
      ],
      "execution_count": 26,
      "outputs": []
    },
    {
      "cell_type": "code",
      "metadata": {
        "id": "RLLi0PAnQQ7M",
        "colab": {
          "base_uri": "https://localhost:8080/"
        },
        "outputId": "29425af5-a83c-422a-af16-f5c077be4867"
      },
      "source": [
        "# train a logistic regression model on the training set\n",
        "from sklearn.linear_model import LogisticRegression\n",
        "\n",
        "# instantiate model\n",
        "logreg = LogisticRegression()\n",
        "\n",
        "# fit model\n",
        "logreg.fit(x_train, y_train)"
      ],
      "execution_count": 27,
      "outputs": [
        {
          "output_type": "stream",
          "name": "stderr",
          "text": [
            "/usr/local/lib/python3.7/dist-packages/sklearn/utils/validation.py:993: DataConversionWarning: A column-vector y was passed when a 1d array was expected. Please change the shape of y to (n_samples, ), for example using ravel().\n",
            "  y = column_or_1d(y, warn=True)\n"
          ]
        },
        {
          "output_type": "execute_result",
          "data": {
            "text/plain": [
              "LogisticRegression()"
            ]
          },
          "metadata": {},
          "execution_count": 27
        }
      ]
    },
    {
      "cell_type": "code",
      "metadata": {
        "id": "2yM5sI5_RIJc"
      },
      "source": [
        "# make class predictions for the testing set\n",
        "y_pred_class = logreg.predict(x_train)"
      ],
      "execution_count": 28,
      "outputs": []
    },
    {
      "cell_type": "code",
      "metadata": {
        "id": "qB2CPVCvRLqF",
        "colab": {
          "base_uri": "https://localhost:8080/"
        },
        "outputId": "dc1d1579-2aa3-427d-b56a-caed0b620f90"
      },
      "source": [
        "# calculate accuracy\n",
        "from sklearn import metrics\n",
        "print(metrics.accuracy_score(y_train, y_pred_class))"
      ],
      "execution_count": 29,
      "outputs": [
        {
          "output_type": "stream",
          "name": "stdout",
          "text": [
            "0.7538864091118977\n"
          ]
        }
      ]
    },
    {
      "cell_type": "markdown",
      "metadata": {
        "id": "bbXhulIfQBwc"
      },
      "source": [
        "### 1.3.3 Beyond a single input feature\n",
        "\n",
        "(_also: quick appreciative beat for folding in domain area expertise into our models and features_)"
      ]
    },
    {
      "cell_type": "markdown",
      "metadata": {
        "id": "tizRPJ_GQBwc"
      },
      "source": [
        "The **acidity** of the wine (the dependent variable v) could depend on:\n",
        "\n",
        "* potassium from the soil (increases alkalinity)\n",
        "* unripe grapes (increases acidity)\n",
        "* grapes grown in colder climates or reduced sunshine create less sugar (increases acidity)\n",
        "* preprocessing such as adding tartaric acid to the grape juice before fermentation (increases acidity)\n",
        "* malolactic fermentation (reduces acidity)\n",
        "* \\+ others\n",
        "\n",
        "So in our lab today we will look at folding in additional variables in our dataset into the model\n",
        "<hr style=\"border:1px solid grey\"> </hr>\n"
      ]
    },
    {
      "cell_type": "markdown",
      "metadata": {
        "id": "UmZ5TyuBQBwc"
      },
      "source": [
        "## 1.4 Multivariate regression"
      ]
    },
    {
      "cell_type": "markdown",
      "metadata": {
        "id": "9BfuJFk4QBwc"
      },
      "source": [
        "Let's now turn our attention to wine quality.\n",
        "\n",
        "The value we aim to predict or evaluate is the quality of each wine in our dataset. This is our dependent variable. We will look at how this is related to the 12 other independent variables, also known as *input features*. We're going to do this with only the red wine data"
      ]
    },
    {
      "cell_type": "code",
      "metadata": {
        "id": "pufA3ZJmZcim",
        "colab": {
          "base_uri": "https://localhost:8080/",
          "height": 206
        },
        "outputId": "0a42c265-7471-44d5-99a8-7290c8edd93b"
      },
      "source": [
        "red.head()"
      ],
      "execution_count": 30,
      "outputs": [
        {
          "output_type": "execute_result",
          "data": {
            "text/html": [
              "\n",
              "  <div id=\"df-12063645-1ba0-454e-be0b-dce1a4f9f532\">\n",
              "    <div class=\"colab-df-container\">\n",
              "      <div>\n",
              "<style scoped>\n",
              "    .dataframe tbody tr th:only-of-type {\n",
              "        vertical-align: middle;\n",
              "    }\n",
              "\n",
              "    .dataframe tbody tr th {\n",
              "        vertical-align: top;\n",
              "    }\n",
              "\n",
              "    .dataframe thead th {\n",
              "        text-align: right;\n",
              "    }\n",
              "</style>\n",
              "<table border=\"1\" class=\"dataframe\">\n",
              "  <thead>\n",
              "    <tr style=\"text-align: right;\">\n",
              "      <th></th>\n",
              "      <th>type</th>\n",
              "      <th>fixed acidity</th>\n",
              "      <th>volatile acidity</th>\n",
              "      <th>citric acid</th>\n",
              "      <th>residual sugar</th>\n",
              "      <th>chlorides</th>\n",
              "      <th>free sulfur dioxide</th>\n",
              "      <th>total sulfur dioxide</th>\n",
              "      <th>density</th>\n",
              "      <th>pH</th>\n",
              "      <th>sulphates</th>\n",
              "      <th>alcohol</th>\n",
              "      <th>quality</th>\n",
              "    </tr>\n",
              "  </thead>\n",
              "  <tbody>\n",
              "    <tr>\n",
              "      <th>4898</th>\n",
              "      <td>red</td>\n",
              "      <td>7.4</td>\n",
              "      <td>0.70</td>\n",
              "      <td>0.00</td>\n",
              "      <td>1.9</td>\n",
              "      <td>0.076</td>\n",
              "      <td>11.0</td>\n",
              "      <td>34.0</td>\n",
              "      <td>0.9978</td>\n",
              "      <td>3.51</td>\n",
              "      <td>0.56</td>\n",
              "      <td>9.4</td>\n",
              "      <td>5</td>\n",
              "    </tr>\n",
              "    <tr>\n",
              "      <th>4899</th>\n",
              "      <td>red</td>\n",
              "      <td>7.8</td>\n",
              "      <td>0.88</td>\n",
              "      <td>0.00</td>\n",
              "      <td>2.6</td>\n",
              "      <td>0.098</td>\n",
              "      <td>25.0</td>\n",
              "      <td>67.0</td>\n",
              "      <td>0.9968</td>\n",
              "      <td>3.20</td>\n",
              "      <td>0.68</td>\n",
              "      <td>9.8</td>\n",
              "      <td>5</td>\n",
              "    </tr>\n",
              "    <tr>\n",
              "      <th>4900</th>\n",
              "      <td>red</td>\n",
              "      <td>7.8</td>\n",
              "      <td>0.76</td>\n",
              "      <td>0.04</td>\n",
              "      <td>2.3</td>\n",
              "      <td>0.092</td>\n",
              "      <td>15.0</td>\n",
              "      <td>54.0</td>\n",
              "      <td>0.9970</td>\n",
              "      <td>3.26</td>\n",
              "      <td>0.65</td>\n",
              "      <td>9.8</td>\n",
              "      <td>5</td>\n",
              "    </tr>\n",
              "    <tr>\n",
              "      <th>4901</th>\n",
              "      <td>red</td>\n",
              "      <td>11.2</td>\n",
              "      <td>0.28</td>\n",
              "      <td>0.56</td>\n",
              "      <td>1.9</td>\n",
              "      <td>0.075</td>\n",
              "      <td>17.0</td>\n",
              "      <td>60.0</td>\n",
              "      <td>0.9980</td>\n",
              "      <td>3.16</td>\n",
              "      <td>0.58</td>\n",
              "      <td>9.8</td>\n",
              "      <td>6</td>\n",
              "    </tr>\n",
              "    <tr>\n",
              "      <th>4902</th>\n",
              "      <td>red</td>\n",
              "      <td>7.4</td>\n",
              "      <td>0.70</td>\n",
              "      <td>0.00</td>\n",
              "      <td>1.9</td>\n",
              "      <td>0.076</td>\n",
              "      <td>11.0</td>\n",
              "      <td>34.0</td>\n",
              "      <td>0.9978</td>\n",
              "      <td>3.51</td>\n",
              "      <td>0.56</td>\n",
              "      <td>9.4</td>\n",
              "      <td>5</td>\n",
              "    </tr>\n",
              "  </tbody>\n",
              "</table>\n",
              "</div>\n",
              "      <button class=\"colab-df-convert\" onclick=\"convertToInteractive('df-12063645-1ba0-454e-be0b-dce1a4f9f532')\"\n",
              "              title=\"Convert this dataframe to an interactive table.\"\n",
              "              style=\"display:none;\">\n",
              "        \n",
              "  <svg xmlns=\"http://www.w3.org/2000/svg\" height=\"24px\"viewBox=\"0 0 24 24\"\n",
              "       width=\"24px\">\n",
              "    <path d=\"M0 0h24v24H0V0z\" fill=\"none\"/>\n",
              "    <path d=\"M18.56 5.44l.94 2.06.94-2.06 2.06-.94-2.06-.94-.94-2.06-.94 2.06-2.06.94zm-11 1L8.5 8.5l.94-2.06 2.06-.94-2.06-.94L8.5 2.5l-.94 2.06-2.06.94zm10 10l.94 2.06.94-2.06 2.06-.94-2.06-.94-.94-2.06-.94 2.06-2.06.94z\"/><path d=\"M17.41 7.96l-1.37-1.37c-.4-.4-.92-.59-1.43-.59-.52 0-1.04.2-1.43.59L10.3 9.45l-7.72 7.72c-.78.78-.78 2.05 0 2.83L4 21.41c.39.39.9.59 1.41.59.51 0 1.02-.2 1.41-.59l7.78-7.78 2.81-2.81c.8-.78.8-2.07 0-2.86zM5.41 20L4 18.59l7.72-7.72 1.47 1.35L5.41 20z\"/>\n",
              "  </svg>\n",
              "      </button>\n",
              "      \n",
              "  <style>\n",
              "    .colab-df-container {\n",
              "      display:flex;\n",
              "      flex-wrap:wrap;\n",
              "      gap: 12px;\n",
              "    }\n",
              "\n",
              "    .colab-df-convert {\n",
              "      background-color: #E8F0FE;\n",
              "      border: none;\n",
              "      border-radius: 50%;\n",
              "      cursor: pointer;\n",
              "      display: none;\n",
              "      fill: #1967D2;\n",
              "      height: 32px;\n",
              "      padding: 0 0 0 0;\n",
              "      width: 32px;\n",
              "    }\n",
              "\n",
              "    .colab-df-convert:hover {\n",
              "      background-color: #E2EBFA;\n",
              "      box-shadow: 0px 1px 2px rgba(60, 64, 67, 0.3), 0px 1px 3px 1px rgba(60, 64, 67, 0.15);\n",
              "      fill: #174EA6;\n",
              "    }\n",
              "\n",
              "    [theme=dark] .colab-df-convert {\n",
              "      background-color: #3B4455;\n",
              "      fill: #D2E3FC;\n",
              "    }\n",
              "\n",
              "    [theme=dark] .colab-df-convert:hover {\n",
              "      background-color: #434B5C;\n",
              "      box-shadow: 0px 1px 3px 1px rgba(0, 0, 0, 0.15);\n",
              "      filter: drop-shadow(0px 1px 2px rgba(0, 0, 0, 0.3));\n",
              "      fill: #FFFFFF;\n",
              "    }\n",
              "  </style>\n",
              "\n",
              "      <script>\n",
              "        const buttonEl =\n",
              "          document.querySelector('#df-12063645-1ba0-454e-be0b-dce1a4f9f532 button.colab-df-convert');\n",
              "        buttonEl.style.display =\n",
              "          google.colab.kernel.accessAllowed ? 'block' : 'none';\n",
              "\n",
              "        async function convertToInteractive(key) {\n",
              "          const element = document.querySelector('#df-12063645-1ba0-454e-be0b-dce1a4f9f532');\n",
              "          const dataTable =\n",
              "            await google.colab.kernel.invokeFunction('convertToInteractive',\n",
              "                                                     [key], {});\n",
              "          if (!dataTable) return;\n",
              "\n",
              "          const docLinkHtml = 'Like what you see? Visit the ' +\n",
              "            '<a target=\"_blank\" href=https://colab.research.google.com/notebooks/data_table.ipynb>data table notebook</a>'\n",
              "            + ' to learn more about interactive tables.';\n",
              "          element.innerHTML = '';\n",
              "          dataTable['output_type'] = 'display_data';\n",
              "          await google.colab.output.renderOutput(dataTable, element);\n",
              "          const docLink = document.createElement('div');\n",
              "          docLink.innerHTML = docLinkHtml;\n",
              "          element.appendChild(docLink);\n",
              "        }\n",
              "      </script>\n",
              "    </div>\n",
              "  </div>\n",
              "  "
            ],
            "text/plain": [
              "     type  fixed acidity  volatile acidity  ...  sulphates  alcohol  quality\n",
              "4898  red            7.4              0.70  ...       0.56      9.4        5\n",
              "4899  red            7.8              0.88  ...       0.68      9.8        5\n",
              "4900  red            7.8              0.76  ...       0.65      9.8        5\n",
              "4901  red           11.2              0.28  ...       0.58      9.8        6\n",
              "4902  red            7.4              0.70  ...       0.56      9.4        5\n",
              "\n",
              "[5 rows x 13 columns]"
            ]
          },
          "metadata": {},
          "execution_count": 30
        }
      ]
    },
    {
      "cell_type": "markdown",
      "metadata": {
        "id": "v0gFPI5jQBwc"
      },
      "source": [
        "### 1.4.1 Linear regression with all input fields\n",
        "\n",
        "For this example, notice we have a categorical data variable in the 'type' column. We will ignore this for now, and only work with our red wines. In the future we will discuss how to deal with categorical variable such as this in a mathematical representation."
      ]
    },
    {
      "cell_type": "code",
      "metadata": {
        "id": "pTMH3DRYS5_l"
      },
      "source": [
        "# this is a list of all our features or independent variables\n",
        "features = list(red.columns[1:])\n",
        "\n",
        "# we're going to remove our target or dependent variable, density from this\n",
        "# list\n",
        "features.remove('density')\n",
        "\n",
        "# now we define X and y according to these lists of names\n",
        "X = red.dropna(axis=0)[features].values\n",
        "y = red.dropna(axis=0)['density'].values"
      ],
      "execution_count": null,
      "outputs": []
    },
    {
      "cell_type": "code",
      "metadata": {
        "id": "WpwHenyba1tC"
      },
      "source": [
        "red.isnull().sum(axis=0) # we are getting rid of some nasty nulls!"
      ],
      "execution_count": null,
      "outputs": []
    },
    {
      "cell_type": "markdown",
      "metadata": {
        "id": "PFQLm9NKAA5k"
      },
      "source": [
        "\n",
        "\n",
        "```\n",
        "# Create linear regression object - note that we are using all the input features\n",
        "model = linear_model.LinearRegression()\n",
        "model.fit(X, y)\n",
        "y_calc = model.predict(X)\n",
        "```\n",
        "\n"
      ]
    },
    {
      "cell_type": "code",
      "metadata": {
        "id": "PGb0rkrUQBwc"
      },
      "source": [
        "# Create linear regression object - note that we are using all the input features\n",
        "model = linear_model.LinearRegression()\n",
        "model.fit(X, y)\n",
        "y_calc = model.predict(X)"
      ],
      "execution_count": null,
      "outputs": []
    },
    {
      "cell_type": "markdown",
      "metadata": {
        "id": "DCrrNd-MQBwc"
      },
      "source": [
        "Let's see what the coefficients look like ... \n",
        "\n",
        "```\n",
        "print(\"Fit coefficients: \\n\", model.coef_, \"\\nNumber of coefficients:\", len(model.coef_))\n",
        "```"
      ]
    },
    {
      "cell_type": "code",
      "metadata": {
        "id": "JwVVXevBQBwd"
      },
      "source": [
        "print(\"Fit coefficients: \\n\", model.coef_, \"\\nNumber of coefficients:\", len(model.coef_))"
      ],
      "execution_count": null,
      "outputs": []
    },
    {
      "cell_type": "markdown",
      "metadata": {
        "id": "oMOoVRCnQBwd"
      },
      "source": [
        "We have 11 !!! That's because we are regressing respect to all **11 independent variables**!!!\n",
        "\n",
        "So now, $$y_{\\sf calc}= m_1x_1 +\\, m_2x_2 \\,+ \\,m_3x_3 \\,+\\,... \\,+ \\,b =\\sum_{i=1}^{13}m_i x_i + b\\;\\;\\;\\;\\; \\sf eq. 7$$\n",
        "\n",
        "```\n",
        "print(\"We have 13 slopes / weights:\\n\\n\", model.coef_)\n",
        "print(\"\\nAnd one intercept: \", model.intercept_)\n",
        "```"
      ]
    },
    {
      "cell_type": "code",
      "metadata": {
        "id": "0MjMu6ZHQBwd"
      },
      "source": [
        "print(\"We have 11 slopes / weights:\\n\\n\", model.coef_)\n",
        "print(\"\\nAnd one intercept: \", model.intercept_)"
      ],
      "execution_count": null,
      "outputs": []
    },
    {
      "cell_type": "markdown",
      "metadata": {
        "id": "g38n0LYrASjb"
      },
      "source": [
        "```\n",
        "# This size should match the number of columns in X\n",
        "if len(X[0]) == len(model.coef_):\n",
        "    print(\"All good! The number of coefficients matches the number of input features.\")\n",
        "else:\n",
        "    print(\"Hmm .. something strange is going on.\")\n",
        "```"
      ]
    },
    {
      "cell_type": "code",
      "metadata": {
        "id": "n3LIvyorQBwd"
      },
      "source": [
        "# This size should match the number of columns in X\n",
        "if len(X[0]) == len(model.coef_):\n",
        "    print(\"All good! The number of coefficients matches the number of input features.\")\n",
        "else:\n",
        "    print(\"Hmm .. something strange is going on.\")"
      ],
      "execution_count": null,
      "outputs": []
    },
    {
      "cell_type": "markdown",
      "metadata": {
        "id": "yKVDvEtMQBwd"
      },
      "source": [
        "### 🏋️ Exercise 4: evaluate the error\n",
        "\n",
        "Let's **evaluate the error** by computing the MSE and \\\\(R^2\\\\) metrics (see eq. 3 and 6).\n",
        "\n",
        "```\n",
        "# The mean squared error\n",
        "\n",
        "# part A \n",
        "# calculate the MSE using mean_squared_error()\n",
        "# mse = \n",
        "\n",
        "# part B\n",
        "# calculate the R square using r2_score()\n",
        "# r2 = \n",
        "\n",
        "print('Mean squared error: {:.2f}'.format(mse)\n",
        "print('Coefficient of determination: {:.2f}'.format(r2)\n",
        "```"
      ]
    },
    {
      "cell_type": "code",
      "metadata": {
        "id": "lpRwoUiGQBwd"
      },
      "source": [
        "# The mean squared error\n",
        "\n",
        "# part A \n",
        "# calculate the MSE using mean_squared_error()\n",
        "# mse = \n",
        "\n",
        "# part B\n",
        "# calculate the R square using r2_score()\n",
        "# r2 = \n",
        "\n",
        "print('Mean squared error: {:.2f}'.format(mse)\n",
        "print('Coefficient of determination: {:.2f}'.format(r2)"
      ],
      "execution_count": null,
      "outputs": []
    },
    {
      "cell_type": "markdown",
      "metadata": {
        "id": "HO-kXJKUQBwd"
      },
      "source": [
        "### 🏋️ Exercise 5: make a plot of y actual vs y predicted\n",
        "\n",
        "We can also look at how well the computed values match the true values graphically by generating a scatterplot.\n",
        "\n",
        "```\n",
        "# generate a plot of y predicted vs y actual using plt.plot()\n",
        "# remember you must set ls to an empty string and marker to some marker style\n",
        "\n",
        "# plt.plot()\n",
        "plt.title(\"Linear regression - computed values on entire data set\", fontsize=16)\n",
        "plt.xlabel(\"y$^{\\sf calc}$\")\n",
        "plt.ylabel(\"y$^{\\sf true}$\")\n",
        "plt.show()\n",
        "```"
      ]
    },
    {
      "cell_type": "code",
      "metadata": {
        "id": "-YbuZYZ9QBwd"
      },
      "source": [
        "# generate a plot of y predicted vs y actual using plt.plot()\n",
        "# remember you must set ls to an empty string and marker to some marker style\n",
        "\n",
        "# plt.plot()\n",
        "plt.title(\"Linear regression - computed values on entire data set\", fontsize=16)\n",
        "plt.xlabel(\"y$^{\\sf calc}$\")\n",
        "plt.ylabel(\"y$^{\\sf true}$\")\n",
        "plt.show()"
      ],
      "execution_count": null,
      "outputs": []
    },
    {
      "cell_type": "markdown",
      "metadata": {
        "id": "2UydCmgrQBwd"
      },
      "source": [
        "### 🍒 1.4.2 **Enrichment**: Splitting into train and test sets\n",
        "\n",
        "To see whether we can predict, we will carry out our regression only on a part, 80%, of the full data set. This part is called the **training** data. We will then test the trained model to predict the rest of the data, 20% - the **test** data. The function which fits won't see the test data until it has to predict it. \n",
        "\n",
        "**We will motivate the use of train/test sets more explicitly in [Model Selection and Validation](https://wesleybeckner.github.io/data_science_foundations/S3_Model_Selection_and_Validation/)**\n",
        "\n",
        "We start by splitting out data using scikit-learn's <code> train_test_split() </code> function:"
      ]
    },
    {
      "cell_type": "markdown",
      "metadata": {
        "id": "RWn0QyYcQBwd"
      },
      "source": [
        "```\n",
        "X_train, X_test, y_train, y_test = train_test_split(X, y, \n",
        "                                                    test_size=0.20,\n",
        "                                                    random_state=42)\n",
        "                                                    ```"
      ]
    },
    {
      "cell_type": "code",
      "metadata": {
        "id": "EDf1TMuKQBwd"
      },
      "source": [
        "X_train, X_test, y_train, y_test = train_test_split(X, y, \n",
        "                                                    test_size=0.20,\n",
        "                                                    random_state=42)"
      ],
      "execution_count": null,
      "outputs": []
    },
    {
      "cell_type": "markdown",
      "metadata": {
        "id": "amGMkkp5QBwd"
      },
      "source": [
        "Now we check the size of <code> y_train </code> and <code> y_test </code>, the sum should be the size of y! If this works then we move on and carry out regression but we only use the training data!\n",
        "\n",
        "```\n",
        "if len(y_test)+len(y_train) == len(y):\n",
        "    \n",
        "    print('All good, ready to to go and regress!\\n')\n",
        "    \n",
        "    # Carry out linear regression\n",
        "    print('Running linear regression algorithm on the training set\\n')\n",
        "    model = linear_model.LinearRegression()\n",
        "    model.fit(X_train, y_train)\n",
        "    print('Fit coefficients and intercept:\\n\\n', model.coef_, '\\n\\n', model.intercept_ )\n",
        "\n",
        "    # Predict on the test set\n",
        "    y_pred_test = model.predict(X_test)\n",
        "```"
      ]
    },
    {
      "cell_type": "code",
      "metadata": {
        "id": "ExHWM4MlQBwd"
      },
      "source": [
        "if len(y_test)+len(y_train) == len(y):\n",
        "    \n",
        "    print('All good, ready to to go and regress!\\n')\n",
        "    \n",
        "    # Carry out linear regression\n",
        "    print('Running linear regression algorithm on the training set\\n')\n",
        "    model = linear_model.LinearRegression()\n",
        "    model.fit(X_train, y_train)\n",
        "    print('Fit coefficients and intercept:\\n\\n', model.coef_, '\\n\\n', model.intercept_ )\n",
        "\n",
        "    # Predict on the test set\n",
        "    y_pred_test = model.predict(X_test)"
      ],
      "execution_count": null,
      "outputs": []
    },
    {
      "cell_type": "markdown",
      "metadata": {
        "id": "Tff8dv_1QBwd"
      },
      "source": [
        "Now we can plot our predicted values to see how accurate we are in predicting. We will generate a scatterplot and computing the MSE and \\\\(R^2\\\\) metrics of error.\n",
        "\n",
        "```\n",
        "sns.scatterplot(x=y_pred_test, y=y_test, color=\"mediumvioletred\", s=50)\n",
        "\n",
        "plt.title(\"Linear regression - predict test set\", fontsize=16)\n",
        "plt.xlabel(\"y$^{\\sf calc}$\")\n",
        "plt.ylabel(\"y$^{\\sf true}$\")\n",
        "plt.show()\n",
        "\n",
        "print('Mean squared error: %.2f' % mean_squared_error(y_test, y_pred_test))\n",
        "print('Coefficient of determination: %.2f' % r2_score(y_test, y_pred_test))\n",
        "```"
      ]
    },
    {
      "cell_type": "code",
      "metadata": {
        "id": "TqWNcQcHQBwd"
      },
      "source": [
        "sns.scatterplot(x=y_pred_test, y=y_test, color=\"mediumvioletred\", s=50)\n",
        "\n",
        "plt.title(\"Linear regression - predict test set\", fontsize=16)\n",
        "plt.xlabel(\"y$^{\\sf calc}$\")\n",
        "plt.ylabel(\"y$^{\\sf true}$\")\n",
        "plt.show()\n",
        "\n",
        "print('Mean squared error: %.2f' % mean_squared_error(y_test, y_pred_test))\n",
        "print('Coefficient of determination: %.2f' % r2_score(y_test, y_pred_test))"
      ],
      "execution_count": null,
      "outputs": []
    },
    {
      "cell_type": "markdown",
      "metadata": {
        "id": "Ri5ILlZqQBwd"
      },
      "source": [
        "#### 1.4.2.1 Other data considerations\n",
        "\n",
        "* Do we need all the independent variables? \n",
        "  * Topics of interential statistics covered in a couple sessions\n",
        "\n",
        "* Can we output integer quality scores? \n",
        "  * Topics of non-binary classification tasks covered in week 4"
      ]
    },
    {
      "cell_type": "markdown",
      "metadata": {
        "id": "_9cvFD6vQBwe"
      },
      "source": [
        "### 🍒 1.4.3 **Enrichment**: Other regression algorithms"
      ]
    },
    {
      "cell_type": "markdown",
      "metadata": {
        "id": "etYVqBBjQBwe"
      },
      "source": [
        "There are many other regression algorithms the two we want to highlight here are Ridge, LASSO, and Elastic Net. They differ by an added term to the loss function. Let's review. Eq. 2 expanded to multivariate form yields:\n",
        "\n",
        "$$\\sum_{i=1}^{N}(y_i - \\sum_{j=1}^{P}x_{ij}\\beta_{j})^2$$\n",
        "\n",
        "for Ridge regression, we add a **_regularization_** term known as **_L2_** regularization:\n",
        "\n",
        "$$\\sum_{i=1}^{N}(y_i - \\sum_{j=1}^{P}x_{ij}\\beta_{j})^2 + \\lambda \\sum_{j=1}^{P}\\beta_{j}^2$$\n",
        "\n",
        "for **_LASSO_** (Least Absolute Shrinkage and Selection Operator) we add **_L1_** regularization:\n",
        "\n",
        "$$\\sum_{i=1}^{N}(y_i - \\sum_{j=1}^{P}x_{ij}\\beta_{j})^2 + \\lambda \\sum_{j=1}^{P}|\\beta_{j}|$$\n",
        "\n",
        "The key difference here is that LASSO will allow coefficients to shrink to 0 while Ridge regression will not. **_Elastic Net_** is a combination of these two regularization methods."
      ]
    },
    {
      "cell_type": "markdown",
      "metadata": {
        "id": "xCUJPE3UdU_J"
      },
      "source": [
        "\n",
        "```\n",
        "model = linear_model.Ridge()\n",
        "model.fit(X_train, y_train)\n",
        "print('Fit coefficients and intercept:\\n\\n', model.coef_, '\\n\\n', model.intercept_ )\n",
        "\n",
        "# Predict on the test set\n",
        "y_calc_test = model.predict(X_test)\n",
        "```"
      ]
    },
    {
      "cell_type": "code",
      "metadata": {
        "id": "cHZfKBeiQBwe"
      },
      "source": [
        "model = linear_model.Ridge()\n",
        "model.fit(X_train, y_train)\n",
        "print('Fit coefficients and intercept:\\n\\n', model.coef_, '\\n\\n', model.intercept_ )\n",
        "\n",
        "# Predict on the test set\n",
        "y_calc_test = model.predict(X_test)"
      ],
      "execution_count": null,
      "outputs": []
    },
    {
      "cell_type": "markdown",
      "metadata": {
        "id": "UCG8yK1yAmbr"
      },
      "source": [
        "```\n",
        "sns.scatterplot(x=y_calc_test, y=y_test, color=\"lightseagreen\", s=50)\n",
        "plt.title(\"Ridge regression - predict test set\",fontsize=16)\n",
        "plt.xlabel(\"y$^{\\sf calc}$\")\n",
        "plt.ylabel(\"y$^{\\sf true}$\")\n",
        "plt.show()\n",
        "\n",
        "print('Mean squared error: %.2f' % mean_squared_error(y_test, y_calc_test))\n",
        "print('Coefficient of determination: %.2f' % r2_score(y_test, y_calc_test))\n",
        "```"
      ]
    },
    {
      "cell_type": "code",
      "metadata": {
        "id": "msFDf3JVQBwe"
      },
      "source": [
        "sns.scatterplot(x=y_calc_test, y=y_test, color=\"lightseagreen\", s=50)\n",
        "plt.title(\"Ridge regression - predict test set\",fontsize=16)\n",
        "plt.xlabel(\"y$^{\\sf calc}$\")\n",
        "plt.ylabel(\"y$^{\\sf true}$\")\n",
        "plt.show()\n",
        "\n",
        "print('Mean squared error: %.2f' % mean_squared_error(y_test, y_calc_test))\n",
        "print('Coefficient of determination: %.2f' % r2_score(y_test, y_calc_test))"
      ],
      "execution_count": null,
      "outputs": []
    },
    {
      "cell_type": "markdown",
      "metadata": {
        "id": "1Y6LNo8JkQVi"
      },
      "source": [
        "#### 🏋️ Exercise 6: Tune Hyperparameter for Ridge Regression\n",
        "\n",
        "Use the docstring to peak into the hyperparameters for Ridge Regression. What is the optimal value of lambda?\n",
        "\n",
        "Plot the \\\\(\\beta\\\\) values vs \\\\(\\lambda\\\\) from the results of your analysis"
      ]
    },
    {
      "cell_type": "code",
      "metadata": {
        "id": "lK96ESEYkP1j"
      },
      "source": [
        "# cell for exercise 3\n",
        "out_lambdas = []\n",
        "out_coefs = []\n",
        "out_scores = []\n",
        "for i in range(10):\n",
        "  lambdas = []\n",
        "  coefs = []\n",
        "  scores = []\n",
        "  X_train, X_test, y_train, y_test = train_test_split(X, y, \n",
        "                                                    test_size=0.20)\n",
        "  for lamb in range(1,110):\n",
        "    model = linear_model.Ridge(alpha=lamb/50, normalize=True)\n",
        "    model.fit(X_train, y_train)\n",
        "    lambdas.append(lamb)\n",
        "    coefs.append(model.coef_)\n",
        "    scores.append(r2_score(y_test, model.predict(X_test)))\n",
        "    # print('MSE: %.4f' % mean_squared_error(y_test, model.predict(X_test)))\n",
        "    # print('R2: %.4f' % r2_score(y_test, model.predict(X_test)))\n",
        "  out_lambdas.append(lambdas)\n",
        "  out_coefs.append(coefs)\n",
        "  out_scores.append(scores)"
      ],
      "execution_count": null,
      "outputs": []
    },
    {
      "cell_type": "code",
      "metadata": {
        "id": "RcDdX2z43fPk"
      },
      "source": [
        "coef_means = np.array(out_coefs).mean(axis=0)\n",
        "coef_stds = np.array(out_coefs).std(axis=0)\n",
        "results_means = pd.DataFrame(coef_means,columns=features)\n",
        "results_stds = pd.DataFrame(coef_stds,columns=features)\n",
        "results_means['lambda'] = [i/50 for i in lambdas]"
      ],
      "execution_count": null,
      "outputs": []
    },
    {
      "cell_type": "code",
      "metadata": {
        "id": "KMbPj2VI34nU"
      },
      "source": [
        "fig, ax = plt.subplots(1,1,figsize=(10,10))\n",
        "for feat in features:\n",
        "  ax.errorbar([i/50 for i in lambdas], results_means[feat], yerr=results_stds[feat], label=feat)\n",
        "# results.plot('lambda', 'scores', ax=ax[1])\n",
        "ax.legend()"
      ],
      "execution_count": null,
      "outputs": []
    },
    {
      "cell_type": "code",
      "metadata": {
        "id": "POaQWUe81qeS"
      },
      "source": [
        "results = pd.DataFrame(coefs,columns=features)\n",
        "results['lambda'] = [i/50 for i in lambdas]\n",
        "results['scores'] = scores"
      ],
      "execution_count": null,
      "outputs": []
    },
    {
      "cell_type": "code",
      "metadata": {
        "id": "moAZCEhj1jPD"
      },
      "source": [
        "fig, ax = plt.subplots(1,2,figsize=(10,5))\n",
        "for feat in features:\n",
        "  results.plot('lambda', feat, ax=ax[0])\n",
        "results.plot('lambda', 'scores', ax=ax[1])"
      ],
      "execution_count": null,
      "outputs": []
    },
    {
      "cell_type": "markdown",
      "metadata": {
        "id": "zno7Go9pQBwe"
      },
      "source": [
        "## 🍒 1.5 **Enrichment**: Additional Regression Exercises\n"
      ]
    },
    {
      "cell_type": "markdown",
      "metadata": {
        "id": "zD4arbEoQBwe"
      },
      "source": [
        "### Problem 1) Number and choice of input features\n",
        "\n",
        "* Load the red wine dataset and evaluate how the linear regression predictions changes as you change the **number and choice of input features**. The total number of columns in X  is 11 and each column represent a specific input feature. \n",
        "\n",
        "* Estimate the MSE\n",
        "```\n",
        "print(X_train.shape)\n",
        "```"
      ]
    },
    {
      "cell_type": "code",
      "metadata": {
        "id": "h2ICebfcQBwe"
      },
      "source": [
        "print(X_train.shape)"
      ],
      "execution_count": null,
      "outputs": []
    },
    {
      "cell_type": "markdown",
      "metadata": {
        "id": "RLn81xNxQBwe"
      },
      "source": [
        "If you want to use the first 5 features you could proceed as following:\n",
        "\n",
        "```\n",
        "X_train_five = X_train[:,0:5]\n",
        "X_test_five = X_test[:,0:5]\n",
        "```"
      ]
    },
    {
      "cell_type": "code",
      "metadata": {
        "id": "Xf9x-TLKQBwe"
      },
      "source": [
        "X_train_five = X_train[:,0:5]\n",
        "X_test_five = X_test[:,0:5]"
      ],
      "execution_count": null,
      "outputs": []
    },
    {
      "cell_type": "markdown",
      "metadata": {
        "id": "sD92DqDIQBwe"
      },
      "source": [
        "Check that the new variables have the shape your expect\n",
        "\n",
        "```\n",
        "print(X_train_five.shape)\n",
        "print(X_test_five.shape)\n",
        "```"
      ]
    },
    {
      "cell_type": "code",
      "metadata": {
        "id": "mQx4hjiHQBwe"
      },
      "source": [
        "print(X_train_five.shape)\n",
        "print(X_test_five.shape)"
      ],
      "execution_count": null,
      "outputs": []
    },
    {
      "cell_type": "markdown",
      "metadata": {
        "id": "acc0Ec-GQBwe"
      },
      "source": [
        "Now you can use these to train your linear regression model and repeat for different numbers or sets of input features! Note that you do not need to change the output feature! It's size is independent from the number of input features, yet recall that its length is the same as the number of values per input feature."
      ]
    },
    {
      "cell_type": "markdown",
      "metadata": {
        "id": "LVImG8v5QBwe"
      },
      "source": [
        "Questions to think about while you work on this problem\n",
        "- How many input feature variables does one need? Is there a maximum or minimum number? \n",
        "- Could one input feature variable be better than the rest?\n",
        "- What if values are missing for one of the input feature variables - is it still worth using it?\n",
        "- Can you use **_L1_** or **_L2_** to determine these optimum features more quickly?"
      ]
    },
    {
      "cell_type": "markdown",
      "metadata": {
        "id": "-ZxX8WJiQBwe"
      },
      "source": [
        "### Problem 2) Type of regression algorithm\n"
      ]
    },
    {
      "cell_type": "markdown",
      "metadata": {
        "id": "BeV8J102QBwe"
      },
      "source": [
        "Try using other types of linear regression methods on the wine dataset: the LASSO model and the Elastic net model which are described by the \n",
        "\n",
        "<code > sklearn.linear_model.ElasticNet() </code> <br>\n",
        "<code > sklearn.linear_model.Lasso() </code>\n",
        "\n",
        "scikit-learn functions.\n",
        "\n",
        "For more detail see [ElasticNet](https://scikit-learn.org/stable/modules/generated/sklearn.linear_model.ElasticNet.html#sklearn.linear_model.ElasticNet) and [Lasso](  https://scikit-learn.org/stable/modules/generated/sklearn.linear_model.Lasso.html#sklearn.linear_model.Lasso)."
      ]
    },
    {
      "cell_type": "markdown",
      "metadata": {
        "id": "BlFPAeTHQBwe"
      },
      "source": [
        "Questions to think about while you work on this problem\n",
        "- How does the error change with each model?\n",
        "- Which model seems to perform best?\n",
        "- How can you optimize the hyperparameter, \\\\(\\lambda\\\\)\n",
        "- Does one model do better than the other at determining which input features are more important?\n",
        "- How about non linear regression / what if the data does not follow a line?\n",
        "- How do the bias and variance change for each model"
      ]
    },
    {
      "cell_type": "code",
      "metadata": {
        "id": "wrIdCkmrX-tN"
      },
      "source": [
        "from sklearn.linear_model import ElasticNet\n",
        "from sklearn.linear_model import Lasso\n",
        "from sklearn.linear_model import Ridge\n",
        "from sklearn.linear_model import LinearRegression"
      ],
      "execution_count": null,
      "outputs": []
    },
    {
      "cell_type": "code",
      "metadata": {
        "id": "u1BTeOCJY3z1"
      },
      "source": [
        "for model in [ElasticNet, Lasso, Ridge, LinearRegression]:\n",
        "  model = model()\n",
        "  model.fit(X_train, y_train)\n",
        "  print('Mean squared error: %.2f' % mean_squared_error(y_test, model.predict(X_test)))\n",
        "  print('Coefficient of determination: %.2f' % r2_score(y_test, model.predict(X_test)))"
      ],
      "execution_count": null,
      "outputs": []
    },
    {
      "cell_type": "markdown",
      "metadata": {
        "id": "rfEP3u6mQBwe"
      },
      "source": [
        "<hr style=\"border:1px solid grey\"> </hr>"
      ]
    },
    {
      "cell_type": "markdown",
      "metadata": {
        "id": "2CJ1j1KcQBwe"
      },
      "source": [
        "# References"
      ]
    },
    {
      "cell_type": "markdown",
      "metadata": {
        "id": "cuQ-DIbZQBwe"
      },
      "source": [
        "* **Linear Regression**\n",
        "To find out more see [simple linear regression](https://en.wikipedia.org/wiki/Simple_linear_regression)\n",
        "\n",
        "* **scikit-learn**\n",
        "    * [Scikit-learn](https://scikit-learn.org/stable/)\n",
        "    * [Linear regression in scikit-learn](https://scikit-learn.org/stable/modules/generated/sklearn.linear_model.LinearRegression.html)\n",
        "    * [Metrics of error](https://scikit-learn.org/stable/modules/model_evaluation.html)\n",
        "    * [The Boston dataset](https://scikit-learn.org/stable/datasets/index.html#boston-dataset)\n",
        "\n",
        "* **Pearson correlation**\n",
        "To find out more see [pearson](https://en.wikipedia.org/wiki/Pearson_correlation_coefficient)\n",
        "\n",
        "* **Irreducible error, bias and variance**\n",
        "    * Great Coursera videos [here](https://www.coursera.org/lecture/ml-regression/irreducible-error-and-bias-qlMrZ)\n",
        "and [here](https://www.coursera.org/lecture/ml-regression/variance-and-the-bias-variance-tradeoff-ZvP40)\n"
      ]
    }
  ]
}