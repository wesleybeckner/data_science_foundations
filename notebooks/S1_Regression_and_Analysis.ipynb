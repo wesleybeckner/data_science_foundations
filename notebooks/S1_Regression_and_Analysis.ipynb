{
  "nbformat": 4,
  "nbformat_minor": 0,
  "metadata": {
    "colab": {
      "name": "S1_Regression_and_Analysis.ipynb",
      "provenance": [],
      "collapsed_sections": [],
      "toc_visible": true,
      "include_colab_link": true
    },
    "kernelspec": {
      "name": "python3",
      "display_name": "Python 3"
    },
    "language_info": {
      "name": "python"
    },
    "widgets": {
      "application/vnd.jupyter.widget-state+json": {
        "354a0d58aaa14173bc76fd2efe09bc63": {
          "model_module": "@jupyter-widgets/controls",
          "model_name": "VBoxModel",
          "model_module_version": "1.5.0",
          "state": {
            "_view_name": "VBoxView",
            "_dom_classes": [
              "widget-interact"
            ],
            "_model_name": "VBoxModel",
            "_view_module": "@jupyter-widgets/controls",
            "_model_module_version": "1.5.0",
            "_view_count": null,
            "_view_module_version": "1.5.0",
            "box_style": "",
            "layout": "IPY_MODEL_fed64b8851ef4ce8816962c7db22c84a",
            "_model_module": "@jupyter-widgets/controls",
            "children": [
              "IPY_MODEL_66d216e013164aee8ea8fe7fb465d323",
              "IPY_MODEL_e39dc67726ef4f39b8c1b3d13afc1cb3"
            ]
          }
        },
        "fed64b8851ef4ce8816962c7db22c84a": {
          "model_module": "@jupyter-widgets/base",
          "model_name": "LayoutModel",
          "model_module_version": "1.2.0",
          "state": {
            "_view_name": "LayoutView",
            "grid_template_rows": null,
            "right": null,
            "justify_content": null,
            "_view_module": "@jupyter-widgets/base",
            "overflow": null,
            "_model_module_version": "1.2.0",
            "_view_count": null,
            "flex_flow": null,
            "width": null,
            "min_width": null,
            "border": null,
            "align_items": null,
            "bottom": null,
            "_model_module": "@jupyter-widgets/base",
            "top": null,
            "grid_column": null,
            "overflow_y": null,
            "overflow_x": null,
            "grid_auto_flow": null,
            "grid_area": null,
            "grid_template_columns": null,
            "flex": null,
            "_model_name": "LayoutModel",
            "justify_items": null,
            "grid_row": null,
            "max_height": null,
            "align_content": null,
            "visibility": null,
            "align_self": null,
            "height": null,
            "min_height": null,
            "padding": null,
            "grid_auto_rows": null,
            "grid_gap": null,
            "max_width": null,
            "order": null,
            "_view_module_version": "1.2.0",
            "grid_template_areas": null,
            "object_position": null,
            "object_fit": null,
            "grid_auto_columns": null,
            "margin": null,
            "display": null,
            "left": null
          }
        },
        "66d216e013164aee8ea8fe7fb465d323": {
          "model_module": "@jupyter-widgets/controls",
          "model_name": "DropdownModel",
          "model_module_version": "1.5.0",
          "state": {
            "_options_labels": [
              "skew",
              "kurtosis",
              "pearsons _quality",
              "null count",
              "median",
              "mean"
            ],
            "_view_name": "DropdownView",
            "style": "IPY_MODEL_d2b5020b09e94a7d91d294925bcda621",
            "_dom_classes": [],
            "description": "metric",
            "_model_name": "DropdownModel",
            "index": 1,
            "_view_module": "@jupyter-widgets/controls",
            "_model_module_version": "1.5.0",
            "_view_count": null,
            "disabled": false,
            "_view_module_version": "1.5.0",
            "description_tooltip": null,
            "_model_module": "@jupyter-widgets/controls",
            "layout": "IPY_MODEL_09614a1f868f42d890918ac41b59c876"
          }
        },
        "e39dc67726ef4f39b8c1b3d13afc1cb3": {
          "model_module": "@jupyter-widgets/output",
          "model_name": "OutputModel",
          "model_module_version": "1.0.0",
          "state": {
            "_view_name": "OutputView",
            "msg_id": "",
            "_dom_classes": [],
            "_model_name": "OutputModel",
            "outputs": [
              {
                "output_type": "display_data",
                "data": {
                  "image/png": "iVBORw0KGgoAAAANSUhEUgAAAqEAAAI/CAYAAABHzgBtAAAABHNCSVQICAgIfAhkiAAAAAlwSFlzAAALEgAACxIB0t1+/AAAADh0RVh0U29mdHdhcmUAbWF0cGxvdGxpYiB2ZXJzaW9uMy4yLjIsIGh0dHA6Ly9tYXRwbG90bGliLm9yZy+WH4yJAAAgAElEQVR4nOzde5heZX3v//eHY+TQoBD9SW0YiyCgQoBBAYGqP0QQN0LF0kprQX+NeKxYrPTSrVHL3rTQXYtW+aGFoAKyxS1FaAUqYiJoYQKEg4jYGluUIqIiQWM5fPcfz4o+TCeZmWTmfjKT9+u65spa97rve33XPB4+173WeiZVhSRJktTSJoMuQJIkSRsfQ6gkSZKaM4RKkiSpOUOoJEmSmjOESpIkqTlDqCRJkprbbNAFaHJ22GGHGhoaGnQZkiRJ41q2bNkPq2reWMcMoTPM0NAQIyMjgy5DkiRpXEm+u6Zj3o6XJElSc4ZQSZIkNWcIlSRJUnM+EypJkjRFHnnkEe655x5WrVo16FKamjNnDs94xjPYfPPNJzzGECpJkjRF7rnnHrbddluGhoZIMuhymqgqHnjgAe655x6e+cxnTnict+MlSZKmyKpVq9h+++03mgAKkITtt99+0qu/hlBJkqQptDEF0NXW5ZoNoZIkSRu5RYsWceaZZzY9p8+ESpIkTZOhU6+Y0vlWnH7kpPpXFVXFJptseOuOG15FkiRJWmcrVqzg2c9+Nq997Wt57nOfywc/+EH2228/9txzT973vvf9st9pp53GrrvuykEHHcRdd93VvE5XQiVJkmaZu+++m/PPP5+f/vSnXHLJJdxwww1UFUcddRRLlixh66235jOf+Qy33HILjz76KPvssw/77rtv0xoNoZIkSbPMTjvtxP77788pp5zCVVddxd577w3AypUrufvuu3nooYc45phj2GqrrQA46qijmtdoCJUkSZpltt56a6D3TOif/dmf8YY3vOEJxz/0oQ8Noqwn8JlQSZKkWeplL3sZ5557LitXrgTge9/7Hj/4wQ845JBDuPTSS/n5z3/OQw89xBe+8IXmtbkSKkmSNEsddthh3HnnnRxwwAEAbLPNNnz6059mn3324bjjjmOvvfbiqU99Kvvtt1/z2lJVzU86WyTZDnhNVX201TmHh4drZGSk1ekkSdIk3Hnnney+++6DLmMgxrr2JMuqanis/t6OXz/bAW8adBGSJEkzjSF0/ZwO7JzkliSfTXL06gNJLkjyyiQnJPn7JNcmuTvJ+/r6/H6SG7rx/3+STQdyFZIkSY0ZQtfPqcC/VNUC4CPACQBJ5gIHAqv/TMLzgVcBewKvTjKcZHfgOOCF3fjHgOPbli9JkjQYvpg0RarqK0k+mmQevcD5uap6NAnA1VX1AECS/wMcBDwK7Avc2PV5EvCDseZOshBYCDB//vzpvhRJkqRpZwidWp8Efh/4XeDEvvbRb38VEOD8qvqz8SatqnOAc6D3YtLUlCpJkjQ43o5fPw8B2/btLwbeDlBV3+hrf2mSpyR5EnA0cB3wJeDYJE8F6I7v1KRqSZKkATOErofuFvt1SW5PckZV3QfcCZw3qusNwOeAW+ndph/pQup7gKuS3ApcDTy9YfmSJGkjs80224zZfvbZZ/PJT34SgMWLF/P9739/2mvxdvx6qqrXrN5OshWwC3DRqG73VNXRo9qoqouBi6e3QkmSNDCL5k7xfA9O7Xydk0466Zfbixcv5rnPfS477rjjtJxrNVdCp0iSQ+mtgn64qqbnPyGSJElrccYZZ3DWWWcBcPLJJ/OSl7wEgGuuuYbjj+99Cc+73/1u9tprL/bff3/uu+8+ABYtWsSZZ57JJZdcwsjICMcffzwLFizg5z//OcuWLeO3fuu32HfffXnZy17GvffeOyW1GkKnSFX9U1XtVFUfGtW+uKreMqi6JEnSxuPggw9m6dKlAIyMjLBy5UoeeeQRli5dyiGHHMLDDz/M/vvvz/LlyznkkEP4+Mc//oTxxx57LMPDw1xwwQXccsstbLbZZrz1rW/lkksuYdmyZbzuda/j3e9+95TU6u14SZKkWWLfffdl2bJl/PSnP2XLLbdkn332YWRkhKVLl3LWWWexxRZb8IpXvOKXfa+++uq1znfXXXdx++2389KXvhSAxx57jKc/fWpeYTGESpIkzRKbb745z3zmM1m8eDEHHngge+65J1/+8pf59re/ze67787mm29O9/3kbLrppjz66KNrna+qeM5znsPXvva1Ka/V2/GSJEmzyMEHH8yZZ57JIYccwsEHH8zZZ5/N3nvv/cvwOZ5tt92Whx56CIBnP/vZ3H///b8MoY888gh33HHHlNRpCJUkSZpFDj74YO69914OOOAAnva0pzFnzhwOPvjgCY8/4YQTOOmkk1iwYAGPPfYYl1xyCe9617vYa6+9WLBgAddff/2U1Jkq/wDPTDI8PFwjIyODLkOSJI3hzjvvZPfddx90GQMx1rUnWVZVw2P1dyVUkiRJzRlCJUmS1JwhVJIkSc0ZQiVJkqbQxvi+zbpcsyFUkiRpisyZM4cHHnhgowqiVcUDDzzAnDlzJjXOL6uXJEmaIs94xjO45557uP/++wddSlNz5szhGc94xqTGGEIlSZKmyOq/WKTxeTtekiRJzRlCJUmS1JwhVJIkSc0ZQiVJktScIVSSJEnNGUIlSZLUnCFUkiRJzRlCJUmS1JwhVJIkSc0ZQiVJktScIVSSJEnNGUIlSZLUnCFU627R3N6PJEnSJBlCJUmS1JwhVJIkSc0ZQiVJktScIVSSJEnNGUIlSZLUnCFUkiRJzRlCp0GSoSS3d9vDSc7qtl+U5MDBVidJkjR4mw26gNmuqkaAkW73RcBK4PqBFSRJkrQBcCV0lCTvTvKtJF9NclGSU5Jcm2S4O75DkhXd9lCSpUlu6n7+yypnt/p5eZIh4CTg5CS3JDk4yXeSbN71+7X+fUmSpNnMldA+SfYFfhdYQO93cxOwbC1DfgC8tKpWJdkFuAgYHqtjVa1IcjawsqrO7M53LXAkcGl33v9TVY9M0eVIkiRtsFwJfaKDgc9X1c+q6qfAZeP03xz4eJLbgM8Ce0zyfJ8ATuy2TwTOG6tTkoVJRpKM3H///ZM8xfQZWnVh7+fUKwZdiiRJmmEMoRPzKL/6Xc3paz8ZuA/Yi94K6BaTmbSqrgOGkrwI2LSqbl9Dv3OqariqhufNmzfZ2iVJkjY4htAnWgIcneRJSbYF/lvXvgLYt9s+tq//XODeqnoc+ANg03HmfwjYdlTbJ4ELWcMqqCRJ0mxkCO1TVTcBFwPLgX8EbuwOnQm8McnNwA59Qz4K/GGS5cBuwMPjnOILwDGrX0zq2i4AnkzveVJJkqSNgi8mjVJVpwGnASRZ1LV9E9izr9t7uva7R7W/q2tfATy3274WuLbb/tao/gAHAZdU1U+m8jokSZI2ZIbQAUryYeAI4OWDrkWSJKklQ+haVNWiaZ7/rdM5vyRJ0obKZ0IlSZLUnCFUkiRJzRlCJUmS1JzPhGqdrTj9yEGXIEmSZihXQiVJktScIVSSJEnNGUIlSZLUnCFUkiRJzRlCJUmS1JwhVJIkSc0ZQiVJktScIVSSJEnNGUIlSZLUnCFUkiRJzRlCJUmS1JwhVJIkSc0ZQiVJktScIVSSJEnNGUIlSZLUnCFUkiRJzRlCJUmS1JwhVJIkSc0ZQiVJktScIVSSJEnNbTboArQBWzR3nOMPtqlDkiTNOq6ESpIkqTlDqCRJkpozhEqSJKk5Q6gkSZKaM4RKkiSpOUOoJEmSmjOEjiPJiiQ7rMO4xUmOnUT/oSS3T/Y8kiRJM5EhVJIkSc0ZQvskuTTJsiR3JFk4xvHXJrk1yfIkn+rahpJc07V/Kcn8viGHJLk+yb+uXhVNzxlJbk9yW5LjGl2eJEnSBsO/mPREr6uqHyV5EnBjks+tPpDkOcB7gAOr6odJntId+jBwflWdn+R1wFnA0d2xpwMHAbsBlwGXAL8NLAD2AnbozrOkwbVJkiRtMAyhT/S2JMd0278B7NJ37CXAZ6vqhwBV9aOu/QB6wRLgU8Bf9o25tKoeB76R5Gld20HARVX1GHBfkq8A+wG3rqmoblV2IcD8+fPX1G3qjfNnOYdOvQKAFacf2aIaSZI0i3g7vpPkRcChwAFVtRdwMzBnPaf9Rf8p1nWSqjqnqoaranjevHnrWZIkSdLgGUJ/ZS7w46r6WZLdgP1HHb8GeHWS7QH6bsdfD/xut308sHSc8ywFjkuyaZJ5wCHADVNxAZIkSTOFt+N/5YvASUnuBO4Cvt5/sKruSHIa8JUkj9FbKT0BeCtwXpJ3AvcDJ45zns/Tu4W/HCjgT6vqP5IMTd2lSJIkbdgMoZ2q+gVwxBiHhvr6nA+cP2rcd+k9Lzp6vhNG7W/T/VvAO7uf/uMrgOeuS+2SJEkzjbfjJUmS1JwhVJIkSc0ZQiVJktScIVSSJEnNGUIlSZLUnG/Ha535l5IkSdK6ciVUkiRJzRlCJUmS1JwhVJIkSc0ZQiVJktScIVSSJEnNGUIlSZLUnCFUkiRJzRlCJUmS1JwhVJIkSc0ZQiVJktScIVSSJEnNGUIlSZLUnCFUkiRJzRlCJUmS1JwhVJIkSc0ZQiVJktScIVSSJEnNGUIlSZLUnCFUkiRJzRlCJUmS1Nxmgy5AM9iiuVM414NTN5ckSdrguRIqSZKk5gyhkiRJas4QKkmSpOYMoZIkSWrOECpJkqTmDKGSJElqbqMPoUlOSPKR9e0zxpi3J9lq/aqTJEmanTb6EDqN3g4YQiVJksYwK0Nokq2TXJFkeZLbkxyXZEWSHbrjw0muHWPc4iRnJxlJ8q0kr+g7vGOSLya5O8lf9o35WNf/jiTv79reBuwIfDnJl7u2w5J8LclNST6bZJuu/fQk30hya5Izp++3IkmStOGYrX8x6XDg+1V1JECSucBfTHDsEPB8YGd6IfJZXfsCYG/gF8BdST5cVf8OvLuqfpRkU+BLSfasqrOSvAN4cVX9sAu/7wEOraqHk7wLeEeSvwWOAXarqkqy3ZRcvSRJ0gZutobQ24C/SvIXwOVVtTTJRMf+76p6HLg7yb8Cu3XtX6qqBwGSfAPYCfh34HeSLKT3u3w6sAdw66g59+/ar+vq2AL4GvAgsAr4uySXA5ePVVA3/0KA+fPnT/Q6pt3QqgunbrJTr5i6ubRBWnH6kYMuQZK0AZmVIbSqvpVkH+DlwJ8n+RLwKL96/GDO2oavYf8XfW2PAZsleSZwCrBfVf04yeI1zB3g6qr6vf9yIHk+8P8CxwJvAV4yxvWcA5wDMDw8PLo+SZKkGWe2PhO6I/Czqvo0cAawD7AC2Lfr8qq1DH91kk2S7Az8JnDXWvr+GvAw8GCSpwFH9B17CNi22/468MLVt/a7Z1Z37Z4LnVtV/wCcDOw1icuUJEmasWblSijwPOCMJI8DjwBvBJ5E77b3B4Fr1zL234Ab6AXMk6pq1Zpu5VfV8iQ3A9+kd2v+ur7D5wBfTPL9qnpxkhOAi5Js2R1/D72g+vdJ5tBbLX3HulysJEnSTJMq7+6u1t1Ov7yqLhl0LWsyPDxcIyMjgy4DgCGf49Qk+EyoJG18kiyrquGxjs3K2/GSJEnasM3W2/HrpKpOGHQNkiRJGwNXQiVJktScIVSSJEnNGUIlSZLUnM+Eap35trMkSVpXroRKkiSpOUOoJEmSmjOESpIkqTlDqCRJkpozhEqSJKk5Q6gkSZKaM4RKkiSpOUOoJEmSmjOESpIkqTlDqCRJkpozhEqSJKk5Q6gkSZKaM4RKkiSpOUOoJEmSmjOESpIkqTlDqCRJkpozhEqSJKk5Q6gkSZKaM4RKkiSpOUOoJEmSmtts0AVoBls0dw3tD7atQ5IkzTiuhEqSJKk5Q6gkSZKaM4RKkiSpOUOoJEmSmjOESpIkqTlD6IAkuTbJcN/+UJLbB1mTJElSK4ZQSZIkNWcInWbdCuc3k1yQ5M4klyTZatB1SZIkDZJfVt/Gs4HXV9V1Sc4F3tS1X5Dk5932FsDjA6lOkiSpMUNoG/9eVdd1258G3tZtH19VI9BbMQUuH2twkoXAQoD58+dPa6GTMbTqwrEPnHrFE3ZXnH5kg2okSdJM4u34Nmqc/bUPrjqnqoaranjevHlTWJYkSdJgGELbmJ/kgG77NcBXB1mMJEnSoBlC27gLeHOSO4EnAx8bcD2SJEkD5TOhbTxaVb8/qu1F/TtVtQJ4bquCJEmSBsmVUEmSJDXnSug0c4VTkiTpv3IlVJIkSc0ZQiVJktScIVSSJEnNGUIlSZLUnC8maZ355zglSdK6ciVUkiRJzRlCJUmS1JwhVJIkSc0ZQiVJktScIVSSJEnNGUIlSZLUnCFUkiRJzRlCJUmS1JwhVJIkSc0ZQiVJktScIVSSJEnNGUIlSZLUnCFUkiRJzRlCJUmS1JwhVJIkSc0ZQiVJktScIVSSJEnNGUIlSZLUnCFUkiRJzRlCJUmS1Nxmgy5AM9iiuYOuQFNt0YODrkCStJFwJVSSJEnNGUIlSZLUnCFUkiRJzRlCJUmS1JwhVJIkSc0ZQseQZFGSU6Zwvn9Isl3386apmleSJGmmMoQ2UFUvr6qfANsBhlBJkrTRM4R2krw7ybeSfBV4dte2c5IvJlmWZGmS3br2xUnOSnJ9kn9NcmzX/vQkS5LckuT2JAd37SuS7ACcDuzcHT8jySeTHN1XwwVJXtn84iVJkhrzy+qBJPsCvwssoPc7uQlYBpwDnFRVdyd5AfBR4CXdsKcDBwG7AZcBlwCvAa6sqtOSbApsNepUpwLPraoF3Xl/CzgZuDTJXOBA4A+n7UIlSZI2EIbQnoOBz1fVzwCSXAbMoRcKP5tkdb8t+8ZcWlWPA99I8rSu7Ubg3CSbd8dvWdtJq+orST6aZB7wKuBzVfXo6H5JFgILAebPn7+u1zjlhlZdOOG+K04/chorkSRJM42349dsE+AnVbWg72f3vuO/6NsOQFUtAQ4BvgcsTvLaCZznk8DvAycC547VoarOqarhqhqeN2/eulyLJEnSBsUQ2rMEODrJk5JsC/w34GfAd5K8GiA9e61tkiQ7AfdV1ceBTwD7jOryELDtqLbFwNsBquob63shkiRJM4EhFKiqm4CLgeXAP9K7rQ5wPPD6JMuBO4DxXhp6EbA8yc3AccDfjDrPA8B13UtLZ3Rt9wF3AudNzdVIkiRt+HwmtFNVpwGnjXHo8DH6njBqf5vu3/OB88foP9S3/Zr+Y0m2AnYBLlqHsiVJkmYkV0IHKMmh9FZBP1xVDw66HkmSpFZcCR2gqvonYKdB1yFJktSaK6GSJElqzhAqSZKk5gyhkiRJas4QKkmSpOZ8MUnrzD/FKUmS1pUroZIkSWrOECpJkqTmDKGSJElqzhAqSZKk5gyhkiRJas4QKkmSpOYMoZIkSWrOECpJkqTmDKGSJElqzhAqSZKk5gyhkiRJas4QKkmSpOYMoZIkSWrOECpJkqTmDKGSJElqzhAqSZKk5gyhkiRJas4QKkmSpOYMoZIkSWrOECpJkqTmNht0AZrBFs1dy7EH29UhSZJmHFdCJUmS1JwhVJIkSc0ZQiVJktScIVSSJEnNGUIlSZLU3FpDaJLtkrxpvEmSDCV5zQT73T6ZAtcwz6Ikp3TbuyW5JcnNSXZe37m7OVck2aHbvn4d5zgpyWvHaJ+S34EkSdJMNt5K6HbAuCEUGALGDaHT5Gjgkqrau6r+ZSIDkkz4q6mq6sB1Kaqqzq6qT67LWEmSpNluvBB6OrBzt9J4RnrOSHJ7ktuSHNfX7+Cu38ndat/SJDd1P2sNckmenmRJN/72JAd37Sv7+hybZPGocS8H3g68McmXR68yJjklyaJu+9okH0oyAvzxqHm2T3JVkjuSfAJI37GV3b9jXnuSv0ny3m77Zd11bDJqtXbfJMuTLAfe3Df3pt2cNya5Nckbxvk8JEmSZoXxVgRPBZ5bVQsAkrwKWADsBewA3JhkSdfvlKp6RddvK+ClVbUqyS7ARcDwWs7zGuDKqjotyabAVhMpvqr+IcnZwMqqOjPJ0DhDtqiqsep4H/DVqvpAkiOB14/R57cZ+9r/rNteCpwFvLyqHk/SP/Y84C1VtSTJGX3trwcerKr9kmwJXJfkqqr6znjXLkmSNJNN9i8mHQRcVFWPAfcl+QqwH/DTUf02Bz6SZAHwGLDrOPPeCJybZHPg0qq6ZZJ1TdTFa2g/hF7IpKquSPLjMfqMee1VdVmSPwKWACePfiQgyXbAdlW1pGv6FHBEt30YsGeSY7v9ucAuwHdGzbEQWAgwf/78CV/sdBtadeGaD556RbtCJmHF6UcOugRJksT0vR1/MnAfvVXDYWCLtXXuAtohwPeAxX0v9FRftzkTOO+jPPGaRo95eAJzrIvnAQ8AO05yXIC3VtWC7ueZVXXV6E5VdU5VDVfV8Lx586aiXkmSpIEaL4Q+BGzbt78UOK57lnEeveB4wxj95gL3VtXjwB8Am67tJEl2Au6rqo8DnwD26Q7dl2T3JJsAx0zgeu4Dnto947kl8IoJjIHeKuZrulqOAJ48Rp8xr72r/U+AvYEjkrygf1BV/QT4SZKDuqbj+w5fSe951s27c++aZOsJ1ixJkjRjrfV2fFU9kOS67mWffwT+FDgAWE5vlfJPq+o/kjwAPNa9eLMY+CjwuW5F84uMvwL5IuCdSR4BVgKrV0JPBS4H7gdGgG3GqfeRJB+gF4y/B3xznPOu9n7goiR3ANcD/zZGn88z6trphd6r6T0P+/0kr6e3krvfqLEn0nvcoID+lc5P0PtmgZvSe4j0fnpv+0uSJM1qqarxe2mDMTw8XCMjI4MuA4ChDfS5z7XxmVBJktpJsmwNL4X7F5MkSZLUniFUkiRJzRlCJUmS1JwhVJIkSc0ZQiVJktTcZP9ikvRLvmkuSZLWlSuhkiRJas4QKkmSpOYMoZIkSWrOECpJkqTmDKGSJElqzhAqSZKk5gyhkiRJas4QKkmSpOYMoZIkSWrOECpJkqTmDKGSJElqzhAqSZKk5gyhkiRJas4QKkmSpOYMoZIkSWrOECpJkqTmDKGSJElqzhAqSZKk5gyhkiRJas4QKkmSpOY2G3QBmsEWzR10BdrQLXpw0BVIkjZQroRKkiSpOUOoJEmSmjOESpIkqTlDqCRJkpozhEqSJKk5Q6gkSZKam1QITfK2JHcmuWC6CppgHYuSnNJt75bkliQ3J9l5iuZfkWSHbvv6dZzjpCSvHaN9KMnt61ujJEnSTDbZ7wl9E3BoVd3T35hks6p6dOrKmpSjgUuq6s8nOmAy9VbVgetSVFWdvS7jJEmSNgYTXglNcjbwm8A/Jjm5W438VJLrgE8lmZfkc0lu7H5e2I3bOsm5SW7oVitfOcbcT0+ypFvRvD3JwV37yr4+xyZZPGrcy4G3A29M8uXRq4xJTkmyqNu+NsmHkowAfzxqnu2TXJXkjiSfANJ3bGX3b5Kc0dV3W5Ljuva/SfLebvtl3XVsMmq1dt8ky5MsB97cN/em3Zw3Jrk1yRsm+nlIkiTNZBNeCa2qk5IcDry4qn7Yhbs9gIOq6udJLgT+uqq+mmQ+cCWwO/Bu4Jqqel2S7YAbkvxTVT3cN/1rgCur6rQkmwJbTbCmf+jC8cqqOjPJ0DhDtqiq4THa3wd8tao+kORI4PVj9PltYAGwF7ADcGOSJcCfddtLgbOAl1fV40n6x54HvKWqliQ5o6/99cCDVbVfki2B65JcVVXfGe/aJUmSZrL1/bOdl1XVz7vtQ4E9+sLXryXZBjgMOGr1qiAwB5gP3Nk3z43AuUk2By6tqlvWs641uXgN7YfQC5lU1RVJfjxGn4OAi6rqMeC+JF8B9quqy5L8EbAEOLmq/qV/UBe8t6uqJV3Tp4Ajuu3DgD2THNvtzwV2Ab4zao6FwEKA+fPnT/hip9vQqgundf4Vpx85rfNLkqTBWd8Q2r+auQmwf1Wt6u+QXip9VVXdtaZJuhXCQ4AjgcVJ/ldVfRKovm5zJlDPozzxEYPRYx5mejwPeADYcZLjAry1qq5cW6eqOgc4B2B4eLjW1leSJGkmmMqvaLoKeOvqnSQLus0rgbd2YZQke48emGQn4L6q+jjwCWCf7tB9SXZPsglwzARquA94aveM55bAKyZY+xJ6jwSQ5AjgyWP0WQoc1z3HOY/e6ukNXe1/AuwNHJHkBf2DquonwE+SHNQ1Hd93+Ep6z7Nu3p171yRbT7BmSZKkGWt9V0L7vQ342yS3dvMuAU4CPgh8CLi1C5Pf4b+GwxcB70zyCLASWP3VRqcClwP3AyPANmsroKoeSfIB4Abge8A3J1j7+4GLktwBXA/82xh9Pg8cACynt0L7p/RC79XAKVX1/SSvp7eSu9+osSfSe9yg6IX11T4BDAE3dSH9fnpv+0uSJM1qqfLu7kwyPDxcIyMjgy4DgKFTr5jW+X0mVJKkmS3JsjW8FO5fTJIkSVJ7hlBJkiQ1ZwiVJElSc4ZQSZIkNWcIlSRJUnNT+RVN2sj49rokSVpXroRKkiSpOUOoJEmSmjOESpIkqTlDqCRJkpozhEqSJKk5Q6gkSZKaM4RKkiSpOUOoJEmSmjOESpIkqTlDqCRJkpozhEqSJKk5Q6gkSZKaM4RKkiSpOUOoJEmSmjOESpIkqTlDqCRJkpozhEqSJKk5Q6gkSZKaM4RKkiSpOUOoJEmSmtts0AVoBls0d9AVSJLU3qIHB13BrOBKqCRJkpozhEqSJKk5Q6gkSZKaM4RKkiSpOUOoJEmSmjOESpIkqbmNMoQmWZzk2DHah5LcPsm5dkxyyRqOXZtkeF3rlCRJmq38ntD1kGSzqvo+8F8CrSRJktZso1gJTfLaJLcmWZ7kU13zIUmuT/Kva1gVnZPkvCS3Jbk5yYu79hOSXJbkGuBL/aunSZ6U5DNJ7kzyeeBJffMdluRrSW5K8tkk23Ttpyf5RlffmdP+y5AkSdoAzPqV0CTPAd4DHFhVP0zyFOB/AU8HDgJ2Ay4DRt9SfzNQVfW8JLsBVyXZtTu2D7BnVf0oyVDfmDcCP6uq3ZPsCdzU1bBDV8OhVfVwkncB70jyt8AxwG5VVW4YvI4AABR8SURBVEm2m/JfgCRJ0gZo1odQ4CXAZ6vqhwBdcAS4tKoeB76R5GljjDsI+HA35ptJvgusDqFXV9WPxhhzCHBWN+bWJLd27fsDewDXdefeAvga8CCwCvi7JJcDl491AUkWAgsB5s+fP4lLn15Dqy4cdAmSJLV36hWDrmBKrDj9yIGef6O4Hb8Gv+jbziTHPjzJ/qEXXBd0P3tU1eur6lHg+fRWYV8BfHGswVV1TlUNV9XwvHnzJnlqSZKkDc/GEEKvAV6dZHuA7nb8RCwFju/G7ArMB+4aZ8wS4DXdmOcCe3btXwdemORZ3bGtk+zaPRc6t6r+ATgZ2GvCVyVJkjSDzfrb8VV1R5LTgK8keQy4eYJDPwp8LMltwKPACVX1i+52+pp8DDgvyZ3AncCyrob7k5wAXJRky67ve4CHgL9PMofeauk7Jnd1kiRJM1OqatA1aBKGh4drZGRk0GUAMDRLnomRJGlj1OKZ0CTLqmrM70zfGG7HS5IkaQNjCJUkSVJzhlBJkiQ1ZwiVJElSc4ZQSZIkNTfrv6JJ02fQf2lBkiTNXK6ESpIkqTlDqCRJkpozhEqSJKk5Q6gkSZKaM4RKkiSpOUOoJEmSmjOESpIkqTlDqCRJkpozhEqSJKk5Q6gkSZKaM4RKkiSpOUOoJEmSmjOESpIkqTlDqCRJkpozhEqSJKk5Q6gkSZKaM4RKkiSpOUOoJEmSmjOESpIkqTlDqCRJkprbbNAFaAZbNHfQFYxv0YODrkCSJI3BlVBJkiQ1ZwiVJElSc4ZQSZIkNWcIlSRJUnOGUEmSJDU3Y0Nokk8k2WOM9hOSfGQ95l25fpVJkiRpPBvEVzQlCZCqenyiY6rq/5vGkgYqyaZV9dig65AkSZouA1sJTTKU5K4knwRuB34jyTuT3Jjk1iTv7/ptneSKJMuT3J7kuK792iTD3faJSb6V5AbghX3nWJzk2L79ld2/2yT5UpKbktyW5JXj1LqmGlYk2aHbHk5ybbc9L8nVSe7oVmy/29fv0iTLumML+2tL8ldJlgMHrPcvWJIkaQM26JXQXYA/rKqvJzms238+EOCyJIcA84DvV9WRAEme8A3pSZ4OvB/YF3gQ+DJw8zjnXQUcU1U/7cLh15NcVlW1hv6Hr62GMbwPuKaq/meSw4HX9x17XVX9KMmTgBuTfK6qHgC2Bv65qv5knLklSZJmvEGH0O9W1de77cO6n9UBcht6oXQp8FdJ/gK4vKqWjprjBcC1VXU/QJKLgV3HOW+A/9GF3MeBXweeBvzHGvrfNk4Nox0EHANQVV9M8uO+Y29Lcky3/RvdNT4APAZ8bsxieyumCwHmz58/zqnbGVp14aBLGN+pVwy6AkmakBWnHznoEqSmBv1i0sN92wH+Z1Ut6H6eVVV/V1XfAvahFwT/PMl7JzH/o3TXmGQTYIuu/Xh6K6z7VtUC4D5gzpomWUsNv5x/beN/eYHJi4BDgQOqai96gXv1uFVreg60qs6pquGqGp43b954p5EkSdrgDTqE9rsSeF2SbQCS/HqSpybZEfhZVX0aOINeGOz3z8BvJdk+yebAq/uOraB3mx7gKGDzbnsu8IOqeiTJi4Gd1lbYWmron/9VfUOuA36nG3sY8OS+8/64qn6WZDdg/7WdV5IkabYa9O34X6qqq5LsDnyt97I8K4HfB54FnJHkceAR4I2jxt2bZBHwNeAnwC19hz8O/H33ss8X+dXK6wXAF5LcBowA3xynvOetoYb3A3+X5IPAtX393w9clOQPurr+A3ioq+GkJHcCdwFfR5IkaSOUNb+Lo3WVZEvgsap6NMkBwMe62/7rbXh4uEZGRqZiqvU25POWkjRlfCZUs1GSZVU1PNaxDWYldJaZD/zv7jnU/wT+aMD1SJIkbVAModOgqu4G9h50HZIkSRuqDenFJEmSJG0kDKGSJElqzhAqSZKk5gyhkiRJas4Xk7TO/DoRSZK0rlwJlSRJUnOGUEmSJDVnCJUkSVJzhlBJkiQ1ZwiVJElSc4ZQSZIkNWcIlSRJUnOGUEmSJDVnCJUkSVJzhlBJkiQ1ZwiVJElSc4ZQSZIkNWcIlSRJUnOGUEmSJDVnCJUkSVJzhlBJkiQ1ZwiVJElSc4ZQSZIkNWcIlSRJUnOGUEmSJDW32aAL0Ay2aO6gK5gZFj046AokSdrguBIqSZKk5gyhkiRJas4QKkmSpOYMoZIkSWrOECpJkqTmNpoQmuSkJK/ttk9IsuNa+n4gyaHTXceo9qEkt0/HOSVJkjY0G81XNFXV2X27JwC3A98f3S/JplX13kZ1SJIkbZRm5UpoktcmuTXJ8iSf6toWJTklybHAMHBBkluSPCnJiiR/keQm4NVJFnf9SLJfkuu7uW5Isu2oc22T5EtJbkpyW5JXTqSObnvf7thy4M1tfjuSJEmDN+tWQpM8B3gPcGBV/TDJU/qPV9UlSd4CnFJVI90YgAeqap9u//Du3y2Ai4HjqurGJL8G/HzUKVcBx1TVT5PsAHw9yWXAHmuro3Me8JaqWpLkjKn5DUiSJG34Zl0IBV4CfLaqfghQVT+a4LiLx2h7NnBvVd3YzfXTMfoE+B9JDgEeB34deNp4dSTZDtiuqpZ0TZ8CjhirsCQLgYUA8+fPn+DlrLuhU6+YUL8Vp/uXgCRJ0rqZlbfj19HD6zjueGAesG9VLQDuA+ZMWVVAVZ1TVcNVNTxv3rypnFqSJGkgZmMIvYbec53bA6zhNvhDwLZjtI92F/D0JPt1c22bZPTq8VzgB1X1SJIXAztNpI6q+gnwkyQHdU3HT6AeSZKkWWHW3Y6vqjuSnAZ8JcljwM303obvtxg4O8nPgQPWMtd/JjkO+HCSJ9F7HvRQYGVftwuALyS5DRgBvjmJOk4Ezk1SwFXrcLmSJEkzUqpq0DVoEoaHh2tkZGRazzHxZ0KPnNY6JEnSzJZkWVUNj3VsNt6OlyRJ0gbOECpJkqTmDKGSJElqzhAqSZKk5gyhkiRJas4QKkmSpOZm3feEav351UuSJGm6uRIqSZKk5gyhkiRJas4QKkmSpOYMoZIkSWrOECpJkqTmDKGSJElqzhAqSZKk5gyhkiRJas4QKkmSpOYMoZIkSWrOECpJkqTmDKGSJElqzhAqSZKk5gyhkiRJas4QKkmSpOYMoZIkSWrOECpJkqTmDKGSJElqzhAqSZKk5gyhkiRJam6zQRegGWzR3EFX0N6iBwddgSRJs4IroZIkSWrOECpJkqTmDKGSJElqzhAqSZKk5gyhkiRJam6DD6FJhpLcPoE+r+nbH05yVrd9QpKPTGN9H0hy6BjtL0pyebd9VJJTu+2jk+wxXfVIkiTNBLPlK5qGgNcAFwJU1Qgw0uLEVfXeCfS5DLis2z0auBz4xnTWJUmStCFrvhKa5PQkb+7bX5TklPSckeT2JLclOW6MsUNJlia5qfs5sDt0OnBwkluSnNy/Cjlq/Lwkn0tyY/fzwkmcgyTv6mpbnuT0rm1xkmO77cOTfDPJTcBv9407IclHurmOAs7oat2567u63y79+5IkSbPVIFZCLwY+BPxtt/87wMvohbYFwF7ADsCNSZaMGvsD4KVVtSrJLsBFwDBwKnBKVb0CerfC13DuvwH+uqq+mmQ+cCWw+0TOkeQI4JXAC6rqZ0me0j8oyRzg48BLgG931/kEVXV9ksuAy6vqkm7cg0kWVNUtwInAeWuoXZIkadZoHkKr6uYkT02yIzAP+HFV/XuSdwAXVdVjwH1JvgLsB9zaN3xz4CNJFgCPAbtO8vSHAnskWb3/a0m2qaqVEzjHocB5VfWz7jp+NGru3YDvVNXdAEk+DSycQE2fAE7srv844PmjOyRZuHqu+fPnT2DKNoZWXbhO41acfuQUVyJJkmaaQT0T+lngWOD/YYwVw7U4GbiP3mrpJsCqSZ53E2D/qlrbuPU9x2R9DngfcA2wrKoeGN2hqs4BzgEYHh6uaa5HkiRp2g3q7fiLgd+lF0Q/27UtBY5LsmmSecAhwA2jxs0F7q2qx4E/ADbt2h8Ctp3Aea8C3rp6p1vtHG1N57ia3orlVt3Yp4wa901gKMnO3f7vraGGJ9TaBeIrgY/hrXhJkrSRGEgIrao76AWx71XVvV3z5+ndel9Ob1XwT6vqP0YN/Sjwh0mW07v9/XDXfivwWPfC0MlrOfXb6D3feWuSbwAnjdFnzHNU1RfpveE+kuQW4JRR17SK3i3zK7qXi36whho+A7wzyc19gfUC4HF6IVmSJGnWS5V3dwctySnA3Kr67+P1HR4erpGRJt8+Na6hU69Yp3E+EypJ0sYhybKqGh7r2Gz5ntAZK8nngZ3pvVUvSZK0UTCEDlhVHTPoGiRJklrb4P9spyRJkmYfQ6gkSZKaM4RKkiSpOUOoJEmSmvPFJK0zv2pJkiStK1dCJUmS1JwhVJIkSc0ZQiVJktScIVSSJEnNGUIlSZLUnCFUkiRJzRlCJUmS1JwhVJIkSc0ZQiVJktScIVSSJEnNGUIlSZLUnCFUkiRJzRlCJUmS1JwhVJIkSc0ZQiVJktScIVSSJEnNGUIlSZLUnCFUkiRJzRlCJUmS1Nxmgy5AM9iiuY3O82Cb80iSpGZcCZUkSVJzhlBJkiQ1ZwiVJElSc4ZQSZIkNWcIlSRJUnOGUEmSJDU3I0JokrcluTPJBUmOSnLqFMz5oiSXT8E8H0hy6Nrm7685ydFJ9ljf80qSJM1kM+V7Qt8EHFpV93T7lw2ymH5V9d4J9LmMX9V8NHA58I3prEuSJGlDtsGvhCY5G/hN4B+TnJzkhCQf6Y79fZLXdttvSHJBt31Ykq8luSnJZ5Ns07UfnuSbSW4CfnsN5xtKsrQbe1OSA/uOvSvJbUmWJzm9a1uc5Ni1zb+65m6uo4AzktySZOeu7+p+u/TvS5IkzVYb/EpoVZ2U5HDgxVX1wyQn9B1eCFyX5DvAnwD7J9kBeA+9ldOHk7wLeEeSvwQ+DrwE+DZw8RpO+QPgpVW1KskuwEXAcJIjgFcCL6iqnyV5Sv+gJHPGm7+qrk9yGXB5VV3SjXswyYKqugU4EThv8r8lSZKkmWWDD6FrU1X3JXkv8GXgmKr6UZJXAHvQC6cAWwBfA3YDvlNVdwMk+TS9EDva5sBHkiwAHgN27doPBc6rqp915/7RqHETnX+0TwAnJnkHcBzw/NEdkixcPdf8+fMnMGUbQ6sunPSYFacfOQ2VSJKkmWZGh9DO84AHgB27/QBXV9Xv9XfqQuVEnAzcB+xF73GFVVNU55p8DngfcA2wrKoeGN2hqs4BzgEYHh6uaa5HkiRp2m3wz4SuTZLnA0cAewOnJHkm8HXghUme1fXZOsmuwDeBoSQ7d8N/b6w5gbnAvVX1OPAHwKZd+9X0Viy36uZ9yqhxE53/IWDb1TtVtQq4EvgY3oqXJEkbiRkbQpNsSe8ZzNdV1ffpPRN6LvBD4ATgoiS30t2K78LeQuCK7uWfH6xh6o8Cf5hkOb1b7A8DVNUX6b3hPpLkFuCU/kGTmP8zwDuT3NwXWC8AHgeumtxvQZIkaWZKlXd3By3JKcDcqvrv4/UdHh6ukZGRBlWNb+jUKyY9xmdCJUnaeCRZVlXDYx2bDc+EzmhJPg/sTO+tekmSpI2CIXTAquqYQdcgSZLU2ox9JlSSJEkzlyFUkiRJzRlCJUmS1JzPhGqd+aa7JElaV66ESpIkqTlDqCRJkpozhEqSJKk5Q6gkSZKaM4RKkiSpOUOoJEmSmjOESpIkqTlDqCRJkpozhEqSJKk5Q6gkSZKaS1UNugZNQpL7ge8Ouo7ODsAPB12EpoWf7ezm5zt7+dnOXjP1s92pquaNdcAQqnWWZKSqhgddh6aen+3s5uc7e/nZzl6z8bP1drwkSZKaM4RKkiSpOUOo1sc5gy5A08bPdnbz8529/Gxnr1n32fpMqCRJkppzJVSSJEnNGUI1aUkOT3JXkm8nOXXQ9Wj9JDk3yQ+S3N7X9pQkVye5u/v3yYOsUesmyW8k+XKSbyS5I8kfd+1+vjNckjlJbkiyvPts39+1PzPJP3f/+3xxki0GXavWTZJNk9yc5PJuf9Z9toZQTUqSTYG/BY4A9gB+L8keg61K62kxcPiotlOBL1XVLsCXun3NPI8Cf1JVewD7A2/u/vvq5zvz/QJ4SVXtBSwADk+yP/AXwF9X1bOAHwOvH2CNWj9/DNzZtz/rPltDqCbr+cC3q+pfq+o/gc8ArxxwTVoPVbUE+NGo5lcC53fb5wNHNy1KU6Kq7q2qm7rth+j9H9qv4+c741XPym538+6ngJcAl3TtfrYzVJJnAEcC/7edu3nRKQzjOP698hIlTV6aJkOTUlZiKRazsZGsJEXNv2AhxUYpW409dlJTxGyVWVhJoiysLIQwq8lO4WdxTpks1JhxHuf0/azu+z5ncdVV57me++1m2y8GmFuLUK3ULuDdsv77dkzDMp7kY9v+BIyPMhitXlVNAYeAp5jfQWiXa18Ci8Aj4A2wlORb+4rf5/6aBS4CP9r+dgaYW4tQSX+U5goNr9HosaraAtwDzif5svyZ+e2vJN+THAQmaVap9o84JK2BqjoBLCZ5PupY/rX1ow5AvfMB2L2sP9mOaVg+V9VEko9VNUEz06IeqqoNNAXonST322HzOyBJlqpqATgMjFXV+nbGzO9zPx0BTlbVcWATsBW4wQBz60yoVuoZsK89pbcROAPMjzgmrb15YKZtzwAPRxiL/lK7j+wW8DrJ9WWPzG/PVdXOqhpr25uBYzR7fheAU+1r5raHklxKMplkiuY39nGSswwwt15WrxVr/53NAuuA20mujTgkrUJV3QWmgR3AZ+AK8ACYA/YAb4HTSX4/vKT/XFUdBZ4Ar/i1t+wyzb5Q89tjVXWA5nDKOpoJpbkkV6tqL82B0W3AC+Bckq+ji1SrUVXTwIUkJ4aYW4tQSZIkdc7leEmSJHXOIlSSJEmdswiVJElS5yxCJUmS1DmLUEmSJHXOIlSSJEmdswiVJElS5yxCJUmS1Lmfr54b5RxpCLAAAAAASUVORK5CYII=\n",
                  "text/plain": "<Figure size 720x720 with 1 Axes>"
                },
                "metadata": {
                  "needs_background": "light"
                }
              }
            ],
            "_view_module": "@jupyter-widgets/output",
            "_model_module_version": "1.0.0",
            "_view_count": null,
            "_view_module_version": "1.0.0",
            "layout": "IPY_MODEL_5225de349f92499b9fad986a99473b35",
            "_model_module": "@jupyter-widgets/output"
          }
        },
        "d2b5020b09e94a7d91d294925bcda621": {
          "model_module": "@jupyter-widgets/controls",
          "model_name": "DescriptionStyleModel",
          "model_module_version": "1.5.0",
          "state": {
            "_view_name": "StyleView",
            "_model_name": "DescriptionStyleModel",
            "description_width": "",
            "_view_module": "@jupyter-widgets/base",
            "_model_module_version": "1.5.0",
            "_view_count": null,
            "_view_module_version": "1.2.0",
            "_model_module": "@jupyter-widgets/controls"
          }
        },
        "09614a1f868f42d890918ac41b59c876": {
          "model_module": "@jupyter-widgets/base",
          "model_name": "LayoutModel",
          "model_module_version": "1.2.0",
          "state": {
            "_view_name": "LayoutView",
            "grid_template_rows": null,
            "right": null,
            "justify_content": null,
            "_view_module": "@jupyter-widgets/base",
            "overflow": null,
            "_model_module_version": "1.2.0",
            "_view_count": null,
            "flex_flow": null,
            "width": null,
            "min_width": null,
            "border": null,
            "align_items": null,
            "bottom": null,
            "_model_module": "@jupyter-widgets/base",
            "top": null,
            "grid_column": null,
            "overflow_y": null,
            "overflow_x": null,
            "grid_auto_flow": null,
            "grid_area": null,
            "grid_template_columns": null,
            "flex": null,
            "_model_name": "LayoutModel",
            "justify_items": null,
            "grid_row": null,
            "max_height": null,
            "align_content": null,
            "visibility": null,
            "align_self": null,
            "height": null,
            "min_height": null,
            "padding": null,
            "grid_auto_rows": null,
            "grid_gap": null,
            "max_width": null,
            "order": null,
            "_view_module_version": "1.2.0",
            "grid_template_areas": null,
            "object_position": null,
            "object_fit": null,
            "grid_auto_columns": null,
            "margin": null,
            "display": null,
            "left": null
          }
        },
        "5225de349f92499b9fad986a99473b35": {
          "model_module": "@jupyter-widgets/base",
          "model_name": "LayoutModel",
          "model_module_version": "1.2.0",
          "state": {
            "_view_name": "LayoutView",
            "grid_template_rows": null,
            "right": null,
            "justify_content": null,
            "_view_module": "@jupyter-widgets/base",
            "overflow": null,
            "_model_module_version": "1.2.0",
            "_view_count": null,
            "flex_flow": null,
            "width": null,
            "min_width": null,
            "border": null,
            "align_items": null,
            "bottom": null,
            "_model_module": "@jupyter-widgets/base",
            "top": null,
            "grid_column": null,
            "overflow_y": null,
            "overflow_x": null,
            "grid_auto_flow": null,
            "grid_area": null,
            "grid_template_columns": null,
            "flex": null,
            "_model_name": "LayoutModel",
            "justify_items": null,
            "grid_row": null,
            "max_height": null,
            "align_content": null,
            "visibility": null,
            "align_self": null,
            "height": null,
            "min_height": null,
            "padding": null,
            "grid_auto_rows": null,
            "grid_gap": null,
            "max_width": null,
            "order": null,
            "_view_module_version": "1.2.0",
            "grid_template_areas": null,
            "object_position": null,
            "object_fit": null,
            "grid_auto_columns": null,
            "margin": null,
            "display": null,
            "left": null
          }
        }
      }
    }
  },
  "cells": [
    {
      "cell_type": "markdown",
      "metadata": {
        "id": "view-in-github",
        "colab_type": "text"
      },
      "source": [
        "<a href=\"https://colab.research.google.com/github/wesleybeckner/data_science_foundations/blob/main/notebooks/S1_Regression_and_Analysis.ipynb\" target=\"_parent\"><img src=\"https://colab.research.google.com/assets/colab-badge.svg\" alt=\"Open In Colab\"/></a>"
      ]
    },
    {
      "cell_type": "markdown",
      "metadata": {
        "id": "ZhMpsTQGPQIm"
      },
      "source": [
        "# Data Science Foundations Session 1: Regression and Analysis\n",
        "\n",
        "**Instructor**: Wesley Beckner\n",
        "\n",
        "**Contact**: wesleybeckner@gmail.com\n",
        "\n",
        "---\n",
        "\n",
        "<br>\n",
        "\n",
        "In this session we will look at fitting data to a curve using **regression**. We will also look at using regression to make **predictions** for new data points by dividing our data into a training and a testing set. Finally we will examine how much error we make in our fit and then in our predictions by computing the mean squared error.\n",
        "\n",
        "<br>\n",
        "\n",
        "---\n",
        "\n"
      ]
    },
    {
      "cell_type": "markdown",
      "metadata": {
        "id": "jc0SbuFeQBwW"
      },
      "source": [
        "<a name='x.0'></a>\n",
        "\n",
        "## 1.0 Preparing Environment and Importing Data\n",
        "\n",
        "[back to top](#top)"
      ]
    },
    {
      "cell_type": "markdown",
      "metadata": {
        "id": "RGyB72UymbBW"
      },
      "source": [
        "<a name='x.0.1'></a>\n",
        "\n",
        "### 1.0.1 Import Packages\n",
        "\n",
        "[back to top](#top)"
      ]
    },
    {
      "cell_type": "code",
      "metadata": {
        "id": "XA8E1GTQQBwW"
      },
      "source": [
        "# Import pandas, pyplot, ipywidgets\n",
        "import pandas as pd  \n",
        "from matplotlib import pyplot as plt\n",
        "from ipywidgets import interact\n",
        "\n",
        "# Import Scikit-Learn library for the regression models\n",
        "import sklearn         \n",
        "from sklearn import linear_model\n",
        "from sklearn.model_selection import train_test_split\n",
        "from sklearn.metrics import mean_squared_error, r2_score\n",
        "\n",
        "# for enrichment topics\n",
        "import seaborn as sns\n",
        "import numpy as np"
      ],
      "execution_count": null,
      "outputs": []
    },
    {
      "cell_type": "markdown",
      "metadata": {
        "id": "X_5nwoFWqKfH"
      },
      "source": [
        "### 1.0.2 Load Dataset\n",
        "\n",
        "[back to top](#top)\n",
        "\n",
        "For our discussion on regression and descriptive statistics today we will use a well known dataset of different wines and their quality ratings"
      ]
    },
    {
      "cell_type": "code",
      "metadata": {
        "colab": {
          "base_uri": "https://localhost:8080/"
        },
        "id": "_ZOC3aDmqNRr",
        "outputId": "ef277087-7d0a-4023-a535-0a70e21a39db"
      },
      "source": [
        "df = pd.read_csv(\"https://raw.githubusercontent.com/wesleybeckner/\"\\\n",
        "                 \"ds_for_engineers/main/data/wine_quality/winequalityN.csv\")\n",
        "df.shape"
      ],
      "execution_count": null,
      "outputs": [
        {
          "output_type": "execute_result",
          "data": {
            "text/plain": [
              "(6497, 13)"
            ]
          },
          "metadata": {},
          "execution_count": 2
        }
      ]
    },
    {
      "cell_type": "code",
      "metadata": {
        "colab": {
          "base_uri": "https://localhost:8080/",
          "height": 355
        },
        "id": "EE7amHruJvEr",
        "outputId": "2ca5693d-ea5c-487f-9a89-7983cf087731"
      },
      "source": [
        "df.describe()"
      ],
      "execution_count": null,
      "outputs": [
        {
          "output_type": "execute_result",
          "data": {
            "text/html": [
              "<div>\n",
              "<style scoped>\n",
              "    .dataframe tbody tr th:only-of-type {\n",
              "        vertical-align: middle;\n",
              "    }\n",
              "\n",
              "    .dataframe tbody tr th {\n",
              "        vertical-align: top;\n",
              "    }\n",
              "\n",
              "    .dataframe thead th {\n",
              "        text-align: right;\n",
              "    }\n",
              "</style>\n",
              "<table border=\"1\" class=\"dataframe\">\n",
              "  <thead>\n",
              "    <tr style=\"text-align: right;\">\n",
              "      <th></th>\n",
              "      <th>fixed acidity</th>\n",
              "      <th>volatile acidity</th>\n",
              "      <th>citric acid</th>\n",
              "      <th>residual sugar</th>\n",
              "      <th>chlorides</th>\n",
              "      <th>free sulfur dioxide</th>\n",
              "      <th>total sulfur dioxide</th>\n",
              "      <th>density</th>\n",
              "      <th>pH</th>\n",
              "      <th>sulphates</th>\n",
              "      <th>alcohol</th>\n",
              "      <th>quality</th>\n",
              "    </tr>\n",
              "  </thead>\n",
              "  <tbody>\n",
              "    <tr>\n",
              "      <th>count</th>\n",
              "      <td>6487.000000</td>\n",
              "      <td>6489.000000</td>\n",
              "      <td>6494.000000</td>\n",
              "      <td>6495.000000</td>\n",
              "      <td>6495.000000</td>\n",
              "      <td>6497.000000</td>\n",
              "      <td>6497.000000</td>\n",
              "      <td>6497.000000</td>\n",
              "      <td>6488.000000</td>\n",
              "      <td>6493.000000</td>\n",
              "      <td>6497.000000</td>\n",
              "      <td>6497.000000</td>\n",
              "    </tr>\n",
              "    <tr>\n",
              "      <th>mean</th>\n",
              "      <td>7.216579</td>\n",
              "      <td>0.339691</td>\n",
              "      <td>0.318722</td>\n",
              "      <td>5.444326</td>\n",
              "      <td>0.056042</td>\n",
              "      <td>30.525319</td>\n",
              "      <td>115.744574</td>\n",
              "      <td>0.994697</td>\n",
              "      <td>3.218395</td>\n",
              "      <td>0.531215</td>\n",
              "      <td>10.491801</td>\n",
              "      <td>5.818378</td>\n",
              "    </tr>\n",
              "    <tr>\n",
              "      <th>std</th>\n",
              "      <td>1.296750</td>\n",
              "      <td>0.164649</td>\n",
              "      <td>0.145265</td>\n",
              "      <td>4.758125</td>\n",
              "      <td>0.035036</td>\n",
              "      <td>17.749400</td>\n",
              "      <td>56.521855</td>\n",
              "      <td>0.002999</td>\n",
              "      <td>0.160748</td>\n",
              "      <td>0.148814</td>\n",
              "      <td>1.192712</td>\n",
              "      <td>0.873255</td>\n",
              "    </tr>\n",
              "    <tr>\n",
              "      <th>min</th>\n",
              "      <td>3.800000</td>\n",
              "      <td>0.080000</td>\n",
              "      <td>0.000000</td>\n",
              "      <td>0.600000</td>\n",
              "      <td>0.009000</td>\n",
              "      <td>1.000000</td>\n",
              "      <td>6.000000</td>\n",
              "      <td>0.987110</td>\n",
              "      <td>2.720000</td>\n",
              "      <td>0.220000</td>\n",
              "      <td>8.000000</td>\n",
              "      <td>3.000000</td>\n",
              "    </tr>\n",
              "    <tr>\n",
              "      <th>25%</th>\n",
              "      <td>6.400000</td>\n",
              "      <td>0.230000</td>\n",
              "      <td>0.250000</td>\n",
              "      <td>1.800000</td>\n",
              "      <td>0.038000</td>\n",
              "      <td>17.000000</td>\n",
              "      <td>77.000000</td>\n",
              "      <td>0.992340</td>\n",
              "      <td>3.110000</td>\n",
              "      <td>0.430000</td>\n",
              "      <td>9.500000</td>\n",
              "      <td>5.000000</td>\n",
              "    </tr>\n",
              "    <tr>\n",
              "      <th>50%</th>\n",
              "      <td>7.000000</td>\n",
              "      <td>0.290000</td>\n",
              "      <td>0.310000</td>\n",
              "      <td>3.000000</td>\n",
              "      <td>0.047000</td>\n",
              "      <td>29.000000</td>\n",
              "      <td>118.000000</td>\n",
              "      <td>0.994890</td>\n",
              "      <td>3.210000</td>\n",
              "      <td>0.510000</td>\n",
              "      <td>10.300000</td>\n",
              "      <td>6.000000</td>\n",
              "    </tr>\n",
              "    <tr>\n",
              "      <th>75%</th>\n",
              "      <td>7.700000</td>\n",
              "      <td>0.400000</td>\n",
              "      <td>0.390000</td>\n",
              "      <td>8.100000</td>\n",
              "      <td>0.065000</td>\n",
              "      <td>41.000000</td>\n",
              "      <td>156.000000</td>\n",
              "      <td>0.996990</td>\n",
              "      <td>3.320000</td>\n",
              "      <td>0.600000</td>\n",
              "      <td>11.300000</td>\n",
              "      <td>6.000000</td>\n",
              "    </tr>\n",
              "    <tr>\n",
              "      <th>max</th>\n",
              "      <td>15.900000</td>\n",
              "      <td>1.580000</td>\n",
              "      <td>1.660000</td>\n",
              "      <td>65.800000</td>\n",
              "      <td>0.611000</td>\n",
              "      <td>289.000000</td>\n",
              "      <td>440.000000</td>\n",
              "      <td>1.038980</td>\n",
              "      <td>4.010000</td>\n",
              "      <td>2.000000</td>\n",
              "      <td>14.900000</td>\n",
              "      <td>9.000000</td>\n",
              "    </tr>\n",
              "  </tbody>\n",
              "</table>\n",
              "</div>"
            ],
            "text/plain": [
              "       fixed acidity  volatile acidity  ...      alcohol      quality\n",
              "count    6487.000000       6489.000000  ...  6497.000000  6497.000000\n",
              "mean        7.216579          0.339691  ...    10.491801     5.818378\n",
              "std         1.296750          0.164649  ...     1.192712     0.873255\n",
              "min         3.800000          0.080000  ...     8.000000     3.000000\n",
              "25%         6.400000          0.230000  ...     9.500000     5.000000\n",
              "50%         7.000000          0.290000  ...    10.300000     6.000000\n",
              "75%         7.700000          0.400000  ...    11.300000     6.000000\n",
              "max        15.900000          1.580000  ...    14.900000     9.000000\n",
              "\n",
              "[8 rows x 12 columns]"
            ]
          },
          "metadata": {},
          "execution_count": 3
        }
      ]
    },
    {
      "cell_type": "markdown",
      "metadata": {
        "id": "cm6isl1eQBwX"
      },
      "source": [
        "## 1.1 What is regression? "
      ]
    },
    {
      "cell_type": "markdown",
      "metadata": {
        "id": "crBj3b4FHemQ"
      },
      "source": [
        "It is the process of finding a relationship between **_dependent_** and **_independent_** variables to find trends in data. This abstract definition means that you have one variable (the dependent variable) which depends on one or more variables (the independent variables). One of the reasons for which we want to regress data is to understand whether there is a trend between two variables. \n",
        "\n",
        "**Housing Prices Example**\n",
        "\n",
        "We can imagine this scenario with housing prices. Envision a **_mixed_** dataset of **_continuous_** and **_discrete_** independent variables. Some features could be continuous, floating point values like location ranking and housing condition. Others could be descrete like the number of rooms or bathrooms. We could take these features and use them to predict a house value. This would be a **_regression_** model.\n",
        "\n",
        "<p align=center>\n",
        "<img src=\"https://raw.githubusercontent.com/wesleybeckner/technology_explorers/main/assets/machine_learning/ML3.png\" width=1000px></img>\n",
        "</p>\n",
        "\n",
        "\n",
        "\n",
        "\n"
      ]
    },
    {
      "cell_type": "markdown",
      "metadata": {
        "id": "qppNLSFvQBwX"
      },
      "source": [
        "## 1.2  Linear regression fitting with scikit-learn"
      ]
    },
    {
      "cell_type": "markdown",
      "metadata": {
        "id": "eAcHDd1vQBwY"
      },
      "source": [
        "#### 🏋️ Exercise 1: rudimentary EDA\n",
        "What does the data look like? Recall how to visualize data in a pandas dataframe \n",
        "\n",
        "<ul>\n",
        "<li> for every column calculate the\n",
        "\n",
        "  * skew: `df.skew()`\n",
        "  * kurtosis: `df.kurtosis()`\n",
        "  * pearsons correlation with the dependent variable: `df.corr()`\n",
        "  * number of missing entries `df.isnull()`\n",
        "\n",
        "and organize this into a new dataframe\n",
        "</li>\n",
        "</ul>\n",
        "\n",
        "_note:_ pearsons is just one type of correlation, another available to us **_spearman_** which differs from pearsons in that it depends on ranked values rather than their direct quantities, you can read more [here](https://support.minitab.com/en-us/minitab-express/1/help-and-how-to/modeling-statistics/regression/supporting-topics/basics/a-comparison-of-the-pearson-and-spearman-correlation-methods/)"
      ]
    },
    {
      "cell_type": "code",
      "metadata": {
        "colab": {
          "base_uri": "https://localhost:8080/"
        },
        "id": "R6rNSiulxGhe",
        "outputId": "aea440e4-678e-4c4b-bff1-b148c44afbd7"
      },
      "source": [
        "df.isnull().sum()"
      ],
      "execution_count": null,
      "outputs": [
        {
          "output_type": "execute_result",
          "data": {
            "text/plain": [
              "type                     0\n",
              "fixed acidity           10\n",
              "volatile acidity         8\n",
              "citric acid              3\n",
              "residual sugar           2\n",
              "chlorides                2\n",
              "free sulfur dioxide      0\n",
              "total sulfur dioxide     0\n",
              "density                  0\n",
              "pH                       9\n",
              "sulphates                4\n",
              "alcohol                  0\n",
              "quality                  0\n",
              "dtype: int64"
            ]
          },
          "metadata": {},
          "execution_count": 4
        }
      ]
    },
    {
      "cell_type": "code",
      "metadata": {
        "id": "0-TMjSfuQBwY"
      },
      "source": [
        "# Cell for Exercise 1\n",
        "\n",
        "# part A \n",
        "# using df.<method> define the following four variables with the results from\n",
        "# skew(), kurtosis(), corr() (and selecting for quality), and isnull()\n",
        "# for isnull() you'll notice the return is a dataframe of booleans. we would\n",
        "# like to simply know the number of null values for each column. change the\n",
        "# return of isnull() using the sum() method\n",
        "\n",
        "# skew =\n",
        "# kurt =\n",
        "# pear =\n",
        "# null =\n",
        "\n",
        "# part B\n",
        "# on line 13, put these results in a list using square brackets and call \n",
        "# pandas.DataFrame on the list to make your new DataFrame! store it under the\n",
        "# variable name dff\n",
        "\n",
        "\n",
        "\n",
        "# part C\n",
        "# take the transpose of this DataFrame using dff.T. reassign dff to this copy\n",
        "\n",
        "\n",
        "\n",
        "# part D\n",
        "# set the column names to 'skew', 'kurtosis', 'pearsons _quality', and \n",
        "# 'null count' using dff.columns\n",
        "\n",
        "\n",
        "\n",
        "# Now return dff to the output to view your hand work\n",
        "# dff"
      ],
      "execution_count": null,
      "outputs": []
    },
    {
      "cell_type": "markdown",
      "metadata": {
        "id": "WyXKiL0AEhLG"
      },
      "source": [
        "I have gone ahead and repeated this exercise with the red vs white wine types:"
      ]
    },
    {
      "cell_type": "code",
      "metadata": {
        "id": "7b-f89XCFFB4"
      },
      "source": [
        "red = df.loc[df['type'] == 'red']\n",
        "wht = df.loc[df['type'] == 'white']\n",
        "\n",
        "def get_summary(df):\n",
        "  skew = df.skew()\n",
        "  kurt = df.kurtosis()\n",
        "  pear = df.corr()['quality']\n",
        "  null = df.isnull().sum()\n",
        "  med = df.median()\n",
        "  men = df.mean()\n",
        "\n",
        "  dff = pd.DataFrame([skew, kurt, pear, null, med, men])\n",
        "  dff = dff.T\n",
        "  dff.columns = ['skew', 'kurtosis', 'pearsons _quality', 'null count', 'median',\n",
        "                'mean']\n",
        "  return dff\n",
        "\n",
        "dffr = get_summary(red)\n",
        "dffw = get_summary(wht)\n",
        "\n",
        "desc = pd.concat([dffr, dffw], keys=['red', 'white'])"
      ],
      "execution_count": null,
      "outputs": []
    },
    {
      "cell_type": "code",
      "metadata": {
        "colab": {
          "base_uri": "https://localhost:8080/",
          "height": 865
        },
        "id": "EpBmNL_FEp5y",
        "outputId": "c2f1a367-19e7-408f-8fbb-b6be6ea26e1b"
      },
      "source": [
        "desc"
      ],
      "execution_count": null,
      "outputs": [
        {
          "output_type": "execute_result",
          "data": {
            "text/html": [
              "<div>\n",
              "<style scoped>\n",
              "    .dataframe tbody tr th:only-of-type {\n",
              "        vertical-align: middle;\n",
              "    }\n",
              "\n",
              "    .dataframe tbody tr th {\n",
              "        vertical-align: top;\n",
              "    }\n",
              "\n",
              "    .dataframe thead th {\n",
              "        text-align: right;\n",
              "    }\n",
              "</style>\n",
              "<table border=\"1\" class=\"dataframe\">\n",
              "  <thead>\n",
              "    <tr style=\"text-align: right;\">\n",
              "      <th></th>\n",
              "      <th></th>\n",
              "      <th>skew</th>\n",
              "      <th>kurtosis</th>\n",
              "      <th>pearsons _quality</th>\n",
              "      <th>null count</th>\n",
              "      <th>median</th>\n",
              "      <th>mean</th>\n",
              "    </tr>\n",
              "  </thead>\n",
              "  <tbody>\n",
              "    <tr>\n",
              "      <th rowspan=\"13\" valign=\"top\">red</th>\n",
              "      <th>fixed acidity</th>\n",
              "      <td>0.982192</td>\n",
              "      <td>1.132624</td>\n",
              "      <td>0.123834</td>\n",
              "      <td>2.0</td>\n",
              "      <td>7.90000</td>\n",
              "      <td>8.322104</td>\n",
              "    </tr>\n",
              "    <tr>\n",
              "      <th>volatile acidity</th>\n",
              "      <td>0.672862</td>\n",
              "      <td>1.226846</td>\n",
              "      <td>-0.390858</td>\n",
              "      <td>1.0</td>\n",
              "      <td>0.52000</td>\n",
              "      <td>0.527738</td>\n",
              "    </tr>\n",
              "    <tr>\n",
              "      <th>citric acid</th>\n",
              "      <td>0.317891</td>\n",
              "      <td>-0.788476</td>\n",
              "      <td>0.226917</td>\n",
              "      <td>1.0</td>\n",
              "      <td>0.26000</td>\n",
              "      <td>0.271145</td>\n",
              "    </tr>\n",
              "    <tr>\n",
              "      <th>residual sugar</th>\n",
              "      <td>4.540655</td>\n",
              "      <td>28.617595</td>\n",
              "      <td>0.013732</td>\n",
              "      <td>0.0</td>\n",
              "      <td>2.20000</td>\n",
              "      <td>2.538806</td>\n",
              "    </tr>\n",
              "    <tr>\n",
              "      <th>chlorides</th>\n",
              "      <td>5.680347</td>\n",
              "      <td>41.715787</td>\n",
              "      <td>-0.128907</td>\n",
              "      <td>0.0</td>\n",
              "      <td>0.07900</td>\n",
              "      <td>0.087467</td>\n",
              "    </tr>\n",
              "    <tr>\n",
              "      <th>free sulfur dioxide</th>\n",
              "      <td>1.250567</td>\n",
              "      <td>2.023562</td>\n",
              "      <td>-0.050656</td>\n",
              "      <td>0.0</td>\n",
              "      <td>14.00000</td>\n",
              "      <td>15.874922</td>\n",
              "    </tr>\n",
              "    <tr>\n",
              "      <th>total sulfur dioxide</th>\n",
              "      <td>1.515531</td>\n",
              "      <td>3.809824</td>\n",
              "      <td>-0.185100</td>\n",
              "      <td>0.0</td>\n",
              "      <td>38.00000</td>\n",
              "      <td>46.467792</td>\n",
              "    </tr>\n",
              "    <tr>\n",
              "      <th>density</th>\n",
              "      <td>0.071288</td>\n",
              "      <td>0.934079</td>\n",
              "      <td>-0.174919</td>\n",
              "      <td>0.0</td>\n",
              "      <td>0.99675</td>\n",
              "      <td>0.996747</td>\n",
              "    </tr>\n",
              "    <tr>\n",
              "      <th>pH</th>\n",
              "      <td>0.194803</td>\n",
              "      <td>0.814690</td>\n",
              "      <td>-0.057094</td>\n",
              "      <td>2.0</td>\n",
              "      <td>3.31000</td>\n",
              "      <td>3.310864</td>\n",
              "    </tr>\n",
              "    <tr>\n",
              "      <th>sulphates</th>\n",
              "      <td>2.429115</td>\n",
              "      <td>11.712632</td>\n",
              "      <td>0.251685</td>\n",
              "      <td>2.0</td>\n",
              "      <td>0.62000</td>\n",
              "      <td>0.658078</td>\n",
              "    </tr>\n",
              "    <tr>\n",
              "      <th>alcohol</th>\n",
              "      <td>0.860829</td>\n",
              "      <td>0.200029</td>\n",
              "      <td>0.476166</td>\n",
              "      <td>0.0</td>\n",
              "      <td>10.20000</td>\n",
              "      <td>10.422983</td>\n",
              "    </tr>\n",
              "    <tr>\n",
              "      <th>quality</th>\n",
              "      <td>0.217802</td>\n",
              "      <td>0.296708</td>\n",
              "      <td>1.000000</td>\n",
              "      <td>0.0</td>\n",
              "      <td>6.00000</td>\n",
              "      <td>5.636023</td>\n",
              "    </tr>\n",
              "    <tr>\n",
              "      <th>type</th>\n",
              "      <td>NaN</td>\n",
              "      <td>NaN</td>\n",
              "      <td>NaN</td>\n",
              "      <td>0.0</td>\n",
              "      <td>NaN</td>\n",
              "      <td>NaN</td>\n",
              "    </tr>\n",
              "    <tr>\n",
              "      <th rowspan=\"13\" valign=\"top\">white</th>\n",
              "      <th>fixed acidity</th>\n",
              "      <td>0.647981</td>\n",
              "      <td>2.176560</td>\n",
              "      <td>-0.114032</td>\n",
              "      <td>8.0</td>\n",
              "      <td>6.80000</td>\n",
              "      <td>6.855532</td>\n",
              "    </tr>\n",
              "    <tr>\n",
              "      <th>volatile acidity</th>\n",
              "      <td>1.578595</td>\n",
              "      <td>5.095526</td>\n",
              "      <td>-0.194976</td>\n",
              "      <td>7.0</td>\n",
              "      <td>0.26000</td>\n",
              "      <td>0.278252</td>\n",
              "    </tr>\n",
              "    <tr>\n",
              "      <th>citric acid</th>\n",
              "      <td>1.284217</td>\n",
              "      <td>6.182036</td>\n",
              "      <td>-0.009194</td>\n",
              "      <td>2.0</td>\n",
              "      <td>0.32000</td>\n",
              "      <td>0.334250</td>\n",
              "    </tr>\n",
              "    <tr>\n",
              "      <th>residual sugar</th>\n",
              "      <td>1.076601</td>\n",
              "      <td>3.469536</td>\n",
              "      <td>-0.097373</td>\n",
              "      <td>2.0</td>\n",
              "      <td>5.20000</td>\n",
              "      <td>6.393250</td>\n",
              "    </tr>\n",
              "    <tr>\n",
              "      <th>chlorides</th>\n",
              "      <td>5.023412</td>\n",
              "      <td>37.560847</td>\n",
              "      <td>-0.210181</td>\n",
              "      <td>2.0</td>\n",
              "      <td>0.04300</td>\n",
              "      <td>0.045778</td>\n",
              "    </tr>\n",
              "    <tr>\n",
              "      <th>free sulfur dioxide</th>\n",
              "      <td>1.406745</td>\n",
              "      <td>11.466342</td>\n",
              "      <td>0.008158</td>\n",
              "      <td>0.0</td>\n",
              "      <td>34.00000</td>\n",
              "      <td>35.308085</td>\n",
              "    </tr>\n",
              "    <tr>\n",
              "      <th>total sulfur dioxide</th>\n",
              "      <td>0.390710</td>\n",
              "      <td>0.571853</td>\n",
              "      <td>-0.174737</td>\n",
              "      <td>0.0</td>\n",
              "      <td>134.00000</td>\n",
              "      <td>138.360657</td>\n",
              "    </tr>\n",
              "    <tr>\n",
              "      <th>density</th>\n",
              "      <td>0.977773</td>\n",
              "      <td>9.793807</td>\n",
              "      <td>-0.307123</td>\n",
              "      <td>0.0</td>\n",
              "      <td>0.99374</td>\n",
              "      <td>0.994027</td>\n",
              "    </tr>\n",
              "    <tr>\n",
              "      <th>pH</th>\n",
              "      <td>0.458402</td>\n",
              "      <td>0.532552</td>\n",
              "      <td>0.098858</td>\n",
              "      <td>7.0</td>\n",
              "      <td>3.18000</td>\n",
              "      <td>3.188203</td>\n",
              "    </tr>\n",
              "    <tr>\n",
              "      <th>sulphates</th>\n",
              "      <td>0.977361</td>\n",
              "      <td>1.589847</td>\n",
              "      <td>0.053690</td>\n",
              "      <td>2.0</td>\n",
              "      <td>0.47000</td>\n",
              "      <td>0.489835</td>\n",
              "    </tr>\n",
              "    <tr>\n",
              "      <th>alcohol</th>\n",
              "      <td>0.487342</td>\n",
              "      <td>-0.698425</td>\n",
              "      <td>0.435575</td>\n",
              "      <td>0.0</td>\n",
              "      <td>10.40000</td>\n",
              "      <td>10.514267</td>\n",
              "    </tr>\n",
              "    <tr>\n",
              "      <th>quality</th>\n",
              "      <td>0.155796</td>\n",
              "      <td>0.216526</td>\n",
              "      <td>1.000000</td>\n",
              "      <td>0.0</td>\n",
              "      <td>6.00000</td>\n",
              "      <td>5.877909</td>\n",
              "    </tr>\n",
              "    <tr>\n",
              "      <th>type</th>\n",
              "      <td>NaN</td>\n",
              "      <td>NaN</td>\n",
              "      <td>NaN</td>\n",
              "      <td>0.0</td>\n",
              "      <td>NaN</td>\n",
              "      <td>NaN</td>\n",
              "    </tr>\n",
              "  </tbody>\n",
              "</table>\n",
              "</div>"
            ],
            "text/plain": [
              "                                skew   kurtosis  ...     median        mean\n",
              "red   fixed acidity         0.982192   1.132624  ...    7.90000    8.322104\n",
              "      volatile acidity      0.672862   1.226846  ...    0.52000    0.527738\n",
              "      citric acid           0.317891  -0.788476  ...    0.26000    0.271145\n",
              "      residual sugar        4.540655  28.617595  ...    2.20000    2.538806\n",
              "      chlorides             5.680347  41.715787  ...    0.07900    0.087467\n",
              "      free sulfur dioxide   1.250567   2.023562  ...   14.00000   15.874922\n",
              "      total sulfur dioxide  1.515531   3.809824  ...   38.00000   46.467792\n",
              "      density               0.071288   0.934079  ...    0.99675    0.996747\n",
              "      pH                    0.194803   0.814690  ...    3.31000    3.310864\n",
              "      sulphates             2.429115  11.712632  ...    0.62000    0.658078\n",
              "      alcohol               0.860829   0.200029  ...   10.20000   10.422983\n",
              "      quality               0.217802   0.296708  ...    6.00000    5.636023\n",
              "      type                       NaN        NaN  ...        NaN         NaN\n",
              "white fixed acidity         0.647981   2.176560  ...    6.80000    6.855532\n",
              "      volatile acidity      1.578595   5.095526  ...    0.26000    0.278252\n",
              "      citric acid           1.284217   6.182036  ...    0.32000    0.334250\n",
              "      residual sugar        1.076601   3.469536  ...    5.20000    6.393250\n",
              "      chlorides             5.023412  37.560847  ...    0.04300    0.045778\n",
              "      free sulfur dioxide   1.406745  11.466342  ...   34.00000   35.308085\n",
              "      total sulfur dioxide  0.390710   0.571853  ...  134.00000  138.360657\n",
              "      density               0.977773   9.793807  ...    0.99374    0.994027\n",
              "      pH                    0.458402   0.532552  ...    3.18000    3.188203\n",
              "      sulphates             0.977361   1.589847  ...    0.47000    0.489835\n",
              "      alcohol               0.487342  -0.698425  ...   10.40000   10.514267\n",
              "      quality               0.155796   0.216526  ...    6.00000    5.877909\n",
              "      type                       NaN        NaN  ...        NaN         NaN\n",
              "\n",
              "[26 rows x 6 columns]"
            ]
          },
          "metadata": {},
          "execution_count": 7
        }
      ]
    },
    {
      "cell_type": "code",
      "metadata": {
        "id": "K9DDzhpjF-xu"
      },
      "source": [
        "def my_fig(metric=desc.columns):\n",
        "  fig, ax = plt.subplots(1, 1, figsize=(10,10))\n",
        "  pd.DataFrame(desc[metric]).unstack()[metric].T.plot(kind='barh', ax=ax)"
      ],
      "execution_count": null,
      "outputs": []
    },
    {
      "cell_type": "code",
      "metadata": {
        "colab": {
          "base_uri": "https://localhost:8080/",
          "height": 641,
          "referenced_widgets": [
            "354a0d58aaa14173bc76fd2efe09bc63",
            "fed64b8851ef4ce8816962c7db22c84a",
            "66d216e013164aee8ea8fe7fb465d323",
            "e39dc67726ef4f39b8c1b3d13afc1cb3",
            "d2b5020b09e94a7d91d294925bcda621",
            "09614a1f868f42d890918ac41b59c876",
            "5225de349f92499b9fad986a99473b35"
          ]
        },
        "id": "-POOBsVeutdM",
        "outputId": "0c3f9faa-0c2d-498f-8fbe-bd81066aeed6"
      },
      "source": [
        "interact(my_fig)"
      ],
      "execution_count": null,
      "outputs": [
        {
          "output_type": "display_data",
          "data": {
            "application/vnd.jupyter.widget-view+json": {
              "model_id": "354a0d58aaa14173bc76fd2efe09bc63",
              "version_minor": 0,
              "version_major": 2
            },
            "text/plain": [
              "interactive(children=(Dropdown(description='metric', options=('skew', 'kurtosis', 'pearsons _quality', 'null c…"
            ]
          },
          "metadata": {}
        },
        {
          "output_type": "execute_result",
          "data": {
            "text/plain": [
              "<function __main__.my_fig>"
            ]
          },
          "metadata": {},
          "execution_count": 9
        }
      ]
    },
    {
      "cell_type": "markdown",
      "metadata": {
        "id": "IdvF2jjyGRlh"
      },
      "source": [
        "#### 🙋 Question 1: Discussion Around EDA Plot\n",
        "\n",
        "What do we think of this plot?\n",
        "\n",
        "> `metric = mean`, the cholrides values <br>\n",
        "`metric = kurtosis`, residual sugar <br>\n",
        "`metric = pearsons _quality`, _magnitudes_ and _directions_ <br>\n",
        "How to improve the plot, what other plots would we like to see?"
      ]
    },
    {
      "cell_type": "code",
      "metadata": {
        "colab": {
          "base_uri": "https://localhost:8080/"
        },
        "id": "1dA1h7CAwHvv",
        "outputId": "21d3bd29-9783-4667-ea41-ba3cff059edf"
      },
      "source": [
        "df['chlorides'].describe()"
      ],
      "execution_count": null,
      "outputs": [
        {
          "output_type": "execute_result",
          "data": {
            "text/plain": [
              "count    6495.000000\n",
              "mean        0.056042\n",
              "std         0.035036\n",
              "min         0.009000\n",
              "25%         0.038000\n",
              "50%         0.047000\n",
              "75%         0.065000\n",
              "max         0.611000\n",
              "Name: chlorides, dtype: float64"
            ]
          },
          "metadata": {},
          "execution_count": 22
        }
      ]
    },
    {
      "cell_type": "code",
      "metadata": {
        "colab": {
          "base_uri": "https://localhost:8080/",
          "height": 609
        },
        "id": "BlIRssBtFq_9",
        "outputId": "43cedbe8-93b5-448b-d3e1-598b70b40d23"
      },
      "source": [
        "fig, ax = plt.subplots(1,1,figsize=(10,10))\n",
        "df['chlorides'].plot(kind='kde',ax=ax)\n",
        "ax.set_xlim(0,.61)"
      ],
      "execution_count": null,
      "outputs": [
        {
          "output_type": "execute_result",
          "data": {
            "text/plain": [
              "(0.0, 0.61)"
            ]
          },
          "metadata": {},
          "execution_count": 23
        },
        {
          "output_type": "display_data",
          "data": {
            "image/png": "[encoded data removed]",
            "text/plain": [
              "<Figure size 720x720 with 1 Axes>"
            ]
          },
          "metadata": {
            "needs_background": "light"
          }
        }
      ]
    },
    {
      "cell_type": "code",
      "metadata": {
        "colab": {
          "base_uri": "https://localhost:8080/"
        },
        "id": "_rEEPUxpF6go",
        "outputId": "71d2fa74-6506-4a99-c940-312cf615cdee"
      },
      "source": [
        "df['chlorides'].sort_values(ascending=False)[:50]"
      ],
      "execution_count": null,
      "outputs": [
        {
          "output_type": "execute_result",
          "data": {
            "text/plain": [
              "5156    0.611\n",
              "5049    0.610\n",
              "5004    0.467\n",
              "4979    0.464\n",
              "5590    0.422\n",
              "5652    0.415\n",
              "6268    0.415\n",
              "6270    0.415\n",
              "6217    0.414\n",
              "5949    0.414\n",
              "5349    0.413\n",
              "6158    0.403\n",
              "4981    0.401\n",
              "5628    0.387\n",
              "6063    0.369\n",
              "4915    0.368\n",
              "5067    0.360\n",
              "5179    0.358\n",
              "484     0.346\n",
              "5189    0.343\n",
              "4917    0.341\n",
              "5124    0.337\n",
              "4940    0.332\n",
              "1217    0.301\n",
              "687     0.290\n",
              "4473    0.271\n",
              "5079    0.270\n",
              "6272    0.267\n",
              "5138    0.263\n",
              "1865    0.255\n",
              "5466    0.250\n",
              "1034    0.244\n",
              "5674    0.243\n",
              "5675    0.241\n",
              "683     0.240\n",
              "1638    0.239\n",
              "5045    0.236\n",
              "6456    0.235\n",
              "6468    0.230\n",
              "5465    0.226\n",
              "5464    0.226\n",
              "5564    0.222\n",
              "2186    0.217\n",
              "5996    0.216\n",
              "6332    0.214\n",
              "6333    0.214\n",
              "5206    0.214\n",
              "5205    0.213\n",
              "4497    0.212\n",
              "1835    0.211\n",
              "Name: chlorides, dtype: float64"
            ]
          },
          "metadata": {},
          "execution_count": 12
        }
      ]
    },
    {
      "cell_type": "markdown",
      "metadata": {
        "id": "9vavdktFQBwZ"
      },
      "source": [
        "### 1.2.2 Visualizing the data set - motivating regression analysis"
      ]
    },
    {
      "cell_type": "markdown",
      "metadata": {
        "id": "wy3XoXStQBwZ"
      },
      "source": [
        "We can create a scatter plot of fixed acidity vs density of red wine in the dataset using `df.plot()` and see that there appears to be a general trend between the two features:"
      ]
    },
    {
      "cell_type": "code",
      "metadata": {
        "colab": {
          "base_uri": "https://localhost:8080/",
          "height": 351
        },
        "id": "DTkwPrlLA2aX",
        "outputId": "4a0eeb33-032d-49ea-a8a8-f9a5b8a831e4"
      },
      "source": [
        "fig, ax = plt.subplots(1, 1, figsize=(5,5))\n",
        "df.loc[df['type'] == 'red'].plot(x='fixed acidity', y='density', ax=ax, \n",
        "                                 ls='', marker='.')"
      ],
      "execution_count": null,
      "outputs": [
        {
          "output_type": "execute_result",
          "data": {
            "text/plain": [
              "<matplotlib.axes._subplots.AxesSubplot at 0x7f3158ad7290>"
            ]
          },
          "metadata": {},
          "execution_count": 13
        },
        {
          "output_type": "display_data",
          "data": {
            "image/png": "[encoded data removed]",
            "text/plain": [
              "<Figure size 360x360 with 1 Axes>"
            ]
          },
          "metadata": {
            "needs_background": "light"
          }
        }
      ]
    },
    {
      "cell_type": "markdown",
      "metadata": {
        "id": "Gp_Ssxc1QBwZ"
      },
      "source": [
        "### 1.2.3 Estimating the regression coefficients\n",
        "\n",
        "It looks like density increases with fixed acidity following a line, maybe something like\n",
        "\n",
        "$$y(x)= m \\cdot x + b  \\;\\;\\;\\;\\;\\;\\;\\; \\sf{eq. 1}$$ \n",
        "\n",
        "with \\\\( y=\\sf density \\\\), \\\\(x=\\sf fixed acidity\\\\), and \\\\(m\\\\) the slope and \\\\(b\\\\) the intercept. \n",
        "\n",
        "To solve the problem, we need to find the values of \\\\(b\\\\) and \\\\(m\\\\) in equation 1 to best fit the data. This is called **linear regression**.\n",
        "\n",
        "In linear regression our goal is to minimize the error between computed values of positions \\\\(y^{\\sf calc}(x_i)\\equiv y^{\\sf calc}_i\\\\) and known values \\\\(y^{\\sf exact}(x_i)\\equiv y^{\\sf exact}_i\\\\), i.e. find \\\\(b\\\\) and \\\\(m\\\\) which lead to lowest value of\n",
        "\n",
        "$$\\epsilon (m,b) =SS_{\\sf res}=\\sum_{i=1}^{N}\\left(y^{\\sf exact}_i - y^{\\sf calc}_i\\right)^2 = \\sum_{i=1}^{N}\\left(y^{\\sf exact}_i - m\\cdot x_i - b \\right)^2\\;\\;\\;\\;\\;\\;\\;\\;\\;\\;\\;\\sf{eq. 2}$$\n",
        "\n",
        "To find out more see e.g. https://en.wikipedia.org/wiki/Simple_linear_regression\n"
      ]
    },
    {
      "cell_type": "markdown",
      "metadata": {
        "id": "18lLAfaHQBwZ"
      },
      "source": [
        "#### 🙋 Question 2: linear regression loss function\n",
        "> Do we always want *m* and *b* to be large positive numbers so as to minimize eq. 2? "
      ]
    },
    {
      "cell_type": "markdown",
      "metadata": {
        "id": "cxPnpy8jQBwZ"
      },
      "source": [
        "\n",
        "Luckily [scikit-learn](https://scikit-learn.org/stable/) contains many functions related to regression including [linear regression](https://scikit-learn.org/stable/modules/linear_model.html). \n",
        "\n",
        "The function we will use is called <code> LinearRegression() </code>. \n",
        "\n",
        "```\n",
        "# Create linear regression object\n",
        "model = linear_model.LinearRegression()\n",
        "\n",
        "# Use model to fit to the data, the x values are densities and the y values are fixed acidity\n",
        "# Note that we need to reshape the vectors to be of the shape x - (n_samples, n_features) and y (n_samples, n_targets)\n",
        "x = red['density'].values.reshape(-1, 1)\n",
        "y = red['fixed acidity'].values.reshape(-1, 1)\n",
        "```"
      ]
    },
    {
      "cell_type": "code",
      "metadata": {
        "id": "AUWdaOgMQBwZ"
      },
      "source": [
        "# Create linear regression object\n",
        "model = linear_model.LinearRegression()\n",
        "\n",
        "# Use model to fit to the data, the x values are densities and the y values are fixed acidity\n",
        "# Note that we need to reshape the vectors to be of the shape x - (n_samples, n_features) and y (n_samples, n_targets)\n",
        "x = red['density'].values.reshape(-1, 1)\n",
        "y = red['fixed acidity'].values.reshape(-1, 1)"
      ],
      "execution_count": null,
      "outputs": []
    },
    {
      "cell_type": "markdown",
      "metadata": {
        "id": "M7dszV5EA-hL"
      },
      "source": [
        "```\n",
        "print(red['density'].values.shape, red['fixed acidity'].values.shape)\n",
        "print(x.shape, y.shape)\n",
        "```"
      ]
    },
    {
      "cell_type": "code",
      "metadata": {
        "id": "d25DN-kRAzw8",
        "colab": {
          "base_uri": "https://localhost:8080/"
        },
        "outputId": "b1c66db4-ae0e-4a4e-86ec-b56d535f5620"
      },
      "source": [
        "print(red['density'].values.shape, red['fixed acidity'].values.shape)\n",
        "print(x.shape, y.shape)"
      ],
      "execution_count": null,
      "outputs": [
        {
          "output_type": "stream",
          "name": "stdout",
          "text": [
            "(1599,) (1599,)\n",
            "(1599, 1) (1599, 1)\n"
          ]
        }
      ]
    },
    {
      "cell_type": "markdown",
      "metadata": {
        "id": "wD7EekCNBDiB"
      },
      "source": [
        "```\n",
        "# Fit to the data\n",
        "model.fit(x, y)\n",
        "\n",
        "# Extract the values of interest\n",
        "m = model.coef_[0][0]\n",
        "b = model.intercept_[0]\n",
        "\n",
        "# Print the slope m and intercept b\n",
        "print('Scikit learn - Slope: ', m , 'Intercept: ', b )\n",
        "```"
      ]
    },
    {
      "cell_type": "markdown",
      "metadata": {
        "id": "_Nn5Qu2ksoyQ"
      },
      "source": [
        "What happens when we try to fit the data as is?"
      ]
    },
    {
      "cell_type": "code",
      "metadata": {
        "id": "EGmVnF5tsmkl"
      },
      "source": [
        "# Fit to the data\n",
        "# model.fit(x, y)"
      ],
      "execution_count": null,
      "outputs": []
    },
    {
      "cell_type": "markdown",
      "metadata": {
        "id": "W_mENW9GtVG5"
      },
      "source": [
        "#### 🏋️ Exercise 2: drop Null Values (and practice pandas operations)\n",
        "\n",
        "Let's look back at our dataset description dataframe above, what do we notice, what contains null values?\n",
        "\n",
        "There are several strategies for dealing with null values. For now let's take the simplest case, and drop rows in our dataframe that contain null"
      ]
    },
    {
      "cell_type": "code",
      "metadata": {
        "id": "DIF33-m5tT7u"
      },
      "source": [
        "# Cell for Exercise 2\n",
        "# For this templated exercise you are going to complete everything in one line \n",
        "# of code, but we are going to break it up into steps. So for each part (A, B,\n",
        "# etc.) paste your answer from the previous part to begin\n",
        "\n",
        "# step A\n",
        "# select the 'density' and 'fixed acidity' columns of red. make sure the return\n",
        "# is a dataframe\n",
        "\n",
        "# step B\n",
        "# now use the dropna() method on axis 0 (the rows) to drop any null values \n",
        "\n",
        "# step B\n",
        "# select column 'density'\n",
        "\n",
        "# step C\n",
        "# select the values\n",
        "\n",
        "# step D\n",
        "# reshape the result with an empty second dimension using .reshape() and store\n",
        "# the result under variable x\n",
        "\n",
        "# repeat the same process with 'fixed acidity' and variable y"
      ],
      "execution_count": null,
      "outputs": []
    },
    {
      "cell_type": "markdown",
      "metadata": {
        "id": "1bRDIqBM9Fvk"
      },
      "source": [
        "Now that we have our x and y arrays we can fit using ScikitLearn"
      ]
    },
    {
      "cell_type": "code",
      "metadata": {
        "id": "xBrZ4w9nM4Co"
      },
      "source": [
        "x = red[['density', 'fixed acidity']].dropna(axis=0)['density'].values.reshape(-1,1)\n",
        "y = red[['density', 'fixed acidity']].dropna(axis=0)['fixed acidity'].values.reshape(-1,1)"
      ],
      "execution_count": null,
      "outputs": []
    },
    {
      "cell_type": "code",
      "metadata": {
        "id": "eFH0SXRkAnDB",
        "colab": {
          "base_uri": "https://localhost:8080/"
        },
        "outputId": "be382fc0-bc00-467a-ad82-e92a17631d02"
      },
      "source": [
        "# Fit to the data\n",
        "model.fit(x, y)\n",
        "\n",
        "# Extract the values of interest\n",
        "m = model.coef_[0][0]\n",
        "b = model.intercept_[0]\n",
        "\n",
        "# Print the slope m and intercept b\n",
        "print('Scikit learn - Slope: ', m , 'Intercept: ', b )"
      ],
      "execution_count": null,
      "outputs": [
        {
          "output_type": "stream",
          "name": "stdout",
          "text": [
            "Scikit learn - Slope:  616.0131428066102 Intercept:  -605.6880086750525\n"
          ]
        }
      ]
    },
    {
      "cell_type": "markdown",
      "metadata": {
        "id": "4uFUK6QfQBwa"
      },
      "source": [
        "#### 🏋️ Exercise 3: calculating y_pred\n",
        "Estimate the values of \\\\(y\\\\) by using your fitted parameters. Hint: Use your <code>model.coef_</code> and <code>model.intercept_</code> parameters to estimate y_pred following equation 1\n"
      ]
    },
    {
      "cell_type": "code",
      "metadata": {
        "id": "VFVrL1VQQBwa"
      },
      "source": [
        "# define y_pred in terms of m, x, and b\n",
        "# y_pred = \n",
        "\n",
        "# fig, ax = plt.subplots(1,1, figsize=(10,10))\n",
        "# ax.plot(x, y_pred, ls='', marker='*')\n",
        "# ax.plot(x, y, ls='', marker='.')"
      ],
      "execution_count": null,
      "outputs": []
    },
    {
      "cell_type": "markdown",
      "metadata": {
        "id": "pzeGpYvs9UlK"
      },
      "source": [
        "We can also return predictions directly with the model object using the predict() method"
      ]
    },
    {
      "cell_type": "code",
      "metadata": {
        "id": "7DFlw26PQBwa"
      },
      "source": [
        "# Another way to get this is using the model.predict function\n",
        "y_pred = model.predict(x)\n",
        "fig, ax = plt.subplots(1,1, figsize=(10,10))\n",
        "ax.plot(x, y_pred, ls='', marker='*')\n",
        "ax.plot(x, y, ls='', marker='.')"
      ],
      "execution_count": null,
      "outputs": []
    },
    {
      "cell_type": "markdown",
      "metadata": {
        "id": "FSsBFNvcQBwb"
      },
      "source": [
        "## 1.3 Error and topics of model fitting (assessing model accuracy)"
      ]
    },
    {
      "cell_type": "markdown",
      "metadata": {
        "id": "WZsrmzofNDj9"
      },
      "source": [
        "### 1.3.1 Measuring the quality of fit"
      ]
    },
    {
      "cell_type": "markdown",
      "metadata": {
        "id": "KKfamij9QBwb"
      },
      "source": [
        "#### 1.3.1.1 Mean Squared Error\n",
        "\n",
        "The plot in Section 1.2.3 looks good, but numerically what is our error? What is the mean value of $\\epsilon$, i.e. the **Mean Squared Error (MSE)**?\n",
        "\n",
        "$${\\sf MSE}=\\epsilon_{\\sf ave} = \\frac{\\sum_{i=1}^{N_{\\sf times}}\\left(y^{\\sf exact}_i - m\\cdot t_i - b \\right)^2}{N_{\\sf times}}\\;\\;\\;\\;\\;\\sf eq. 3$$\n",
        "\n",
        "```\n",
        "# The mean squared error\n",
        "print('Mean squared error: %.2f' % mean_squared_error(y, y_pred))\n",
        "```"
      ]
    },
    {
      "cell_type": "code",
      "metadata": {
        "id": "BDCUEKNQQBwb"
      },
      "source": [
        "# The mean squared error\n",
        "print('Mean squared error: %.2f' % mean_squared_error(y, y_pred))"
      ],
      "execution_count": null,
      "outputs": []
    },
    {
      "cell_type": "markdown",
      "metadata": {
        "id": "5m88vMlkQBwb"
      },
      "source": [
        "#### 1.3.1.2 R-square\n",
        "\n",
        "Another way to measure error is the regression score, \\\\(R^2\\\\). \\\\(R^2\\\\) is generally defined as the ratio of the total sum of squares \\\\(SS_{\\sf tot}\\\\) to the residual sum of squares \\\\(SS_{\\sf res}\\\\):\n",
        "\n",
        "$$SS_{\\sf tot}=\\sum_{i=1}^{N} \\left(y^{\\sf exact}_i-\\bar{y}\\right)^2\\;\\;\\;\\;\\; \\sf eq. 4$$\n",
        "$$SS_{\\sf res}=\\sum_{i=1}^{N} \\left(y^{\\sf exact}_i - y^{\\sf calc}_i\\right)^2\\;\\;\\;\\;\\; \\sf eq. 5$$\n",
        "$$R^2 = 1 - {SS_{\\sf res}\\over SS_{\\sf tot}} \\;\\;\\;\\;\\;\\; \\sf eq. 6$$\n",
        "\n",
        "In eq. 4, \\\\(\\bar{y}=\\sum_i y^{\\sf exact}_i/N\\\\) is the average value of y for \\\\(N\\\\) points. The best value of \\\\(R^2\\\\) is 1 but it can also take a negative value if the error is large.\n",
        "\n",
        "See all the different regression metrics [here](https://scikit-learn.org/stable/modules/model_evaluation.html)."
      ]
    },
    {
      "cell_type": "markdown",
      "metadata": {
        "id": "L5qg7H3_QBwb"
      },
      "source": [
        "#### 🙋 Question 3\n",
        "> Do we need a large value of \\\\(SS_{\\sf tot}\\\\) to minimize \\\\(R^2\\\\) - is this something which we have the power to control?"
      ]
    },
    {
      "cell_type": "markdown",
      "metadata": {
        "id": "7maWcZuQ_CVD"
      },
      "source": [
        "```\n",
        "# Print the coefficient of determination - 1 is perfect prediction\n",
        "print('Coefficient of determination: %.2f' % r2_score(y, y_pred))\n",
        "```"
      ]
    },
    {
      "cell_type": "code",
      "metadata": {
        "id": "Ejt0nyHJQBwb"
      },
      "source": [
        "# Print the coefficient of determination - 1 is perfect prediction\n",
        "print('Coefficient of determination: %.2f' % r2_score(y, y_pred))"
      ],
      "execution_count": null,
      "outputs": []
    },
    {
      "cell_type": "markdown",
      "metadata": {
        "id": "5Fg5RUDzQMd-"
      },
      "source": [
        "### 1.3.2 Corollaries with classification models\n",
        "\n",
        "For classification tasks, we typically assess accuracy vs MSE or R-square, since we are dealing with categorical rather than numerical predictions.\n",
        "\n",
        "What is accuracy? It is defined as the ratio of True assignments to all assignments. For a binary positive/negative classification task this can be written as the following:\n",
        "\n",
        "$$ Acc = \\frac{T_p + T_n}{F_p + F_n + T_p + T_n} $$\n",
        "\n",
        "Where \\\\(T\\\\) is True, \\\\(F\\\\) is false, \\\\(p\\\\) is positive, \\\\(n\\\\) is negative\n",
        "\n",
        "Just as a quick example, we can perform this type of task on our wine dataset by predicting on quality, which is a discrete 3-9 quality score:"
      ]
    },
    {
      "cell_type": "code",
      "metadata": {
        "id": "YZgcBBP4Q2GC"
      },
      "source": [
        "y_train = df['type'].values.reshape(-1,1)\n",
        "x_train = df['quality'].values.reshape(-1,1)"
      ],
      "execution_count": null,
      "outputs": []
    },
    {
      "cell_type": "code",
      "metadata": {
        "id": "RLLi0PAnQQ7M"
      },
      "source": [
        "# train a logistic regression model on the training set\n",
        "from sklearn.linear_model import LogisticRegression\n",
        "\n",
        "# instantiate model\n",
        "logreg = LogisticRegression()\n",
        "\n",
        "# fit model\n",
        "logreg.fit(x_train, y_train)"
      ],
      "execution_count": null,
      "outputs": []
    },
    {
      "cell_type": "code",
      "metadata": {
        "id": "2yM5sI5_RIJc"
      },
      "source": [
        "# make class predictions for the testing set\n",
        "y_pred_class = logreg.predict(x_train)"
      ],
      "execution_count": null,
      "outputs": []
    },
    {
      "cell_type": "code",
      "metadata": {
        "id": "qB2CPVCvRLqF"
      },
      "source": [
        "# calculate accuracy\n",
        "from sklearn import metrics\n",
        "print(metrics.accuracy_score(y_train, y_pred_class))"
      ],
      "execution_count": null,
      "outputs": []
    },
    {
      "cell_type": "markdown",
      "metadata": {
        "id": "bbXhulIfQBwc"
      },
      "source": [
        "### 1.3.3 Beyond a single input feature\n",
        "\n",
        "(_also: quick appreciative beat for folding in domain area expertise into our models and features_)"
      ]
    },
    {
      "cell_type": "markdown",
      "metadata": {
        "id": "tizRPJ_GQBwc"
      },
      "source": [
        "The **acidity** of the wine (the dependent variable v) could depend on:\n",
        "\n",
        "* potassium from the soil (increases alkalinity)\n",
        "* unripe grapes (increases acidity)\n",
        "* grapes grown in colder climates or reduced sunshine create less sugar (increases acidity)\n",
        "* preprocessing such as adding tartaric acid to the grape juice before fermentation (increases acidity)\n",
        "* malolactic fermentation (reduces acidity)\n",
        "* \\+ others\n",
        "\n",
        "So in our lab today we will look at folding in additional variables in our dataset into the model\n",
        "<hr style=\"border:1px solid grey\"> </hr>\n"
      ]
    },
    {
      "cell_type": "markdown",
      "metadata": {
        "id": "UmZ5TyuBQBwc"
      },
      "source": [
        "## 1.4 Multivariate regression"
      ]
    },
    {
      "cell_type": "markdown",
      "metadata": {
        "id": "9BfuJFk4QBwc"
      },
      "source": [
        "Let's now turn our attention to wine quality.\n",
        "\n",
        "The value we aim to predict or evaluate is the quality of each wine in our dataset. This is our dependent variable. We will look at how this is related to the 12 other independent variables, also known as *input features*. We're going to do this is just the red wine data"
      ]
    },
    {
      "cell_type": "code",
      "metadata": {
        "id": "pufA3ZJmZcim"
      },
      "source": [
        "red.head()"
      ],
      "execution_count": null,
      "outputs": []
    },
    {
      "cell_type": "markdown",
      "metadata": {
        "id": "v0gFPI5jQBwc"
      },
      "source": [
        "### 1.4.1 Linear regression with all input fields\n",
        "\n",
        "For this example, notice we have a categorical data variable in the 'type' column. We will ignore this for now, and only work with our red wines. In the future we will discuss how to deal with categorical variable such as this in a mathematical representation."
      ]
    },
    {
      "cell_type": "code",
      "metadata": {
        "id": "pTMH3DRYS5_l"
      },
      "source": [
        "# this is a list of all our features or independent variables\n",
        "features = list(red.columns[1:])\n",
        "\n",
        "# we're going to remove our target or dependent variable, density from this\n",
        "# list\n",
        "features.remove('density')\n",
        "\n",
        "# now we define X and y according to these lists of names\n",
        "X = red.dropna(axis=0)[features].values\n",
        "y = red.dropna(axis=0)['density'].values"
      ],
      "execution_count": null,
      "outputs": []
    },
    {
      "cell_type": "code",
      "metadata": {
        "id": "WpwHenyba1tC"
      },
      "source": [
        "red.isnull().sum(axis=0) # we are getting rid of some nasty nulls!"
      ],
      "execution_count": null,
      "outputs": []
    },
    {
      "cell_type": "markdown",
      "metadata": {
        "id": "PFQLm9NKAA5k"
      },
      "source": [
        "\n",
        "\n",
        "```\n",
        "# Create linear regression object - note that we are using all the input features\n",
        "model = linear_model.LinearRegression()\n",
        "model.fit(X, y)\n",
        "y_calc = model.predict(X)\n",
        "```\n",
        "\n"
      ]
    },
    {
      "cell_type": "code",
      "metadata": {
        "id": "PGb0rkrUQBwc"
      },
      "source": [
        "# Create linear regression object - note that we are using all the input features\n",
        "model = linear_model.LinearRegression()\n",
        "model.fit(X, y)\n",
        "y_calc = model.predict(X)"
      ],
      "execution_count": null,
      "outputs": []
    },
    {
      "cell_type": "markdown",
      "metadata": {
        "id": "DCrrNd-MQBwc"
      },
      "source": [
        "Let's see what the coefficients look like ... \n",
        "\n",
        "```\n",
        "print(\"Fit coefficients: \\n\", model.coef_, \"\\nNumber of coefficients:\", len(model.coef_))\n",
        "```"
      ]
    },
    {
      "cell_type": "code",
      "metadata": {
        "id": "JwVVXevBQBwd"
      },
      "source": [
        "print(\"Fit coefficients: \\n\", model.coef_, \"\\nNumber of coefficients:\", len(model.coef_))"
      ],
      "execution_count": null,
      "outputs": []
    },
    {
      "cell_type": "markdown",
      "metadata": {
        "id": "oMOoVRCnQBwd"
      },
      "source": [
        "We have 11 !!! That's because we are regressing respect to all **11 independent variables**!!!\n",
        "\n",
        "So now, $$y_{\\sf calc}= m_1x_1 +\\, m_2x_2 \\,+ \\,m_3x_3 \\,+\\,... \\,+ \\,b =\\sum_{i=1}^{13}m_i x_i + b\\;\\;\\;\\;\\; \\sf eq. 7$$\n",
        "\n",
        "```\n",
        "print(\"We have 13 slopes / weights:\\n\\n\", model.coef_)\n",
        "print(\"\\nAnd one intercept: \", model.intercept_)\n",
        "```"
      ]
    },
    {
      "cell_type": "code",
      "metadata": {
        "id": "0MjMu6ZHQBwd"
      },
      "source": [
        "print(\"We have 11 slopes / weights:\\n\\n\", model.coef_)\n",
        "print(\"\\nAnd one intercept: \", model.intercept_)"
      ],
      "execution_count": null,
      "outputs": []
    },
    {
      "cell_type": "markdown",
      "metadata": {
        "id": "g38n0LYrASjb"
      },
      "source": [
        "```\n",
        "# This size should match the number of columns in X\n",
        "if len(X[0]) == len(model.coef_):\n",
        "    print(\"All good! The number of coefficients matches the number of input features.\")\n",
        "else:\n",
        "    print(\"Hmm .. something strange is going on.\")\n",
        "```"
      ]
    },
    {
      "cell_type": "code",
      "metadata": {
        "id": "n3LIvyorQBwd"
      },
      "source": [
        "# This size should match the number of columns in X\n",
        "if len(X[0]) == len(model.coef_):\n",
        "    print(\"All good! The number of coefficients matches the number of input features.\")\n",
        "else:\n",
        "    print(\"Hmm .. something strange is going on.\")"
      ],
      "execution_count": null,
      "outputs": []
    },
    {
      "cell_type": "markdown",
      "metadata": {
        "id": "yKVDvEtMQBwd"
      },
      "source": [
        "### 🏋️ Exercise 4: evaluate the error\n",
        "\n",
        "Let's **evaluate the error** by computing the MSE and \\\\(R^2\\\\) metrics (see eq. 3 and 6).\n",
        "\n",
        "```\n",
        "# The mean squared error\n",
        "\n",
        "# part A \n",
        "# calculate the MSE using mean_squared_error()\n",
        "# mse = \n",
        "\n",
        "# part B\n",
        "# calculate the R square using r2_score()\n",
        "# r2 = \n",
        "\n",
        "print('Mean squared error: {:.2f}'.format(mse)\n",
        "print('Coefficient of determination: {:.2f}'.format(r2)\n",
        "```"
      ]
    },
    {
      "cell_type": "code",
      "metadata": {
        "id": "lpRwoUiGQBwd"
      },
      "source": [
        "# The mean squared error\n",
        "\n",
        "# part A \n",
        "# calculate the MSE using mean_squared_error()\n",
        "# mse = \n",
        "\n",
        "# part B\n",
        "# calculate the R square using r2_score()\n",
        "# r2 = \n",
        "\n",
        "print('Mean squared error: {:.2f}'.format(mse)\n",
        "print('Coefficient of determination: {:.2f}'.format(r2)"
      ],
      "execution_count": null,
      "outputs": []
    },
    {
      "cell_type": "markdown",
      "metadata": {
        "id": "HO-kXJKUQBwd"
      },
      "source": [
        "### 🏋️ Exercise 5: make a plot of y actual vs y predicted\n",
        "\n",
        "We can also look at how well the computed values match the true values graphically by generating a scatterplot.\n",
        "\n",
        "```\n",
        "# generate a plot of y predicted vs y actual using plt.plot()\n",
        "# remember you must set ls to an empty string and marker to some marker style\n",
        "\n",
        "# plt.plot()\n",
        "plt.title(\"Linear regression - computed values on entire data set\", fontsize=16)\n",
        "plt.xlabel(\"y$^{\\sf calc}$\")\n",
        "plt.ylabel(\"y$^{\\sf true}$\")\n",
        "plt.show()\n",
        "```"
      ]
    },
    {
      "cell_type": "code",
      "metadata": {
        "id": "-YbuZYZ9QBwd"
      },
      "source": [
        "# generate a plot of y predicted vs y actual using plt.plot()\n",
        "# remember you must set ls to an empty string and marker to some marker style\n",
        "\n",
        "# plt.plot()\n",
        "plt.title(\"Linear regression - computed values on entire data set\", fontsize=16)\n",
        "plt.xlabel(\"y$^{\\sf calc}$\")\n",
        "plt.ylabel(\"y$^{\\sf true}$\")\n",
        "plt.show()"
      ],
      "execution_count": null,
      "outputs": []
    },
    {
      "cell_type": "markdown",
      "metadata": {
        "id": "2UydCmgrQBwd"
      },
      "source": [
        "### 1.4.2 **Enrichment**: Splitting into train and test sets\n",
        "\n",
        "To see whether we can predict, we will carry out our regression only on a part, 80%, of the full data set. This part is called the **training** data. We will then test the trained model to predict the rest of the data, 20% - the **test** data. The function which fits won't see the test data until it has to predict it. \n",
        "\n",
        "**We will motivate the use of train/test sets more explicitly in Course 2 Session 1**\n",
        "\n",
        "We start by splitting out data using scikit-learn's <code> train_test_split() </code> function:"
      ]
    },
    {
      "cell_type": "markdown",
      "metadata": {
        "id": "RWn0QyYcQBwd"
      },
      "source": [
        "```\n",
        "X_train, X_test, y_train, y_test = train_test_split(X, y, \n",
        "                                                    test_size=0.20,\n",
        "                                                    random_state=42)\n",
        "                                                    ```"
      ]
    },
    {
      "cell_type": "code",
      "metadata": {
        "id": "EDf1TMuKQBwd"
      },
      "source": [
        "X_train, X_test, y_train, y_test = train_test_split(X, y, \n",
        "                                                    test_size=0.20,\n",
        "                                                    random_state=42)"
      ],
      "execution_count": null,
      "outputs": []
    },
    {
      "cell_type": "markdown",
      "metadata": {
        "id": "amGMkkp5QBwd"
      },
      "source": [
        "Now we check the size of <code> y_train </code> and <code> y_test </code>, the sum should be the size of y! If this works then we move on and carry out regression but we only use the training data!\n",
        "\n",
        "```\n",
        "if len(y_test)+len(y_train) == len(y):\n",
        "    \n",
        "    print('All good, ready to to go and regress!\\n')\n",
        "    \n",
        "    # Carry out linear regression\n",
        "    print('Running linear regression algorithm on the training set\\n')\n",
        "    model = linear_model.LinearRegression()\n",
        "    model.fit(X_train, y_train)\n",
        "    print('Fit coefficients and intercept:\\n\\n', model.coef_, '\\n\\n', model.intercept_ )\n",
        "\n",
        "    # Predict on the test set\n",
        "    y_pred_test = model.predict(X_test)\n",
        "```"
      ]
    },
    {
      "cell_type": "code",
      "metadata": {
        "id": "ExHWM4MlQBwd"
      },
      "source": [
        "if len(y_test)+len(y_train) == len(y):\n",
        "    \n",
        "    print('All good, ready to to go and regress!\\n')\n",
        "    \n",
        "    # Carry out linear regression\n",
        "    print('Running linear regression algorithm on the training set\\n')\n",
        "    model = linear_model.LinearRegression()\n",
        "    model.fit(X_train, y_train)\n",
        "    print('Fit coefficients and intercept:\\n\\n', model.coef_, '\\n\\n', model.intercept_ )\n",
        "\n",
        "    # Predict on the test set\n",
        "    y_pred_test = model.predict(X_test)"
      ],
      "execution_count": null,
      "outputs": []
    },
    {
      "cell_type": "markdown",
      "metadata": {
        "id": "Tff8dv_1QBwd"
      },
      "source": [
        "Now we can plot our predicted values to see how accurate we are in predicting. We will generate a scatterplot and computing the MSE and \\\\(R^2\\\\) metrics of error.\n",
        "\n",
        "```\n",
        "sns.scatterplot(x=y_pred_test, y=y_test, color=\"mediumvioletred\", s=50)\n",
        "\n",
        "plt.title(\"Linear regression - predict test set\", fontsize=16)\n",
        "plt.xlabel(\"y$^{\\sf calc}$\")\n",
        "plt.ylabel(\"y$^{\\sf true}$\")\n",
        "plt.show()\n",
        "\n",
        "print('Mean squared error: %.2f' % mean_squared_error(y_test, y_pred_test))\n",
        "print('Coefficient of determination: %.2f' % r2_score(y_test, y_pred_test))\n",
        "```"
      ]
    },
    {
      "cell_type": "code",
      "metadata": {
        "id": "TqWNcQcHQBwd"
      },
      "source": [
        "sns.scatterplot(x=y_pred_test, y=y_test, color=\"mediumvioletred\", s=50)\n",
        "\n",
        "plt.title(\"Linear regression - predict test set\", fontsize=16)\n",
        "plt.xlabel(\"y$^{\\sf calc}$\")\n",
        "plt.ylabel(\"y$^{\\sf true}$\")\n",
        "plt.show()\n",
        "\n",
        "print('Mean squared error: %.2f' % mean_squared_error(y_test, y_pred_test))\n",
        "print('Coefficient of determination: %.2f' % r2_score(y_test, y_pred_test))"
      ],
      "execution_count": null,
      "outputs": []
    },
    {
      "cell_type": "markdown",
      "metadata": {
        "id": "Ri5ILlZqQBwd"
      },
      "source": [
        "#### 1.4.2.1 Other data considerations\n",
        "\n",
        "* Do we need all the independent variables? \n",
        "  * Topics of interential statistics covered in a couple sessions\n",
        "\n",
        "* Can we output integer quality scores? \n",
        "  * Topics of non-binary classification tasks covered in week 4"
      ]
    },
    {
      "cell_type": "markdown",
      "metadata": {
        "id": "_9cvFD6vQBwe"
      },
      "source": [
        "### 1.4.3 **Enrichment**: Other regression algorithms"
      ]
    },
    {
      "cell_type": "markdown",
      "metadata": {
        "id": "etYVqBBjQBwe"
      },
      "source": [
        "There are many other regression algorithms the two we want to highlight here are Ridge, LASSO, and Elastic Net. They differ by an added term to the loss function. Let's review. Eq. 2 expanded to multivariate form yields:\n",
        "\n",
        "$$\\sum_{i=1}^{N}(y_i - \\sum_{j=1}^{P}x_{ij}\\beta_{j})^2$$\n",
        "\n",
        "for Ridge regression, we add a **_regularization_** term known as **_L2_** regularization:\n",
        "\n",
        "$$\\sum_{i=1}^{N}(y_i - \\sum_{j=1}^{P}x_{ij}\\beta_{j})^2 + \\lambda \\sum_{j=1}^{P}\\beta_{j}^2$$\n",
        "\n",
        "for **_LASSO_** (Least Absolute Shrinkage and Selection Operator) we add **_L1_** regularization:\n",
        "\n",
        "$$\\sum_{i=1}^{N}(y_i - \\sum_{j=1}^{P}x_{ij}\\beta_{j})^2 + \\lambda \\sum_{j=1}^{P}|\\beta_{j}|$$\n",
        "\n",
        "The key difference here is that LASSO will allow coefficients to shrink to 0 while Ridge regression will not. **_Elastic Net_** is a combination of these two regularization methods."
      ]
    },
    {
      "cell_type": "markdown",
      "metadata": {
        "id": "xCUJPE3UdU_J"
      },
      "source": [
        "\n",
        "```\n",
        "model = linear_model.Ridge()\n",
        "model.fit(X_train, y_train)\n",
        "print('Fit coefficients and intercept:\\n\\n', model.coef_, '\\n\\n', model.intercept_ )\n",
        "\n",
        "# Predict on the test set\n",
        "y_calc_test = model.predict(X_test)\n",
        "```"
      ]
    },
    {
      "cell_type": "code",
      "metadata": {
        "id": "cHZfKBeiQBwe"
      },
      "source": [
        "model = linear_model.Ridge()\n",
        "model.fit(X_train, y_train)\n",
        "print('Fit coefficients and intercept:\\n\\n', model.coef_, '\\n\\n', model.intercept_ )\n",
        "\n",
        "# Predict on the test set\n",
        "y_calc_test = model.predict(X_test)"
      ],
      "execution_count": null,
      "outputs": []
    },
    {
      "cell_type": "markdown",
      "metadata": {
        "id": "UCG8yK1yAmbr"
      },
      "source": [
        "```\n",
        "sns.scatterplot(x=y_calc_test, y=y_test, color=\"lightseagreen\", s=50)\n",
        "plt.title(\"Ridge regression - predict test set\",fontsize=16)\n",
        "plt.xlabel(\"y$^{\\sf calc}$\")\n",
        "plt.ylabel(\"y$^{\\sf true}$\")\n",
        "plt.show()\n",
        "\n",
        "print('Mean squared error: %.2f' % mean_squared_error(y_test, y_calc_test))\n",
        "print('Coefficient of determination: %.2f' % r2_score(y_test, y_calc_test))\n",
        "```"
      ]
    },
    {
      "cell_type": "code",
      "metadata": {
        "id": "msFDf3JVQBwe"
      },
      "source": [
        "sns.scatterplot(x=y_calc_test, y=y_test, color=\"lightseagreen\", s=50)\n",
        "plt.title(\"Ridge regression - predict test set\",fontsize=16)\n",
        "plt.xlabel(\"y$^{\\sf calc}$\")\n",
        "plt.ylabel(\"y$^{\\sf true}$\")\n",
        "plt.show()\n",
        "\n",
        "print('Mean squared error: %.2f' % mean_squared_error(y_test, y_calc_test))\n",
        "print('Coefficient of determination: %.2f' % r2_score(y_test, y_calc_test))"
      ],
      "execution_count": null,
      "outputs": []
    },
    {
      "cell_type": "markdown",
      "metadata": {
        "id": "1Y6LNo8JkQVi"
      },
      "source": [
        "#### 🏋️ Exercise 6: Tune Hyperparameter for Ridge Regression\n",
        "\n",
        "Use the docstring to peak into the hyperparameters for Ridge Regression. What is the optimal value of lambda?\n",
        "\n",
        "Plot the \\\\(\\beta\\\\) values vs \\\\(\\lambda\\\\) from the results of your analysis"
      ]
    },
    {
      "cell_type": "code",
      "metadata": {
        "id": "lK96ESEYkP1j"
      },
      "source": [
        "# cell for exercise 3\n",
        "out_lambdas = []\n",
        "out_coefs = []\n",
        "out_scores = []\n",
        "for i in range(10):\n",
        "  lambdas = []\n",
        "  coefs = []\n",
        "  scores = []\n",
        "  X_train, X_test, y_train, y_test = train_test_split(X, y, \n",
        "                                                    test_size=0.20)\n",
        "  for lamb in range(1,110):\n",
        "    model = linear_model.Ridge(alpha=lamb/50, normalize=True)\n",
        "    model.fit(X_train, y_train)\n",
        "    lambdas.append(lamb)\n",
        "    coefs.append(model.coef_)\n",
        "    scores.append(r2_score(y_test, model.predict(X_test)))\n",
        "    # print('MSE: %.4f' % mean_squared_error(y_test, model.predict(X_test)))\n",
        "    # print('R2: %.4f' % r2_score(y_test, model.predict(X_test)))\n",
        "  out_lambdas.append(lambdas)\n",
        "  out_coefs.append(coefs)\n",
        "  out_scores.append(scores)"
      ],
      "execution_count": null,
      "outputs": []
    },
    {
      "cell_type": "code",
      "metadata": {
        "id": "RcDdX2z43fPk"
      },
      "source": [
        "coef_means = np.array(out_coefs).mean(axis=0)\n",
        "coef_stds = np.array(out_coefs).std(axis=0)\n",
        "results_means = pd.DataFrame(coef_means,columns=features)\n",
        "results_stds = pd.DataFrame(coef_stds,columns=features)\n",
        "results_means['lambda'] = [i/50 for i in lambdas]"
      ],
      "execution_count": null,
      "outputs": []
    },
    {
      "cell_type": "code",
      "metadata": {
        "id": "KMbPj2VI34nU"
      },
      "source": [
        "fig, ax = plt.subplots(1,1,figsize=(10,10))\n",
        "for feat in features:\n",
        "  ax.errorbar([i/50 for i in lambdas], results_means[feat], yerr=results_stds[feat], label=feat)\n",
        "# results.plot('lambda', 'scores', ax=ax[1])\n",
        "ax.legend()"
      ],
      "execution_count": null,
      "outputs": []
    },
    {
      "cell_type": "code",
      "metadata": {
        "id": "POaQWUe81qeS"
      },
      "source": [
        "results = pd.DataFrame(coefs,columns=features)\n",
        "results['lambda'] = [i/50 for i in lambdas]\n",
        "results['scores'] = scores"
      ],
      "execution_count": null,
      "outputs": []
    },
    {
      "cell_type": "code",
      "metadata": {
        "id": "moAZCEhj1jPD"
      },
      "source": [
        "fig, ax = plt.subplots(1,2,figsize=(10,5))\n",
        "for feat in features:\n",
        "  results.plot('lambda', feat, ax=ax[0])\n",
        "results.plot('lambda', 'scores', ax=ax[1])"
      ],
      "execution_count": null,
      "outputs": []
    },
    {
      "cell_type": "markdown",
      "metadata": {
        "id": "zno7Go9pQBwe"
      },
      "source": [
        "## 1.5 **Enrichment**: Additional Regression Exercises\n"
      ]
    },
    {
      "cell_type": "markdown",
      "metadata": {
        "id": "zD4arbEoQBwe"
      },
      "source": [
        "### Problem 1) Number and choice of input features\n",
        "\n",
        "* Load the red wine dataset and evaluate how the linear regression predictions changes as you change the **number and choice of input features**. The total number of columns in X  is 11 and each column represent a specific input feature. \n",
        "\n",
        "* Estimate the MSE\n",
        "```\n",
        "print(X_train.shape)\n",
        "```"
      ]
    },
    {
      "cell_type": "code",
      "metadata": {
        "id": "h2ICebfcQBwe"
      },
      "source": [
        "print(X_train.shape)"
      ],
      "execution_count": null,
      "outputs": []
    },
    {
      "cell_type": "markdown",
      "metadata": {
        "id": "RLn81xNxQBwe"
      },
      "source": [
        "If you want to use the first 5 features you could proceed as following:\n",
        "\n",
        "```\n",
        "X_train_five = X_train[:,0:5]\n",
        "X_test_five = X_test[:,0:5]\n",
        "```"
      ]
    },
    {
      "cell_type": "code",
      "metadata": {
        "id": "Xf9x-TLKQBwe"
      },
      "source": [
        "X_train_five = X_train[:,0:5]\n",
        "X_test_five = X_test[:,0:5]"
      ],
      "execution_count": null,
      "outputs": []
    },
    {
      "cell_type": "markdown",
      "metadata": {
        "id": "sD92DqDIQBwe"
      },
      "source": [
        "Check that the new variables have the shape your expect\n",
        "\n",
        "```\n",
        "print(X_train_five.shape)\n",
        "print(X_test_five.shape)\n",
        "```"
      ]
    },
    {
      "cell_type": "code",
      "metadata": {
        "id": "mQx4hjiHQBwe"
      },
      "source": [
        "print(X_train_five.shape)\n",
        "print(X_test_five.shape)"
      ],
      "execution_count": null,
      "outputs": []
    },
    {
      "cell_type": "markdown",
      "metadata": {
        "id": "acc0Ec-GQBwe"
      },
      "source": [
        "Now you can use these to train your linear regression model and repeat for different numbers or sets of input features! Note that you do not need to change the output feature! It's size is independent from the number of input features, yet recall that its length is the same as the number of values per input feature."
      ]
    },
    {
      "cell_type": "markdown",
      "metadata": {
        "id": "LVImG8v5QBwe"
      },
      "source": [
        "Questions to think about while you work on this problem\n",
        "- How many input feature variables does one need? Is there a maximum or minimum number? \n",
        "- Could one input feature variable be better than the rest?\n",
        "- What if values are missing for one of the input feature variables - is it still worth using it?\n",
        "- Can you use **_L1_** or **_L2_** to determine these optimum features more quickly?"
      ]
    },
    {
      "cell_type": "markdown",
      "metadata": {
        "id": "-ZxX8WJiQBwe"
      },
      "source": [
        "### Problem 2) Type of regression algorithm\n"
      ]
    },
    {
      "cell_type": "markdown",
      "metadata": {
        "id": "BeV8J102QBwe"
      },
      "source": [
        "Try using other types of linear regression methods on the wine dataset: the LASSO model and the Elastic net model which are described by the \n",
        "\n",
        "<code > sklearn.linear_model.ElasticNet() </code> <br>\n",
        "<code > sklearn.linear_model.Lasso() </code>\n",
        "\n",
        "scikit-learn functions.\n",
        "\n",
        "For more detail see [ElasticNet](https://scikit-learn.org/stable/modules/generated/sklearn.linear_model.ElasticNet.html#sklearn.linear_model.ElasticNet) and [Lasso](  https://scikit-learn.org/stable/modules/generated/sklearn.linear_model.Lasso.html#sklearn.linear_model.Lasso)."
      ]
    },
    {
      "cell_type": "markdown",
      "metadata": {
        "id": "BlFPAeTHQBwe"
      },
      "source": [
        "Questions to think about while you work on this problem\n",
        "- How does the error change with each model?\n",
        "- Which model seems to perform best?\n",
        "- How can you optimize the hyperparameter, \\\\(\\lambda\\\\)\n",
        "- Does one model do better than the other at determining which input features are more important?\n",
        "- How about non linear regression / what if the data does not follow a line?\n",
        "- How do the bias and variance change for each model"
      ]
    },
    {
      "cell_type": "code",
      "metadata": {
        "id": "wrIdCkmrX-tN"
      },
      "source": [
        "from sklearn.linear_model import ElasticNet\n",
        "from sklearn.linear_model import Lasso\n",
        "from sklearn.linear_model import Ridge\n",
        "from sklearn.linear_model import LinearRegression"
      ],
      "execution_count": null,
      "outputs": []
    },
    {
      "cell_type": "code",
      "metadata": {
        "id": "u1BTeOCJY3z1"
      },
      "source": [
        "for model in [ElasticNet, Lasso, Ridge, LinearRegression]:\n",
        "  model = model()\n",
        "  model.fit(X_train, y_train)\n",
        "  print('Mean squared error: %.2f' % mean_squared_error(y_test, model.predict(X_test)))\n",
        "  print('Coefficient of determination: %.2f' % r2_score(y_test, model.predict(X_test)))"
      ],
      "execution_count": null,
      "outputs": []
    },
    {
      "cell_type": "markdown",
      "metadata": {
        "id": "rfEP3u6mQBwe"
      },
      "source": [
        "<hr style=\"border:1px solid grey\"> </hr>"
      ]
    },
    {
      "cell_type": "markdown",
      "metadata": {
        "id": "2CJ1j1KcQBwe"
      },
      "source": [
        "# References"
      ]
    },
    {
      "cell_type": "markdown",
      "metadata": {
        "id": "cuQ-DIbZQBwe"
      },
      "source": [
        "* **Linear Regression**\n",
        "To find out more see [simple linear regression](https://en.wikipedia.org/wiki/Simple_linear_regression)\n",
        "\n",
        "* **scikit-learn**\n",
        "    * [Scikit-learn](https://scikit-learn.org/stable/)\n",
        "    * [Linear regression in scikit-learn](https://scikit-learn.org/stable/modules/generated/sklearn.linear_model.LinearRegression.html)\n",
        "    * [Metrics of error](https://scikit-learn.org/stable/modules/model_evaluation.html)\n",
        "    * [The Boston dataset](https://scikit-learn.org/stable/datasets/index.html#boston-dataset)\n",
        "\n",
        "* **Pearson correlation**\n",
        "To find out more see [pearson](https://en.wikipedia.org/wiki/Pearson_correlation_coefficient)\n",
        "\n",
        "* **Irreducible error, bias and variance**\n",
        "    * Great Coursera videos [here](https://www.coursera.org/lecture/ml-regression/irreducible-error-and-bias-qlMrZ)\n",
        "and [here](https://www.coursera.org/lecture/ml-regression/variance-and-the-bias-variance-tradeoff-ZvP40)\n"
      ]
    },
    {
      "cell_type": "code",
      "source": [
        ""
      ],
      "metadata": {
        "id": "aNY0fx-6p6do"
      },
      "execution_count": null,
      "outputs": []
    }
  ]
}