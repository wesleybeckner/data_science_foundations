{
 "cells": [
  {
   "cell_type": "markdown",
   "metadata": {
    "colab_type": "text",
    "id": "view-in-github"
   },
   "source": [
    "<a href=\"https://colab.research.google.com/github/wesleybeckner/data_science_foundations/blob/main/notebooks/solutions/SOLN_L3_Feature_Engineering.ipynb\" target=\"_parent\"><img src=\"https://colab.research.google.com/assets/colab-badge.svg\" alt=\"Open In Colab\"/></a>"
   ]
  },
  {
   "cell_type": "markdown",
   "metadata": {
    "id": "3rZ3ZWSkhxyS"
   },
   "source": [
    "# Data Science Foundations, Lab 3: Practice with Feature Engineering and Pipelines\n",
    "\n",
    "**Instructor**: Wesley Beckner\n",
    "\n",
    "**Contact**: wesleybeckner@gmail.com\n",
    "\n",
    "---\n",
    "\n",
    "<br>\n",
    "\n",
    "In this lab we will continue to practice creation of pipelines and feature engineering. We will use the wine dataset.\n",
    "\n",
    "<br>\n",
    "\n",
    "---\n",
    "\n",
    "\n"
   ]
  },
  {
   "cell_type": "code",
   "execution_count": 77,
   "metadata": {},
   "outputs": [],
   "source": [
    "import pandas as pd\n",
    "import numpy as np\n",
    "import matplotlib.pyplot as plt\n",
    "import plotly.express as px\n",
    "import seaborn as sns; sns.set()\n",
    "\n",
    "from sklearn.preprocessing import OneHotEncoder, StandardScaler\n",
    "from sklearn.impute import SimpleImputer\n",
    "from sklearn.metrics import mean_squared_error, r2_score, classification_report, confusion_matrix\n",
    "from sklearn.linear_model import LogisticRegression, LinearRegression\n",
    "from sklearn.model_selection import train_test_split\n",
    "from statsmodels.stats.outliers_influence import variance_inflation_factor\n",
    "\n",
    "wine = pd.read_csv(\"https://raw.githubusercontent.com/wesleybeckner/\"\\\n",
    "      \"ds_for_engineers/main/data/wine_quality/winequalityN.csv\")"
   ]
  },
  {
   "cell_type": "markdown",
   "metadata": {},
   "source": [
    "## On Wine Density"
   ]
  },
  {
   "cell_type": "markdown",
   "metadata": {
    "id": "GA0l_pwYn9g1"
   },
   "source": [
    "### L1 Q1: Feature Derivation\n",
    "\n",
    "1. Fill in any missing data in your dataset using imputation and use this new data for Q2-Q3\n",
    "2. One-Hot encode categorical variables in the wine dataset"
   ]
  },
  {
   "cell_type": "code",
   "execution_count": 62,
   "metadata": {
    "id": "BR11MzzIj_ga"
   },
   "outputs": [
    {
     "data": {
      "text/html": [
       "<div>\n",
       "<style scoped>\n",
       "    .dataframe tbody tr th:only-of-type {\n",
       "        vertical-align: middle;\n",
       "    }\n",
       "\n",
       "    .dataframe tbody tr th {\n",
       "        vertical-align: top;\n",
       "    }\n",
       "\n",
       "    .dataframe thead th {\n",
       "        text-align: right;\n",
       "    }\n",
       "</style>\n",
       "<table border=\"1\" class=\"dataframe\">\n",
       "  <thead>\n",
       "    <tr style=\"text-align: right;\">\n",
       "      <th></th>\n",
       "      <th>type</th>\n",
       "      <th>fixed acidity</th>\n",
       "      <th>volatile acidity</th>\n",
       "      <th>citric acid</th>\n",
       "      <th>residual sugar</th>\n",
       "      <th>chlorides</th>\n",
       "      <th>free sulfur dioxide</th>\n",
       "      <th>total sulfur dioxide</th>\n",
       "      <th>density</th>\n",
       "      <th>pH</th>\n",
       "      <th>sulphates</th>\n",
       "      <th>alcohol</th>\n",
       "      <th>quality</th>\n",
       "    </tr>\n",
       "  </thead>\n",
       "  <tbody>\n",
       "    <tr>\n",
       "      <th>0</th>\n",
       "      <td>white</td>\n",
       "      <td>7.0</td>\n",
       "      <td>0.27</td>\n",
       "      <td>0.36</td>\n",
       "      <td>20.7</td>\n",
       "      <td>0.045</td>\n",
       "      <td>45.0</td>\n",
       "      <td>170.0</td>\n",
       "      <td>1.0010</td>\n",
       "      <td>3.00</td>\n",
       "      <td>0.45</td>\n",
       "      <td>8.8</td>\n",
       "      <td>6</td>\n",
       "    </tr>\n",
       "    <tr>\n",
       "      <th>1</th>\n",
       "      <td>white</td>\n",
       "      <td>6.3</td>\n",
       "      <td>0.30</td>\n",
       "      <td>0.34</td>\n",
       "      <td>1.6</td>\n",
       "      <td>0.049</td>\n",
       "      <td>14.0</td>\n",
       "      <td>132.0</td>\n",
       "      <td>0.9940</td>\n",
       "      <td>3.30</td>\n",
       "      <td>0.49</td>\n",
       "      <td>9.5</td>\n",
       "      <td>6</td>\n",
       "    </tr>\n",
       "    <tr>\n",
       "      <th>2</th>\n",
       "      <td>white</td>\n",
       "      <td>8.1</td>\n",
       "      <td>0.28</td>\n",
       "      <td>0.40</td>\n",
       "      <td>6.9</td>\n",
       "      <td>0.050</td>\n",
       "      <td>30.0</td>\n",
       "      <td>97.0</td>\n",
       "      <td>0.9951</td>\n",
       "      <td>3.26</td>\n",
       "      <td>0.44</td>\n",
       "      <td>10.1</td>\n",
       "      <td>6</td>\n",
       "    </tr>\n",
       "    <tr>\n",
       "      <th>3</th>\n",
       "      <td>white</td>\n",
       "      <td>7.2</td>\n",
       "      <td>0.23</td>\n",
       "      <td>0.32</td>\n",
       "      <td>8.5</td>\n",
       "      <td>0.058</td>\n",
       "      <td>47.0</td>\n",
       "      <td>186.0</td>\n",
       "      <td>0.9956</td>\n",
       "      <td>3.19</td>\n",
       "      <td>0.40</td>\n",
       "      <td>9.9</td>\n",
       "      <td>6</td>\n",
       "    </tr>\n",
       "    <tr>\n",
       "      <th>4</th>\n",
       "      <td>white</td>\n",
       "      <td>7.2</td>\n",
       "      <td>0.23</td>\n",
       "      <td>0.32</td>\n",
       "      <td>8.5</td>\n",
       "      <td>0.058</td>\n",
       "      <td>47.0</td>\n",
       "      <td>186.0</td>\n",
       "      <td>0.9956</td>\n",
       "      <td>3.19</td>\n",
       "      <td>0.40</td>\n",
       "      <td>9.9</td>\n",
       "      <td>6</td>\n",
       "    </tr>\n",
       "  </tbody>\n",
       "</table>\n",
       "</div>"
      ],
      "text/plain": [
       "    type  fixed acidity  volatile acidity  citric acid  residual sugar  \\\n",
       "0  white            7.0              0.27         0.36            20.7   \n",
       "1  white            6.3              0.30         0.34             1.6   \n",
       "2  white            8.1              0.28         0.40             6.9   \n",
       "3  white            7.2              0.23         0.32             8.5   \n",
       "4  white            7.2              0.23         0.32             8.5   \n",
       "\n",
       "   chlorides  free sulfur dioxide  total sulfur dioxide  density    pH  \\\n",
       "0      0.045                 45.0                 170.0   1.0010  3.00   \n",
       "1      0.049                 14.0                 132.0   0.9940  3.30   \n",
       "2      0.050                 30.0                  97.0   0.9951  3.26   \n",
       "3      0.058                 47.0                 186.0   0.9956  3.19   \n",
       "4      0.058                 47.0                 186.0   0.9956  3.19   \n",
       "\n",
       "   sulphates  alcohol  quality  \n",
       "0       0.45      8.8        6  \n",
       "1       0.49      9.5        6  \n",
       "2       0.44     10.1        6  \n",
       "3       0.40      9.9        6  \n",
       "4       0.40      9.9        6  "
      ]
     },
     "metadata": {},
     "output_type": "display_data"
    },
    {
     "name": "stdout",
     "output_type": "stream",
     "text": [
      "(6497, 13)\n",
      "(6497,)\n",
      "(6497, 13)\n"
     ]
    }
   ],
   "source": [
    "# Code Cell for L1 Q1\n",
    "display(wine.head())\n",
    "print(wine.shape)\n",
    "str_cols = ['type']\n",
    "\n",
    "enc = OneHotEncoder()\n",
    "imp = SimpleImputer()\n",
    "\n",
    "enc.fit_transform(wine[str_cols])\n",
    "X_cat = enc.transform(wine[str_cols]).toarray()\n",
    "\n",
    "X = wine.copy()\n",
    "X.pop('type')\n",
    "y = X.pop('density')\n",
    "X = imp.fit_transform(X)\n",
    "\n",
    "X = np.hstack([X_cat, X])\n",
    "print(y.shape)\n",
    "print(X.shape)"
   ]
  },
  {
   "cell_type": "markdown",
   "metadata": {
    "id": "Sp832EkKi67C"
   },
   "source": [
    "### L1 Q2: Feature Transformation\n",
    "\n",
    "Use `StandardScaler` on the input data and evaluate how this affects VIF, kurtosis, and skew\n",
    "\n",
    "You should ignore the one-hot encoded column(s) for this section"
   ]
  },
  {
   "cell_type": "code",
   "execution_count": 63,
   "metadata": {},
   "outputs": [],
   "source": [
    "# Non-one hot encoded columns\n",
    "cols = list(wine.columns)\n",
    "cols.remove('density')\n",
    "cols.remove('type')"
   ]
  },
  {
   "cell_type": "code",
   "execution_count": 64,
   "metadata": {
    "id": "Vb1NyIqZmqYg"
   },
   "outputs": [
    {
     "data": {
      "text/html": [
       "<div>\n",
       "<style scoped>\n",
       "    .dataframe tbody tr th:only-of-type {\n",
       "        vertical-align: middle;\n",
       "    }\n",
       "\n",
       "    .dataframe tbody tr th {\n",
       "        vertical-align: top;\n",
       "    }\n",
       "\n",
       "    .dataframe thead th {\n",
       "        text-align: right;\n",
       "    }\n",
       "</style>\n",
       "<table border=\"1\" class=\"dataframe\">\n",
       "  <thead>\n",
       "    <tr style=\"text-align: right;\">\n",
       "      <th></th>\n",
       "      <th>VIF Factor</th>\n",
       "      <th>kurtosis</th>\n",
       "      <th>skew</th>\n",
       "    </tr>\n",
       "  </thead>\n",
       "  <tbody>\n",
       "    <tr>\n",
       "      <th>fixed acidity</th>\n",
       "      <td>41.790949</td>\n",
       "      <td>5.070143</td>\n",
       "      <td>1.724131</td>\n",
       "    </tr>\n",
       "    <tr>\n",
       "      <th>volatile acidity</th>\n",
       "      <td>9.482732</td>\n",
       "      <td>2.834263</td>\n",
       "      <td>1.496433</td>\n",
       "    </tr>\n",
       "    <tr>\n",
       "      <th>citric acid</th>\n",
       "      <td>9.344218</td>\n",
       "      <td>2.404077</td>\n",
       "      <td>0.473142</td>\n",
       "    </tr>\n",
       "    <tr>\n",
       "      <th>residual sugar</th>\n",
       "      <td>3.336944</td>\n",
       "      <td>4.360399</td>\n",
       "      <td>1.435221</td>\n",
       "    </tr>\n",
       "    <tr>\n",
       "      <th>chlorides</th>\n",
       "      <td>5.398369</td>\n",
       "      <td>50.911457</td>\n",
       "      <td>5.400680</td>\n",
       "    </tr>\n",
       "    <tr>\n",
       "      <th>free sulfur dioxide</th>\n",
       "      <td>8.529778</td>\n",
       "      <td>7.906238</td>\n",
       "      <td>1.220066</td>\n",
       "    </tr>\n",
       "    <tr>\n",
       "      <th>total sulfur dioxide</th>\n",
       "      <td>13.448130</td>\n",
       "      <td>-0.371664</td>\n",
       "      <td>-0.001177</td>\n",
       "    </tr>\n",
       "    <tr>\n",
       "      <th>pH</th>\n",
       "      <td>149.003349</td>\n",
       "      <td>0.374743</td>\n",
       "      <td>0.387234</td>\n",
       "    </tr>\n",
       "    <tr>\n",
       "      <th>sulphates</th>\n",
       "      <td>18.402953</td>\n",
       "      <td>8.667071</td>\n",
       "      <td>1.799021</td>\n",
       "    </tr>\n",
       "    <tr>\n",
       "      <th>alcohol</th>\n",
       "      <td>114.836088</td>\n",
       "      <td>-0.531687</td>\n",
       "      <td>0.565718</td>\n",
       "    </tr>\n",
       "    <tr>\n",
       "      <th>quality</th>\n",
       "      <td>63.455488</td>\n",
       "      <td>0.232322</td>\n",
       "      <td>0.189623</td>\n",
       "    </tr>\n",
       "  </tbody>\n",
       "</table>\n",
       "</div>"
      ],
      "text/plain": [
       "                      VIF Factor   kurtosis      skew\n",
       "fixed acidity          41.790949   5.070143  1.724131\n",
       "volatile acidity        9.482732   2.834263  1.496433\n",
       "citric acid             9.344218   2.404077  0.473142\n",
       "residual sugar          3.336944   4.360399  1.435221\n",
       "chlorides               5.398369  50.911457  5.400680\n",
       "free sulfur dioxide     8.529778   7.906238  1.220066\n",
       "total sulfur dioxide   13.448130  -0.371664 -0.001177\n",
       "pH                    149.003349   0.374743  0.387234\n",
       "sulphates              18.402953   8.667071  1.799021\n",
       "alcohol               114.836088  -0.531687  0.565718\n",
       "quality                63.455488   0.232322  0.189623"
      ]
     },
     "execution_count": 64,
     "metadata": {},
     "output_type": "execute_result"
    }
   ],
   "source": [
    "# Code Cell for L1 Q2\n",
    "kurt1 = pd.DataFrame(X[:,2:], columns=cols).kurt()\n",
    "skew1 = pd.DataFrame(X[:,2:], columns=cols).skew()\n",
    "vif = pd.DataFrame()\n",
    "vif[\"VIF Factor\"] = [variance_inflation_factor(X[:,2:], i) for i in \n",
    "                     range(X[:,2:].shape[1])]\n",
    "vif.index = cols\n",
    "vif[\"kurtosis\"] = kurt1\n",
    "vif[\"skew\"] = skew1\n",
    "vif"
   ]
  },
  {
   "cell_type": "code",
   "execution_count": 65,
   "metadata": {},
   "outputs": [
    {
     "data": {
      "text/html": [
       "<div>\n",
       "<style scoped>\n",
       "    .dataframe tbody tr th:only-of-type {\n",
       "        vertical-align: middle;\n",
       "    }\n",
       "\n",
       "    .dataframe tbody tr th {\n",
       "        vertical-align: top;\n",
       "    }\n",
       "\n",
       "    .dataframe thead th {\n",
       "        text-align: right;\n",
       "    }\n",
       "</style>\n",
       "<table border=\"1\" class=\"dataframe\">\n",
       "  <thead>\n",
       "    <tr style=\"text-align: right;\">\n",
       "      <th></th>\n",
       "      <th>VIF Factor</th>\n",
       "      <th>kurtosis</th>\n",
       "      <th>skew</th>\n",
       "    </tr>\n",
       "  </thead>\n",
       "  <tbody>\n",
       "    <tr>\n",
       "      <th>fixed acidity</th>\n",
       "      <td>1.781336</td>\n",
       "      <td>5.070143</td>\n",
       "      <td>1.724131</td>\n",
       "    </tr>\n",
       "    <tr>\n",
       "      <th>volatile acidity</th>\n",
       "      <td>1.808525</td>\n",
       "      <td>2.834263</td>\n",
       "      <td>1.496433</td>\n",
       "    </tr>\n",
       "    <tr>\n",
       "      <th>citric acid</th>\n",
       "      <td>1.606484</td>\n",
       "      <td>2.404077</td>\n",
       "      <td>0.473142</td>\n",
       "    </tr>\n",
       "    <tr>\n",
       "      <th>residual sugar</th>\n",
       "      <td>1.533403</td>\n",
       "      <td>4.360399</td>\n",
       "      <td>1.435221</td>\n",
       "    </tr>\n",
       "    <tr>\n",
       "      <th>chlorides</th>\n",
       "      <td>1.564413</td>\n",
       "      <td>50.911457</td>\n",
       "      <td>5.400680</td>\n",
       "    </tr>\n",
       "    <tr>\n",
       "      <th>free sulfur dioxide</th>\n",
       "      <td>2.156598</td>\n",
       "      <td>7.906238</td>\n",
       "      <td>1.220066</td>\n",
       "    </tr>\n",
       "    <tr>\n",
       "      <th>total sulfur dioxide</th>\n",
       "      <td>2.872586</td>\n",
       "      <td>-0.371664</td>\n",
       "      <td>-0.001177</td>\n",
       "    </tr>\n",
       "    <tr>\n",
       "      <th>pH</th>\n",
       "      <td>1.413100</td>\n",
       "      <td>0.374743</td>\n",
       "      <td>0.387234</td>\n",
       "    </tr>\n",
       "    <tr>\n",
       "      <th>sulphates</th>\n",
       "      <td>1.364157</td>\n",
       "      <td>8.667071</td>\n",
       "      <td>1.799021</td>\n",
       "    </tr>\n",
       "    <tr>\n",
       "      <th>alcohol</th>\n",
       "      <td>1.696986</td>\n",
       "      <td>-0.531687</td>\n",
       "      <td>0.565718</td>\n",
       "    </tr>\n",
       "    <tr>\n",
       "      <th>quality</th>\n",
       "      <td>1.408210</td>\n",
       "      <td>0.232322</td>\n",
       "      <td>0.189623</td>\n",
       "    </tr>\n",
       "  </tbody>\n",
       "</table>\n",
       "</div>"
      ],
      "text/plain": [
       "                      VIF Factor   kurtosis      skew\n",
       "fixed acidity           1.781336   5.070143  1.724131\n",
       "volatile acidity        1.808525   2.834263  1.496433\n",
       "citric acid             1.606484   2.404077  0.473142\n",
       "residual sugar          1.533403   4.360399  1.435221\n",
       "chlorides               1.564413  50.911457  5.400680\n",
       "free sulfur dioxide     2.156598   7.906238  1.220066\n",
       "total sulfur dioxide    2.872586  -0.371664 -0.001177\n",
       "pH                      1.413100   0.374743  0.387234\n",
       "sulphates               1.364157   8.667071  1.799021\n",
       "alcohol                 1.696986  -0.531687  0.565718\n",
       "quality                 1.408210   0.232322  0.189623"
      ]
     },
     "execution_count": 65,
     "metadata": {},
     "output_type": "execute_result"
    }
   ],
   "source": [
    "scaler = StandardScaler()\n",
    "X[:,2:] = scaler.fit_transform(X[:,2:])\n",
    "\n",
    "kurt1 = pd.DataFrame(X[:,2:], columns=cols).kurt()\n",
    "skew1 = pd.DataFrame(X[:,2:], columns=cols).skew()\n",
    "vif = pd.DataFrame()\n",
    "vif[\"VIF Factor\"] = [variance_inflation_factor(X[:,2:], i) for i in \n",
    "                     range(X[:,2:].shape[1])]\n",
    "vif.index = cols\n",
    "vif[\"kurtosis\"] = kurt1\n",
    "vif[\"skew\"] = skew1\n",
    "vif"
   ]
  },
  {
   "cell_type": "markdown",
   "metadata": {
    "id": "e9MwkxIGlc0k"
   },
   "source": [
    "### L1 Q3: Modeling\n",
    "\n",
    "Create a Pipeline using one of the scaling methods in sklearn and linear or logistic regression \n",
    "\n",
    "If you are using logistic regression:\n",
    "\n",
    "* **_dependent variable:_** wine quality\n",
    "\n",
    "If you are using linear regression:\n",
    "\n",
    "* **_dependent variable:_** wine density\n",
    "\n"
   ]
  },
  {
   "cell_type": "code",
   "execution_count": 67,
   "metadata": {
    "id": "w-mykt4KhnA2"
   },
   "outputs": [],
   "source": [
    "# Code Cell for L1 Q3\n",
    "model = LinearRegression()\n",
    "X_train, X_test, y_train, y_test = train_test_split(X, y, train_size=0.8, random_state=42)\n",
    "\n",
    "model.fit(X_train, y_train)\n",
    "y_pred = model.predict(X_test)"
   ]
  },
  {
   "cell_type": "code",
   "execution_count": 70,
   "metadata": {},
   "outputs": [
    {
     "data": {
      "text/plain": [
       "Text(0.5, 1.0, 'Test, R2: 0.963')"
      ]
     },
     "execution_count": 70,
     "metadata": {},
     "output_type": "execute_result"
    },
    {
     "data": {
      "image/png": "[encoded data removed]",
      "text/plain": [
       "<Figure size 1080x360 with 2 Axes>"
      ]
     },
     "metadata": {},
     "output_type": "display_data"
    }
   ],
   "source": [
    "fig, (ax, ax_) = plt.subplots(1,2,figsize=(15,5))\n",
    "ax.plot(y_test, model.predict(X_test), ls='', marker='.')\n",
    "ax_.plot(y_train, model.predict(X_train), ls='', marker='.')\n",
    "ax.set_title(\"Train, R2: {:.3f}\".format(r2_score(y_train, model.predict(X_train))))\n",
    "ax_.set_title(\"Test, R2: {:.3f}\".format(r2_score(y_test, model.predict(X_test))))"
   ]
  },
  {
   "cell_type": "markdown",
   "metadata": {},
   "source": [
    "## On Wine Quality"
   ]
  },
  {
   "cell_type": "markdown",
   "metadata": {
    "id": "GA0l_pwYn9g1"
   },
   "source": [
    "### L1 Q1: Feature Derivation\n",
    "\n",
    "1. Fill in any missing data in your dataset using imputation and use this new data for Q2-Q3\n",
    "2. One-Hot encode categorical variables in the wine dataset"
   ]
  },
  {
   "cell_type": "code",
   "execution_count": 71,
   "metadata": {},
   "outputs": [
    {
     "data": {
      "text/html": [
       "<div>\n",
       "<style scoped>\n",
       "    .dataframe tbody tr th:only-of-type {\n",
       "        vertical-align: middle;\n",
       "    }\n",
       "\n",
       "    .dataframe tbody tr th {\n",
       "        vertical-align: top;\n",
       "    }\n",
       "\n",
       "    .dataframe thead th {\n",
       "        text-align: right;\n",
       "    }\n",
       "</style>\n",
       "<table border=\"1\" class=\"dataframe\">\n",
       "  <thead>\n",
       "    <tr style=\"text-align: right;\">\n",
       "      <th></th>\n",
       "      <th>type</th>\n",
       "      <th>fixed acidity</th>\n",
       "      <th>volatile acidity</th>\n",
       "      <th>citric acid</th>\n",
       "      <th>residual sugar</th>\n",
       "      <th>chlorides</th>\n",
       "      <th>free sulfur dioxide</th>\n",
       "      <th>total sulfur dioxide</th>\n",
       "      <th>density</th>\n",
       "      <th>pH</th>\n",
       "      <th>sulphates</th>\n",
       "      <th>alcohol</th>\n",
       "      <th>quality</th>\n",
       "    </tr>\n",
       "  </thead>\n",
       "  <tbody>\n",
       "    <tr>\n",
       "      <th>0</th>\n",
       "      <td>white</td>\n",
       "      <td>7.0</td>\n",
       "      <td>0.27</td>\n",
       "      <td>0.36</td>\n",
       "      <td>20.7</td>\n",
       "      <td>0.045</td>\n",
       "      <td>45.0</td>\n",
       "      <td>170.0</td>\n",
       "      <td>1.0010</td>\n",
       "      <td>3.00</td>\n",
       "      <td>0.45</td>\n",
       "      <td>8.8</td>\n",
       "      <td>6</td>\n",
       "    </tr>\n",
       "    <tr>\n",
       "      <th>1</th>\n",
       "      <td>white</td>\n",
       "      <td>6.3</td>\n",
       "      <td>0.30</td>\n",
       "      <td>0.34</td>\n",
       "      <td>1.6</td>\n",
       "      <td>0.049</td>\n",
       "      <td>14.0</td>\n",
       "      <td>132.0</td>\n",
       "      <td>0.9940</td>\n",
       "      <td>3.30</td>\n",
       "      <td>0.49</td>\n",
       "      <td>9.5</td>\n",
       "      <td>6</td>\n",
       "    </tr>\n",
       "    <tr>\n",
       "      <th>2</th>\n",
       "      <td>white</td>\n",
       "      <td>8.1</td>\n",
       "      <td>0.28</td>\n",
       "      <td>0.40</td>\n",
       "      <td>6.9</td>\n",
       "      <td>0.050</td>\n",
       "      <td>30.0</td>\n",
       "      <td>97.0</td>\n",
       "      <td>0.9951</td>\n",
       "      <td>3.26</td>\n",
       "      <td>0.44</td>\n",
       "      <td>10.1</td>\n",
       "      <td>6</td>\n",
       "    </tr>\n",
       "    <tr>\n",
       "      <th>3</th>\n",
       "      <td>white</td>\n",
       "      <td>7.2</td>\n",
       "      <td>0.23</td>\n",
       "      <td>0.32</td>\n",
       "      <td>8.5</td>\n",
       "      <td>0.058</td>\n",
       "      <td>47.0</td>\n",
       "      <td>186.0</td>\n",
       "      <td>0.9956</td>\n",
       "      <td>3.19</td>\n",
       "      <td>0.40</td>\n",
       "      <td>9.9</td>\n",
       "      <td>6</td>\n",
       "    </tr>\n",
       "    <tr>\n",
       "      <th>4</th>\n",
       "      <td>white</td>\n",
       "      <td>7.2</td>\n",
       "      <td>0.23</td>\n",
       "      <td>0.32</td>\n",
       "      <td>8.5</td>\n",
       "      <td>0.058</td>\n",
       "      <td>47.0</td>\n",
       "      <td>186.0</td>\n",
       "      <td>0.9956</td>\n",
       "      <td>3.19</td>\n",
       "      <td>0.40</td>\n",
       "      <td>9.9</td>\n",
       "      <td>6</td>\n",
       "    </tr>\n",
       "  </tbody>\n",
       "</table>\n",
       "</div>"
      ],
      "text/plain": [
       "    type  fixed acidity  volatile acidity  citric acid  residual sugar  \\\n",
       "0  white            7.0              0.27         0.36            20.7   \n",
       "1  white            6.3              0.30         0.34             1.6   \n",
       "2  white            8.1              0.28         0.40             6.9   \n",
       "3  white            7.2              0.23         0.32             8.5   \n",
       "4  white            7.2              0.23         0.32             8.5   \n",
       "\n",
       "   chlorides  free sulfur dioxide  total sulfur dioxide  density    pH  \\\n",
       "0      0.045                 45.0                 170.0   1.0010  3.00   \n",
       "1      0.049                 14.0                 132.0   0.9940  3.30   \n",
       "2      0.050                 30.0                  97.0   0.9951  3.26   \n",
       "3      0.058                 47.0                 186.0   0.9956  3.19   \n",
       "4      0.058                 47.0                 186.0   0.9956  3.19   \n",
       "\n",
       "   sulphates  alcohol  quality  \n",
       "0       0.45      8.8        6  \n",
       "1       0.49      9.5        6  \n",
       "2       0.44     10.1        6  \n",
       "3       0.40      9.9        6  \n",
       "4       0.40      9.9        6  "
      ]
     },
     "metadata": {},
     "output_type": "display_data"
    },
    {
     "name": "stdout",
     "output_type": "stream",
     "text": [
      "(6497, 13)\n",
      "(6497,)\n",
      "(6497, 13)\n"
     ]
    }
   ],
   "source": [
    "# Code Cell for L1 Q1\n",
    "display(wine.head())\n",
    "print(wine.shape)\n",
    "str_cols = ['type']\n",
    "\n",
    "enc = OneHotEncoder()\n",
    "imp = SimpleImputer()\n",
    "\n",
    "enc.fit_transform(wine[str_cols])\n",
    "X_cat = enc.transform(wine[str_cols]).toarray()\n",
    "\n",
    "X = wine.copy()\n",
    "X.pop('type')\n",
    "y = X.pop('quality')\n",
    "X = imp.fit_transform(X)\n",
    "\n",
    "X = np.hstack([X_cat, X])\n",
    "print(y.shape)\n",
    "print(X.shape)"
   ]
  },
  {
   "cell_type": "markdown",
   "metadata": {
    "id": "Sp832EkKi67C"
   },
   "source": [
    "### L1 Q2: Feature Transformation\n",
    "\n",
    "Use `StandardScaler` on the input data and evaluate how this affects VIF, kurtosis, and skew\n",
    "\n",
    "You should ignore the one-hot encoded column(s) for this section"
   ]
  },
  {
   "cell_type": "code",
   "execution_count": 72,
   "metadata": {},
   "outputs": [],
   "source": [
    "scaler = StandardScaler()\n",
    "X[:,2:] = scaler.fit_transform(X[:,2:])"
   ]
  },
  {
   "cell_type": "markdown",
   "metadata": {
    "id": "e9MwkxIGlc0k"
   },
   "source": [
    "### L1 Q3: Modeling\n",
    "\n",
    "Create a Pipeline using one of the scaling methods in sklearn and linear or logistic regression \n",
    "\n",
    "If you are using logistic regression:\n",
    "\n",
    "* **_dependent variable:_** wine quality\n",
    "\n",
    "If you are using linear regression:\n",
    "\n",
    "* **_dependent variable:_** wine density\n",
    "\n"
   ]
  },
  {
   "cell_type": "code",
   "execution_count": 74,
   "metadata": {},
   "outputs": [],
   "source": [
    "# Code Cell for L1 Q3\n",
    "model = LogisticRegression(max_iter=1e4)\n",
    "X_train, X_test, y_train, y_test = train_test_split(X, y, train_size=0.8, random_state=42)\n",
    "\n",
    "model.fit(X_train, y_train)\n",
    "y_pred = model.predict(X_test)"
   ]
  },
  {
   "cell_type": "code",
   "execution_count": 80,
   "metadata": {},
   "outputs": [
    {
     "name": "stdout",
     "output_type": "stream",
     "text": [
      "              precision    recall  f1-score   support\n",
      "\n",
      "           3       0.00      0.00      0.00         2\n",
      "           4       0.60      0.07      0.12        46\n",
      "           5       0.58      0.61      0.59       420\n",
      "           6       0.52      0.68      0.59       579\n",
      "           7       0.44      0.19      0.26       221\n",
      "           8       0.00      0.00      0.00        32\n",
      "\n",
      "    accuracy                           0.54      1300\n",
      "   macro avg       0.36      0.26      0.26      1300\n",
      "weighted avg       0.51      0.54      0.50      1300\n",
      "\n"
     ]
    }
   ],
   "source": [
    "print(classification_report(y_test, y_pred, zero_division=0))"
   ]
  },
  {
   "cell_type": "code",
   "execution_count": 81,
   "metadata": {},
   "outputs": [
    {
     "data": {
      "text/plain": [
       "<AxesSubplot:>"
      ]
     },
     "execution_count": 81,
     "metadata": {},
     "output_type": "execute_result"
    },
    {
     "data": {
      "image/png": "[encoded data removed]",
      "text/plain": [
       "<Figure size 432x288 with 2 Axes>"
      ]
     },
     "metadata": {},
     "output_type": "display_data"
    }
   ],
   "source": [
    "sns.heatmap(confusion_matrix(y_test,y_pred), annot=True)"
   ]
  }
 ],
 "metadata": {
  "colab": {
   "collapsed_sections": [],
   "include_colab_link": true,
   "name": "E3_Feature_Engineering.ipynb",
   "provenance": []
  },
  "kernelspec": {
   "display_name": "Python 3 (ipykernel)",
   "language": "python",
   "name": "python3"
  },
  "language_info": {
   "codemirror_mode": {
    "name": "ipython",
    "version": 3
   },
   "file_extension": ".py",
   "mimetype": "text/x-python",
   "name": "python",
   "nbconvert_exporter": "python",
   "pygments_lexer": "ipython3",
   "version": "3.9.7"
  }
 },
 "nbformat": 4,
 "nbformat_minor": 4
}
