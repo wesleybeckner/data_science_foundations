{
 "cells": [
  {
   "cell_type": "markdown",
   "metadata": {
    "colab_type": "text",
    "id": "view-in-github"
   },
   "source": [
    "<a href=\"https://colab.research.google.com/github/wesleybeckner/data_science_foundations/blob/main/notebooks/exercises/E3_Feature_Engineering.ipynb\" target=\"_parent\"><img src=\"https://colab.research.google.com/assets/colab-badge.svg\" alt=\"Open In Colab\"/></a>"
   ]
  },
  {
   "cell_type": "markdown",
   "metadata": {
    "id": "3rZ3ZWSkhxyS"
   },
   "source": [
    "# Data Science Foundations, Lab 3: Practice with Feature Engineering and Pipelines\n",
    "\n",
    "**Instructor**: Wesley Beckner\n",
    "\n",
    "**Contact**: wesleybeckner@gmail.com\n",
    "\n",
    "---\n",
    "\n",
    "<br>\n",
    "\n",
    "In this lab we will continue to practice creation of pipelines and feature engineering. We will use the wine dataset.\n",
    "\n",
    "<br>\n",
    "\n",
    "---\n",
    "\n",
    "\n"
   ]
  },
  {
   "cell_type": "code",
   "execution_count": 1,
   "metadata": {},
   "outputs": [],
   "source": [
    "import pandas as pd\n",
    "import numpy as np\n",
    "import datetime\n",
    "import matplotlib.pyplot as plt\n",
    "import plotly.express as px\n",
    "import random\n",
    "import scipy.stats as stats\n",
    "from scipy.stats import gamma\n",
    "from sklearn.preprocessing import OneHotEncoder\n",
    "from statsmodels.stats.outliers_influence import variance_inflation_factor\n",
    "import seaborn as sns; sns.set()\n",
    "from sklearn.datasets import load_iris\n",
    "from sklearn.metrics import mean_squared_error, r2_score\n",
    "\n",
    "wine = pd.read_csv(\"https://raw.githubusercontent.com/wesleybeckner/\"\\\n",
    "      \"ds_for_engineers/main/data/wine_quality/winequalityN.csv\")"
   ]
  },
  {
   "cell_type": "markdown",
   "metadata": {
    "id": "GA0l_pwYn9g1"
   },
   "source": [
    "# L1 Q1: Feature Derivation\n",
    "\n",
    "1. Fill in any missing data in your dataset using imputation and use this new data for Q2-Q3\n",
    "2. One-Hot encode categorical variables in the wine dataset"
   ]
  },
  {
   "cell_type": "code",
   "execution_count": null,
   "metadata": {
    "id": "BR11MzzIj_ga"
   },
   "outputs": [],
   "source": [
    "# Code Cell for L1 Q1\n"
   ]
  },
  {
   "cell_type": "markdown",
   "metadata": {
    "id": "Sp832EkKi67C"
   },
   "source": [
    "# L1 Q2: Feature Transformation\n",
    "\n",
    "Use `StandardScaler` on the input data and evaluate how this affects VIF, kurtosis, and skew\n",
    "\n"
   ]
  },
  {
   "cell_type": "code",
   "execution_count": null,
   "metadata": {
    "id": "Vb1NyIqZmqYg"
   },
   "outputs": [],
   "source": [
    "# Code Cell for L1 Q2"
   ]
  },
  {
   "cell_type": "markdown",
   "metadata": {
    "id": "e9MwkxIGlc0k"
   },
   "source": [
    "# L1 Q3: Modeling\n",
    "\n",
    "Create a Pipeline using one of the scaling methods in sklearn and linear or logistic regression \n",
    "\n",
    "If you are using logistic regression:\n",
    "\n",
    "* **_dependent variable:_** wine quality\n",
    "\n",
    "If you are using linear regression:\n",
    "\n",
    "* **_dependent variable:_** wine density\n",
    "\n"
   ]
  },
  {
   "cell_type": "code",
   "execution_count": null,
   "metadata": {
    "id": "w-mykt4KhnA2"
   },
   "outputs": [],
   "source": [
    "# Code Cell for L1 Q3"
   ]
  }
 ],
 "metadata": {
  "colab": {
   "collapsed_sections": [],
   "include_colab_link": true,
   "name": "E3_Feature_Engineering.ipynb",
   "provenance": []
  },
  "kernelspec": {
   "display_name": "Python 3 (ipykernel)",
   "language": "python",
   "name": "python3"
  },
  "language_info": {
   "codemirror_mode": {
    "name": "ipython",
    "version": 3
   },
   "file_extension": ".py",
   "mimetype": "text/x-python",
   "name": "python",
   "nbconvert_exporter": "python",
   "pygments_lexer": "ipython3",
   "version": "3.9.7"
  }
 },
 "nbformat": 4,
 "nbformat_minor": 4
}
