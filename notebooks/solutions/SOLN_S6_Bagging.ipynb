{
 "cells": [
  {
   "cell_type": "markdown",
   "metadata": {
    "colab_type": "text",
    "id": "view-in-github"
   },
   "source": [
    "<a href=\"https://colab.research.google.com/github/wesleybeckner/data_science_foundations/blob/main/notebooks/solutions/SOLN_S6_Bagging.ipynb\" target=\"_parent\"><img src=\"https://colab.research.google.com/assets/colab-badge.svg\" alt=\"Open In Colab\"/></a>"
   ]
  },
  {
   "cell_type": "markdown",
   "metadata": {
    "id": "vhe1yX4AMckE"
   },
   "source": [
    "# Data Science Foundations <br> Session 6: Bagging <br> _Decision Trees and Random Forests_\n",
    "\n",
    "**Instructor**: Wesley Beckner\n",
    "\n",
    "**Contact**: wesleybeckner@gmail.com\n",
    "\n",
    "---\n",
    "\n",
    "<br>\n",
    "\n",
    "In this session, we're going back to the topic of supervised learning models. These models however, belong to a special class of methods called bagging, or bootstrap aggregation. \n",
    "\n",
    "Bagging is an ensemble learning method. In this method, many weak classifiers cast their votes in a general election for the final prediction. \n",
    "\n",
    "The weak learners that random forests are made of, are called decision trees. \n",
    "<p align=\"center\">\n",
    "<img src=\"https://media.giphy.com/media/uX5BYSQALx12o/giphy.gif\" width=400px></img>\n",
    "</p>\n",
    "\n",
    "<br>\n",
    "\n",
    "---\n",
    "\n",
    "<a name='top'></a>"
   ]
  },
  {
   "cell_type": "markdown",
   "metadata": {
    "id": "mNtJitcRW51Y"
   },
   "source": [
    "<a name='x.0'></a>\n",
    "\n",
    "## 6.0 Preparing Environment and Importing Data\n",
    "\n",
    "[back to top](#top)"
   ]
  },
  {
   "cell_type": "markdown",
   "metadata": {
    "id": "DnABRrRK6r77"
   },
   "source": [
    "<a name='x.0.1'></a>\n",
    "\n",
    "### 6.0.1 Import Packages\n",
    "\n",
    "[back to top](#top)"
   ]
  },
  {
   "cell_type": "code",
   "execution_count": 1,
   "metadata": {
    "id": "0hnH-aANsRl6"
   },
   "outputs": [],
   "source": [
    "import pandas as pd\n",
    "import numpy as np\n",
    "import datetime\n",
    "import matplotlib.pyplot as plt\n",
    "import plotly.express as px\n",
    "import random\n",
    "import scipy.stats\n",
    "from sklearn.preprocessing import OneHotEncoder, StandardScaler\n",
    "from sklearn.impute import SimpleImputer\n",
    "from statsmodels.stats.outliers_influence import variance_inflation_factor\n",
    "from sklearn.ensemble import RandomForestClassifier\n",
    "import seaborn as sns; sns.set()\n",
    "import graphviz \n",
    "from sklearn.metrics import accuracy_score\n",
    "from ipywidgets import interact, interactive, widgets\n",
    "from sklearn.metrics import mean_squared_error, r2_score\n",
    "from sklearn.model_selection import train_test_split\n",
    "from sklearn import metrics"
   ]
  },
  {
   "cell_type": "markdown",
   "metadata": {
    "id": "sBJ6odm-6xJS"
   },
   "source": [
    "<a name='x.0.2'></a>\n",
    "\n",
    "### 6.0.2 Load Dataset\n",
    "\n",
    "[back to top](#top)"
   ]
  },
  {
   "cell_type": "code",
   "execution_count": 2,
   "metadata": {
    "colab": {
     "base_uri": "https://localhost:8080/",
     "height": 238
    },
    "id": "FE20r4vgsQOG",
    "outputId": "badb7258-183f-4728-b4f4-67b7036c0da0"
   },
   "outputs": [
    {
     "name": "stdout",
     "output_type": "stream",
     "text": [
      "(1668, 9)\n",
      "\n"
     ]
    },
    {
     "data": {
      "text/html": [
       "<div>\n",
       "<style scoped>\n",
       "    .dataframe tbody tr th:only-of-type {\n",
       "        vertical-align: middle;\n",
       "    }\n",
       "\n",
       "    .dataframe tbody tr th {\n",
       "        vertical-align: top;\n",
       "    }\n",
       "\n",
       "    .dataframe thead th {\n",
       "        text-align: right;\n",
       "    }\n",
       "</style>\n",
       "<table border=\"1\" class=\"dataframe\">\n",
       "  <thead>\n",
       "    <tr style=\"text-align: right;\">\n",
       "      <th></th>\n",
       "      <th>Base Cake</th>\n",
       "      <th>Truffle Type</th>\n",
       "      <th>Primary Flavor</th>\n",
       "      <th>Secondary Flavor</th>\n",
       "      <th>Color Group</th>\n",
       "      <th>Customer</th>\n",
       "      <th>Date</th>\n",
       "      <th>KG</th>\n",
       "      <th>EBITDA/KG</th>\n",
       "    </tr>\n",
       "  </thead>\n",
       "  <tbody>\n",
       "    <tr>\n",
       "      <th>0</th>\n",
       "      <td>Butter</td>\n",
       "      <td>Candy Outer</td>\n",
       "      <td>Butter Pecan</td>\n",
       "      <td>Toffee</td>\n",
       "      <td>Taupe</td>\n",
       "      <td>Slugworth</td>\n",
       "      <td>1/2020</td>\n",
       "      <td>53770.342593</td>\n",
       "      <td>0.500424</td>\n",
       "    </tr>\n",
       "    <tr>\n",
       "      <th>1</th>\n",
       "      <td>Butter</td>\n",
       "      <td>Candy Outer</td>\n",
       "      <td>Ginger Lime</td>\n",
       "      <td>Banana</td>\n",
       "      <td>Amethyst</td>\n",
       "      <td>Slugworth</td>\n",
       "      <td>1/2020</td>\n",
       "      <td>466477.578125</td>\n",
       "      <td>0.220395</td>\n",
       "    </tr>\n",
       "    <tr>\n",
       "      <th>2</th>\n",
       "      <td>Butter</td>\n",
       "      <td>Candy Outer</td>\n",
       "      <td>Ginger Lime</td>\n",
       "      <td>Banana</td>\n",
       "      <td>Burgundy</td>\n",
       "      <td>Perk-a-Cola</td>\n",
       "      <td>1/2020</td>\n",
       "      <td>80801.728070</td>\n",
       "      <td>0.171014</td>\n",
       "    </tr>\n",
       "    <tr>\n",
       "      <th>3</th>\n",
       "      <td>Butter</td>\n",
       "      <td>Candy Outer</td>\n",
       "      <td>Ginger Lime</td>\n",
       "      <td>Banana</td>\n",
       "      <td>White</td>\n",
       "      <td>Fickelgruber</td>\n",
       "      <td>1/2020</td>\n",
       "      <td>18046.111111</td>\n",
       "      <td>0.233025</td>\n",
       "    </tr>\n",
       "    <tr>\n",
       "      <th>4</th>\n",
       "      <td>Butter</td>\n",
       "      <td>Candy Outer</td>\n",
       "      <td>Ginger Lime</td>\n",
       "      <td>Rum</td>\n",
       "      <td>Amethyst</td>\n",
       "      <td>Fickelgruber</td>\n",
       "      <td>1/2020</td>\n",
       "      <td>19147.454268</td>\n",
       "      <td>0.480689</td>\n",
       "    </tr>\n",
       "  </tbody>\n",
       "</table>\n",
       "</div>"
      ],
      "text/plain": [
       "  Base Cake Truffle Type Primary Flavor Secondary Flavor Color Group  \\\n",
       "0    Butter  Candy Outer   Butter Pecan           Toffee       Taupe   \n",
       "1    Butter  Candy Outer    Ginger Lime           Banana    Amethyst   \n",
       "2    Butter  Candy Outer    Ginger Lime           Banana    Burgundy   \n",
       "3    Butter  Candy Outer    Ginger Lime           Banana       White   \n",
       "4    Butter  Candy Outer    Ginger Lime              Rum    Amethyst   \n",
       "\n",
       "       Customer    Date             KG  EBITDA/KG  \n",
       "0     Slugworth  1/2020   53770.342593   0.500424  \n",
       "1     Slugworth  1/2020  466477.578125   0.220395  \n",
       "2   Perk-a-Cola  1/2020   80801.728070   0.171014  \n",
       "3  Fickelgruber  1/2020   18046.111111   0.233025  \n",
       "4  Fickelgruber  1/2020   19147.454268   0.480689  "
      ]
     },
     "metadata": {},
     "output_type": "display_data"
    }
   ],
   "source": [
    "margin = pd.read_csv('https://raw.githubusercontent.com/wesleybeckner/'\\\n",
    "                 'ds_for_engineers/main/data/truffle_margin/truffle_margin_customer.csv')\n",
    "print(margin.shape, end='\\n\\n')\n",
    "display(margin.head())"
   ]
  },
  {
   "cell_type": "markdown",
   "metadata": {
    "id": "tUQoMJSTtiGV"
   },
   "source": [
    "We're going to recreate the same operations we employed in Session 4, Feature Engineering:"
   ]
  },
  {
   "cell_type": "code",
   "execution_count": 3,
   "metadata": {
    "id": "EebzVNLWsmvJ"
   },
   "outputs": [],
   "source": [
    "# identify categorical columns\n",
    "cat_cols = margin.columns[:7]\n",
    "\n",
    "# create the encoder object\n",
    "enc = OneHotEncoder()\n",
    "\n",
    "# grab the columns we want to convert from strings\n",
    "X_cat = margin[cat_cols]\n",
    "\n",
    "# fit our encoder to this data\n",
    "enc.fit(X_cat)\n",
    "onehotlabels = enc.transform(X_cat).toarray()\n",
    "X_num = margin[['KG']]\n",
    "X_truf = np.concatenate((onehotlabels, X_num.values),axis=1)\n",
    "\n",
    "# grab our y data\n",
    "y_truf = margin['EBITDA/KG'].values"
   ]
  },
  {
   "cell_type": "markdown",
   "metadata": {
    "id": "eU1pxLuFthRg"
   },
   "source": [
    "Lastly, to create a classification task, we're going to identify high, med, and low value products:"
   ]
  },
  {
   "cell_type": "code",
   "execution_count": 4,
   "metadata": {
    "colab": {
     "base_uri": "https://localhost:8080/",
     "height": 387
    },
    "id": "aRoBfeb7vFKH",
    "outputId": "d105a944-7518-4472-e421-d037f941c6bc"
   },
   "outputs": [
    {
     "name": "stdout",
     "output_type": "stream",
     "text": [
      "bad less than: 0.12\n",
      "\n",
      "low less than: 0.22\n",
      "\n",
      "med less than: 0.35\n",
      "\n"
     ]
    },
    {
     "data": {
      "text/plain": [
       "<AxesSubplot:>"
      ]
     },
     "execution_count": 4,
     "metadata": {},
     "output_type": "execute_result"
    },
    {
     "data": {
      "image/png": "[encoded data removed]",
      "text/plain": [
       "<Figure size 432x288 with 1 Axes>"
      ]
     },
     "metadata": {},
     "output_type": "display_data"
    }
   ],
   "source": [
    "print('bad less than: {:.2f}'.format(margin[margin.columns[-1]].quantile(.25)), end='\\n\\n')\n",
    "print('low less than: {:.2f}'.format(margin[margin.columns[-1]].quantile(.5)), end='\\n\\n')\n",
    "print('med less than: {:.2f}'.format(margin[margin.columns[-1]].quantile(.75)), end='\\n\\n')\n",
    "pd.DataFrame(margin[margin.columns[-2]]).boxplot(showfliers=False)"
   ]
  },
  {
   "cell_type": "code",
   "execution_count": 5,
   "metadata": {
    "id": "0S9FP8JPwEjT"
   },
   "outputs": [],
   "source": [
    "margin['profitability'] = margin[margin.columns[-1]].apply(\n",
    "    lambda x: 'bad' if x <= margin[margin.columns[-1]].quantile(.25) else\n",
    "              'low' if x <= margin[margin.columns[-1]].quantile(.50) else\n",
    "              'med' if x <= margin[margin.columns[-1]].quantile(.75) else 'high')"
   ]
  },
  {
   "cell_type": "code",
   "execution_count": 6,
   "metadata": {
    "colab": {
     "base_uri": "https://localhost:8080/",
     "height": 285
    },
    "id": "NodDImgkxSbM",
    "outputId": "5a1b8168-56d9-4639-b341-0a9056197956"
   },
   "outputs": [
    {
     "data": {
      "text/plain": [
       "<AxesSubplot:>"
      ]
     },
     "execution_count": 6,
     "metadata": {},
     "output_type": "execute_result"
    },
    {
     "data": {
      "image/png": "[encoded data removed]",
      "text/plain": [
       "<Figure size 432x288 with 1 Axes>"
      ]
     },
     "metadata": {},
     "output_type": "display_data"
    }
   ],
   "source": [
    "margin['profitability'].hist()"
   ]
  },
  {
   "cell_type": "code",
   "execution_count": 7,
   "metadata": {
    "colab": {
     "base_uri": "https://localhost:8080/",
     "height": 221
    },
    "id": "PN1XrKEoxHsI",
    "outputId": "db05963c-6c7c-4dc0-c7e9-779a6abd9d82"
   },
   "outputs": [
    {
     "data": {
      "text/html": [
       "<div>\n",
       "<style scoped>\n",
       "    .dataframe tbody tr th:only-of-type {\n",
       "        vertical-align: middle;\n",
       "    }\n",
       "\n",
       "    .dataframe tbody tr th {\n",
       "        vertical-align: top;\n",
       "    }\n",
       "\n",
       "    .dataframe thead th {\n",
       "        text-align: right;\n",
       "    }\n",
       "</style>\n",
       "<table border=\"1\" class=\"dataframe\">\n",
       "  <thead>\n",
       "    <tr style=\"text-align: right;\">\n",
       "      <th></th>\n",
       "      <th>Base Cake</th>\n",
       "      <th>Truffle Type</th>\n",
       "      <th>Primary Flavor</th>\n",
       "      <th>Secondary Flavor</th>\n",
       "      <th>Color Group</th>\n",
       "      <th>Customer</th>\n",
       "      <th>Date</th>\n",
       "      <th>KG</th>\n",
       "      <th>EBITDA/KG</th>\n",
       "      <th>profitability</th>\n",
       "      <th>profitability_encoding</th>\n",
       "    </tr>\n",
       "  </thead>\n",
       "  <tbody>\n",
       "    <tr>\n",
       "      <th>0</th>\n",
       "      <td>Butter</td>\n",
       "      <td>Candy Outer</td>\n",
       "      <td>Butter Pecan</td>\n",
       "      <td>Toffee</td>\n",
       "      <td>Taupe</td>\n",
       "      <td>Slugworth</td>\n",
       "      <td>1/2020</td>\n",
       "      <td>53770.342593</td>\n",
       "      <td>0.500424</td>\n",
       "      <td>high</td>\n",
       "      <td>3</td>\n",
       "    </tr>\n",
       "    <tr>\n",
       "      <th>1</th>\n",
       "      <td>Butter</td>\n",
       "      <td>Candy Outer</td>\n",
       "      <td>Ginger Lime</td>\n",
       "      <td>Banana</td>\n",
       "      <td>Amethyst</td>\n",
       "      <td>Slugworth</td>\n",
       "      <td>1/2020</td>\n",
       "      <td>466477.578125</td>\n",
       "      <td>0.220395</td>\n",
       "      <td>med</td>\n",
       "      <td>2</td>\n",
       "    </tr>\n",
       "    <tr>\n",
       "      <th>2</th>\n",
       "      <td>Butter</td>\n",
       "      <td>Candy Outer</td>\n",
       "      <td>Ginger Lime</td>\n",
       "      <td>Banana</td>\n",
       "      <td>Burgundy</td>\n",
       "      <td>Perk-a-Cola</td>\n",
       "      <td>1/2020</td>\n",
       "      <td>80801.728070</td>\n",
       "      <td>0.171014</td>\n",
       "      <td>low</td>\n",
       "      <td>1</td>\n",
       "    </tr>\n",
       "    <tr>\n",
       "      <th>3</th>\n",
       "      <td>Butter</td>\n",
       "      <td>Candy Outer</td>\n",
       "      <td>Ginger Lime</td>\n",
       "      <td>Banana</td>\n",
       "      <td>White</td>\n",
       "      <td>Fickelgruber</td>\n",
       "      <td>1/2020</td>\n",
       "      <td>18046.111111</td>\n",
       "      <td>0.233025</td>\n",
       "      <td>med</td>\n",
       "      <td>2</td>\n",
       "    </tr>\n",
       "    <tr>\n",
       "      <th>4</th>\n",
       "      <td>Butter</td>\n",
       "      <td>Candy Outer</td>\n",
       "      <td>Ginger Lime</td>\n",
       "      <td>Rum</td>\n",
       "      <td>Amethyst</td>\n",
       "      <td>Fickelgruber</td>\n",
       "      <td>1/2020</td>\n",
       "      <td>19147.454268</td>\n",
       "      <td>0.480689</td>\n",
       "      <td>high</td>\n",
       "      <td>3</td>\n",
       "    </tr>\n",
       "  </tbody>\n",
       "</table>\n",
       "</div>"
      ],
      "text/plain": [
       "  Base Cake Truffle Type Primary Flavor Secondary Flavor Color Group  \\\n",
       "0    Butter  Candy Outer   Butter Pecan           Toffee       Taupe   \n",
       "1    Butter  Candy Outer    Ginger Lime           Banana    Amethyst   \n",
       "2    Butter  Candy Outer    Ginger Lime           Banana    Burgundy   \n",
       "3    Butter  Candy Outer    Ginger Lime           Banana       White   \n",
       "4    Butter  Candy Outer    Ginger Lime              Rum    Amethyst   \n",
       "\n",
       "       Customer    Date             KG  EBITDA/KG profitability  \\\n",
       "0     Slugworth  1/2020   53770.342593   0.500424          high   \n",
       "1     Slugworth  1/2020  466477.578125   0.220395           med   \n",
       "2   Perk-a-Cola  1/2020   80801.728070   0.171014           low   \n",
       "3  Fickelgruber  1/2020   18046.111111   0.233025           med   \n",
       "4  Fickelgruber  1/2020   19147.454268   0.480689          high   \n",
       "\n",
       "   profitability_encoding  \n",
       "0                       3  \n",
       "1                       2  \n",
       "2                       1  \n",
       "3                       2  \n",
       "4                       3  "
      ]
     },
     "execution_count": 7,
     "metadata": {},
     "output_type": "execute_result"
    }
   ],
   "source": [
    "class_profit = {'bad': 0, 'low': 1, 'med': 2, 'high': 3}\n",
    "y_truf_class = margin['profitability'].map(class_profit).values\n",
    "margin['profitability_encoding'] = y_truf_class\n",
    "margin.head()"
   ]
  },
  {
   "cell_type": "markdown",
   "metadata": {
    "id": "062Czp9-rBOi"
   },
   "source": [
    "<a name='x.1'></a>\n",
    "\n",
    "## 6.1 Decision Trees\n",
    "\n",
    "[back to top](#top)\n",
    "\n",
    "In essence, a decision tree is a series of binary questions. \n",
    "\n",
    "<img src=\"https://miro.medium.com/max/499/0*KQUBhmPmWeP8mHQz.jpeg\" width=400px></img>\n",
    "\n",
    "Let's begin this discussion by talking about how we make decision trees in sklearn."
   ]
  },
  {
   "cell_type": "markdown",
   "metadata": {
    "id": "lPKG1QnNIq_l"
   },
   "source": [
    "<a name='x.1.1'></a>\n",
    "\n",
    "### 6.1.1 Creating a Decision Tree\n",
    "\n",
    "[back to top](#top)"
   ]
  },
  {
   "cell_type": "code",
   "execution_count": 8,
   "metadata": {
    "id": "c_D9x-NJaFdP"
   },
   "outputs": [],
   "source": [
    "from sklearn import tree\n",
    "X = [[0, 0], [1, 1]]\n",
    "y = [0, 1]\n",
    "clf = tree.DecisionTreeClassifier()\n",
    "clf = clf.fit(X, y)"
   ]
  },
  {
   "cell_type": "markdown",
   "metadata": {
    "id": "AO-I1hU9loA_"
   },
   "source": [
    "After fitting the model we can use the predict method to show the output for a sample"
   ]
  },
  {
   "cell_type": "code",
   "execution_count": 9,
   "metadata": {
    "colab": {
     "base_uri": "https://localhost:8080/"
    },
    "id": "KThfKTn_lnZL",
    "outputId": "f7314fa5-f74f-45ef-ae72-4b82cfcd69d8"
   },
   "outputs": [
    {
     "data": {
      "text/plain": [
       "array([1])"
      ]
     },
     "execution_count": 9,
     "metadata": {},
     "output_type": "execute_result"
    }
   ],
   "source": [
    "clf.predict([[2., 2.]])"
   ]
  },
  {
   "cell_type": "markdown",
   "metadata": {
    "id": "Cv2SNh3Qlwss"
   },
   "source": [
    "Similar to what we saw with GMMs, we also have access to the probabilities of the outcomes:"
   ]
  },
  {
   "cell_type": "code",
   "execution_count": 10,
   "metadata": {
    "colab": {
     "base_uri": "https://localhost:8080/"
    },
    "id": "6IZ3F7rGlvy9",
    "outputId": "2d6e0073-c921-41e8-9a9c-87f66c8bf36b"
   },
   "outputs": [
    {
     "data": {
      "text/plain": [
       "array([[0., 1.]])"
      ]
     },
     "execution_count": 10,
     "metadata": {},
     "output_type": "execute_result"
    }
   ],
   "source": [
    "clf.predict_proba([[2., 2.]])"
   ]
  },
  {
   "cell_type": "markdown",
   "metadata": {
    "id": "8X-bzQHQFPRJ"
   },
   "source": [
    "Let's now go on to using visual strategies to interpreting trees."
   ]
  },
  {
   "cell_type": "markdown",
   "metadata": {
    "id": "fVQJAJXyn1Ks"
   },
   "source": [
    "<a name='x.1.2'></a>\n",
    "\n",
    "### 6.1.2 Interpreting a Decision Tree\n",
    "\n",
    "[back to top](#top)\n",
    "\n",
    "Throughout today, we will discuss many ways to view both a single tree and a random forest of trees."
   ]
  },
  {
   "cell_type": "markdown",
   "metadata": {
    "id": "y7t0phKwEmsG"
   },
   "source": [
    "<a name='x.1.2.1'></a>\n",
    "\n",
    "#### 6.1.2.1 Node & Branch Diagram\n",
    "\n",
    "[back to top](#top)\n",
    "\n",
    "We can visualize the decision tree:"
   ]
  },
  {
   "cell_type": "code",
   "execution_count": 11,
   "metadata": {
    "colab": {
     "base_uri": "https://localhost:8080/",
     "height": 299
    },
    "id": "xFMmvuGknNtw",
    "outputId": "8a03fd83-b1e1-443a-bb60-1f44f993d6cd"
   },
   "outputs": [
    {
     "data": {
      "text/plain": [
       "[Text(0.5, 0.75, 'X[0] <= 0.5\\ngini = 0.5\\nsamples = 2\\nvalue = [1, 1]'),\n",
       " Text(0.25, 0.25, 'gini = 0.0\\nsamples = 1\\nvalue = [1, 0]'),\n",
       " Text(0.75, 0.25, 'gini = 0.0\\nsamples = 1\\nvalue = [0, 1]')]"
      ]
     },
     "execution_count": 11,
     "metadata": {},
     "output_type": "execute_result"
    },
    {
     "data": {
      "image/png": "[encoded data removed]",
      "text/plain": [
       "<Figure size 432x288 with 1 Axes>"
      ]
     },
     "metadata": {},
     "output_type": "display_data"
    }
   ],
   "source": [
    "tree.plot_tree(clf)"
   ]
  },
  {
   "cell_type": "markdown",
   "metadata": {
    "id": "EOVxO6N8rQCB"
   },
   "source": [
    "or, more prettily:"
   ]
  },
  {
   "cell_type": "code",
   "execution_count": 12,
   "metadata": {
    "colab": {
     "base_uri": "https://localhost:8080/",
     "height": 241
    },
    "id": "EGWlJjZ2rTOA",
    "outputId": "a1b33fe4-a9d3-4e4a-8a35-cc72dcff4df1"
   },
   "outputs": [
    {
     "data": {
      "image/svg+xml": [
       "<?xml version=\"1.0\" encoding=\"UTF-8\" standalone=\"no\"?>\n",
       "<!DOCTYPE svg PUBLIC \"-//W3C//DTD SVG 1.1//EN\"\n",
       " \"http://www.w3.org/Graphics/SVG/1.1/DTD/svg11.dtd\">\n",
       "<!-- Generated by graphviz version 2.40.1 (20161225.0304)\n",
       " -->\n",
       "<!-- Title: Tree Pages: 1 -->\n",
       "<svg width=\"254pt\" height=\"165pt\"\n",
       " viewBox=\"0.00 0.00 254.00 165.00\" xmlns=\"http://www.w3.org/2000/svg\" xmlns:xlink=\"http://www.w3.org/1999/xlink\">\n",
       "<g id=\"graph0\" class=\"graph\" transform=\"scale(1 1) rotate(0) translate(4 161)\">\n",
       "<title>Tree</title>\n",
       "<polygon fill=\"#ffffff\" stroke=\"transparent\" points=\"-4,4 -4,-161 250,-161 250,4 -4,4\"/>\n",
       "<!-- 0 -->\n",
       "<g id=\"node1\" class=\"node\">\n",
       "<title>0</title>\n",
       "<polygon fill=\"none\" stroke=\"#000000\" points=\"180,-157 66,-157 66,-89 180,-89 180,-157\"/>\n",
       "<text text-anchor=\"middle\" x=\"123\" y=\"-141.8\" font-family=\"Helvetica,sans-Serif\" font-size=\"14.00\" fill=\"#000000\">X[0] &lt;= 0.5</text>\n",
       "<text text-anchor=\"middle\" x=\"123\" y=\"-126.8\" font-family=\"Helvetica,sans-Serif\" font-size=\"14.00\" fill=\"#000000\">gini = 0.5</text>\n",
       "<text text-anchor=\"middle\" x=\"123\" y=\"-111.8\" font-family=\"Helvetica,sans-Serif\" font-size=\"14.00\" fill=\"#000000\">samples = 2</text>\n",
       "<text text-anchor=\"middle\" x=\"123\" y=\"-96.8\" font-family=\"Helvetica,sans-Serif\" font-size=\"14.00\" fill=\"#000000\">value = [1, 1]</text>\n",
       "</g>\n",
       "<!-- 1 -->\n",
       "<g id=\"node2\" class=\"node\">\n",
       "<title>1</title>\n",
       "<polygon fill=\"none\" stroke=\"#000000\" points=\"114,-53 0,-53 0,0 114,0 114,-53\"/>\n",
       "<text text-anchor=\"middle\" x=\"57\" y=\"-37.8\" font-family=\"Helvetica,sans-Serif\" font-size=\"14.00\" fill=\"#000000\">gini = 0.0</text>\n",
       "<text text-anchor=\"middle\" x=\"57\" y=\"-22.8\" font-family=\"Helvetica,sans-Serif\" font-size=\"14.00\" fill=\"#000000\">samples = 1</text>\n",
       "<text text-anchor=\"middle\" x=\"57\" y=\"-7.8\" font-family=\"Helvetica,sans-Serif\" font-size=\"14.00\" fill=\"#000000\">value = [1, 0]</text>\n",
       "</g>\n",
       "<!-- 0&#45;&gt;1 -->\n",
       "<g id=\"edge1\" class=\"edge\">\n",
       "<title>0&#45;&gt;1</title>\n",
       "<path fill=\"none\" stroke=\"#000000\" d=\"M99.7309,-88.9777C93.656,-80.0954 87.0979,-70.5067 80.9865,-61.5711\"/>\n",
       "<polygon fill=\"#000000\" stroke=\"#000000\" points=\"83.8286,-59.5267 75.2943,-53.2485 78.0507,-63.4785 83.8286,-59.5267\"/>\n",
       "<text text-anchor=\"middle\" x=\"70.6825\" y=\"-74.1194\" font-family=\"Helvetica,sans-Serif\" font-size=\"14.00\" fill=\"#000000\">True</text>\n",
       "</g>\n",
       "<!-- 2 -->\n",
       "<g id=\"node3\" class=\"node\">\n",
       "<title>2</title>\n",
       "<polygon fill=\"none\" stroke=\"#000000\" points=\"246,-53 132,-53 132,0 246,0 246,-53\"/>\n",
       "<text text-anchor=\"middle\" x=\"189\" y=\"-37.8\" font-family=\"Helvetica,sans-Serif\" font-size=\"14.00\" fill=\"#000000\">gini = 0.0</text>\n",
       "<text text-anchor=\"middle\" x=\"189\" y=\"-22.8\" font-family=\"Helvetica,sans-Serif\" font-size=\"14.00\" fill=\"#000000\">samples = 1</text>\n",
       "<text text-anchor=\"middle\" x=\"189\" y=\"-7.8\" font-family=\"Helvetica,sans-Serif\" font-size=\"14.00\" fill=\"#000000\">value = [0, 1]</text>\n",
       "</g>\n",
       "<!-- 0&#45;&gt;2 -->\n",
       "<g id=\"edge2\" class=\"edge\">\n",
       "<title>0&#45;&gt;2</title>\n",
       "<path fill=\"none\" stroke=\"#000000\" d=\"M146.2691,-88.9777C152.344,-80.0954 158.9021,-70.5067 165.0135,-61.5711\"/>\n",
       "<polygon fill=\"#000000\" stroke=\"#000000\" points=\"167.9493,-63.4785 170.7057,-53.2485 162.1714,-59.5267 167.9493,-63.4785\"/>\n",
       "<text text-anchor=\"middle\" x=\"175.3175\" y=\"-74.1194\" font-family=\"Helvetica,sans-Serif\" font-size=\"14.00\" fill=\"#000000\">False</text>\n",
       "</g>\n",
       "</g>\n",
       "</svg>\n"
      ],
      "text/plain": [
       "<graphviz.sources.Source at 0x7f1feffd9c70>"
      ]
     },
     "execution_count": 12,
     "metadata": {},
     "output_type": "execute_result"
    }
   ],
   "source": [
    "import graphviz \n",
    "dot_data = tree.export_graphviz(clf, out_file=None) \n",
    "graph = graphviz.Source(dot_data) \n",
    "graph"
   ]
  },
  {
   "cell_type": "markdown",
   "metadata": {
    "id": "AdOsfHuopZxL"
   },
   "source": [
    "The gini label, also known as **Gini impurity**, is a measure of how often a sample passing through the node would be incorrectly labeled if it was randomly assigned a label based on the proportion of all labels passing through the node. So it is a measure of the progress of our tree."
   ]
  },
  {
   "cell_type": "markdown",
   "metadata": {
    "id": "scGZ-uJKn32H"
   },
   "source": [
    "Let's take a more complex example"
   ]
  },
  {
   "cell_type": "code",
   "execution_count": 13,
   "metadata": {
    "id": "2U2aFrpLoEOE"
   },
   "outputs": [],
   "source": [
    "from sklearn.datasets import make_classification as gen\n",
    "X, y = gen(random_state=42)"
   ]
  },
  {
   "cell_type": "markdown",
   "metadata": {
    "id": "OhUW4XTVp7we"
   },
   "source": [
    "Let's inspect our generated data:"
   ]
  },
  {
   "cell_type": "code",
   "execution_count": 14,
   "metadata": {
    "colab": {
     "base_uri": "https://localhost:8080/"
    },
    "id": "_ymQM-2uoyO9",
    "outputId": "47bb98bc-0675-45e2-c7f1-eb9bf6c69663"
   },
   "outputs": [
    {
     "name": "stdout",
     "output_type": "stream",
     "text": [
      "(100, 20)\n",
      "(100,)\n"
     ]
    },
    {
     "data": {
      "text/plain": [
       "array([0, 0, 1, 1, 0])"
      ]
     },
     "execution_count": 14,
     "metadata": {},
     "output_type": "execute_result"
    }
   ],
   "source": [
    "print(X.shape)\n",
    "print(y.shape)\n",
    "y[:5] # a binary classification"
   ]
  },
  {
   "cell_type": "markdown",
   "metadata": {
    "id": "UpXJPkyYp-JM"
   },
   "source": [
    "And now let's train our tree:"
   ]
  },
  {
   "cell_type": "code",
   "execution_count": 15,
   "metadata": {
    "id": "_mXuhaA7o5Zh"
   },
   "outputs": [],
   "source": [
    "clf = tree.DecisionTreeClassifier()\n",
    "clf = clf.fit(X, y)"
   ]
  },
  {
   "cell_type": "markdown",
   "metadata": {
    "id": "xOef6sMEp_47"
   },
   "source": [
    "How do we interpret this graph?"
   ]
  },
  {
   "cell_type": "code",
   "execution_count": 16,
   "metadata": {
    "colab": {
     "base_uri": "https://localhost:8080/",
     "height": 518
    },
    "id": "5-7JtcYNnjFZ",
    "outputId": "034823a6-2cbc-4917-a113-9307942f8e2e"
   },
   "outputs": [
    {
     "data": {
      "image/svg+xml": [
       "<?xml version=\"1.0\" encoding=\"UTF-8\" standalone=\"no\"?>\n",
       "<!DOCTYPE svg PUBLIC \"-//W3C//DTD SVG 1.1//EN\"\n",
       " \"http://www.w3.org/Graphics/SVG/1.1/DTD/svg11.dtd\">\n",
       "<!-- Generated by graphviz version 2.40.1 (20161225.0304)\n",
       " -->\n",
       "<!-- Title: Tree Pages: 1 -->\n",
       "<svg width=\"546pt\" height=\"373pt\"\n",
       " viewBox=\"0.00 0.00 545.50 373.00\" xmlns=\"http://www.w3.org/2000/svg\" xmlns:xlink=\"http://www.w3.org/1999/xlink\">\n",
       "<g id=\"graph0\" class=\"graph\" transform=\"scale(1 1) rotate(0) translate(4 369)\">\n",
       "<title>Tree</title>\n",
       "<polygon fill=\"#ffffff\" stroke=\"transparent\" points=\"-4,4 -4,-369 541.5,-369 541.5,4 -4,4\"/>\n",
       "<!-- 0 -->\n",
       "<g id=\"node1\" class=\"node\">\n",
       "<title>0</title>\n",
       "<polygon fill=\"none\" stroke=\"#000000\" points=\"337.5,-365 205.5,-365 205.5,-297 337.5,-297 337.5,-365\"/>\n",
       "<text text-anchor=\"middle\" x=\"271.5\" y=\"-349.8\" font-family=\"Helvetica,sans-Serif\" font-size=\"14.00\" fill=\"#000000\">X[10] &lt;= 0.203</text>\n",
       "<text text-anchor=\"middle\" x=\"271.5\" y=\"-334.8\" font-family=\"Helvetica,sans-Serif\" font-size=\"14.00\" fill=\"#000000\">gini = 0.5</text>\n",
       "<text text-anchor=\"middle\" x=\"271.5\" y=\"-319.8\" font-family=\"Helvetica,sans-Serif\" font-size=\"14.00\" fill=\"#000000\">samples = 100</text>\n",
       "<text text-anchor=\"middle\" x=\"271.5\" y=\"-304.8\" font-family=\"Helvetica,sans-Serif\" font-size=\"14.00\" fill=\"#000000\">value = [50, 50]</text>\n",
       "</g>\n",
       "<!-- 1 -->\n",
       "<g id=\"node2\" class=\"node\">\n",
       "<title>1</title>\n",
       "<polygon fill=\"none\" stroke=\"#000000\" points=\"265.5,-261 131.5,-261 131.5,-193 265.5,-193 265.5,-261\"/>\n",
       "<text text-anchor=\"middle\" x=\"198.5\" y=\"-245.8\" font-family=\"Helvetica,sans-Serif\" font-size=\"14.00\" fill=\"#000000\">X[10] &lt;= &#45;0.301</text>\n",
       "<text text-anchor=\"middle\" x=\"198.5\" y=\"-230.8\" font-family=\"Helvetica,sans-Serif\" font-size=\"14.00\" fill=\"#000000\">gini = 0.109</text>\n",
       "<text text-anchor=\"middle\" x=\"198.5\" y=\"-215.8\" font-family=\"Helvetica,sans-Serif\" font-size=\"14.00\" fill=\"#000000\">samples = 52</text>\n",
       "<text text-anchor=\"middle\" x=\"198.5\" y=\"-200.8\" font-family=\"Helvetica,sans-Serif\" font-size=\"14.00\" fill=\"#000000\">value = [49, 3]</text>\n",
       "</g>\n",
       "<!-- 0&#45;&gt;1 -->\n",
       "<g id=\"edge1\" class=\"edge\">\n",
       "<title>0&#45;&gt;1</title>\n",
       "<path fill=\"none\" stroke=\"#000000\" d=\"M247.5971,-296.9465C241.4209,-288.1475 234.6962,-278.5672 228.261,-269.3993\"/>\n",
       "<polygon fill=\"#000000\" stroke=\"#000000\" points=\"231.0666,-267.3041 222.4566,-261.13 225.3371,-271.3258 231.0666,-267.3041\"/>\n",
       "<text text-anchor=\"middle\" x=\"218.1437\" y=\"-282.0552\" font-family=\"Helvetica,sans-Serif\" font-size=\"14.00\" fill=\"#000000\">True</text>\n",
       "</g>\n",
       "<!-- 6 -->\n",
       "<g id=\"node7\" class=\"node\">\n",
       "<title>6</title>\n",
       "<polygon fill=\"none\" stroke=\"#000000\" points=\"407,-261 284,-261 284,-193 407,-193 407,-261\"/>\n",
       "<text text-anchor=\"middle\" x=\"345.5\" y=\"-245.8\" font-family=\"Helvetica,sans-Serif\" font-size=\"14.00\" fill=\"#000000\">X[5] &lt;= 2.347</text>\n",
       "<text text-anchor=\"middle\" x=\"345.5\" y=\"-230.8\" font-family=\"Helvetica,sans-Serif\" font-size=\"14.00\" fill=\"#000000\">gini = 0.041</text>\n",
       "<text text-anchor=\"middle\" x=\"345.5\" y=\"-215.8\" font-family=\"Helvetica,sans-Serif\" font-size=\"14.00\" fill=\"#000000\">samples = 48</text>\n",
       "<text text-anchor=\"middle\" x=\"345.5\" y=\"-200.8\" font-family=\"Helvetica,sans-Serif\" font-size=\"14.00\" fill=\"#000000\">value = [1, 47]</text>\n",
       "</g>\n",
       "<!-- 0&#45;&gt;6 -->\n",
       "<g id=\"edge6\" class=\"edge\">\n",
       "<title>0&#45;&gt;6</title>\n",
       "<path fill=\"none\" stroke=\"#000000\" d=\"M295.7304,-296.9465C301.9912,-288.1475 308.808,-278.5672 315.3313,-269.3993\"/>\n",
       "<polygon fill=\"#000000\" stroke=\"#000000\" points=\"318.2694,-271.3071 321.2152,-261.13 312.5658,-267.2488 318.2694,-271.3071\"/>\n",
       "<text text-anchor=\"middle\" x=\"325.3701\" y=\"-282.0823\" font-family=\"Helvetica,sans-Serif\" font-size=\"14.00\" fill=\"#000000\">False</text>\n",
       "</g>\n",
       "<!-- 2 -->\n",
       "<g id=\"node3\" class=\"node\">\n",
       "<title>2</title>\n",
       "<polygon fill=\"none\" stroke=\"#000000\" points=\"123,-149.5 0,-149.5 0,-96.5 123,-96.5 123,-149.5\"/>\n",
       "<text text-anchor=\"middle\" x=\"61.5\" y=\"-134.3\" font-family=\"Helvetica,sans-Serif\" font-size=\"14.00\" fill=\"#000000\">gini = 0.0</text>\n",
       "<text text-anchor=\"middle\" x=\"61.5\" y=\"-119.3\" font-family=\"Helvetica,sans-Serif\" font-size=\"14.00\" fill=\"#000000\">samples = 45</text>\n",
       "<text text-anchor=\"middle\" x=\"61.5\" y=\"-104.3\" font-family=\"Helvetica,sans-Serif\" font-size=\"14.00\" fill=\"#000000\">value = [45, 0]</text>\n",
       "</g>\n",
       "<!-- 1&#45;&gt;2 -->\n",
       "<g id=\"edge2\" class=\"edge\">\n",
       "<title>1&#45;&gt;2</title>\n",
       "<path fill=\"none\" stroke=\"#000000\" d=\"M153.6411,-192.9465C137.8252,-180.9403 120.0927,-167.4791 104.4393,-155.5962\"/>\n",
       "<polygon fill=\"#000000\" stroke=\"#000000\" points=\"106.5455,-152.8009 96.4642,-149.5422 102.3129,-158.3764 106.5455,-152.8009\"/>\n",
       "</g>\n",
       "<!-- 3 -->\n",
       "<g id=\"node4\" class=\"node\">\n",
       "<title>3</title>\n",
       "<polygon fill=\"none\" stroke=\"#000000\" points=\"260,-157 141,-157 141,-89 260,-89 260,-157\"/>\n",
       "<text text-anchor=\"middle\" x=\"200.5\" y=\"-141.8\" font-family=\"Helvetica,sans-Serif\" font-size=\"14.00\" fill=\"#000000\">X[1] &lt;= 0.094</text>\n",
       "<text text-anchor=\"middle\" x=\"200.5\" y=\"-126.8\" font-family=\"Helvetica,sans-Serif\" font-size=\"14.00\" fill=\"#000000\">gini = 0.49</text>\n",
       "<text text-anchor=\"middle\" x=\"200.5\" y=\"-111.8\" font-family=\"Helvetica,sans-Serif\" font-size=\"14.00\" fill=\"#000000\">samples = 7</text>\n",
       "<text text-anchor=\"middle\" x=\"200.5\" y=\"-96.8\" font-family=\"Helvetica,sans-Serif\" font-size=\"14.00\" fill=\"#000000\">value = [4, 3]</text>\n",
       "</g>\n",
       "<!-- 1&#45;&gt;3 -->\n",
       "<g id=\"edge3\" class=\"edge\">\n",
       "<title>1&#45;&gt;3</title>\n",
       "<path fill=\"none\" stroke=\"#000000\" d=\"M199.1549,-192.9465C199.312,-184.776 199.4821,-175.9318 199.6467,-167.3697\"/>\n",
       "<polygon fill=\"#000000\" stroke=\"#000000\" points=\"203.1506,-167.1955 199.8437,-157.13 196.1519,-167.0608 203.1506,-167.1955\"/>\n",
       "</g>\n",
       "<!-- 4 -->\n",
       "<g id=\"node5\" class=\"node\">\n",
       "<title>4</title>\n",
       "<polygon fill=\"none\" stroke=\"#000000\" points=\"191.5,-53 77.5,-53 77.5,0 191.5,0 191.5,-53\"/>\n",
       "<text text-anchor=\"middle\" x=\"134.5\" y=\"-37.8\" font-family=\"Helvetica,sans-Serif\" font-size=\"14.00\" fill=\"#000000\">gini = 0.0</text>\n",
       "<text text-anchor=\"middle\" x=\"134.5\" y=\"-22.8\" font-family=\"Helvetica,sans-Serif\" font-size=\"14.00\" fill=\"#000000\">samples = 4</text>\n",
       "<text text-anchor=\"middle\" x=\"134.5\" y=\"-7.8\" font-family=\"Helvetica,sans-Serif\" font-size=\"14.00\" fill=\"#000000\">value = [4, 0]</text>\n",
       "</g>\n",
       "<!-- 3&#45;&gt;4 -->\n",
       "<g id=\"edge4\" class=\"edge\">\n",
       "<title>3&#45;&gt;4</title>\n",
       "<path fill=\"none\" stroke=\"#000000\" d=\"M177.2309,-88.9777C171.156,-80.0954 164.5979,-70.5067 158.4865,-61.5711\"/>\n",
       "<polygon fill=\"#000000\" stroke=\"#000000\" points=\"161.3286,-59.5267 152.7943,-53.2485 155.5507,-63.4785 161.3286,-59.5267\"/>\n",
       "</g>\n",
       "<!-- 5 -->\n",
       "<g id=\"node6\" class=\"node\">\n",
       "<title>5</title>\n",
       "<polygon fill=\"none\" stroke=\"#000000\" points=\"323.5,-53 209.5,-53 209.5,0 323.5,0 323.5,-53\"/>\n",
       "<text text-anchor=\"middle\" x=\"266.5\" y=\"-37.8\" font-family=\"Helvetica,sans-Serif\" font-size=\"14.00\" fill=\"#000000\">gini = 0.0</text>\n",
       "<text text-anchor=\"middle\" x=\"266.5\" y=\"-22.8\" font-family=\"Helvetica,sans-Serif\" font-size=\"14.00\" fill=\"#000000\">samples = 3</text>\n",
       "<text text-anchor=\"middle\" x=\"266.5\" y=\"-7.8\" font-family=\"Helvetica,sans-Serif\" font-size=\"14.00\" fill=\"#000000\">value = [0, 3]</text>\n",
       "</g>\n",
       "<!-- 3&#45;&gt;5 -->\n",
       "<g id=\"edge5\" class=\"edge\">\n",
       "<title>3&#45;&gt;5</title>\n",
       "<path fill=\"none\" stroke=\"#000000\" d=\"M223.7691,-88.9777C229.844,-80.0954 236.4021,-70.5067 242.5135,-61.5711\"/>\n",
       "<polygon fill=\"#000000\" stroke=\"#000000\" points=\"245.4493,-63.4785 248.2057,-53.2485 239.6714,-59.5267 245.4493,-63.4785\"/>\n",
       "</g>\n",
       "<!-- 7 -->\n",
       "<g id=\"node8\" class=\"node\">\n",
       "<title>7</title>\n",
       "<polygon fill=\"none\" stroke=\"#000000\" points=\"405,-149.5 282,-149.5 282,-96.5 405,-96.5 405,-149.5\"/>\n",
       "<text text-anchor=\"middle\" x=\"343.5\" y=\"-134.3\" font-family=\"Helvetica,sans-Serif\" font-size=\"14.00\" fill=\"#000000\">gini = 0.0</text>\n",
       "<text text-anchor=\"middle\" x=\"343.5\" y=\"-119.3\" font-family=\"Helvetica,sans-Serif\" font-size=\"14.00\" fill=\"#000000\">samples = 47</text>\n",
       "<text text-anchor=\"middle\" x=\"343.5\" y=\"-104.3\" font-family=\"Helvetica,sans-Serif\" font-size=\"14.00\" fill=\"#000000\">value = [0, 47]</text>\n",
       "</g>\n",
       "<!-- 6&#45;&gt;7 -->\n",
       "<g id=\"edge7\" class=\"edge\">\n",
       "<title>6&#45;&gt;7</title>\n",
       "<path fill=\"none\" stroke=\"#000000\" d=\"M344.8451,-192.9465C344.6397,-182.2621 344.412,-170.4254 344.2034,-159.5742\"/>\n",
       "<polygon fill=\"#000000\" stroke=\"#000000\" points=\"347.7021,-159.473 344.0104,-149.5422 340.7034,-159.6076 347.7021,-159.473\"/>\n",
       "</g>\n",
       "<!-- 8 -->\n",
       "<g id=\"node9\" class=\"node\">\n",
       "<title>8</title>\n",
       "<polygon fill=\"none\" stroke=\"#000000\" points=\"537.5,-149.5 423.5,-149.5 423.5,-96.5 537.5,-96.5 537.5,-149.5\"/>\n",
       "<text text-anchor=\"middle\" x=\"480.5\" y=\"-134.3\" font-family=\"Helvetica,sans-Serif\" font-size=\"14.00\" fill=\"#000000\">gini = 0.0</text>\n",
       "<text text-anchor=\"middle\" x=\"480.5\" y=\"-119.3\" font-family=\"Helvetica,sans-Serif\" font-size=\"14.00\" fill=\"#000000\">samples = 1</text>\n",
       "<text text-anchor=\"middle\" x=\"480.5\" y=\"-104.3\" font-family=\"Helvetica,sans-Serif\" font-size=\"14.00\" fill=\"#000000\">value = [1, 0]</text>\n",
       "</g>\n",
       "<!-- 6&#45;&gt;8 -->\n",
       "<g id=\"edge8\" class=\"edge\">\n",
       "<title>6&#45;&gt;8</title>\n",
       "<path fill=\"none\" stroke=\"#000000\" d=\"M389.704,-192.9465C405.1461,-181.0504 422.4422,-167.726 437.7625,-155.9237\"/>\n",
       "<polygon fill=\"#000000\" stroke=\"#000000\" points=\"440.2603,-158.4176 446.0462,-149.5422 435.9883,-152.8723 440.2603,-158.4176\"/>\n",
       "</g>\n",
       "</g>\n",
       "</svg>\n"
      ],
      "text/plain": [
       "<graphviz.sources.Source at 0x7f1fefe2adf0>"
      ]
     },
     "execution_count": 16,
     "metadata": {},
     "output_type": "execute_result"
    }
   ],
   "source": [
    "dot_data = tree.export_graphviz(clf, out_file=None) \n",
    "graph = graphviz.Source(dot_data) \n",
    "graph"
   ]
  },
  {
   "cell_type": "markdown",
   "metadata": {
    "id": "EW9QnQ2VnY3k"
   },
   "source": [
    "> Can we confirm the observations in the tree by manually inspecting X and y?"
   ]
  },
  {
   "cell_type": "code",
   "execution_count": 17,
   "metadata": {
    "colab": {
     "base_uri": "https://localhost:8080/"
    },
    "id": "J16-n42ynM0O",
    "outputId": "0c637443-f170-4b4e-ac2d-3f53ee649d25"
   },
   "outputs": [
    {
     "data": {
      "text/plain": [
       "array([0, 0, 1, 0, 0, 0, 0, 0, 0, 0, 0, 0, 0, 0, 0, 0, 0, 0, 0, 0, 0, 0,\n",
       "       0, 0, 0, 0, 0, 0, 0, 0, 0, 0, 0, 1, 0, 0, 0, 0, 0, 0, 0, 0, 0, 0,\n",
       "       0, 1, 0, 0, 0, 0, 0, 0])"
      ]
     },
     "execution_count": 17,
     "metadata": {},
     "output_type": "execute_result"
    }
   ],
   "source": [
    "y[X[:,10] < .203]"
   ]
  },
  {
   "cell_type": "markdown",
   "metadata": {
    "id": "DYW4XXyMbqMW"
   },
   "source": [
    "We can confirm the gini score of the top left node by hand..."
   ]
  },
  {
   "cell_type": "code",
   "execution_count": 18,
   "metadata": {
    "colab": {
     "base_uri": "https://localhost:8080/"
    },
    "id": "5IAjaZKlaqD5",
    "outputId": "862bf4b7-9f67-45a8-99d5-70a262c2177e"
   },
   "outputs": [
    {
     "data": {
      "text/plain": [
       "0.10817307692307693"
      ]
     },
     "execution_count": 18,
     "metadata": {},
     "output_type": "execute_result"
    }
   ],
   "source": [
    "scr = []\n",
    "for j in range(1000):\n",
    "  y_pred = [0 if random.random() > ( 3/52 ) else 1 for i in range(52)]\n",
    "  y_true = [0 if random.random() > ( 3/52 ) else 1 for i in range(52)]\n",
    "  scr.append(mean_squared_error(y_pred,y_true))\n",
    "np.mean(scr)"
   ]
  },
  {
   "cell_type": "markdown",
   "metadata": {
    "id": "zko0KVvjtZdv"
   },
   "source": [
    "Let's take a look at this with our truffle dataset\n",
    "\n",
    "> Vary the parameter `max_depth` what do you notice? Does the term _greedy_ mean anything to you? Do nodes higher in the tree change based on decisions lower in the tree?\n"
   ]
  },
  {
   "cell_type": "code",
   "execution_count": 19,
   "metadata": {
    "colab": {
     "base_uri": "https://localhost:8080/"
    },
    "id": "7cmPyX0atbdK",
    "outputId": "f574ac26-5bff-4b9c-c3bd-ad683082c590"
   },
   "outputs": [
    {
     "data": {
      "text/plain": [
       "DecisionTreeClassifier(max_depth=1)"
      ]
     },
     "execution_count": 19,
     "metadata": {},
     "output_type": "execute_result"
    }
   ],
   "source": [
    "clf = tree.DecisionTreeClassifier(max_depth=1)\n",
    "clf.fit(X_truf, y_truf_class)"
   ]
  },
  {
   "cell_type": "markdown",
   "metadata": {
    "id": "l8FgIc7RzyIf"
   },
   "source": [
    "And now lets look at the graph:"
   ]
  },
  {
   "cell_type": "code",
   "execution_count": 20,
   "metadata": {
    "colab": {
     "base_uri": "https://localhost:8080/",
     "height": 241
    },
    "id": "Iwk0byHWyJCU",
    "outputId": "b6f4e75e-f0ff-4b0e-e28a-8a2f0f334fd0"
   },
   "outputs": [
    {
     "data": {
      "image/svg+xml": [
       "<?xml version=\"1.0\" encoding=\"UTF-8\" standalone=\"no\"?>\n",
       "<!DOCTYPE svg PUBLIC \"-//W3C//DTD SVG 1.1//EN\"\n",
       " \"http://www.w3.org/Graphics/SVG/1.1/DTD/svg11.dtd\">\n",
       "<!-- Generated by graphviz version 2.40.1 (20161225.0304)\n",
       " -->\n",
       "<!-- Title: Tree Pages: 1 -->\n",
       "<svg width=\"416pt\" height=\"165pt\"\n",
       " viewBox=\"0.00 0.00 416.00 165.00\" xmlns=\"http://www.w3.org/2000/svg\" xmlns:xlink=\"http://www.w3.org/1999/xlink\">\n",
       "<g id=\"graph0\" class=\"graph\" transform=\"scale(1 1) rotate(0) translate(4 161)\">\n",
       "<title>Tree</title>\n",
       "<polygon fill=\"#ffffff\" stroke=\"transparent\" points=\"-4,4 -4,-161 412,-161 412,4 -4,4\"/>\n",
       "<!-- 0 -->\n",
       "<g id=\"node1\" class=\"node\">\n",
       "<title>0</title>\n",
       "<polygon fill=\"none\" stroke=\"#000000\" points=\"328,-157 106,-157 106,-89 328,-89 328,-157\"/>\n",
       "<text text-anchor=\"middle\" x=\"217\" y=\"-141.8\" font-family=\"Helvetica,sans-Serif\" font-size=\"14.00\" fill=\"#000000\">X[4] &lt;= 0.5</text>\n",
       "<text text-anchor=\"middle\" x=\"217\" y=\"-126.8\" font-family=\"Helvetica,sans-Serif\" font-size=\"14.00\" fill=\"#000000\">gini = 0.75</text>\n",
       "<text text-anchor=\"middle\" x=\"217\" y=\"-111.8\" font-family=\"Helvetica,sans-Serif\" font-size=\"14.00\" fill=\"#000000\">samples = 1668</text>\n",
       "<text text-anchor=\"middle\" x=\"217\" y=\"-96.8\" font-family=\"Helvetica,sans-Serif\" font-size=\"14.00\" fill=\"#000000\">value = [417, 417, 417, 417]</text>\n",
       "</g>\n",
       "<!-- 1 -->\n",
       "<g id=\"node2\" class=\"node\">\n",
       "<title>1</title>\n",
       "<polygon fill=\"none\" stroke=\"#000000\" points=\"222,-53 0,-53 0,0 222,0 222,-53\"/>\n",
       "<text text-anchor=\"middle\" x=\"111\" y=\"-37.8\" font-family=\"Helvetica,sans-Serif\" font-size=\"14.00\" fill=\"#000000\">gini = 0.745</text>\n",
       "<text text-anchor=\"middle\" x=\"111\" y=\"-22.8\" font-family=\"Helvetica,sans-Serif\" font-size=\"14.00\" fill=\"#000000\">samples = 1548</text>\n",
       "<text text-anchor=\"middle\" x=\"111\" y=\"-7.8\" font-family=\"Helvetica,sans-Serif\" font-size=\"14.00\" fill=\"#000000\">value = [417, 417, 417, 297]</text>\n",
       "</g>\n",
       "<!-- 0&#45;&gt;1 -->\n",
       "<g id=\"edge1\" class=\"edge\">\n",
       "<title>0&#45;&gt;1</title>\n",
       "<path fill=\"none\" stroke=\"#000000\" d=\"M179.6284,-88.9777C169.3688,-79.6376 158.2511,-69.5163 148.0118,-60.1947\"/>\n",
       "<polygon fill=\"#000000\" stroke=\"#000000\" points=\"150.1326,-57.3923 140.3817,-53.2485 145.4202,-62.5686 150.1326,-57.3923\"/>\n",
       "<text text-anchor=\"middle\" x=\"141.5533\" y=\"-74.521\" font-family=\"Helvetica,sans-Serif\" font-size=\"14.00\" fill=\"#000000\">True</text>\n",
       "</g>\n",
       "<!-- 2 -->\n",
       "<g id=\"node3\" class=\"node\">\n",
       "<title>2</title>\n",
       "<polygon fill=\"none\" stroke=\"#000000\" points=\"408,-53 240,-53 240,0 408,0 408,-53\"/>\n",
       "<text text-anchor=\"middle\" x=\"324\" y=\"-37.8\" font-family=\"Helvetica,sans-Serif\" font-size=\"14.00\" fill=\"#000000\">gini = 0.0</text>\n",
       "<text text-anchor=\"middle\" x=\"324\" y=\"-22.8\" font-family=\"Helvetica,sans-Serif\" font-size=\"14.00\" fill=\"#000000\">samples = 120</text>\n",
       "<text text-anchor=\"middle\" x=\"324\" y=\"-7.8\" font-family=\"Helvetica,sans-Serif\" font-size=\"14.00\" fill=\"#000000\">value = [0, 0, 0, 120]</text>\n",
       "</g>\n",
       "<!-- 0&#45;&gt;2 -->\n",
       "<g id=\"edge2\" class=\"edge\">\n",
       "<title>0&#45;&gt;2</title>\n",
       "<path fill=\"none\" stroke=\"#000000\" d=\"M254.7242,-88.9777C265.0806,-79.6376 276.3031,-69.5163 286.639,-60.1947\"/>\n",
       "<polygon fill=\"#000000\" stroke=\"#000000\" points=\"289.2591,-62.5449 294.3411,-53.2485 284.5709,-57.3467 289.2591,-62.5449\"/>\n",
       "<text text-anchor=\"middle\" x=\"293.0529\" y=\"-74.5153\" font-family=\"Helvetica,sans-Serif\" font-size=\"14.00\" fill=\"#000000\">False</text>\n",
       "</g>\n",
       "</g>\n",
       "</svg>\n"
      ],
      "text/plain": [
       "<graphviz.sources.Source at 0x7f1fefdbdfd0>"
      ]
     },
     "execution_count": 20,
     "metadata": {},
     "output_type": "execute_result"
    }
   ],
   "source": [
    "dot_data = tree.export_graphviz(clf, out_file=None) \n",
    "graph = graphviz.Source(dot_data) \n",
    "graph"
   ]
  },
  {
   "cell_type": "markdown",
   "metadata": {
    "id": "AyjCttSyn9eL"
   },
   "source": [
    "What is `X[4]`???"
   ]
  },
  {
   "cell_type": "code",
   "execution_count": 21,
   "metadata": {
    "colab": {
     "base_uri": "https://localhost:8080/",
     "height": 35
    },
    "id": "llnU9vBHn6eV",
    "outputId": "65c22a18-96d9-4486-cdf8-288bd35a05c9"
   },
   "outputs": [
    {
     "data": {
      "text/plain": [
       "'Base Cake_Sponge'"
      ]
     },
     "execution_count": 21,
     "metadata": {},
     "output_type": "execute_result"
    }
   ],
   "source": [
    "# It's those tasty sponge cake truffles!\n",
    "enc.get_feature_names_out()[4]"
   ]
  },
  {
   "cell_type": "markdown",
   "metadata": {
    "id": "X9XJzSgk2XpN"
   },
   "source": [
    "This is one great aspect of decision trees, their *interpretability*.\n",
    "\n",
    "We will perform this analysis again, for now, let's proceed with simpler datasets while exploring the features of decision trees."
   ]
  },
  {
   "cell_type": "markdown",
   "metadata": {
    "id": "1-edADjvGY27"
   },
   "source": [
    "<a name='x.1.2.2'></a>\n",
    "\n",
    "#### 6.1.2.1 Decision Boundaries\n",
    "\n",
    "[back to top](#top)\n",
    "\n",
    "Let's make some random blobs"
   ]
  },
  {
   "cell_type": "code",
   "execution_count": 22,
   "metadata": {
    "id": "APhyElTXtFnu"
   },
   "outputs": [],
   "source": [
    "from sklearn.datasets import make_blobs as gen\n",
    "X, y = gen(random_state=42)"
   ]
  },
  {
   "cell_type": "code",
   "execution_count": 23,
   "metadata": {
    "colab": {
     "base_uri": "https://localhost:8080/",
     "height": 285
    },
    "id": "BMPyf-wrtR8d",
    "outputId": "75e3bf04-6b99-4c49-be0c-fee8429e473d"
   },
   "outputs": [
    {
     "data": {
      "text/plain": [
       "<matplotlib.collections.PathCollection at 0x7f1fefd8b130>"
      ]
     },
     "execution_count": 23,
     "metadata": {},
     "output_type": "execute_result"
    },
    {
     "data": {
      "image/png": "[encoded data removed]",
      "text/plain": [
       "<Figure size 432x288 with 1 Axes>"
      ]
     },
     "metadata": {},
     "output_type": "display_data"
    }
   ],
   "source": [
    "plt.scatter(X[:,0], X[:,1], c=y, cmap='viridis')"
   ]
  },
  {
   "cell_type": "markdown",
   "metadata": {
    "id": "yy2-alZg0n_s"
   },
   "source": [
    "Let's call up our Classifier again, this time setting the `max_depth` to two"
   ]
  },
  {
   "cell_type": "code",
   "execution_count": 24,
   "metadata": {
    "id": "Ati3BNmlyEao"
   },
   "outputs": [],
   "source": [
    "clf = tree.DecisionTreeClassifier(max_depth=2, random_state=42)\n",
    "clf = clf.fit(X, y)"
   ]
  },
  {
   "cell_type": "code",
   "execution_count": 25,
   "metadata": {
    "colab": {
     "base_uri": "https://localhost:8080/",
     "height": 285
    },
    "id": "_6T5c6WmzDJc",
    "outputId": "8d37b3c5-ae4b-488f-8826-76120cce04f7"
   },
   "outputs": [
    {
     "data": {
      "text/plain": [
       "<matplotlib.collections.PathCollection at 0x7f1feef32280>"
      ]
     },
     "execution_count": 25,
     "metadata": {},
     "output_type": "execute_result"
    },
    {
     "data": {
      "image/png": "[encoded data removed]",
      "text/plain": [
       "<Figure size 432x288 with 1 Axes>"
      ]
     },
     "metadata": {},
     "output_type": "display_data"
    }
   ],
   "source": [
    "# Parameters\n",
    "plot_step = 0.02\n",
    "\n",
    "x_min, x_max = X[:, 0].min() - 1, X[:, 0].max() + 1\n",
    "y_min, y_max = X[:, 1].min() - 1, X[:, 1].max() + 1\n",
    "xx, yy = np.meshgrid(np.arange(x_min, x_max, plot_step),\n",
    "                      np.arange(y_min, y_max, plot_step))\n",
    "plt.tight_layout(h_pad=0.5, w_pad=0.5, pad=2.5)\n",
    "\n",
    "Z = clf.predict(np.c_[xx.ravel(), yy.ravel()])\n",
    "Z = Z.reshape(xx.shape)\n",
    "cs = plt.contourf(xx, yy, Z, cmap='viridis', alpha=0.2)\n",
    "\n",
    "plt.scatter(X[:,0], X[:,1], c=y, cmap='viridis', edgecolor='grey', alpha=0.9)"
   ]
  },
  {
   "cell_type": "code",
   "execution_count": 26,
   "metadata": {
    "colab": {
     "base_uri": "https://localhost:8080/",
     "height": 380
    },
    "id": "8nWLSsmn0uEG",
    "outputId": "b5c89773-57bf-4e12-d807-936461792ef6"
   },
   "outputs": [
    {
     "data": {
      "image/svg+xml": [
       "<?xml version=\"1.0\" encoding=\"UTF-8\" standalone=\"no\"?>\n",
       "<!DOCTYPE svg PUBLIC \"-//W3C//DTD SVG 1.1//EN\"\n",
       " \"http://www.w3.org/Graphics/SVG/1.1/DTD/svg11.dtd\">\n",
       "<!-- Generated by graphviz version 2.40.1 (20161225.0304)\n",
       " -->\n",
       "<!-- Title: Tree Pages: 1 -->\n",
       "<svg width=\"392pt\" height=\"269pt\"\n",
       " viewBox=\"0.00 0.00 392.00 269.00\" xmlns=\"http://www.w3.org/2000/svg\" xmlns:xlink=\"http://www.w3.org/1999/xlink\">\n",
       "<g id=\"graph0\" class=\"graph\" transform=\"scale(1 1) rotate(0) translate(4 265)\">\n",
       "<title>Tree</title>\n",
       "<polygon fill=\"#ffffff\" stroke=\"transparent\" points=\"-4,4 -4,-265 388,-265 388,4 -4,4\"/>\n",
       "<!-- 0 -->\n",
       "<g id=\"node1\" class=\"node\">\n",
       "<title>0</title>\n",
       "<polygon fill=\"none\" stroke=\"#000000\" points=\"311,-261 152,-261 152,-193 311,-193 311,-261\"/>\n",
       "<text text-anchor=\"middle\" x=\"231.5\" y=\"-245.8\" font-family=\"Helvetica,sans-Serif\" font-size=\"14.00\" fill=\"#000000\">X[1] &lt;= 5.746</text>\n",
       "<text text-anchor=\"middle\" x=\"231.5\" y=\"-230.8\" font-family=\"Helvetica,sans-Serif\" font-size=\"14.00\" fill=\"#000000\">gini = 0.667</text>\n",
       "<text text-anchor=\"middle\" x=\"231.5\" y=\"-215.8\" font-family=\"Helvetica,sans-Serif\" font-size=\"14.00\" fill=\"#000000\">samples = 100</text>\n",
       "<text text-anchor=\"middle\" x=\"231.5\" y=\"-200.8\" font-family=\"Helvetica,sans-Serif\" font-size=\"14.00\" fill=\"#000000\">value = [34, 33, 33]</text>\n",
       "</g>\n",
       "<!-- 1 -->\n",
       "<g id=\"node2\" class=\"node\">\n",
       "<title>1</title>\n",
       "<polygon fill=\"none\" stroke=\"#000000\" points=\"224.5,-157 74.5,-157 74.5,-89 224.5,-89 224.5,-157\"/>\n",
       "<text text-anchor=\"middle\" x=\"149.5\" y=\"-141.8\" font-family=\"Helvetica,sans-Serif\" font-size=\"14.00\" fill=\"#000000\">X[1] &lt;= &#45;2.087</text>\n",
       "<text text-anchor=\"middle\" x=\"149.5\" y=\"-126.8\" font-family=\"Helvetica,sans-Serif\" font-size=\"14.00\" fill=\"#000000\">gini = 0.5</text>\n",
       "<text text-anchor=\"middle\" x=\"149.5\" y=\"-111.8\" font-family=\"Helvetica,sans-Serif\" font-size=\"14.00\" fill=\"#000000\">samples = 66</text>\n",
       "<text text-anchor=\"middle\" x=\"149.5\" y=\"-96.8\" font-family=\"Helvetica,sans-Serif\" font-size=\"14.00\" fill=\"#000000\">value = [0, 33, 33]</text>\n",
       "</g>\n",
       "<!-- 0&#45;&gt;1 -->\n",
       "<g id=\"edge1\" class=\"edge\">\n",
       "<title>0&#45;&gt;1</title>\n",
       "<path fill=\"none\" stroke=\"#000000\" d=\"M204.6501,-192.9465C197.6417,-184.0578 190.0045,-174.3716 182.709,-165.1188\"/>\n",
       "<polygon fill=\"#000000\" stroke=\"#000000\" points=\"185.3502,-162.8157 176.4102,-157.13 179.8533,-167.1498 185.3502,-162.8157\"/>\n",
       "<text text-anchor=\"middle\" x=\"173.4737\" y=\"-178.2569\" font-family=\"Helvetica,sans-Serif\" font-size=\"14.00\" fill=\"#000000\">True</text>\n",
       "</g>\n",
       "<!-- 4 -->\n",
       "<g id=\"node5\" class=\"node\">\n",
       "<title>4</title>\n",
       "<polygon fill=\"none\" stroke=\"#000000\" points=\"384,-149.5 243,-149.5 243,-96.5 384,-96.5 384,-149.5\"/>\n",
       "<text text-anchor=\"middle\" x=\"313.5\" y=\"-134.3\" font-family=\"Helvetica,sans-Serif\" font-size=\"14.00\" fill=\"#000000\">gini = 0.0</text>\n",
       "<text text-anchor=\"middle\" x=\"313.5\" y=\"-119.3\" font-family=\"Helvetica,sans-Serif\" font-size=\"14.00\" fill=\"#000000\">samples = 34</text>\n",
       "<text text-anchor=\"middle\" x=\"313.5\" y=\"-104.3\" font-family=\"Helvetica,sans-Serif\" font-size=\"14.00\" fill=\"#000000\">value = [34, 0, 0]</text>\n",
       "</g>\n",
       "<!-- 0&#45;&gt;4 -->\n",
       "<g id=\"edge4\" class=\"edge\">\n",
       "<title>0&#45;&gt;4</title>\n",
       "<path fill=\"none\" stroke=\"#000000\" d=\"M258.3499,-192.9465C267.2952,-181.6012 277.2649,-168.9567 286.241,-157.5724\"/>\n",
       "<polygon fill=\"#000000\" stroke=\"#000000\" points=\"289.1294,-159.5619 292.5725,-149.5422 283.6325,-155.2278 289.1294,-159.5619\"/>\n",
       "<text text-anchor=\"middle\" x=\"295.509\" y=\"-170.6691\" font-family=\"Helvetica,sans-Serif\" font-size=\"14.00\" fill=\"#000000\">False</text>\n",
       "</g>\n",
       "<!-- 2 -->\n",
       "<g id=\"node3\" class=\"node\">\n",
       "<title>2</title>\n",
       "<polygon fill=\"none\" stroke=\"#000000\" points=\"141,-53 0,-53 0,0 141,0 141,-53\"/>\n",
       "<text text-anchor=\"middle\" x=\"70.5\" y=\"-37.8\" font-family=\"Helvetica,sans-Serif\" font-size=\"14.00\" fill=\"#000000\">gini = 0.0</text>\n",
       "<text text-anchor=\"middle\" x=\"70.5\" y=\"-22.8\" font-family=\"Helvetica,sans-Serif\" font-size=\"14.00\" fill=\"#000000\">samples = 33</text>\n",
       "<text text-anchor=\"middle\" x=\"70.5\" y=\"-7.8\" font-family=\"Helvetica,sans-Serif\" font-size=\"14.00\" fill=\"#000000\">value = [0, 0, 33]</text>\n",
       "</g>\n",
       "<!-- 1&#45;&gt;2 -->\n",
       "<g id=\"edge2\" class=\"edge\">\n",
       "<title>1&#45;&gt;2</title>\n",
       "<path fill=\"none\" stroke=\"#000000\" d=\"M121.6476,-88.9777C114.2261,-79.9123 106.2023,-70.111 98.7593,-61.0192\"/>\n",
       "<polygon fill=\"#000000\" stroke=\"#000000\" points=\"101.4405,-58.7692 92.3977,-53.2485 96.0241,-63.2034 101.4405,-58.7692\"/>\n",
       "</g>\n",
       "<!-- 3 -->\n",
       "<g id=\"node4\" class=\"node\">\n",
       "<title>3</title>\n",
       "<polygon fill=\"none\" stroke=\"#000000\" points=\"300,-53 159,-53 159,0 300,0 300,-53\"/>\n",
       "<text text-anchor=\"middle\" x=\"229.5\" y=\"-37.8\" font-family=\"Helvetica,sans-Serif\" font-size=\"14.00\" fill=\"#000000\">gini = 0.0</text>\n",
       "<text text-anchor=\"middle\" x=\"229.5\" y=\"-22.8\" font-family=\"Helvetica,sans-Serif\" font-size=\"14.00\" fill=\"#000000\">samples = 33</text>\n",
       "<text text-anchor=\"middle\" x=\"229.5\" y=\"-7.8\" font-family=\"Helvetica,sans-Serif\" font-size=\"14.00\" fill=\"#000000\">value = [0, 33, 0]</text>\n",
       "</g>\n",
       "<!-- 1&#45;&gt;3 -->\n",
       "<g id=\"edge3\" class=\"edge\">\n",
       "<title>1&#45;&gt;3</title>\n",
       "<path fill=\"none\" stroke=\"#000000\" d=\"M177.705,-88.9777C185.2204,-79.9123 193.3458,-70.111 200.883,-61.0192\"/>\n",
       "<polygon fill=\"#000000\" stroke=\"#000000\" points=\"203.6374,-63.1808 207.3251,-53.2485 198.2484,-58.7133 203.6374,-63.1808\"/>\n",
       "</g>\n",
       "</g>\n",
       "</svg>\n"
      ],
      "text/plain": [
       "<graphviz.sources.Source at 0x7f1feeee4790>"
      ]
     },
     "execution_count": 26,
     "metadata": {},
     "output_type": "execute_result"
    }
   ],
   "source": [
    "dot_data = tree.export_graphviz(clf, out_file=None) \n",
    "graph = graphviz.Source(dot_data) \n",
    "graph"
   ]
  },
  {
   "cell_type": "markdown",
   "metadata": {
    "id": "R4wBOHc91AG-"
   },
   "source": [
    "We can see from the output of this graph, that the tree attempts to create the class boundaries as far from the cluster centers as possible. What happens when these clusters overlap?"
   ]
  },
  {
   "cell_type": "code",
   "execution_count": 27,
   "metadata": {
    "colab": {
     "base_uri": "https://localhost:8080/",
     "height": 285
    },
    "id": "_D8upLm71L6g",
    "outputId": "e675784c-a7c7-4b90-e497-fcd30ddec7a3"
   },
   "outputs": [
    {
     "data": {
      "text/plain": [
       "<matplotlib.collections.PathCollection at 0x7f1feeea0e80>"
      ]
     },
     "execution_count": 27,
     "metadata": {},
     "output_type": "execute_result"
    },
    {
     "data": {
      "image/png": "[encoded data removed]",
      "text/plain": [
       "<Figure size 432x288 with 1 Axes>"
      ]
     },
     "metadata": {},
     "output_type": "display_data"
    }
   ],
   "source": [
    "X, y = gen(random_state=42, cluster_std=3)\n",
    "plt.scatter(X[:,0], X[:,1], c=y, cmap='viridis')"
   ]
  },
  {
   "cell_type": "markdown",
   "metadata": {
    "id": "qIA4fqRU1mkR"
   },
   "source": [
    "Let's go ahead and write our plot into a function"
   ]
  },
  {
   "cell_type": "code",
   "execution_count": 28,
   "metadata": {
    "id": "eqbX-eBX1XZ4"
   },
   "outputs": [],
   "source": [
    "def plot_tree(X, clf):\n",
    "  plot_step = 0.02\n",
    "  x_min, x_max = X[:, 0].min() - 1, X[:, 0].max() + 1\n",
    "  y_min, y_max = X[:, 1].min() - 1, X[:, 1].max() + 1\n",
    "  xx, yy = np.meshgrid(np.arange(x_min, x_max, plot_step),\n",
    "                        np.arange(y_min, y_max, plot_step))\n",
    "  plt.tight_layout(h_pad=0.5, w_pad=0.5, pad=2.5)\n",
    "\n",
    "  Z = clf.predict(np.c_[xx.ravel(), yy.ravel()])\n",
    "  Z = Z.reshape(xx.shape)\n",
    "  cs = plt.contourf(xx, yy, Z, cmap='viridis', alpha=0.2)\n",
    "\n",
    "  plt.scatter(X[:,0], X[:,1], c=y, cmap='viridis', edgecolor='grey', alpha=0.9)\n",
    "  return plt"
   ]
  },
  {
   "cell_type": "markdown",
   "metadata": {
    "id": "sUdr8VDB2GHP"
   },
   "source": [
    "We see that the boundaries mislabel some points"
   ]
  },
  {
   "cell_type": "code",
   "execution_count": 29,
   "metadata": {
    "colab": {
     "base_uri": "https://localhost:8080/",
     "height": 268
    },
    "id": "v2kyUWch1vz6",
    "outputId": "13c2feff-2f2d-4d3f-aa73-bd5e5ef3f21c"
   },
   "outputs": [
    {
     "data": {
      "image/png": "[encoded data removed]",
      "text/plain": [
       "<Figure size 432x288 with 1 Axes>"
      ]
     },
     "metadata": {},
     "output_type": "display_data"
    }
   ],
   "source": [
    "fig = plot_tree(X, clf)"
   ]
  },
  {
   "cell_type": "markdown",
   "metadata": {
    "id": "7LhXeJwI2MCk"
   },
   "source": [
    "<a name='x.1.3'></a>\n",
    "\n",
    "### 6.1.3 Overfitting a Decision Tree\n",
    "\n",
    "[back to top](#top)\n",
    "\n",
    "Let's increase the max_depth"
   ]
  },
  {
   "cell_type": "code",
   "execution_count": 30,
   "metadata": {
    "colab": {
     "base_uri": "https://localhost:8080/",
     "height": 285
    },
    "id": "F4rt61Q92kko",
    "outputId": "04ce27d7-dee8-448c-e9d9-2d8992feb34a"
   },
   "outputs": [
    {
     "data": {
      "text/plain": [
       "<module 'matplotlib.pyplot' from '/home/wbeckner/anaconda3/envs/py39/lib/python3.9/site-packages/matplotlib/pyplot.py'>"
      ]
     },
     "execution_count": 30,
     "metadata": {},
     "output_type": "execute_result"
    },
    {
     "data": {
      "image/png": "[encoded data removed]",
      "text/plain": [
       "<Figure size 432x288 with 1 Axes>"
      ]
     },
     "metadata": {},
     "output_type": "display_data"
    }
   ],
   "source": [
    "clf = tree.DecisionTreeClassifier(max_depth=5, random_state=42)\n",
    "clf = clf.fit(X, y)\n",
    "plot_tree(X, clf)"
   ]
  },
  {
   "cell_type": "markdown",
   "metadata": {
    "id": "5ovr-azV3JHE"
   },
   "source": [
    "What we notice is that while the model accurately predicts the training data, we see some spurious labels, noteably the trailing purple bar that extends into the otherwise green region of the data. \n",
    "\n",
    "This is a well known fact about decision trees, that they tend to overfit their training data. In fact, this is a major motivation for why decision trees, a weak classifier, are conveniently packaged into ensembles.\n",
    "\n",
    "We combine the idea of bootstrapping, with decision trees, to come up with an overall better classifier."
   ]
  },
  {
   "cell_type": "markdown",
   "metadata": {
    "id": "xv5FmmZPo_Z3"
   },
   "source": [
    "#### 🏋️ Exercise 1: Minimize Overfitting\n",
    "\n",
    "Repeat 6.1.3 with different max_depth settings, also read the docstring and play with any other hyperparameters available to you. What settings do you feel minimize overfitting? The documentation for [DecisionTreeClassifier](https://scikit-learn.org/stable/modules/generated/sklearn.tree.DecisionTreeClassifier.html) may be helpful"
   ]
  },
  {
   "cell_type": "code",
   "execution_count": 48,
   "metadata": {
    "id": "fmyxMJKSpguy"
   },
   "outputs": [
    {
     "data": {
      "text/plain": [
       "<module 'matplotlib.pyplot' from '/home/wbeckner/anaconda3/envs/py39/lib/python3.9/site-packages/matplotlib/pyplot.py'>"
      ]
     },
     "execution_count": 48,
     "metadata": {},
     "output_type": "execute_result"
    },
    {
     "data": {
      "image/png": "[encoded data removed]",
      "text/plain": [
       "<Figure size 432x288 with 1 Axes>"
      ]
     },
     "metadata": {},
     "output_type": "display_data"
    }
   ],
   "source": [
    "# Code Cell for 1\n",
    "\n",
    "################################################################################\n",
    "##### CHANGE THE HYPERPARAMETERS IN THE CALL TO DECISIONTREECLASSIFIER #########\n",
    "################################################################################\n",
    "\n",
    "clf = tree.DecisionTreeClassifier(random_state=42,\n",
    "                                    max_depth=None,\n",
    "                                    min_samples_split=3,\n",
    "                                    min_samples_leaf=1,\n",
    "                                    min_weight_fraction_leaf=0.0,\n",
    "                                    max_features=None,\n",
    "                                    max_leaf_nodes=None,\n",
    "                                    min_impurity_decrease=0.1,\n",
    "                                    class_weight=None,\n",
    "                                    ccp_alpha=0.0,)\n",
    "clf = clf.fit(X, y)\n",
    "plot_tree(X, clf)"
   ]
  },
  {
   "cell_type": "markdown",
   "metadata": {
    "id": "wlj85iTSIwji"
   },
   "source": [
    "<a name='x.2'></a>\n",
    "\n",
    "## 6.2 Random Forests and Bagging\n",
    "\n",
    "[back to top](#top)"
   ]
  },
  {
   "cell_type": "markdown",
   "metadata": {
    "id": "rIgel6vqpM5U"
   },
   "source": [
    "<a name='x.2.1'></a>\n",
    "\n",
    "### 6.2.1 What is Bagging?\n",
    "\n",
    "[back to top](#top)\n",
    "\n",
    "**_Bagging_**, or Bootstrap AGGregation is the process of creating subsets of your data and training separate models on them, and using the aggregate votes of the models to make a final prediction.\n",
    "\n",
    "**_Bootstrapping_** is a topic in and of itself that we will just touch on here. Without going through the statistical rigor of proof, bootstrapping, or sampling from your observations with replacement, simulates having drawn additional data from the true population. We use this method to create many new datasets that are then used to *train separate learners* in parallel. This overall approach is called **_Bagging_**.\n",
    "\n",
    "<p align=center>\n",
    "<img src=\"https://upload.wikimedia.org/wikipedia/commons/thumb/c/c8/Ensemble_Bagging.svg/440px-Ensemble_Bagging.svg.png\"></img>\n",
    "</p>\n",
    "\n",
    "A **_Random Forest_** is an instance of bagging where the separate learners are decision trees. "
   ]
  },
  {
   "cell_type": "markdown",
   "metadata": {
    "id": "zJRcYKT9I9Zc"
   },
   "source": [
    "<a name='x.2.2'></a>\n",
    "\n",
    "### 6.2.2 Random Forests for Classification\n",
    "\n",
    "[back to top](#top)"
   ]
  },
  {
   "cell_type": "code",
   "execution_count": 49,
   "metadata": {
    "colab": {
     "base_uri": "https://localhost:8080/",
     "height": 285
    },
    "id": "tUJllr-K8YDM",
    "outputId": "68b2fdb1-3763-4036-94ff-3f187edcb049"
   },
   "outputs": [
    {
     "data": {
      "text/plain": [
       "<module 'matplotlib.pyplot' from '/home/wbeckner/anaconda3/envs/py39/lib/python3.9/site-packages/matplotlib/pyplot.py'>"
      ]
     },
     "execution_count": 49,
     "metadata": {},
     "output_type": "execute_result"
    },
    {
     "data": {
      "image/png": "[encoded data removed]",
      "text/plain": [
       "<Figure size 432x288 with 1 Axes>"
      ]
     },
     "metadata": {},
     "output_type": "display_data"
    }
   ],
   "source": [
    "from sklearn.tree import DecisionTreeClassifier\n",
    "from sklearn.ensemble import BaggingClassifier\n",
    "\n",
    "tree = DecisionTreeClassifier()\n",
    "bag = BaggingClassifier(tree, n_estimators=10, max_samples=0.8,\n",
    "                        random_state=1)\n",
    "\n",
    "bag.fit(X, y)\n",
    "plot_tree(X, bag)"
   ]
  },
  {
   "cell_type": "markdown",
   "metadata": {
    "id": "c1IvKx1b88yL"
   },
   "source": [
    "In the above, we have bootstrapped by providing each individual tree with 80% of the population data. In practice, Random Forests can achieve even better results by randomizing how the individual classifiers are constructed. In fact there are many unique methods of training individual trees and you can learn more about them [here](https://scikit-learn.org/stable/modules/ensemble.html#forest). This randomness is done automatically in sklearn's `RandomForestClassifier`"
   ]
  },
  {
   "cell_type": "code",
   "execution_count": 50,
   "metadata": {
    "id": "xpBvvWAy9555"
   },
   "outputs": [],
   "source": [
    "from sklearn.ensemble import RandomForestClassifier\n",
    "clf = RandomForestClassifier(n_estimators=10, random_state=2)\n",
    "clf = clf.fit(X, y)"
   ]
  },
  {
   "cell_type": "code",
   "execution_count": 51,
   "metadata": {
    "colab": {
     "base_uri": "https://localhost:8080/",
     "height": 285
    },
    "id": "VbBJVla_9_4b",
    "outputId": "f65fccfd-dd63-471f-8f01-161d94b464cf"
   },
   "outputs": [
    {
     "data": {
      "text/plain": [
       "<module 'matplotlib.pyplot' from '/home/wbeckner/anaconda3/envs/py39/lib/python3.9/site-packages/matplotlib/pyplot.py'>"
      ]
     },
     "execution_count": 51,
     "metadata": {},
     "output_type": "execute_result"
    },
    {
     "data": {
      "image/png": "[encoded data removed]",
      "text/plain": [
       "<Figure size 432x288 with 1 Axes>"
      ]
     },
     "metadata": {},
     "output_type": "display_data"
    }
   ],
   "source": [
    "plot_tree(X, clf)"
   ]
  },
  {
   "cell_type": "markdown",
   "metadata": {
    "id": "NX9lIXZ5A-Pr"
   },
   "source": [
    "<a name='x.2.2.1'></a>\n",
    "\n",
    "#### 6.2.2.1 Interpreting a Random Forest\n",
    "\n",
    "[back to top](#top)\n",
    "\n",
    "Let's revisit our truffle dataset again, this time with random forests"
   ]
  },
  {
   "cell_type": "code",
   "execution_count": 119,
   "metadata": {
    "id": "sAdkwdM_-Y9y"
   },
   "outputs": [],
   "source": [
    "# fit the model\n",
    "clf = RandomForestClassifier(n_estimators=100,\n",
    "                             min_samples_leaf=6)\n",
    "clf = clf.fit(X_truf, y_truf_class)"
   ]
  },
  {
   "cell_type": "markdown",
   "metadata": {
    "id": "XTkYWx7Brho1"
   },
   "source": [
    "We get a fairly high accuracy when our `min_samples_leaf` is low and an accuracy that leaves room for improvement when `min_samples_leaf` is high. This indicates to us the model may be prown to overfitting if we are not careful:"
   ]
  },
  {
   "cell_type": "code",
   "execution_count": 120,
   "metadata": {
    "colab": {
     "base_uri": "https://localhost:8080/"
    },
    "id": "1mFrN0z2Ads-",
    "outputId": "e7ad13f5-2c56-421c-a709-7a51a6821aa0"
   },
   "outputs": [
    {
     "data": {
      "text/plain": [
       "0.6133093525179856"
      ]
     },
     "execution_count": 120,
     "metadata": {},
     "output_type": "execute_result"
    }
   ],
   "source": [
    "accuracy_score(clf.predict(X_truf), y_truf_class)"
   ]
  },
  {
   "cell_type": "markdown",
   "metadata": {
    "id": "gF4hDgcCs8-r"
   },
   "source": [
    "We can grab the original feature names with `get_feature_names_out()`:"
   ]
  },
  {
   "cell_type": "code",
   "execution_count": 121,
   "metadata": {},
   "outputs": [],
   "source": [
    "feats = enc.get_feature_names_out()"
   ]
  },
  {
   "cell_type": "markdown",
   "metadata": {
    "id": "DAV5nPlntCHE"
   },
   "source": [
    "The feature importances are stored in `clf.feature_importances_`. These are calculated from the **_Mean Decrease in Impurity_** or MDI also called the **_Gini Importance_**. It is the sum of the number of nodes across all trees that include the feature, weighted by the number of samples passing through the node. \n",
    "\n",
    "One downside of estimating feature importance in this way is that it doesn't play well with highly cardinal features _(features with many unique values such as mailing addresses, are highly cardinal features)_\n",
    "\n"
   ]
  },
  {
   "cell_type": "code",
   "execution_count": 122,
   "metadata": {},
   "outputs": [
    {
     "data": {
      "text/plain": [
       "118"
      ]
     },
     "execution_count": 122,
     "metadata": {},
     "output_type": "execute_result"
    }
   ],
   "source": [
    "len(feats)"
   ]
  },
  {
   "cell_type": "code",
   "execution_count": 123,
   "metadata": {
    "id": "Rz9jG4dvrqt4"
   },
   "outputs": [
    {
     "data": {
      "text/html": [
       "<div>\n",
       "<style scoped>\n",
       "    .dataframe tbody tr th:only-of-type {\n",
       "        vertical-align: middle;\n",
       "    }\n",
       "\n",
       "    .dataframe tbody tr th {\n",
       "        vertical-align: top;\n",
       "    }\n",
       "\n",
       "    .dataframe thead th {\n",
       "        text-align: right;\n",
       "    }\n",
       "</style>\n",
       "<table border=\"1\" class=\"dataframe\">\n",
       "  <thead>\n",
       "    <tr style=\"text-align: right;\">\n",
       "      <th></th>\n",
       "      <th>feature</th>\n",
       "      <th>importance</th>\n",
       "      <th>std</th>\n",
       "    </tr>\n",
       "  </thead>\n",
       "  <tbody>\n",
       "    <tr>\n",
       "      <th>0</th>\n",
       "      <td>Base Cake_Sponge</td>\n",
       "      <td>0.098864</td>\n",
       "      <td>0.090298</td>\n",
       "    </tr>\n",
       "    <tr>\n",
       "      <th>2</th>\n",
       "      <td>Base Cake_Chiffon</td>\n",
       "      <td>0.058403</td>\n",
       "      <td>0.049159</td>\n",
       "    </tr>\n",
       "    <tr>\n",
       "      <th>3</th>\n",
       "      <td>Base Cake_Butter</td>\n",
       "      <td>0.049615</td>\n",
       "      <td>0.046537</td>\n",
       "    </tr>\n",
       "    <tr>\n",
       "      <th>4</th>\n",
       "      <td>Base Cake_Pound</td>\n",
       "      <td>0.047093</td>\n",
       "      <td>0.043291</td>\n",
       "    </tr>\n",
       "    <tr>\n",
       "      <th>5</th>\n",
       "      <td>Primary Flavor_Butter Toffee</td>\n",
       "      <td>0.03565</td>\n",
       "      <td>0.038741</td>\n",
       "    </tr>\n",
       "  </tbody>\n",
       "</table>\n",
       "</div>"
      ],
      "text/plain": [
       "                        feature importance       std\n",
       "0              Base Cake_Sponge   0.098864  0.090298\n",
       "2             Base Cake_Chiffon   0.058403  0.049159\n",
       "3              Base Cake_Butter   0.049615  0.046537\n",
       "4               Base Cake_Pound   0.047093  0.043291\n",
       "5  Primary Flavor_Butter Toffee    0.03565  0.038741"
      ]
     },
     "execution_count": 123,
     "metadata": {},
     "output_type": "execute_result"
    }
   ],
   "source": [
    "# grab feature importances\n",
    "imp = clf.feature_importances_\n",
    "\n",
    "# their std\n",
    "std = np.std([tree.feature_importances_ for tree in clf.estimators_], axis=0)\n",
    "\n",
    "# create new dataframe\n",
    "feat = pd.DataFrame([feats, imp, std]).T\n",
    "feat.columns = ['feature', 'importance', 'std']\n",
    "feat = feat.sort_values('importance', ascending=False)\n",
    "feat = feat.reset_index(drop=True)\n",
    "feat.dropna(inplace=True)\n",
    "feat.head()"
   ]
  },
  {
   "cell_type": "markdown",
   "metadata": {
    "id": "Mmz7RyB4vf6W"
   },
   "source": [
    "I'm going to use `plotly` to create this chart:"
   ]
  },
  {
   "cell_type": "code",
   "execution_count": 124,
   "metadata": {
    "colab": {
     "base_uri": "https://localhost:8080/",
     "height": 542
    },
    "id": "nyZiTqMcB8K1",
    "outputId": "b517c0a3-0e95-42c2-d49a-81cfdf374fa8"
   },
   "outputs": [
    {
     "data": {
      "application/vnd.plotly.v1+json": {
       "config": {
        "plotlyServerURL": "https://plot.ly"
       },
       "data": [
        {
         "alignmentgroup": "True",
         "error_y": {
          "array": [
           0.09029809907413336,
           0.0491594926001353,
           0.04653692392065348,
           0.04329103819043059,
           0.03874140277043045,
           0.0349780684180197,
           0.030094493632483902,
           0.03311853070594179,
           0.03369534638488077,
           0.023175605457143568,
           0.02003645368097637,
           0.02649675589259294,
           0.011595438604605596,
           0.02247515253748258,
           0.01375825943123077,
           0.019922394040156593,
           0.011655486749852109,
           0.01266580704339592,
           0.015074673768077048,
           0.015049527462185765
          ]
         },
         "hovertemplate": "feature=%{x}<br>importance=%{y}<extra></extra>",
         "legendgroup": "",
         "marker": {
          "color": "#636efa",
          "pattern": {
           "shape": ""
          }
         },
         "name": "",
         "offsetgroup": "",
         "orientation": "v",
         "showlegend": false,
         "textposition": "auto",
         "type": "bar",
         "x": [
          "Base Cake_Sponge",
          "Base Cake_Chiffon",
          "Base Cake_Butter",
          "Base Cake_Pound",
          "Primary Flavor_Butter Toffee",
          "Base Cake_Cheese",
          "Primary Flavor_Doughnut",
          "Secondary Flavor_Egg Nog",
          "Color Group_Olive",
          "Truffle Type_Candy Outer",
          "Color Group_White",
          "Secondary Flavor_Black Cherry",
          "Customer_Zebrabar",
          "Base Cake_Tiramisu",
          "Customer_Slugworth",
          "Truffle Type_Chocolate Outer",
          "Customer_Perk-a-Cola",
          "Customer_Dandy's Candies",
          "Color Group_Opal",
          "Secondary Flavor_Apricot"
         ],
         "xaxis": "x",
         "y": [
          0.0988642579163017,
          0.0584025133239696,
          0.049615450872702874,
          0.04709340666985859,
          0.03565014121102607,
          0.02844217305880782,
          0.027599939763576282,
          0.02585556386092948,
          0.02204011487187889,
          0.020269190892063724,
          0.019095262999859298,
          0.018956174795772437,
          0.016652674359145594,
          0.016599891454384605,
          0.0163798681859097,
          0.014287195738793366,
          0.013875453357030356,
          0.013555160346052895,
          0.013433004919153784,
          0.012081891079920398
         ],
         "yaxis": "y"
        }
       ],
       "layout": {
        "autosize": true,
        "barmode": "relative",
        "legend": {
         "tracegroupgap": 0
        },
        "template": {
         "data": {
          "bar": [
           {
            "error_x": {
             "color": "#2a3f5f"
            },
            "error_y": {
             "color": "#2a3f5f"
            },
            "marker": {
             "line": {
              "color": "#E5ECF6",
              "width": 0.5
             },
             "pattern": {
              "fillmode": "overlay",
              "size": 10,
              "solidity": 0.2
             }
            },
            "type": "bar"
           }
          ],
          "barpolar": [
           {
            "marker": {
             "line": {
              "color": "#E5ECF6",
              "width": 0.5
             },
             "pattern": {
              "fillmode": "overlay",
              "size": 10,
              "solidity": 0.2
             }
            },
            "type": "barpolar"
           }
          ],
          "carpet": [
           {
            "aaxis": {
             "endlinecolor": "#2a3f5f",
             "gridcolor": "white",
             "linecolor": "white",
             "minorgridcolor": "white",
             "startlinecolor": "#2a3f5f"
            },
            "baxis": {
             "endlinecolor": "#2a3f5f",
             "gridcolor": "white",
             "linecolor": "white",
             "minorgridcolor": "white",
             "startlinecolor": "#2a3f5f"
            },
            "type": "carpet"
           }
          ],
          "choropleth": [
           {
            "colorbar": {
             "outlinewidth": 0,
             "ticks": ""
            },
            "type": "choropleth"
           }
          ],
          "contour": [
           {
            "colorbar": {
             "outlinewidth": 0,
             "ticks": ""
            },
            "colorscale": [
             [
              0,
              "#0d0887"
             ],
             [
              0.1111111111111111,
              "#46039f"
             ],
             [
              0.2222222222222222,
              "#7201a8"
             ],
             [
              0.3333333333333333,
              "#9c179e"
             ],
             [
              0.4444444444444444,
              "#bd3786"
             ],
             [
              0.5555555555555556,
              "#d8576b"
             ],
             [
              0.6666666666666666,
              "#ed7953"
             ],
             [
              0.7777777777777778,
              "#fb9f3a"
             ],
             [
              0.8888888888888888,
              "#fdca26"
             ],
             [
              1,
              "#f0f921"
             ]
            ],
            "type": "contour"
           }
          ],
          "contourcarpet": [
           {
            "colorbar": {
             "outlinewidth": 0,
             "ticks": ""
            },
            "type": "contourcarpet"
           }
          ],
          "heatmap": [
           {
            "colorbar": {
             "outlinewidth": 0,
             "ticks": ""
            },
            "colorscale": [
             [
              0,
              "#0d0887"
             ],
             [
              0.1111111111111111,
              "#46039f"
             ],
             [
              0.2222222222222222,
              "#7201a8"
             ],
             [
              0.3333333333333333,
              "#9c179e"
             ],
             [
              0.4444444444444444,
              "#bd3786"
             ],
             [
              0.5555555555555556,
              "#d8576b"
             ],
             [
              0.6666666666666666,
              "#ed7953"
             ],
             [
              0.7777777777777778,
              "#fb9f3a"
             ],
             [
              0.8888888888888888,
              "#fdca26"
             ],
             [
              1,
              "#f0f921"
             ]
            ],
            "type": "heatmap"
           }
          ],
          "heatmapgl": [
           {
            "colorbar": {
             "outlinewidth": 0,
             "ticks": ""
            },
            "colorscale": [
             [
              0,
              "#0d0887"
             ],
             [
              0.1111111111111111,
              "#46039f"
             ],
             [
              0.2222222222222222,
              "#7201a8"
             ],
             [
              0.3333333333333333,
              "#9c179e"
             ],
             [
              0.4444444444444444,
              "#bd3786"
             ],
             [
              0.5555555555555556,
              "#d8576b"
             ],
             [
              0.6666666666666666,
              "#ed7953"
             ],
             [
              0.7777777777777778,
              "#fb9f3a"
             ],
             [
              0.8888888888888888,
              "#fdca26"
             ],
             [
              1,
              "#f0f921"
             ]
            ],
            "type": "heatmapgl"
           }
          ],
          "histogram": [
           {
            "marker": {
             "pattern": {
              "fillmode": "overlay",
              "size": 10,
              "solidity": 0.2
             }
            },
            "type": "histogram"
           }
          ],
          "histogram2d": [
           {
            "colorbar": {
             "outlinewidth": 0,
             "ticks": ""
            },
            "colorscale": [
             [
              0,
              "#0d0887"
             ],
             [
              0.1111111111111111,
              "#46039f"
             ],
             [
              0.2222222222222222,
              "#7201a8"
             ],
             [
              0.3333333333333333,
              "#9c179e"
             ],
             [
              0.4444444444444444,
              "#bd3786"
             ],
             [
              0.5555555555555556,
              "#d8576b"
             ],
             [
              0.6666666666666666,
              "#ed7953"
             ],
             [
              0.7777777777777778,
              "#fb9f3a"
             ],
             [
              0.8888888888888888,
              "#fdca26"
             ],
             [
              1,
              "#f0f921"
             ]
            ],
            "type": "histogram2d"
           }
          ],
          "histogram2dcontour": [
           {
            "colorbar": {
             "outlinewidth": 0,
             "ticks": ""
            },
            "colorscale": [
             [
              0,
              "#0d0887"
             ],
             [
              0.1111111111111111,
              "#46039f"
             ],
             [
              0.2222222222222222,
              "#7201a8"
             ],
             [
              0.3333333333333333,
              "#9c179e"
             ],
             [
              0.4444444444444444,
              "#bd3786"
             ],
             [
              0.5555555555555556,
              "#d8576b"
             ],
             [
              0.6666666666666666,
              "#ed7953"
             ],
             [
              0.7777777777777778,
              "#fb9f3a"
             ],
             [
              0.8888888888888888,
              "#fdca26"
             ],
             [
              1,
              "#f0f921"
             ]
            ],
            "type": "histogram2dcontour"
           }
          ],
          "mesh3d": [
           {
            "colorbar": {
             "outlinewidth": 0,
             "ticks": ""
            },
            "type": "mesh3d"
           }
          ],
          "parcoords": [
           {
            "line": {
             "colorbar": {
              "outlinewidth": 0,
              "ticks": ""
             }
            },
            "type": "parcoords"
           }
          ],
          "pie": [
           {
            "automargin": true,
            "type": "pie"
           }
          ],
          "scatter": [
           {
            "marker": {
             "colorbar": {
              "outlinewidth": 0,
              "ticks": ""
             }
            },
            "type": "scatter"
           }
          ],
          "scatter3d": [
           {
            "line": {
             "colorbar": {
              "outlinewidth": 0,
              "ticks": ""
             }
            },
            "marker": {
             "colorbar": {
              "outlinewidth": 0,
              "ticks": ""
             }
            },
            "type": "scatter3d"
           }
          ],
          "scattercarpet": [
           {
            "marker": {
             "colorbar": {
              "outlinewidth": 0,
              "ticks": ""
             }
            },
            "type": "scattercarpet"
           }
          ],
          "scattergeo": [
           {
            "marker": {
             "colorbar": {
              "outlinewidth": 0,
              "ticks": ""
             }
            },
            "type": "scattergeo"
           }
          ],
          "scattergl": [
           {
            "marker": {
             "colorbar": {
              "outlinewidth": 0,
              "ticks": ""
             }
            },
            "type": "scattergl"
           }
          ],
          "scattermapbox": [
           {
            "marker": {
             "colorbar": {
              "outlinewidth": 0,
              "ticks": ""
             }
            },
            "type": "scattermapbox"
           }
          ],
          "scatterpolar": [
           {
            "marker": {
             "colorbar": {
              "outlinewidth": 0,
              "ticks": ""
             }
            },
            "type": "scatterpolar"
           }
          ],
          "scatterpolargl": [
           {
            "marker": {
             "colorbar": {
              "outlinewidth": 0,
              "ticks": ""
             }
            },
            "type": "scatterpolargl"
           }
          ],
          "scatterternary": [
           {
            "marker": {
             "colorbar": {
              "outlinewidth": 0,
              "ticks": ""
             }
            },
            "type": "scatterternary"
           }
          ],
          "surface": [
           {
            "colorbar": {
             "outlinewidth": 0,
             "ticks": ""
            },
            "colorscale": [
             [
              0,
              "#0d0887"
             ],
             [
              0.1111111111111111,
              "#46039f"
             ],
             [
              0.2222222222222222,
              "#7201a8"
             ],
             [
              0.3333333333333333,
              "#9c179e"
             ],
             [
              0.4444444444444444,
              "#bd3786"
             ],
             [
              0.5555555555555556,
              "#d8576b"
             ],
             [
              0.6666666666666666,
              "#ed7953"
             ],
             [
              0.7777777777777778,
              "#fb9f3a"
             ],
             [
              0.8888888888888888,
              "#fdca26"
             ],
             [
              1,
              "#f0f921"
             ]
            ],
            "type": "surface"
           }
          ],
          "table": [
           {
            "cells": {
             "fill": {
              "color": "#EBF0F8"
             },
             "line": {
              "color": "white"
             }
            },
            "header": {
             "fill": {
              "color": "#C8D4E3"
             },
             "line": {
              "color": "white"
             }
            },
            "type": "table"
           }
          ]
         },
         "layout": {
          "annotationdefaults": {
           "arrowcolor": "#2a3f5f",
           "arrowhead": 0,
           "arrowwidth": 1
          },
          "autotypenumbers": "strict",
          "coloraxis": {
           "colorbar": {
            "outlinewidth": 0,
            "ticks": ""
           }
          },
          "colorscale": {
           "diverging": [
            [
             0,
             "#8e0152"
            ],
            [
             0.1,
             "#c51b7d"
            ],
            [
             0.2,
             "#de77ae"
            ],
            [
             0.3,
             "#f1b6da"
            ],
            [
             0.4,
             "#fde0ef"
            ],
            [
             0.5,
             "#f7f7f7"
            ],
            [
             0.6,
             "#e6f5d0"
            ],
            [
             0.7,
             "#b8e186"
            ],
            [
             0.8,
             "#7fbc41"
            ],
            [
             0.9,
             "#4d9221"
            ],
            [
             1,
             "#276419"
            ]
           ],
           "sequential": [
            [
             0,
             "#0d0887"
            ],
            [
             0.1111111111111111,
             "#46039f"
            ],
            [
             0.2222222222222222,
             "#7201a8"
            ],
            [
             0.3333333333333333,
             "#9c179e"
            ],
            [
             0.4444444444444444,
             "#bd3786"
            ],
            [
             0.5555555555555556,
             "#d8576b"
            ],
            [
             0.6666666666666666,
             "#ed7953"
            ],
            [
             0.7777777777777778,
             "#fb9f3a"
            ],
            [
             0.8888888888888888,
             "#fdca26"
            ],
            [
             1,
             "#f0f921"
            ]
           ],
           "sequentialminus": [
            [
             0,
             "#0d0887"
            ],
            [
             0.1111111111111111,
             "#46039f"
            ],
            [
             0.2222222222222222,
             "#7201a8"
            ],
            [
             0.3333333333333333,
             "#9c179e"
            ],
            [
             0.4444444444444444,
             "#bd3786"
            ],
            [
             0.5555555555555556,
             "#d8576b"
            ],
            [
             0.6666666666666666,
             "#ed7953"
            ],
            [
             0.7777777777777778,
             "#fb9f3a"
            ],
            [
             0.8888888888888888,
             "#fdca26"
            ],
            [
             1,
             "#f0f921"
            ]
           ]
          },
          "colorway": [
           "#636efa",
           "#EF553B",
           "#00cc96",
           "#ab63fa",
           "#FFA15A",
           "#19d3f3",
           "#FF6692",
           "#B6E880",
           "#FF97FF",
           "#FECB52"
          ],
          "font": {
           "color": "#2a3f5f"
          },
          "geo": {
           "bgcolor": "white",
           "lakecolor": "white",
           "landcolor": "#E5ECF6",
           "showlakes": true,
           "showland": true,
           "subunitcolor": "white"
          },
          "hoverlabel": {
           "align": "left"
          },
          "hovermode": "closest",
          "mapbox": {
           "style": "light"
          },
          "paper_bgcolor": "white",
          "plot_bgcolor": "#E5ECF6",
          "polar": {
           "angularaxis": {
            "gridcolor": "white",
            "linecolor": "white",
            "ticks": ""
           },
           "bgcolor": "#E5ECF6",
           "radialaxis": {
            "gridcolor": "white",
            "linecolor": "white",
            "ticks": ""
           }
          },
          "scene": {
           "xaxis": {
            "backgroundcolor": "#E5ECF6",
            "gridcolor": "white",
            "gridwidth": 2,
            "linecolor": "white",
            "showbackground": true,
            "ticks": "",
            "zerolinecolor": "white"
           },
           "yaxis": {
            "backgroundcolor": "#E5ECF6",
            "gridcolor": "white",
            "gridwidth": 2,
            "linecolor": "white",
            "showbackground": true,
            "ticks": "",
            "zerolinecolor": "white"
           },
           "zaxis": {
            "backgroundcolor": "#E5ECF6",
            "gridcolor": "white",
            "gridwidth": 2,
            "linecolor": "white",
            "showbackground": true,
            "ticks": "",
            "zerolinecolor": "white"
           }
          },
          "shapedefaults": {
           "line": {
            "color": "#2a3f5f"
           }
          },
          "ternary": {
           "aaxis": {
            "gridcolor": "white",
            "linecolor": "white",
            "ticks": ""
           },
           "baxis": {
            "gridcolor": "white",
            "linecolor": "white",
            "ticks": ""
           },
           "bgcolor": "#E5ECF6",
           "caxis": {
            "gridcolor": "white",
            "linecolor": "white",
            "ticks": ""
           }
          },
          "title": {
           "x": 0.05
          },
          "xaxis": {
           "automargin": true,
           "gridcolor": "white",
           "linecolor": "white",
           "ticks": "",
           "title": {
            "standoff": 15
           },
           "zerolinecolor": "white",
           "zerolinewidth": 2
          },
          "yaxis": {
           "automargin": true,
           "gridcolor": "white",
           "linecolor": "white",
           "ticks": "",
           "title": {
            "standoff": 15
           },
           "zerolinecolor": "white",
           "zerolinewidth": 2
          }
         }
        },
        "title": {
         "text": "Feature Importance"
        },
        "xaxis": {
         "anchor": "y",
         "autorange": true,
         "domain": [
          0,
          1
         ],
         "range": [
          -0.5,
          19.5
         ],
         "title": {
          "text": "feature"
         },
         "type": "category"
        },
        "yaxis": {
         "anchor": "x",
         "autorange": true,
         "domain": [
          0,
          1
         ],
         "range": [
          -0.02281176420763726,
          0.20031888968507042
         ],
         "title": {
          "text": "importance"
         },
         "type": "linear"
        }
       }
      },
      "image/png": "[encoded data removed]",
      "text/html": [
       "<div>                            <div id=\"2b50d292-b065-42c3-9980-738d478ac8b2\" class=\"plotly-graph-div\" style=\"height:525px; width:100%;\"></div>            <script type=\"text/javascript\">                require([\"plotly\"], function(Plotly) {                    window.PLOTLYENV=window.PLOTLYENV || {};                                    if (document.getElementById(\"2b50d292-b065-42c3-9980-738d478ac8b2\")) {                    Plotly.newPlot(                        \"2b50d292-b065-42c3-9980-738d478ac8b2\",                        [{\"alignmentgroup\":\"True\",\"error_y\":{\"array\":[0.09029809907413336,0.0491594926001353,0.04653692392065348,0.04329103819043059,0.03874140277043045,0.0349780684180197,0.030094493632483902,0.03311853070594179,0.03369534638488077,0.023175605457143568,0.02003645368097637,0.02649675589259294,0.011595438604605596,0.02247515253748258,0.01375825943123077,0.019922394040156593,0.011655486749852109,0.01266580704339592,0.015074673768077048,0.015049527462185765]},\"hovertemplate\":\"feature=%{x}<br>importance=%{y}<extra></extra>\",\"legendgroup\":\"\",\"marker\":{\"color\":\"#636efa\",\"pattern\":{\"shape\":\"\"}},\"name\":\"\",\"offsetgroup\":\"\",\"orientation\":\"v\",\"showlegend\":false,\"textposition\":\"auto\",\"x\":[\"Base Cake_Sponge\",\"Base Cake_Chiffon\",\"Base Cake_Butter\",\"Base Cake_Pound\",\"Primary Flavor_Butter Toffee\",\"Base Cake_Cheese\",\"Primary Flavor_Doughnut\",\"Secondary Flavor_Egg Nog\",\"Color Group_Olive\",\"Truffle Type_Candy Outer\",\"Color Group_White\",\"Secondary Flavor_Black Cherry\",\"Customer_Zebrabar\",\"Base Cake_Tiramisu\",\"Customer_Slugworth\",\"Truffle Type_Chocolate Outer\",\"Customer_Perk-a-Cola\",\"Customer_Dandy's Candies\",\"Color Group_Opal\",\"Secondary Flavor_Apricot\"],\"xaxis\":\"x\",\"y\":[0.0988642579163017,0.0584025133239696,0.049615450872702874,0.04709340666985859,0.03565014121102607,0.02844217305880782,0.027599939763576282,0.02585556386092948,0.02204011487187889,0.020269190892063724,0.019095262999859298,0.018956174795772437,0.016652674359145594,0.016599891454384605,0.0163798681859097,0.014287195738793366,0.013875453357030356,0.013555160346052895,0.013433004919153784,0.012081891079920398],\"yaxis\":\"y\",\"type\":\"bar\"}],                        {\"template\":{\"data\":{\"bar\":[{\"error_x\":{\"color\":\"#2a3f5f\"},\"error_y\":{\"color\":\"#2a3f5f\"},\"marker\":{\"line\":{\"color\":\"#E5ECF6\",\"width\":0.5},\"pattern\":{\"fillmode\":\"overlay\",\"size\":10,\"solidity\":0.2}},\"type\":\"bar\"}],\"barpolar\":[{\"marker\":{\"line\":{\"color\":\"#E5ECF6\",\"width\":0.5},\"pattern\":{\"fillmode\":\"overlay\",\"size\":10,\"solidity\":0.2}},\"type\":\"barpolar\"}],\"carpet\":[{\"aaxis\":{\"endlinecolor\":\"#2a3f5f\",\"gridcolor\":\"white\",\"linecolor\":\"white\",\"minorgridcolor\":\"white\",\"startlinecolor\":\"#2a3f5f\"},\"baxis\":{\"endlinecolor\":\"#2a3f5f\",\"gridcolor\":\"white\",\"linecolor\":\"white\",\"minorgridcolor\":\"white\",\"startlinecolor\":\"#2a3f5f\"},\"type\":\"carpet\"}],\"choropleth\":[{\"colorbar\":{\"outlinewidth\":0,\"ticks\":\"\"},\"type\":\"choropleth\"}],\"contour\":[{\"colorbar\":{\"outlinewidth\":0,\"ticks\":\"\"},\"colorscale\":[[0.0,\"#0d0887\"],[0.1111111111111111,\"#46039f\"],[0.2222222222222222,\"#7201a8\"],[0.3333333333333333,\"#9c179e\"],[0.4444444444444444,\"#bd3786\"],[0.5555555555555556,\"#d8576b\"],[0.6666666666666666,\"#ed7953\"],[0.7777777777777778,\"#fb9f3a\"],[0.8888888888888888,\"#fdca26\"],[1.0,\"#f0f921\"]],\"type\":\"contour\"}],\"contourcarpet\":[{\"colorbar\":{\"outlinewidth\":0,\"ticks\":\"\"},\"type\":\"contourcarpet\"}],\"heatmap\":[{\"colorbar\":{\"outlinewidth\":0,\"ticks\":\"\"},\"colorscale\":[[0.0,\"#0d0887\"],[0.1111111111111111,\"#46039f\"],[0.2222222222222222,\"#7201a8\"],[0.3333333333333333,\"#9c179e\"],[0.4444444444444444,\"#bd3786\"],[0.5555555555555556,\"#d8576b\"],[0.6666666666666666,\"#ed7953\"],[0.7777777777777778,\"#fb9f3a\"],[0.8888888888888888,\"#fdca26\"],[1.0,\"#f0f921\"]],\"type\":\"heatmap\"}],\"heatmapgl\":[{\"colorbar\":{\"outlinewidth\":0,\"ticks\":\"\"},\"colorscale\":[[0.0,\"#0d0887\"],[0.1111111111111111,\"#46039f\"],[0.2222222222222222,\"#7201a8\"],[0.3333333333333333,\"#9c179e\"],[0.4444444444444444,\"#bd3786\"],[0.5555555555555556,\"#d8576b\"],[0.6666666666666666,\"#ed7953\"],[0.7777777777777778,\"#fb9f3a\"],[0.8888888888888888,\"#fdca26\"],[1.0,\"#f0f921\"]],\"type\":\"heatmapgl\"}],\"histogram\":[{\"marker\":{\"pattern\":{\"fillmode\":\"overlay\",\"size\":10,\"solidity\":0.2}},\"type\":\"histogram\"}],\"histogram2d\":[{\"colorbar\":{\"outlinewidth\":0,\"ticks\":\"\"},\"colorscale\":[[0.0,\"#0d0887\"],[0.1111111111111111,\"#46039f\"],[0.2222222222222222,\"#7201a8\"],[0.3333333333333333,\"#9c179e\"],[0.4444444444444444,\"#bd3786\"],[0.5555555555555556,\"#d8576b\"],[0.6666666666666666,\"#ed7953\"],[0.7777777777777778,\"#fb9f3a\"],[0.8888888888888888,\"#fdca26\"],[1.0,\"#f0f921\"]],\"type\":\"histogram2d\"}],\"histogram2dcontour\":[{\"colorbar\":{\"outlinewidth\":0,\"ticks\":\"\"},\"colorscale\":[[0.0,\"#0d0887\"],[0.1111111111111111,\"#46039f\"],[0.2222222222222222,\"#7201a8\"],[0.3333333333333333,\"#9c179e\"],[0.4444444444444444,\"#bd3786\"],[0.5555555555555556,\"#d8576b\"],[0.6666666666666666,\"#ed7953\"],[0.7777777777777778,\"#fb9f3a\"],[0.8888888888888888,\"#fdca26\"],[1.0,\"#f0f921\"]],\"type\":\"histogram2dcontour\"}],\"mesh3d\":[{\"colorbar\":{\"outlinewidth\":0,\"ticks\":\"\"},\"type\":\"mesh3d\"}],\"parcoords\":[{\"line\":{\"colorbar\":{\"outlinewidth\":0,\"ticks\":\"\"}},\"type\":\"parcoords\"}],\"pie\":[{\"automargin\":true,\"type\":\"pie\"}],\"scatter\":[{\"marker\":{\"colorbar\":{\"outlinewidth\":0,\"ticks\":\"\"}},\"type\":\"scatter\"}],\"scatter3d\":[{\"line\":{\"colorbar\":{\"outlinewidth\":0,\"ticks\":\"\"}},\"marker\":{\"colorbar\":{\"outlinewidth\":0,\"ticks\":\"\"}},\"type\":\"scatter3d\"}],\"scattercarpet\":[{\"marker\":{\"colorbar\":{\"outlinewidth\":0,\"ticks\":\"\"}},\"type\":\"scattercarpet\"}],\"scattergeo\":[{\"marker\":{\"colorbar\":{\"outlinewidth\":0,\"ticks\":\"\"}},\"type\":\"scattergeo\"}],\"scattergl\":[{\"marker\":{\"colorbar\":{\"outlinewidth\":0,\"ticks\":\"\"}},\"type\":\"scattergl\"}],\"scattermapbox\":[{\"marker\":{\"colorbar\":{\"outlinewidth\":0,\"ticks\":\"\"}},\"type\":\"scattermapbox\"}],\"scatterpolar\":[{\"marker\":{\"colorbar\":{\"outlinewidth\":0,\"ticks\":\"\"}},\"type\":\"scatterpolar\"}],\"scatterpolargl\":[{\"marker\":{\"colorbar\":{\"outlinewidth\":0,\"ticks\":\"\"}},\"type\":\"scatterpolargl\"}],\"scatterternary\":[{\"marker\":{\"colorbar\":{\"outlinewidth\":0,\"ticks\":\"\"}},\"type\":\"scatterternary\"}],\"surface\":[{\"colorbar\":{\"outlinewidth\":0,\"ticks\":\"\"},\"colorscale\":[[0.0,\"#0d0887\"],[0.1111111111111111,\"#46039f\"],[0.2222222222222222,\"#7201a8\"],[0.3333333333333333,\"#9c179e\"],[0.4444444444444444,\"#bd3786\"],[0.5555555555555556,\"#d8576b\"],[0.6666666666666666,\"#ed7953\"],[0.7777777777777778,\"#fb9f3a\"],[0.8888888888888888,\"#fdca26\"],[1.0,\"#f0f921\"]],\"type\":\"surface\"}],\"table\":[{\"cells\":{\"fill\":{\"color\":\"#EBF0F8\"},\"line\":{\"color\":\"white\"}},\"header\":{\"fill\":{\"color\":\"#C8D4E3\"},\"line\":{\"color\":\"white\"}},\"type\":\"table\"}]},\"layout\":{\"annotationdefaults\":{\"arrowcolor\":\"#2a3f5f\",\"arrowhead\":0,\"arrowwidth\":1},\"autotypenumbers\":\"strict\",\"coloraxis\":{\"colorbar\":{\"outlinewidth\":0,\"ticks\":\"\"}},\"colorscale\":{\"diverging\":[[0,\"#8e0152\"],[0.1,\"#c51b7d\"],[0.2,\"#de77ae\"],[0.3,\"#f1b6da\"],[0.4,\"#fde0ef\"],[0.5,\"#f7f7f7\"],[0.6,\"#e6f5d0\"],[0.7,\"#b8e186\"],[0.8,\"#7fbc41\"],[0.9,\"#4d9221\"],[1,\"#276419\"]],\"sequential\":[[0.0,\"#0d0887\"],[0.1111111111111111,\"#46039f\"],[0.2222222222222222,\"#7201a8\"],[0.3333333333333333,\"#9c179e\"],[0.4444444444444444,\"#bd3786\"],[0.5555555555555556,\"#d8576b\"],[0.6666666666666666,\"#ed7953\"],[0.7777777777777778,\"#fb9f3a\"],[0.8888888888888888,\"#fdca26\"],[1.0,\"#f0f921\"]],\"sequentialminus\":[[0.0,\"#0d0887\"],[0.1111111111111111,\"#46039f\"],[0.2222222222222222,\"#7201a8\"],[0.3333333333333333,\"#9c179e\"],[0.4444444444444444,\"#bd3786\"],[0.5555555555555556,\"#d8576b\"],[0.6666666666666666,\"#ed7953\"],[0.7777777777777778,\"#fb9f3a\"],[0.8888888888888888,\"#fdca26\"],[1.0,\"#f0f921\"]]},\"colorway\":[\"#636efa\",\"#EF553B\",\"#00cc96\",\"#ab63fa\",\"#FFA15A\",\"#19d3f3\",\"#FF6692\",\"#B6E880\",\"#FF97FF\",\"#FECB52\"],\"font\":{\"color\":\"#2a3f5f\"},\"geo\":{\"bgcolor\":\"white\",\"lakecolor\":\"white\",\"landcolor\":\"#E5ECF6\",\"showlakes\":true,\"showland\":true,\"subunitcolor\":\"white\"},\"hoverlabel\":{\"align\":\"left\"},\"hovermode\":\"closest\",\"mapbox\":{\"style\":\"light\"},\"paper_bgcolor\":\"white\",\"plot_bgcolor\":\"#E5ECF6\",\"polar\":{\"angularaxis\":{\"gridcolor\":\"white\",\"linecolor\":\"white\",\"ticks\":\"\"},\"bgcolor\":\"#E5ECF6\",\"radialaxis\":{\"gridcolor\":\"white\",\"linecolor\":\"white\",\"ticks\":\"\"}},\"scene\":{\"xaxis\":{\"backgroundcolor\":\"#E5ECF6\",\"gridcolor\":\"white\",\"gridwidth\":2,\"linecolor\":\"white\",\"showbackground\":true,\"ticks\":\"\",\"zerolinecolor\":\"white\"},\"yaxis\":{\"backgroundcolor\":\"#E5ECF6\",\"gridcolor\":\"white\",\"gridwidth\":2,\"linecolor\":\"white\",\"showbackground\":true,\"ticks\":\"\",\"zerolinecolor\":\"white\"},\"zaxis\":{\"backgroundcolor\":\"#E5ECF6\",\"gridcolor\":\"white\",\"gridwidth\":2,\"linecolor\":\"white\",\"showbackground\":true,\"ticks\":\"\",\"zerolinecolor\":\"white\"}},\"shapedefaults\":{\"line\":{\"color\":\"#2a3f5f\"}},\"ternary\":{\"aaxis\":{\"gridcolor\":\"white\",\"linecolor\":\"white\",\"ticks\":\"\"},\"baxis\":{\"gridcolor\":\"white\",\"linecolor\":\"white\",\"ticks\":\"\"},\"bgcolor\":\"#E5ECF6\",\"caxis\":{\"gridcolor\":\"white\",\"linecolor\":\"white\",\"ticks\":\"\"}},\"title\":{\"x\":0.05},\"xaxis\":{\"automargin\":true,\"gridcolor\":\"white\",\"linecolor\":\"white\",\"ticks\":\"\",\"title\":{\"standoff\":15},\"zerolinecolor\":\"white\",\"zerolinewidth\":2},\"yaxis\":{\"automargin\":true,\"gridcolor\":\"white\",\"linecolor\":\"white\",\"ticks\":\"\",\"title\":{\"standoff\":15},\"zerolinecolor\":\"white\",\"zerolinewidth\":2}}},\"xaxis\":{\"anchor\":\"y\",\"domain\":[0.0,1.0],\"title\":{\"text\":\"feature\"}},\"yaxis\":{\"anchor\":\"x\",\"domain\":[0.0,1.0],\"title\":{\"text\":\"importance\"}},\"legend\":{\"tracegroupgap\":0},\"title\":{\"text\":\"Feature Importance\"},\"barmode\":\"relative\"},                        {\"responsive\": true}                    ).then(function(){\n",
       "                            \n",
       "var gd = document.getElementById('2b50d292-b065-42c3-9980-738d478ac8b2');\n",
       "var x = new MutationObserver(function (mutations, observer) {{\n",
       "        var display = window.getComputedStyle(gd).display;\n",
       "        if (!display || display === 'none') {{\n",
       "            console.log([gd, 'removed!']);\n",
       "            Plotly.purge(gd);\n",
       "            observer.disconnect();\n",
       "        }}\n",
       "}});\n",
       "\n",
       "// Listen for the removal of the full notebook cells\n",
       "var notebookContainer = gd.closest('#notebook-container');\n",
       "if (notebookContainer) {{\n",
       "    x.observe(notebookContainer, {childList: true});\n",
       "}}\n",
       "\n",
       "// Listen for the clearing of the current output cell\n",
       "var outputEl = gd.closest('.output');\n",
       "if (outputEl) {{\n",
       "    x.observe(outputEl, {childList: true});\n",
       "}}\n",
       "\n",
       "                        })                };                });            </script>        </div>"
      ]
     },
     "metadata": {},
     "output_type": "display_data"
    }
   ],
   "source": [
    "px.bar(feat[:20], x='feature', y='importance', error_y='std', title='Feature Importance')"
   ]
  },
  {
   "cell_type": "markdown",
   "metadata": {},
   "source": [
    "\n",
    "#### 🙋‍♀️ Question 1: Feature Importance and Cardinality\n",
    "\n",
    "How does feature importance change in the above plot when we change the minimum leaf size from 6 to 1?"
   ]
  },
  {
   "cell_type": "markdown",
   "metadata": {
    "id": "Ww-iR62eTUpF"
   },
   "source": [
    "#### 🙋‍ Question 2: Compare to Moods Median\n",
    "\n",
    "We can then go and look at the different EBITDAs when selecting for each of these features. What do you notice as the primary difference between these results and those from [Session 2: Inferential Statistics Exercise 1, Part C](https://github.com/wesleybeckner/data_science_foundations/blob/fdf84755a7ed6ed54d3f036a7fc2d9dafa79afd9/notebooks/solutions/SOLN_S2_Inferential_Statistics.ipynb) when we ran Mood's Median test on this same data?"
   ]
  },
  {
   "cell_type": "code",
   "execution_count": 125,
   "metadata": {},
   "outputs": [
    {
     "data": {
      "text/html": [
       "<div>\n",
       "<style scoped>\n",
       "    .dataframe tbody tr th:only-of-type {\n",
       "        vertical-align: middle;\n",
       "    }\n",
       "\n",
       "    .dataframe tbody tr th {\n",
       "        vertical-align: top;\n",
       "    }\n",
       "\n",
       "    .dataframe thead th {\n",
       "        text-align: right;\n",
       "    }\n",
       "</style>\n",
       "<table border=\"1\" class=\"dataframe\">\n",
       "  <thead>\n",
       "    <tr style=\"text-align: right;\">\n",
       "      <th></th>\n",
       "      <th>feature</th>\n",
       "      <th>importance</th>\n",
       "      <th>std</th>\n",
       "    </tr>\n",
       "  </thead>\n",
       "  <tbody>\n",
       "    <tr>\n",
       "      <th>0</th>\n",
       "      <td>Base Cake_Sponge</td>\n",
       "      <td>0.098864</td>\n",
       "      <td>0.090298</td>\n",
       "    </tr>\n",
       "    <tr>\n",
       "      <th>2</th>\n",
       "      <td>Base Cake_Chiffon</td>\n",
       "      <td>0.058403</td>\n",
       "      <td>0.049159</td>\n",
       "    </tr>\n",
       "    <tr>\n",
       "      <th>3</th>\n",
       "      <td>Base Cake_Butter</td>\n",
       "      <td>0.049615</td>\n",
       "      <td>0.046537</td>\n",
       "    </tr>\n",
       "    <tr>\n",
       "      <th>4</th>\n",
       "      <td>Base Cake_Pound</td>\n",
       "      <td>0.047093</td>\n",
       "      <td>0.043291</td>\n",
       "    </tr>\n",
       "    <tr>\n",
       "      <th>5</th>\n",
       "      <td>Primary Flavor_Butter Toffee</td>\n",
       "      <td>0.03565</td>\n",
       "      <td>0.038741</td>\n",
       "    </tr>\n",
       "  </tbody>\n",
       "</table>\n",
       "</div>"
      ],
      "text/plain": [
       "                        feature importance       std\n",
       "0              Base Cake_Sponge   0.098864  0.090298\n",
       "2             Base Cake_Chiffon   0.058403  0.049159\n",
       "3              Base Cake_Butter   0.049615  0.046537\n",
       "4               Base Cake_Pound   0.047093  0.043291\n",
       "5  Primary Flavor_Butter Toffee    0.03565  0.038741"
      ]
     },
     "execution_count": 125,
     "metadata": {},
     "output_type": "execute_result"
    }
   ],
   "source": [
    "feat.iloc[:5]"
   ]
  },
  {
   "cell_type": "code",
   "execution_count": 126,
   "metadata": {},
   "outputs": [
    {
     "name": "stdout",
     "output_type": "stream",
     "text": [
      "Base Cake: Sponge\n",
      "\twith:    0.70\n",
      "\twithout: 0.20\n",
      "Base Cake: Chiffon\n",
      "\twith:    0.13\n",
      "\twithout: 0.24\n",
      "Base Cake: Butter\n",
      "\twith:    0.14\n",
      "\twithout: 0.26\n",
      "Base Cake: Pound\n",
      "\twith:    0.24\n",
      "\twithout: 0.20\n",
      "Primary Flavor: Butter Toffee\n",
      "\twith:    0.46\n",
      "\twithout: 0.21\n",
      "Base Cake: Cheese\n",
      "\twith:    0.44\n",
      "\twithout: 0.21\n",
      "Primary Flavor: Doughnut\n",
      "\twith:    0.38\n",
      "\twithout: 0.20\n",
      "Secondary Flavor: Egg Nog\n",
      "\twith:    0.23\n",
      "\twithout: 0.21\n",
      "Color Group: Olive\n",
      "\twith:    0.67\n",
      "\twithout: 0.21\n",
      "Truffle Type: Candy Outer\n",
      "\twith:    0.20\n",
      "\twithout: 0.22\n"
     ]
    }
   ],
   "source": [
    "for feature in feat.iloc[:10,0]:\n",
    "    group = feature.split('_')[0]\n",
    "    sel = \" \".join(feature.split('_')[1:])\n",
    "    pos = margin.loc[(margin[group] == sel)]['EBITDA/KG'].median()\n",
    "    neg = margin.loc[~(margin[group] == sel)]['EBITDA/KG'].median()\n",
    "    print(group + \": \" + sel)\n",
    "    print(\"\\twith:    {:.2f}\".format(pos))\n",
    "    print(\"\\twithout: {:.2f}\".format(neg))"
   ]
  },
  {
   "cell_type": "markdown",
   "metadata": {
    "id": "4txgFqPUI4Qv"
   },
   "source": [
    "<a name='x.2.3'></a>\n",
    "\n",
    "### 6.2.3 Random Forests for Regression\n",
    "\n",
    "[back to top](#top)\n"
   ]
  },
  {
   "cell_type": "code",
   "execution_count": 127,
   "metadata": {
    "id": "mLZZyUYSRyyp"
   },
   "outputs": [],
   "source": [
    "from sklearn.ensemble import RandomForestRegressor\n",
    "\n",
    "clf = RandomForestRegressor(n_estimators=10)"
   ]
  },
  {
   "cell_type": "markdown",
   "metadata": {
    "id": "SB8576VEa1qQ"
   },
   "source": [
    "Because our labels on our blob data were numerical, we can apply and view the estimator in the same way:"
   ]
  },
  {
   "cell_type": "code",
   "execution_count": 128,
   "metadata": {
    "colab": {
     "base_uri": "https://localhost:8080/",
     "height": 285
    },
    "id": "Yvw_tn8Waqfb",
    "outputId": "8c423fe4-29dc-4181-fb4b-7313de4a6aef"
   },
   "outputs": [
    {
     "data": {
      "text/plain": [
       "<module 'matplotlib.pyplot' from '/home/wbeckner/anaconda3/envs/py39/lib/python3.9/site-packages/matplotlib/pyplot.py'>"
      ]
     },
     "execution_count": 128,
     "metadata": {},
     "output_type": "execute_result"
    },
    {
     "data": {
      "image/png": "[encoded data removed]",
      "text/plain": [
       "<Figure size 432x288 with 1 Axes>"
      ]
     },
     "metadata": {},
     "output_type": "display_data"
    }
   ],
   "source": [
    "clf = clf.fit(X, y)\n",
    "plot_tree(X, clf)"
   ]
  },
  {
   "cell_type": "markdown",
   "metadata": {
    "id": "RfXgvTbtFX2U"
   },
   "source": [
    "I want to revisit a dataset we brought up in Session 2 on feature engineering:"
   ]
  },
  {
   "cell_type": "code",
   "execution_count": 129,
   "metadata": {
    "colab": {
     "base_uri": "https://localhost:8080/",
     "height": 355
    },
    "id": "q9vXnKnzONuJ",
    "outputId": "f4378b1a-a571-4ac1-c891-f9790feb6476"
   },
   "outputs": [
    {
     "data": {
      "text/plain": [
       "Text(0.5, 1.0, 'Frequency Domain')"
      ]
     },
     "execution_count": 129,
     "metadata": {},
     "output_type": "execute_result"
    },
    {
     "data": {
      "image/png": "[encoded data removed]",
      "text/plain": [
       "<Figure size 720x360 with 2 Axes>"
      ]
     },
     "metadata": {},
     "output_type": "display_data"
    }
   ],
   "source": [
    "t = np.linspace(0,5,200)\n",
    "w = 5\n",
    "h = 4\n",
    "s = 4 * h / np.pi * (np.sin(w*t) + np.sin(3*w*t)/3 + np.sin(5*w*t)/5)\n",
    "\n",
    "F = np.fft.fft(s)\n",
    "freq = np.fft.fftfreq(t.shape[-1])\n",
    "\n",
    "fig, ax = plt.subplots(1,2,figsize=(10,5))\n",
    "\n",
    "ax[0].plot(t,s)\n",
    "ax[0].plot(t,np.sin(w*t), ls='--')\n",
    "ax[0].plot(t,np.sin(w*t*3)/3, ls='--')\n",
    "ax[0].plot(t,np.sin(w*t*5)/5, ls='--')\n",
    "ax[0].set_title('Time Domain')\n",
    "\n",
    "# tells us about the amplitude of the component at the\n",
    "# corresponding frequency\n",
    "magnitude = np.sqrt(F.real**2 + F.imag**2)\n",
    "\n",
    "ax[1].plot(freq, magnitude)\n",
    "ax[1].set_xlim(0,.15)\n",
    "ax[1].set_title('Frequency Domain')"
   ]
  },
  {
   "cell_type": "markdown",
   "metadata": {
    "id": "GqrchyUPZ-lC"
   },
   "source": [
    "Let's see if a random forest regression model can capture the wave behavior of the time-series data"
   ]
  },
  {
   "cell_type": "code",
   "execution_count": 130,
   "metadata": {
    "colab": {
     "base_uri": "https://localhost:8080/"
    },
    "id": "lVgoXom4doPR",
    "outputId": "e9fcbce3-871b-4f89-8881-c789a7e600e5"
   },
   "outputs": [
    {
     "data": {
      "text/plain": [
       "RandomForestRegressor(n_estimators=10)"
      ]
     },
     "execution_count": 130,
     "metadata": {},
     "output_type": "execute_result"
    }
   ],
   "source": [
    "clf = RandomForestRegressor(n_estimators=10)\n",
    "clf.fit(t.reshape(-1,1),s)"
   ]
  },
  {
   "cell_type": "code",
   "execution_count": 133,
   "metadata": {},
   "outputs": [],
   "source": [
    "t2 = np.linspace(0,10,400)"
   ]
  },
  {
   "cell_type": "code",
   "execution_count": 135,
   "metadata": {
    "colab": {
     "base_uri": "https://localhost:8080/",
     "height": 339
    },
    "id": "RznVmkHPdxzJ",
    "outputId": "12682a42-8e0f-412b-a524-0ae5ab226314"
   },
   "outputs": [
    {
     "data": {
      "text/plain": [
       "[<matplotlib.lines.Line2D at 0x7f1fe536df10>]"
      ]
     },
     "execution_count": 135,
     "metadata": {},
     "output_type": "execute_result"
    },
    {
     "data": {
      "image/png": "[encoded data removed]",
      "text/plain": [
       "<Figure size 720x360 with 1 Axes>"
      ]
     },
     "metadata": {},
     "output_type": "display_data"
    }
   ],
   "source": [
    "fig, ax = plt.subplots(1,1,figsize=(10,5))\n",
    "\n",
    "ax.plot(t,s)\n",
    "ax.plot(t2,clf.predict(t2.reshape(-1,1)))"
   ]
  },
  {
   "cell_type": "markdown",
   "metadata": {
    "id": "bnFWg6ULeLNF"
   },
   "source": [
    "Nice! without specifying any perdiodicity, the random forest does a good job of embedding this periodicity in the final output."
   ]
  },
  {
   "cell_type": "markdown",
   "metadata": {
    "id": "HlCWm4Pqv2wG"
   },
   "source": [
    "### 🏋️ Exercise 2: Practice with Random Forests\n",
    "\n",
    "With the wine dataset:\n",
    "\n",
    "* predict: density\n",
    "* create a learning curve of train/test score vs model complexity for your random forest model(s)\n",
    "\n",
    "I have provided the _cleaned_ dataset as well as starter code for training the model and making parity plots\n",
    "\n",
    "Do not change the following 3 cells:"
   ]
  },
  {
   "cell_type": "code",
   "execution_count": 136,
   "metadata": {
    "id": "GY2oXgZov8x3"
   },
   "outputs": [],
   "source": [
    "wine = pd.read_csv(\"https://raw.githubusercontent.com/wesleybeckner/\"\\\n",
    "      \"ds_for_engineers/main/data/wine_quality/winequalityN.csv\")\n",
    "# infer str cols\n",
    "str_cols = list(wine.select_dtypes(include='object').columns)\n",
    "\n",
    "#set target col\n",
    "target = 'density'\n",
    "\n",
    "enc = OneHotEncoder()\n",
    "imp = SimpleImputer()\n",
    "\n",
    "enc.fit_transform(wine[str_cols])\n",
    "X_cat = enc.transform(wine[str_cols]).toarray()\n",
    "X = wine.copy()\n",
    "[X.pop(i) for i in str_cols]\n",
    "y = X.pop(target)\n",
    "X = imp.fit_transform(X)\n",
    "X = np.hstack([X_cat, X])\n",
    "\n",
    "cols = [i.split(\"_\")[1] for i in enc.get_feature_names_out()]\n",
    "cols += list(wine.columns)\n",
    "cols.remove(target)\n",
    "[cols.remove(i) for i in str_cols]\n",
    "\n",
    "scaler = StandardScaler()\n",
    "X[:,2:] = scaler.fit_transform(X[:,2:])\n",
    "\n",
    "wine = pd.DataFrame(X, columns=cols)\n",
    "wine['density'] = y"
   ]
  },
  {
   "cell_type": "code",
   "execution_count": 153,
   "metadata": {},
   "outputs": [],
   "source": [
    "model = RandomForestRegressor(n_estimators=65,\n",
    "                            criterion='squared_error',\n",
    "                            max_depth=None,\n",
    "                            min_samples_split=2,\n",
    "                            min_samples_leaf=1,\n",
    "                            min_weight_fraction_leaf=0.0,\n",
    "                            max_features='auto',\n",
    "                            max_leaf_nodes=None,\n",
    "                            min_impurity_decrease=0.0,\n",
    "                            bootstrap=True,\n",
    "                            oob_score=False,\n",
    "                            n_jobs=None,\n",
    "                            random_state=None,\n",
    "                            verbose=0,\n",
    "                            warm_start=False,\n",
    "                            ccp_alpha=0.0,\n",
    "                            max_samples=None,)\n",
    "X_train, X_test, y_train, y_test = train_test_split(X, y, train_size=0.8, random_state=42)\n",
    "\n",
    "model.fit(X_train, y_train)\n",
    "y_pred = model.predict(X_test)"
   ]
  },
  {
   "cell_type": "code",
   "execution_count": 154,
   "metadata": {},
   "outputs": [
    {
     "data": {
      "text/plain": [
       "Text(0.5, 1.0, 'Test, R2: 0.972')"
      ]
     },
     "execution_count": 154,
     "metadata": {},
     "output_type": "execute_result"
    },
    {
     "data": {
      "image/png": "[encoded data removed]",
      "text/plain": [
       "<Figure size 1080x360 with 2 Axes>"
      ]
     },
     "metadata": {},
     "output_type": "display_data"
    }
   ],
   "source": [
    "fig, (ax, ax_) = plt.subplots(1,2,figsize=(15,5))\n",
    "ax.plot(y_test, model.predict(X_test), ls='', marker='.')\n",
    "ax_.plot(y_train, model.predict(X_train), ls='', marker='.')\n",
    "ax.set_title(\"Train, R2: {:.3f}\".format(r2_score(y_train, model.predict(X_train))))\n",
    "ax.set_ylabel('Predicted')\n",
    "ax.set_xlabel('Actual')\n",
    "ax_.set_xlabel('Actual')\n",
    "ax_.set_title(\"Test, R2: {:.3f}\".format(r2_score(y_test, model.predict(X_test))))"
   ]
  },
  {
   "cell_type": "markdown",
   "metadata": {},
   "source": [
    "Compare these results with our [linear model](https://github.com/wesleybeckner/data_science_foundations/blob/fdf84755a7ed6ed54d3f036a7fc2d9dafa79afd9/notebooks/solutions/SOLN_E3_Feature_Engineering.ipynb) from Lab 3.\n",
    "\n",
    "Recall that we can quickly grab the names of the paramters in our sklearn model:"
   ]
  },
  {
   "cell_type": "code",
   "execution_count": 151,
   "metadata": {},
   "outputs": [
    {
     "data": {
      "text/plain": [
       "{'bootstrap': True,\n",
       " 'ccp_alpha': 0.0,\n",
       " 'criterion': 'squared_error',\n",
       " 'max_depth': None,\n",
       " 'max_features': 'auto',\n",
       " 'max_leaf_nodes': None,\n",
       " 'max_samples': None,\n",
       " 'min_impurity_decrease': 0.0,\n",
       " 'min_samples_leaf': 1,\n",
       " 'min_samples_split': 2,\n",
       " 'min_weight_fraction_leaf': 0.0,\n",
       " 'n_estimators': 100,\n",
       " 'n_jobs': None,\n",
       " 'oob_score': False,\n",
       " 'random_state': None,\n",
       " 'verbose': 0,\n",
       " 'warm_start': False}"
      ]
     },
     "execution_count": 151,
     "metadata": {},
     "output_type": "execute_result"
    }
   ],
   "source": [
    "RandomForestRegressor().get_params()"
   ]
  },
  {
   "cell_type": "code",
   "execution_count": 152,
   "metadata": {},
   "outputs": [],
   "source": [
    "# Cell for Exercise 2\n",
    "X_train, X_test, y_train, y_test = train_test_split(X, y, train_size=0.8, random_state=42)\n",
    "r2 = []\n",
    "for n_estimators in range(1,100):\n",
    "    model = RandomForestRegressor(n_estimators=n_estimators)\n",
    "    model.fit(X_train, y_train)\n",
    "    y_pred = model.predict(X_test)\n",
    "    r2.append([r2_score(y_train, model.predict(X_train)),\n",
    "    r2_score(y_test, model.predict(X_test))])"
   ]
  },
  {
   "cell_type": "code",
   "execution_count": 146,
   "metadata": {},
   "outputs": [
    {
     "data": {
      "text/plain": [
       "<matplotlib.legend.Legend at 0x7f1fe5063f40>"
      ]
     },
     "execution_count": 146,
     "metadata": {},
     "output_type": "execute_result"
    },
    {
     "data": {
      "image/png": "[encoded data removed]",
      "text/plain": [
       "<Figure size 720x360 with 1 Axes>"
      ]
     },
     "metadata": {},
     "output_type": "display_data"
    }
   ],
   "source": [
    "score = np.array(r2)\n",
    "score1 = score[:,0]\n",
    "score2 = score[:,1]\n",
    "fig, ax = plt.subplots(figsize=(10,5))\n",
    "ax.plot(range(1,100), score1, ls='', marker='.', color='blue', label='Train')\n",
    "ax.plot(range(1,100), score2, ls='', marker='o', color='red', label='Test')\n",
    "ax.set_title(\"Scores with Increasing Model Complexity\")\n",
    "ax.set_xlabel(\"Trees in the Forest\")\n",
    "ax.set_ylabel(\"$R^2$\")\n",
    "ax.legend()"
   ]
  }
 ],
 "metadata": {
  "colab": {
   "include_colab_link": true,
   "name": "S6_Bagging.ipynb",
   "provenance": [],
   "toc_visible": true
  },
  "kernelspec": {
   "display_name": "Python 3 (ipykernel)",
   "language": "python",
   "name": "python3"
  },
  "language_info": {
   "codemirror_mode": {
    "name": "ipython",
    "version": 3
   },
   "file_extension": ".py",
   "mimetype": "text/x-python",
   "name": "python",
   "nbconvert_exporter": "python",
   "pygments_lexer": "ipython3",
   "version": "3.9.7"
  }
 },
 "nbformat": 4,
 "nbformat_minor": 4
}
