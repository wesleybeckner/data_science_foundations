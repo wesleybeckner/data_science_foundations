{
 "cells": [
  {
   "cell_type": "markdown",
   "metadata": {
    "colab_type": "text",
    "id": "view-in-github"
   },
   "source": [
    "<a href=\"https://colab.research.google.com/github/wesleybeckner/data_science_foundations/blob/main/notebooks/solutions/L1_Descriptive_Statistics_Data_Hunt.ipynb\" target=\"_parent\"><img src=\"https://colab.research.google.com/assets/colab-badge.svg\" alt=\"Open In Colab\"/></a>"
   ]
  },
  {
   "cell_type": "markdown",
   "metadata": {
    "id": "Czd8_5UEr9Lw"
   },
   "source": [
    "# Data Science Foundations, Lab 1: Data Hunt I\n",
    "\n",
    "**Instructor**: Wesley Beckner\n",
    "\n",
    "**Contact**: wesleybeckner@gmail.com\n",
    "\n",
    "---\n",
    "\n",
    "<br>\n",
    "\n",
    "That's right you heard correctly. It's a data hunt.\n",
    "\n",
    "<br>\n",
    "\n",
    "---\n",
    "\n",
    "\n"
   ]
  },
  {
   "cell_type": "code",
   "execution_count": 2,
   "metadata": {
    "id": "5urEXMg1T9RO"
   },
   "outputs": [],
   "source": [
    "import pandas as pd\n",
    "import matplotlib.pyplot as plt\n",
    "import seaborn as sns\n",
    "from ipywidgets import interact"
   ]
  },
  {
   "cell_type": "code",
   "execution_count": 3,
   "metadata": {
    "colab": {
     "base_uri": "https://localhost:8080/"
    },
    "id": "lHIi3gXr3RP2",
    "outputId": "6807e786-c02c-4f5e-acf3-7de85fbb0406"
   },
   "outputs": [
    {
     "name": "stderr",
     "output_type": "stream",
     "text": [
      "/home/wbeckner/anaconda3/envs/py39/lib/python3.9/site-packages/IPython/core/interactiveshell.py:3251: DtypeWarning: Columns (3) have mixed types.Specify dtype option on import or set low_memory=False.\n",
      "  exec(code_obj, self.user_global_ns, self.user_ns)\n"
     ]
    },
    {
     "data": {
      "text/plain": [
       "(85855, 22)"
      ]
     },
     "execution_count": 3,
     "metadata": {},
     "output_type": "execute_result"
    }
   ],
   "source": [
    "df = pd.read_csv(\"https://raw.githubusercontent.com/wesleybeckner/\"\\\n",
    "  \"technology_explorers/main/assets/imdb_movies.csv\")\n",
    "\n",
    "# converting years to numbers for easy conditionals\n",
    "df['year'] = pd.to_numeric(df['year'], errors='coerce')\n",
    "df.shape"
   ]
  },
  {
   "cell_type": "code",
   "execution_count": 4,
   "metadata": {
    "colab": {
     "base_uri": "https://localhost:8080/",
     "height": 421
    },
    "id": "iH5z-B6QqwFf",
    "outputId": "04f380a9-0423-4cd8-dd20-aa8b35309e59"
   },
   "outputs": [
    {
     "data": {
      "text/html": [
       "<div>\n",
       "<style scoped>\n",
       "    .dataframe tbody tr th:only-of-type {\n",
       "        vertical-align: middle;\n",
       "    }\n",
       "\n",
       "    .dataframe tbody tr th {\n",
       "        vertical-align: top;\n",
       "    }\n",
       "\n",
       "    .dataframe thead th {\n",
       "        text-align: right;\n",
       "    }\n",
       "</style>\n",
       "<table border=\"1\" class=\"dataframe\">\n",
       "  <thead>\n",
       "    <tr style=\"text-align: right;\">\n",
       "      <th></th>\n",
       "      <th>imdb_title_id</th>\n",
       "      <th>title</th>\n",
       "      <th>original_title</th>\n",
       "      <th>year</th>\n",
       "      <th>date_published</th>\n",
       "      <th>genre</th>\n",
       "      <th>duration</th>\n",
       "      <th>country</th>\n",
       "      <th>language</th>\n",
       "      <th>director</th>\n",
       "      <th>...</th>\n",
       "      <th>actors</th>\n",
       "      <th>description</th>\n",
       "      <th>avg_vote</th>\n",
       "      <th>votes</th>\n",
       "      <th>budget</th>\n",
       "      <th>usa_gross_income</th>\n",
       "      <th>worlwide_gross_income</th>\n",
       "      <th>metascore</th>\n",
       "      <th>reviews_from_users</th>\n",
       "      <th>reviews_from_critics</th>\n",
       "    </tr>\n",
       "  </thead>\n",
       "  <tbody>\n",
       "    <tr>\n",
       "      <th>0</th>\n",
       "      <td>tt0000009</td>\n",
       "      <td>Miss Jerry</td>\n",
       "      <td>Miss Jerry</td>\n",
       "      <td>1894.0</td>\n",
       "      <td>1894-10-09</td>\n",
       "      <td>Romance</td>\n",
       "      <td>45</td>\n",
       "      <td>USA</td>\n",
       "      <td>None</td>\n",
       "      <td>Alexander Black</td>\n",
       "      <td>...</td>\n",
       "      <td>Blanche Bayliss, William Courtenay, Chauncey D...</td>\n",
       "      <td>The adventures of a female reporter in the 1890s.</td>\n",
       "      <td>5.9</td>\n",
       "      <td>154</td>\n",
       "      <td>NaN</td>\n",
       "      <td>NaN</td>\n",
       "      <td>NaN</td>\n",
       "      <td>NaN</td>\n",
       "      <td>1.0</td>\n",
       "      <td>2.0</td>\n",
       "    </tr>\n",
       "    <tr>\n",
       "      <th>1</th>\n",
       "      <td>tt0000574</td>\n",
       "      <td>The Story of the Kelly Gang</td>\n",
       "      <td>The Story of the Kelly Gang</td>\n",
       "      <td>1906.0</td>\n",
       "      <td>1906-12-26</td>\n",
       "      <td>Biography, Crime, Drama</td>\n",
       "      <td>70</td>\n",
       "      <td>Australia</td>\n",
       "      <td>None</td>\n",
       "      <td>Charles Tait</td>\n",
       "      <td>...</td>\n",
       "      <td>Elizabeth Tait, John Tait, Norman Campbell, Be...</td>\n",
       "      <td>True story of notorious Australian outlaw Ned ...</td>\n",
       "      <td>6.1</td>\n",
       "      <td>589</td>\n",
       "      <td>$ 2250</td>\n",
       "      <td>NaN</td>\n",
       "      <td>NaN</td>\n",
       "      <td>NaN</td>\n",
       "      <td>7.0</td>\n",
       "      <td>7.0</td>\n",
       "    </tr>\n",
       "    <tr>\n",
       "      <th>2</th>\n",
       "      <td>tt0001892</td>\n",
       "      <td>Den sorte drøm</td>\n",
       "      <td>Den sorte drøm</td>\n",
       "      <td>1911.0</td>\n",
       "      <td>1911-08-19</td>\n",
       "      <td>Drama</td>\n",
       "      <td>53</td>\n",
       "      <td>Germany, Denmark</td>\n",
       "      <td>NaN</td>\n",
       "      <td>Urban Gad</td>\n",
       "      <td>...</td>\n",
       "      <td>Asta Nielsen, Valdemar Psilander, Gunnar Helse...</td>\n",
       "      <td>Two men of high rank are both wooing the beaut...</td>\n",
       "      <td>5.8</td>\n",
       "      <td>188</td>\n",
       "      <td>NaN</td>\n",
       "      <td>NaN</td>\n",
       "      <td>NaN</td>\n",
       "      <td>NaN</td>\n",
       "      <td>5.0</td>\n",
       "      <td>2.0</td>\n",
       "    </tr>\n",
       "  </tbody>\n",
       "</table>\n",
       "<p>3 rows × 22 columns</p>\n",
       "</div>"
      ],
      "text/plain": [
       "  imdb_title_id                        title               original_title  \\\n",
       "0     tt0000009                   Miss Jerry                   Miss Jerry   \n",
       "1     tt0000574  The Story of the Kelly Gang  The Story of the Kelly Gang   \n",
       "2     tt0001892               Den sorte drøm               Den sorte drøm   \n",
       "\n",
       "     year date_published                    genre  duration           country  \\\n",
       "0  1894.0     1894-10-09                  Romance        45               USA   \n",
       "1  1906.0     1906-12-26  Biography, Crime, Drama        70         Australia   \n",
       "2  1911.0     1911-08-19                    Drama        53  Germany, Denmark   \n",
       "\n",
       "  language         director  ...  \\\n",
       "0     None  Alexander Black  ...   \n",
       "1     None     Charles Tait  ...   \n",
       "2      NaN        Urban Gad  ...   \n",
       "\n",
       "                                              actors  \\\n",
       "0  Blanche Bayliss, William Courtenay, Chauncey D...   \n",
       "1  Elizabeth Tait, John Tait, Norman Campbell, Be...   \n",
       "2  Asta Nielsen, Valdemar Psilander, Gunnar Helse...   \n",
       "\n",
       "                                         description avg_vote votes  budget  \\\n",
       "0  The adventures of a female reporter in the 1890s.      5.9   154     NaN   \n",
       "1  True story of notorious Australian outlaw Ned ...      6.1   589  $ 2250   \n",
       "2  Two men of high rank are both wooing the beaut...      5.8   188     NaN   \n",
       "\n",
       "   usa_gross_income worlwide_gross_income metascore reviews_from_users  \\\n",
       "0               NaN                   NaN       NaN                1.0   \n",
       "1               NaN                   NaN       NaN                7.0   \n",
       "2               NaN                   NaN       NaN                5.0   \n",
       "\n",
       "   reviews_from_critics  \n",
       "0                   2.0  \n",
       "1                   7.0  \n",
       "2                   2.0  \n",
       "\n",
       "[3 rows x 22 columns]"
      ]
     },
     "execution_count": 4,
     "metadata": {},
     "output_type": "execute_result"
    }
   ],
   "source": [
    "df.head(3)"
   ]
  },
  {
   "cell_type": "markdown",
   "metadata": {
    "id": "IU4nmZpA3rt1"
   },
   "source": [
    "# Q1 What american director has the highest mean  avg_vote?"
   ]
  },
  {
   "cell_type": "code",
   "execution_count": 5,
   "metadata": {
    "colab": {
     "base_uri": "https://localhost:8080/"
    },
    "id": "Avq_P0D73UKu",
    "outputId": "b2000d8b-0c8d-453f-a78e-0418f37bb5cf"
   },
   "outputs": [
    {
     "data": {
      "text/plain": [
       "director\n",
       "Msn Surya            9.9\n",
       "Aalmist Subba        9.8\n",
       "Sampath Rudra        9.8\n",
       "Basheed S.K.         9.8\n",
       "Abner Official       9.8\n",
       "                    ... \n",
       "Ramana Reddy B.V.    1.0\n",
       "Tamás Gerencsér      1.0\n",
       "Tommy Yu             1.0\n",
       "Gökhan Gök           1.0\n",
       "Yasutake Torii       1.0\n",
       "Name: avg_vote, Length: 34733, dtype: float64"
      ]
     },
     "execution_count": 5,
     "metadata": {},
     "output_type": "execute_result"
    }
   ],
   "source": [
    "df.groupby('director')['avg_vote'].mean().sort_values(ascending=False)"
   ]
  },
  {
   "cell_type": "markdown",
   "metadata": {
    "id": "6UvuduxH7RFo"
   },
   "source": [
    "# Q2 What american director with more than 5 movies, has the highest mean avg_vote?"
   ]
  },
  {
   "cell_type": "code",
   "execution_count": null,
   "metadata": {
    "colab": {
     "base_uri": "https://localhost:8080/"
    },
    "id": "t_nTPKqU7YH0",
    "outputId": "976007ca-058a-4928-e49e-13d883b1b963"
   },
   "outputs": [
    {
     "data": {
      "text/plain": [
       "director\n",
       "Christopher Nolan     8.218182\n",
       "Satyajit Ray          8.025000\n",
       "Andrei Tarkovsky      8.014286\n",
       "Hayao Miyazaki        8.008333\n",
       "Sergio Leone          7.928571\n",
       "                        ...   \n",
       "Bill Zebub            2.483333\n",
       "Mark Polonia          2.433333\n",
       "Paul T.T. Easter      2.383333\n",
       "Christopher Forbes    2.000000\n",
       "Brett Kelly           1.533333\n",
       "Name: avg_vote, Length: 3047, dtype: float64"
      ]
     },
     "execution_count": 6,
     "metadata": {},
     "output_type": "execute_result"
    }
   ],
   "source": [
    "df.groupby('director').filter(lambda x: x.shape[0] > 5).\\\n",
    "  groupby('director')['avg_vote'].mean().sort_values(ascending=False)"
   ]
  },
  {
   "cell_type": "markdown",
   "metadata": {
    "id": "25DiHOtv3ykE"
   },
   "source": [
    "# Q3 What director has the largest variance in avg_vote?"
   ]
  },
  {
   "cell_type": "code",
   "execution_count": null,
   "metadata": {},
   "outputs": [
    {
     "data": {
      "text/plain": [
       "director\n",
       "Deniz Denizciler              4.030509\n",
       "Rudi Lagemann                 3.747666\n",
       "Emilio Ruiz Barrachina        3.676955\n",
       "Krishna Ghattamaneni          3.676955\n",
       "Milos Avramovic               3.606245\n",
       "                                ...   \n",
       "Ümit Degirmenci                    NaN\n",
       "Ümit Elçi                          NaN\n",
       "Ümit Köreken                       NaN\n",
       "Þorsteinn Gunnar Bjarnason         NaN\n",
       "Þórhildur Þorleifsdóttir           NaN\n",
       "Name: avg_vote, Length: 34733, dtype: float64"
      ]
     },
     "execution_count": 7,
     "metadata": {},
     "output_type": "execute_result"
    }
   ],
   "source": [
    "df.groupby('director')['avg_vote'].std().sort_values(ascending=False)"
   ]
  },
  {
   "cell_type": "markdown",
   "metadata": {
    "id": "m2qoIyIZ8CFG"
   },
   "source": [
    "# Q4 What director with more than 10 movies has the largest variance in avg_vote?"
   ]
  },
  {
   "cell_type": "code",
   "execution_count": null,
   "metadata": {
    "colab": {
     "base_uri": "https://localhost:8080/"
    },
    "id": "5x_NjdRH8CFT",
    "outputId": "528493b0-d69e-4da7-fc29-8020aca80af5"
   },
   "outputs": [
    {
     "data": {
      "text/plain": [
       "director\n",
       "Harry Baweja         1.869954\n",
       "Shaji Kailas         1.854502\n",
       "Zdenek Troska        1.775984\n",
       "Adam Rifkin          1.711251\n",
       "Ram Gopal Varma      1.687850\n",
       "                       ...   \n",
       "Ford Beebe           0.224343\n",
       "Ray Nazarro          0.210311\n",
       "Jean Grémillon       0.196946\n",
       "Louis Feuillade      0.156428\n",
       "Tsutomu Shibayama    0.126121\n",
       "Name: avg_vote, Length: 1135, dtype: float64"
      ]
     },
     "execution_count": 8,
     "metadata": {},
     "output_type": "execute_result"
    }
   ],
   "source": [
    "df.groupby('director').filter(lambda x: x.shape[0] > 10).\\\n",
    "  groupby('director')['avg_vote'].std().sort_values(ascending=False)"
   ]
  },
  {
   "cell_type": "markdown",
   "metadata": {
    "id": "r7rYrKdb8LWG"
   },
   "source": [
    "# Q5 What american directors with more than 5 movies have the largest variance in avg_vote?"
   ]
  },
  {
   "cell_type": "code",
   "execution_count": null,
   "metadata": {
    "colab": {
     "base_uri": "https://localhost:8080/"
    },
    "id": "E2Zb4ypG8LWG",
    "outputId": "3c95edd7-966f-42a4-906b-1531e4e5d0e9"
   },
   "outputs": [
    {
     "data": {
      "text/plain": [
       "director\n",
       "Jorge Ameer          2.200606\n",
       "Tigran Keosayan      2.188150\n",
       "Nikos Zervos         2.093243\n",
       "Kundan Shah          2.060502\n",
       "Feroz Khan           2.036220\n",
       "                       ...   \n",
       "Sang-il Lee          0.132916\n",
       "Nate Watt            0.129099\n",
       "Daisuke Nishio       0.127242\n",
       "Tsutomu Shibayama    0.126121\n",
       "Pierre Chenal        0.103280\n",
       "Name: avg_vote, Length: 3047, dtype: float64"
      ]
     },
     "execution_count": 9,
     "metadata": {},
     "output_type": "execute_result"
    }
   ],
   "source": [
    "df.groupby('director').filter(lambda x: x.shape[0] > 5).\\\n",
    "  groupby('director')['avg_vote'].std().sort_values(ascending=False)"
   ]
  },
  {
   "cell_type": "markdown",
   "metadata": {
    "id": "soJ49mV_8V9h"
   },
   "source": [
    "# Q6 Where does M. Night Shyamalan fall on this rank scale?\n",
    "\n",
    "(He's number 36/859)"
   ]
  },
  {
   "cell_type": "code",
   "execution_count": null,
   "metadata": {},
   "outputs": [
    {
     "data": {
      "text/html": [
       "<div>\n",
       "<style scoped>\n",
       "    .dataframe tbody tr th:only-of-type {\n",
       "        vertical-align: middle;\n",
       "    }\n",
       "\n",
       "    .dataframe tbody tr th {\n",
       "        vertical-align: top;\n",
       "    }\n",
       "\n",
       "    .dataframe thead th {\n",
       "        text-align: right;\n",
       "    }\n",
       "</style>\n",
       "<table border=\"1\" class=\"dataframe\">\n",
       "  <thead>\n",
       "    <tr style=\"text-align: right;\">\n",
       "      <th></th>\n",
       "      <th>director</th>\n",
       "      <th>avg_vote</th>\n",
       "    </tr>\n",
       "  </thead>\n",
       "  <tbody>\n",
       "    <tr>\n",
       "      <th>36</th>\n",
       "      <td>M. Night Shyamalan</td>\n",
       "      <td>1.258791</td>\n",
       "    </tr>\n",
       "  </tbody>\n",
       "</table>\n",
       "</div>"
      ],
      "text/plain": [
       "              director  avg_vote\n",
       "36  M. Night Shyamalan  1.258791"
      ]
     },
     "metadata": {},
     "output_type": "display_data"
    },
    {
     "name": "stdout",
     "output_type": "stream",
     "text": [
      "859\n"
     ]
    }
   ],
   "source": [
    "var_rank = df.loc[df['country'] == 'USA'].groupby('director').filter(lambda x: x.shape[0] > 5).\\\n",
    "  groupby('director')['avg_vote'].std().sort_values(ascending=False).reset_index()\n",
    "display(var_rank.loc[var_rank['director'] == 'M. Night Shyamalan'])\n",
    "print(var_rank.shape[0])"
   ]
  },
  {
   "cell_type": "markdown",
   "metadata": {},
   "source": [
    "what happens when you only include directors who, on average (based on mean), have made most their movies after 1990 and have produced 10 or more movies?\n",
    "\n",
    "(Shyamalan rises to 3/83)"
   ]
  },
  {
   "cell_type": "code",
   "execution_count": 50,
   "metadata": {},
   "outputs": [
    {
     "data": {
      "text/html": [
       "<div>\n",
       "<style scoped>\n",
       "    .dataframe tbody tr th:only-of-type {\n",
       "        vertical-align: middle;\n",
       "    }\n",
       "\n",
       "    .dataframe tbody tr th {\n",
       "        vertical-align: top;\n",
       "    }\n",
       "\n",
       "    .dataframe thead tr th {\n",
       "        text-align: left;\n",
       "    }\n",
       "\n",
       "    .dataframe thead tr:last-of-type th {\n",
       "        text-align: right;\n",
       "    }\n",
       "</style>\n",
       "<table border=\"1\" class=\"dataframe\">\n",
       "  <thead>\n",
       "    <tr>\n",
       "      <th></th>\n",
       "      <th colspan=\"8\" halign=\"left\">avg_vote</th>\n",
       "      <th colspan=\"8\" halign=\"left\">votes</th>\n",
       "    </tr>\n",
       "    <tr>\n",
       "      <th></th>\n",
       "      <th>count</th>\n",
       "      <th>mean</th>\n",
       "      <th>std</th>\n",
       "      <th>min</th>\n",
       "      <th>25%</th>\n",
       "      <th>50%</th>\n",
       "      <th>75%</th>\n",
       "      <th>max</th>\n",
       "      <th>count</th>\n",
       "      <th>mean</th>\n",
       "      <th>std</th>\n",
       "      <th>min</th>\n",
       "      <th>25%</th>\n",
       "      <th>50%</th>\n",
       "      <th>75%</th>\n",
       "      <th>max</th>\n",
       "    </tr>\n",
       "    <tr>\n",
       "      <th>director</th>\n",
       "      <th></th>\n",
       "      <th></th>\n",
       "      <th></th>\n",
       "      <th></th>\n",
       "      <th></th>\n",
       "      <th></th>\n",
       "      <th></th>\n",
       "      <th></th>\n",
       "      <th></th>\n",
       "      <th></th>\n",
       "      <th></th>\n",
       "      <th></th>\n",
       "      <th></th>\n",
       "      <th></th>\n",
       "      <th></th>\n",
       "      <th></th>\n",
       "    </tr>\n",
       "  </thead>\n",
       "  <tbody>\n",
       "    <tr>\n",
       "      <th>Adam Rifkin</th>\n",
       "      <td>15.0</td>\n",
       "      <td>5.053333</td>\n",
       "      <td>1.711251</td>\n",
       "      <td>1.3</td>\n",
       "      <td>4.200</td>\n",
       "      <td>5.80</td>\n",
       "      <td>6.100</td>\n",
       "      <td>6.9</td>\n",
       "      <td>15.0</td>\n",
       "      <td>4417.400000</td>\n",
       "      <td>9414.430237</td>\n",
       "      <td>124.0</td>\n",
       "      <td>525.50</td>\n",
       "      <td>1084.0</td>\n",
       "      <td>1782.50</td>\n",
       "      <td>34958.0</td>\n",
       "    </tr>\n",
       "    <tr>\n",
       "      <th>Mark L. Lester</th>\n",
       "      <td>19.0</td>\n",
       "      <td>4.768421</td>\n",
       "      <td>1.262296</td>\n",
       "      <td>2.3</td>\n",
       "      <td>4.200</td>\n",
       "      <td>4.70</td>\n",
       "      <td>5.800</td>\n",
       "      <td>6.7</td>\n",
       "      <td>19.0</td>\n",
       "      <td>11479.052632</td>\n",
       "      <td>32768.240173</td>\n",
       "      <td>298.0</td>\n",
       "      <td>549.00</td>\n",
       "      <td>1219.0</td>\n",
       "      <td>4405.50</td>\n",
       "      <td>143443.0</td>\n",
       "    </tr>\n",
       "    <tr>\n",
       "      <th>M. Night Shyamalan</th>\n",
       "      <td>10.0</td>\n",
       "      <td>5.970000</td>\n",
       "      <td>1.258791</td>\n",
       "      <td>4.0</td>\n",
       "      <td>4.975</td>\n",
       "      <td>6.05</td>\n",
       "      <td>6.650</td>\n",
       "      <td>8.1</td>\n",
       "      <td>10.0</td>\n",
       "      <td>239264.500000</td>\n",
       "      <td>262079.154005</td>\n",
       "      <td>731.0</td>\n",
       "      <td>97982.50</td>\n",
       "      <td>169426.0</td>\n",
       "      <td>308493.25</td>\n",
       "      <td>894385.0</td>\n",
       "    </tr>\n",
       "    <tr>\n",
       "      <th>Sean McNamara</th>\n",
       "      <td>12.0</td>\n",
       "      <td>5.216667</td>\n",
       "      <td>1.252513</td>\n",
       "      <td>2.9</td>\n",
       "      <td>4.725</td>\n",
       "      <td>5.60</td>\n",
       "      <td>5.950</td>\n",
       "      <td>7.0</td>\n",
       "      <td>12.0</td>\n",
       "      <td>9221.166667</td>\n",
       "      <td>13933.853515</td>\n",
       "      <td>365.0</td>\n",
       "      <td>1085.25</td>\n",
       "      <td>1416.0</td>\n",
       "      <td>12191.50</td>\n",
       "      <td>44808.0</td>\n",
       "    </tr>\n",
       "    <tr>\n",
       "      <th>Sam Firstenberg</th>\n",
       "      <td>10.0</td>\n",
       "      <td>4.550000</td>\n",
       "      <td>1.174970</td>\n",
       "      <td>2.8</td>\n",
       "      <td>3.475</td>\n",
       "      <td>4.85</td>\n",
       "      <td>5.325</td>\n",
       "      <td>6.2</td>\n",
       "      <td>10.0</td>\n",
       "      <td>1890.400000</td>\n",
       "      <td>1552.704107</td>\n",
       "      <td>153.0</td>\n",
       "      <td>713.50</td>\n",
       "      <td>1282.0</td>\n",
       "      <td>3317.25</td>\n",
       "      <td>4330.0</td>\n",
       "    </tr>\n",
       "    <tr>\n",
       "      <th>Gus Van Sant</th>\n",
       "      <td>12.0</td>\n",
       "      <td>6.583333</td>\n",
       "      <td>1.169952</td>\n",
       "      <td>4.4</td>\n",
       "      <td>6.025</td>\n",
       "      <td>6.95</td>\n",
       "      <td>7.300</td>\n",
       "      <td>8.3</td>\n",
       "      <td>12.0</td>\n",
       "      <td>112868.166667</td>\n",
       "      <td>232569.906962</td>\n",
       "      <td>3674.0</td>\n",
       "      <td>16191.75</td>\n",
       "      <td>38458.5</td>\n",
       "      <td>82270.25</td>\n",
       "      <td>837379.0</td>\n",
       "    </tr>\n",
       "    <tr>\n",
       "      <th>John Lyde</th>\n",
       "      <td>16.0</td>\n",
       "      <td>4.937500</td>\n",
       "      <td>1.159813</td>\n",
       "      <td>3.6</td>\n",
       "      <td>3.900</td>\n",
       "      <td>4.80</td>\n",
       "      <td>5.500</td>\n",
       "      <td>7.0</td>\n",
       "      <td>16.0</td>\n",
       "      <td>1021.937500</td>\n",
       "      <td>911.075516</td>\n",
       "      <td>113.0</td>\n",
       "      <td>409.50</td>\n",
       "      <td>802.0</td>\n",
       "      <td>1360.00</td>\n",
       "      <td>3270.0</td>\n",
       "    </tr>\n",
       "    <tr>\n",
       "      <th>Michael Polish</th>\n",
       "      <td>12.0</td>\n",
       "      <td>5.458333</td>\n",
       "      <td>1.154011</td>\n",
       "      <td>3.4</td>\n",
       "      <td>4.700</td>\n",
       "      <td>5.45</td>\n",
       "      <td>6.300</td>\n",
       "      <td>7.2</td>\n",
       "      <td>12.0</td>\n",
       "      <td>4396.833333</td>\n",
       "      <td>5662.740034</td>\n",
       "      <td>528.0</td>\n",
       "      <td>1698.75</td>\n",
       "      <td>3395.5</td>\n",
       "      <td>3624.00</td>\n",
       "      <td>21873.0</td>\n",
       "    </tr>\n",
       "    <tr>\n",
       "      <th>Randal Kleiser</th>\n",
       "      <td>12.0</td>\n",
       "      <td>5.708333</td>\n",
       "      <td>1.126102</td>\n",
       "      <td>3.5</td>\n",
       "      <td>5.050</td>\n",
       "      <td>5.60</td>\n",
       "      <td>6.750</td>\n",
       "      <td>7.2</td>\n",
       "      <td>12.0</td>\n",
       "      <td>35908.916667</td>\n",
       "      <td>65204.420315</td>\n",
       "      <td>1030.0</td>\n",
       "      <td>2458.75</td>\n",
       "      <td>11245.5</td>\n",
       "      <td>41162.50</td>\n",
       "      <td>232940.0</td>\n",
       "    </tr>\n",
       "    <tr>\n",
       "      <th>Brian Brough</th>\n",
       "      <td>12.0</td>\n",
       "      <td>5.575000</td>\n",
       "      <td>1.096378</td>\n",
       "      <td>3.5</td>\n",
       "      <td>5.225</td>\n",
       "      <td>5.80</td>\n",
       "      <td>6.350</td>\n",
       "      <td>7.0</td>\n",
       "      <td>12.0</td>\n",
       "      <td>675.500000</td>\n",
       "      <td>590.071721</td>\n",
       "      <td>104.0</td>\n",
       "      <td>134.00</td>\n",
       "      <td>606.5</td>\n",
       "      <td>1048.75</td>\n",
       "      <td>1842.0</td>\n",
       "    </tr>\n",
       "  </tbody>\n",
       "</table>\n",
       "</div>"
      ],
      "text/plain": [
       "                   avg_vote                                                    \\\n",
       "                      count      mean       std  min    25%   50%    75%  max   \n",
       "director                                                                        \n",
       "Adam Rifkin            15.0  5.053333  1.711251  1.3  4.200  5.80  6.100  6.9   \n",
       "Mark L. Lester         19.0  4.768421  1.262296  2.3  4.200  4.70  5.800  6.7   \n",
       "M. Night Shyamalan     10.0  5.970000  1.258791  4.0  4.975  6.05  6.650  8.1   \n",
       "Sean McNamara          12.0  5.216667  1.252513  2.9  4.725  5.60  5.950  7.0   \n",
       "Sam Firstenberg        10.0  4.550000  1.174970  2.8  3.475  4.85  5.325  6.2   \n",
       "Gus Van Sant           12.0  6.583333  1.169952  4.4  6.025  6.95  7.300  8.3   \n",
       "John Lyde              16.0  4.937500  1.159813  3.6  3.900  4.80  5.500  7.0   \n",
       "Michael Polish         12.0  5.458333  1.154011  3.4  4.700  5.45  6.300  7.2   \n",
       "Randal Kleiser         12.0  5.708333  1.126102  3.5  5.050  5.60  6.750  7.2   \n",
       "Brian Brough           12.0  5.575000  1.096378  3.5  5.225  5.80  6.350  7.0   \n",
       "\n",
       "                   votes                                                  \\\n",
       "                   count           mean            std     min       25%   \n",
       "director                                                                   \n",
       "Adam Rifkin         15.0    4417.400000    9414.430237   124.0    525.50   \n",
       "Mark L. Lester      19.0   11479.052632   32768.240173   298.0    549.00   \n",
       "M. Night Shyamalan  10.0  239264.500000  262079.154005   731.0  97982.50   \n",
       "Sean McNamara       12.0    9221.166667   13933.853515   365.0   1085.25   \n",
       "Sam Firstenberg     10.0    1890.400000    1552.704107   153.0    713.50   \n",
       "Gus Van Sant        12.0  112868.166667  232569.906962  3674.0  16191.75   \n",
       "John Lyde           16.0    1021.937500     911.075516   113.0    409.50   \n",
       "Michael Polish      12.0    4396.833333    5662.740034   528.0   1698.75   \n",
       "Randal Kleiser      12.0   35908.916667   65204.420315  1030.0   2458.75   \n",
       "Brian Brough        12.0     675.500000     590.071721   104.0    134.00   \n",
       "\n",
       "                                                   \n",
       "                         50%        75%       max  \n",
       "director                                           \n",
       "Adam Rifkin           1084.0    1782.50   34958.0  \n",
       "Mark L. Lester        1219.0    4405.50  143443.0  \n",
       "M. Night Shyamalan  169426.0  308493.25  894385.0  \n",
       "Sean McNamara         1416.0   12191.50   44808.0  \n",
       "Sam Firstenberg       1282.0    3317.25    4330.0  \n",
       "Gus Van Sant         38458.5   82270.25  837379.0  \n",
       "John Lyde              802.0    1360.00    3270.0  \n",
       "Michael Polish        3395.5    3624.00   21873.0  \n",
       "Randal Kleiser       11245.5   41162.50  232940.0  \n",
       "Brian Brough           606.5    1048.75    1842.0  "
      ]
     },
     "metadata": {},
     "output_type": "display_data"
    },
    {
     "name": "stdout",
     "output_type": "stream",
     "text": [
      "83\n"
     ]
    }
   ],
   "source": [
    "var_rank = df.loc[df['country'] == 'USA']\\\n",
    "    .groupby('director').filter(lambda x: (x['year'].mean() > 1990) & (x.shape[0] > 9))\\\n",
    "    .groupby('director')[['avg_vote', 'votes']].describe().sort_values(by=('avg_vote', 'std'), ascending=False)\n",
    "\n",
    "display(var_rank.iloc[:10])\n",
    "print(var_rank.shape[0])"
   ]
  },
  {
   "cell_type": "code",
   "execution_count": 49,
   "metadata": {},
   "outputs": [
    {
     "data": {
      "text/html": [
       "<div>\n",
       "<style scoped>\n",
       "    .dataframe tbody tr th:only-of-type {\n",
       "        vertical-align: middle;\n",
       "    }\n",
       "\n",
       "    .dataframe tbody tr th {\n",
       "        vertical-align: top;\n",
       "    }\n",
       "\n",
       "    .dataframe thead tr th {\n",
       "        text-align: left;\n",
       "    }\n",
       "\n",
       "    .dataframe thead tr:last-of-type th {\n",
       "        text-align: right;\n",
       "    }\n",
       "</style>\n",
       "<table border=\"1\" class=\"dataframe\">\n",
       "  <thead>\n",
       "    <tr>\n",
       "      <th></th>\n",
       "      <th colspan=\"8\" halign=\"left\">avg_vote</th>\n",
       "      <th colspan=\"8\" halign=\"left\">votes</th>\n",
       "    </tr>\n",
       "    <tr>\n",
       "      <th></th>\n",
       "      <th>count</th>\n",
       "      <th>mean</th>\n",
       "      <th>std</th>\n",
       "      <th>min</th>\n",
       "      <th>25%</th>\n",
       "      <th>50%</th>\n",
       "      <th>75%</th>\n",
       "      <th>max</th>\n",
       "      <th>count</th>\n",
       "      <th>mean</th>\n",
       "      <th>std</th>\n",
       "      <th>min</th>\n",
       "      <th>25%</th>\n",
       "      <th>50%</th>\n",
       "      <th>75%</th>\n",
       "      <th>max</th>\n",
       "    </tr>\n",
       "    <tr>\n",
       "      <th>director</th>\n",
       "      <th></th>\n",
       "      <th></th>\n",
       "      <th></th>\n",
       "      <th></th>\n",
       "      <th></th>\n",
       "      <th></th>\n",
       "      <th></th>\n",
       "      <th></th>\n",
       "      <th></th>\n",
       "      <th></th>\n",
       "      <th></th>\n",
       "      <th></th>\n",
       "      <th></th>\n",
       "      <th></th>\n",
       "      <th></th>\n",
       "      <th></th>\n",
       "    </tr>\n",
       "  </thead>\n",
       "  <tbody>\n",
       "    <tr>\n",
       "      <th>Peter Bogdanovich</th>\n",
       "      <td>13.0</td>\n",
       "      <td>6.446154</td>\n",
       "      <td>1.564510</td>\n",
       "      <td>2.9</td>\n",
       "      <td>6.000</td>\n",
       "      <td>7.00</td>\n",
       "      <td>7.600</td>\n",
       "      <td>8.1</td>\n",
       "      <td>13.0</td>\n",
       "      <td>12023.307692</td>\n",
       "      <td>1.510756e+04</td>\n",
       "      <td>870.0</td>\n",
       "      <td>1262.00</td>\n",
       "      <td>2426.0</td>\n",
       "      <td>19253.00</td>\n",
       "      <td>41283.0</td>\n",
       "    </tr>\n",
       "    <tr>\n",
       "      <th>Francis Ford Coppola</th>\n",
       "      <td>18.0</td>\n",
       "      <td>6.777778</td>\n",
       "      <td>1.444077</td>\n",
       "      <td>3.1</td>\n",
       "      <td>6.225</td>\n",
       "      <td>6.65</td>\n",
       "      <td>7.550</td>\n",
       "      <td>9.2</td>\n",
       "      <td>18.0</td>\n",
       "      <td>226387.555556</td>\n",
       "      <td>4.392702e+05</td>\n",
       "      <td>199.0</td>\n",
       "      <td>5078.25</td>\n",
       "      <td>23681.5</td>\n",
       "      <td>164311.25</td>\n",
       "      <td>1572674.0</td>\n",
       "    </tr>\n",
       "    <tr>\n",
       "      <th>Richard Marquand</th>\n",
       "      <td>5.0</td>\n",
       "      <td>6.320000</td>\n",
       "      <td>1.375500</td>\n",
       "      <td>4.5</td>\n",
       "      <td>5.800</td>\n",
       "      <td>6.50</td>\n",
       "      <td>6.500</td>\n",
       "      <td>8.3</td>\n",
       "      <td>5.0</td>\n",
       "      <td>188499.800000</td>\n",
       "      <td>4.134480e+05</td>\n",
       "      <td>411.0</td>\n",
       "      <td>560.00</td>\n",
       "      <td>598.0</td>\n",
       "      <td>12894.00</td>\n",
       "      <td>928036.0</td>\n",
       "    </tr>\n",
       "    <tr>\n",
       "      <th>Curtis Hanson</th>\n",
       "      <td>6.0</td>\n",
       "      <td>6.150000</td>\n",
       "      <td>1.361984</td>\n",
       "      <td>4.3</td>\n",
       "      <td>5.350</td>\n",
       "      <td>6.40</td>\n",
       "      <td>6.550</td>\n",
       "      <td>8.2</td>\n",
       "      <td>6.0</td>\n",
       "      <td>100734.333333</td>\n",
       "      <td>2.069594e+05</td>\n",
       "      <td>209.0</td>\n",
       "      <td>1345.00</td>\n",
       "      <td>20931.0</td>\n",
       "      <td>39724.25</td>\n",
       "      <td>521530.0</td>\n",
       "    </tr>\n",
       "    <tr>\n",
       "      <th>Sean Penn</th>\n",
       "      <td>4.0</td>\n",
       "      <td>6.525000</td>\n",
       "      <td>1.322561</td>\n",
       "      <td>4.9</td>\n",
       "      <td>5.950</td>\n",
       "      <td>6.55</td>\n",
       "      <td>7.125</td>\n",
       "      <td>8.1</td>\n",
       "      <td>4.0</td>\n",
       "      <td>157547.000000</td>\n",
       "      <td>2.695851e+05</td>\n",
       "      <td>4409.0</td>\n",
       "      <td>10514.00</td>\n",
       "      <td>32543.5</td>\n",
       "      <td>179576.50</td>\n",
       "      <td>560692.0</td>\n",
       "    </tr>\n",
       "    <tr>\n",
       "      <th>Timothy A. Chey</th>\n",
       "      <td>6.0</td>\n",
       "      <td>6.250000</td>\n",
       "      <td>1.291124</td>\n",
       "      <td>4.4</td>\n",
       "      <td>5.775</td>\n",
       "      <td>6.05</td>\n",
       "      <td>6.850</td>\n",
       "      <td>8.2</td>\n",
       "      <td>6.0</td>\n",
       "      <td>1447.500000</td>\n",
       "      <td>5.878295e+02</td>\n",
       "      <td>788.0</td>\n",
       "      <td>923.50</td>\n",
       "      <td>1510.5</td>\n",
       "      <td>1812.50</td>\n",
       "      <td>2235.0</td>\n",
       "    </tr>\n",
       "    <tr>\n",
       "      <th>M. Night Shyamalan</th>\n",
       "      <td>10.0</td>\n",
       "      <td>5.970000</td>\n",
       "      <td>1.258791</td>\n",
       "      <td>4.0</td>\n",
       "      <td>4.975</td>\n",
       "      <td>6.05</td>\n",
       "      <td>6.650</td>\n",
       "      <td>8.1</td>\n",
       "      <td>10.0</td>\n",
       "      <td>239264.500000</td>\n",
       "      <td>2.620792e+05</td>\n",
       "      <td>731.0</td>\n",
       "      <td>97982.50</td>\n",
       "      <td>169426.0</td>\n",
       "      <td>308493.25</td>\n",
       "      <td>894385.0</td>\n",
       "    </tr>\n",
       "    <tr>\n",
       "      <th>Stanley Kubrick</th>\n",
       "      <td>5.0</td>\n",
       "      <td>7.280000</td>\n",
       "      <td>1.202913</td>\n",
       "      <td>5.5</td>\n",
       "      <td>6.600</td>\n",
       "      <td>7.90</td>\n",
       "      <td>8.000</td>\n",
       "      <td>8.4</td>\n",
       "      <td>5.0</td>\n",
       "      <td>80954.400000</td>\n",
       "      <td>6.855686e+04</td>\n",
       "      <td>9649.0</td>\n",
       "      <td>20806.00</td>\n",
       "      <td>79652.0</td>\n",
       "      <td>121994.00</td>\n",
       "      <td>172671.0</td>\n",
       "    </tr>\n",
       "    <tr>\n",
       "      <th>Gus Van Sant</th>\n",
       "      <td>12.0</td>\n",
       "      <td>6.583333</td>\n",
       "      <td>1.169952</td>\n",
       "      <td>4.4</td>\n",
       "      <td>6.025</td>\n",
       "      <td>6.95</td>\n",
       "      <td>7.300</td>\n",
       "      <td>8.3</td>\n",
       "      <td>12.0</td>\n",
       "      <td>112868.166667</td>\n",
       "      <td>2.325699e+05</td>\n",
       "      <td>3674.0</td>\n",
       "      <td>16191.75</td>\n",
       "      <td>38458.5</td>\n",
       "      <td>82270.25</td>\n",
       "      <td>837379.0</td>\n",
       "    </tr>\n",
       "    <tr>\n",
       "      <th>Frank Darabont</th>\n",
       "      <td>4.0</td>\n",
       "      <td>7.975000</td>\n",
       "      <td>1.164403</td>\n",
       "      <td>6.9</td>\n",
       "      <td>7.050</td>\n",
       "      <td>7.85</td>\n",
       "      <td>8.775</td>\n",
       "      <td>9.3</td>\n",
       "      <td>4.0</td>\n",
       "      <td>929718.000000</td>\n",
       "      <td>1.008586e+06</td>\n",
       "      <td>51763.0</td>\n",
       "      <td>219886.75</td>\n",
       "      <td>694132.0</td>\n",
       "      <td>1403963.25</td>\n",
       "      <td>2278845.0</td>\n",
       "    </tr>\n",
       "  </tbody>\n",
       "</table>\n",
       "</div>"
      ],
      "text/plain": [
       "                     avg_vote                                               \\\n",
       "                        count      mean       std  min    25%   50%    75%   \n",
       "director                                                                     \n",
       "Peter Bogdanovich        13.0  6.446154  1.564510  2.9  6.000  7.00  7.600   \n",
       "Francis Ford Coppola     18.0  6.777778  1.444077  3.1  6.225  6.65  7.550   \n",
       "Richard Marquand          5.0  6.320000  1.375500  4.5  5.800  6.50  6.500   \n",
       "Curtis Hanson             6.0  6.150000  1.361984  4.3  5.350  6.40  6.550   \n",
       "Sean Penn                 4.0  6.525000  1.322561  4.9  5.950  6.55  7.125   \n",
       "Timothy A. Chey           6.0  6.250000  1.291124  4.4  5.775  6.05  6.850   \n",
       "M. Night Shyamalan       10.0  5.970000  1.258791  4.0  4.975  6.05  6.650   \n",
       "Stanley Kubrick           5.0  7.280000  1.202913  5.5  6.600  7.90  8.000   \n",
       "Gus Van Sant             12.0  6.583333  1.169952  4.4  6.025  6.95  7.300   \n",
       "Frank Darabont            4.0  7.975000  1.164403  6.9  7.050  7.85  8.775   \n",
       "\n",
       "                          votes                                        \\\n",
       "                      max count           mean           std      min   \n",
       "director                                                                \n",
       "Peter Bogdanovich     8.1  13.0   12023.307692  1.510756e+04    870.0   \n",
       "Francis Ford Coppola  9.2  18.0  226387.555556  4.392702e+05    199.0   \n",
       "Richard Marquand      8.3   5.0  188499.800000  4.134480e+05    411.0   \n",
       "Curtis Hanson         8.2   6.0  100734.333333  2.069594e+05    209.0   \n",
       "Sean Penn             8.1   4.0  157547.000000  2.695851e+05   4409.0   \n",
       "Timothy A. Chey       8.2   6.0    1447.500000  5.878295e+02    788.0   \n",
       "M. Night Shyamalan    8.1  10.0  239264.500000  2.620792e+05    731.0   \n",
       "Stanley Kubrick       8.4   5.0   80954.400000  6.855686e+04   9649.0   \n",
       "Gus Van Sant          8.3  12.0  112868.166667  2.325699e+05   3674.0   \n",
       "Frank Darabont        9.3   4.0  929718.000000  1.008586e+06  51763.0   \n",
       "\n",
       "                                                                  \n",
       "                            25%       50%         75%        max  \n",
       "director                                                          \n",
       "Peter Bogdanovich       1262.00    2426.0    19253.00    41283.0  \n",
       "Francis Ford Coppola    5078.25   23681.5   164311.25  1572674.0  \n",
       "Richard Marquand         560.00     598.0    12894.00   928036.0  \n",
       "Curtis Hanson           1345.00   20931.0    39724.25   521530.0  \n",
       "Sean Penn              10514.00   32543.5   179576.50   560692.0  \n",
       "Timothy A. Chey          923.50    1510.5     1812.50     2235.0  \n",
       "M. Night Shyamalan     97982.50  169426.0   308493.25   894385.0  \n",
       "Stanley Kubrick        20806.00   79652.0   121994.00   172671.0  \n",
       "Gus Van Sant           16191.75   38458.5    82270.25   837379.0  \n",
       "Frank Darabont        219886.75  694132.0  1403963.25  2278845.0  "
      ]
     },
     "metadata": {},
     "output_type": "display_data"
    },
    {
     "name": "stdout",
     "output_type": "stream",
     "text": [
      "66\n"
     ]
    }
   ],
   "source": [
    "var_rank = df.loc[df['country'] == 'USA']\\\n",
    "    .groupby('director').filter(lambda x: (x['avg_vote'].max() > 8) & (x['votes'].mean() > 1e3) & (x.shape[0] > 2))\\\n",
    "    .groupby('director')[['avg_vote', 'votes']].describe().sort_values(by=('avg_vote', 'std'), ascending=False)\n",
    "\n",
    "display(var_rank.iloc[:10])\n",
    "print(var_rank.shape[0])"
   ]
  },
  {
   "cell_type": "markdown",
   "metadata": {
    "id": "qWatCQq5Tg0k"
   },
   "source": [
    "# Q7 How many movies were made each year in US from 2000-2020"
   ]
  },
  {
   "cell_type": "code",
   "execution_count": 75,
   "metadata": {
    "colab": {
     "base_uri": "https://localhost:8080/"
    },
    "id": "R-lQrr2CVNgJ",
    "outputId": "5c78d049-6bd7-4777-da7a-42c797f7d62c"
   },
   "outputs": [
    {
     "data": {
      "text/plain": [
       "year  \n",
       "2000.0    1345\n",
       "2001.0    1447\n",
       "2002.0    1405\n",
       "2003.0    1496\n",
       "2004.0    1681\n",
       "2005.0    1827\n",
       "2006.0    2063\n",
       "2007.0    2074\n",
       "2008.0    2175\n",
       "2009.0    2298\n",
       "2010.0    2281\n",
       "2011.0    2429\n",
       "2012.0    2560\n",
       "2013.0    2783\n",
       "2014.0    2942\n",
       "2015.0    2977\n",
       "2016.0    3138\n",
       "2017.0    3329\n",
       "2018.0    3257\n",
       "2019.0    2841\n",
       "2020.0     789\n",
       "dtype: int64"
      ]
     },
     "execution_count": 75,
     "metadata": {},
     "output_type": "execute_result"
    }
   ],
   "source": [
    "df.loc[(df['year'] >= 2000) & (df['year'] <= 2020)][['year']].value_counts(sort=False)"
   ]
  },
  {
   "cell_type": "markdown",
   "metadata": {
    "id": "w5lKRgA9YN-r"
   },
   "source": [
    "# Q8 Visualize The Results of Q7!"
   ]
  },
  {
   "cell_type": "code",
   "execution_count": 76,
   "metadata": {
    "colab": {
     "base_uri": "https://localhost:8080/",
     "height": 377
    },
    "id": "hr33K2YlYSZg",
    "outputId": "73ee361f-7699-4093-b452-50651b88e8cc"
   },
   "outputs": [
    {
     "data": {
      "text/plain": [
       "<AxesSubplot:xlabel='year'>"
      ]
     },
     "execution_count": 76,
     "metadata": {},
     "output_type": "execute_result"
    },
    {
     "data": {
      "image/png": "[encoded data removed]",
      "text/plain": [
       "<Figure size 720x360 with 1 Axes>"
      ]
     },
     "metadata": {
      "needs_background": "light"
     },
     "output_type": "display_data"
    }
   ],
   "source": [
    "fig, ax = plt.subplots(figsize=(10,5))\n",
    "df.loc[(df['year'] >= 2000) & (df['year'] <= 2020)][['year']].value_counts(sort=False).plot(kind='bar', ax=ax)"
   ]
  },
  {
   "cell_type": "markdown",
   "metadata": {
    "id": "Ti3XEwmkYfSH"
   },
   "source": [
    "# Q9 For single country movies, how many movies were made each year in each country from 2000-2020, only include countries that made more than 1000 movies in that timeframe"
   ]
  },
  {
   "cell_type": "code",
   "execution_count": 92,
   "metadata": {},
   "outputs": [
    {
     "data": {
      "text/html": [
       "<div>\n",
       "<style scoped>\n",
       "    .dataframe tbody tr th:only-of-type {\n",
       "        vertical-align: middle;\n",
       "    }\n",
       "\n",
       "    .dataframe tbody tr th {\n",
       "        vertical-align: top;\n",
       "    }\n",
       "\n",
       "    .dataframe thead th {\n",
       "        text-align: right;\n",
       "    }\n",
       "</style>\n",
       "<table border=\"1\" class=\"dataframe\">\n",
       "  <thead>\n",
       "    <tr style=\"text-align: right;\">\n",
       "      <th></th>\n",
       "      <th>country</th>\n",
       "      <th>year</th>\n",
       "      <th>title</th>\n",
       "    </tr>\n",
       "  </thead>\n",
       "  <tbody>\n",
       "    <tr>\n",
       "      <th>0</th>\n",
       "      <td>Canada</td>\n",
       "      <td>2000.0</td>\n",
       "      <td>39</td>\n",
       "    </tr>\n",
       "    <tr>\n",
       "      <th>1</th>\n",
       "      <td>Canada</td>\n",
       "      <td>2001.0</td>\n",
       "      <td>51</td>\n",
       "    </tr>\n",
       "    <tr>\n",
       "      <th>2</th>\n",
       "      <td>Canada</td>\n",
       "      <td>2002.0</td>\n",
       "      <td>49</td>\n",
       "    </tr>\n",
       "    <tr>\n",
       "      <th>3</th>\n",
       "      <td>Canada</td>\n",
       "      <td>2003.0</td>\n",
       "      <td>38</td>\n",
       "    </tr>\n",
       "    <tr>\n",
       "      <th>4</th>\n",
       "      <td>Canada</td>\n",
       "      <td>2004.0</td>\n",
       "      <td>52</td>\n",
       "    </tr>\n",
       "    <tr>\n",
       "      <th>...</th>\n",
       "      <td>...</td>\n",
       "      <td>...</td>\n",
       "      <td>...</td>\n",
       "    </tr>\n",
       "    <tr>\n",
       "      <th>163</th>\n",
       "      <td>USA</td>\n",
       "      <td>2016.0</td>\n",
       "      <td>869</td>\n",
       "    </tr>\n",
       "    <tr>\n",
       "      <th>164</th>\n",
       "      <td>USA</td>\n",
       "      <td>2017.0</td>\n",
       "      <td>905</td>\n",
       "    </tr>\n",
       "    <tr>\n",
       "      <th>165</th>\n",
       "      <td>USA</td>\n",
       "      <td>2018.0</td>\n",
       "      <td>886</td>\n",
       "    </tr>\n",
       "    <tr>\n",
       "      <th>166</th>\n",
       "      <td>USA</td>\n",
       "      <td>2019.0</td>\n",
       "      <td>700</td>\n",
       "    </tr>\n",
       "    <tr>\n",
       "      <th>167</th>\n",
       "      <td>USA</td>\n",
       "      <td>2020.0</td>\n",
       "      <td>276</td>\n",
       "    </tr>\n",
       "  </tbody>\n",
       "</table>\n",
       "<p>168 rows × 3 columns</p>\n",
       "</div>"
      ],
      "text/plain": [
       "    country    year  title\n",
       "0    Canada  2000.0     39\n",
       "1    Canada  2001.0     51\n",
       "2    Canada  2002.0     49\n",
       "3    Canada  2003.0     38\n",
       "4    Canada  2004.0     52\n",
       "..      ...     ...    ...\n",
       "163     USA  2016.0    869\n",
       "164     USA  2017.0    905\n",
       "165     USA  2018.0    886\n",
       "166     USA  2019.0    700\n",
       "167     USA  2020.0    276\n",
       "\n",
       "[168 rows x 3 columns]"
      ]
     },
     "execution_count": 92,
     "metadata": {},
     "output_type": "execute_result"
    }
   ],
   "source": [
    "df.loc[(df['year'] >= 2000) & (df['year'] <= 2020) & (~df['country'].str.contains(',', na=False))]\\\n",
    "  .groupby('country').filter(lambda x: x.shape[0] > 1000)\\\n",
    "  .groupby(['country', 'year'])[['title']].count().reset_index()"
   ]
  },
  {
   "cell_type": "markdown",
   "metadata": {
    "id": "4OzmY6Hra7bQ"
   },
   "source": [
    "# Q10 Visualize the results from Q9!"
   ]
  },
  {
   "cell_type": "code",
   "execution_count": 103,
   "metadata": {},
   "outputs": [
    {
     "data": {
      "image/png": "[encoded data removed]",
      "text/plain": [
       "<Figure size 720x720 with 1 Axes>"
      ]
     },
     "metadata": {
      "needs_background": "light"
     },
     "output_type": "display_data"
    }
   ],
   "source": [
    "fig, ax = plt.subplots(figsize=(10,10))\n",
    "countries = df.loc[(df['year'] >= 2000) & (df['year'] <= 2020) & (~df['country'].str.contains(',', na=False))]\\\n",
    "  .groupby('country').filter(lambda x: x.shape[0] > 1000)\\\n",
    "  .groupby(['country', 'year'])[['title']].count().reset_index()\n",
    "\n",
    "for country in countries.groupby('country'):\n",
    "    country[1].plot(x='year', y='title', ax=ax, label=country[0])\n"
   ]
  }
 ],
 "metadata": {
  "colab": {
   "collapsed_sections": [],
   "include_colab_link": true,
   "name": "E1_Descriptive_Statistics_Data_Hunt.ipynb",
   "provenance": [],
   "toc_visible": true
  },
  "kernelspec": {
   "display_name": "Python 3 (ipykernel)",
   "language": "python",
   "name": "python3"
  },
  "language_info": {
   "codemirror_mode": {
    "name": "ipython",
    "version": 3
   },
   "file_extension": ".py",
   "mimetype": "text/x-python",
   "name": "python",
   "nbconvert_exporter": "python",
   "pygments_lexer": "ipython3",
   "version": "3.9.7"
  }
 },
 "nbformat": 4,
 "nbformat_minor": 4
}
