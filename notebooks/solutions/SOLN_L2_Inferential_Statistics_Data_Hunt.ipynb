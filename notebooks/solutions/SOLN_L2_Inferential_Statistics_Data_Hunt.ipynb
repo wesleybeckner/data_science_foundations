{
 "cells": [
  {
   "cell_type": "markdown",
   "metadata": {
    "colab_type": "text",
    "id": "view-in-github"
   },
   "source": [
    "<a href=\"https://colab.research.google.com/github/wesleybeckner/data_science_foundations/blob/main/notebooks/solutions/SOLN_L2_Inferential_Statistics_Data_Hunt.ipynb\" target=\"_parent\"><img src=\"https://colab.research.google.com/assets/colab-badge.svg\" alt=\"Open In Colab\"/></a>"
   ]
  },
  {
   "cell_type": "markdown",
   "metadata": {
    "id": "Czd8_5UEr9Lw"
   },
   "source": [
    "# Data Science Foundations <br> Lab 2: Data Hunt II\n",
    "\n",
    "**Instructor**: Wesley Beckner\n",
    "\n",
    "**Contact**: wesleybeckner@gmail.com\n",
    "\n",
    "---\n",
    "\n",
    "<br>\n",
    "\n",
    "<p align=center>\n",
    "<img src=\"https://raw.githubusercontent.com/wesleybeckner/technology_fundamentals/main/assets/datahunt2.png\" width=1000px></img>\n",
    "</p>\n",
    "\n",
    "<p align=center>\n",
    "That's right you heard correctly. It's the data hunt part TWO.\n",
    "</p>\n",
    "\n",
    "\n",
    "\n"
   ]
  },
  {
   "cell_type": "markdown",
   "metadata": {
    "id": "jc0SbuFeQBwW"
   },
   "source": [
    "<a name='x.0'></a>\n",
    "\n",
    "## Preparing Environment and Importing Data"
   ]
  },
  {
   "cell_type": "markdown",
   "metadata": {
    "id": "RGyB72UymbBW"
   },
   "source": [
    "### Import Packages"
   ]
  },
  {
   "cell_type": "code",
   "execution_count": null,
   "metadata": {
    "colab": {
     "base_uri": "https://localhost:8080/"
    },
    "id": "_LXd3PX5l4cv",
    "outputId": "c534d46b-0297-471c-dfae-5247f779f819"
   },
   "outputs": [
    {
     "name": "stdout",
     "output_type": "stream",
     "text": [
      "Requirement already satisfied: plotly in /usr/local/lib/python3.7/dist-packages (4.4.1)\n",
      "Collecting plotly\n",
      "  Downloading plotly-5.1.0-py2.py3-none-any.whl (20.6 MB)\n",
      "\u001b[K     |████████████████████████████████| 20.6 MB 1.3 MB/s \n",
      "\u001b[?25hRequirement already satisfied: six in /usr/local/lib/python3.7/dist-packages (from plotly) (1.15.0)\n",
      "Collecting tenacity>=6.2.0\n",
      "  Downloading tenacity-8.0.1-py3-none-any.whl (24 kB)\n",
      "Installing collected packages: tenacity, plotly\n",
      "  Attempting uninstall: plotly\n",
      "    Found existing installation: plotly 4.4.1\n",
      "    Uninstalling plotly-4.4.1:\n",
      "      Successfully uninstalled plotly-4.4.1\n",
      "Successfully installed plotly-5.1.0 tenacity-8.0.1\n"
     ]
    }
   ],
   "source": [
    "!pip install -U plotly"
   ]
  },
  {
   "cell_type": "code",
   "execution_count": 1,
   "metadata": {
    "id": "W2T0y3LiRWRE"
   },
   "outputs": [],
   "source": [
    "# our standard libraries\n",
    "import pandas as pd\n",
    "import numpy as np\n",
    "import matplotlib.pyplot as plt\n",
    "import plotly.express as px\n",
    "import seaborn as sns\n",
    "from ipywidgets import interact\n",
    "\n",
    "# our stats libraries\n",
    "import random\n",
    "import scipy.stats as stats\n",
    "import statsmodels.api as sm\n",
    "from statsmodels.formula.api import ols\n",
    "import scipy\n",
    "\n",
    "# our scikit-Learn library for the regression models\n",
    "import sklearn         \n",
    "from sklearn import linear_model\n",
    "from sklearn.model_selection import train_test_split\n",
    "from sklearn.metrics import mean_squared_error, r2_score"
   ]
  },
  {
   "cell_type": "markdown",
   "metadata": {
    "id": "FgDmvxcGSBmQ"
   },
   "source": [
    "### Import and Clean Data"
   ]
  },
  {
   "cell_type": "code",
   "execution_count": 2,
   "metadata": {
    "id": "bc5hS-N7RXwL"
   },
   "outputs": [],
   "source": [
    "df = pd.read_csv(\"https://raw.githubusercontent.com/wesleybeckner/\"\\\n",
    "                 \"technology_fundamentals/main/assets/truffle_rates.csv\")\n",
    "df = df.loc[df['rate'] > 0]"
   ]
  },
  {
   "cell_type": "code",
   "execution_count": 3,
   "metadata": {
    "colab": {
     "base_uri": "https://localhost:8080/",
     "height": 205
    },
    "id": "PHc4bAvHRZr0",
    "outputId": "dd47f338-5ac2-4ab9-98ef-f1ac8b916ada"
   },
   "outputs": [
    {
     "data": {
      "text/html": [
       "<div>\n",
       "<style scoped>\n",
       "    .dataframe tbody tr th:only-of-type {\n",
       "        vertical-align: middle;\n",
       "    }\n",
       "\n",
       "    .dataframe tbody tr th {\n",
       "        vertical-align: top;\n",
       "    }\n",
       "\n",
       "    .dataframe thead th {\n",
       "        text-align: right;\n",
       "    }\n",
       "</style>\n",
       "<table border=\"1\" class=\"dataframe\">\n",
       "  <thead>\n",
       "    <tr style=\"text-align: right;\">\n",
       "      <th></th>\n",
       "      <th>base_cake</th>\n",
       "      <th>truffle_type</th>\n",
       "      <th>primary_flavor</th>\n",
       "      <th>secondary_flavor</th>\n",
       "      <th>color_group</th>\n",
       "      <th>rate</th>\n",
       "    </tr>\n",
       "  </thead>\n",
       "  <tbody>\n",
       "    <tr>\n",
       "      <th>0</th>\n",
       "      <td>Chiffon</td>\n",
       "      <td>Candy Outer</td>\n",
       "      <td>Cherry Cream Spice</td>\n",
       "      <td>Ginger Beer</td>\n",
       "      <td>Tiffany</td>\n",
       "      <td>0.167097</td>\n",
       "    </tr>\n",
       "    <tr>\n",
       "      <th>1</th>\n",
       "      <td>Chiffon</td>\n",
       "      <td>Candy Outer</td>\n",
       "      <td>Cherry Cream Spice</td>\n",
       "      <td>Ginger Beer</td>\n",
       "      <td>Tiffany</td>\n",
       "      <td>0.153827</td>\n",
       "    </tr>\n",
       "    <tr>\n",
       "      <th>2</th>\n",
       "      <td>Chiffon</td>\n",
       "      <td>Candy Outer</td>\n",
       "      <td>Cherry Cream Spice</td>\n",
       "      <td>Ginger Beer</td>\n",
       "      <td>Tiffany</td>\n",
       "      <td>0.100299</td>\n",
       "    </tr>\n",
       "    <tr>\n",
       "      <th>3</th>\n",
       "      <td>Chiffon</td>\n",
       "      <td>Candy Outer</td>\n",
       "      <td>Cherry Cream Spice</td>\n",
       "      <td>Ginger Beer</td>\n",
       "      <td>Tiffany</td>\n",
       "      <td>0.333008</td>\n",
       "    </tr>\n",
       "    <tr>\n",
       "      <th>4</th>\n",
       "      <td>Chiffon</td>\n",
       "      <td>Candy Outer</td>\n",
       "      <td>Cherry Cream Spice</td>\n",
       "      <td>Ginger Beer</td>\n",
       "      <td>Tiffany</td>\n",
       "      <td>0.078108</td>\n",
       "    </tr>\n",
       "  </tbody>\n",
       "</table>\n",
       "</div>"
      ],
      "text/plain": [
       "  base_cake truffle_type      primary_flavor secondary_flavor color_group  \\\n",
       "0   Chiffon  Candy Outer  Cherry Cream Spice      Ginger Beer     Tiffany   \n",
       "1   Chiffon  Candy Outer  Cherry Cream Spice      Ginger Beer     Tiffany   \n",
       "2   Chiffon  Candy Outer  Cherry Cream Spice      Ginger Beer     Tiffany   \n",
       "3   Chiffon  Candy Outer  Cherry Cream Spice      Ginger Beer     Tiffany   \n",
       "4   Chiffon  Candy Outer  Cherry Cream Spice      Ginger Beer     Tiffany   \n",
       "\n",
       "       rate  \n",
       "0  0.167097  \n",
       "1  0.153827  \n",
       "2  0.100299  \n",
       "3  0.333008  \n",
       "4  0.078108  "
      ]
     },
     "execution_count": 3,
     "metadata": {},
     "output_type": "execute_result"
    }
   ],
   "source": [
    "df.head()"
   ]
  },
  {
   "cell_type": "code",
   "execution_count": 4,
   "metadata": {
    "colab": {
     "base_uri": "https://localhost:8080/"
    },
    "id": "pdPTRVkcRfkt",
    "outputId": "7eaae227-f3a1-4da2-e654-319308bb3bc9"
   },
   "outputs": [
    {
     "data": {
      "text/plain": [
       "(9210, 6)"
      ]
     },
     "execution_count": 4,
     "metadata": {},
     "output_type": "execute_result"
    }
   ],
   "source": [
    "df.shape"
   ]
  },
  {
   "cell_type": "markdown",
   "metadata": {
    "id": "YtHQrinLSGY7"
   },
   "source": [
    "## Exploratory Data Analysis"
   ]
  },
  {
   "cell_type": "markdown",
   "metadata": {
    "id": "VH_AZxaznT7X"
   },
   "source": [
    "### Q1 Finding Influential Features\n",
    "\n",
    "Which of the five features (base_cake, truffle_type, primary_flavor, secondary_flavor, color_group) of the truffles is most influential on production rate?\n",
    "\n",
    "Back your answer with both a visualization of the distributions (boxplot, kernel denisty estimate, histogram, violin plot) and a statistical test (moods median, ANOVA, t-test)\n",
    "\n",
    "* Be sure: \n",
    "    * everything is labeled (can you improve your labels with additional descriptive statistical information e.g. indicate mean, std, etc.)\n",
    "    * you meet the assumptions of your statistical test"
   ]
  },
  {
   "cell_type": "markdown",
   "metadata": {
    "id": "9hcRY1iZJcVD"
   },
   "source": [
    "#### Q1.1 Visualization\n",
    "\n",
    "Use any number of visualizations. Here is an example to get you started:"
   ]
  },
  {
   "cell_type": "code",
   "execution_count": 5,
   "metadata": {
    "colab": {
     "base_uri": "https://localhost:8080/",
     "height": 731
    },
    "id": "t1fJaiTrURsF",
    "outputId": "7ce1df4a-5f73-48b9-c36a-9bd337494288"
   },
   "outputs": [
    {
     "data": {
      "text/plain": [
       "<AxesSubplot:xlabel='rate', ylabel='Density'>"
      ]
     },
     "execution_count": 5,
     "metadata": {},
     "output_type": "execute_result"
    },
    {
     "data": {
      "image/png": "[encoded data removed]",
      "text/plain": [
       "<Figure size 864x864 with 2 Axes>"
      ]
     },
     "metadata": {
      "needs_background": "light"
     },
     "output_type": "display_data"
    }
   ],
   "source": [
    "# Example: a KDE of the truffle_type and base_cake columns\n",
    "\n",
    "fig, ax = plt.subplots(2, 1, figsize=(12,12))\n",
    "sns.kdeplot(x=df['rate'], hue=df['truffle_type'], fill=True, ax=ax[0])\n",
    "sns.kdeplot(x=df['rate'], hue=df['base_cake'], fill=True, ax=ax[1])"
   ]
  },
  {
   "cell_type": "code",
   "execution_count": 9,
   "metadata": {},
   "outputs": [
    {
     "name": "stderr",
     "output_type": "stream",
     "text": [
      "/home/wbeckner/anaconda3/envs/py39/lib/python3.9/site-packages/IPython/core/pylabtools.py:151: UserWarning: Glyph 9 (\t) missing from current font.\n",
      "  fig.canvas.print_figure(bytes_io, **kw)\n"
     ]
    },
    {
     "data": {
      "image/png": "[encoded data removed]",
      "text/plain": [
       "<Figure size 720x2880 with 5 Axes>"
      ]
     },
     "metadata": {
      "needs_background": "light"
     },
     "output_type": "display_data"
    }
   ],
   "source": [
    "fig, ax = plt.subplots(5, 1, figsize=(10,40))\n",
    "for idx, col in enumerate(df.columns[:-1]):\n",
    "    df.boxplot(by=col, column='rate', ax=ax[idx])"
   ]
  },
  {
   "cell_type": "markdown",
   "metadata": {
    "id": "LI9L5Pu6Jowc"
   },
   "source": [
    "#### Q1.2 Statistical Analysis\n",
    "\n",
    "What statistical tests can you perform to evaluate your hypothesis from the visualizations (maybe you think one particular feature is significant). Here's an ANOVA on the `truffle_type` column to get you started:\n",
    "\n"
   ]
  },
  {
   "cell_type": "code",
   "execution_count": 10,
   "metadata": {
    "colab": {
     "base_uri": "https://localhost:8080/",
     "height": 111
    },
    "id": "HC2QSAsRJ_3L",
    "outputId": "2940fbd9-07c6-4cad-f2ac-f0688899a439"
   },
   "outputs": [
    {
     "data": {
      "text/html": [
       "<div>\n",
       "<style scoped>\n",
       "    .dataframe tbody tr th:only-of-type {\n",
       "        vertical-align: middle;\n",
       "    }\n",
       "\n",
       "    .dataframe tbody tr th {\n",
       "        vertical-align: top;\n",
       "    }\n",
       "\n",
       "    .dataframe thead th {\n",
       "        text-align: right;\n",
       "    }\n",
       "</style>\n",
       "<table border=\"1\" class=\"dataframe\">\n",
       "  <thead>\n",
       "    <tr style=\"text-align: right;\">\n",
       "      <th></th>\n",
       "      <th>sum_sq</th>\n",
       "      <th>df</th>\n",
       "      <th>F</th>\n",
       "      <th>PR(&gt;F)</th>\n",
       "    </tr>\n",
       "  </thead>\n",
       "  <tbody>\n",
       "    <tr>\n",
       "      <th>C(truffle_type)</th>\n",
       "      <td>36.383370</td>\n",
       "      <td>2.0</td>\n",
       "      <td>302.005</td>\n",
       "      <td>9.199611e-128</td>\n",
       "    </tr>\n",
       "    <tr>\n",
       "      <th>Residual</th>\n",
       "      <td>554.596254</td>\n",
       "      <td>9207.0</td>\n",
       "      <td>NaN</td>\n",
       "      <td>NaN</td>\n",
       "    </tr>\n",
       "  </tbody>\n",
       "</table>\n",
       "</div>"
      ],
      "text/plain": [
       "                     sum_sq      df        F         PR(>F)\n",
       "C(truffle_type)   36.383370     2.0  302.005  9.199611e-128\n",
       "Residual         554.596254  9207.0      NaN            NaN"
      ]
     },
     "metadata": {},
     "output_type": "display_data"
    }
   ],
   "source": [
    "model = ols('rate ~ C({})'.format('truffle_type'), data=df).fit()\n",
    "anova_table = sm.stats.anova_lm(model, typ=2)\n",
    "display(anova_table)"
   ]
  },
  {
   "cell_type": "markdown",
   "metadata": {
    "id": "75rrrrLdKE4k"
   },
   "source": [
    "Is this P value significant? What is the null hypothesis? How do we check the assumptions of ANOVA? "
   ]
  },
  {
   "cell_type": "markdown",
   "metadata": {},
   "source": [
    "> Answer: All groups fail for normal distribution of residuals and homogeneity of variances. So we cannot use ANOVA with this data:"
   ]
  },
  {
   "cell_type": "code",
   "execution_count": 19,
   "metadata": {
    "colab": {
     "base_uri": "https://localhost:8080/",
     "height": 1000
    },
    "id": "H1BCa3kWTb91",
    "outputId": "b13b773e-fde6-4349-9a26-85bfb76d5e52"
   },
   "outputs": [
    {
     "data": {
      "text/html": [
       "<div>\n",
       "<style scoped>\n",
       "    .dataframe tbody tr th:only-of-type {\n",
       "        vertical-align: middle;\n",
       "    }\n",
       "\n",
       "    .dataframe tbody tr th {\n",
       "        vertical-align: top;\n",
       "    }\n",
       "\n",
       "    .dataframe thead th {\n",
       "        text-align: right;\n",
       "    }\n",
       "</style>\n",
       "<table border=\"1\" class=\"dataframe\">\n",
       "  <thead>\n",
       "    <tr style=\"text-align: right;\">\n",
       "      <th></th>\n",
       "      <th>sum_sq</th>\n",
       "      <th>df</th>\n",
       "      <th>F</th>\n",
       "      <th>PR(&gt;F)</th>\n",
       "    </tr>\n",
       "  </thead>\n",
       "  <tbody>\n",
       "    <tr>\n",
       "      <th>C(base_cake)</th>\n",
       "      <td>331.373550</td>\n",
       "      <td>5.0</td>\n",
       "      <td>2349.684756</td>\n",
       "      <td>0.0</td>\n",
       "    </tr>\n",
       "    <tr>\n",
       "      <th>Residual</th>\n",
       "      <td>259.606073</td>\n",
       "      <td>9204.0</td>\n",
       "      <td>NaN</td>\n",
       "      <td>NaN</td>\n",
       "    </tr>\n",
       "  </tbody>\n",
       "</table>\n",
       "</div>"
      ],
      "text/plain": [
       "                  sum_sq      df            F  PR(>F)\n",
       "C(base_cake)  331.373550     5.0  2349.684756     0.0\n",
       "Residual      259.606073  9204.0          NaN     NaN"
      ]
     },
     "metadata": {},
     "output_type": "display_data"
    },
    {
     "name": "stdout",
     "output_type": "stream",
     "text": [
      "Shapiro-Wilk\n",
      "\tstatistic=0.93, pvalue=0.00e+00\n",
      "\treject: True\n",
      "Bartlett\n",
      "\tstatistic=619.37, pvalue=1.32e-131\n",
      "\treject: True\n"
     ]
    },
    {
     "name": "stderr",
     "output_type": "stream",
     "text": [
      "/home/wbeckner/anaconda3/envs/py39/lib/python3.9/site-packages/scipy/stats/morestats.py:1760: UserWarning: p-value may not be accurate for N > 5000.\n",
      "  warnings.warn(\"p-value may not be accurate for N > 5000.\")\n"
     ]
    },
    {
     "data": {
      "text/html": [
       "<div>\n",
       "<style scoped>\n",
       "    .dataframe tbody tr th:only-of-type {\n",
       "        vertical-align: middle;\n",
       "    }\n",
       "\n",
       "    .dataframe tbody tr th {\n",
       "        vertical-align: top;\n",
       "    }\n",
       "\n",
       "    .dataframe thead th {\n",
       "        text-align: right;\n",
       "    }\n",
       "</style>\n",
       "<table border=\"1\" class=\"dataframe\">\n",
       "  <thead>\n",
       "    <tr style=\"text-align: right;\">\n",
       "      <th></th>\n",
       "      <th>sum_sq</th>\n",
       "      <th>df</th>\n",
       "      <th>F</th>\n",
       "      <th>PR(&gt;F)</th>\n",
       "    </tr>\n",
       "  </thead>\n",
       "  <tbody>\n",
       "    <tr>\n",
       "      <th>C(truffle_type)</th>\n",
       "      <td>36.383370</td>\n",
       "      <td>2.0</td>\n",
       "      <td>302.005</td>\n",
       "      <td>9.199611e-128</td>\n",
       "    </tr>\n",
       "    <tr>\n",
       "      <th>Residual</th>\n",
       "      <td>554.596254</td>\n",
       "      <td>9207.0</td>\n",
       "      <td>NaN</td>\n",
       "      <td>NaN</td>\n",
       "    </tr>\n",
       "  </tbody>\n",
       "</table>\n",
       "</div>"
      ],
      "text/plain": [
       "                     sum_sq      df        F         PR(>F)\n",
       "C(truffle_type)   36.383370     2.0  302.005  9.199611e-128\n",
       "Residual         554.596254  9207.0      NaN            NaN"
      ]
     },
     "metadata": {},
     "output_type": "display_data"
    },
    {
     "name": "stdout",
     "output_type": "stream",
     "text": [
      "Shapiro-Wilk\n",
      "\tstatistic=0.96, pvalue=1.37e-42\n",
      "\treject: True\n",
      "Bartlett\n",
      "\tstatistic=533.02, pvalue=1.80e-116\n",
      "\treject: True\n"
     ]
    },
    {
     "name": "stderr",
     "output_type": "stream",
     "text": [
      "/home/wbeckner/anaconda3/envs/py39/lib/python3.9/site-packages/scipy/stats/morestats.py:1760: UserWarning: p-value may not be accurate for N > 5000.\n",
      "  warnings.warn(\"p-value may not be accurate for N > 5000.\")\n"
     ]
    },
    {
     "data": {
      "text/html": [
       "<div>\n",
       "<style scoped>\n",
       "    .dataframe tbody tr th:only-of-type {\n",
       "        vertical-align: middle;\n",
       "    }\n",
       "\n",
       "    .dataframe tbody tr th {\n",
       "        vertical-align: top;\n",
       "    }\n",
       "\n",
       "    .dataframe thead th {\n",
       "        text-align: right;\n",
       "    }\n",
       "</style>\n",
       "<table border=\"1\" class=\"dataframe\">\n",
       "  <thead>\n",
       "    <tr style=\"text-align: right;\">\n",
       "      <th></th>\n",
       "      <th>sum_sq</th>\n",
       "      <th>df</th>\n",
       "      <th>F</th>\n",
       "      <th>PR(&gt;F)</th>\n",
       "    </tr>\n",
       "  </thead>\n",
       "  <tbody>\n",
       "    <tr>\n",
       "      <th>C(primary_flavor)</th>\n",
       "      <td>159.105452</td>\n",
       "      <td>47.0</td>\n",
       "      <td>71.815842</td>\n",
       "      <td>0.0</td>\n",
       "    </tr>\n",
       "    <tr>\n",
       "      <th>Residual</th>\n",
       "      <td>431.874171</td>\n",
       "      <td>9162.0</td>\n",
       "      <td>NaN</td>\n",
       "      <td>NaN</td>\n",
       "    </tr>\n",
       "  </tbody>\n",
       "</table>\n",
       "</div>"
      ],
      "text/plain": [
       "                       sum_sq      df          F  PR(>F)\n",
       "C(primary_flavor)  159.105452    47.0  71.815842     0.0\n",
       "Residual           431.874171  9162.0        NaN     NaN"
      ]
     },
     "metadata": {},
     "output_type": "display_data"
    },
    {
     "name": "stdout",
     "output_type": "stream",
     "text": [
      "Shapiro-Wilk\n",
      "\tstatistic=0.97, pvalue=6.49e-38\n",
      "\treject: True\n",
      "Bartlett\n"
     ]
    },
    {
     "name": "stderr",
     "output_type": "stream",
     "text": [
      "/home/wbeckner/anaconda3/envs/py39/lib/python3.9/site-packages/scipy/stats/morestats.py:1760: UserWarning: p-value may not be accurate for N > 5000.\n",
      "  warnings.warn(\"p-value may not be accurate for N > 5000.\")\n"
     ]
    },
    {
     "name": "stdout",
     "output_type": "stream",
     "text": [
      "\tstatistic=1609.00, pvalue=1.85e-306\n",
      "\treject: True\n"
     ]
    },
    {
     "data": {
      "text/html": [
       "<div>\n",
       "<style scoped>\n",
       "    .dataframe tbody tr th:only-of-type {\n",
       "        vertical-align: middle;\n",
       "    }\n",
       "\n",
       "    .dataframe tbody tr th {\n",
       "        vertical-align: top;\n",
       "    }\n",
       "\n",
       "    .dataframe thead th {\n",
       "        text-align: right;\n",
       "    }\n",
       "</style>\n",
       "<table border=\"1\" class=\"dataframe\">\n",
       "  <thead>\n",
       "    <tr style=\"text-align: right;\">\n",
       "      <th></th>\n",
       "      <th>sum_sq</th>\n",
       "      <th>df</th>\n",
       "      <th>F</th>\n",
       "      <th>PR(&gt;F)</th>\n",
       "    </tr>\n",
       "  </thead>\n",
       "  <tbody>\n",
       "    <tr>\n",
       "      <th>C(secondary_flavor)</th>\n",
       "      <td>115.773877</td>\n",
       "      <td>28.0</td>\n",
       "      <td>79.884192</td>\n",
       "      <td>0.0</td>\n",
       "    </tr>\n",
       "    <tr>\n",
       "      <th>Residual</th>\n",
       "      <td>475.205747</td>\n",
       "      <td>9181.0</td>\n",
       "      <td>NaN</td>\n",
       "      <td>NaN</td>\n",
       "    </tr>\n",
       "  </tbody>\n",
       "</table>\n",
       "</div>"
      ],
      "text/plain": [
       "                         sum_sq      df          F  PR(>F)\n",
       "C(secondary_flavor)  115.773877    28.0  79.884192     0.0\n",
       "Residual             475.205747  9181.0        NaN     NaN"
      ]
     },
     "metadata": {},
     "output_type": "display_data"
    },
    {
     "name": "stdout",
     "output_type": "stream",
     "text": [
      "Shapiro-Wilk\n",
      "\tstatistic=0.97, pvalue=4.34e-39\n",
      "\treject: True\n",
      "Bartlett\n",
      "\tstatistic=1224.49, pvalue=3.55e-240\n",
      "\treject: True\n"
     ]
    },
    {
     "name": "stderr",
     "output_type": "stream",
     "text": [
      "/home/wbeckner/anaconda3/envs/py39/lib/python3.9/site-packages/scipy/stats/morestats.py:1760: UserWarning: p-value may not be accurate for N > 5000.\n",
      "  warnings.warn(\"p-value may not be accurate for N > 5000.\")\n"
     ]
    },
    {
     "data": {
      "text/html": [
       "<div>\n",
       "<style scoped>\n",
       "    .dataframe tbody tr th:only-of-type {\n",
       "        vertical-align: middle;\n",
       "    }\n",
       "\n",
       "    .dataframe tbody tr th {\n",
       "        vertical-align: top;\n",
       "    }\n",
       "\n",
       "    .dataframe thead th {\n",
       "        text-align: right;\n",
       "    }\n",
       "</style>\n",
       "<table border=\"1\" class=\"dataframe\">\n",
       "  <thead>\n",
       "    <tr style=\"text-align: right;\">\n",
       "      <th></th>\n",
       "      <th>sum_sq</th>\n",
       "      <th>df</th>\n",
       "      <th>F</th>\n",
       "      <th>PR(&gt;F)</th>\n",
       "    </tr>\n",
       "  </thead>\n",
       "  <tbody>\n",
       "    <tr>\n",
       "      <th>C(color_group)</th>\n",
       "      <td>33.878491</td>\n",
       "      <td>11.0</td>\n",
       "      <td>50.849974</td>\n",
       "      <td>1.873235e-109</td>\n",
       "    </tr>\n",
       "    <tr>\n",
       "      <th>Residual</th>\n",
       "      <td>557.101132</td>\n",
       "      <td>9198.0</td>\n",
       "      <td>NaN</td>\n",
       "      <td>NaN</td>\n",
       "    </tr>\n",
       "  </tbody>\n",
       "</table>\n",
       "</div>"
      ],
      "text/plain": [
       "                    sum_sq      df          F         PR(>F)\n",
       "C(color_group)   33.878491    11.0  50.849974  1.873235e-109\n",
       "Residual        557.101132  9198.0        NaN            NaN"
      ]
     },
     "metadata": {},
     "output_type": "display_data"
    },
    {
     "name": "stdout",
     "output_type": "stream",
     "text": [
      "Shapiro-Wilk\n",
      "\tstatistic=0.96, pvalue=1.40e-44\n",
      "\treject: True\n",
      "Bartlett\n",
      "\tstatistic=298.64, pvalue=1.69e-57\n",
      "\treject: True\n"
     ]
    },
    {
     "name": "stderr",
     "output_type": "stream",
     "text": [
      "/home/wbeckner/anaconda3/envs/py39/lib/python3.9/site-packages/scipy/stats/morestats.py:1760: UserWarning: p-value may not be accurate for N > 5000.\n",
      "  warnings.warn(\"p-value may not be accurate for N > 5000.\")\n"
     ]
    }
   ],
   "source": [
    "confidence_level = 0.05\n",
    "for idx, col in enumerate(df.columns[:-1]):\n",
    "    model = ols('rate ~ C({})'.format(col), data=df).fit()\n",
    "    anova_table = sm.stats.anova_lm(model, typ=2)\n",
    "    display(anova_table)\n",
    "    \n",
    "    print(\"Shapiro-Wilk\")\n",
    "    print(\"\\tstatistic={:.2f}, pvalue={:.2e}\".format(*stats.shapiro(model.resid)))\n",
    "    if stats.shapiro(model.resid).pvalue < confidence_level:\n",
    "      shapiro_rej = True\n",
    "    print(f\"\\treject: {shapiro_rej}\")\n",
    "    \n",
    "    print(\"Bartlett\")\n",
    "    gb = df.groupby(col)['rate']\n",
    "    w, pvalue = stats.bartlett(*[gb.get_group(x) for x in gb.groups])\n",
    "    print(\"\\tstatistic={:.2f}, pvalue={:.2e}\".format(w, pvalue))\n",
    "    if pvalue < confidence_level:\n",
    "      shapiro_rej = True\n",
    "    print(f\"\\treject: {shapiro_rej}\")"
   ]
  },
  {
   "cell_type": "markdown",
   "metadata": {},
   "source": [
    "Instead we might use Moods Median"
   ]
  },
  {
   "cell_type": "markdown",
   "metadata": {
    "id": "Mo9ZhVEgoRz0"
   },
   "source": [
    "### Q2 Finding Best and Worst Groups\n",
    "\n"
   ]
  },
  {
   "cell_type": "markdown",
   "metadata": {
    "id": "WS3yYqEWdkM4"
   },
   "source": [
    "#### Q2.1 Compare Every Group to the Whole\n",
    "\n",
    "Of the primary flavors (feature), what 5 flavors (groups) would you recommend Truffletopia discontinue?\n",
    "\n",
    "Iterate through every level (i.e. pound, cheese, sponge cakes) of every category (i.e. base cake, primary flavor, secondary flavor) and use moods median testing to compare the group distribution to the grand median rate."
   ]
  },
  {
   "cell_type": "code",
   "execution_count": 48,
   "metadata": {
    "colab": {
     "base_uri": "https://localhost:8080/"
    },
    "id": "qd_HiUhAYuLA",
    "outputId": "5a8ef94b-bc69-480f-f480-742c30c13e50"
   },
   "outputs": [
    {
     "name": "stdout",
     "output_type": "stream",
     "text": [
      "(98, 9)\n"
     ]
    }
   ],
   "source": [
    "moodsdf = pd.DataFrame()\n",
    "target = 'rate'\n",
    "for col in df.columns[:-1]:\n",
    "  for truff in df[col].unique():\n",
    "    group = df.loc[df[col] == truff][target]\n",
    "    pop = df.loc[~(df[col] == truff)][target]\n",
    "    stat, p, m, table = scipy.stats.median_test(group, pop)\n",
    "    median = np.median(group)\n",
    "    mean = np.mean(group)\n",
    "    size = len(group)\n",
    "    \n",
    "    moodsdf = pd.concat([moodsdf, \n",
    "                              pd.DataFrame([col, truff, \n",
    "                                            stat, p, m, mean, median, size,\n",
    "                                             table]).T])\n",
    "moodsdf.columns = ['descriptor', 'group', 'pearsons_chi_square', 'p_value', \n",
    "                'grand_median', 'group_mean', 'group_median', 'size', \n",
    "                'table']\n",
    "moodsdf['p_value'] = moodsdf['p_value'].astype(float)\n",
    "print(moodsdf.shape)"
   ]
  },
  {
   "cell_type": "markdown",
   "metadata": {
    "id": "kK3Nr6_Wd1EJ"
   },
   "source": [
    "After you've computed a moods median test on every group, filter any data above a significance level of 0.05"
   ]
  },
  {
   "cell_type": "code",
   "execution_count": 49,
   "metadata": {
    "colab": {
     "base_uri": "https://localhost:8080/"
    },
    "id": "qshLY-cXdgy5",
    "outputId": "0b0d8088-fc28-49e9-9a81-15d7b74758e2"
   },
   "outputs": [
    {
     "name": "stdout",
     "output_type": "stream",
     "text": [
      "(83, 9)\n"
     ]
    }
   ],
   "source": [
    "moodsdf = moodsdf.loc[(moodsdf['p_value'] < confidence_level)].sort_values('group_median')\n",
    "\n",
    "moodsdf = moodsdf.sort_values('group_median').reset_index(drop=True)\n",
    "print(moodsdf.shape)"
   ]
  },
  {
   "cell_type": "markdown",
   "metadata": {
    "id": "jlXtQXxXMJN_"
   },
   "source": [
    "Return the groups with the lowest median performance (your table need not look exactly like the one I've created)"
   ]
  },
  {
   "cell_type": "code",
   "execution_count": 50,
   "metadata": {
    "colab": {
     "base_uri": "https://localhost:8080/",
     "height": 1000
    },
    "id": "EtZ6mov6k-oE",
    "outputId": "7e86277b-b1bb-42d9-a558-d9a5c52f52cd"
   },
   "outputs": [
    {
     "data": {
      "text/html": [
       "<div>\n",
       "<style scoped>\n",
       "    .dataframe tbody tr th:only-of-type {\n",
       "        vertical-align: middle;\n",
       "    }\n",
       "\n",
       "    .dataframe tbody tr th {\n",
       "        vertical-align: top;\n",
       "    }\n",
       "\n",
       "    .dataframe thead th {\n",
       "        text-align: right;\n",
       "    }\n",
       "</style>\n",
       "<table border=\"1\" class=\"dataframe\">\n",
       "  <thead>\n",
       "    <tr style=\"text-align: right;\">\n",
       "      <th></th>\n",
       "      <th>descriptor</th>\n",
       "      <th>group</th>\n",
       "      <th>pearsons_chi_square</th>\n",
       "      <th>p_value</th>\n",
       "      <th>grand_median</th>\n",
       "      <th>group_mean</th>\n",
       "      <th>group_median</th>\n",
       "      <th>size</th>\n",
       "      <th>table</th>\n",
       "    </tr>\n",
       "  </thead>\n",
       "  <tbody>\n",
       "    <tr>\n",
       "      <th>0</th>\n",
       "      <td>secondary_flavor</td>\n",
       "      <td>Wild Cherry Cream</td>\n",
       "      <td>56.867453</td>\n",
       "      <td>4.661980e-14</td>\n",
       "      <td>0.310345</td>\n",
       "      <td>0.139998</td>\n",
       "      <td>0.085628</td>\n",
       "      <td>100</td>\n",
       "      <td>[[12, 4593], [88, 4517]]</td>\n",
       "    </tr>\n",
       "    <tr>\n",
       "      <th>1</th>\n",
       "      <td>primary_flavor</td>\n",
       "      <td>Coconut</td>\n",
       "      <td>56.867453</td>\n",
       "      <td>4.661980e-14</td>\n",
       "      <td>0.310345</td>\n",
       "      <td>0.139998</td>\n",
       "      <td>0.085628</td>\n",
       "      <td>100</td>\n",
       "      <td>[[12, 4593], [88, 4517]]</td>\n",
       "    </tr>\n",
       "    <tr>\n",
       "      <th>2</th>\n",
       "      <td>primary_flavor</td>\n",
       "      <td>Pink Lemonade</td>\n",
       "      <td>61.556345</td>\n",
       "      <td>4.302530e-15</td>\n",
       "      <td>0.310345</td>\n",
       "      <td>0.129178</td>\n",
       "      <td>0.092878</td>\n",
       "      <td>85</td>\n",
       "      <td>[[6, 4599], [79, 4526]]</td>\n",
       "    </tr>\n",
       "    <tr>\n",
       "      <th>3</th>\n",
       "      <td>primary_flavor</td>\n",
       "      <td>Chocolate</td>\n",
       "      <td>51.32026</td>\n",
       "      <td>7.846169e-13</td>\n",
       "      <td>0.310345</td>\n",
       "      <td>0.145727</td>\n",
       "      <td>0.095758</td>\n",
       "      <td>91</td>\n",
       "      <td>[[11, 4594], [80, 4525]]</td>\n",
       "    </tr>\n",
       "    <tr>\n",
       "      <th>4</th>\n",
       "      <td>primary_flavor</td>\n",
       "      <td>Wild Cherry Cream</td>\n",
       "      <td>43.545249</td>\n",
       "      <td>4.142688e-11</td>\n",
       "      <td>0.310345</td>\n",
       "      <td>0.148964</td>\n",
       "      <td>0.10588</td>\n",
       "      <td>70</td>\n",
       "      <td>[[7, 4598], [63, 4542]]</td>\n",
       "    </tr>\n",
       "    <tr>\n",
       "      <th>...</th>\n",
       "      <td>...</td>\n",
       "      <td>...</td>\n",
       "      <td>...</td>\n",
       "      <td>...</td>\n",
       "      <td>...</td>\n",
       "      <td>...</td>\n",
       "      <td>...</td>\n",
       "      <td>...</td>\n",
       "      <td>...</td>\n",
       "    </tr>\n",
       "    <tr>\n",
       "      <th>78</th>\n",
       "      <td>secondary_flavor</td>\n",
       "      <td>Vanilla</td>\n",
       "      <td>40.484134</td>\n",
       "      <td>1.982191e-10</td>\n",
       "      <td>0.310345</td>\n",
       "      <td>0.559808</td>\n",
       "      <td>0.664252</td>\n",
       "      <td>200</td>\n",
       "      <td>[[145, 4460], [55, 4550]]</td>\n",
       "    </tr>\n",
       "    <tr>\n",
       "      <th>79</th>\n",
       "      <td>primary_flavor</td>\n",
       "      <td>Orange</td>\n",
       "      <td>60.723646</td>\n",
       "      <td>6.567649e-15</td>\n",
       "      <td>0.310345</td>\n",
       "      <td>0.580579</td>\n",
       "      <td>0.681157</td>\n",
       "      <td>200</td>\n",
       "      <td>[[155, 4450], [45, 4560]]</td>\n",
       "    </tr>\n",
       "    <tr>\n",
       "      <th>80</th>\n",
       "      <td>primary_flavor</td>\n",
       "      <td>Plum</td>\n",
       "      <td>308.037116</td>\n",
       "      <td>5.845614e-69</td>\n",
       "      <td>0.310345</td>\n",
       "      <td>0.669126</td>\n",
       "      <td>0.681309</td>\n",
       "      <td>300</td>\n",
       "      <td>[[300, 4305], [0, 4605]]</td>\n",
       "    </tr>\n",
       "    <tr>\n",
       "      <th>81</th>\n",
       "      <td>primary_flavor</td>\n",
       "      <td>Cheesecake</td>\n",
       "      <td>99.085851</td>\n",
       "      <td>2.417896e-23</td>\n",
       "      <td>0.310345</td>\n",
       "      <td>0.745813</td>\n",
       "      <td>0.689802</td>\n",
       "      <td>100</td>\n",
       "      <td>[[100, 4505], [0, 4605]]</td>\n",
       "    </tr>\n",
       "    <tr>\n",
       "      <th>82</th>\n",
       "      <td>base_cake</td>\n",
       "      <td>Sponge</td>\n",
       "      <td>2107.437614</td>\n",
       "      <td>0.000000e+00</td>\n",
       "      <td>0.310345</td>\n",
       "      <td>0.711797</td>\n",
       "      <td>0.699679</td>\n",
       "      <td>1800</td>\n",
       "      <td>[[1774, 2831], [26, 4579]]</td>\n",
       "    </tr>\n",
       "  </tbody>\n",
       "</table>\n",
       "<p>83 rows × 9 columns</p>\n",
       "</div>"
      ],
      "text/plain": [
       "          descriptor              group pearsons_chi_square       p_value  \\\n",
       "0   secondary_flavor  Wild Cherry Cream           56.867453  4.661980e-14   \n",
       "1     primary_flavor            Coconut           56.867453  4.661980e-14   \n",
       "2     primary_flavor      Pink Lemonade           61.556345  4.302530e-15   \n",
       "3     primary_flavor          Chocolate            51.32026  7.846169e-13   \n",
       "4     primary_flavor  Wild Cherry Cream           43.545249  4.142688e-11   \n",
       "..               ...                ...                 ...           ...   \n",
       "78  secondary_flavor            Vanilla           40.484134  1.982191e-10   \n",
       "79    primary_flavor             Orange           60.723646  6.567649e-15   \n",
       "80    primary_flavor               Plum          308.037116  5.845614e-69   \n",
       "81    primary_flavor         Cheesecake           99.085851  2.417896e-23   \n",
       "82         base_cake             Sponge         2107.437614  0.000000e+00   \n",
       "\n",
       "   grand_median group_mean group_median  size                       table  \n",
       "0      0.310345   0.139998     0.085628   100    [[12, 4593], [88, 4517]]  \n",
       "1      0.310345   0.139998     0.085628   100    [[12, 4593], [88, 4517]]  \n",
       "2      0.310345   0.129178     0.092878    85     [[6, 4599], [79, 4526]]  \n",
       "3      0.310345   0.145727     0.095758    91    [[11, 4594], [80, 4525]]  \n",
       "4      0.310345   0.148964      0.10588    70     [[7, 4598], [63, 4542]]  \n",
       "..          ...        ...          ...   ...                         ...  \n",
       "78     0.310345   0.559808     0.664252   200   [[145, 4460], [55, 4550]]  \n",
       "79     0.310345   0.580579     0.681157   200   [[155, 4450], [45, 4560]]  \n",
       "80     0.310345   0.669126     0.681309   300    [[300, 4305], [0, 4605]]  \n",
       "81     0.310345   0.745813     0.689802   100    [[100, 4505], [0, 4605]]  \n",
       "82     0.310345   0.711797     0.699679  1800  [[1774, 2831], [26, 4579]]  \n",
       "\n",
       "[83 rows x 9 columns]"
      ]
     },
     "execution_count": 50,
     "metadata": {},
     "output_type": "execute_result"
    }
   ],
   "source": [
    "moodsdf"
   ]
  },
  {
   "cell_type": "markdown",
   "metadata": {
    "id": "jp-uR0FXeUgm"
   },
   "source": [
    "We would want to cut the following primary flavors. Check to see that you get a similar answer. rip wild cherry cream.\n",
    "\n",
    "```\n",
    "['Coconut', 'Pink Lemonade', 'Chocolate', 'Wild Cherry Cream', 'Gingersnap']\n",
    "```"
   ]
  },
  {
   "cell_type": "code",
   "execution_count": 52,
   "metadata": {
    "colab": {
     "base_uri": "https://localhost:8080/"
    },
    "id": "wsYJggTodioN",
    "outputId": "33049f4f-93ef-427b-e553-a85b6d2009f0"
   },
   "outputs": [
    {
     "data": {
      "text/html": [
       "<div>\n",
       "<style scoped>\n",
       "    .dataframe tbody tr th:only-of-type {\n",
       "        vertical-align: middle;\n",
       "    }\n",
       "\n",
       "    .dataframe tbody tr th {\n",
       "        vertical-align: top;\n",
       "    }\n",
       "\n",
       "    .dataframe thead th {\n",
       "        text-align: right;\n",
       "    }\n",
       "</style>\n",
       "<table border=\"1\" class=\"dataframe\">\n",
       "  <thead>\n",
       "    <tr style=\"text-align: right;\">\n",
       "      <th></th>\n",
       "      <th>descriptor</th>\n",
       "      <th>group</th>\n",
       "      <th>pearsons_chi_square</th>\n",
       "      <th>p_value</th>\n",
       "      <th>grand_median</th>\n",
       "      <th>group_mean</th>\n",
       "      <th>group_median</th>\n",
       "      <th>size</th>\n",
       "      <th>table</th>\n",
       "    </tr>\n",
       "  </thead>\n",
       "  <tbody>\n",
       "    <tr>\n",
       "      <th>1</th>\n",
       "      <td>primary_flavor</td>\n",
       "      <td>Coconut</td>\n",
       "      <td>56.867453</td>\n",
       "      <td>4.661980e-14</td>\n",
       "      <td>0.310345</td>\n",
       "      <td>0.139998</td>\n",
       "      <td>0.085628</td>\n",
       "      <td>100</td>\n",
       "      <td>[[12, 4593], [88, 4517]]</td>\n",
       "    </tr>\n",
       "    <tr>\n",
       "      <th>2</th>\n",
       "      <td>primary_flavor</td>\n",
       "      <td>Pink Lemonade</td>\n",
       "      <td>61.556345</td>\n",
       "      <td>4.302530e-15</td>\n",
       "      <td>0.310345</td>\n",
       "      <td>0.129178</td>\n",
       "      <td>0.092878</td>\n",
       "      <td>85</td>\n",
       "      <td>[[6, 4599], [79, 4526]]</td>\n",
       "    </tr>\n",
       "    <tr>\n",
       "      <th>3</th>\n",
       "      <td>primary_flavor</td>\n",
       "      <td>Chocolate</td>\n",
       "      <td>51.32026</td>\n",
       "      <td>7.846169e-13</td>\n",
       "      <td>0.310345</td>\n",
       "      <td>0.145727</td>\n",
       "      <td>0.095758</td>\n",
       "      <td>91</td>\n",
       "      <td>[[11, 4594], [80, 4525]]</td>\n",
       "    </tr>\n",
       "    <tr>\n",
       "      <th>4</th>\n",
       "      <td>primary_flavor</td>\n",
       "      <td>Wild Cherry Cream</td>\n",
       "      <td>43.545249</td>\n",
       "      <td>4.142688e-11</td>\n",
       "      <td>0.310345</td>\n",
       "      <td>0.148964</td>\n",
       "      <td>0.10588</td>\n",
       "      <td>70</td>\n",
       "      <td>[[7, 4598], [63, 4542]]</td>\n",
       "    </tr>\n",
       "    <tr>\n",
       "      <th>10</th>\n",
       "      <td>primary_flavor</td>\n",
       "      <td>Gingersnap</td>\n",
       "      <td>131.113519</td>\n",
       "      <td>2.338438e-30</td>\n",
       "      <td>0.310345</td>\n",
       "      <td>0.159268</td>\n",
       "      <td>0.143347</td>\n",
       "      <td>192</td>\n",
       "      <td>[[17, 4588], [175, 4430]]</td>\n",
       "    </tr>\n",
       "  </tbody>\n",
       "</table>\n",
       "</div>"
      ],
      "text/plain": [
       "        descriptor              group pearsons_chi_square       p_value  \\\n",
       "1   primary_flavor            Coconut           56.867453  4.661980e-14   \n",
       "2   primary_flavor      Pink Lemonade           61.556345  4.302530e-15   \n",
       "3   primary_flavor          Chocolate            51.32026  7.846169e-13   \n",
       "4   primary_flavor  Wild Cherry Cream           43.545249  4.142688e-11   \n",
       "10  primary_flavor         Gingersnap          131.113519  2.338438e-30   \n",
       "\n",
       "   grand_median group_mean group_median size                      table  \n",
       "1      0.310345   0.139998     0.085628  100   [[12, 4593], [88, 4517]]  \n",
       "2      0.310345   0.129178     0.092878   85    [[6, 4599], [79, 4526]]  \n",
       "3      0.310345   0.145727     0.095758   91   [[11, 4594], [80, 4525]]  \n",
       "4      0.310345   0.148964      0.10588   70    [[7, 4598], [63, 4542]]  \n",
       "10     0.310345   0.159268     0.143347  192  [[17, 4588], [175, 4430]]  "
      ]
     },
     "execution_count": 52,
     "metadata": {},
     "output_type": "execute_result"
    }
   ],
   "source": [
    "moodsdf.loc[moodsdf['descriptor'] == 'primary_flavor'][:5]"
   ]
  },
  {
   "cell_type": "markdown",
   "metadata": {
    "id": "W4oTTRqqfZox"
   },
   "source": [
    "#### Q2.2 Beyond Statistical Testing: Using Reasoning\n",
    "\n",
    "Let's look at the total profile of the products associated with the five worst primary flavors. Given the number of different products made with any of these flavors, would you alter your answer at all?\n",
    "\n",
    "> Answer: We would opt to only discontinue the gingersnap, and wild cherry cream flavors. The other flavors, Pink Lemonade, Chocolate, and Coconut may be subject to [Simpson's Paradox](https://www.britannica.com/topic/Simpsons-paradox) since we do not have adequate sampling of them with other categories"
   ]
  },
  {
   "cell_type": "code",
   "execution_count": 53,
   "metadata": {
    "colab": {
     "base_uri": "https://localhost:8080/",
     "height": 416
    },
    "id": "7Zwf3P9Hh9Le",
    "outputId": "31ba11ba-eaea-4c04-ef4f-c2d8d15b17da"
   },
   "outputs": [
    {
     "data": {
      "text/html": [
       "<div>\n",
       "<style scoped>\n",
       "    .dataframe tbody tr th:only-of-type {\n",
       "        vertical-align: middle;\n",
       "    }\n",
       "\n",
       "    .dataframe tbody tr th {\n",
       "        vertical-align: top;\n",
       "    }\n",
       "\n",
       "    .dataframe thead th {\n",
       "        text-align: right;\n",
       "    }\n",
       "</style>\n",
       "<table border=\"1\" class=\"dataframe\">\n",
       "  <thead>\n",
       "    <tr style=\"text-align: right;\">\n",
       "      <th></th>\n",
       "      <th></th>\n",
       "      <th></th>\n",
       "      <th></th>\n",
       "      <th></th>\n",
       "      <th>count</th>\n",
       "      <th>mean</th>\n",
       "      <th>std</th>\n",
       "      <th>min</th>\n",
       "      <th>25%</th>\n",
       "      <th>50%</th>\n",
       "      <th>75%</th>\n",
       "      <th>max</th>\n",
       "    </tr>\n",
       "    <tr>\n",
       "      <th>base_cake</th>\n",
       "      <th>truffle_type</th>\n",
       "      <th>primary_flavor</th>\n",
       "      <th>secondary_flavor</th>\n",
       "      <th>color_group</th>\n",
       "      <th></th>\n",
       "      <th></th>\n",
       "      <th></th>\n",
       "      <th></th>\n",
       "      <th></th>\n",
       "      <th></th>\n",
       "      <th></th>\n",
       "      <th></th>\n",
       "    </tr>\n",
       "  </thead>\n",
       "  <tbody>\n",
       "    <tr>\n",
       "      <th>Butter</th>\n",
       "      <th>Jelly Filled</th>\n",
       "      <th>Pink Lemonade</th>\n",
       "      <th>Butter Rum</th>\n",
       "      <th>Rose</th>\n",
       "      <td>85.0</td>\n",
       "      <td>0.129178</td>\n",
       "      <td>0.137326</td>\n",
       "      <td>0.000061</td>\n",
       "      <td>0.032887</td>\n",
       "      <td>0.092878</td>\n",
       "      <td>0.171350</td>\n",
       "      <td>0.860045</td>\n",
       "    </tr>\n",
       "    <tr>\n",
       "      <th rowspan=\"3\" valign=\"top\">Chiffon</th>\n",
       "      <th>Candy Outer</th>\n",
       "      <th>Wild Cherry Cream</th>\n",
       "      <th>Rock and Rye</th>\n",
       "      <th>Olive</th>\n",
       "      <td>17.0</td>\n",
       "      <td>0.094287</td>\n",
       "      <td>0.059273</td>\n",
       "      <td>0.010464</td>\n",
       "      <td>0.053976</td>\n",
       "      <td>0.077098</td>\n",
       "      <td>0.120494</td>\n",
       "      <td>0.229933</td>\n",
       "    </tr>\n",
       "    <tr>\n",
       "      <th>Chocolate Outer</th>\n",
       "      <th>Gingersnap</th>\n",
       "      <th>Dill Pickle</th>\n",
       "      <th>Burgundy</th>\n",
       "      <td>59.0</td>\n",
       "      <td>0.133272</td>\n",
       "      <td>0.080414</td>\n",
       "      <td>0.021099</td>\n",
       "      <td>0.069133</td>\n",
       "      <td>0.137972</td>\n",
       "      <td>0.172066</td>\n",
       "      <td>0.401387</td>\n",
       "    </tr>\n",
       "    <tr>\n",
       "      <th>Jelly Filled</th>\n",
       "      <th>Chocolate</th>\n",
       "      <th>Tutti Frutti</th>\n",
       "      <th>Burgundy</th>\n",
       "      <td>91.0</td>\n",
       "      <td>0.145727</td>\n",
       "      <td>0.135230</td>\n",
       "      <td>0.000033</td>\n",
       "      <td>0.044847</td>\n",
       "      <td>0.095758</td>\n",
       "      <td>0.185891</td>\n",
       "      <td>0.586570</td>\n",
       "    </tr>\n",
       "    <tr>\n",
       "      <th rowspan=\"4\" valign=\"top\">Pound</th>\n",
       "      <th>Candy Outer</th>\n",
       "      <th>Coconut</th>\n",
       "      <th>Wild Cherry Cream</th>\n",
       "      <th>Taupe</th>\n",
       "      <td>100.0</td>\n",
       "      <td>0.139998</td>\n",
       "      <td>0.147723</td>\n",
       "      <td>0.000705</td>\n",
       "      <td>0.036004</td>\n",
       "      <td>0.085628</td>\n",
       "      <td>0.187318</td>\n",
       "      <td>0.775210</td>\n",
       "    </tr>\n",
       "    <tr>\n",
       "      <th>Chocolate Outer</th>\n",
       "      <th>Gingersnap</th>\n",
       "      <th>Rock and Rye</th>\n",
       "      <th>Black</th>\n",
       "      <td>67.0</td>\n",
       "      <td>0.156160</td>\n",
       "      <td>0.110666</td>\n",
       "      <td>0.002846</td>\n",
       "      <td>0.074615</td>\n",
       "      <td>0.139572</td>\n",
       "      <td>0.241114</td>\n",
       "      <td>0.551898</td>\n",
       "    </tr>\n",
       "    <tr>\n",
       "      <th rowspan=\"2\" valign=\"top\">Jelly Filled</th>\n",
       "      <th>Gingersnap</th>\n",
       "      <th>Kiwi</th>\n",
       "      <th>Taupe</th>\n",
       "      <td>66.0</td>\n",
       "      <td>0.185662</td>\n",
       "      <td>0.132272</td>\n",
       "      <td>0.000014</td>\n",
       "      <td>0.086377</td>\n",
       "      <td>0.166340</td>\n",
       "      <td>0.247397</td>\n",
       "      <td>0.593016</td>\n",
       "    </tr>\n",
       "    <tr>\n",
       "      <th>Wild Cherry Cream</th>\n",
       "      <th>Mango</th>\n",
       "      <th>Taupe</th>\n",
       "      <td>53.0</td>\n",
       "      <td>0.166502</td>\n",
       "      <td>0.160090</td>\n",
       "      <td>0.001412</td>\n",
       "      <td>0.056970</td>\n",
       "      <td>0.108918</td>\n",
       "      <td>0.207306</td>\n",
       "      <td>0.787224</td>\n",
       "    </tr>\n",
       "  </tbody>\n",
       "</table>\n",
       "</div>"
      ],
      "text/plain": [
       "                                                                           count  \\\n",
       "base_cake truffle_type    primary_flavor    secondary_flavor  color_group          \n",
       "Butter    Jelly Filled    Pink Lemonade     Butter Rum        Rose          85.0   \n",
       "Chiffon   Candy Outer     Wild Cherry Cream Rock and Rye      Olive         17.0   \n",
       "          Chocolate Outer Gingersnap        Dill Pickle       Burgundy      59.0   \n",
       "          Jelly Filled    Chocolate         Tutti Frutti      Burgundy      91.0   \n",
       "Pound     Candy Outer     Coconut           Wild Cherry Cream Taupe        100.0   \n",
       "          Chocolate Outer Gingersnap        Rock and Rye      Black         67.0   \n",
       "          Jelly Filled    Gingersnap        Kiwi              Taupe         66.0   \n",
       "                          Wild Cherry Cream Mango             Taupe         53.0   \n",
       "\n",
       "                                                                               mean  \\\n",
       "base_cake truffle_type    primary_flavor    secondary_flavor  color_group             \n",
       "Butter    Jelly Filled    Pink Lemonade     Butter Rum        Rose         0.129178   \n",
       "Chiffon   Candy Outer     Wild Cherry Cream Rock and Rye      Olive        0.094287   \n",
       "          Chocolate Outer Gingersnap        Dill Pickle       Burgundy     0.133272   \n",
       "          Jelly Filled    Chocolate         Tutti Frutti      Burgundy     0.145727   \n",
       "Pound     Candy Outer     Coconut           Wild Cherry Cream Taupe        0.139998   \n",
       "          Chocolate Outer Gingersnap        Rock and Rye      Black        0.156160   \n",
       "          Jelly Filled    Gingersnap        Kiwi              Taupe        0.185662   \n",
       "                          Wild Cherry Cream Mango             Taupe        0.166502   \n",
       "\n",
       "                                                                                std  \\\n",
       "base_cake truffle_type    primary_flavor    secondary_flavor  color_group             \n",
       "Butter    Jelly Filled    Pink Lemonade     Butter Rum        Rose         0.137326   \n",
       "Chiffon   Candy Outer     Wild Cherry Cream Rock and Rye      Olive        0.059273   \n",
       "          Chocolate Outer Gingersnap        Dill Pickle       Burgundy     0.080414   \n",
       "          Jelly Filled    Chocolate         Tutti Frutti      Burgundy     0.135230   \n",
       "Pound     Candy Outer     Coconut           Wild Cherry Cream Taupe        0.147723   \n",
       "          Chocolate Outer Gingersnap        Rock and Rye      Black        0.110666   \n",
       "          Jelly Filled    Gingersnap        Kiwi              Taupe        0.132272   \n",
       "                          Wild Cherry Cream Mango             Taupe        0.160090   \n",
       "\n",
       "                                                                                min  \\\n",
       "base_cake truffle_type    primary_flavor    secondary_flavor  color_group             \n",
       "Butter    Jelly Filled    Pink Lemonade     Butter Rum        Rose         0.000061   \n",
       "Chiffon   Candy Outer     Wild Cherry Cream Rock and Rye      Olive        0.010464   \n",
       "          Chocolate Outer Gingersnap        Dill Pickle       Burgundy     0.021099   \n",
       "          Jelly Filled    Chocolate         Tutti Frutti      Burgundy     0.000033   \n",
       "Pound     Candy Outer     Coconut           Wild Cherry Cream Taupe        0.000705   \n",
       "          Chocolate Outer Gingersnap        Rock and Rye      Black        0.002846   \n",
       "          Jelly Filled    Gingersnap        Kiwi              Taupe        0.000014   \n",
       "                          Wild Cherry Cream Mango             Taupe        0.001412   \n",
       "\n",
       "                                                                                25%  \\\n",
       "base_cake truffle_type    primary_flavor    secondary_flavor  color_group             \n",
       "Butter    Jelly Filled    Pink Lemonade     Butter Rum        Rose         0.032887   \n",
       "Chiffon   Candy Outer     Wild Cherry Cream Rock and Rye      Olive        0.053976   \n",
       "          Chocolate Outer Gingersnap        Dill Pickle       Burgundy     0.069133   \n",
       "          Jelly Filled    Chocolate         Tutti Frutti      Burgundy     0.044847   \n",
       "Pound     Candy Outer     Coconut           Wild Cherry Cream Taupe        0.036004   \n",
       "          Chocolate Outer Gingersnap        Rock and Rye      Black        0.074615   \n",
       "          Jelly Filled    Gingersnap        Kiwi              Taupe        0.086377   \n",
       "                          Wild Cherry Cream Mango             Taupe        0.056970   \n",
       "\n",
       "                                                                                50%  \\\n",
       "base_cake truffle_type    primary_flavor    secondary_flavor  color_group             \n",
       "Butter    Jelly Filled    Pink Lemonade     Butter Rum        Rose         0.092878   \n",
       "Chiffon   Candy Outer     Wild Cherry Cream Rock and Rye      Olive        0.077098   \n",
       "          Chocolate Outer Gingersnap        Dill Pickle       Burgundy     0.137972   \n",
       "          Jelly Filled    Chocolate         Tutti Frutti      Burgundy     0.095758   \n",
       "Pound     Candy Outer     Coconut           Wild Cherry Cream Taupe        0.085628   \n",
       "          Chocolate Outer Gingersnap        Rock and Rye      Black        0.139572   \n",
       "          Jelly Filled    Gingersnap        Kiwi              Taupe        0.166340   \n",
       "                          Wild Cherry Cream Mango             Taupe        0.108918   \n",
       "\n",
       "                                                                                75%  \\\n",
       "base_cake truffle_type    primary_flavor    secondary_flavor  color_group             \n",
       "Butter    Jelly Filled    Pink Lemonade     Butter Rum        Rose         0.171350   \n",
       "Chiffon   Candy Outer     Wild Cherry Cream Rock and Rye      Olive        0.120494   \n",
       "          Chocolate Outer Gingersnap        Dill Pickle       Burgundy     0.172066   \n",
       "          Jelly Filled    Chocolate         Tutti Frutti      Burgundy     0.185891   \n",
       "Pound     Candy Outer     Coconut           Wild Cherry Cream Taupe        0.187318   \n",
       "          Chocolate Outer Gingersnap        Rock and Rye      Black        0.241114   \n",
       "          Jelly Filled    Gingersnap        Kiwi              Taupe        0.247397   \n",
       "                          Wild Cherry Cream Mango             Taupe        0.207306   \n",
       "\n",
       "                                                                                max  \n",
       "base_cake truffle_type    primary_flavor    secondary_flavor  color_group            \n",
       "Butter    Jelly Filled    Pink Lemonade     Butter Rum        Rose         0.860045  \n",
       "Chiffon   Candy Outer     Wild Cherry Cream Rock and Rye      Olive        0.229933  \n",
       "          Chocolate Outer Gingersnap        Dill Pickle       Burgundy     0.401387  \n",
       "          Jelly Filled    Chocolate         Tutti Frutti      Burgundy     0.586570  \n",
       "Pound     Candy Outer     Coconut           Wild Cherry Cream Taupe        0.775210  \n",
       "          Chocolate Outer Gingersnap        Rock and Rye      Black        0.551898  \n",
       "          Jelly Filled    Gingersnap        Kiwi              Taupe        0.593016  \n",
       "                          Wild Cherry Cream Mango             Taupe        0.787224  "
      ]
     },
     "execution_count": 53,
     "metadata": {},
     "output_type": "execute_result"
    }
   ],
   "source": [
    "# 1. filter df for only bottom five flavors\n",
    "# 2. groupby all columns besides rate\n",
    "# 3. describe the rate column.\n",
    "\n",
    "# by doing this we can evaluate just how much sampling variety we have for the\n",
    "# worst performing flavors.\n",
    "\n",
    "bottom_five = ['Coconut', 'Pink Lemonade', 'Chocolate', 'Wild Cherry Cream', 'Gingersnap']\n",
    "df.loc[df['primary_flavor'].isin(bottom_five)].groupby(list(df.columns[:-1]))['rate'].describe()"
   ]
  },
  {
   "cell_type": "markdown",
   "metadata": {
    "id": "lUwNm7e3lSBx"
   },
   "source": [
    "#### Q2.3 The Jelly Filled Conundrum\n",
    "\n",
    "Your boss notices the Jelly filled truffles are being produced much faster than the candy outer truffles and suggests expanding into this product line. What is your response? Use the visualization tool below to help you think about this problem, then create any visualizations or analyses of your own.\n",
    "\n",
    "[sunburst charts](https://plotly.com/python/sunburst-charts/)\n",
    "\n",
    "> Answer: Another case of Simpson's Paradox. The real boost is due to the sponge cake base cake type. It is simply that we have been producing more of the sponge cakes that are jelly filled. In fact, jelly filled has a slightly worse performance than chocolate outer when paired with sponge cake. This can be visually verified by switching the menu item in `interact` to observe the effect of Jelly Filled on all its constituent products"
   ]
  },
  {
   "cell_type": "code",
   "execution_count": 54,
   "metadata": {
    "id": "MnPewKeYlaQw"
   },
   "outputs": [],
   "source": [
    "def sun(path=[['base_cake', 'truffle_type', 'primary_flavor', 'secondary_flavor', 'color_group'],\n",
    "              ['truffle_type', 'base_cake', 'primary_flavor', 'secondary_flavor', 'color_group']]):\n",
    "  fig = px.sunburst(df, path=path, \n",
    "                    color='rate', \n",
    "                    color_continuous_scale='viridis',\n",
    "                    )\n",
    "\n",
    "  fig.update_layout(\n",
    "      margin=dict(l=20, r=20, t=20, b=20),\n",
    "      height=650\n",
    "  )\n",
    "  fig.show()"
   ]
  },
  {
   "cell_type": "code",
   "execution_count": 55,
   "metadata": {
    "colab": {
     "base_uri": "https://localhost:8080/",
     "height": 717,
     "referenced_widgets": [
      "ca6531edaf2f45059c4fb02e62417b23",
      "53344885b5b94b9990a47b96ee478e6b",
      "6ea6d1fbb1274ec683f1c119876f7558",
      "3346455fe3fc4d4abd50bdeb4e45f421",
      "d19b98f9ff9b470a8c862530644ecaed",
      "a8595db2dafc466a91dfcda84cdac26f",
      "bd6fa24e982149aeb1f36634fec3b626"
     ]
    },
    "id": "WP6qim8dNxfH",
    "outputId": "d027b656-d6dd-40bf-e95a-3131f50a2804"
   },
   "outputs": [
    {
     "data": {
      "application/vnd.jupyter.widget-view+json": {
       "model_id": "918927350ebb4f4fb933ee22d55f0521",
       "version_major": 2,
       "version_minor": 0
      },
      "text/plain": [
       "interactive(children=(Dropdown(description='path', options=(['base_cake', 'truffle_type', 'primary_flavor', 's…"
      ]
     },
     "metadata": {},
     "output_type": "display_data"
    },
    {
     "data": {
      "text/plain": [
       "<function __main__.sun(path=[['base_cake', 'truffle_type', 'primary_flavor', 'secondary_flavor', 'color_group'], ['truffle_type', 'base_cake', 'primary_flavor', 'secondary_flavor', 'color_group']])>"
      ]
     },
     "execution_count": 55,
     "metadata": {},
     "output_type": "execute_result"
    }
   ],
   "source": [
    "interact(sun)"
   ]
  },
  {
   "cell_type": "markdown",
   "metadata": {},
   "source": [
    "This negative impact of Jelly filled is still obscured in the median analysis:"
   ]
  },
  {
   "cell_type": "code",
   "execution_count": 58,
   "metadata": {},
   "outputs": [
    {
     "data": {
      "text/html": [
       "<div>\n",
       "<style scoped>\n",
       "    .dataframe tbody tr th:only-of-type {\n",
       "        vertical-align: middle;\n",
       "    }\n",
       "\n",
       "    .dataframe tbody tr th {\n",
       "        vertical-align: top;\n",
       "    }\n",
       "\n",
       "    .dataframe thead th {\n",
       "        text-align: right;\n",
       "    }\n",
       "</style>\n",
       "<table border=\"1\" class=\"dataframe\">\n",
       "  <thead>\n",
       "    <tr style=\"text-align: right;\">\n",
       "      <th></th>\n",
       "      <th>descriptor</th>\n",
       "      <th>group</th>\n",
       "      <th>pearsons_chi_square</th>\n",
       "      <th>p_value</th>\n",
       "      <th>grand_median</th>\n",
       "      <th>group_mean</th>\n",
       "      <th>group_median</th>\n",
       "      <th>size</th>\n",
       "      <th>table</th>\n",
       "    </tr>\n",
       "  </thead>\n",
       "  <tbody>\n",
       "    <tr>\n",
       "      <th>32</th>\n",
       "      <td>truffle_type</td>\n",
       "      <td>Candy Outer</td>\n",
       "      <td>369.023049</td>\n",
       "      <td>3.054270e-82</td>\n",
       "      <td>0.310345</td>\n",
       "      <td>0.289822</td>\n",
       "      <td>0.249572</td>\n",
       "      <td>3352</td>\n",
       "      <td>[[1232, 3373], [2120, 2485]]</td>\n",
       "    </tr>\n",
       "    <tr>\n",
       "      <th>52</th>\n",
       "      <td>truffle_type</td>\n",
       "      <td>Jelly Filled</td>\n",
       "      <td>95.107432</td>\n",
       "      <td>1.803284e-22</td>\n",
       "      <td>0.310345</td>\n",
       "      <td>0.414813</td>\n",
       "      <td>0.365576</td>\n",
       "      <td>3450</td>\n",
       "      <td>[[1952, 2653], [1498, 3107]]</td>\n",
       "    </tr>\n",
       "    <tr>\n",
       "      <th>55</th>\n",
       "      <td>truffle_type</td>\n",
       "      <td>Chocolate Outer</td>\n",
       "      <td>105.424685</td>\n",
       "      <td>9.857421e-25</td>\n",
       "      <td>0.310345</td>\n",
       "      <td>0.427535</td>\n",
       "      <td>0.380527</td>\n",
       "      <td>2408</td>\n",
       "      <td>[[1421, 3184], [987, 3618]]</td>\n",
       "    </tr>\n",
       "  </tbody>\n",
       "</table>\n",
       "</div>"
      ],
      "text/plain": [
       "      descriptor            group pearsons_chi_square       p_value  \\\n",
       "32  truffle_type      Candy Outer          369.023049  3.054270e-82   \n",
       "52  truffle_type     Jelly Filled           95.107432  1.803284e-22   \n",
       "55  truffle_type  Chocolate Outer          105.424685  9.857421e-25   \n",
       "\n",
       "   grand_median group_mean group_median  size                         table  \n",
       "32     0.310345   0.289822     0.249572  3352  [[1232, 3373], [2120, 2485]]  \n",
       "52     0.310345   0.414813     0.365576  3450  [[1952, 2653], [1498, 3107]]  \n",
       "55     0.310345   0.427535     0.380527  2408   [[1421, 3184], [987, 3618]]  "
      ]
     },
     "execution_count": 58,
     "metadata": {},
     "output_type": "execute_result"
    }
   ],
   "source": [
    "moodsdf.loc[moodsdf['descriptor'] == 'truffle_type']"
   ]
  },
  {
   "cell_type": "markdown",
   "metadata": {},
   "source": [
    "So we must account for the affect of the sponge cake:"
   ]
  },
  {
   "cell_type": "code",
   "execution_count": 69,
   "metadata": {},
   "outputs": [
    {
     "name": "stdout",
     "output_type": "stream",
     "text": [
      "                     rate\n",
      "truffle_type             \n",
      "Candy Outer      0.289822\n",
      "Chocolate Outer  0.320189\n",
      "Jelly Filled     0.266877\n"
     ]
    },
    {
     "data": {
      "image/png": "[encoded data removed]",
      "text/plain": [
       "<Figure size 720x720 with 1 Axes>"
      ]
     },
     "metadata": {
      "needs_background": "light"
     },
     "output_type": "display_data"
    }
   ],
   "source": [
    "fig, ax = plt.subplots(figsize=(10,10))\n",
    "sns.boxplot(x='truffle_type', y='rate', data=df.loc[~(df['base_cake'] == 'Sponge')])\n",
    "print(df.loc[~(df['base_cake'] == 'Sponge')].groupby('truffle_type')[['rate']].mean())"
   ]
  },
  {
   "cell_type": "code",
   "execution_count": 70,
   "metadata": {},
   "outputs": [
    {
     "name": "stdout",
     "output_type": "stream",
     "text": [
      "                     rate\n",
      "truffle_type             \n",
      "Chocolate Outer  0.751005\n",
      "Jelly Filled     0.692193\n"
     ]
    },
    {
     "data": {
      "image/png": "[encoded data removed]",
      "text/plain": [
       "<Figure size 720x720 with 1 Axes>"
      ]
     },
     "metadata": {
      "needs_background": "light"
     },
     "output_type": "display_data"
    }
   ],
   "source": [
    "fig, ax = plt.subplots(figsize=(10,10))\n",
    "sns.boxplot(x='truffle_type', y='rate', data=df.loc[(df['base_cake'] == 'Sponge')])\n",
    "print(df.loc[(df['base_cake'] == 'Sponge')].groupby('truffle_type')[['rate']].mean())"
   ]
  }
 ],
 "metadata": {
  "colab": {
   "collapsed_sections": [],
   "include_colab_link": true,
   "name": "E2_Inferential_Statistics_Data_Hunt.ipynb",
   "provenance": [],
   "toc_visible": true
  },
  "kernelspec": {
   "display_name": "Python 3 (ipykernel)",
   "language": "python",
   "name": "python3"
  },
  "language_info": {
   "codemirror_mode": {
    "name": "ipython",
    "version": 3
   },
   "file_extension": ".py",
   "mimetype": "text/x-python",
   "name": "python",
   "nbconvert_exporter": "python",
   "pygments_lexer": "ipython3",
   "version": "3.9.7"
  },
  "widgets": {
   "application/vnd.jupyter.widget-state+json": {
    "3346455fe3fc4d4abd50bdeb4e45f421": {
     "model_module": "@jupyter-widgets/output",
     "model_module_version": "1.0.0",
     "model_name": "OutputModel",
     "state": {
      "_dom_classes": [],
      "_model_module": "@jupyter-widgets/output",
      "_model_module_version": "1.0.0",
      "_model_name": "OutputModel",
      "_view_count": null,
      "_view_module": "@jupyter-widgets/output",
      "_view_module_version": "1.0.0",
      "_view_name": "OutputView",
      "layout": "IPY_MODEL_bd6fa24e982149aeb1f36634fec3b626",
      "msg_id": "",
      "outputs": [
       {
        "metadata": {
         "tags": []
        },
        "output_type": "display_data",
        "text/html": "<html>\n<head><meta charset=\"utf-8\" /></head>\n<body>\n    <div>            <script src=\"https://cdnjs.cloudflare.com/ajax/libs/mathjax/2.7.5/MathJax.js?config=TeX-AMS-MML_SVG\"></script><script type=\"text/javascript\">if (window.MathJax) {MathJax.Hub.Config({SVG: {font: \"STIX-Web\"}});}</script>                <script type=\"text/javascript\">window.PlotlyConfig = {MathJaxConfig: 'local'};</script>\n        <script src=\"https://cdn.plot.ly/plotly-2.2.0.min.js\"></script>                <div id=\"5d6c46b3-63cd-49a2-819a-77ed7398ea4e\" class=\"plotly-graph-div\" style=\"height:650px; width:100%;\"></div>            <script type=\"text/javascript\">                                    window.PLOTLYENV=window.PLOTLYENV || {};                                    if (document.getElementById(\"5d6c46b3-63cd-49a2-819a-77ed7398ea4e\")) {                    Plotly.newPlot(                        \"5d6c46b3-63cd-49a2-819a-77ed7398ea4e\",                        [{\"branchvalues\":\"total\",\"customdata\":[[0.33018774245642285],[0.7106979679799147],[0.19021234536923243],[0.15915918457926348],[0.3340611804890019],[0.15708643029792074],[0.3032213911743909],[0.7351197056207388],[0.20906795033652809],[0.1842338766531142],[0.5944609724437866],[0.15615999578350775],[0.41266308924264195],[0.5106366098717889],[0.27825269489842525],[0.14066895482683622],[0.13327176791011908],[0.4235673794912471],[0.1794613528985576],[0.5136958264456242],[0.12910742466659508],[0.1575678533666948],[0.14572709837533032],[0.3920673485559146],[0.16333430080866027],[0.09981708170704863],[0.29918179601672507],[0.18474506932022755],[0.5926368836626965],[0.36111623687454414],[0.17548646213230246],[0.30696387438780426],[0.3167488456300813],[0.1769484247575082],[0.09428746530073139],[0.36310419792237125],[0.4737214933544505],[0.40687734886993526],[0.7352131149646667],[0.22904680967251487],[0.40387826783428515],[0.19565646449806193],[0.13436986076956955],[0.12917817857655342],[0.7224140322914733],[0.10639197603732764],[0.23475676669011183],[0.4618732539088553],[0.7584988042342463],[0.7458126804898364],[0.2838597734184713],[0.47574120010680404],[0.2261696247036355],[0.3864021327927984],[0.6847377814604083],[0.3207295752615321],[0.209158727872813],[0.49322930305512735],[0.708675473319422],[0.22515662934083333],[0.3315112060438541],[0.23488836632776333],[0.16876219946894466],[0.26438733964691025],[0.26536852526938887],[0.49705578697221975],[0.18566239017110073],[0.544808228773004],[0.5009895316248951],[0.16650156116798445],[0.29181401248262107],[0.2717929094491517],[0.7629552212295575],[0.7785577882804404],[0.13999757651814534],[0.6048328408048617],[0.12282032634463934],[0.2924586738262457],[0.8012765506228946],[0.2632984652094421],[0.435501781469431],[0.12250018704482012],[0.17575139402663434],[0.7743272977289982],[0.4156786985680219],[0.47890300197723257],[0.734595478294948],[0.1649863057350217],[0.24221286999387226],[0.7980543555958054],[0.7674390656342447],[0.19756086861536803],[0.23750224650856905],[0.22205578119428335],[0.28557892304674926],[0.08781898828913919],[0.37399302513374094],[0.3603023432884181],[0.34245521932827216],[0.44460257173115303],[0.41266308924264195],[0.5106366098717889],[0.17548646213230246],[0.435501781469431],[0.3920673485559146],[0.1649863057350217],[0.2838597734184713],[0.15708643029792074],[0.24221286999387226],[0.26438733964691025],[0.3032213911743909],[0.6048328408048617],[0.36310419792237125],[0.7980543555958054],[0.26536852526938887],[0.33018774245642285],[0.7351197056207388],[0.7674390656342447],[0.12917817857655342],[0.7224140322914733],[0.27825269489842525],[0.12250018704482012],[0.10639197603732764],[0.14066895482683622],[0.20906795033652809],[0.30696387438780426],[0.13327176791011908],[0.12282032634463934],[0.19756086861536803],[0.3167488456300813],[0.49705578697221975],[0.4235673794912471],[0.47574120010680404],[0.17575139402663434],[0.1794613528985576],[0.2261696247036355],[0.7743272977289982],[0.3864021327927984],[0.23750224650856905],[0.22205578119428335],[0.16333430080866027],[0.7106979679799147],[0.6847377814604083],[0.1769484247575082],[0.18566239017110073],[0.544808228773004],[0.1842338766531142],[0.23475676669011183],[0.5009895316248951],[0.28557892304674926],[0.4618732539088553],[0.4156786985680219],[0.19021234536923243],[0.3207295752615321],[0.16650156116798445],[0.209158727872813],[0.09981708170704863],[0.08781898828913919],[0.15915918457926348],[0.4737214933544505],[0.29918179601672507],[0.3340611804890019],[0.5136958264456242],[0.49322930305512735],[0.40687734886993526],[0.29181401248262107],[0.37399302513374094],[0.2924586738262457],[0.7352131149646667],[0.2717929094491517],[0.18474506932022755],[0.5944609724437866],[0.12910742466659508],[0.47890300197723257],[0.708675473319422],[0.22515662934083333],[0.15615999578350775],[0.22904680967251487],[0.3603023432884181],[0.09428746530073139],[0.1575678533666948],[0.34245521932827216],[0.5926368836626965],[0.8012765506228946],[0.3315112060438541],[0.14572709837533032],[0.40387826783428515],[0.21527241541291262],[0.7629552212295575],[0.36111623687454414],[0.7584988042342463],[0.734595478294948],[0.7458126804898364],[0.7785577882804404],[0.16876219946894466],[0.44460257173115303],[0.2632984652094421],[0.13436986076956955],[0.13999757651814534],[0.37399302513374094],[0.209158727872813],[0.36111623687454414],[0.3032213911743909],[0.17548646213230246],[0.734595478294948],[0.20906795033652809],[0.7584988042342463],[0.2838597734184713],[0.4737214933544505],[0.3864021327927984],[0.2924586738262457],[0.23750224650856905],[0.4156786985680219],[0.47890300197723257],[0.26536852526938887],[0.22205578119428335],[0.708675473319422],[0.7458126804898364],[0.6048328408048617],[0.33018774245642285],[0.5009895316248951],[0.17575139402663434],[0.14572709837533032],[0.1575678533666948],[0.7785577882804404],[0.28189438725285537],[0.13999757651814534],[0.34245521932827216],[0.435501781469431],[0.14177776525146632],[0.16333430080866027],[0.19021234536923243],[0.7352131149646667],[0.12282032634463934],[0.29918179601672507],[0.40387826783428515],[0.3315112060438541],[0.23411258009165897],[0.30696387438780426],[0.49322930305512735],[0.49705578697221975],[0.7106979679799147],[0.22515662934083333],[0.13327176791011908],[0.15615999578350775],[0.18566239017110073],[0.544808228773004],[0.41266308924264195],[0.3340611804890019],[0.16876219946894466],[0.3207295752615321],[0.7351197056207388],[0.1842338766531142],[0.18474506932022755],[0.4183349601435338],[0.09981708170704863],[0.2632984652094421],[0.08781898828913919],[0.1794613528985576],[0.6847377814604083],[0.10639197603732764],[0.7674390656342447],[0.5926368836626965],[0.4235673794912471],[0.22904680967251487],[0.36310419792237125],[0.7980543555958054],[0.12910742466659508],[0.23475676669011183],[0.1649863057350217],[0.2261696247036355],[0.5944609724437866],[0.14066895482683622],[0.7629552212295575],[0.19756086861536803],[0.12917817857655342],[0.5106366098717889],[0.7483706650102357],[0.15915918457926348],[0.3167488456300813],[0.8012765506228946],[0.1769484247575082],[0.13436986076956955],[0.40687734886993526],[0.3603023432884181],[0.29181401248262107],[0.5136958264456242],[0.24221286999387226],[0.26438733964691025],[0.4618732539088553],[0.09428746530073139],[0.16650156116798445],[0.47574120010680404],[0.17830275334709952],[0.1649863057350217],[0.13523859846551825],[0.5085676761458489],[0.45581936625145],[0.3523164965325786],[0.2202914335604565],[0.21227174614385336],[0.16056952104230807],[0.2696711371477475],[0.20632809354805828],[0.20496210926358696],[0.7510049883651138],[0.692193382711111],[0.3975433388003716],[0.4147915844531886],[0.37075258795931587],[0.2898218749574972],[0.427535007247141],[0.4148132667976123]],\"domain\":{\"x\":[0.0,1.0],\"y\":[0.0,1.0]},\"hovertemplate\":\"labels=%{label}<br>count=%{value}<br>parent=%{parent}<br>id=%{id}<br>rate=%{color}<extra></extra>\",\"ids\":[\"Candy Outer/Pound/Cherry Cola/Butter Rum/Amethyst\",\"Jelly Filled/Sponge/Ginger Ale/Hazelnut/Amethyst\",\"Candy Outer/Butter/Creme de Menthe/Mango/Amethyst\",\"Jelly Filled/Chiffon/Raspberry Ginger Ale/Mixed Berry/Amethyst\",\"Candy Outer/Pound/Grand Mariner/Mojito/Amethyst\",\"Candy Outer/Chiffon/Cream Soda/Banana/Black\",\"Candy Outer/Chiffon/Apricot/Black Currant/Black\",\"Chocolate Outer/Sponge/Horchata/Butter Rum/Black\",\"Chocolate Outer/Pound/Bavarian Cream/Dill Pickle/Black\",\"Candy Outer/Chiffon/Irish Cream/Kiwi/Black\",\"Jelly Filled/Sponge/Orange Pineapple\\tP/Pear/Black\",\"Chocolate Outer/Pound/Gingersnap/Rock and Rye/Black\",\"Jelly Filled/Cheese/Grand Mariner/Apple/Burgundy\",\"Candy Outer/Cheese/Plum/Apple/Burgundy\",\"Candy Outer/Tiramisu/Chocolate Mint/Cucumber/Burgundy\",\"Candy Outer/Butter/Pear/Cucumber/Burgundy\",\"Chocolate Outer/Chiffon/Gingersnap/Dill Pickle/Burgundy\",\"Jelly Filled/Cheese/Mango/Fuzzy Navel/Burgundy\",\"Chocolate Outer/Chiffon/Lemon Bar/Ginger Beer/Burgundy\",\"Chocolate Outer/Cheese/Spice/Mojito/Burgundy\",\"Jelly Filled/Butter/Orange Brandy/Peppermint/Burgundy\",\"Candy Outer/Butter/Chocolate Mint/Rum/Burgundy\",\"Jelly Filled/Chiffon/Chocolate/Tutti Frutti/Burgundy\",\"Chocolate Outer/Cheese/Kettle Corn/Apricot/Citrine\",\"Candy Outer/Pound/Cream Soda/Hazelnut/Citrine\",\"Jelly Filled/Pound/Kettle Corn/Mixed Berry/Citrine\",\"Candy Outer/Pound/Dill Pickle/Mojito/Citrine\",\"Candy Outer/Pound/Irish Cream/Pear/Citrine\",\"Jelly Filled/Sponge/Lemon Custard/Tangerine/Citrine\",\"Jelly Filled/Tiramisu/Amaretto/Vanilla/Citrine\",\"Jelly Filled/Chiffon/Apricot/Apricot/Olive\",\"Chocolate Outer/Tiramisu/Fruit Punch/Dill Pickle/Olive\",\"Candy Outer/Pound/Raspberry Ginger Ale/Egg Nog/Olive\",\"Jelly Filled/Cheese/Sassafras/Hazelnut/Olive\",\"Candy Outer/Chiffon/Wild Cherry Cream/Rock and Rye/Olive\",\"Candy Outer/Pound/Orange/Black Currant/Opal\",\"Candy Outer/Tiramisu/Birch Beer/Mojito/Opal\",\"Jelly Filled/Sponge/Sassafras/Papaya/Opal\",\"Jelly Filled/Sponge/Creme de Menthe/Pear/Opal\",\"Jelly Filled/Pound/Mango/Rock and Rye/Opal\",\"Chocolate Outer/Tiramisu/Dill Pickle/Tutti Frutti/Opal\",\"Chocolate Outer/Chiffon/Doughnut/Tutti Frutti/Opal\",\"Candy Outer/Chiffon/Sassafras/Whipped Cream/Opal\",\"Jelly Filled/Butter/Pink Lemonade/Butter Rum/Rose\",\"Chocolate Outer/Sponge/Plum/Butter Rum/Rose\",\"Candy Outer/Butter/Lemon Custard/Cucumber/Rose\",\"Candy Outer/Chiffon/Orange Brandy/Kiwi/Rose\",\"Chocolate Outer/Tiramisu/Vanilla/Lemon/Rose\",\"Jelly Filled/Sponge/Bavarian Cream/Vanilla/Rose\",\"Jelly Filled/Sponge/Cheesecake/Whipped Cream/Rose\",\"Candy Outer/Chiffon/Birch Beer/Banana/Slate\",\"Jelly Filled/Tiramisu/Wintergreen/Fuzzy Navel/Slate\",\"Chocolate Outer/Chiffon/Orange Pineapple\\tP/Ginger Beer/Slate\",\"Jelly Filled/Tiramisu/Birch Beer/Hazelnut/Slate\",\"Jelly Filled/Sponge/Lemon Bar/Hazelnut/Slate\",\"Candy Outer/Pound/Horchata/Mango/Slate\",\"Jelly Filled/Pound/Acai Berry/Mixed Berry/Slate\",\"Chocolate Outer/Cheese/Ginger Ale/Papaya/Slate\",\"Chocolate Outer/Sponge/Caramel Cream/Rock and Rye/Slate\",\"Candy Outer/Chiffon/Ginger Lime/Rock and Rye/Slate\",\"Jelly Filled/Tiramisu/Dill Pickle/Toffee/Slate\",\"Chocolate Outer/Chiffon/Doughnut/Tutti Frutti/Slate\",\"Jelly Filled/Butter/Horchata/Whipped Cream/Slate\",\"Jelly Filled/Tiramisu/Toasted Coconut/Black Cherry/Taupe\",\"Candy Outer/Butter/Caramel Cream/Butter Rum/Taupe\",\"Jelly Filled/Cheese/Ginger Ale/Fuzzy Navel/Taupe\",\"Jelly Filled/Pound/Gingersnap/Kiwi/Taupe\",\"Candy Outer/Cheese/Grand Mariner/Kiwi/Taupe\",\"Candy Outer/Tiramisu/Cherry Cola/Lemon/Taupe\",\"Jelly Filled/Pound/Wild Cherry Cream/Mango/Taupe\",\"Candy Outer/Pound/Sour/Papaya/Taupe\",\"Chocolate Outer/Chiffon/Doughnut/Pear/Taupe\",\"Jelly Filled/Sponge/Pear/Tutti Frutti/Taupe\",\"Jelly Filled/Sponge/Chocolate Mint/Whipped Cream/Taupe\",\"Candy Outer/Pound/Coconut/Wild Cherry Cream/Taupe\",\"Candy Outer/Cheese/Cherry Cola/Black Currant/Teal\",\"Jelly Filled/Butter/Dill Pickle/Egg Nog/Teal\",\"Candy Outer/Chiffon/Blueberry/Pear/Teal\",\"Jelly Filled/Sponge/Raspberry Ginger Ale/Tangerine/Teal\",\"Jelly Filled/Pound/Lemon/Whipped Cream/Teal\",\"Chocolate Outer/Cheese/Cream Soda/Apricot/Tiffany\",\"Candy Outer/Chiffon/Cream Soda/Cucumber/Tiffany\",\"Candy Outer/Chiffon/Cherry Cream Spice/Ginger Beer/Tiffany\",\"Chocolate Outer/Sponge/Plum/Ginger Beer/Tiffany\",\"Candy Outer/Tiramisu/Butter Pecan/Mango/Tiffany\",\"Chocolate Outer/Tiramisu/Butter Toffee/Rock and Rye/Tiffany\",\"Jelly Filled/Sponge/Apricot/Whipped Cream/Tiffany\",\"Chocolate Outer/Butter/Orange Pineapple\\tP/Apricot/White\",\"Jelly Filled/Cheese/Toasted Coconut/Black Cherry/White\",\"Chocolate Outer/Sponge/Orange/Black Currant/White\",\"Chocolate Outer/Sponge/Lemon Custard/Butter Rum/White\",\"Candy Outer/Pound/Pecan/Egg Nog/White\",\"Chocolate Outer/Pound/Butter Milk/Hazelnut/White\",\"Candy Outer/Chiffon/Caramel Cream/Hazelnut/White\",\"Candy Outer/Tiramisu/Chocolate Mint/Lemon/White\",\"Jelly Filled/Butter/Lemon Bar/Mixed Berry/White\",\"Candy Outer/Cheese/Acai Berry/Passion Fruit/White\",\"Jelly Filled/Cheese/Sour/Rock and Rye/White\",\"Jelly Filled/Cheese/Coffee/Tangerine/White\",\"Chocolate Outer/Cheese/Kettle Corn/Whipped Cream/White\",\"Jelly Filled/Cheese/Grand Mariner/Apple\",\"Candy Outer/Cheese/Plum/Apple\",\"Jelly Filled/Chiffon/Apricot/Apricot\",\"Chocolate Outer/Cheese/Cream Soda/Apricot\",\"Chocolate Outer/Cheese/Kettle Corn/Apricot\",\"Chocolate Outer/Butter/Orange Pineapple\\tP/Apricot\",\"Candy Outer/Chiffon/Birch Beer/Banana\",\"Candy Outer/Chiffon/Cream Soda/Banana\",\"Jelly Filled/Cheese/Toasted Coconut/Black Cherry\",\"Jelly Filled/Tiramisu/Toasted Coconut/Black Cherry\",\"Candy Outer/Chiffon/Apricot/Black Currant\",\"Candy Outer/Cheese/Cherry Cola/Black Currant\",\"Candy Outer/Pound/Orange/Black Currant\",\"Chocolate Outer/Sponge/Orange/Black Currant\",\"Candy Outer/Butter/Caramel Cream/Butter Rum\",\"Candy Outer/Pound/Cherry Cola/Butter Rum\",\"Chocolate Outer/Sponge/Horchata/Butter Rum\",\"Chocolate Outer/Sponge/Lemon Custard/Butter Rum\",\"Jelly Filled/Butter/Pink Lemonade/Butter Rum\",\"Chocolate Outer/Sponge/Plum/Butter Rum\",\"Candy Outer/Tiramisu/Chocolate Mint/Cucumber\",\"Candy Outer/Chiffon/Cream Soda/Cucumber\",\"Candy Outer/Butter/Lemon Custard/Cucumber\",\"Candy Outer/Butter/Pear/Cucumber\",\"Chocolate Outer/Pound/Bavarian Cream/Dill Pickle\",\"Chocolate Outer/Tiramisu/Fruit Punch/Dill Pickle\",\"Chocolate Outer/Chiffon/Gingersnap/Dill Pickle\",\"Jelly Filled/Butter/Dill Pickle/Egg Nog\",\"Candy Outer/Pound/Pecan/Egg Nog\",\"Candy Outer/Pound/Raspberry Ginger Ale/Egg Nog\",\"Jelly Filled/Cheese/Ginger Ale/Fuzzy Navel\",\"Jelly Filled/Cheese/Mango/Fuzzy Navel\",\"Jelly Filled/Tiramisu/Wintergreen/Fuzzy Navel\",\"Candy Outer/Chiffon/Cherry Cream Spice/Ginger Beer\",\"Chocolate Outer/Chiffon/Lemon Bar/Ginger Beer\",\"Chocolate Outer/Chiffon/Orange Pineapple\\tP/Ginger Beer\",\"Chocolate Outer/Sponge/Plum/Ginger Beer\",\"Jelly Filled/Tiramisu/Birch Beer/Hazelnut\",\"Chocolate Outer/Pound/Butter Milk/Hazelnut\",\"Candy Outer/Chiffon/Caramel Cream/Hazelnut\",\"Candy Outer/Pound/Cream Soda/Hazelnut\",\"Jelly Filled/Sponge/Ginger Ale/Hazelnut\",\"Jelly Filled/Sponge/Lemon Bar/Hazelnut\",\"Jelly Filled/Cheese/Sassafras/Hazelnut\",\"Jelly Filled/Pound/Gingersnap/Kiwi\",\"Candy Outer/Cheese/Grand Mariner/Kiwi\",\"Candy Outer/Chiffon/Irish Cream/Kiwi\",\"Candy Outer/Chiffon/Orange Brandy/Kiwi\",\"Candy Outer/Tiramisu/Cherry Cola/Lemon\",\"Candy Outer/Tiramisu/Chocolate Mint/Lemon\",\"Chocolate Outer/Tiramisu/Vanilla/Lemon\",\"Candy Outer/Tiramisu/Butter Pecan/Mango\",\"Candy Outer/Butter/Creme de Menthe/Mango\",\"Candy Outer/Pound/Horchata/Mango\",\"Jelly Filled/Pound/Wild Cherry Cream/Mango\",\"Jelly Filled/Pound/Acai Berry/Mixed Berry\",\"Jelly Filled/Pound/Kettle Corn/Mixed Berry\",\"Jelly Filled/Butter/Lemon Bar/Mixed Berry\",\"Jelly Filled/Chiffon/Raspberry Ginger Ale/Mixed Berry\",\"Candy Outer/Tiramisu/Birch Beer/Mojito\",\"Candy Outer/Pound/Dill Pickle/Mojito\",\"Candy Outer/Pound/Grand Mariner/Mojito\",\"Chocolate Outer/Cheese/Spice/Mojito\",\"Chocolate Outer/Cheese/Ginger Ale/Papaya\",\"Jelly Filled/Sponge/Sassafras/Papaya\",\"Candy Outer/Pound/Sour/Papaya\",\"Candy Outer/Cheese/Acai Berry/Passion Fruit\",\"Candy Outer/Chiffon/Blueberry/Pear\",\"Jelly Filled/Sponge/Creme de Menthe/Pear\",\"Chocolate Outer/Chiffon/Doughnut/Pear\",\"Candy Outer/Pound/Irish Cream/Pear\",\"Jelly Filled/Sponge/Orange Pineapple\\tP/Pear\",\"Jelly Filled/Butter/Orange Brandy/Peppermint\",\"Chocolate Outer/Tiramisu/Butter Toffee/Rock and Rye\",\"Chocolate Outer/Sponge/Caramel Cream/Rock and Rye\",\"Candy Outer/Chiffon/Ginger Lime/Rock and Rye\",\"Chocolate Outer/Pound/Gingersnap/Rock and Rye\",\"Jelly Filled/Pound/Mango/Rock and Rye\",\"Jelly Filled/Cheese/Sour/Rock and Rye\",\"Candy Outer/Chiffon/Wild Cherry Cream/Rock and Rye\",\"Candy Outer/Butter/Chocolate Mint/Rum\",\"Jelly Filled/Cheese/Coffee/Tangerine\",\"Jelly Filled/Sponge/Lemon Custard/Tangerine\",\"Jelly Filled/Sponge/Raspberry Ginger Ale/Tangerine\",\"Jelly Filled/Tiramisu/Dill Pickle/Toffee\",\"Jelly Filled/Chiffon/Chocolate/Tutti Frutti\",\"Chocolate Outer/Tiramisu/Dill Pickle/Tutti Frutti\",\"Chocolate Outer/Chiffon/Doughnut/Tutti Frutti\",\"Jelly Filled/Sponge/Pear/Tutti Frutti\",\"Jelly Filled/Tiramisu/Amaretto/Vanilla\",\"Jelly Filled/Sponge/Bavarian Cream/Vanilla\",\"Jelly Filled/Sponge/Apricot/Whipped Cream\",\"Jelly Filled/Sponge/Cheesecake/Whipped Cream\",\"Jelly Filled/Sponge/Chocolate Mint/Whipped Cream\",\"Jelly Filled/Butter/Horchata/Whipped Cream\",\"Chocolate Outer/Cheese/Kettle Corn/Whipped Cream\",\"Jelly Filled/Pound/Lemon/Whipped Cream\",\"Candy Outer/Chiffon/Sassafras/Whipped Cream\",\"Candy Outer/Pound/Coconut/Wild Cherry Cream\",\"Candy Outer/Cheese/Acai Berry\",\"Jelly Filled/Pound/Acai Berry\",\"Jelly Filled/Tiramisu/Amaretto\",\"Candy Outer/Chiffon/Apricot\",\"Jelly Filled/Chiffon/Apricot\",\"Jelly Filled/Sponge/Apricot\",\"Chocolate Outer/Pound/Bavarian Cream\",\"Jelly Filled/Sponge/Bavarian Cream\",\"Candy Outer/Chiffon/Birch Beer\",\"Candy Outer/Tiramisu/Birch Beer\",\"Jelly Filled/Tiramisu/Birch Beer\",\"Candy Outer/Chiffon/Blueberry\",\"Chocolate Outer/Pound/Butter Milk\",\"Candy Outer/Tiramisu/Butter Pecan\",\"Chocolate Outer/Tiramisu/Butter Toffee\",\"Candy Outer/Butter/Caramel Cream\",\"Candy Outer/Chiffon/Caramel Cream\",\"Chocolate Outer/Sponge/Caramel Cream\",\"Jelly Filled/Sponge/Cheesecake\",\"Candy Outer/Cheese/Cherry Cola\",\"Candy Outer/Pound/Cherry Cola\",\"Candy Outer/Tiramisu/Cherry Cola\",\"Candy Outer/Chiffon/Cherry Cream Spice\",\"Jelly Filled/Chiffon/Chocolate\",\"Candy Outer/Butter/Chocolate Mint\",\"Jelly Filled/Sponge/Chocolate Mint\",\"Candy Outer/Tiramisu/Chocolate Mint\",\"Candy Outer/Pound/Coconut\",\"Jelly Filled/Cheese/Coffee\",\"Chocolate Outer/Cheese/Cream Soda\",\"Candy Outer/Chiffon/Cream Soda\",\"Candy Outer/Pound/Cream Soda\",\"Candy Outer/Butter/Creme de Menthe\",\"Jelly Filled/Sponge/Creme de Menthe\",\"Jelly Filled/Butter/Dill Pickle\",\"Candy Outer/Pound/Dill Pickle\",\"Chocolate Outer/Tiramisu/Dill Pickle\",\"Jelly Filled/Tiramisu/Dill Pickle\",\"Chocolate Outer/Chiffon/Doughnut\",\"Chocolate Outer/Tiramisu/Fruit Punch\",\"Chocolate Outer/Cheese/Ginger Ale\",\"Jelly Filled/Cheese/Ginger Ale\",\"Jelly Filled/Sponge/Ginger Ale\",\"Candy Outer/Chiffon/Ginger Lime\",\"Chocolate Outer/Chiffon/Gingersnap\",\"Chocolate Outer/Pound/Gingersnap\",\"Jelly Filled/Pound/Gingersnap\",\"Candy Outer/Cheese/Grand Mariner\",\"Jelly Filled/Cheese/Grand Mariner\",\"Candy Outer/Pound/Grand Mariner\",\"Jelly Filled/Butter/Horchata\",\"Candy Outer/Pound/Horchata\",\"Chocolate Outer/Sponge/Horchata\",\"Candy Outer/Chiffon/Irish Cream\",\"Candy Outer/Pound/Irish Cream\",\"Chocolate Outer/Cheese/Kettle Corn\",\"Jelly Filled/Pound/Kettle Corn\",\"Jelly Filled/Pound/Lemon\",\"Jelly Filled/Butter/Lemon Bar\",\"Chocolate Outer/Chiffon/Lemon Bar\",\"Jelly Filled/Sponge/Lemon Bar\",\"Candy Outer/Butter/Lemon Custard\",\"Chocolate Outer/Sponge/Lemon Custard\",\"Jelly Filled/Sponge/Lemon Custard\",\"Jelly Filled/Cheese/Mango\",\"Jelly Filled/Pound/Mango\",\"Candy Outer/Pound/Orange\",\"Chocolate Outer/Sponge/Orange\",\"Jelly Filled/Butter/Orange Brandy\",\"Candy Outer/Chiffon/Orange Brandy\",\"Chocolate Outer/Butter/Orange Pineapple\\tP\",\"Chocolate Outer/Chiffon/Orange Pineapple\\tP\",\"Jelly Filled/Sponge/Orange Pineapple\\tP\",\"Candy Outer/Butter/Pear\",\"Jelly Filled/Sponge/Pear\",\"Candy Outer/Pound/Pecan\",\"Jelly Filled/Butter/Pink Lemonade\",\"Candy Outer/Cheese/Plum\",\"Chocolate Outer/Sponge/Plum\",\"Jelly Filled/Chiffon/Raspberry Ginger Ale\",\"Candy Outer/Pound/Raspberry Ginger Ale\",\"Jelly Filled/Sponge/Raspberry Ginger Ale\",\"Jelly Filled/Cheese/Sassafras\",\"Candy Outer/Chiffon/Sassafras\",\"Jelly Filled/Sponge/Sassafras\",\"Jelly Filled/Cheese/Sour\",\"Candy Outer/Pound/Sour\",\"Chocolate Outer/Cheese/Spice\",\"Jelly Filled/Cheese/Toasted Coconut\",\"Jelly Filled/Tiramisu/Toasted Coconut\",\"Chocolate Outer/Tiramisu/Vanilla\",\"Candy Outer/Chiffon/Wild Cherry Cream\",\"Jelly Filled/Pound/Wild Cherry Cream\",\"Jelly Filled/Tiramisu/Wintergreen\",\"Candy Outer/Butter\",\"Chocolate Outer/Butter\",\"Jelly Filled/Butter\",\"Candy Outer/Cheese\",\"Chocolate Outer/Cheese\",\"Jelly Filled/Cheese\",\"Candy Outer/Chiffon\",\"Chocolate Outer/Chiffon\",\"Jelly Filled/Chiffon\",\"Candy Outer/Pound\",\"Chocolate Outer/Pound\",\"Jelly Filled/Pound\",\"Chocolate Outer/Sponge\",\"Jelly Filled/Sponge\",\"Candy Outer/Tiramisu\",\"Chocolate Outer/Tiramisu\",\"Jelly Filled/Tiramisu\",\"Candy Outer\",\"Chocolate Outer\",\"Jelly Filled\"],\"labels\":[\"Amethyst\",\"Amethyst\",\"Amethyst\",\"Amethyst\",\"Amethyst\",\"Black\",\"Black\",\"Black\",\"Black\",\"Black\",\"Black\",\"Black\",\"Burgundy\",\"Burgundy\",\"Burgundy\",\"Burgundy\",\"Burgundy\",\"Burgundy\",\"Burgundy\",\"Burgundy\",\"Burgundy\",\"Burgundy\",\"Burgundy\",\"Citrine\",\"Citrine\",\"Citrine\",\"Citrine\",\"Citrine\",\"Citrine\",\"Citrine\",\"Olive\",\"Olive\",\"Olive\",\"Olive\",\"Olive\",\"Opal\",\"Opal\",\"Opal\",\"Opal\",\"Opal\",\"Opal\",\"Opal\",\"Opal\",\"Rose\",\"Rose\",\"Rose\",\"Rose\",\"Rose\",\"Rose\",\"Rose\",\"Slate\",\"Slate\",\"Slate\",\"Slate\",\"Slate\",\"Slate\",\"Slate\",\"Slate\",\"Slate\",\"Slate\",\"Slate\",\"Slate\",\"Slate\",\"Taupe\",\"Taupe\",\"Taupe\",\"Taupe\",\"Taupe\",\"Taupe\",\"Taupe\",\"Taupe\",\"Taupe\",\"Taupe\",\"Taupe\",\"Taupe\",\"Teal\",\"Teal\",\"Teal\",\"Teal\",\"Teal\",\"Tiffany\",\"Tiffany\",\"Tiffany\",\"Tiffany\",\"Tiffany\",\"Tiffany\",\"Tiffany\",\"White\",\"White\",\"White\",\"White\",\"White\",\"White\",\"White\",\"White\",\"White\",\"White\",\"White\",\"White\",\"White\",\"Apple\",\"Apple\",\"Apricot\",\"Apricot\",\"Apricot\",\"Apricot\",\"Banana\",\"Banana\",\"Black Cherry\",\"Black Cherry\",\"Black Currant\",\"Black Currant\",\"Black Currant\",\"Black Currant\",\"Butter Rum\",\"Butter Rum\",\"Butter Rum\",\"Butter Rum\",\"Butter Rum\",\"Butter Rum\",\"Cucumber\",\"Cucumber\",\"Cucumber\",\"Cucumber\",\"Dill Pickle\",\"Dill Pickle\",\"Dill Pickle\",\"Egg Nog\",\"Egg Nog\",\"Egg Nog\",\"Fuzzy Navel\",\"Fuzzy Navel\",\"Fuzzy Navel\",\"Ginger Beer\",\"Ginger Beer\",\"Ginger Beer\",\"Ginger Beer\",\"Hazelnut\",\"Hazelnut\",\"Hazelnut\",\"Hazelnut\",\"Hazelnut\",\"Hazelnut\",\"Hazelnut\",\"Kiwi\",\"Kiwi\",\"Kiwi\",\"Kiwi\",\"Lemon\",\"Lemon\",\"Lemon\",\"Mango\",\"Mango\",\"Mango\",\"Mango\",\"Mixed Berry\",\"Mixed Berry\",\"Mixed Berry\",\"Mixed Berry\",\"Mojito\",\"Mojito\",\"Mojito\",\"Mojito\",\"Papaya\",\"Papaya\",\"Papaya\",\"Passion Fruit\",\"Pear\",\"Pear\",\"Pear\",\"Pear\",\"Pear\",\"Peppermint\",\"Rock and Rye\",\"Rock and Rye\",\"Rock and Rye\",\"Rock and Rye\",\"Rock and Rye\",\"Rock and Rye\",\"Rock and Rye\",\"Rum\",\"Tangerine\",\"Tangerine\",\"Tangerine\",\"Toffee\",\"Tutti Frutti\",\"Tutti Frutti\",\"Tutti Frutti\",\"Tutti Frutti\",\"Vanilla\",\"Vanilla\",\"Whipped Cream\",\"Whipped Cream\",\"Whipped Cream\",\"Whipped Cream\",\"Whipped Cream\",\"Whipped Cream\",\"Whipped Cream\",\"Wild Cherry Cream\",\"Acai Berry\",\"Acai Berry\",\"Amaretto\",\"Apricot\",\"Apricot\",\"Apricot\",\"Bavarian Cream\",\"Bavarian Cream\",\"Birch Beer\",\"Birch Beer\",\"Birch Beer\",\"Blueberry\",\"Butter Milk\",\"Butter Pecan\",\"Butter Toffee\",\"Caramel Cream\",\"Caramel Cream\",\"Caramel Cream\",\"Cheesecake\",\"Cherry Cola\",\"Cherry Cola\",\"Cherry Cola\",\"Cherry Cream Spice\",\"Chocolate\",\"Chocolate Mint\",\"Chocolate Mint\",\"Chocolate Mint\",\"Coconut\",\"Coffee\",\"Cream Soda\",\"Cream Soda\",\"Cream Soda\",\"Creme de Menthe\",\"Creme de Menthe\",\"Dill Pickle\",\"Dill Pickle\",\"Dill Pickle\",\"Dill Pickle\",\"Doughnut\",\"Fruit Punch\",\"Ginger Ale\",\"Ginger Ale\",\"Ginger Ale\",\"Ginger Lime\",\"Gingersnap\",\"Gingersnap\",\"Gingersnap\",\"Grand Mariner\",\"Grand Mariner\",\"Grand Mariner\",\"Horchata\",\"Horchata\",\"Horchata\",\"Irish Cream\",\"Irish Cream\",\"Kettle Corn\",\"Kettle Corn\",\"Lemon\",\"Lemon Bar\",\"Lemon Bar\",\"Lemon Bar\",\"Lemon Custard\",\"Lemon Custard\",\"Lemon Custard\",\"Mango\",\"Mango\",\"Orange\",\"Orange\",\"Orange Brandy\",\"Orange Brandy\",\"Orange Pineapple\\tP\",\"Orange Pineapple\\tP\",\"Orange Pineapple\\tP\",\"Pear\",\"Pear\",\"Pecan\",\"Pink Lemonade\",\"Plum\",\"Plum\",\"Raspberry Ginger Ale\",\"Raspberry Ginger Ale\",\"Raspberry Ginger Ale\",\"Sassafras\",\"Sassafras\",\"Sassafras\",\"Sour\",\"Sour\",\"Spice\",\"Toasted Coconut\",\"Toasted Coconut\",\"Vanilla\",\"Wild Cherry Cream\",\"Wild Cherry Cream\",\"Wintergreen\",\"Butter\",\"Butter\",\"Butter\",\"Cheese\",\"Cheese\",\"Cheese\",\"Chiffon\",\"Chiffon\",\"Chiffon\",\"Pound\",\"Pound\",\"Pound\",\"Sponge\",\"Sponge\",\"Tiramisu\",\"Tiramisu\",\"Tiramisu\",\"Candy Outer\",\"Chocolate Outer\",\"Jelly Filled\"],\"marker\":{\"coloraxis\":\"coloraxis\",\"colors\":[0.33018774245642285,0.7106979679799147,0.19021234536923243,0.15915918457926348,0.3340611804890019,0.15708643029792074,0.3032213911743909,0.7351197056207388,0.20906795033652809,0.1842338766531142,0.5944609724437866,0.15615999578350775,0.41266308924264195,0.5106366098717889,0.27825269489842525,0.14066895482683622,0.13327176791011908,0.4235673794912471,0.1794613528985576,0.5136958264456242,0.12910742466659508,0.1575678533666948,0.14572709837533032,0.3920673485559146,0.16333430080866027,0.09981708170704863,0.29918179601672507,0.18474506932022755,0.5926368836626965,0.36111623687454414,0.17548646213230246,0.30696387438780426,0.3167488456300813,0.1769484247575082,0.09428746530073139,0.36310419792237125,0.4737214933544505,0.40687734886993526,0.7352131149646667,0.22904680967251487,0.40387826783428515,0.19565646449806193,0.13436986076956955,0.12917817857655342,0.7224140322914733,0.10639197603732764,0.23475676669011183,0.4618732539088553,0.7584988042342463,0.7458126804898364,0.2838597734184713,0.47574120010680404,0.2261696247036355,0.3864021327927984,0.6847377814604083,0.3207295752615321,0.209158727872813,0.49322930305512735,0.708675473319422,0.22515662934083333,0.3315112060438541,0.23488836632776333,0.16876219946894466,0.26438733964691025,0.26536852526938887,0.49705578697221975,0.18566239017110073,0.544808228773004,0.5009895316248951,0.16650156116798445,0.29181401248262107,0.2717929094491517,0.7629552212295575,0.7785577882804404,0.13999757651814534,0.6048328408048617,0.12282032634463934,0.2924586738262457,0.8012765506228946,0.2632984652094421,0.435501781469431,0.12250018704482012,0.17575139402663434,0.7743272977289982,0.4156786985680219,0.47890300197723257,0.734595478294948,0.1649863057350217,0.24221286999387226,0.7980543555958054,0.7674390656342447,0.19756086861536803,0.23750224650856905,0.22205578119428335,0.28557892304674926,0.08781898828913919,0.37399302513374094,0.3603023432884181,0.34245521932827216,0.44460257173115303,0.41266308924264195,0.5106366098717889,0.17548646213230246,0.435501781469431,0.3920673485559146,0.1649863057350217,0.2838597734184713,0.15708643029792074,0.24221286999387226,0.26438733964691025,0.3032213911743909,0.6048328408048617,0.36310419792237125,0.7980543555958054,0.26536852526938887,0.33018774245642285,0.7351197056207388,0.7674390656342447,0.12917817857655342,0.7224140322914733,0.27825269489842525,0.12250018704482012,0.10639197603732764,0.14066895482683622,0.20906795033652809,0.30696387438780426,0.13327176791011908,0.12282032634463934,0.19756086861536803,0.3167488456300813,0.49705578697221975,0.4235673794912471,0.47574120010680404,0.17575139402663434,0.1794613528985576,0.2261696247036355,0.7743272977289982,0.3864021327927984,0.23750224650856905,0.22205578119428335,0.16333430080866027,0.7106979679799147,0.6847377814604083,0.1769484247575082,0.18566239017110073,0.544808228773004,0.1842338766531142,0.23475676669011183,0.5009895316248951,0.28557892304674926,0.4618732539088553,0.4156786985680219,0.19021234536923243,0.3207295752615321,0.16650156116798445,0.209158727872813,0.09981708170704863,0.08781898828913919,0.15915918457926348,0.4737214933544505,0.29918179601672507,0.3340611804890019,0.5136958264456242,0.49322930305512735,0.40687734886993526,0.29181401248262107,0.37399302513374094,0.2924586738262457,0.7352131149646667,0.2717929094491517,0.18474506932022755,0.5944609724437866,0.12910742466659508,0.47890300197723257,0.708675473319422,0.22515662934083333,0.15615999578350775,0.22904680967251487,0.3603023432884181,0.09428746530073139,0.1575678533666948,0.34245521932827216,0.5926368836626965,0.8012765506228946,0.3315112060438541,0.14572709837533032,0.40387826783428515,0.21527241541291262,0.7629552212295575,0.36111623687454414,0.7584988042342463,0.734595478294948,0.7458126804898364,0.7785577882804404,0.16876219946894466,0.44460257173115303,0.2632984652094421,0.13436986076956955,0.13999757651814534,0.37399302513374094,0.209158727872813,0.36111623687454414,0.3032213911743909,0.17548646213230246,0.734595478294948,0.20906795033652809,0.7584988042342463,0.2838597734184713,0.4737214933544505,0.3864021327927984,0.2924586738262457,0.23750224650856905,0.4156786985680219,0.47890300197723257,0.26536852526938887,0.22205578119428335,0.708675473319422,0.7458126804898364,0.6048328408048617,0.33018774245642285,0.5009895316248951,0.17575139402663434,0.14572709837533032,0.1575678533666948,0.7785577882804404,0.28189438725285537,0.13999757651814534,0.34245521932827216,0.435501781469431,0.14177776525146632,0.16333430080866027,0.19021234536923243,0.7352131149646667,0.12282032634463934,0.29918179601672507,0.40387826783428515,0.3315112060438541,0.23411258009165897,0.30696387438780426,0.49322930305512735,0.49705578697221975,0.7106979679799147,0.22515662934083333,0.13327176791011908,0.15615999578350775,0.18566239017110073,0.544808228773004,0.41266308924264195,0.3340611804890019,0.16876219946894466,0.3207295752615321,0.7351197056207388,0.1842338766531142,0.18474506932022755,0.4183349601435338,0.09981708170704863,0.2632984652094421,0.08781898828913919,0.1794613528985576,0.6847377814604083,0.10639197603732764,0.7674390656342447,0.5926368836626965,0.4235673794912471,0.22904680967251487,0.36310419792237125,0.7980543555958054,0.12910742466659508,0.23475676669011183,0.1649863057350217,0.2261696247036355,0.5944609724437866,0.14066895482683622,0.7629552212295575,0.19756086861536803,0.12917817857655342,0.5106366098717889,0.7483706650102357,0.15915918457926348,0.3167488456300813,0.8012765506228946,0.1769484247575082,0.13436986076956955,0.40687734886993526,0.3603023432884181,0.29181401248262107,0.5136958264456242,0.24221286999387226,0.26438733964691025,0.4618732539088553,0.09428746530073139,0.16650156116798445,0.47574120010680404,0.17830275334709952,0.1649863057350217,0.13523859846551825,0.5085676761458489,0.45581936625145,0.3523164965325786,0.2202914335604565,0.21227174614385336,0.16056952104230807,0.2696711371477475,0.20632809354805828,0.20496210926358696,0.7510049883651138,0.692193382711111,0.3975433388003716,0.4147915844531886,0.37075258795931587,0.2898218749574972,0.427535007247141,0.4148132667976123]},\"name\":\"\",\"parents\":[\"Candy Outer/Pound/Cherry Cola/Butter Rum\",\"Jelly Filled/Sponge/Ginger Ale/Hazelnut\",\"Candy Outer/Butter/Creme de Menthe/Mango\",\"Jelly Filled/Chiffon/Raspberry Ginger Ale/Mixed Berry\",\"Candy Outer/Pound/Grand Mariner/Mojito\",\"Candy Outer/Chiffon/Cream Soda/Banana\",\"Candy Outer/Chiffon/Apricot/Black Currant\",\"Chocolate Outer/Sponge/Horchata/Butter Rum\",\"Chocolate Outer/Pound/Bavarian Cream/Dill Pickle\",\"Candy Outer/Chiffon/Irish Cream/Kiwi\",\"Jelly Filled/Sponge/Orange Pineapple\\tP/Pear\",\"Chocolate Outer/Pound/Gingersnap/Rock and Rye\",\"Jelly Filled/Cheese/Grand Mariner/Apple\",\"Candy Outer/Cheese/Plum/Apple\",\"Candy Outer/Tiramisu/Chocolate Mint/Cucumber\",\"Candy Outer/Butter/Pear/Cucumber\",\"Chocolate Outer/Chiffon/Gingersnap/Dill Pickle\",\"Jelly Filled/Cheese/Mango/Fuzzy Navel\",\"Chocolate Outer/Chiffon/Lemon Bar/Ginger Beer\",\"Chocolate Outer/Cheese/Spice/Mojito\",\"Jelly Filled/Butter/Orange Brandy/Peppermint\",\"Candy Outer/Butter/Chocolate Mint/Rum\",\"Jelly Filled/Chiffon/Chocolate/Tutti Frutti\",\"Chocolate Outer/Cheese/Kettle Corn/Apricot\",\"Candy Outer/Pound/Cream Soda/Hazelnut\",\"Jelly Filled/Pound/Kettle Corn/Mixed Berry\",\"Candy Outer/Pound/Dill Pickle/Mojito\",\"Candy Outer/Pound/Irish Cream/Pear\",\"Jelly Filled/Sponge/Lemon Custard/Tangerine\",\"Jelly Filled/Tiramisu/Amaretto/Vanilla\",\"Jelly Filled/Chiffon/Apricot/Apricot\",\"Chocolate Outer/Tiramisu/Fruit Punch/Dill Pickle\",\"Candy Outer/Pound/Raspberry Ginger Ale/Egg Nog\",\"Jelly Filled/Cheese/Sassafras/Hazelnut\",\"Candy Outer/Chiffon/Wild Cherry Cream/Rock and Rye\",\"Candy Outer/Pound/Orange/Black Currant\",\"Candy Outer/Tiramisu/Birch Beer/Mojito\",\"Jelly Filled/Sponge/Sassafras/Papaya\",\"Jelly Filled/Sponge/Creme de Menthe/Pear\",\"Jelly Filled/Pound/Mango/Rock and Rye\",\"Chocolate Outer/Tiramisu/Dill Pickle/Tutti Frutti\",\"Chocolate Outer/Chiffon/Doughnut/Tutti Frutti\",\"Candy Outer/Chiffon/Sassafras/Whipped Cream\",\"Jelly Filled/Butter/Pink Lemonade/Butter Rum\",\"Chocolate Outer/Sponge/Plum/Butter Rum\",\"Candy Outer/Butter/Lemon Custard/Cucumber\",\"Candy Outer/Chiffon/Orange Brandy/Kiwi\",\"Chocolate Outer/Tiramisu/Vanilla/Lemon\",\"Jelly Filled/Sponge/Bavarian Cream/Vanilla\",\"Jelly Filled/Sponge/Cheesecake/Whipped Cream\",\"Candy Outer/Chiffon/Birch Beer/Banana\",\"Jelly Filled/Tiramisu/Wintergreen/Fuzzy Navel\",\"Chocolate Outer/Chiffon/Orange Pineapple\\tP/Ginger Beer\",\"Jelly Filled/Tiramisu/Birch Beer/Hazelnut\",\"Jelly Filled/Sponge/Lemon Bar/Hazelnut\",\"Candy Outer/Pound/Horchata/Mango\",\"Jelly Filled/Pound/Acai Berry/Mixed Berry\",\"Chocolate Outer/Cheese/Ginger Ale/Papaya\",\"Chocolate Outer/Sponge/Caramel Cream/Rock and Rye\",\"Candy Outer/Chiffon/Ginger Lime/Rock and Rye\",\"Jelly Filled/Tiramisu/Dill Pickle/Toffee\",\"Chocolate Outer/Chiffon/Doughnut/Tutti Frutti\",\"Jelly Filled/Butter/Horchata/Whipped Cream\",\"Jelly Filled/Tiramisu/Toasted Coconut/Black Cherry\",\"Candy Outer/Butter/Caramel Cream/Butter Rum\",\"Jelly Filled/Cheese/Ginger Ale/Fuzzy Navel\",\"Jelly Filled/Pound/Gingersnap/Kiwi\",\"Candy Outer/Cheese/Grand Mariner/Kiwi\",\"Candy Outer/Tiramisu/Cherry Cola/Lemon\",\"Jelly Filled/Pound/Wild Cherry Cream/Mango\",\"Candy Outer/Pound/Sour/Papaya\",\"Chocolate Outer/Chiffon/Doughnut/Pear\",\"Jelly Filled/Sponge/Pear/Tutti Frutti\",\"Jelly Filled/Sponge/Chocolate Mint/Whipped Cream\",\"Candy Outer/Pound/Coconut/Wild Cherry Cream\",\"Candy Outer/Cheese/Cherry Cola/Black Currant\",\"Jelly Filled/Butter/Dill Pickle/Egg Nog\",\"Candy Outer/Chiffon/Blueberry/Pear\",\"Jelly Filled/Sponge/Raspberry Ginger Ale/Tangerine\",\"Jelly Filled/Pound/Lemon/Whipped Cream\",\"Chocolate Outer/Cheese/Cream Soda/Apricot\",\"Candy Outer/Chiffon/Cream Soda/Cucumber\",\"Candy Outer/Chiffon/Cherry Cream Spice/Ginger Beer\",\"Chocolate Outer/Sponge/Plum/Ginger Beer\",\"Candy Outer/Tiramisu/Butter Pecan/Mango\",\"Chocolate Outer/Tiramisu/Butter Toffee/Rock and Rye\",\"Jelly Filled/Sponge/Apricot/Whipped Cream\",\"Chocolate Outer/Butter/Orange Pineapple\\tP/Apricot\",\"Jelly Filled/Cheese/Toasted Coconut/Black Cherry\",\"Chocolate Outer/Sponge/Orange/Black Currant\",\"Chocolate Outer/Sponge/Lemon Custard/Butter Rum\",\"Candy Outer/Pound/Pecan/Egg Nog\",\"Chocolate Outer/Pound/Butter Milk/Hazelnut\",\"Candy Outer/Chiffon/Caramel Cream/Hazelnut\",\"Candy Outer/Tiramisu/Chocolate Mint/Lemon\",\"Jelly Filled/Butter/Lemon Bar/Mixed Berry\",\"Candy Outer/Cheese/Acai Berry/Passion Fruit\",\"Jelly Filled/Cheese/Sour/Rock and Rye\",\"Jelly Filled/Cheese/Coffee/Tangerine\",\"Chocolate Outer/Cheese/Kettle Corn/Whipped Cream\",\"Jelly Filled/Cheese/Grand Mariner\",\"Candy Outer/Cheese/Plum\",\"Jelly Filled/Chiffon/Apricot\",\"Chocolate Outer/Cheese/Cream Soda\",\"Chocolate Outer/Cheese/Kettle Corn\",\"Chocolate Outer/Butter/Orange Pineapple\\tP\",\"Candy Outer/Chiffon/Birch Beer\",\"Candy Outer/Chiffon/Cream Soda\",\"Jelly Filled/Cheese/Toasted Coconut\",\"Jelly Filled/Tiramisu/Toasted Coconut\",\"Candy Outer/Chiffon/Apricot\",\"Candy Outer/Cheese/Cherry Cola\",\"Candy Outer/Pound/Orange\",\"Chocolate Outer/Sponge/Orange\",\"Candy Outer/Butter/Caramel Cream\",\"Candy Outer/Pound/Cherry Cola\",\"Chocolate Outer/Sponge/Horchata\",\"Chocolate Outer/Sponge/Lemon Custard\",\"Jelly Filled/Butter/Pink Lemonade\",\"Chocolate Outer/Sponge/Plum\",\"Candy Outer/Tiramisu/Chocolate Mint\",\"Candy Outer/Chiffon/Cream Soda\",\"Candy Outer/Butter/Lemon Custard\",\"Candy Outer/Butter/Pear\",\"Chocolate Outer/Pound/Bavarian Cream\",\"Chocolate Outer/Tiramisu/Fruit Punch\",\"Chocolate Outer/Chiffon/Gingersnap\",\"Jelly Filled/Butter/Dill Pickle\",\"Candy Outer/Pound/Pecan\",\"Candy Outer/Pound/Raspberry Ginger Ale\",\"Jelly Filled/Cheese/Ginger Ale\",\"Jelly Filled/Cheese/Mango\",\"Jelly Filled/Tiramisu/Wintergreen\",\"Candy Outer/Chiffon/Cherry Cream Spice\",\"Chocolate Outer/Chiffon/Lemon Bar\",\"Chocolate Outer/Chiffon/Orange Pineapple\\tP\",\"Chocolate Outer/Sponge/Plum\",\"Jelly Filled/Tiramisu/Birch Beer\",\"Chocolate Outer/Pound/Butter Milk\",\"Candy Outer/Chiffon/Caramel Cream\",\"Candy Outer/Pound/Cream Soda\",\"Jelly Filled/Sponge/Ginger Ale\",\"Jelly Filled/Sponge/Lemon Bar\",\"Jelly Filled/Cheese/Sassafras\",\"Jelly Filled/Pound/Gingersnap\",\"Candy Outer/Cheese/Grand Mariner\",\"Candy Outer/Chiffon/Irish Cream\",\"Candy Outer/Chiffon/Orange Brandy\",\"Candy Outer/Tiramisu/Cherry Cola\",\"Candy Outer/Tiramisu/Chocolate Mint\",\"Chocolate Outer/Tiramisu/Vanilla\",\"Candy Outer/Tiramisu/Butter Pecan\",\"Candy Outer/Butter/Creme de Menthe\",\"Candy Outer/Pound/Horchata\",\"Jelly Filled/Pound/Wild Cherry Cream\",\"Jelly Filled/Pound/Acai Berry\",\"Jelly Filled/Pound/Kettle Corn\",\"Jelly Filled/Butter/Lemon Bar\",\"Jelly Filled/Chiffon/Raspberry Ginger Ale\",\"Candy Outer/Tiramisu/Birch Beer\",\"Candy Outer/Pound/Dill Pickle\",\"Candy Outer/Pound/Grand Mariner\",\"Chocolate Outer/Cheese/Spice\",\"Chocolate Outer/Cheese/Ginger Ale\",\"Jelly Filled/Sponge/Sassafras\",\"Candy Outer/Pound/Sour\",\"Candy Outer/Cheese/Acai Berry\",\"Candy Outer/Chiffon/Blueberry\",\"Jelly Filled/Sponge/Creme de Menthe\",\"Chocolate Outer/Chiffon/Doughnut\",\"Candy Outer/Pound/Irish Cream\",\"Jelly Filled/Sponge/Orange Pineapple\\tP\",\"Jelly Filled/Butter/Orange Brandy\",\"Chocolate Outer/Tiramisu/Butter Toffee\",\"Chocolate Outer/Sponge/Caramel Cream\",\"Candy Outer/Chiffon/Ginger Lime\",\"Chocolate Outer/Pound/Gingersnap\",\"Jelly Filled/Pound/Mango\",\"Jelly Filled/Cheese/Sour\",\"Candy Outer/Chiffon/Wild Cherry Cream\",\"Candy Outer/Butter/Chocolate Mint\",\"Jelly Filled/Cheese/Coffee\",\"Jelly Filled/Sponge/Lemon Custard\",\"Jelly Filled/Sponge/Raspberry Ginger Ale\",\"Jelly Filled/Tiramisu/Dill Pickle\",\"Jelly Filled/Chiffon/Chocolate\",\"Chocolate Outer/Tiramisu/Dill Pickle\",\"Chocolate Outer/Chiffon/Doughnut\",\"Jelly Filled/Sponge/Pear\",\"Jelly Filled/Tiramisu/Amaretto\",\"Jelly Filled/Sponge/Bavarian Cream\",\"Jelly Filled/Sponge/Apricot\",\"Jelly Filled/Sponge/Cheesecake\",\"Jelly Filled/Sponge/Chocolate Mint\",\"Jelly Filled/Butter/Horchata\",\"Chocolate Outer/Cheese/Kettle Corn\",\"Jelly Filled/Pound/Lemon\",\"Candy Outer/Chiffon/Sassafras\",\"Candy Outer/Pound/Coconut\",\"Candy Outer/Cheese\",\"Jelly Filled/Pound\",\"Jelly Filled/Tiramisu\",\"Candy Outer/Chiffon\",\"Jelly Filled/Chiffon\",\"Jelly Filled/Sponge\",\"Chocolate Outer/Pound\",\"Jelly Filled/Sponge\",\"Candy Outer/Chiffon\",\"Candy Outer/Tiramisu\",\"Jelly Filled/Tiramisu\",\"Candy Outer/Chiffon\",\"Chocolate Outer/Pound\",\"Candy Outer/Tiramisu\",\"Chocolate Outer/Tiramisu\",\"Candy Outer/Butter\",\"Candy Outer/Chiffon\",\"Chocolate Outer/Sponge\",\"Jelly Filled/Sponge\",\"Candy Outer/Cheese\",\"Candy Outer/Pound\",\"Candy Outer/Tiramisu\",\"Candy Outer/Chiffon\",\"Jelly Filled/Chiffon\",\"Candy Outer/Butter\",\"Jelly Filled/Sponge\",\"Candy Outer/Tiramisu\",\"Candy Outer/Pound\",\"Jelly Filled/Cheese\",\"Chocolate Outer/Cheese\",\"Candy Outer/Chiffon\",\"Candy Outer/Pound\",\"Candy Outer/Butter\",\"Jelly Filled/Sponge\",\"Jelly Filled/Butter\",\"Candy Outer/Pound\",\"Chocolate Outer/Tiramisu\",\"Jelly Filled/Tiramisu\",\"Chocolate Outer/Chiffon\",\"Chocolate Outer/Tiramisu\",\"Chocolate Outer/Cheese\",\"Jelly Filled/Cheese\",\"Jelly Filled/Sponge\",\"Candy Outer/Chiffon\",\"Chocolate Outer/Chiffon\",\"Chocolate Outer/Pound\",\"Jelly Filled/Pound\",\"Candy Outer/Cheese\",\"Jelly Filled/Cheese\",\"Candy Outer/Pound\",\"Jelly Filled/Butter\",\"Candy Outer/Pound\",\"Chocolate Outer/Sponge\",\"Candy Outer/Chiffon\",\"Candy Outer/Pound\",\"Chocolate Outer/Cheese\",\"Jelly Filled/Pound\",\"Jelly Filled/Pound\",\"Jelly Filled/Butter\",\"Chocolate Outer/Chiffon\",\"Jelly Filled/Sponge\",\"Candy Outer/Butter\",\"Chocolate Outer/Sponge\",\"Jelly Filled/Sponge\",\"Jelly Filled/Cheese\",\"Jelly Filled/Pound\",\"Candy Outer/Pound\",\"Chocolate Outer/Sponge\",\"Jelly Filled/Butter\",\"Candy Outer/Chiffon\",\"Chocolate Outer/Butter\",\"Chocolate Outer/Chiffon\",\"Jelly Filled/Sponge\",\"Candy Outer/Butter\",\"Jelly Filled/Sponge\",\"Candy Outer/Pound\",\"Jelly Filled/Butter\",\"Candy Outer/Cheese\",\"Chocolate Outer/Sponge\",\"Jelly Filled/Chiffon\",\"Candy Outer/Pound\",\"Jelly Filled/Sponge\",\"Jelly Filled/Cheese\",\"Candy Outer/Chiffon\",\"Jelly Filled/Sponge\",\"Jelly Filled/Cheese\",\"Candy Outer/Pound\",\"Chocolate Outer/Cheese\",\"Jelly Filled/Cheese\",\"Jelly Filled/Tiramisu\",\"Chocolate Outer/Tiramisu\",\"Candy Outer/Chiffon\",\"Jelly Filled/Pound\",\"Jelly Filled/Tiramisu\",\"Candy Outer\",\"Chocolate Outer\",\"Jelly Filled\",\"Candy Outer\",\"Chocolate Outer\",\"Jelly Filled\",\"Candy Outer\",\"Chocolate Outer\",\"Jelly Filled\",\"Candy Outer\",\"Chocolate Outer\",\"Jelly Filled\",\"Chocolate Outer\",\"Jelly Filled\",\"Candy Outer\",\"Chocolate Outer\",\"Jelly Filled\",\"\",\"\",\"\"],\"type\":\"sunburst\",\"values\":[100,100,100,100,100,68,100,100,89,71,100,67,100,100,86,78,59,100,100,100,86,93,91,100,100,50,100,80,100,100,100,93,100,100,17,100,100,100,100,100,100,100,61,85,100,70,100,100,100,100,100,100,100,100,100,100,78,100,100,100,85,100,100,73,100,100,66,100,100,53,100,100,100,100,100,100,60,100,100,100,100,54,100,100,100,100,100,100,90,100,100,89,100,100,85,33,100,100,100,100,100,100,100,100,100,100,100,68,90,73,100,100,100,100,100,100,100,100,85,100,86,54,70,78,89,93,59,60,89,100,100,100,100,100,100,100,100,100,100,100,100,100,100,100,66,100,71,100,100,85,100,100,100,100,53,78,50,33,100,100,100,100,100,100,100,100,100,100,100,100,80,100,86,100,100,100,67,100,100,17,93,100,100,100,85,91,100,200,100,100,100,100,100,100,100,100,100,61,100,100,78,100,100,100,100,89,100,100,100,100,100,100,100,100,100,100,100,100,100,100,100,100,91,93,100,171,100,100,100,122,100,100,100,60,100,100,85,300,93,100,100,100,100,59,67,66,100,100,100,100,100,100,71,80,200,50,100,33,100,100,70,100,100,100,100,100,100,86,100,100,100,100,78,100,89,85,100,200,100,100,100,100,61,100,100,100,100,90,73,100,17,53,100,441,100,364,400,500,690,971,559,291,1069,256,447,600,1200,471,393,458,3352,2408,3450]}],                        {\"coloraxis\":{\"colorbar\":{\"title\":{\"text\":\"rate\"}},\"colorscale\":[[0.0,\"#440154\"],[0.1111111111111111,\"#482878\"],[0.2222222222222222,\"#3e4989\"],[0.3333333333333333,\"#31688e\"],[0.4444444444444444,\"#26828e\"],[0.5555555555555556,\"#1f9e89\"],[0.6666666666666666,\"#35b779\"],[0.7777777777777778,\"#6ece58\"],[0.8888888888888888,\"#b5de2b\"],[1.0,\"#fde725\"]]},\"height\":650,\"legend\":{\"tracegroupgap\":0},\"margin\":{\"b\":20,\"l\":20,\"r\":20,\"t\":20},\"template\":{\"data\":{\"bar\":[{\"error_x\":{\"color\":\"#2a3f5f\"},\"error_y\":{\"color\":\"#2a3f5f\"},\"marker\":{\"line\":{\"color\":\"#E5ECF6\",\"width\":0.5},\"pattern\":{\"fillmode\":\"overlay\",\"size\":10,\"solidity\":0.2}},\"type\":\"bar\"}],\"barpolar\":[{\"marker\":{\"line\":{\"color\":\"#E5ECF6\",\"width\":0.5},\"pattern\":{\"fillmode\":\"overlay\",\"size\":10,\"solidity\":0.2}},\"type\":\"barpolar\"}],\"carpet\":[{\"aaxis\":{\"endlinecolor\":\"#2a3f5f\",\"gridcolor\":\"white\",\"linecolor\":\"white\",\"minorgridcolor\":\"white\",\"startlinecolor\":\"#2a3f5f\"},\"baxis\":{\"endlinecolor\":\"#2a3f5f\",\"gridcolor\":\"white\",\"linecolor\":\"white\",\"minorgridcolor\":\"white\",\"startlinecolor\":\"#2a3f5f\"},\"type\":\"carpet\"}],\"choropleth\":[{\"colorbar\":{\"outlinewidth\":0,\"ticks\":\"\"},\"type\":\"choropleth\"}],\"contour\":[{\"colorbar\":{\"outlinewidth\":0,\"ticks\":\"\"},\"colorscale\":[[0.0,\"#0d0887\"],[0.1111111111111111,\"#46039f\"],[0.2222222222222222,\"#7201a8\"],[0.3333333333333333,\"#9c179e\"],[0.4444444444444444,\"#bd3786\"],[0.5555555555555556,\"#d8576b\"],[0.6666666666666666,\"#ed7953\"],[0.7777777777777778,\"#fb9f3a\"],[0.8888888888888888,\"#fdca26\"],[1.0,\"#f0f921\"]],\"type\":\"contour\"}],\"contourcarpet\":[{\"colorbar\":{\"outlinewidth\":0,\"ticks\":\"\"},\"type\":\"contourcarpet\"}],\"heatmap\":[{\"colorbar\":{\"outlinewidth\":0,\"ticks\":\"\"},\"colorscale\":[[0.0,\"#0d0887\"],[0.1111111111111111,\"#46039f\"],[0.2222222222222222,\"#7201a8\"],[0.3333333333333333,\"#9c179e\"],[0.4444444444444444,\"#bd3786\"],[0.5555555555555556,\"#d8576b\"],[0.6666666666666666,\"#ed7953\"],[0.7777777777777778,\"#fb9f3a\"],[0.8888888888888888,\"#fdca26\"],[1.0,\"#f0f921\"]],\"type\":\"heatmap\"}],\"heatmapgl\":[{\"colorbar\":{\"outlinewidth\":0,\"ticks\":\"\"},\"colorscale\":[[0.0,\"#0d0887\"],[0.1111111111111111,\"#46039f\"],[0.2222222222222222,\"#7201a8\"],[0.3333333333333333,\"#9c179e\"],[0.4444444444444444,\"#bd3786\"],[0.5555555555555556,\"#d8576b\"],[0.6666666666666666,\"#ed7953\"],[0.7777777777777778,\"#fb9f3a\"],[0.8888888888888888,\"#fdca26\"],[1.0,\"#f0f921\"]],\"type\":\"heatmapgl\"}],\"histogram\":[{\"marker\":{\"pattern\":{\"fillmode\":\"overlay\",\"size\":10,\"solidity\":0.2}},\"type\":\"histogram\"}],\"histogram2d\":[{\"colorbar\":{\"outlinewidth\":0,\"ticks\":\"\"},\"colorscale\":[[0.0,\"#0d0887\"],[0.1111111111111111,\"#46039f\"],[0.2222222222222222,\"#7201a8\"],[0.3333333333333333,\"#9c179e\"],[0.4444444444444444,\"#bd3786\"],[0.5555555555555556,\"#d8576b\"],[0.6666666666666666,\"#ed7953\"],[0.7777777777777778,\"#fb9f3a\"],[0.8888888888888888,\"#fdca26\"],[1.0,\"#f0f921\"]],\"type\":\"histogram2d\"}],\"histogram2dcontour\":[{\"colorbar\":{\"outlinewidth\":0,\"ticks\":\"\"},\"colorscale\":[[0.0,\"#0d0887\"],[0.1111111111111111,\"#46039f\"],[0.2222222222222222,\"#7201a8\"],[0.3333333333333333,\"#9c179e\"],[0.4444444444444444,\"#bd3786\"],[0.5555555555555556,\"#d8576b\"],[0.6666666666666666,\"#ed7953\"],[0.7777777777777778,\"#fb9f3a\"],[0.8888888888888888,\"#fdca26\"],[1.0,\"#f0f921\"]],\"type\":\"histogram2dcontour\"}],\"mesh3d\":[{\"colorbar\":{\"outlinewidth\":0,\"ticks\":\"\"},\"type\":\"mesh3d\"}],\"parcoords\":[{\"line\":{\"colorbar\":{\"outlinewidth\":0,\"ticks\":\"\"}},\"type\":\"parcoords\"}],\"pie\":[{\"automargin\":true,\"type\":\"pie\"}],\"scatter\":[{\"marker\":{\"colorbar\":{\"outlinewidth\":0,\"ticks\":\"\"}},\"type\":\"scatter\"}],\"scatter3d\":[{\"line\":{\"colorbar\":{\"outlinewidth\":0,\"ticks\":\"\"}},\"marker\":{\"colorbar\":{\"outlinewidth\":0,\"ticks\":\"\"}},\"type\":\"scatter3d\"}],\"scattercarpet\":[{\"marker\":{\"colorbar\":{\"outlinewidth\":0,\"ticks\":\"\"}},\"type\":\"scattercarpet\"}],\"scattergeo\":[{\"marker\":{\"colorbar\":{\"outlinewidth\":0,\"ticks\":\"\"}},\"type\":\"scattergeo\"}],\"scattergl\":[{\"marker\":{\"colorbar\":{\"outlinewidth\":0,\"ticks\":\"\"}},\"type\":\"scattergl\"}],\"scattermapbox\":[{\"marker\":{\"colorbar\":{\"outlinewidth\":0,\"ticks\":\"\"}},\"type\":\"scattermapbox\"}],\"scatterpolar\":[{\"marker\":{\"colorbar\":{\"outlinewidth\":0,\"ticks\":\"\"}},\"type\":\"scatterpolar\"}],\"scatterpolargl\":[{\"marker\":{\"colorbar\":{\"outlinewidth\":0,\"ticks\":\"\"}},\"type\":\"scatterpolargl\"}],\"scatterternary\":[{\"marker\":{\"colorbar\":{\"outlinewidth\":0,\"ticks\":\"\"}},\"type\":\"scatterternary\"}],\"surface\":[{\"colorbar\":{\"outlinewidth\":0,\"ticks\":\"\"},\"colorscale\":[[0.0,\"#0d0887\"],[0.1111111111111111,\"#46039f\"],[0.2222222222222222,\"#7201a8\"],[0.3333333333333333,\"#9c179e\"],[0.4444444444444444,\"#bd3786\"],[0.5555555555555556,\"#d8576b\"],[0.6666666666666666,\"#ed7953\"],[0.7777777777777778,\"#fb9f3a\"],[0.8888888888888888,\"#fdca26\"],[1.0,\"#f0f921\"]],\"type\":\"surface\"}],\"table\":[{\"cells\":{\"fill\":{\"color\":\"#EBF0F8\"},\"line\":{\"color\":\"white\"}},\"header\":{\"fill\":{\"color\":\"#C8D4E3\"},\"line\":{\"color\":\"white\"}},\"type\":\"table\"}]},\"layout\":{\"annotationdefaults\":{\"arrowcolor\":\"#2a3f5f\",\"arrowhead\":0,\"arrowwidth\":1},\"autotypenumbers\":\"strict\",\"coloraxis\":{\"colorbar\":{\"outlinewidth\":0,\"ticks\":\"\"}},\"colorscale\":{\"diverging\":[[0,\"#8e0152\"],[0.1,\"#c51b7d\"],[0.2,\"#de77ae\"],[0.3,\"#f1b6da\"],[0.4,\"#fde0ef\"],[0.5,\"#f7f7f7\"],[0.6,\"#e6f5d0\"],[0.7,\"#b8e186\"],[0.8,\"#7fbc41\"],[0.9,\"#4d9221\"],[1,\"#276419\"]],\"sequential\":[[0.0,\"#0d0887\"],[0.1111111111111111,\"#46039f\"],[0.2222222222222222,\"#7201a8\"],[0.3333333333333333,\"#9c179e\"],[0.4444444444444444,\"#bd3786\"],[0.5555555555555556,\"#d8576b\"],[0.6666666666666666,\"#ed7953\"],[0.7777777777777778,\"#fb9f3a\"],[0.8888888888888888,\"#fdca26\"],[1.0,\"#f0f921\"]],\"sequentialminus\":[[0.0,\"#0d0887\"],[0.1111111111111111,\"#46039f\"],[0.2222222222222222,\"#7201a8\"],[0.3333333333333333,\"#9c179e\"],[0.4444444444444444,\"#bd3786\"],[0.5555555555555556,\"#d8576b\"],[0.6666666666666666,\"#ed7953\"],[0.7777777777777778,\"#fb9f3a\"],[0.8888888888888888,\"#fdca26\"],[1.0,\"#f0f921\"]]},\"colorway\":[\"#636efa\",\"#EF553B\",\"#00cc96\",\"#ab63fa\",\"#FFA15A\",\"#19d3f3\",\"#FF6692\",\"#B6E880\",\"#FF97FF\",\"#FECB52\"],\"font\":{\"color\":\"#2a3f5f\"},\"geo\":{\"bgcolor\":\"white\",\"lakecolor\":\"white\",\"landcolor\":\"#E5ECF6\",\"showlakes\":true,\"showland\":true,\"subunitcolor\":\"white\"},\"hoverlabel\":{\"align\":\"left\"},\"hovermode\":\"closest\",\"mapbox\":{\"style\":\"light\"},\"paper_bgcolor\":\"white\",\"plot_bgcolor\":\"#E5ECF6\",\"polar\":{\"angularaxis\":{\"gridcolor\":\"white\",\"linecolor\":\"white\",\"ticks\":\"\"},\"bgcolor\":\"#E5ECF6\",\"radialaxis\":{\"gridcolor\":\"white\",\"linecolor\":\"white\",\"ticks\":\"\"}},\"scene\":{\"xaxis\":{\"backgroundcolor\":\"#E5ECF6\",\"gridcolor\":\"white\",\"gridwidth\":2,\"linecolor\":\"white\",\"showbackground\":true,\"ticks\":\"\",\"zerolinecolor\":\"white\"},\"yaxis\":{\"backgroundcolor\":\"#E5ECF6\",\"gridcolor\":\"white\",\"gridwidth\":2,\"linecolor\":\"white\",\"showbackground\":true,\"ticks\":\"\",\"zerolinecolor\":\"white\"},\"zaxis\":{\"backgroundcolor\":\"#E5ECF6\",\"gridcolor\":\"white\",\"gridwidth\":2,\"linecolor\":\"white\",\"showbackground\":true,\"ticks\":\"\",\"zerolinecolor\":\"white\"}},\"shapedefaults\":{\"line\":{\"color\":\"#2a3f5f\"}},\"ternary\":{\"aaxis\":{\"gridcolor\":\"white\",\"linecolor\":\"white\",\"ticks\":\"\"},\"baxis\":{\"gridcolor\":\"white\",\"linecolor\":\"white\",\"ticks\":\"\"},\"bgcolor\":\"#E5ECF6\",\"caxis\":{\"gridcolor\":\"white\",\"linecolor\":\"white\",\"ticks\":\"\"}},\"title\":{\"x\":0.05},\"xaxis\":{\"automargin\":true,\"gridcolor\":\"white\",\"linecolor\":\"white\",\"ticks\":\"\",\"title\":{\"standoff\":15},\"zerolinecolor\":\"white\",\"zerolinewidth\":2},\"yaxis\":{\"automargin\":true,\"gridcolor\":\"white\",\"linecolor\":\"white\",\"ticks\":\"\",\"title\":{\"standoff\":15},\"zerolinecolor\":\"white\",\"zerolinewidth\":2}}}},                        {\"responsive\": true}                    ).then(function(){\n                            \nvar gd = document.getElementById('5d6c46b3-63cd-49a2-819a-77ed7398ea4e');\nvar x = new MutationObserver(function (mutations, observer) {{\n        var display = window.getComputedStyle(gd).display;\n        if (!display || display === 'none') {{\n            console.log([gd, 'removed!']);\n            Plotly.purge(gd);\n            observer.disconnect();\n        }}\n}});\n\n// Listen for the removal of the full notebook cells\nvar notebookContainer = gd.closest('#notebook-container');\nif (notebookContainer) {{\n    x.observe(notebookContainer, {childList: true});\n}}\n\n// Listen for the clearing of the current output cell\nvar outputEl = gd.closest('.output');\nif (outputEl) {{\n    x.observe(outputEl, {childList: true});\n}}\n\n                        })                };                            </script>        </div>\n</body>\n</html>"
       }
      ]
     }
    },
    "53344885b5b94b9990a47b96ee478e6b": {
     "model_module": "@jupyter-widgets/base",
     "model_module_version": "1.2.0",
     "model_name": "LayoutModel",
     "state": {
      "_model_module": "@jupyter-widgets/base",
      "_model_module_version": "1.2.0",
      "_model_name": "LayoutModel",
      "_view_count": null,
      "_view_module": "@jupyter-widgets/base",
      "_view_module_version": "1.2.0",
      "_view_name": "LayoutView",
      "align_content": null,
      "align_items": null,
      "align_self": null,
      "border": null,
      "bottom": null,
      "display": null,
      "flex": null,
      "flex_flow": null,
      "grid_area": null,
      "grid_auto_columns": null,
      "grid_auto_flow": null,
      "grid_auto_rows": null,
      "grid_column": null,
      "grid_gap": null,
      "grid_row": null,
      "grid_template_areas": null,
      "grid_template_columns": null,
      "grid_template_rows": null,
      "height": null,
      "justify_content": null,
      "justify_items": null,
      "left": null,
      "margin": null,
      "max_height": null,
      "max_width": null,
      "min_height": null,
      "min_width": null,
      "object_fit": null,
      "object_position": null,
      "order": null,
      "overflow": null,
      "overflow_x": null,
      "overflow_y": null,
      "padding": null,
      "right": null,
      "top": null,
      "visibility": null,
      "width": null
     }
    },
    "6ea6d1fbb1274ec683f1c119876f7558": {
     "model_module": "@jupyter-widgets/controls",
     "model_module_version": "1.5.0",
     "model_name": "DropdownModel",
     "state": {
      "_dom_classes": [],
      "_model_module": "@jupyter-widgets/controls",
      "_model_module_version": "1.5.0",
      "_model_name": "DropdownModel",
      "_options_labels": [
       "['base_cake', 'truffle_type', 'primary_flavor', 'secondary_flavor', 'color_group']",
       "['truffle_type', 'base_cake', 'primary_flavor', 'secondary_flavor', 'color_group']"
      ],
      "_view_count": null,
      "_view_module": "@jupyter-widgets/controls",
      "_view_module_version": "1.5.0",
      "_view_name": "DropdownView",
      "description": "path",
      "description_tooltip": null,
      "disabled": false,
      "index": 1,
      "layout": "IPY_MODEL_a8595db2dafc466a91dfcda84cdac26f",
      "style": "IPY_MODEL_d19b98f9ff9b470a8c862530644ecaed"
     }
    },
    "a8595db2dafc466a91dfcda84cdac26f": {
     "model_module": "@jupyter-widgets/base",
     "model_module_version": "1.2.0",
     "model_name": "LayoutModel",
     "state": {
      "_model_module": "@jupyter-widgets/base",
      "_model_module_version": "1.2.0",
      "_model_name": "LayoutModel",
      "_view_count": null,
      "_view_module": "@jupyter-widgets/base",
      "_view_module_version": "1.2.0",
      "_view_name": "LayoutView",
      "align_content": null,
      "align_items": null,
      "align_self": null,
      "border": null,
      "bottom": null,
      "display": null,
      "flex": null,
      "flex_flow": null,
      "grid_area": null,
      "grid_auto_columns": null,
      "grid_auto_flow": null,
      "grid_auto_rows": null,
      "grid_column": null,
      "grid_gap": null,
      "grid_row": null,
      "grid_template_areas": null,
      "grid_template_columns": null,
      "grid_template_rows": null,
      "height": null,
      "justify_content": null,
      "justify_items": null,
      "left": null,
      "margin": null,
      "max_height": null,
      "max_width": null,
      "min_height": null,
      "min_width": null,
      "object_fit": null,
      "object_position": null,
      "order": null,
      "overflow": null,
      "overflow_x": null,
      "overflow_y": null,
      "padding": null,
      "right": null,
      "top": null,
      "visibility": null,
      "width": null
     }
    },
    "bd6fa24e982149aeb1f36634fec3b626": {
     "model_module": "@jupyter-widgets/base",
     "model_module_version": "1.2.0",
     "model_name": "LayoutModel",
     "state": {
      "_model_module": "@jupyter-widgets/base",
      "_model_module_version": "1.2.0",
      "_model_name": "LayoutModel",
      "_view_count": null,
      "_view_module": "@jupyter-widgets/base",
      "_view_module_version": "1.2.0",
      "_view_name": "LayoutView",
      "align_content": null,
      "align_items": null,
      "align_self": null,
      "border": null,
      "bottom": null,
      "display": null,
      "flex": null,
      "flex_flow": null,
      "grid_area": null,
      "grid_auto_columns": null,
      "grid_auto_flow": null,
      "grid_auto_rows": null,
      "grid_column": null,
      "grid_gap": null,
      "grid_row": null,
      "grid_template_areas": null,
      "grid_template_columns": null,
      "grid_template_rows": null,
      "height": null,
      "justify_content": null,
      "justify_items": null,
      "left": null,
      "margin": null,
      "max_height": null,
      "max_width": null,
      "min_height": null,
      "min_width": null,
      "object_fit": null,
      "object_position": null,
      "order": null,
      "overflow": null,
      "overflow_x": null,
      "overflow_y": null,
      "padding": null,
      "right": null,
      "top": null,
      "visibility": null,
      "width": null
     }
    },
    "ca6531edaf2f45059c4fb02e62417b23": {
     "model_module": "@jupyter-widgets/controls",
     "model_module_version": "1.5.0",
     "model_name": "VBoxModel",
     "state": {
      "_dom_classes": [
       "widget-interact"
      ],
      "_model_module": "@jupyter-widgets/controls",
      "_model_module_version": "1.5.0",
      "_model_name": "VBoxModel",
      "_view_count": null,
      "_view_module": "@jupyter-widgets/controls",
      "_view_module_version": "1.5.0",
      "_view_name": "VBoxView",
      "box_style": "",
      "children": [
       "IPY_MODEL_6ea6d1fbb1274ec683f1c119876f7558",
       "IPY_MODEL_3346455fe3fc4d4abd50bdeb4e45f421"
      ],
      "layout": "IPY_MODEL_53344885b5b94b9990a47b96ee478e6b"
     }
    },
    "d19b98f9ff9b470a8c862530644ecaed": {
     "model_module": "@jupyter-widgets/controls",
     "model_module_version": "1.5.0",
     "model_name": "DescriptionStyleModel",
     "state": {
      "_model_module": "@jupyter-widgets/controls",
      "_model_module_version": "1.5.0",
      "_model_name": "DescriptionStyleModel",
      "_view_count": null,
      "_view_module": "@jupyter-widgets/base",
      "_view_module_version": "1.2.0",
      "_view_name": "StyleView",
      "description_width": ""
     }
    }
   }
  }
 },
 "nbformat": 4,
 "nbformat_minor": 4
}
