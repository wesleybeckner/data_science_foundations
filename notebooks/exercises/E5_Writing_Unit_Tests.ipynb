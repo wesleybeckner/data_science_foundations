{
  "nbformat": 4,
  "nbformat_minor": 0,
  "metadata": {
    "colab": {
      "name": "S7_Numpy.ipynb",
      "provenance": [],
      "collapsed_sections": [],
      "toc_visible": true,
      "include_colab_link": true
    },
    "kernelspec": {
      "name": "python3",
      "display_name": "Python 3"
    },
    "language_info": {
      "name": "python"
    }
  },
  "cells": [
    {
      "cell_type": "markdown",
      "metadata": {
        "id": "view-in-github",
        "colab_type": "text"
      },
      "source": [
        "<a href=\"https://colab.research.google.com/github/wesleybeckner/python_foundations/blob/main/notebooks/S7_Numpy.ipynb\" target=\"_parent\"><img src=\"https://colab.research.google.com/assets/colab-badge.svg\" alt=\"Open In Colab\"/></a>"
      ]
    },
    {
      "cell_type": "markdown",
      "metadata": {
        "id": "cPmio-GwmEwG"
      },
      "source": [
        "# Python Foundations, Session 7: NumPy\n",
        "\n",
        "**Instructor**: Wesley Beckner\n",
        "\n",
        "**Contact**: wesleybeckner@gmail.com\n",
        "<br>\n",
        "\n",
        "---\n",
        "\n",
        "<br>\n",
        "\n",
        "Today, we will jump into the **Numpy** package.  \n",
        "\n",
        "\n",
        "#### [``numpy``](http://numpy.org/): Numerical Python\n",
        "\n",
        "Numpy is short for \"Numerical Python\", and contains tools for efficient manipulation of arrays of data.\n",
        "If you have used other computational tools like IDL or MatLab, Numpy should feel very familiar.\n",
        "\n",
        "<br>\n",
        "\n",
        "---"
      ]
    },
    {
      "cell_type": "markdown",
      "metadata": {
        "id": "GqvpwnmXCD6T"
      },
      "source": [
        "## Import Libraries"
      ]
    },
    {
      "cell_type": "code",
      "metadata": {
        "id": "rzlRjMe_CF21"
      },
      "source": [
        "# for numpy section\n",
        "import numpy as np\n",
        "np.random.seed(42)"
      ],
      "execution_count": null,
      "outputs": []
    },
    {
      "cell_type": "code",
      "metadata": {
        "id": "oBpdlPUDHSJV"
      },
      "source": [
        "# for debugging section\n",
        "import random\n",
        "from contextlib import contextmanager\n",
        "import sys, os\n",
        "\n",
        "@contextmanager\n",
        "def suppress_stdout():\n",
        "    with open(os.devnull, \"w\") as devnull:\n",
        "        old_stdout = sys.stdout\n",
        "        sys.stdout = devnull\n",
        "        try:  \n",
        "            yield\n",
        "        finally:\n",
        "            sys.stdout = old_stdout"
      ],
      "execution_count": null,
      "outputs": []
    },
    {
      "cell_type": "markdown",
      "metadata": {
        "id": "ptKR77jZGUVH"
      },
      "source": [
        "## 7.1 NumPy Arrays"
      ]
    },
    {
      "cell_type": "markdown",
      "metadata": {
        "id": "EkLRed_aGW7H"
      },
      "source": [
        "### 7.1.1 Creating NumPy Arrays\n",
        "\n",
        "When we worked with lists, we saw that we could fill them with all sorts of datatypes. NumPy arrays are necessarily of one datatype:"
      ]
    },
    {
      "cell_type": "code",
      "metadata": {
        "colab": {
          "base_uri": "https://localhost:8080/"
        },
        "id": "CeiFAfXSCHNN",
        "outputId": "1dbb6694-7bb7-4e95-d348-8d798c9ae700"
      },
      "source": [
        "# these will all be ints\n",
        "np.array([1, 2, 3, 6, 5, 4])"
      ],
      "execution_count": null,
      "outputs": [
        {
          "output_type": "execute_result",
          "data": {
            "text/plain": [
              "array([1, 2, 3, 6, 5, 4])"
            ]
          },
          "metadata": {
            "tags": []
          },
          "execution_count": 3
        }
      ]
    },
    {
      "cell_type": "code",
      "metadata": {
        "colab": {
          "base_uri": "https://localhost:8080/"
        },
        "id": "syVvIeoJGpNl",
        "outputId": "84f158a4-b755-4590-bb1b-d6f7978d23cc"
      },
      "source": [
        "# these will all be floats\n",
        "np.array([1, 2, 3.14, 6, 5, 4])"
      ],
      "execution_count": null,
      "outputs": [
        {
          "output_type": "execute_result",
          "data": {
            "text/plain": [
              "array([1.  , 2.  , 3.14, 6.  , 5.  , 4.  ])"
            ]
          },
          "metadata": {
            "tags": []
          },
          "execution_count": 4
        }
      ]
    },
    {
      "cell_type": "markdown",
      "metadata": {
        "id": "5FO_R9goVsEk"
      },
      "source": [
        "We can check the data types in the standard way:"
      ]
    },
    {
      "cell_type": "code",
      "metadata": {
        "colab": {
          "base_uri": "https://localhost:8080/"
        },
        "id": "x61Q1mSEG0JM",
        "outputId": "03f27f18-6689-4bb3-e05a-2bb3662a81dc"
      },
      "source": [
        "arr = np.array([1, 2, 3, 6, 5, 4])\n",
        "for i in arr:\n",
        "  print(type(i))"
      ],
      "execution_count": null,
      "outputs": [
        {
          "output_type": "stream",
          "text": [
            "<class 'numpy.int64'>\n",
            "<class 'numpy.int64'>\n",
            "<class 'numpy.int64'>\n",
            "<class 'numpy.int64'>\n",
            "<class 'numpy.int64'>\n",
            "<class 'numpy.int64'>\n"
          ],
          "name": "stdout"
        }
      ]
    },
    {
      "cell_type": "markdown",
      "metadata": {
        "id": "opu0vg3yG-Ur"
      },
      "source": [
        "We see that all types are _upcast_ to the most complext object in the array. For instance, because 3.14 is a float, all the other numbers in the array will be a float:"
      ]
    },
    {
      "cell_type": "code",
      "metadata": {
        "colab": {
          "base_uri": "https://localhost:8080/"
        },
        "id": "2MXlbXjLG8XQ",
        "outputId": "34f44ab2-7574-4a09-a5b7-2325c40c4349"
      },
      "source": [
        "for i in np.array([1, 2, 3.14, 6, 5, 4]):\n",
        "  print(type(i))"
      ],
      "execution_count": null,
      "outputs": [
        {
          "output_type": "stream",
          "text": [
            "<class 'numpy.float64'>\n",
            "<class 'numpy.float64'>\n",
            "<class 'numpy.float64'>\n",
            "<class 'numpy.float64'>\n",
            "<class 'numpy.float64'>\n",
            "<class 'numpy.float64'>\n"
          ],
          "name": "stdout"
        }
      ]
    },
    {
      "cell_type": "markdown",
      "metadata": {
        "id": "_3MCMKGQHHHO"
      },
      "source": [
        "We can also specify the datatypes in the array:"
      ]
    },
    {
      "cell_type": "code",
      "metadata": {
        "colab": {
          "base_uri": "https://localhost:8080/"
        },
        "id": "E_NuHRSsG9G1",
        "outputId": "a18d93c0-007b-4307-f169-7036ae816a01"
      },
      "source": [
        "np.array([1, 2, 3.14, 6, 5, 4], dtype='float32')"
      ],
      "execution_count": null,
      "outputs": [
        {
          "output_type": "execute_result",
          "data": {
            "text/plain": [
              "array([1.  , 2.  , 3.14, 6.  , 5.  , 4.  ], dtype=float32)"
            ]
          },
          "metadata": {
            "tags": []
          },
          "execution_count": 7
        }
      ]
    },
    {
      "cell_type": "markdown",
      "metadata": {
        "id": "fnRwR34EW7A6"
      },
      "source": [
        "#### 🏋️ Exercise 1: Specify datatype\n",
        "\n",
        "Create an array of 5 numbers whose datatypes are 16 bit integers. Make one of the numbers not a whole number. What happens to the number when it is stored in the 16 bit integer array?"
      ]
    },
    {
      "cell_type": "code",
      "metadata": {
        "id": "zZ7yy1l2XIyZ"
      },
      "source": [
        "# Cell for Exercise 1"
      ],
      "execution_count": null,
      "outputs": []
    },
    {
      "cell_type": "markdown",
      "metadata": {
        "id": "nVkuow9RHUDt"
      },
      "source": [
        "### 7.1.2 Creating Arrays from NumPy Methods"
      ]
    },
    {
      "cell_type": "code",
      "metadata": {
        "colab": {
          "base_uri": "https://localhost:8080/"
        },
        "id": "jwbS3Zt_HMhC",
        "outputId": "2bf8c03d-8bbe-433c-ea85-8a3b953e7958"
      },
      "source": [
        "# create an array of 10 zeros\n",
        "# how can we specify the datatype?\n",
        "np.zeros(10)"
      ],
      "execution_count": null,
      "outputs": [
        {
          "output_type": "execute_result",
          "data": {
            "text/plain": [
              "array([0., 0., 0., 0., 0., 0., 0., 0., 0., 0.])"
            ]
          },
          "metadata": {
            "tags": []
          },
          "execution_count": 8
        }
      ]
    },
    {
      "cell_type": "code",
      "metadata": {
        "colab": {
          "base_uri": "https://localhost:8080/"
        },
        "id": "B4o3QwMPHZku",
        "outputId": "caa836c6-5cff-4421-9a28-3c07befeb4d7"
      },
      "source": [
        "# create an array of 10 1's\n",
        "np.ones(10)"
      ],
      "execution_count": null,
      "outputs": [
        {
          "output_type": "execute_result",
          "data": {
            "text/plain": [
              "array([1., 1., 1., 1., 1., 1., 1., 1., 1., 1.])"
            ]
          },
          "metadata": {
            "tags": []
          },
          "execution_count": 9
        }
      ]
    },
    {
      "cell_type": "code",
      "metadata": {
        "colab": {
          "base_uri": "https://localhost:8080/"
        },
        "id": "9w9AKvH0HaHc",
        "outputId": "89afd7b6-0411-46dc-faef-eb5ca066d970"
      },
      "source": [
        "# fill an array of the following dimensions\n",
        "# with value 42\n",
        "np.full((2,3), 42)"
      ],
      "execution_count": null,
      "outputs": [
        {
          "output_type": "execute_result",
          "data": {
            "text/plain": [
              "array([[42, 42, 42],\n",
              "       [42, 42, 42]])"
            ]
          },
          "metadata": {
            "tags": []
          },
          "execution_count": 10
        }
      ]
    },
    {
      "cell_type": "code",
      "metadata": {
        "colab": {
          "base_uri": "https://localhost:8080/"
        },
        "id": "YsT0g1NWHdI_",
        "outputId": "b714a957-ceb1-4f9b-efd3-6c90588f6f42"
      },
      "source": [
        "# arange from start (inc) to stop (exc)\n",
        "# integers with step size\n",
        "np.arange(1, 10, 2)"
      ],
      "execution_count": null,
      "outputs": [
        {
          "output_type": "execute_result",
          "data": {
            "text/plain": [
              "array([1, 3, 5, 7, 9])"
            ]
          },
          "metadata": {
            "tags": []
          },
          "execution_count": 11
        }
      ]
    },
    {
      "cell_type": "code",
      "metadata": {
        "colab": {
          "base_uri": "https://localhost:8080/"
        },
        "id": "LmnCf7T9Hwm-",
        "outputId": "a489012d-66d7-467a-9fcd-4f78c60d57bc"
      },
      "source": [
        "# create an array of numbers that divides\n",
        "# the space between start and stop (inc, inc)\n",
        "# with X equally spaced intervals\n",
        "np.linspace(0, 10, 5)"
      ],
      "execution_count": null,
      "outputs": [
        {
          "output_type": "execute_result",
          "data": {
            "text/plain": [
              "array([ 0. ,  2.5,  5. ,  7.5, 10. ])"
            ]
          },
          "metadata": {
            "tags": []
          },
          "execution_count": 12
        }
      ]
    },
    {
      "cell_type": "code",
      "metadata": {
        "colab": {
          "base_uri": "https://localhost:8080/"
        },
        "id": "1SYdwv2gHyes",
        "outputId": "85765b0d-ac00-48ff-a59a-e63fdf14c91a"
      },
      "source": [
        "# create an array of values drawn from a \n",
        "# uniform distribution\n",
        "np.random.random(5)"
      ],
      "execution_count": null,
      "outputs": [
        {
          "output_type": "execute_result",
          "data": {
            "text/plain": [
              "array([0.37454012, 0.95071431, 0.73199394, 0.59865848, 0.15601864])"
            ]
          },
          "metadata": {
            "tags": []
          },
          "execution_count": 13
        }
      ]
    },
    {
      "cell_type": "code",
      "metadata": {
        "colab": {
          "base_uri": "https://localhost:8080/"
        },
        "id": "7E8VqyzgH7_X",
        "outputId": "f7b2d0cd-83a2-4bd6-cd84-2529f5ce9d90"
      },
      "source": [
        "# create an array of values from a normal distribution\n",
        "np.random.normal(loc=0, scale=1, size=(5,5))"
      ],
      "execution_count": null,
      "outputs": [
        {
          "output_type": "execute_result",
          "data": {
            "text/plain": [
              "array([[ 0.61764085,  1.2170708 ,  0.22628827,  0.84740143,  0.17483301],\n",
              "       [-1.21685489,  1.04934739,  1.32510566,  0.73450106, -0.95449726],\n",
              "       [-0.75117942, -1.13042805,  0.76997736,  1.26838952,  0.42448624],\n",
              "       [ 0.94053558, -0.86764109,  0.14586185, -1.36987106, -0.77178075],\n",
              "       [ 0.87867355, -0.23959451,  1.20938197,  0.53796   ,  2.73442216]])"
            ]
          },
          "metadata": {
            "tags": []
          },
          "execution_count": 16
        }
      ]
    },
    {
      "cell_type": "code",
      "metadata": {
        "colab": {
          "base_uri": "https://localhost:8080/"
        },
        "id": "fvXJYM8LlfCy",
        "outputId": "c0076815-ec03-44ea-d5f7-129f4dcb9174"
      },
      "source": [
        "# create an array of random integers between 5 and 10 with shape 2x2\n",
        "np.random.randint(5, 11, (2,2))"
      ],
      "execution_count": null,
      "outputs": [
        {
          "output_type": "execute_result",
          "data": {
            "text/plain": [
              "array([[5, 9],\n",
              "       [8, 9]])"
            ]
          },
          "metadata": {
            "tags": []
          },
          "execution_count": 17
        }
      ]
    },
    {
      "cell_type": "markdown",
      "metadata": {
        "id": "FXMyE-lIJX3K"
      },
      "source": [
        "### 🏋️ Exercise 2: Creating Arrays\n",
        "\n",
        "a. Create a 5x5 array of ones with datatype `int16`"
      ]
    },
    {
      "cell_type": "code",
      "metadata": {
        "id": "VIlOeZKFIIjH"
      },
      "source": [
        "# Cell for Exercise 2a"
      ],
      "execution_count": null,
      "outputs": []
    },
    {
      "cell_type": "markdown",
      "metadata": {
        "id": "bXdATo-xJqhs"
      },
      "source": [
        "b. Create an array of 10 numbers drawn from a uniform distribution between 0 and 1"
      ]
    },
    {
      "cell_type": "code",
      "metadata": {
        "id": "UxKs08AeJvgp"
      },
      "source": [
        "# Cell for Exercise 2b"
      ],
      "execution_count": null,
      "outputs": []
    },
    {
      "cell_type": "markdown",
      "metadata": {
        "id": "jTSLJ8BZJxSD"
      },
      "source": [
        "c. Create an array of 10 numbers drawn from a normal distribution centered at 80 with a standard deviation of 5"
      ]
    },
    {
      "cell_type": "code",
      "metadata": {
        "id": "2ruCGtKWJ1Mv"
      },
      "source": [
        "# Cell for Exercise 2c"
      ],
      "execution_count": null,
      "outputs": []
    },
    {
      "cell_type": "markdown",
      "metadata": {
        "id": "2EopQALYDarH"
      },
      "source": [
        "d. Create an array of 10 intergers drawn from a uniform distribution between 5 and 10 inclusive"
      ]
    },
    {
      "cell_type": "code",
      "metadata": {
        "id": "aX9kKMOoDR4e"
      },
      "source": [
        "# Cell for Exercise 2d"
      ],
      "execution_count": null,
      "outputs": []
    },
    {
      "cell_type": "markdown",
      "metadata": {
        "id": "XB3lGSIZLiLp"
      },
      "source": [
        "## 7.2 NumPy Array Attributes\n",
        "\n",
        "Common array attributes are `shape`, `size`, `nbytes`, and `itemsize`"
      ]
    },
    {
      "cell_type": "code",
      "metadata": {
        "colab": {
          "base_uri": "https://localhost:8080/"
        },
        "id": "QVM8aJzeJ25I",
        "outputId": "03d7d0c9-89a7-4380-93d7-35009d4dd2bd"
      },
      "source": [
        "my_arr = np.random.randint(low=5, high=10, size=(5,5))\n",
        "print(my_arr)"
      ],
      "execution_count": null,
      "outputs": [
        {
          "output_type": "stream",
          "text": [
            "[[7 8 7 5 5]\n",
            " [8 8 9 9 7]\n",
            " [8 5 9 9 5]\n",
            " [9 7 8 5 8]\n",
            " [9 9 5 7 6]]\n"
          ],
          "name": "stdout"
        }
      ]
    },
    {
      "cell_type": "code",
      "metadata": {
        "colab": {
          "base_uri": "https://localhost:8080/"
        },
        "id": "k9OMj2MNMZtB",
        "outputId": "e2aed177-3068-40a4-b11a-09e846d47bfa"
      },
      "source": [
        "my_arr.shape"
      ],
      "execution_count": null,
      "outputs": [
        {
          "output_type": "execute_result",
          "data": {
            "text/plain": [
              "(5, 5)"
            ]
          },
          "metadata": {
            "tags": []
          },
          "execution_count": 19
        }
      ]
    },
    {
      "cell_type": "code",
      "metadata": {
        "colab": {
          "base_uri": "https://localhost:8080/"
        },
        "id": "8hs18geeMhAa",
        "outputId": "377ea5c4-44fc-4fad-96a9-871796950a8a"
      },
      "source": [
        "my_arr.dtype"
      ],
      "execution_count": null,
      "outputs": [
        {
          "output_type": "execute_result",
          "data": {
            "text/plain": [
              "dtype('int64')"
            ]
          },
          "metadata": {
            "tags": []
          },
          "execution_count": 20
        }
      ]
    },
    {
      "cell_type": "code",
      "metadata": {
        "colab": {
          "base_uri": "https://localhost:8080/"
        },
        "id": "mAII2rEEMjTc",
        "outputId": "1024b4bf-c9d3-4d89-995b-b16415ac7d15"
      },
      "source": [
        "my_arr.size"
      ],
      "execution_count": null,
      "outputs": [
        {
          "output_type": "execute_result",
          "data": {
            "text/plain": [
              "25"
            ]
          },
          "metadata": {
            "tags": []
          },
          "execution_count": 21
        }
      ]
    },
    {
      "cell_type": "code",
      "metadata": {
        "colab": {
          "base_uri": "https://localhost:8080/"
        },
        "id": "kqN8SPbLMo0E",
        "outputId": "4e6eb318-cb36-40c8-9f23-04a257bff873"
      },
      "source": [
        "my_arr.nbytes"
      ],
      "execution_count": null,
      "outputs": [
        {
          "output_type": "execute_result",
          "data": {
            "text/plain": [
              "200"
            ]
          },
          "metadata": {
            "tags": []
          },
          "execution_count": 22
        }
      ]
    },
    {
      "cell_type": "code",
      "metadata": {
        "colab": {
          "base_uri": "https://localhost:8080/"
        },
        "id": "1IQJivfkMrgg",
        "outputId": "320864cc-3e46-4ef8-b36d-4e5c9f36a9c8"
      },
      "source": [
        "my_arr.itemsize"
      ],
      "execution_count": null,
      "outputs": [
        {
          "output_type": "execute_result",
          "data": {
            "text/plain": [
              "8"
            ]
          },
          "metadata": {
            "tags": []
          },
          "execution_count": 23
        }
      ]
    },
    {
      "cell_type": "markdown",
      "metadata": {
        "id": "BacsGUbrMwk2"
      },
      "source": [
        "### 🏋️ Exercise 3: Conditional Check on Array Attributes\n",
        "\n",
        "write a conditional that checks that the total number of bytes of the array object `my_arr` divided by the size of each item (in bytes) is equal to the number of items in the array (_hint: we covered the attributes above_)"
      ]
    },
    {
      "cell_type": "code",
      "metadata": {
        "colab": {
          "base_uri": "https://localhost:8080/"
        },
        "id": "L3zrgf7aMtHw",
        "outputId": "d2c669c7-1771-4095-9466-d20b3f1c16fb"
      },
      "source": [
        "# Cell for exercise 3"
      ],
      "execution_count": null,
      "outputs": [
        {
          "output_type": "execute_result",
          "data": {
            "text/plain": [
              "True"
            ]
          },
          "metadata": {
            "tags": []
          },
          "execution_count": 246
        }
      ]
    },
    {
      "cell_type": "markdown",
      "metadata": {
        "id": "YoiI4E3wL3L6"
      },
      "source": [
        "## 7.3 NumPy Array Slicing, Copying, Setting"
      ]
    },
    {
      "cell_type": "markdown",
      "metadata": {
        "id": "RO2rcfJjNtwS"
      },
      "source": [
        "Array slicing operates much the same way as with python lists"
      ]
    },
    {
      "cell_type": "code",
      "metadata": {
        "colab": {
          "base_uri": "https://localhost:8080/"
        },
        "id": "k2a70tfAL7EX",
        "outputId": "c0f3a9ed-4922-4be3-ba9a-4c0ae11fc4b5"
      },
      "source": [
        "my_arr"
      ],
      "execution_count": null,
      "outputs": [
        {
          "output_type": "execute_result",
          "data": {
            "text/plain": [
              "array([[7, 8, 7, 5, 5],\n",
              "       [8, 8, 9, 9, 7],\n",
              "       [8, 5, 9, 9, 5],\n",
              "       [9, 7, 8, 5, 8],\n",
              "       [9, 9, 5, 7, 6]])"
            ]
          },
          "metadata": {
            "tags": []
          },
          "execution_count": 24
        }
      ]
    },
    {
      "cell_type": "code",
      "metadata": {
        "colab": {
          "base_uri": "https://localhost:8080/"
        },
        "id": "NgewnFapNxj4",
        "outputId": "8c112dcc-fa02-4979-b6ca-be3f7cc0eda5"
      },
      "source": [
        "# grab the first row\n",
        "my_arr[0]"
      ],
      "execution_count": null,
      "outputs": [
        {
          "output_type": "execute_result",
          "data": {
            "text/plain": [
              "array([7, 8, 7, 5, 5])"
            ]
          },
          "metadata": {
            "tags": []
          },
          "execution_count": 25
        }
      ]
    },
    {
      "cell_type": "code",
      "metadata": {
        "colab": {
          "base_uri": "https://localhost:8080/"
        },
        "id": "BBNhf0bgNzml",
        "outputId": "ef08d40c-2344-44a9-cf36-06836d86f654"
      },
      "source": [
        "# grab the first element of the first row\n",
        "\n",
        "# instead of this\n",
        "print(my_arr[0][0])\n",
        "\n",
        "# we do this\n",
        "print(my_arr[0, 0])"
      ],
      "execution_count": null,
      "outputs": [
        {
          "output_type": "stream",
          "text": [
            "9\n",
            "9\n"
          ],
          "name": "stdout"
        }
      ]
    },
    {
      "cell_type": "markdown",
      "metadata": {
        "id": "_8psMXzMQWT6"
      },
      "source": [
        "We can time these..."
      ]
    },
    {
      "cell_type": "code",
      "metadata": {
        "colab": {
          "base_uri": "https://localhost:8080/"
        },
        "id": "wkQteNGeN2kl",
        "outputId": "72eb6bf5-43b5-4812-a951-4af4ab29016a"
      },
      "source": [
        "%%timeit\n",
        "my_arr[0][0]"
      ],
      "execution_count": null,
      "outputs": [
        {
          "output_type": "stream",
          "text": [
            "The slowest run took 38.40 times longer than the fastest. This could mean that an intermediate result is being cached.\n",
            "1000000 loops, best of 5: 381 ns per loop\n"
          ],
          "name": "stdout"
        }
      ]
    },
    {
      "cell_type": "code",
      "metadata": {
        "colab": {
          "base_uri": "https://localhost:8080/"
        },
        "id": "gNqa4_IrOB-O",
        "outputId": "9b2cbdbd-1d79-4ad8-ad92-b7dee31ab893"
      },
      "source": [
        "%%timeit\n",
        "my_arr[0, 0]"
      ],
      "execution_count": null,
      "outputs": [
        {
          "output_type": "stream",
          "text": [
            "The slowest run took 60.67 times longer than the fastest. This could mean that an intermediate result is being cached.\n",
            "10000000 loops, best of 5: 170 ns per loop\n"
          ],
          "name": "stdout"
        }
      ]
    },
    {
      "cell_type": "markdown",
      "metadata": {
        "id": "Ymasq3u_OLJ7"
      },
      "source": [
        "We can use the same slicing notation as with lists\n",
        "\n",
        "`my_arr[start:stop:step]`\n",
        "\n",
        "for n-dimensional arrays\n",
        "\n",
        "`my_arr[1-start:1-stop:1-step, 2-start:2-stop:2-step, ... n-start:n-stop:n-step]`"
      ]
    },
    {
      "cell_type": "code",
      "metadata": {
        "colab": {
          "base_uri": "https://localhost:8080/"
        },
        "id": "C1TNNwCOODaS",
        "outputId": "227124dc-5f2f-46e9-c413-5fae4ea8a132"
      },
      "source": [
        "# with arrays, we simply separate each dimension with a comma\n",
        "my_arr[:2, :2]"
      ],
      "execution_count": null,
      "outputs": [
        {
          "output_type": "execute_result",
          "data": {
            "text/plain": [
              "array([[7, 8],\n",
              "       [8, 8]])"
            ]
          },
          "metadata": {
            "tags": []
          },
          "execution_count": 28
        }
      ]
    },
    {
      "cell_type": "markdown",
      "metadata": {
        "id": "M4U0cKOaTP9e"
      },
      "source": [
        "Slices are views not copies. This means we can set slices of arrays to new values, and the original object will change:"
      ]
    },
    {
      "cell_type": "code",
      "metadata": {
        "colab": {
          "base_uri": "https://localhost:8080/"
        },
        "id": "PwvsAFRLORxx",
        "outputId": "7d72ff9c-610e-4c55-c26a-04b744806b45"
      },
      "source": [
        "my_arr[:2, :2] = 0\n",
        "my_arr"
      ],
      "execution_count": null,
      "outputs": [
        {
          "output_type": "execute_result",
          "data": {
            "text/plain": [
              "array([[0, 0, 7, 5, 5],\n",
              "       [0, 0, 9, 9, 7],\n",
              "       [8, 5, 9, 9, 5],\n",
              "       [9, 7, 8, 5, 8],\n",
              "       [9, 9, 5, 7, 6]])"
            ]
          },
          "metadata": {
            "tags": []
          },
          "execution_count": 29
        }
      ]
    },
    {
      "cell_type": "code",
      "metadata": {
        "colab": {
          "base_uri": "https://localhost:8080/"
        },
        "id": "zQcHeBkoOcsL",
        "outputId": "96e0c1da-6322-4528-ac41-a1d2d2e61f17"
      },
      "source": [
        "my_arr[-2:, -2:] = 1\n",
        "my_arr"
      ],
      "execution_count": null,
      "outputs": [
        {
          "output_type": "execute_result",
          "data": {
            "text/plain": [
              "array([[0, 0, 7, 5, 5],\n",
              "       [0, 0, 9, 9, 7],\n",
              "       [8, 5, 9, 9, 5],\n",
              "       [9, 7, 8, 1, 1],\n",
              "       [9, 9, 5, 1, 1]])"
            ]
          },
          "metadata": {
            "tags": []
          },
          "execution_count": 30
        }
      ]
    },
    {
      "cell_type": "markdown",
      "metadata": {
        "id": "mMVfG0oCTlpH"
      },
      "source": [
        "Step through an array slice"
      ]
    },
    {
      "cell_type": "code",
      "metadata": {
        "colab": {
          "base_uri": "https://localhost:8080/"
        },
        "id": "OFl8_kyuOgb7",
        "outputId": "9b6388ac-2b66-42c6-e36f-104d839d3654"
      },
      "source": [
        "# remember that we can use steps in slicing\n",
        "my_arr[:, ::2] # the last number after :: is the step size"
      ],
      "execution_count": null,
      "outputs": [
        {
          "output_type": "execute_result",
          "data": {
            "text/plain": [
              "array([[0, 7, 5],\n",
              "       [0, 9, 7],\n",
              "       [8, 9, 5],\n",
              "       [9, 8, 1],\n",
              "       [9, 5, 1]])"
            ]
          },
          "metadata": {
            "tags": []
          },
          "execution_count": 31
        }
      ]
    },
    {
      "cell_type": "markdown",
      "metadata": {
        "id": "eL1rPxA_SYoF"
      },
      "source": [
        "We can use negative step sizes the way we do with lists. A negative step size reverses the order of start and stop, so it is a convenient way to reverse the order of one or more dimensions of an array"
      ]
    },
    {
      "cell_type": "code",
      "metadata": {
        "colab": {
          "base_uri": "https://localhost:8080/"
        },
        "id": "REkwRjUDQjSK",
        "outputId": "eb6f84fc-2d43-4dc5-d015-3b2e0a42f9af"
      },
      "source": [
        "# reverse the rows\n",
        "my_arr[::-1]"
      ],
      "execution_count": null,
      "outputs": [
        {
          "output_type": "execute_result",
          "data": {
            "text/plain": [
              "array([[9, 9, 5, 1, 1],\n",
              "       [9, 7, 8, 1, 1],\n",
              "       [8, 5, 9, 9, 5],\n",
              "       [0, 0, 9, 9, 7],\n",
              "       [0, 0, 7, 5, 5]])"
            ]
          },
          "metadata": {
            "tags": []
          },
          "execution_count": 32
        }
      ]
    },
    {
      "cell_type": "code",
      "metadata": {
        "colab": {
          "base_uri": "https://localhost:8080/"
        },
        "id": "f2X31gnkTZau",
        "outputId": "289a08a5-1e37-4d24-8121-8cc15557195d"
      },
      "source": [
        "# reverse the columns\n",
        "my_arr[:, ::-1]"
      ],
      "execution_count": null,
      "outputs": [
        {
          "output_type": "execute_result",
          "data": {
            "text/plain": [
              "array([[5, 5, 7, 0, 0],\n",
              "       [7, 9, 9, 0, 0],\n",
              "       [5, 9, 9, 5, 8],\n",
              "       [1, 1, 8, 7, 9],\n",
              "       [1, 1, 5, 9, 9]])"
            ]
          },
          "metadata": {
            "tags": []
          },
          "execution_count": 33
        }
      ]
    },
    {
      "cell_type": "markdown",
      "metadata": {
        "id": "-Wugfmg_TsmM"
      },
      "source": [
        "Sometimes we want to create a copy of an array, despite the default slicing behavior. We can do this with the `.copy()` method"
      ]
    },
    {
      "cell_type": "code",
      "metadata": {
        "colab": {
          "base_uri": "https://localhost:8080/"
        },
        "id": "CquIZoXRTypP",
        "outputId": "62c3b4ee-5db8-4a6c-f852-5d69a2573e6d"
      },
      "source": [
        "new_arr = my_arr.copy()\n",
        "new_arr[:,:] = 0\n",
        "print(my_arr)"
      ],
      "execution_count": null,
      "outputs": [
        {
          "output_type": "stream",
          "text": [
            "[[0 0 7 5 5]\n",
            " [0 0 9 9 7]\n",
            " [8 5 9 9 5]\n",
            " [9 7 8 1 1]\n",
            " [9 9 5 1 1]]\n"
          ],
          "name": "stdout"
        }
      ]
    },
    {
      "cell_type": "markdown",
      "metadata": {
        "id": "528E-yZWPcZe"
      },
      "source": [
        "### 🏋️ Exercise 4: Array Setting and Slicing\n",
        "\n",
        "set all the even columns of `my_arr` to 0 and all the odd columns to 1 (interpret the first column to be 1 and the last to be 5, i.e. don't index at 0 when thinking of each column as even/odd!)\n",
        "\n",
        "Example Output:\n",
        "```\n",
        "array([[0, 1, 0, 1, 0],\n",
        "       [0, 1, 0, 1, 0],\n",
        "       [0, 1, 0, 1, 0],\n",
        "       [0, 1, 0, 1, 0],\n",
        "       [0, 1, 0, 1, 0]])\n",
        "```"
      ]
    },
    {
      "cell_type": "code",
      "metadata": {
        "colab": {
          "base_uri": "https://localhost:8080/"
        },
        "id": "cBI4LsdqPSEx",
        "outputId": "a8513983-d046-4e86-8184-a5f4b5d43320"
      },
      "source": [
        "# Cell for Exercise 4"
      ],
      "execution_count": null,
      "outputs": [
        {
          "output_type": "execute_result",
          "data": {
            "text/plain": [
              "array([[0, 1, 0, 1, 0],\n",
              "       [0, 1, 0, 1, 0],\n",
              "       [0, 1, 0, 1, 0],\n",
              "       [0, 1, 0, 1, 0],\n",
              "       [0, 1, 0, 1, 0]])"
            ]
          },
          "metadata": {
            "tags": []
          },
          "execution_count": 259
        }
      ]
    },
    {
      "cell_type": "markdown",
      "metadata": {
        "id": "GNoDz1cPUK7_"
      },
      "source": [
        "## 7.4 NumPy Array Reshaping, Concatenation, and Splitting\n",
        "\n",
        "reshaping is going to be a common task for us:"
      ]
    },
    {
      "cell_type": "code",
      "metadata": {
        "colab": {
          "base_uri": "https://localhost:8080/"
        },
        "id": "W3FLU0lBPrOR",
        "outputId": "c1c5eef1-f537-4000-ad5b-d8825a082c09"
      },
      "source": [
        "arr = np.arange(9)\n",
        "arr"
      ],
      "execution_count": null,
      "outputs": [
        {
          "output_type": "execute_result",
          "data": {
            "text/plain": [
              "array([0, 1, 2, 3, 4, 5, 6, 7, 8])"
            ]
          },
          "metadata": {
            "tags": []
          },
          "execution_count": 35
        }
      ]
    },
    {
      "cell_type": "code",
      "metadata": {
        "colab": {
          "base_uri": "https://localhost:8080/"
        },
        "id": "WNHgXx7dUwIy",
        "outputId": "3dc8e3e7-0fff-4704-d324-811740b4d26a"
      },
      "source": [
        "# reshape into a 3x3 array\n",
        "arr.reshape(3,3) # rows then columns"
      ],
      "execution_count": null,
      "outputs": [
        {
          "output_type": "execute_result",
          "data": {
            "text/plain": [
              "array([[0, 1, 2],\n",
              "       [3, 4, 5],\n",
              "       [6, 7, 8]])"
            ]
          },
          "metadata": {
            "tags": []
          },
          "execution_count": 36
        }
      ]
    },
    {
      "cell_type": "markdown",
      "metadata": {
        "id": "rkE3t6fcok04"
      },
      "source": [
        "The reshaped dimensions have to be evenly divisible into the total number of elements:\n",
        "\n",
        "_`-1` will infer the proper dimension based on the other dimensions provided and the total number of elements_"
      ]
    },
    {
      "cell_type": "code",
      "metadata": {
        "colab": {
          "base_uri": "https://localhost:8080/"
        },
        "id": "rWfAQuFNoohX",
        "outputId": "51e31d37-b1c1-4c27-831e-39a2539d756f"
      },
      "source": [
        "# arr.reshape(4,2) # throws and error\n",
        "arr = np.arange(12)\n",
        "arr.reshape(4,3) "
      ],
      "execution_count": null,
      "outputs": [
        {
          "output_type": "execute_result",
          "data": {
            "text/plain": [
              "array([[ 0,  1,  2],\n",
              "       [ 3,  4,  5],\n",
              "       [ 6,  7,  8],\n",
              "       [ 9, 10, 11]])"
            ]
          },
          "metadata": {
            "tags": []
          },
          "execution_count": 41
        }
      ]
    },
    {
      "cell_type": "markdown",
      "metadata": {
        "id": "35l9zgDxVI2B"
      },
      "source": [
        "A common manipulation in numpy is to convert a 1 dimensional array into a 2 dimensional array. You will see this frequently when working with test/train datasets in machine learning."
      ]
    },
    {
      "cell_type": "code",
      "metadata": {
        "colab": {
          "base_uri": "https://localhost:8080/"
        },
        "id": "P8dCXlGSU1Nt",
        "outputId": "cf4aff34-63fd-49e1-e42f-1035884eaa0d"
      },
      "source": [
        "arr = np.arange(9)\n",
        "# reshape into 2 dimensions\n",
        "arr.reshape(-1,1)"
      ],
      "execution_count": null,
      "outputs": [
        {
          "output_type": "execute_result",
          "data": {
            "text/plain": [
              "array([[0],\n",
              "       [1],\n",
              "       [2],\n",
              "       [3],\n",
              "       [4],\n",
              "       [5],\n",
              "       [6],\n",
              "       [7],\n",
              "       [8]])"
            ]
          },
          "metadata": {
            "tags": []
          },
          "execution_count": 42
        }
      ]
    },
    {
      "cell_type": "code",
      "metadata": {
        "colab": {
          "base_uri": "https://localhost:8080/"
        },
        "id": "xwsQwOJtVTpY",
        "outputId": "d0824803-ada0-4a97-81ac-a96dd4a42b5c"
      },
      "source": [
        "# back to one dimension\n",
        "arr.reshape(9)"
      ],
      "execution_count": null,
      "outputs": [
        {
          "output_type": "execute_result",
          "data": {
            "text/plain": [
              "array([0, 1, 2, 3, 4, 5, 6, 7, 8])"
            ]
          },
          "metadata": {
            "tags": []
          },
          "execution_count": 43
        }
      ]
    },
    {
      "cell_type": "markdown",
      "metadata": {
        "id": "E6itz7imVXr8"
      },
      "source": [
        "We can also concatenate arrays"
      ]
    },
    {
      "cell_type": "code",
      "metadata": {
        "colab": {
          "base_uri": "https://localhost:8080/"
        },
        "id": "u7KHsbmEVZ1F",
        "outputId": "503bda4e-18d5-49d3-dceb-455d9920a417"
      },
      "source": [
        "arr1 = np.array([1, 2, 3])\n",
        "arr2 = np.array([4, 5, 6])\n",
        "print(arr1, arr2)"
      ],
      "execution_count": null,
      "outputs": [
        {
          "output_type": "stream",
          "text": [
            "[1 2 3] [4 5 6]\n"
          ],
          "name": "stdout"
        }
      ]
    },
    {
      "cell_type": "code",
      "metadata": {
        "colab": {
          "base_uri": "https://localhost:8080/"
        },
        "id": "eFQ1NUeEV0K-",
        "outputId": "b8f0832b-de8a-44cc-89ec-79ec3e5d23ed"
      },
      "source": [
        "# now a single array\n",
        "np.concatenate((arr1, arr2))"
      ],
      "execution_count": null,
      "outputs": [
        {
          "output_type": "execute_result",
          "data": {
            "text/plain": [
              "array([1, 2, 3, 4, 5, 6])"
            ]
          },
          "metadata": {
            "tags": []
          },
          "execution_count": 45
        }
      ]
    },
    {
      "cell_type": "markdown",
      "metadata": {
        "id": "b76KB-yXpdRE"
      },
      "source": [
        "`vstack` or vertical stack will place the two arrays on top of eachother:"
      ]
    },
    {
      "cell_type": "code",
      "metadata": {
        "colab": {
          "base_uri": "https://localhost:8080/"
        },
        "id": "u1Qq_m9UV3GK",
        "outputId": "5b6c83a6-5c89-4b68-ce8d-1270e58d622f"
      },
      "source": [
        "np.vstack((arr1,arr2))"
      ],
      "execution_count": null,
      "outputs": [
        {
          "output_type": "execute_result",
          "data": {
            "text/plain": [
              "array([[1, 2, 3],\n",
              "       [4, 5, 6]])"
            ]
          },
          "metadata": {
            "tags": []
          },
          "execution_count": 46
        }
      ]
    },
    {
      "cell_type": "markdown",
      "metadata": {
        "id": "Xp2QWDKtpiLL"
      },
      "source": [
        "`hstack` will place them side by side"
      ]
    },
    {
      "cell_type": "code",
      "metadata": {
        "colab": {
          "base_uri": "https://localhost:8080/"
        },
        "id": "Kq9V5YqJV5JC",
        "outputId": "fda5e5d1-34a1-42f5-fa0f-c15537a9ac10"
      },
      "source": [
        "np.hstack((arr1,arr2))"
      ],
      "execution_count": null,
      "outputs": [
        {
          "output_type": "execute_result",
          "data": {
            "text/plain": [
              "array([1, 2, 3, 4, 5, 6])"
            ]
          },
          "metadata": {
            "tags": []
          },
          "execution_count": 47
        }
      ]
    },
    {
      "cell_type": "code",
      "metadata": {
        "colab": {
          "base_uri": "https://localhost:8080/"
        },
        "id": "wpJOsRTOV63O",
        "outputId": "d33e5a59-e329-4ce1-9d63-c33a97dd65a6"
      },
      "source": [
        "arr1 = np.array([[1, 2, 3],[7,8,9]])\n",
        "arr2 = np.array([4, 5, 6])\n",
        "print(arr1)\n",
        "print(arr2)\n",
        "\n",
        "print(arr1.shape)"
      ],
      "execution_count": null,
      "outputs": [
        {
          "output_type": "stream",
          "text": [
            "[[1 2 3]\n",
            " [7 8 9]]\n",
            "[4 5 6]\n",
            "(2, 3)\n"
          ],
          "name": "stdout"
        }
      ]
    },
    {
      "cell_type": "code",
      "metadata": {
        "colab": {
          "base_uri": "https://localhost:8080/"
        },
        "id": "HNoOGJnxV-Z8",
        "outputId": "021a7e16-b4a2-43d2-a94e-979cb8d41ebe"
      },
      "source": [
        "np.vstack((arr1, arr2))"
      ],
      "execution_count": null,
      "outputs": [
        {
          "output_type": "execute_result",
          "data": {
            "text/plain": [
              "array([[1, 2, 3],\n",
              "       [7, 8, 9],\n",
              "       [4, 5, 6]])"
            ]
          },
          "metadata": {
            "tags": []
          },
          "execution_count": 49
        }
      ]
    },
    {
      "cell_type": "markdown",
      "metadata": {
        "id": "K7dl7txfWUig"
      },
      "source": [
        "Lastly, we can also split arrays. We give the indices where the split should be performed"
      ]
    },
    {
      "cell_type": "code",
      "metadata": {
        "colab": {
          "base_uri": "https://localhost:8080/"
        },
        "id": "fSp1PMa_qT9_",
        "outputId": "efb6c4c6-02de-4b87-b645-db3f9297ad5a"
      },
      "source": [
        "arr = np.random.randint(5, 11, (10,10))\n",
        "arr"
      ],
      "execution_count": null,
      "outputs": [
        {
          "output_type": "execute_result",
          "data": {
            "text/plain": [
              "array([[ 5,  6, 10,  6,  7, 10,  6, 10,  6,  7],\n",
              "       [ 6,  6,  6,  5,  5,  5,  7, 10,  9,  6],\n",
              "       [ 6,  7,  6,  5,  9,  8,  6,  5,  8,  9],\n",
              "       [ 8,  5, 10, 10,  8,  7,  8,  6,  6, 10],\n",
              "       [ 7,  5,  6, 10,  9, 10,  6,  6, 10,  5],\n",
              "       [ 8,  6, 10, 10,  7,  8,  9,  5,  9,  8],\n",
              "       [ 8,  8,  9,  8, 10,  9,  8, 10,  7,  8],\n",
              "       [ 9,  6,  8,  6, 10,  7,  5,  7,  8,  6],\n",
              "       [ 6,  9,  6,  9, 10,  5,  8,  9,  5,  6],\n",
              "       [ 6,  5,  6, 10, 10,  5,  9,  9,  5,  9]])"
            ]
          },
          "metadata": {
            "tags": []
          },
          "execution_count": 50
        }
      ]
    },
    {
      "cell_type": "code",
      "metadata": {
        "colab": {
          "base_uri": "https://localhost:8080/"
        },
        "id": "KtXpxz10WHes",
        "outputId": "233c37eb-99c4-4806-c665-71907a4c0217"
      },
      "source": [
        "a, b = np.split(arr, [5])\n",
        "print(a)\n",
        "print(b)"
      ],
      "execution_count": null,
      "outputs": [
        {
          "output_type": "stream",
          "text": [
            "[[ 8  9  7  7 10  8  6  6  9 10]\n",
            " [ 5  9 10  8  8  8  8  8 10 10]\n",
            " [ 7  6  8  5 10  5  5  5  7 10]\n",
            " [ 5  8  9  5  7 10  7  5 10  9]\n",
            " [ 5  7  6  8  7 10  5  8  5 10]]\n",
            "[[ 5  6  8  8 10  6  7  5  9  5]\n",
            " [ 5  7  5  6  6  8 10  9  5  5]\n",
            " [ 7 10  6  9  8  6 10  8  7  7]\n",
            " [ 5 10  9  8  6 10 10  7  5  5]\n",
            " [ 8  7 10  9  7  8  8  7  8  7]]\n"
          ],
          "name": "stdout"
        }
      ]
    },
    {
      "cell_type": "code",
      "metadata": {
        "colab": {
          "base_uri": "https://localhost:8080/"
        },
        "id": "F1sGgY03WtMd",
        "outputId": "c593fc55-0573-481d-e8bd-539920b05715"
      },
      "source": [
        "np.vsplit(arr, [2,4,6,8])"
      ],
      "execution_count": null,
      "outputs": [
        {
          "output_type": "execute_result",
          "data": {
            "text/plain": [
              "[array([[ 5,  6, 10,  6,  7, 10,  6, 10,  6,  7],\n",
              "        [ 6,  6,  6,  5,  5,  5,  7, 10,  9,  6]]),\n",
              " array([[ 6,  7,  6,  5,  9,  8,  6,  5,  8,  9],\n",
              "        [ 8,  5, 10, 10,  8,  7,  8,  6,  6, 10]]),\n",
              " array([[ 7,  5,  6, 10,  9, 10,  6,  6, 10,  5],\n",
              "        [ 8,  6, 10, 10,  7,  8,  9,  5,  9,  8]]),\n",
              " array([[ 8,  8,  9,  8, 10,  9,  8, 10,  7,  8],\n",
              "        [ 9,  6,  8,  6, 10,  7,  5,  7,  8,  6]]),\n",
              " array([[ 6,  9,  6,  9, 10,  5,  8,  9,  5,  6],\n",
              "        [ 6,  5,  6, 10, 10,  5,  9,  9,  5,  9]])]"
            ]
          },
          "metadata": {
            "tags": []
          },
          "execution_count": 51
        }
      ]
    },
    {
      "cell_type": "code",
      "metadata": {
        "colab": {
          "base_uri": "https://localhost:8080/"
        },
        "id": "ri1ErgORWwdU",
        "outputId": "d91feaff-5868-4247-a00a-8973ad139e28"
      },
      "source": [
        "np.hsplit(arr, [5])"
      ],
      "execution_count": null,
      "outputs": [
        {
          "output_type": "execute_result",
          "data": {
            "text/plain": [
              "[array([[ 5,  6, 10,  6,  7],\n",
              "        [ 6,  6,  6,  5,  5],\n",
              "        [ 6,  7,  6,  5,  9],\n",
              "        [ 8,  5, 10, 10,  8],\n",
              "        [ 7,  5,  6, 10,  9],\n",
              "        [ 8,  6, 10, 10,  7],\n",
              "        [ 8,  8,  9,  8, 10],\n",
              "        [ 9,  6,  8,  6, 10],\n",
              "        [ 6,  9,  6,  9, 10],\n",
              "        [ 6,  5,  6, 10, 10]]), array([[10,  6, 10,  6,  7],\n",
              "        [ 5,  7, 10,  9,  6],\n",
              "        [ 8,  6,  5,  8,  9],\n",
              "        [ 7,  8,  6,  6, 10],\n",
              "        [10,  6,  6, 10,  5],\n",
              "        [ 8,  9,  5,  9,  8],\n",
              "        [ 9,  8, 10,  7,  8],\n",
              "        [ 7,  5,  7,  8,  6],\n",
              "        [ 5,  8,  9,  5,  6],\n",
              "        [ 5,  9,  9,  5,  9]])]"
            ]
          },
          "metadata": {
            "tags": []
          },
          "execution_count": 52
        }
      ]
    },
    {
      "cell_type": "markdown",
      "metadata": {
        "id": "h8-4JzxZqqnj"
      },
      "source": [
        "### 🏋️ Exercise 5: Reshaping and Concatenating\n",
        "\n",
        "We'll practice a few of these methods we've learned.\n",
        "\n",
        "1. make `arr2` match the shape of `arr1` using `reshape`\n",
        "2. stack `arr1` on top of `arr2` using `vstack` and call this new array `arr`\n",
        "3. replace all the even columns of `arr` with zeros\n",
        "4. return the sum of `arr` using `arr.sum()`\n",
        "\n",
        "starting code:\n",
        "\n",
        "```\n",
        "np.random.seed(42)\n",
        "arr1 = np.random.randint(5, 11, (5,10))\n",
        "arr2 = np.random.randint(5, 11, (10,5))\n",
        "```\n",
        "\n",
        "expected output:\n",
        "\n",
        "```\n",
        "374\n",
        "```"
      ]
    },
    {
      "cell_type": "code",
      "metadata": {
        "colab": {
          "base_uri": "https://localhost:8080/"
        },
        "id": "AQ4itZfsqudA",
        "outputId": "7d772b2e-c46b-4227-bb5f-8c68a46c06f1"
      },
      "source": [
        "np.random.seed(42)\n",
        "arr1 = np.random.randint(5, 11, (5,10))\n",
        "arr2 = np.random.randint(5, 11, (10,5))\n",
        "print(arr1,end='\\n\\n')\n",
        "print(arr2)"
      ],
      "execution_count": null,
      "outputs": [
        {
          "output_type": "stream",
          "text": [
            "[[ 8  9  7  9  9  6  7  7  7  9]\n",
            " [ 8  7 10  9  6  8 10 10  6  8]\n",
            " [ 9  5  8  6 10  9  8  5  5  7]\n",
            " [ 7  6  8  8 10 10 10  7  8  8]\n",
            " [ 5  7  9  7  9  5  6  8  5  8]]\n",
            "\n",
            "[[10  6  6  5  6]\n",
            " [ 9  6  8  8  8]\n",
            " [ 8  9  7 10  5]\n",
            " [ 8  6  8  6 10]\n",
            " [10 10  6  8 10]\n",
            " [ 9  6  6  8  6]\n",
            " [ 6 10  8 10 10]\n",
            " [ 8  5 10  9  9]\n",
            " [ 6  9  6  5  8]\n",
            " [ 8  8  9  5  9]]\n"
          ],
          "name": "stdout"
        }
      ]
    },
    {
      "cell_type": "code",
      "metadata": {
        "colab": {
          "base_uri": "https://localhost:8080/"
        },
        "id": "3Gf_f4bjq8tQ",
        "outputId": "fbeaed1b-ea8a-4d2a-f02e-21b54a7e7a3d"
      },
      "source": [
        "# Cell for Exercise 5"
      ],
      "execution_count": null,
      "outputs": [
        {
          "output_type": "execute_result",
          "data": {
            "text/plain": [
              "374"
            ]
          },
          "metadata": {
            "tags": []
          },
          "execution_count": 97
        }
      ]
    },
    {
      "cell_type": "markdown",
      "metadata": {
        "id": "4jvaFov5o5F-"
      },
      "source": [
        "## 7.5 Additional Exercises"
      ]
    },
    {
      "cell_type": "markdown",
      "metadata": {
        "id": "0PPaZvlct0fH"
      },
      "source": [
        "### 🏋️ Exercise 6: boolean Array\n",
        "\n",
        "Create a 3x3 array of all True's (booleans)"
      ]
    },
    {
      "cell_type": "code",
      "metadata": {
        "id": "9lphFb2ksnEC"
      },
      "source": [
        "# Cell for Exercise 6"
      ],
      "execution_count": null,
      "outputs": []
    },
    {
      "cell_type": "markdown",
      "metadata": {
        "id": "6I9yYNVX4AVk"
      },
      "source": [
        "### 🏋️ Exercise 7: Index on Conditional\n",
        "\n",
        "extract all numbers divisible by 3\n",
        "\n",
        "```\n",
        "arr = np.array([0, 1, 2, 3, 4, 5, 6, 7, 8, 9])\n",
        "```"
      ]
    },
    {
      "cell_type": "code",
      "metadata": {
        "id": "aAdTRdS84KoA"
      },
      "source": [
        "# Cell for Exercise 7\n",
        "arr = np.array([0, 1, 2, 3, 4, 5, 6, 7, 8, 9])"
      ],
      "execution_count": null,
      "outputs": []
    },
    {
      "cell_type": "markdown",
      "metadata": {
        "id": "CPAEnQOg4jyy"
      },
      "source": [
        "### 7.5.3 `np.where`\n",
        "\n",
        "There is a nifty tool, `np.where()`. The syntax works like `np.where(<where this condition is true> , <return elements from this array>, <otherwise return elements from this aray>)`"
      ]
    },
    {
      "cell_type": "code",
      "metadata": {
        "colab": {
          "base_uri": "https://localhost:8080/"
        },
        "id": "yzF9NPCn4Mss",
        "outputId": "2e35ccaa-22a8-4d96-c396-458a31c50768"
      },
      "source": [
        "# Example\n",
        "a = np.arange(10)\n",
        "np.where(a<5, a, a*10)"
      ],
      "execution_count": null,
      "outputs": [
        {
          "output_type": "execute_result",
          "data": {
            "text/plain": [
              "array([ 0,  1,  2,  3,  4, 50, 60, 70, 80, 90])"
            ]
          },
          "metadata": {
            "tags": []
          },
          "execution_count": 3
        }
      ]
    },
    {
      "cell_type": "markdown",
      "metadata": {
        "id": "q9VDLHKo5Dw7"
      },
      "source": [
        "\n",
        "### 7.5.4 `np.argwhere`\n",
        "\n",
        "A similar but slightly different tool is `np.argwhere` which will return the indices of the array where the conditional is true"
      ]
    },
    {
      "cell_type": "code",
      "metadata": {
        "colab": {
          "base_uri": "https://localhost:8080/"
        },
        "id": "VNIiI71w424D",
        "outputId": "49faf47d-142b-4a3c-9fb9-72f1b582c8e7"
      },
      "source": [
        "# Example\n",
        "np.argwhere(a<5)"
      ],
      "execution_count": null,
      "outputs": [
        {
          "output_type": "execute_result",
          "data": {
            "text/plain": [
              "array([[0],\n",
              "       [1],\n",
              "       [2],\n",
              "       [3],\n",
              "       [4]])"
            ]
          },
          "metadata": {
            "tags": []
          },
          "execution_count": 7
        }
      ]
    },
    {
      "cell_type": "markdown",
      "metadata": {
        "id": "kXXtV9eW513-"
      },
      "source": [
        "### 🏋️ Exercise 8: Edit a Copy not a View\n",
        "\n",
        "replace all odd numbers in `arr` with -1 without changing `arr` (return a new array using `np.where`)"
      ]
    },
    {
      "cell_type": "code",
      "metadata": {
        "id": "PFsqaXw75Jgk"
      },
      "source": [
        "# Cell for Exercise 8\n",
        "arr = np.array([0, 1, 2, 3, 4, 5, 6, 7, 8, 9])"
      ],
      "execution_count": null,
      "outputs": []
    },
    {
      "cell_type": "markdown",
      "metadata": {
        "id": "5-5vPilS75PB"
      },
      "source": [
        "### 🏋️ Exercise 9: Read NumPy Documentation\n",
        "\n",
        "create the following array without hard coading (i.e. don't write any of the values in your coad)\n",
        "\n",
        "```\n",
        "a = np.array([1,2,3])`\n",
        "# desired output:\n",
        "#> array([1, 1, 1, 2, 2, 2, 3, 3, 3, 1, 2, 3, 1, 2, 3, 1, 2, 3])\n",
        "```\n",
        "\n",
        "Hints:\n",
        "\n",
        "* [repeat](https://numpy.org/doc/stable/reference/generated/numpy.repeat.html)\n",
        "* [tile](https://numpy.org/doc/stable/reference/generated/numpy.tile.html)"
      ]
    },
    {
      "cell_type": "code",
      "metadata": {
        "id": "Hty9Jez9797t"
      },
      "source": [
        "# Cell for Exercise 9\n",
        "a = np.array([1,2,3])\n",
        "# desired output:\n",
        "#> array([1, 1, 1, 2, 2, 2, 3, 3, 3, 1, 2, 3, 1, 2, 3, 1, 2, 3])"
      ],
      "execution_count": null,
      "outputs": []
    },
    {
      "cell_type": "markdown",
      "metadata": {
        "id": "w__0vO9f_Hoj"
      },
      "source": [
        "### 🏋️ Exercise 10: More Slicing\n",
        "\n",
        "swap columns 2 and 3 in `arr`"
      ]
    },
    {
      "cell_type": "code",
      "metadata": {
        "id": "NiQB_GNd-2-K"
      },
      "source": [
        "# Cell for Exercise 10\n",
        "arr = np.arange(9).reshape(3,3)"
      ],
      "execution_count": null,
      "outputs": []
    },
    {
      "cell_type": "markdown",
      "metadata": {
        "id": "ueveZOtAeYG3"
      },
      "source": [
        "### 🏋️ Exercise 11: Debug a Class Method\n",
        "\n",
        "Your friend is developing a new pokemon game. They are excited to release but are running into some trouble! "
      ]
    },
    {
      "cell_type": "code",
      "metadata": {
        "id": "SIPJdcmqdKql"
      },
      "source": [
        "class Pokeball:\n",
        "  def __init__(self, contains=None, type_name=\"poke ball\"):\n",
        "    self.contains = contains\n",
        "    self.type_name = type_name\n",
        "    self.catch_rate = 0.50 # note this attribute is not accessible upon init\n",
        "\n",
        "  # the method catch, will update self.contains, if a catch is successful\n",
        "  # it will also use self.catch_rate to set the performance of the catch\n",
        "  def catch(self, pokemon):\n",
        "    if self.contains == None:\n",
        "      if random.random() < self.catch_rate:\n",
        "        self.contains = pokemon\n",
        "        print(f\"{pokemon} captured!\")\n",
        "      else:\n",
        "        print(f\"{pokemon} escaped!\")\n",
        "        pass\n",
        "    else:\n",
        "      print(\"pokeball is not empty!\")\n",
        "      \n",
        "  def release(self):\n",
        "    if self.contains == None:\n",
        "      print(\"Pokeball is already empty\")\n",
        "    else:\n",
        "      print(self.contains, \"has been released\")\n",
        "      self.contains = None\n",
        "\n",
        "\n",
        "class Pokemon():\n",
        "  def __init__(self, name, weight, speed, type_):\n",
        "    self.name = name\n",
        "    self.weight = weight\n",
        "    self.speed = speed\n",
        "    self.type_ = type_\n",
        "\n",
        "class FastBall(Pokeball):\n",
        "  def __init__(self, contains=None, type_name=\"Fastball\"):\n",
        "    Pokeball.__init__(self, contains, type_name)\n",
        "    self.catch_rate = 0.6\n",
        "\n",
        "  def catch_fast(self, pokemon):\n",
        "    if pokemon.speed > 100:\n",
        "      if self.contains == None:\n",
        "        self.contains = pokemon\n",
        "        print(pokemon.name, \"has been captured\")\n",
        "      else:\n",
        "        print(\"Pokeball is not empty\")\n",
        "    else:\n",
        "      self.catch(pokemon)\n"
      ],
      "execution_count": null,
      "outputs": []
    },
    {
      "cell_type": "markdown",
      "metadata": {
        "id": "_CCnneo8mLba"
      },
      "source": [
        "They're concerned that the object `FastBall` doesn't return the pokemon's name when executing `print(fast.contains)` when they know the pokeball contains a pokemon. Help them find the bug, then write the following unit tests:\n",
        "\n",
        "1. showing that the pokeball updates properly with the name of the pokemon after it makes a capture of a pokemon with a speed > 100\n",
        "2. showing that the `catch_rate` of 0.6 is resulting in a 60% catch rate for pokemon with speeds < 100"
      ]
    },
    {
      "cell_type": "code",
      "metadata": {
        "colab": {
          "base_uri": "https://localhost:8080/"
        },
        "id": "H5Z76ouXT8KF",
        "outputId": "25e6bb63-a968-48d3-f135-42b874a510d9"
      },
      "source": [
        "# Your friend shows you this code \n",
        "fast = FastBall()\n",
        "\n",
        "mewtwo = Pokemon(name='Mewtwo', \n",
        "                 weight=18,\n",
        "                 speed=110, \n",
        "                 type_='Psychic')\n",
        "\n",
        "print(fast.contains)\n",
        "\n",
        "fast.catch_fast(mewtwo)\n",
        "\n",
        "# this is the line they are concerned about\n",
        "# why does this not return MewTwo?\n",
        "print(fast.contains)\n",
        "\n",
        "fast.catch_fast(mewtwo)"
      ],
      "execution_count": null,
      "outputs": [
        {
          "output_type": "stream",
          "text": [
            "None\n",
            "Mewtwo has been captured\n",
            "<__main__.Pokemon object at 0x7fd4bfe612d0>\n",
            "Pokeball is not empty\n"
          ],
          "name": "stdout"
        }
      ]
    },
    {
      "cell_type": "markdown",
      "metadata": {
        "id": "sp3yreNk5iN7"
      },
      "source": [
        "# Part 2 (Optional): Use a Test Runner"
      ]
    },
    {
      "cell_type": "markdown",
      "metadata": {
        "id": "g58ZI-EIeakm"
      },
      "source": [
        "Create the following files:\n",
        "\n",
        "* `pokemon.py`\n",
        "* `test_pokemon.py`\n",
        "\n",
        "paste the following into `pokemon.py`:\n",
        "\n",
        "```\n",
        "import random\n",
        "import numpy as np\n",
        "\n",
        "class Pokeball:\n",
        "  def __init__(self, contains=None, type_name=\"poke ball\"):\n",
        "    self.contains = contains\n",
        "    self.type_name = type_name\n",
        "    self.catch_rate = 0.50 # note this attribute is not accessible upon init\n",
        "\n",
        "  # the method catch, will update self.contains, if a catch is successful\n",
        "  # it will also use self.catch_rate to set the performance of the catch\n",
        "  def catch(self, pokemon):\n",
        "    if self.contains == None:\n",
        "      if random.random() < self.catch_rate:\n",
        "        self.contains = pokemon\n",
        "        print(f\"{pokemon} captured!\")\n",
        "      else:\n",
        "        print(f\"{pokemon} escaped!\")\n",
        "        pass\n",
        "    else:\n",
        "      print(\"pokeball is not empty!\")\n",
        "      \n",
        "  def release(self):\n",
        "    if self.contains == None:\n",
        "      print(\"Pokeball is already empty\")\n",
        "    else:\n",
        "      print(self.contains, \"has been released\")\n",
        "      self.contains = None\n",
        "\n",
        "\n",
        "class Pokemon():\n",
        "  def __init__(self, name, weight, speed, type_):\n",
        "    self.name = name\n",
        "    self.weight = weight\n",
        "    self.speed = speed\n",
        "    self.type_ = type_\n",
        "\n",
        "class FastBall(Pokeball):\n",
        "  def __init__(self, contains=None, type_name=\"Fastball\"):\n",
        "    Pokeball.__init__(self, contains, type_name)\n",
        "    self.catch_rate = 0.6\n",
        "\n",
        "  def catch_fast(self, pokemon):\n",
        "    if pokemon.speed > 100:\n",
        "      if self.contains == None:\n",
        "        self.contains = pokemon\n",
        "        print(pokemon.name, \"has been captured\")\n",
        "      else:\n",
        "        print(\"Pokeball is not empty\")\n",
        "    else:\n",
        "      self.catch(pokemon)\n",
        "\n",
        "```\n",
        "\n",
        "in `test_pokemon.py` paste any unit tests you've written along with the imports at the top of the file (be sure to import any other libraries you used in your unit tests as well)\n",
        "\n",
        "```\n",
        "from pokemon import *\n",
        "import random\n",
        "import numpy as np\n",
        "\n",
        "### YOUR UNIT TESTS HERE ###\n",
        "def test_<name_of_your_test>():\n",
        "  # ....\n",
        "  assert <your assert statement>\n",
        "```\n",
        "\n",
        "make sure `pokemon.py` and `test_pokemon.py` are in the same directory then run the command\n",
        "\n",
        "```\n",
        "pytest\n",
        "```\n",
        "\n",
        "from the command line. You should get a readout like the following\n",
        "\n",
        "```\n",
        "================================================= test session starts ==================================================\n",
        "platform linux -- Python 3.8.1, pytest-6.2.1, py-1.10.0, pluggy-0.13.1\n",
        "rootdir: /mnt/c/Users/wesley/Documents/apps/temp_c3_l2\n",
        "plugins: dash-1.20.0, anyio-2.2.0\n",
        "collected 1 item\n",
        "\n",
        "test_pokemon.py .                                                                                                [100%]\n",
        "\n",
        "================================================== 1 passed in 0.06s ===================================================\n",
        "```"
      ]
    }
  ]
}