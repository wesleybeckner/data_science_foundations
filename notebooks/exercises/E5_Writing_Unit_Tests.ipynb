{
  "nbformat": 4,
  "nbformat_minor": 0,
  "metadata": {
    "colab": {
      "name": "E5_Writing_Unit_Tests.ipynb",
      "provenance": [],
      "collapsed_sections": [],
      "toc_visible": true,
      "include_colab_link": true
    },
    "kernelspec": {
      "name": "python3",
      "display_name": "Python 3"
    },
    "language_info": {
      "name": "python"
    }
  },
  "cells": [
    {
      "cell_type": "markdown",
      "metadata": {
        "id": "view-in-github",
        "colab_type": "text"
      },
      "source": [
        "<a href=\"https://colab.research.google.com/github/wesleybeckner/data_science_foundations/blob/main/notebooks/exercises/E5_Writing_Unit_Tests.ipynb\" target=\"_parent\"><img src=\"https://colab.research.google.com/assets/colab-badge.svg\" alt=\"Open In Colab\"/></a>"
      ]
    },
    {
      "cell_type": "markdown",
      "metadata": {
        "id": "cPmio-GwmEwG"
      },
      "source": [
        "# Data Science Foundations, Lab 5: Writing Unit Tests\n",
        "\n",
        "**Instructor**: Wesley Beckner\n",
        "\n",
        "**Contact**: wesleybeckner@gmail.com\n",
        "<br>\n",
        "\n",
        "---\n",
        "\n",
        "<br>\n",
        "\n",
        "We will try our hand at writing unit tests\n",
        "\n",
        "<br>\n",
        "\n",
        "---"
      ]
    },
    {
      "cell_type": "markdown",
      "metadata": {
        "id": "GqvpwnmXCD6T"
      },
      "source": [
        "## Import Libraries"
      ]
    },
    {
      "cell_type": "code",
      "metadata": {
        "id": "rzlRjMe_CF21"
      },
      "source": [
        "# for numpy section\n",
        "import numpy as np\n",
        "np.random.seed(42)"
      ],
      "execution_count": null,
      "outputs": []
    },
    {
      "cell_type": "code",
      "metadata": {
        "id": "oBpdlPUDHSJV"
      },
      "source": [
        "# for debugging section\n",
        "import random\n",
        "from contextlib import contextmanager\n",
        "import sys, os\n",
        "\n",
        "@contextmanager\n",
        "def suppress_stdout():\n",
        "    with open(os.devnull, \"w\") as devnull:\n",
        "        old_stdout = sys.stdout\n",
        "        sys.stdout = devnull\n",
        "        try:  \n",
        "            yield\n",
        "        finally:\n",
        "            sys.stdout = old_stdout"
      ],
      "execution_count": null,
      "outputs": []
    },
    {
      "cell_type": "markdown",
      "metadata": {
        "id": "ueveZOtAeYG3"
      },
      "source": [
        "### 🏋️ Exercise 1: Debug a Class Method\n",
        "\n",
        "Your friend is developing a new pokemon game. They are excited to release but are running into some trouble! "
      ]
    },
    {
      "cell_type": "code",
      "metadata": {
        "id": "SIPJdcmqdKql"
      },
      "source": [
        "class Pokeball:\n",
        "  def __init__(self, contains=None, type_name=\"poke ball\"):\n",
        "    self.contains = contains\n",
        "    self.type_name = type_name\n",
        "    self.catch_rate = 0.50 # note this attribute is not accessible upon init\n",
        "\n",
        "  # the method catch, will update self.contains, if a catch is successful\n",
        "  # it will also use self.catch_rate to set the performance of the catch\n",
        "  def catch(self, pokemon):\n",
        "    if self.contains == None:\n",
        "      if random.random() < self.catch_rate:\n",
        "        self.contains = pokemon\n",
        "        print(f\"{pokemon} captured!\")\n",
        "      else:\n",
        "        print(f\"{pokemon} escaped!\")\n",
        "        pass\n",
        "    else:\n",
        "      print(\"pokeball is not empty!\")\n",
        "      \n",
        "  def release(self):\n",
        "    if self.contains == None:\n",
        "      print(\"Pokeball is already empty\")\n",
        "    else:\n",
        "      print(self.contains, \"has been released\")\n",
        "      self.contains = None\n",
        "\n",
        "\n",
        "class Pokemon():\n",
        "  def __init__(self, name, weight, speed, type_):\n",
        "    self.name = name\n",
        "    self.weight = weight\n",
        "    self.speed = speed\n",
        "    self.type_ = type_\n",
        "\n",
        "class FastBall(Pokeball):\n",
        "  def __init__(self, contains=None, type_name=\"Fastball\"):\n",
        "    Pokeball.__init__(self, contains, type_name)\n",
        "    self.catch_rate = 0.6\n",
        "\n",
        "  def catch_fast(self, pokemon):\n",
        "    if pokemon.speed > 100:\n",
        "      if self.contains == None:\n",
        "        self.contains = pokemon\n",
        "        print(pokemon.name, \"has been captured\")\n",
        "      else:\n",
        "        print(\"Pokeball is not empty\")\n",
        "    else:\n",
        "      self.catch(pokemon)\n"
      ],
      "execution_count": null,
      "outputs": []
    },
    {
      "cell_type": "markdown",
      "metadata": {
        "id": "_CCnneo8mLba"
      },
      "source": [
        "They're concerned that the object `FastBall` doesn't return the pokemon's name when executing `print(fast.contains)` when they know the pokeball contains a pokemon. Help them find the bug, then write the following unit tests:\n",
        "\n",
        "1. showing that the pokeball updates properly with the name of the pokemon after it makes a capture of a pokemon with a speed > 100\n",
        "2. showing that the `catch_rate` of 0.6 is resulting in a 60% catch rate for pokemon with speeds < 100"
      ]
    },
    {
      "cell_type": "code",
      "metadata": {
        "colab": {
          "base_uri": "https://localhost:8080/"
        },
        "id": "H5Z76ouXT8KF",
        "outputId": "25e6bb63-a968-48d3-f135-42b874a510d9"
      },
      "source": [
        "# Your friend shows you this code \n",
        "fast = FastBall()\n",
        "\n",
        "mewtwo = Pokemon(name='Mewtwo', \n",
        "                 weight=18,\n",
        "                 speed=110, \n",
        "                 type_='Psychic')\n",
        "\n",
        "print(fast.contains)\n",
        "\n",
        "fast.catch_fast(mewtwo)\n",
        "\n",
        "# this is the line they are concerned about\n",
        "# why does this not return MewTwo?\n",
        "print(fast.contains)\n",
        "\n",
        "fast.catch_fast(mewtwo)"
      ],
      "execution_count": null,
      "outputs": [
        {
          "output_type": "stream",
          "text": [
            "None\n",
            "Mewtwo has been captured\n",
            "<__main__.Pokemon object at 0x7fd4bfe612d0>\n",
            "Pokeball is not empty\n"
          ],
          "name": "stdout"
        }
      ]
    },
    {
      "cell_type": "markdown",
      "metadata": {
        "id": "sp3yreNk5iN7"
      },
      "source": [
        "# Part 2 (Optional): Use a Test Runner"
      ]
    },
    {
      "cell_type": "markdown",
      "metadata": {
        "id": "g58ZI-EIeakm"
      },
      "source": [
        "Create the following files:\n",
        "\n",
        "* `pokemon.py`\n",
        "* `test_pokemon.py`\n",
        "\n",
        "paste the following into `pokemon.py`:\n",
        "\n",
        "```\n",
        "import random\n",
        "import numpy as np\n",
        "\n",
        "class Pokeball:\n",
        "  def __init__(self, contains=None, type_name=\"poke ball\"):\n",
        "    self.contains = contains\n",
        "    self.type_name = type_name\n",
        "    self.catch_rate = 0.50 # note this attribute is not accessible upon init\n",
        "\n",
        "  # the method catch, will update self.contains, if a catch is successful\n",
        "  # it will also use self.catch_rate to set the performance of the catch\n",
        "  def catch(self, pokemon):\n",
        "    if self.contains == None:\n",
        "      if random.random() < self.catch_rate:\n",
        "        self.contains = pokemon\n",
        "        print(f\"{pokemon} captured!\")\n",
        "      else:\n",
        "        print(f\"{pokemon} escaped!\")\n",
        "        pass\n",
        "    else:\n",
        "      print(\"pokeball is not empty!\")\n",
        "      \n",
        "  def release(self):\n",
        "    if self.contains == None:\n",
        "      print(\"Pokeball is already empty\")\n",
        "    else:\n",
        "      print(self.contains, \"has been released\")\n",
        "      self.contains = None\n",
        "\n",
        "\n",
        "class Pokemon():\n",
        "  def __init__(self, name, weight, speed, type_):\n",
        "    self.name = name\n",
        "    self.weight = weight\n",
        "    self.speed = speed\n",
        "    self.type_ = type_\n",
        "\n",
        "class FastBall(Pokeball):\n",
        "  def __init__(self, contains=None, type_name=\"Fastball\"):\n",
        "    Pokeball.__init__(self, contains, type_name)\n",
        "    self.catch_rate = 0.6\n",
        "\n",
        "  def catch_fast(self, pokemon):\n",
        "    if pokemon.speed > 100:\n",
        "      if self.contains == None:\n",
        "        self.contains = pokemon\n",
        "        print(pokemon.name, \"has been captured\")\n",
        "      else:\n",
        "        print(\"Pokeball is not empty\")\n",
        "    else:\n",
        "      self.catch(pokemon)\n",
        "\n",
        "```\n",
        "\n",
        "in `test_pokemon.py` paste any unit tests you've written along with the imports at the top of the file (be sure to import any other libraries you used in your unit tests as well)\n",
        "\n",
        "```\n",
        "from pokemon import *\n",
        "import random\n",
        "import numpy as np\n",
        "\n",
        "### YOUR UNIT TESTS HERE ###\n",
        "def test_<name_of_your_test>():\n",
        "  # ....\n",
        "  assert <your assert statement>\n",
        "```\n",
        "\n",
        "make sure `pokemon.py` and `test_pokemon.py` are in the same directory then run the command\n",
        "\n",
        "```\n",
        "pytest\n",
        "```\n",
        "\n",
        "from the command line. You should get a readout like the following\n",
        "\n",
        "```\n",
        "================================================= test session starts ==================================================\n",
        "platform linux -- Python 3.8.1, pytest-6.2.1, py-1.10.0, pluggy-0.13.1\n",
        "rootdir: /mnt/c/Users/wesley/Documents/apps/temp_c3_l2\n",
        "plugins: dash-1.20.0, anyio-2.2.0\n",
        "collected 1 item\n",
        "\n",
        "test_pokemon.py .                                                                                                [100%]\n",
        "\n",
        "================================================== 1 passed in 0.06s ===================================================\n",
        "```"
      ]
    }
  ]
}