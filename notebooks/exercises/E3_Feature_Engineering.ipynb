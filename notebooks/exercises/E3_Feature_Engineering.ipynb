{
  "nbformat": 4,
  "nbformat_minor": 0,
  "metadata": {
    "colab": {
      "name": "E3_Feature_Engineering.ipynb",
      "provenance": [],
      "collapsed_sections": [],
      "include_colab_link": true
    },
    "kernelspec": {
      "name": "python3",
      "display_name": "Python 3"
    },
    "language_info": {
      "name": "python"
    }
  },
  "cells": [
    {
      "cell_type": "markdown",
      "metadata": {
        "id": "view-in-github",
        "colab_type": "text"
      },
      "source": [
        "<a href=\"https://colab.research.google.com/github/wesleybeckner/data_science_foundations/blob/main/notebooks/exercises/E3_Feature_Engineering.ipynb\" target=\"_parent\"><img src=\"https://colab.research.google.com/assets/colab-badge.svg\" alt=\"Open In Colab\"/></a>"
      ]
    },
    {
      "cell_type": "markdown",
      "metadata": {
        "id": "3rZ3ZWSkhxyS"
      },
      "source": [
        "# Data Science Foundations, Lab 3: Practice with Feature Engineering and Pipelines\n",
        "\n",
        "**Instructor**: Wesley Beckner\n",
        "\n",
        "**Contact**: wesleybeckner@gmail.com\n",
        "\n",
        "---\n",
        "\n",
        "<br>\n",
        "\n",
        "In this lab we will continue to practice creation of pipelines and feature engineering. We will use the wine dataset.\n",
        "\n",
        "<br>\n",
        "\n",
        "---\n",
        "\n",
        "\n"
      ]
    },
    {
      "cell_type": "markdown",
      "metadata": {
        "id": "GA0l_pwYn9g1"
      },
      "source": [
        "# L1 Q1: \n",
        "\n",
        "Fill in any missing data in your dataset using imputation and use this new data for Q2-Q3"
      ]
    },
    {
      "cell_type": "code",
      "metadata": {
        "id": "BR11MzzIj_ga"
      },
      "source": [
        "# Code Cell for L1 Q1"
      ],
      "execution_count": null,
      "outputs": []
    },
    {
      "cell_type": "markdown",
      "metadata": {
        "id": "Sp832EkKi67C"
      },
      "source": [
        "# L1 Q2:\n",
        "\n",
        "Use 3 different scaling methods on the input data and evaluate how they affect VIF, kurtosis, and skew\n",
        "\n"
      ]
    },
    {
      "cell_type": "code",
      "metadata": {
        "id": "Vb1NyIqZmqYg"
      },
      "source": [
        "# Code Cell for L1 Q2"
      ],
      "execution_count": null,
      "outputs": []
    },
    {
      "cell_type": "markdown",
      "metadata": {
        "id": "e9MwkxIGlc0k"
      },
      "source": [
        "# L1 Q3:\n",
        "\n",
        "Create a Pipeline using one of the scaling methods in sklearn and linear or logistic regression \n",
        "\n",
        "If you are using the wine dataset:\n",
        "**_dependent variable:_** wine quality\n",
        "\n"
      ]
    },
    {
      "cell_type": "code",
      "metadata": {
        "id": "w-mykt4KhnA2"
      },
      "source": [
        "# Code Cell for L1 Q3"
      ],
      "execution_count": null,
      "outputs": []
    }
  ]
}